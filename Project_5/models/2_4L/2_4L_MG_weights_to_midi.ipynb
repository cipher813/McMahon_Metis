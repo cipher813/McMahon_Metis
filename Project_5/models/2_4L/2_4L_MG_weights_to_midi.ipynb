{
 "cells": [
  {
   "cell_type": "markdown",
   "metadata": {},
   "source": [
    "# AI Jukebox"
   ]
  },
  {
   "cell_type": "markdown",
   "metadata": {},
   "source": [
    "### Generate Midi File\n",
    "Plug in trained weights and notes file to generate midi.  "
   ]
  },
  {
   "cell_type": "code",
   "execution_count": 1,
   "metadata": {},
   "outputs": [
    {
     "name": "stderr",
     "output_type": "stream",
     "text": [
      "/home/cipher000/anaconda3/envs/MusicGenerator1/lib/python3.6/site-packages/h5py/__init__.py:36: FutureWarning: Conversion of the second argument of issubdtype from `float` to `np.floating` is deprecated. In future, it will be treated as `np.float64 == np.dtype(float).type`.\n",
      "  from ._conv import register_converters as _register_converters\n",
      "Using TensorFlow backend.\n",
      "/home/cipher000/anaconda3/envs/MusicGenerator1/lib/python3.6/importlib/_bootstrap.py:219: RuntimeWarning: compiletime version 3.5 of module 'tensorflow.python.framework.fast_tensor_util' does not match runtime version 3.6\n",
      "  return f(*args, **kwds)\n"
     ]
    }
   ],
   "source": [
    "import os\n",
    "os.environ['CUDA_VISIBLE_DEVICES'] = '-1'\n",
    "\n",
    "import sys\n",
    "from datetime import datetime\n",
    "import re\n",
    "import pickle\n",
    "# from music21 import instrument\n",
    "\n",
    "import processing as pr\n",
    "import neural_network as nn\n",
    "import generate as cr\n",
    "import utils as ut"
   ]
  },
  {
   "cell_type": "code",
   "execution_count": 2,
   "metadata": {},
   "outputs": [
    {
     "data": {
      "text/plain": [
       "'/home/cipher000/anaconda3/envs/MusicGenerator1/bin/python'"
      ]
     },
     "execution_count": 2,
     "metadata": {},
     "output_type": "execute_result"
    }
   ],
   "source": [
    "sys.executable"
   ]
  },
  {
   "cell_type": "code",
   "execution_count": 3,
   "metadata": {},
   "outputs": [],
   "source": [
    "weight_file = 'output/201803282154-Music-200-100-weight-200-3.0149-5.8076.hdf5'\n",
    "note_file = 'output/201803282154-Music-200-100-input_notes'\n",
    "\n",
    "timestamp = re.sub(r'[-: ]','',str(datetime.now()).split('.')[0])[:-2]\n",
    "# output_name = midi_files.split('/')[-3]\n",
    "# epochs = 200\n",
    "# batch_size = 128\n",
    "sequence_length = 100 # the LSTM RNN will consider this many notes\n",
    "output_tag = 'output/{}-{}-'.format(timestamp, sequence_length)\n",
    "notes_generated = 500"
   ]
  },
  {
   "cell_type": "code",
   "execution_count": 4,
   "metadata": {},
   "outputs": [],
   "source": [
    "# convert fully trained weights to midi file\n",
    "def weights_to_midi(note_file, sequence_length, weight_file):\n",
    "    with open(note_file, 'rb') as filepath:\n",
    "        notes = pickle.load(filepath)\n",
    "    network_input, network_output, n_patterns, n_vocab, pitchnames = pr.prepare_sequences(notes, sequence_length)\n",
    "    normalized_input = pr.reshape_for_creation(network_input, n_patterns, sequence_length, n_vocab)\n",
    "    model = nn.create_network(normalized_input, n_vocab, weight_file)\n",
    "    prediction_output= cr.generate_notes(model, network_input, pitchnames,notes_generated, n_vocab)\n",
    "    output_notes, midi_file = cr.create_midi(prediction_output, output_tag, sequence_length)\n",
    "    return output_notes, midi_file, model"
   ]
  },
  {
   "cell_type": "code",
   "execution_count": 5,
   "metadata": {},
   "outputs": [
    {
     "name": "stdout",
     "output_type": "stream",
     "text": [
      "\n",
      "**Preparing sequences for training**\n",
      "Pitchnames (unique notes/chords from 'notes') at length 358: ['0', '0.1', '0.1.5', '0.1.6', '0.2', '0.2.3.7', '0.2.4.7', '0.2.5', '0.2.6', '0.2.7', '0.3', '0.3.5', '0.3.5.8', '0.3.6', '0.3.6.8', '0.3.6.9', '0.3.7', '0.4', '0.4.5', '0.4.6', '0.4.7', '0.5', '0.5.6', '0.6', '1', '1.2', '1.2.4.6.8.10', '1.2.6', '1.2.6.8', '1.3', '1.3.5', '1.3.5.8', '1.3.6', '1.3.7', '1.3.8', '1.4', '1.4.6', '1.4.6.9', '1.4.7', '1.4.7.10', '1.4.7.9', '1.4.8', '1.5', '1.5.8', '1.5.9', '1.6', '1.7', '10', '10.0', '10.0.2.5', '10.0.3', '10.0.4', '10.0.5', '10.1', '10.1.3', '10.1.3.5.6', '10.1.3.6', '10.1.4', '10.1.4.6', '10.1.5', '10.11', '10.11.3', '10.11.3.5', '10.2', '10.2.3', '10.2.4', '10.2.5', '10.3', '11', '11.0', '11.0.4', '11.0.4.6', '11.0.4.7', '11.0.5', '11.1', '11.1.4', '11.1.4.5', '11.1.5', '11.1.6', '11.2', '11.2.4', '11.2.4.6', '11.2.4.7', '11.2.5', '11.2.5.7', '11.2.6', '11.3', '11.3.5', '11.3.6', '11.4', '11.4.5', '2', '2.3', '2.3.7', '2.3.7.10', '2.3.7.9', '2.4', '2.4.5', '2.4.5.9', '2.4.6.9.11', '2.4.7', '2.4.7.10', '2.4.8', '2.4.9', '2.5', '2.5.7', '2.5.7.10', '2.5.8', '2.5.8.10', '2.5.8.11', '2.5.9', '2.6', '2.6.10', '2.6.7', '2.6.7.9', '2.6.9', '2.7', '2.7.8', '2.8', '3', '3.4', '3.4.8', '3.4.8.10', '3.5', '3.5.10', '3.5.7', '3.5.7.10', '3.5.7.8.11', '3.5.8', '3.5.8.11', '3.6', '3.6.10', '3.6.7', '3.6.8', '3.6.9.11', '3.7', '3.7.10', '3.7.11', '3.7.9', '3.7.9.10', '3.8', '3.8.9', '3.9', '4', '4.10', '4.5', '4.5.7.11', '4.5.9', '4.5.9.0', '4.5.9.11', '4.6', '4.6.10', '4.6.11', '4.6.7', '4.6.8.11.1', '4.6.9', '4.6.9.11', '4.7', '4.7.10', '4.7.11', '4.7.9', '4.7.9.0', '4.7.9.11', '4.8', '4.8.10', '4.8.11', '4.8.9', '4.8.9.11', '4.9', '4.9.10', '5', '5.10', '5.10.11', '5.11', '5.6', '5.7', '5.7.0', '5.7.10', '5.7.8.0', '5.8', '5.8.0', '5.8.10', '5.8.11', '5.9', '5.9.0', '5.9.11', '5.9.11.0', '6', '6.10', '6.10.0', '6.10.1', '6.10.11', '6.10.11.1', '6.11', '6.11.0', '6.7', '6.7.0', '6.7.11', '6.7.11.2', '6.8', '6.8.0', '6.8.1', '6.8.10', '6.8.10.0.3', '6.8.11', '6.8.11.2', '6.9', '6.9.0', '6.9.0.2', '6.9.1', '6.9.11', '6.9.11.2', '7', '7.0', '7.10', '7.10.0', '7.10.0.3', '7.10.1', '7.10.1.3', '7.10.2', '7.11', '7.11.0', '7.11.2', '7.8', '7.8.0', '7.8.0.3', '7.8.10.2', '7.8.11', '7.9', '7.9.0', '7.9.1', '7.9.11', '7.9.11.2', '7.9.2', '8', '8.0', '8.0.1', '8.0.2', '8.0.3', '8.1', '8.10', '8.10.0', '8.10.1', '8.10.11.1.4', '8.10.11.3', '8.10.2', '8.10.3', '8.11', '8.11.1', '8.11.1.4', '8.11.2', '8.11.3', '8.9', '8.9.1', '8.9.1.3', '8.9.1.4', '8.9.11.1', '8.9.2', '9', '9.0', '9.0.2', '9.0.2.4', '9.0.2.5', '9.0.3', '9.0.3.5', '9.0.4', '9.1', '9.1.4', '9.10', '9.10.2', '9.10.2.4', '9.11', '9.11.0.4', '9.11.1', '9.11.2', '9.11.2.4', '9.11.2.5', '9.11.3', '9.11.4', '9.2', '9.2.3', 'A0', 'A1', 'A2', 'A3', 'A4', 'A5', 'A6', 'B-1', 'B-2', 'B-3', 'B-4', 'B-5', 'B-6', 'B0', 'B1', 'B2', 'B3', 'B4', 'B5', 'B6', 'C#1', 'C#2', 'C#3', 'C#4', 'C#5', 'C#6', 'C#7', 'C1', 'C2', 'C3', 'C4', 'C5', 'C6', 'C7', 'D1', 'D2', 'D3', 'D4', 'D5', 'D6', 'D7', 'E-1', 'E-2', 'E-3', 'E-4', 'E-5', 'E-6', 'E1', 'E2', 'E3', 'E4', 'E5', 'E6', 'F#1', 'F#2', 'F#3', 'F#4', 'F#5', 'F#6', 'F1', 'F2', 'F3', 'F4', 'F5', 'F6', 'G#1', 'G#2', 'G#3', 'G#4', 'G#5', 'G#6', 'G1', 'G2', 'G3', 'G4', 'G5', 'G6']\n",
      "Note to integer embedding created at length 358\n",
      "Network input and output created with (pre-transform) lengths 57077 and 57077\n",
      "Network input and output first list items: [168, 329, 168, 168, 168, 168, 168, 168, 168, 89, 168, 89, 168, 168, 168, 168, 168, 17, 329, 168, 17, 168, 168, 168, 168, 168, 279, 168, 279, 279, 168, 168, 168, 168, 168, 168, 329, 168, 168, 168, 168, 168, 332, 344, 350, 286, 168, 168, 173, 168, 173, 168, 168, 168, 332, 344, 350, 286, 168, 168, 259, 329, 168, 259, 168, 168, 168, 332, 344, 350, 286, 168, 168, 79, 168, 79, 79, 168, 168, 168, 332, 344, 350, 286, 168, 168, 137, 323, 137, 296, 353, 44, 335, 44, 137, 323, 137, 353, 296, 324] and 44\n",
      "Network input list item length: 100\n",
      "Lengths. N Vocab: 358 N Patterns: 57077 Pitchnames: 358\n",
      "\n",
      "**Preparing sequences for output**\n",
      "Network Input of length 57077 is reshaped to normalized input of (57077, 100, 1)\n",
      "\n",
      "**LSTM model initializing**\n",
      "Input nodes: 512 Dropout: 0.3\n",
      "Input shape (timesteps, data_dim): (100,1)\n",
      "LSTM modelinitialized for midi CREATION with model from output/201803282154-Music-200-100-weight-200-3.0149-5.8076.hdf5\n",
      "\n",
      "**Generating notes**\n",
      "Integer to note conversion at length: 358\n",
      "Pattern ends with length 100 and type <class 'list'>\n",
      "Generated Note Length: 500\n",
      "First 100: ['F2', '11.4', 'F2', '6', 'F2', 'G2', '2', '0.5', 'G2', 'F2', '6', 'B2', '0.3.7', 'G2', 'G2', '11.4', 'B-2', '6', 'G5', 'G5', '6', '11', '11', '11', '6', 'G2', 'G#2', 'A5', '6', 'E3', '6', '6', 'G2', 'C3', 'G4', 'E3', '4', '1.6', 'G4', '6', 'G#2', '2.5', '6', '1.6', '6', 'G#2', 'A2', 'G#2', 'F#5', 'E3', 'G5', '0.3', 'G5', 'G2', 'G2', '6', '11', '6', '6', 'F2', 'F2', 'F3', '0.3.7', '8.11', 'F#5', 'G2', 'G5', 'E2', 'E2', 'G2', 'G2', '0.3.7', 'G2', 'F2', 'G2', '6', '11.4', 'G5', '6', '6', 'E3', '6', 'G2', '4', 'G2', 'G2', 'G2', 'G5', '1.6', 'C#5', 'E3', 'G2', '2.5', 'A5', '6', '0', 'G#2', 'E5', '6', 'G3']\n",
      "\n",
      "**Creating midi**\n",
      "Generating 500 notes stored as <class 'list'>\n",
      "Midi saved at: output/201803291251-100-lstm_midi.mid\n",
      "Output notes/chords stored as <class 'list'> then pickled at output/201803291251-100-output_notes\n"
     ]
    }
   ],
   "source": [
    "# terminal_output = output_tag + 'terminal.log'\n",
    "# sys.stdout = ut.Logger(terminal_output)\n",
    "# print(\"Terminal output being saved at {}\".format(terminal_output))\n",
    "output_notes, midi_file, model = weights_to_midi(note_file, sequence_length, weight_file)\n",
    "# print(\"Run Complete. Terminal log saved at {}\".format(terminal_output))"
   ]
  },
  {
   "cell_type": "code",
   "execution_count": 6,
   "metadata": {},
   "outputs": [
    {
     "name": "stdout",
     "output_type": "stream",
     "text": [
      "_________________________________________________________________\n",
      "Layer (type)                 Output Shape              Param #   \n",
      "=================================================================\n",
      "bidirectional_1 (Bidirection (None, 1024)              2105344   \n",
      "_________________________________________________________________\n",
      "dense_1 (Dense)              (None, 512)               524800    \n",
      "_________________________________________________________________\n",
      "dropout_1 (Dropout)          (None, 512)               0         \n",
      "_________________________________________________________________\n",
      "dense_2 (Dense)              (None, 358)               183654    \n",
      "_________________________________________________________________\n",
      "activation_1 (Activation)    (None, 358)               0         \n",
      "=================================================================\n",
      "Total params: 2,813,798\n",
      "Trainable params: 2,813,798\n",
      "Non-trainable params: 0\n",
      "_________________________________________________________________\n"
     ]
    }
   ],
   "source": [
    "model.summary()"
   ]
  },
  {
   "cell_type": "code",
   "execution_count": 7,
   "metadata": {},
   "outputs": [
    {
     "data": {
      "image/svg+xml": [
       "<svg height=\"470pt\" viewBox=\"0.00 0.00 429.00 470.00\" width=\"429pt\" xmlns=\"http://www.w3.org/2000/svg\" xmlns:xlink=\"http://www.w3.org/1999/xlink\">\n",
       "<g class=\"graph\" id=\"graph0\" transform=\"scale(1 1) rotate(0) translate(4 466)\">\n",
       "<title>G</title>\n",
       "<polygon fill=\"white\" points=\"-4,4 -4,-466 425,-466 425,4 -4,4\" stroke=\"none\"/>\n",
       "<!-- 139975804171824 -->\n",
       "<g class=\"node\" id=\"node1\"><title>139975804171824</title>\n",
       "<polygon fill=\"none\" points=\"34.5,-415.5 34.5,-461.5 386.5,-461.5 386.5,-415.5 34.5,-415.5\" stroke=\"black\"/>\n",
       "<text font-family=\"Times,serif\" font-size=\"14.00\" text-anchor=\"middle\" x=\"134.5\" y=\"-434.8\">bidirectional_1_input: InputLayer</text>\n",
       "<polyline fill=\"none\" points=\"234.5,-415.5 234.5,-461.5 \" stroke=\"black\"/>\n",
       "<text font-family=\"Times,serif\" font-size=\"14.00\" text-anchor=\"middle\" x=\"262\" y=\"-446.3\">input:</text>\n",
       "<polyline fill=\"none\" points=\"234.5,-438.5 289.5,-438.5 \" stroke=\"black\"/>\n",
       "<text font-family=\"Times,serif\" font-size=\"14.00\" text-anchor=\"middle\" x=\"262\" y=\"-423.3\">output:</text>\n",
       "<polyline fill=\"none\" points=\"289.5,-415.5 289.5,-461.5 \" stroke=\"black\"/>\n",
       "<text font-family=\"Times,serif\" font-size=\"14.00\" text-anchor=\"middle\" x=\"338\" y=\"-446.3\">(None, 100, 1)</text>\n",
       "<polyline fill=\"none\" points=\"289.5,-438.5 386.5,-438.5 \" stroke=\"black\"/>\n",
       "<text font-family=\"Times,serif\" font-size=\"14.00\" text-anchor=\"middle\" x=\"338\" y=\"-423.3\">(None, 100, 1)</text>\n",
       "</g>\n",
       "<!-- 139975804171208 -->\n",
       "<g class=\"node\" id=\"node2\"><title>139975804171208</title>\n",
       "<polygon fill=\"none\" points=\"0,-332.5 0,-378.5 421,-378.5 421,-332.5 0,-332.5\" stroke=\"black\"/>\n",
       "<text font-family=\"Times,serif\" font-size=\"14.00\" text-anchor=\"middle\" x=\"134.5\" y=\"-351.8\">bidirectional_1(lstm_1): Bidirectional(LSTM)</text>\n",
       "<polyline fill=\"none\" points=\"269,-332.5 269,-378.5 \" stroke=\"black\"/>\n",
       "<text font-family=\"Times,serif\" font-size=\"14.00\" text-anchor=\"middle\" x=\"296.5\" y=\"-363.3\">input:</text>\n",
       "<polyline fill=\"none\" points=\"269,-355.5 324,-355.5 \" stroke=\"black\"/>\n",
       "<text font-family=\"Times,serif\" font-size=\"14.00\" text-anchor=\"middle\" x=\"296.5\" y=\"-340.3\">output:</text>\n",
       "<polyline fill=\"none\" points=\"324,-332.5 324,-378.5 \" stroke=\"black\"/>\n",
       "<text font-family=\"Times,serif\" font-size=\"14.00\" text-anchor=\"middle\" x=\"372.5\" y=\"-363.3\">(None, 100, 1)</text>\n",
       "<polyline fill=\"none\" points=\"324,-355.5 421,-355.5 \" stroke=\"black\"/>\n",
       "<text font-family=\"Times,serif\" font-size=\"14.00\" text-anchor=\"middle\" x=\"372.5\" y=\"-340.3\">(None, 1024)</text>\n",
       "</g>\n",
       "<!-- 139975804171824&#45;&gt;139975804171208 -->\n",
       "<g class=\"edge\" id=\"edge1\"><title>139975804171824-&gt;139975804171208</title>\n",
       "<path d=\"M210.5,-415.366C210.5,-407.152 210.5,-397.658 210.5,-388.725\" fill=\"none\" stroke=\"black\"/>\n",
       "<polygon fill=\"black\" points=\"214,-388.607 210.5,-378.607 207,-388.607 214,-388.607\" stroke=\"black\"/>\n",
       "</g>\n",
       "<!-- 139975804171936 -->\n",
       "<g class=\"node\" id=\"node3\"><title>139975804171936</title>\n",
       "<polygon fill=\"none\" points=\"87.5,-249.5 87.5,-295.5 333.5,-295.5 333.5,-249.5 87.5,-249.5\" stroke=\"black\"/>\n",
       "<text font-family=\"Times,serif\" font-size=\"14.00\" text-anchor=\"middle\" x=\"138.5\" y=\"-268.8\">dense_1: Dense</text>\n",
       "<polyline fill=\"none\" points=\"189.5,-249.5 189.5,-295.5 \" stroke=\"black\"/>\n",
       "<text font-family=\"Times,serif\" font-size=\"14.00\" text-anchor=\"middle\" x=\"217\" y=\"-280.3\">input:</text>\n",
       "<polyline fill=\"none\" points=\"189.5,-272.5 244.5,-272.5 \" stroke=\"black\"/>\n",
       "<text font-family=\"Times,serif\" font-size=\"14.00\" text-anchor=\"middle\" x=\"217\" y=\"-257.3\">output:</text>\n",
       "<polyline fill=\"none\" points=\"244.5,-249.5 244.5,-295.5 \" stroke=\"black\"/>\n",
       "<text font-family=\"Times,serif\" font-size=\"14.00\" text-anchor=\"middle\" x=\"289\" y=\"-280.3\">(None, 1024)</text>\n",
       "<polyline fill=\"none\" points=\"244.5,-272.5 333.5,-272.5 \" stroke=\"black\"/>\n",
       "<text font-family=\"Times,serif\" font-size=\"14.00\" text-anchor=\"middle\" x=\"289\" y=\"-257.3\">(None, 512)</text>\n",
       "</g>\n",
       "<!-- 139975804171208&#45;&gt;139975804171936 -->\n",
       "<g class=\"edge\" id=\"edge2\"><title>139975804171208-&gt;139975804171936</title>\n",
       "<path d=\"M210.5,-332.366C210.5,-324.152 210.5,-314.658 210.5,-305.725\" fill=\"none\" stroke=\"black\"/>\n",
       "<polygon fill=\"black\" points=\"214,-305.607 210.5,-295.607 207,-305.607 214,-305.607\" stroke=\"black\"/>\n",
       "</g>\n",
       "<!-- 139975885078256 -->\n",
       "<g class=\"node\" id=\"node4\"><title>139975885078256</title>\n",
       "<polygon fill=\"none\" points=\"79,-166.5 79,-212.5 342,-212.5 342,-166.5 79,-166.5\" stroke=\"black\"/>\n",
       "<text font-family=\"Times,serif\" font-size=\"14.00\" text-anchor=\"middle\" x=\"141.5\" y=\"-185.8\">dropout_1: Dropout</text>\n",
       "<polyline fill=\"none\" points=\"204,-166.5 204,-212.5 \" stroke=\"black\"/>\n",
       "<text font-family=\"Times,serif\" font-size=\"14.00\" text-anchor=\"middle\" x=\"231.5\" y=\"-197.3\">input:</text>\n",
       "<polyline fill=\"none\" points=\"204,-189.5 259,-189.5 \" stroke=\"black\"/>\n",
       "<text font-family=\"Times,serif\" font-size=\"14.00\" text-anchor=\"middle\" x=\"231.5\" y=\"-174.3\">output:</text>\n",
       "<polyline fill=\"none\" points=\"259,-166.5 259,-212.5 \" stroke=\"black\"/>\n",
       "<text font-family=\"Times,serif\" font-size=\"14.00\" text-anchor=\"middle\" x=\"300.5\" y=\"-197.3\">(None, 512)</text>\n",
       "<polyline fill=\"none\" points=\"259,-189.5 342,-189.5 \" stroke=\"black\"/>\n",
       "<text font-family=\"Times,serif\" font-size=\"14.00\" text-anchor=\"middle\" x=\"300.5\" y=\"-174.3\">(None, 512)</text>\n",
       "</g>\n",
       "<!-- 139975804171936&#45;&gt;139975885078256 -->\n",
       "<g class=\"edge\" id=\"edge3\"><title>139975804171936-&gt;139975885078256</title>\n",
       "<path d=\"M210.5,-249.366C210.5,-241.152 210.5,-231.658 210.5,-222.725\" fill=\"none\" stroke=\"black\"/>\n",
       "<polygon fill=\"black\" points=\"214,-222.607 210.5,-212.607 207,-222.607 214,-222.607\" stroke=\"black\"/>\n",
       "</g>\n",
       "<!-- 139975885077304 -->\n",
       "<g class=\"node\" id=\"node5\"><title>139975885077304</title>\n",
       "<polygon fill=\"none\" points=\"90.5,-83.5 90.5,-129.5 330.5,-129.5 330.5,-83.5 90.5,-83.5\" stroke=\"black\"/>\n",
       "<text font-family=\"Times,serif\" font-size=\"14.00\" text-anchor=\"middle\" x=\"141.5\" y=\"-102.8\">dense_2: Dense</text>\n",
       "<polyline fill=\"none\" points=\"192.5,-83.5 192.5,-129.5 \" stroke=\"black\"/>\n",
       "<text font-family=\"Times,serif\" font-size=\"14.00\" text-anchor=\"middle\" x=\"220\" y=\"-114.3\">input:</text>\n",
       "<polyline fill=\"none\" points=\"192.5,-106.5 247.5,-106.5 \" stroke=\"black\"/>\n",
       "<text font-family=\"Times,serif\" font-size=\"14.00\" text-anchor=\"middle\" x=\"220\" y=\"-91.3\">output:</text>\n",
       "<polyline fill=\"none\" points=\"247.5,-83.5 247.5,-129.5 \" stroke=\"black\"/>\n",
       "<text font-family=\"Times,serif\" font-size=\"14.00\" text-anchor=\"middle\" x=\"289\" y=\"-114.3\">(None, 512)</text>\n",
       "<polyline fill=\"none\" points=\"247.5,-106.5 330.5,-106.5 \" stroke=\"black\"/>\n",
       "<text font-family=\"Times,serif\" font-size=\"14.00\" text-anchor=\"middle\" x=\"289\" y=\"-91.3\">(None, 358)</text>\n",
       "</g>\n",
       "<!-- 139975885078256&#45;&gt;139975885077304 -->\n",
       "<g class=\"edge\" id=\"edge4\"><title>139975885078256-&gt;139975885077304</title>\n",
       "<path d=\"M210.5,-166.366C210.5,-158.152 210.5,-148.658 210.5,-139.725\" fill=\"none\" stroke=\"black\"/>\n",
       "<polygon fill=\"black\" points=\"214,-139.607 210.5,-129.607 207,-139.607 214,-139.607\" stroke=\"black\"/>\n",
       "</g>\n",
       "<!-- 139975884824136 -->\n",
       "<g class=\"node\" id=\"node6\"><title>139975884824136</title>\n",
       "<polygon fill=\"none\" points=\"67.5,-0.5 67.5,-46.5 353.5,-46.5 353.5,-0.5 67.5,-0.5\" stroke=\"black\"/>\n",
       "<text font-family=\"Times,serif\" font-size=\"14.00\" text-anchor=\"middle\" x=\"141.5\" y=\"-19.8\">activation_1: Activation</text>\n",
       "<polyline fill=\"none\" points=\"215.5,-0.5 215.5,-46.5 \" stroke=\"black\"/>\n",
       "<text font-family=\"Times,serif\" font-size=\"14.00\" text-anchor=\"middle\" x=\"243\" y=\"-31.3\">input:</text>\n",
       "<polyline fill=\"none\" points=\"215.5,-23.5 270.5,-23.5 \" stroke=\"black\"/>\n",
       "<text font-family=\"Times,serif\" font-size=\"14.00\" text-anchor=\"middle\" x=\"243\" y=\"-8.3\">output:</text>\n",
       "<polyline fill=\"none\" points=\"270.5,-0.5 270.5,-46.5 \" stroke=\"black\"/>\n",
       "<text font-family=\"Times,serif\" font-size=\"14.00\" text-anchor=\"middle\" x=\"312\" y=\"-31.3\">(None, 358)</text>\n",
       "<polyline fill=\"none\" points=\"270.5,-23.5 353.5,-23.5 \" stroke=\"black\"/>\n",
       "<text font-family=\"Times,serif\" font-size=\"14.00\" text-anchor=\"middle\" x=\"312\" y=\"-8.3\">(None, 358)</text>\n",
       "</g>\n",
       "<!-- 139975885077304&#45;&gt;139975884824136 -->\n",
       "<g class=\"edge\" id=\"edge5\"><title>139975885077304-&gt;139975884824136</title>\n",
       "<path d=\"M210.5,-83.3664C210.5,-75.1516 210.5,-65.6579 210.5,-56.7252\" fill=\"none\" stroke=\"black\"/>\n",
       "<polygon fill=\"black\" points=\"214,-56.6068 210.5,-46.6068 207,-56.6069 214,-56.6068\" stroke=\"black\"/>\n",
       "</g>\n",
       "</g>\n",
       "</svg>"
      ],
      "text/plain": [
       "<IPython.core.display.SVG object>"
      ]
     },
     "execution_count": 7,
     "metadata": {},
     "output_type": "execute_result"
    }
   ],
   "source": [
    "import pydot\n",
    "import graphviz\n",
    "from IPython.display import SVG\n",
    "from keras.utils.vis_utils import model_to_dot, plot_model\n",
    "\n",
    "SVG(model_to_dot(model, show_shapes=True).create(prog='dot', format='svg'))"
   ]
  },
  {
   "cell_type": "markdown",
   "metadata": {},
   "source": [
    "### Convert Midi to Audio"
   ]
  },
  {
   "cell_type": "code",
   "execution_count": 9,
   "metadata": {},
   "outputs": [
    {
     "ename": "ModuleNotFoundError",
     "evalue": "No module named 'pyaudio'",
     "output_type": "error",
     "traceback": [
      "\u001b[0;31m---------------------------------------------------------------------------\u001b[0m",
      "\u001b[0;31mModuleNotFoundError\u001b[0m                       Traceback (most recent call last)",
      "\u001b[0;32m<ipython-input-9-9f504278c943>\u001b[0m in \u001b[0;36m<module>\u001b[0;34m()\u001b[0m\n\u001b[1;32m      1\u001b[0m \u001b[0;32mimport\u001b[0m \u001b[0mtime\u001b[0m\u001b[0;34m\u001b[0m\u001b[0m\n\u001b[1;32m      2\u001b[0m \u001b[0;32mimport\u001b[0m \u001b[0mnumpy\u001b[0m\u001b[0;34m\u001b[0m\u001b[0m\n\u001b[0;32m----> 3\u001b[0;31m \u001b[0;32mimport\u001b[0m \u001b[0mpyaudio\u001b[0m\u001b[0;34m\u001b[0m\u001b[0m\n\u001b[0m\u001b[1;32m      4\u001b[0m \u001b[0;32mimport\u001b[0m \u001b[0mfluidsynth\u001b[0m\u001b[0;34m\u001b[0m\u001b[0m\n\u001b[1;32m      5\u001b[0m \u001b[0;34m\u001b[0m\u001b[0m\n",
      "\u001b[0;31mModuleNotFoundError\u001b[0m: No module named 'pyaudio'"
     ]
    }
   ],
   "source": [
    "import time\n",
    "import numpy\n",
    "import pyaudio\n",
    "import fluidsynth\n",
    "\n",
    "pa = pyaudio.PyAudio()\n",
    "strm = pa.open(\n",
    "    format = pyaudio.paInt16,\n",
    "    channels = 2, \n",
    "    rate = 44100, \n",
    "    output = True)\n",
    "\n",
    "s = []\n",
    "\n",
    "fl = fluidsynth.Synth()\n",
    "\n",
    "# Initial silence is 1 second\n",
    "s = numpy.append(s, fl.get_samples(44100 * 1))\n",
    "\n",
    "sfid = fl.sfload(\"example.sf2\")\n",
    "fl.program_select(0, sfid, 0, 0)\n",
    "\n",
    "fl.noteon(0, 60, 30)\n",
    "fl.noteon(0, 67, 30)\n",
    "fl.noteon(0, 76, 30)\n",
    "\n",
    "# Chord is held for 2 seconds\n",
    "s = numpy.append(s, fl.get_samples(44100 * 2))\n",
    "\n",
    "fl.noteoff(0, 60)\n",
    "fl.noteoff(0, 67)\n",
    "fl.noteoff(0, 76)\n",
    "\n",
    "# Decay of chord is held for 1 second\n",
    "s = numpy.append(s, fl.get_samples(44100 * 1))\n",
    "\n",
    "fl.delete()\n",
    "\n",
    "samps = fluidsynth.raw_audio_string(s)\n",
    "\n",
    "print(len(samps))\n",
    "print('Starting playback')\n",
    "strm.write(samps)"
   ]
  },
  {
   "cell_type": "code",
   "execution_count": null,
   "metadata": {},
   "outputs": [],
   "source": [
    "from midi2audio import FluidSynth"
   ]
  },
  {
   "cell_type": "code",
   "execution_count": null,
   "metadata": {},
   "outputs": [],
   "source": [
    "FluidSynth().play_midi(midi_file)"
   ]
  },
  {
   "cell_type": "code",
   "execution_count": null,
   "metadata": {},
   "outputs": [],
   "source": [
    "fs = FluidSynth()\n",
    "fs.midi_to_audio(midi_file,'output/output.wav')"
   ]
  },
  {
   "cell_type": "markdown",
   "metadata": {},
   "source": [
    "### Analyze created MIDI"
   ]
  },
  {
   "cell_type": "code",
   "execution_count": null,
   "metadata": {},
   "outputs": [],
   "source": [
    "import pretty_midi\n",
    "import matplotlib.pyplot as plt\n",
    "import librosa.display\n",
    "import pandas as pd\n",
    "import IPython.display as ipd"
   ]
  },
  {
   "cell_type": "code",
   "execution_count": null,
   "metadata": {},
   "outputs": [],
   "source": [
    "fs = 16000\n",
    "rate = 16000\n",
    "start_pitch = 24\n",
    "end_pitch = 84"
   ]
  },
  {
   "cell_type": "code",
   "execution_count": null,
   "metadata": {},
   "outputs": [],
   "source": [
    "def plot_piano_roll(pm, start_pitch, end_pitch, fs=10):\n",
    "    librosa.display.specshow(pm.get_piano_roll(fs)[start_pitch:end_pitch],\n",
    "                             hop_length=1, sr=fs, x_axis='time', y_axis='cqt_note',\n",
    "                             fmin=pretty_midi.note_number_to_hz(start_pitch))\n",
    "    \n",
    "def analyze_midi(midi_file):\n",
    "    instrument_dict = {}\n",
    "    pm = pretty_midi.PrettyMIDI(midi_file)\n",
    "    plt.figure(figsize=(12, 6))\n",
    "    plot_piano_roll(pm, start_pitch, end_pitch)\n",
    "    print(\"Time Signature Changes: {} Instruments: {}\".format(len(pm.time_signature_changes), len(pm.instruments)))\n",
    "    for instrument_num in range(len(pm.instruments)):\n",
    "        instrument_dict[instrument_num] = {'Notes': len(pm.instruments[instrument_num].notes), \n",
    "                                           'Pitch_Bends':len(pm.instruments[instrument_num].pitch_bends),\n",
    "                                           'Control_Changes':len(pm.instruments[instrument_num].control_changes)}\n",
    "    instrument_dict = pd.DataFrame(instrument_dict)\n",
    "    return instrument_dict, pm"
   ]
  },
  {
   "cell_type": "code",
   "execution_count": null,
   "metadata": {},
   "outputs": [],
   "source": [
    "# midi_file = 'output/201803281154-100-lstm_midi.mid'\n",
    "instrument_dict,pm = analyze_midi(midi_file)\n",
    "ipd.Audio(pm.synthesize(fs=fs), rate=rate)"
   ]
  },
  {
   "cell_type": "markdown",
   "metadata": {},
   "source": [
    "### Music21"
   ]
  },
  {
   "cell_type": "code",
   "execution_count": null,
   "metadata": {},
   "outputs": [],
   "source": [
    "from music21 import *\n",
    "\n",
    "env = environment.Environment()\n",
    "env['musicxmlPath'] = '/usr/bin/musescore'\n",
    "env['lilypondPath'] = '/usr/bin/lilypond'\n",
    "env['musescoreDirectPNGPath'] = '/usr/bin/musescore'\n",
    "env['pdfPath'] = '/usr/bin/lilypond'\n",
    "env['graphicsPath'] = '/usr/bin/lilypond'"
   ]
  },
  {
   "cell_type": "code",
   "execution_count": null,
   "metadata": {},
   "outputs": [],
   "source": [
    "# output_notes"
   ]
  },
  {
   "cell_type": "code",
   "execution_count": null,
   "metadata": {},
   "outputs": [],
   "source": [
    "note_stream = stream.Stream()\n",
    "for note in output_notes:\n",
    "    note_stream.append(note)\n",
    "note_stream.show()"
   ]
  },
  {
   "cell_type": "code",
   "execution_count": null,
   "metadata": {},
   "outputs": [],
   "source": []
  },
  {
   "cell_type": "code",
   "execution_count": null,
   "metadata": {},
   "outputs": [],
   "source": []
  },
  {
   "cell_type": "code",
   "execution_count": null,
   "metadata": {},
   "outputs": [],
   "source": []
  },
  {
   "cell_type": "code",
   "execution_count": null,
   "metadata": {},
   "outputs": [],
   "source": []
  },
  {
   "cell_type": "code",
   "execution_count": null,
   "metadata": {},
   "outputs": [],
   "source": []
  },
  {
   "cell_type": "code",
   "execution_count": null,
   "metadata": {},
   "outputs": [],
   "source": []
  }
 ],
 "metadata": {
  "kernelspec": {
   "display_name": "Python 3",
   "language": "python",
   "name": "python3"
  },
  "language_info": {
   "codemirror_mode": {
    "name": "ipython",
    "version": 3
   },
   "file_extension": ".py",
   "mimetype": "text/x-python",
   "name": "python",
   "nbconvert_exporter": "python",
   "pygments_lexer": "ipython3",
   "version": "3.6.4"
  }
 },
 "nbformat": 4,
 "nbformat_minor": 2
}
