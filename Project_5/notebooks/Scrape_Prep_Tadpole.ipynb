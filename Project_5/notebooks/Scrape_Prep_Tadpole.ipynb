{
 "cells": [
  {
   "cell_type": "code",
   "execution_count": 1,
   "metadata": {},
   "outputs": [
    {
     "data": {
      "text/plain": [
       "'/home/cipher000/anaconda3/envs/tensorflow1.4/bin/python'"
      ]
     },
     "execution_count": 1,
     "metadata": {},
     "output_type": "execute_result"
    }
   ],
   "source": [
    "import sys\n",
    "sys.executable"
   ]
  },
  {
   "cell_type": "code",
   "execution_count": null,
   "metadata": {},
   "outputs": [],
   "source": []
  },
  {
   "cell_type": "code",
   "execution_count": 2,
   "metadata": {},
   "outputs": [],
   "source": [
    "from bs4 import BeautifulSoup\n",
    "import requests\n",
    "import pandas as pd\n",
    "import re\n",
    "import urllib.request\n",
    "import time"
   ]
  },
  {
   "cell_type": "code",
   "execution_count": 7,
   "metadata": {},
   "outputs": [
    {
     "ename": "SyntaxError",
     "evalue": "unexpected EOF while parsing (<ipython-input-7-fd4e6fe8d45d>, line 59)",
     "output_type": "error",
     "traceback": [
      "\u001b[0;36m  File \u001b[0;32m\"<ipython-input-7-fd4e6fe8d45d>\"\u001b[0;36m, line \u001b[0;32m59\u001b[0m\n\u001b[0;31m    # print(\"Scraping Complete.\")\u001b[0m\n\u001b[0m                                 ^\u001b[0m\n\u001b[0;31mSyntaxError\u001b[0m\u001b[0;31m:\u001b[0m unexpected EOF while parsing\n"
     ]
    }
   ],
   "source": [
    "base_url = 'http://www.tadpoletunes.com/tunes/'\n",
    "end_url = '.htm'\n",
    "abs_filepath = '/home/ubuntu/Music/Tadpole/Celtic/'\n",
    "\n",
    "slug_list = ['celtic1/celtic','celtic2/celtic2','celtic3/celtic3']\n",
    "\n",
    "def download_midis(slug_list,base_url, end_url, abs_filepath):\n",
    "    midi_dict = {}\n",
    "    for slug in slug_list:\n",
    "        url = base_url + slug + end_url\n",
    "        print(url)\n",
    "        try:\n",
    "            response = requests.get(url)\n",
    "            page = response.text\n",
    "            soup = BeautifulSoup(page,'lxml')\n",
    "            name_list = []\n",
    "            midi_list = []\n",
    "\n",
    "            for e in soup.find_all('b'):\n",
    "                print(e)\n",
    "                if '.mid' in str(e):\n",
    "                    print(e)\n",
    "                    e = str(e)\n",
    "                    midi = e.split('\"')[1]\n",
    "                    loc1 = e.find('b>')\n",
    "                    loc2 = e.find('</')\n",
    "                    name = e[loc1+2:loc2]\n",
    "                    print(\"Midi: {} Name: {}\".format(midi,name))\n",
    "                    name_list.append(name)\n",
    "                    midi_list.append(midi)\n",
    "            \n",
    "            slug = slug.split('/')[0]\n",
    "            for i in range(len(midi_list)):\n",
    "                \n",
    "                name = name_list[i]\n",
    "                midi = midi_list[i]\n",
    "                song = re.sub(r\"[\\d )(-/';:]\",'',song)\n",
    "                name = re.sub(r\"[ )(-/';:]\",'',name)\n",
    "                song = midi.replace('.mid','')\n",
    "                url_path = url + slug + midi\n",
    "                print(\"Name: {} Song: {} URL: {}\".format(name,song,url_path))\n",
    "\n",
    "                filepath = abs_filepath + \"{}-{}.mid\".format(name,song)\n",
    "                urllib.request.urlretrieve(url, filepath)\n",
    "                r = requests.get(url)\n",
    "\n",
    "                midi_dict[song] = {'Name':name, 'URL': url}\n",
    "\n",
    "                print(\"{}-{}-{}\".format(name,song,url)) # song, artist, url\n",
    "        except Exception as e:\n",
    "            print(e)\n",
    "            pass\n",
    "        sleep_time = 60*5\n",
    "        print(\"Sleeping {} seconds\".format(sleep_time))\n",
    "        time.sleep(sleep_time)\n",
    "    return midi_dict\n",
    "\n",
    "midi_dict = download_midis(slug_list, base_url, end_url, abs_filepath)\n",
    "print(\"Scraping Complete.\")"
   ]
  },
  {
   "cell_type": "code",
   "execution_count": null,
   "metadata": {},
   "outputs": [],
   "source": [
    "base_url = 'http://www.tadpoletunes.com/tunes/'\n",
    "abs_filepath = '/home/ubuntu/Music/Tadpole/Celtic/'\n",
    "end_url = '.htm'\n",
    "\n",
    "slug_list =['celtic1/celtic','celtic2/celtic2','celtic3/celtic3']\n",
    "\n",
    "midi_dict = {}\n",
    "for slug in slug_list:\n",
    "    url = base_url + slug + end_url\n",
    "    print(url)\n",
    "    response = requests.get(url)\n",
    "    page = response.text\n",
    "    soup = BeautifulSoup(page,'lxml')\n",
    "    name_list = []\n",
    "\n",
    "    for e in soup.find_all('a'):\n",
    "        if '.mid' in str(e):\n",
    "            e = str(e)\n",
    "#             e = str(e).split('\"')\n",
    "            midi = e.split('\"')[1]\n",
    "            loc1 = e.find('b>')\n",
    "            loc2 = e.find('</')\n",
    "            name = e[loc1+2:loc2]\n",
    "            print(\"Midi: {} Name: {}\".format(midi,name))\n",
    "#             print(e)\n",
    "    "
   ]
  },
  {
   "cell_type": "code",
   "execution_count": null,
   "metadata": {},
   "outputs": [],
   "source": []
  },
  {
   "cell_type": "code",
   "execution_count": null,
   "metadata": {},
   "outputs": [],
   "source": [
    "from bs4 import BeautifulSoup\n",
    "import requests\n",
    "import pandas as pd\n",
    "import re\n",
    "import urllib.request\n",
    "import time\n",
    "\n",
    "base_url = 'http://www.tadpoletunes.com/tunes/'\n",
    "end_url = '.htm'\n",
    "abs_filepath = '/home/ubuntu/Music/Tadpole/Celtic/'\n",
    "\n",
    "slug_list = ['celtic1/celtic','celtic2/celtic2','celtic3/celtic3']\n",
    "\n",
    "def download_midis(slug_list, base_url, end_url, abs_filepath):\n",
    "    midi_dict = {}\n",
    "    for slug in slug_list:\n",
    "        url = base_url + slug + end_url\n",
    "        print(url)\n",
    "        try:\n",
    "            response = requests.get(url)\n",
    "            page = response.text\n",
    "            soup = BeautifulSoup(page,'lxml')\n",
    "            name_list = []\n",
    "\n",
    "            for e in soup.find_all('b'):\n",
    "                if '.mid' in str(e):\n",
    "                    e = str(e)\n",
    "                    beg_loc = e.find(' ')\n",
    "                    end_loc = e.find(' - ')\n",
    "                    name = e[beg_loc:end_loc]\n",
    "                    name_list.append(name)\n",
    "\n",
    "            url_list = []\n",
    "\n",
    "            midi = soup.find_all('a',target='_blank')\n",
    "\n",
    "            for link in midi:\n",
    "                url = link.get('href')\n",
    "                url_list.append(url)\n",
    "\n",
    "            for i in range(len(name_list)):\n",
    "                name_text = name_list[i]\n",
    "                mid_loc = name_text.find('(')\n",
    "                end_loc = name_text.find(')')\n",
    "                song = name_text[:mid_loc]\n",
    "                artist = name_text[mid_loc+1:end_loc]\n",
    "                url = url_list[i]\n",
    "                song = re.sub(r\"[\\d )(-/';:]\",'',song)\n",
    "                artist = re.sub(r\"[ )(-/';:]\",'',artist)\n",
    "                filepath = abs_filepath + \"{}-{}.mid\".format(artist,song)\n",
    "                urllib.request.urlretrieve(url, filepath)\n",
    "                r = requests.get(url)\n",
    "\n",
    "                midi_dict[song] = {'Artist':artist, 'URL': url}\n",
    "\n",
    "                print(\"{}-{}-{}\".format(artist,song,url)) # song, artist, url\n",
    "        except Exception as e:\n",
    "            print(e)\n",
    "            pass\n",
    "        sleep_time = 60*5\n",
    "        print(\"Sleeping {} seconds\".format(sleep_time))\n",
    "        time.sleep(sleep_time)\n",
    "    return midi_dict\n",
    "\n",
    "midi_dict = download_midis(start_page, end_page, base_url, end_url, abs_filepath)\n",
    "print(\"Scraping Complete.\")\n",
    "print(midi_dict)\n"
   ]
  }
 ],
 "metadata": {
  "kernelspec": {
   "display_name": "Python 3",
   "language": "python",
   "name": "python3"
  },
  "language_info": {
   "codemirror_mode": {
    "name": "ipython",
    "version": 3
   },
   "file_extension": ".py",
   "mimetype": "text/x-python",
   "name": "python",
   "nbconvert_exporter": "python",
   "pygments_lexer": "ipython3",
   "version": "3.6.4"
  }
 },
 "nbformat": 4,
 "nbformat_minor": 2
}
