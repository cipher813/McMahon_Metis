{
 "cells": [
  {
   "cell_type": "markdown",
   "metadata": {},
   "source": [
    "# Music Generator LSTM"
   ]
  },
  {
   "cell_type": "code",
   "execution_count": 1,
   "metadata": {},
   "outputs": [
    {
     "data": {
      "text/plain": [
       "'/home/cipher000/anaconda3/envs/magenta/bin/python'"
      ]
     },
     "execution_count": 1,
     "metadata": {},
     "output_type": "execute_result"
    }
   ],
   "source": [
    "import sys\n",
    "sys.executable"
   ]
  },
  {
   "cell_type": "code",
   "execution_count": 2,
   "metadata": {},
   "outputs": [
    {
     "name": "stdout",
     "output_type": "stream",
     "text": [
      "\u001b[31mException:\r\n",
      "Traceback (most recent call last):\r\n",
      "  File \"/home/cipher000/anaconda3/envs/tensorflow1.4/lib/python3.5/site-packages/pip/basecommand.py\", line 215, in main\r\n",
      "    status = self.run(options, args)\r\n",
      "  File \"/home/cipher000/anaconda3/envs/tensorflow1.4/lib/python3.5/site-packages/pip/commands/install.py\", line 272, in run\r\n",
      "    with self._build_session(options) as session:\r\n",
      "  File \"/home/cipher000/anaconda3/envs/tensorflow1.4/lib/python3.5/site-packages/pip/basecommand.py\", line 72, in _build_session\r\n",
      "    insecure_hosts=options.trusted_hosts,\r\n",
      "  File \"/home/cipher000/anaconda3/envs/tensorflow1.4/lib/python3.5/site-packages/pip/download.py\", line 329, in __init__\r\n",
      "    self.headers[\"User-Agent\"] = user_agent()\r\n",
      "  File \"/home/cipher000/anaconda3/envs/tensorflow1.4/lib/python3.5/site-packages/pip/download.py\", line 93, in user_agent\r\n",
      "    from pip._vendor import distro\r\n",
      "  File \"/home/cipher000/anaconda3/envs/tensorflow1.4/lib/python3.5/site-packages/pip/_vendor/distro.py\", line 1050, in <module>\r\n",
      "    _distro = LinuxDistribution()\r\n",
      "  File \"/home/cipher000/anaconda3/envs/tensorflow1.4/lib/python3.5/site-packages/pip/_vendor/distro.py\", line 594, in __init__\r\n",
      "    if include_lsb else {}\r\n",
      "  File \"/home/cipher000/anaconda3/envs/tensorflow1.4/lib/python3.5/site-packages/pip/_vendor/distro.py\", line 931, in _get_lsb_release_info\r\n",
      "    raise subprocess.CalledProcessError(code, cmd, stdout, stderr)\r\n",
      "subprocess.CalledProcessError: Command 'lsb_release -a' returned non-zero exit status 1\u001b[0m\r\n",
      "Traceback (most recent call last):\r\n",
      "  File \"/home/cipher000/anaconda3/envs/tensorflow1.4/bin/pip\", line 11, in <module>\r\n",
      "    sys.exit(main())\r\n",
      "  File \"/home/cipher000/anaconda3/envs/tensorflow1.4/lib/python3.5/site-packages/pip/__init__.py\", line 233, in main\r\n",
      "    return command.main(cmd_args)\r\n",
      "  File \"/home/cipher000/anaconda3/envs/tensorflow1.4/lib/python3.5/site-packages/pip/basecommand.py\", line 251, in main\r\n",
      "    timeout=min(5, options.timeout)) as session:\r\n",
      "  File \"/home/cipher000/anaconda3/envs/tensorflow1.4/lib/python3.5/site-packages/pip/basecommand.py\", line 72, in _build_session\r\n",
      "    insecure_hosts=options.trusted_hosts,\r\n",
      "  File \"/home/cipher000/anaconda3/envs/tensorflow1.4/lib/python3.5/site-packages/pip/download.py\", line 329, in __init__\r\n",
      "    self.headers[\"User-Agent\"] = user_agent()\r\n",
      "  File \"/home/cipher000/anaconda3/envs/tensorflow1.4/lib/python3.5/site-packages/pip/download.py\", line 93, in user_agent\r\n",
      "    from pip._vendor import distro\r\n",
      "  File \"/home/cipher000/anaconda3/envs/tensorflow1.4/lib/python3.5/site-packages/pip/_vendor/distro.py\", line 1050, in <module>\r\n",
      "    _distro = LinuxDistribution()\r\n",
      "  File \"/home/cipher000/anaconda3/envs/tensorflow1.4/lib/python3.5/site-packages/pip/_vendor/distro.py\", line 594, in __init__\r\n",
      "    if include_lsb else {}\r\n",
      "  File \"/home/cipher000/anaconda3/envs/tensorflow1.4/lib/python3.5/site-packages/pip/_vendor/distro.py\", line 931, in _get_lsb_release_info\r\n",
      "    raise subprocess.CalledProcessError(code, cmd, stdout, stderr)\r\n",
      "subprocess.CalledProcessError: Command 'lsb_release -a' returned non-zero exit status 1\r\n"
     ]
    }
   ],
   "source": [
    "!pip install pretty_midi"
   ]
  },
  {
   "cell_type": "code",
   "execution_count": 2,
   "metadata": {},
   "outputs": [],
   "source": [
    "output_file_test = '../output/BS1-1.mid'"
   ]
  },
  {
   "cell_type": "code",
   "execution_count": 3,
   "metadata": {},
   "outputs": [
    {
     "data": {
      "text/html": [
       "\n",
       "                <audio controls=\"controls\" >\n",
       "                    <source src=\"data:audio/midi;base64,TVRoZAAAAAYAAQABBABNVHJrAAAcwwD/AwAA4ABAiACQPFoAkEJahACQPFoAkEJahACAPAAAgEIAAJA8WgCQQlqEAIA8AACAQgAAkDxaAJBCWoQAgDwAAIBCAACQPFoAkEJahACAPAAAgEIAAJA8WgCQQlqEAIA8AACAQgAAkDxaAJBCWoQAgDwAAIBCAACQPFoAkEJahACAPAAAgEIAAJA8WgCQQlqEAIA8AACAQgAAkDhahACAPAAAgEIAAJA4WoQAgDgAAJA4WoQAgDgAAJA4WoQAgDgAAJA4WoQAgDgAAJA8WgCQQlqEAIA4AACQOFqEAIA8AACAQgAAkDxaAJBCWoQAgDgAAJA8WgCQQlqEAIA8AACAQgAAkDxaAJBCWoQAgDwAAIBCAACQPFoAkEJahACAPAAAgEIAAJA8WgCQQlqEAIA8AACAQgAAkDxaAJBCWoQAgDwAAIBCAACQPFoAkEJahACAPAAAgEIAAJA8WgCQQlqEAIA8AACAQgAAkDxaAJBCWoQAgDwAAIBCAACQPFoAkEJahACAPAAAgEIAAJA8WgCQQlqEAIA8AACAQgAAkDxaAJBCWoQAgDwAAIBCAACQPFoAkEJahACAPAAAgEIAAJA8WgCQQlqEAIA8AACAQgAAkDxaAJBCWoQAgDwAAIBCAACQPFoAkEJahACAPAAAgEIAAJA8WgCQQlqEAIA8AACAQgAAkDxaAJBCWoQAgDwAAIBCAACQPFoAkEJahACAPAAAgEIAAJA8WgCQQlqEAIA8AACAQgAAkDxaAJBCWoQAgDwAAIBCAACQPFoAkEJahACAPAAAgEIAAJA8WgCQQlqEAIA8AACAQgAAkDhahACAPAAAgEIAAJA4WoQAgDgAAJA4WoQAgDgAAJA4WoQAgDgAAJA4WoQAgDgAAJA8WgCQQlqEAIA4AACQOFqEAIA8AACAQgAAkDxaAJBCWoQAgDgAAJA8WgCQQlqEAIA8AACAQgAAkDxaAJBCWoQAgDwAAIBCAACQPFoAkEJahACAPAAAgEIAAJA8WgCQQlqEAIA8AACAQgAAkDxaAJBCWoQAgDwAAIBCAACQPFoAkEJahACAPAAAgEIAAJA8WgCQQlqEAIA8AACAQgAAkDxaAJBCWoQAgDwAAIBCAACQPFoAkEJahACAPAAAgEIAAJA8WgCQQlqEAIA8AACAQgAAkDxaAJBCWoQAgDwAAIBCAACQPFoAkEJahACAPAAAgEIAAJA8WgCQQlqEAIA8AACAQgAAkDxaAJBCWoQAgDwAAIBCAACQPFoAkEJahACAPAAAgEIAAJA8WgCQQlqEAIA8AACAQgAAkDxaAJBCWoQAgDwAAIBCAACQPFoAkEJahACAPAAAgEIAAJA8WgCQQlqEAIA8AACAQgAAkDxaAJBCWoQAgDwAAIBCAACQPFoAkEJahACAPAAAgEIAAJA8WgCQQlqEAIA8AACAQgAAkDhahACAPAAAgEIAAJA4WoQAgDgAAJA4WoQAgDgAAJA4WoQAgDgAAJA4WoQAgDgAAJA4WoQAgDgAAJA4WoQAgDgAAJA4WoQAgDgAAJA4WoQAgDgAAJA4WoQAgDgAAJA4WoQAgDgAAJA8WgCQQlqEAIA4AACQPFoAkEJahACAPAAAgEIAAJA8WgCQQlqEAIA8AACAQgAAkDxaAJBCWoQAgDwAAIBCAACQPFoAkEJahACAPAAAgEIAAJA8WgCQQlqEAIA8AACAQgAAkDxaAJBCWoQAgDwAAIBCAACQPFoAkEJahACAPAAAgEIAAJA8WgCQQlqEAIA8AACAQgAAkDxaAJBCWoQAgDwAAIBCAACQPFoAkEJahACAPAAAgEIAAJA8WgCQQlqEAIA8AACAQgAAkDxaAJBCWoQAgDwAAIBCAACQPFoAkEJahACAPAAAgEIAAJA8WgCQQlqEAIA8AACAQgAAkDxaAJBCWoQAgDwAAIBCAACQPFoAkEJahACAPAAAgEIAAJA8WgCQQlqEAIA8AACAQgAAkDhahACAPAAAgEIAAJA4WoQAgDgAAJA4WoQAgDgAAJA4WoQAgDgAAJBCWgCQRFoAkEZahACAOAAAkEJaAJBEWgCQRlqEAIBCAACARAAAgEYAAJAqWoQAgEIAAIBEAACARgAAkEJaAJBEWoQAgCoAAJA8WgCQQlqEAIBCAACARAAAkDxaAJBCWoQAgDwAAIBCAACQPFoAkEJahACAPAAAgEIAAJA8WgCQQlqEAIA8AACAQgAAkDxaAJBCWoQAgDwAAIBCAACQPFoAkEJahACAPAAAgEIAAJA8WgCQQlqEAIA8AACAQgAAkDxaAJBCWoQAgDwAAIBCAACQOFqEAIA8AACAQgAAkDhahACAOAAAkDhahACAOAAAkDhahACAOAAAkDhahACAOAAAkDhahACAOAAAkDhahACAOAAAkDhahACAOAAAkDhahACAOAAAkDhahACAOAAAkDhahACAOAAAkDhahACAOAAAkDhahACAOAAAkDhahACAOAAAkDhahACAOAAAkDhahACAOAAAkDhahACAOAAAkDhahACAOAAAkEJaAJBEWgCQRlqEAIA4AACQQloAkERaAJBGWoQAgEIAAIBEAACARgAAkCpahACAQgAAgEQAAIBGAACQQloAkERahACAKgAAkDxaAJBCWoQAgEIAAIBEAACQPFoAkEJahACAPAAAgEIAAJA8WgCQQlqEAIA8AACAQgAAkDxaAJBCWoQAgDwAAIBCAACQPFoAkEJahACAPAAAgEIAAJA8WgCQQlqEAIA8AACAQgAAkDxaAJBCWoQAgDwAAIBCAACQOFqEAIA8AACAQgAAkDhahACAOAAAkDhahACAOAAAkDhahACAOAAAkDhahACAOAAAkDhahACAOAAAkDhahACAOAAAkDxaAJBCWoQAgDgAAJA8WgCQQlqEAIA8AACAQgAAkDxaAJBCWoQAgDwAAIBCAACQPFoAkEJahACAPAAAgEIAAJA8WgCQQlqEAIA8AACAQgAAkDxaAJBCWoQAgDwAAIBCAACQPFoAkEJahACAPAAAgEIAAJA4WoQAgDwAAIBCAACQOFqEAIA4AACQOFqEAIA4AACQOFqEAIA4AACQOFqEAIA4AACQOFqEAIA4AACQOFqEAIA4AACQQloAkERaAJBGWoQAgDgAAJBCWgCQRFoAkEZahACAQgAAgEQAAIBGAACQQloAkERaAJBGWoQAgEIAAIBEAACARgAAkCpahACAQgAAgEQAAIBGAACQKlqEAIAqAACQKlqEAIAqAACQKlqEAIAqAACQQloAkERahACAKgAAkEJaAJBEWoQAgEIAAIBEAACQQloAkERahACAQgAAgEQAAJBCWgCQRFqEAIBCAACARAAAkDxaAJBCWoQAgEIAAIBEAACQPFoAkEJahACAPAAAgEIAAJA8WgCQQlqEAIA8AACAQgAAkDxaAJBCWoQAgDwAAIBCAACQPFoAkEJahACAPAAAgEIAAJA4WoQAgDwAAIBCAACQOFqEAIA4AACQOFqEAIA4AACQOFqEAIA4AACQOFqEAIA4AACQOFqEAIA4AACQOFqEAIA4AACQOFqEAIA4AACQOFqEAIA4AACQOFqEAIA4AACQQloAkERaAJBGWoQAgDgAAJBCWgCQRFoAkEZahACAQgAAgEQAAIBGAACQQloAkERaAJBGWoQAgEIAAIBEAACARgAAkCpahACAQgAAgEQAAIBGAACQQloAkERahACAKgAAkEJaAJBEWoQAgEIAAIBEAACQQloAkERahACAQgAAgEQAAJA8WgCQQlqEAIBCAACARAAAkDxaAJBCWoQAgDwAAIBCAACQPFoAkEJahACAPAAAgEIAAJA8WgCQQlqEAIA8AACAQgAAkDxaAJBCWoQAgDwAAIBCAACQPFoAkEJahACAPAAAgEIAAJA8WgCQQlqEAIA8AACAQgAAkDhahACAPAAAgEIAAJA4WoQAgDgAAJA4WoQAgDgAAJA4WoQAgDgAAJA4WoQAgDgAAJA4WoQAgDgAAJBCWgCQRFoAkEZahACAOAAAkEJaAJBEWgCQRlqEAIBCAACARAAAgEYAAJAqWoQAgEIAAIBEAACARgAAkEJaAJBEWoQAgCoAAJA8WgCQQlqEAIBCAACARAAAkEJaAJBEWoQAgDwAAIBCAACQQloAkERahACAQgAAgEQAAJBCWgCQRFqEAIBCAACARAAAkEJaAJBEWoQAgEIAAIBEAACQQloAkERahACAQgAAgEQAAJBCWgCQRFqEAIBCAACARAAAkEJaAJBEWoQAgEIAAIBEAACQQloAkERahACAQgAAgEQAAJBCWgCQRFqEAIBCAACARAAAkEJaAJBEWoQAgEIAAIBEAACQPFoAkEJahACAQgAAgEQAAJA8WgCQQlqEAIA8AACAQgAAkDxaAJBCWoQAgDwAAIBCAACQPFoAkEJahACAPAAAgEIAAJA8WgCQQlqEAIA8AACAQgAAkDxaAJBCWoQAgDwAAIBCAACQOFqEAIA8AACAQgAAkDhahACAOAAAkDhahACAOAAAkDhahACAOAAAkEJaAJBEWgCQRlqEAIA4AACQQloAkERaAJBGWoQAgEIAAIBEAACARgAAkCpahACAQgAAgEQAAIBGAACQKlqEAIAqAACQQloAkERahACAKgAAkEJaAJBEWoQAgEIAAIBEAACQPFoAkEJahACAQgAAgEQAAJA8WgCQQlqEAIA8AACAQgAAkDxaAJBCWoQAgDwAAIBCAACQPFoAkEJahACAPAAAgEIAAJA8WgCQQlqEAIA8AACAQgAAkDxaAJBCWoQAgDwAAIBCAACQPFoAkEJahACAPAAAgEIAAJA4WoQAgDwAAIBCAACQOFqEAIA4AACQOFqEAIA4AACQOFqEAIA4AACQQloAkERaAJBGWoQAgDgAAJBCWgCQRFoAkEZahACAQgAAgEQAAIBGAACQQloAkERaAJBGWoQAgEIAAIBEAACARgAAkCpahACAQgAAgEQAAIBGAACQKlqEAIAqAACQQloAkERahACAKgAAkEJaAJBEWoQAgEIAAIBEAACQQloAkERahACAQgAAgEQAAJBCWgCQRFqEAIBCAACARAAAkDxaAJBCWoQAgEIAAIBEAACQPFoAkEJahACAPAAAgEIAAJA8WgCQQlqEAIA8AACAQgAAkDxaAJBCWoQAgDwAAIBCAACQPFoAkEJahACAPAAAgEIAAJA8WgCQQlqEAIA8AACAQgAAkDxaAJBCWoQAgDwAAIBCAACQPFoAkEJahACAPAAAgEIAAJA8WgCQQlqEAIA8AACAQgAAkDhahACAPAAAgEIAAJA4WoQAgDgAAJA4WoQAgDgAAJA4WoQAgDgAAJA4WoQAgDgAAJBCWgCQRFoAkEZahACAOAAAkEJaAJBEWgCQRlqEAIBCAACARAAAgEYAAJBCWgCQRFoAkEZahACAQgAAgEQAAIBGAACQKlqEAIBCAACARAAAgEYAAJAqWoQAgCoAAJAqWoQAgCoAAJAqWoQAgCoAAJBCWgCQRFqEAIAqAACQQloAkERahACAQgAAgEQAAJBCWgCQRFqEAIBCAACARAAAkEJaAJBEWoQAgEIAAIBEAACQPFoAkEJahACAQgAAgEQAAJA8WgCQQlqEAIA8AACAQgAAkDxaAJBCWoQAgDwAAIBCAACQPFoAkEJahACAPAAAgEIAAJA8WgCQQlqEAIA8AACAQgAAkDxaAJBCWoQAgDwAAIBCAACQOFqEAIA8AACAQgAAkDhahACAOAAAkDhahACAOAAAkDhahACAOAAAkDhahACAOAAAkDhahACAOAAAkEJaAJBEWgCQRlqEAIA4AACQQloAkERaAJBGWoQAgEIAAIBEAACARgAAkCpahACAQgAAgEQAAIBGAACQKlqEAIAqAACQQloAkERahACAKgAAkEJaAJBEWoQAgEIAAIBEAACQQloAkERahACAQgAAgEQAAJA8WgCQQlqEAIBCAACARAAAkDxaAJBCWoQAgDwAAIBCAACQPFoAkEJahACAPAAAgEIAAJA8WgCQQlqEAIA8AACAQgAAkDxaAJBCWoQAgDwAAIBCAACQPFoAkEJahACAPAAAgEIAAJA8WgCQQlqEAIA8AACAQgAAkDxaAJBCWoQAgDwAAIBCAACQOFqEAIA8AACAQgAAkDhahACAOAAAkDhahACAOAAAkDhahACAOAAAkDhahACAOAAAkDhahACAOAAAkDhahACAOAAAkDhahACAOAAAkDhahACAOAAAkDhahACAOAAAkEJaAJBEWgCQRlqEAIA4AACQQloAkERaAJBGWoQAgEIAAIBEAACARgAAkEJaAJBEWgCQRlqEAIBCAACARAAAgEYAAJAqWoQAgEIAAIBEAACARgAAkEJaAJBEWoQAgCoAAJBCWgCQRFqEAIBCAACARAAAkDxaAJBCWoQAgEIAAIBEAACQPFoAkEJahACAPAAAgEIAAJA8WgCQQlqEAIA8AACAQgAAkDxaAJBCWoQAgDwAAIBCAACQPFoAkEJahACAPAAAgEIAAJA8WgCQQlqEAIA8AACAQgAAkDxaAJBCWoQAgDwAAIBCAACQOFqEAIA8AACAQgAAkDhahACAOAAAkDhahACAOAAAkDhahACAOAAAkDhahACAOAAAkDhahACAOAAAkEJaAJBEWgCQRlqEAIA4AACQQloAkERaAJBGWoQAgEIAAIBEAACARgAAkCpahACAQgAAgEQAAIBGAACQKlqEAIAqAACQQloAkERahACAKgAAkEJaAJBEWoQAgEIAAIBEAACQQloAkERahACAQgAAgEQAAJA8WgCQQlqEAIBCAACARAAAkDxaAJBCWoQAgDwAAIBCAACQPFoAkEJahACAPAAAgEIAAJA8WgCQQlqEAIA8AACAQgAAkDxaAJBCWoQAgDwAAIBCAACQPFoAkEJahACAPAAAgEIAAJA8WgCQQlqEAIA8AACAQgAAkDxaAJBCWoQAgDwAAIBCAACQOFqEAIA8AACAQgAAkDhahACAOAAAkDhahACAOAAAkDhahACAOAAAkDhahACAOAAAkDhahACAOAAAkDhahACAOAAAkEJaAJBEWgCQRlqEAIA4AACQQloAkERaAJBGWoQAgEIAAIBEAACARgAAkEJaAJBEWgCQRlqEAIBCAACARAAAgEYAAJAqWoQAgEIAAIBEAACARgAAkCpahACAKgAAkEJaAJBEWoQAgCoAAJBCWgCQRFqEAIBCAACARAAAkEJaAJBEWoQAgEIAAIBEAACQPFoAkEJahACAQgAAgEQAAJA8WgCQQlqEAIA8AACAQgAAkDxaAJBCWoQAgDwAAIBCAACQPFoAkEJahACAPAAAgEIAAJA8WgCQQlqEAIA8AACAQgAAkDxaAJBCWoQAgDwAAIBCAACQPFoAkEJahACAPAAAgEIAAJA8WgCQQlqEAIA8AACAQgAAkDxaAJBCWoQAgDwAAIBCAACQOFqEAIA8AACAQgAAkDhahACAOAAAkDhahACAOAAAkDhahACAOAAAkDhahACAOAAAkEJaAJBEWgCQRlqEAIA4AACQQloAkERaAJBGWoQAgEIAAIBEAACARgAAkEJaAJBEWgCQRlqEAIBCAACARAAAgEYAAJAqWoQAgEIAAIBEAACARgAAkCpahACAKgAAkCpahACAKgAAkEJaAJBEWoQAgCoAAJBCWgCQRFqEAIBCAACARAAAkEJaAJBEWoQAgEIAAIBEAACQPFoAkEJahACAQgAAgEQAAJA8WgCQQlqEAIA8AACAQgAAkDxaAJBCWoQAgDwAAIBCAACQPFoAkEJahACAPAAAgEIAAJA8WgCQQlqEAIA8AACAQgAAkDxaAJBCWoQAgDwAAIBCAACQPFoAkEJahACAPAAAgEIAAJA4WoQAgDwAAIBCAACQOFqEAIA4AACQOFqEAIA4AACQOFqEAIA4AACQOFqEAIA4AACQOFqEAIA4AACQQloAkERaAJBGWoQAgDgAAJBCWgCQRFoAkEZahACAQgAAgEQAAIBGAACQQloAkERaAJBGWoQAgEIAAIBEAACARgAAkCpahACAQgAAgEQAAIBGAACQKlqEAIAqAACQKlqEAIAqAACQKlqEAIAqAACQQloAkERahACAKgAAkEJaAJBEWoQAgEIAAIBEAACQQloAkERahACAQgAAgEQAAJA8WgCQQlqEAIBCAACARAAAkDxaAJBCWoQAgDwAAIBCAACQPFoAkEJahACAPAAAgEIAAJA8WgCQQlqEAIA8AACAQgAAkDxaAJBCWoQAgDwAAIBCAACQPFoAkEJahACAPAAAgEIAAJA4WoQAgDwAAIBCAACQOFqEAIA4AACQOFqEAIA4AACQOFqEAIA4AACQOFqEAIA4AACQOFqEAIA4AACQQloAkERaAJBGWoQAgDgAAJBCWgCQRFoAkEZahACAQgAAgEQAAIBGAACQQloAkERaAJBGWoQAgEIAAIBEAACARgAAkCpahACAQgAAgEQAAIBGAACQKlqEAIAqAACQKlqEAIAqAACQQloAkERahACAKgAAkEJaAJBEWoQAgEIAAIBEAACQQloAkERahACAQgAAgEQAAJA8WgCQQlqEAIBCAACARAAAkDxaAJBCWoQAgDwAAIBCAACQPFoAkEJahACAPAAAgEIAAJA8WgCQQlqEAIA8AACAQgAAkDxaAJBCWoQAgDwAAIBCAACQPFoAkEJahACAPAAAgEIAAJA8WgCQQlqEAIA8AACAQgAAkDhahACAPAAAgEIAAJA4WoQAgDgAAJA4WoQAgDgAAJA4WoQAgDgAAJA4WoQAgDgAAJA4WoQAgDgAAJBCWgCQRFoAkEZahACAOAAAkEJaAJBEWgCQRlqEAIBCAACARAAAgEYAAJAqWoQAgEIAAIBEAACARgAAkCpahACAKgAAkCpahACAKgAAkEJaAJBEWoQAgCoAAJBCWgCQRFqEAIBCAACARAAAkEJaAJBEWoQAgEIAAIBEAACQQloAkERahACAQgAAgEQAAJA8WgCQQlqEAIBCAACARAAAkDxaAJBCWoQAgDwAAIBCAACQPFoAkEJahACAPAAAgEIAAJA8WgCQQlqEAIA8AACAQgAAkDxaAJBCWoQAgDwAAIBCAACQPFoAkEJahACAPAAAgEIAAJA8WgCQQlqEAIA8AACAQgAAkDxaAJBCWoQAgDwAAIBCAACQOFqEAIA8AACAQgAAkDhahACAOAAAkDhahACAOAAAkDhahACAOAAAkDhahACAOAAAkDhahACAOAAAkEJaAJBEWgCQRlqEAIA4AACQQloAkERaAJBGWoQAgEIAAIBEAACARgAAkCpahACAQgAAgEQAAIBGAACQKlqEAIAqAACQQloAkERahACAKgAAkEJaAJBEWoQAgEIAAIBEAACQQloAkERahACAQgAAgEQAAJA8WgCQQlqEAIBCAACARAAAkDxaAJBCWoQAgDwAAIBCAACQPFoAkEJahACAPAAAgEIAAJA8WgCQQlqEAIA8AACAQgAAkDxaAJBCWoQAgDwAAIBCAACQPFoAkEJahACAPAAAgEIAAJA8WgCQQlqEAIA8AACAQgAAkDxaAJBCWoQAgDwAAIBCAACQPFoAkEJahACAPAAAgEIAAJA4WoQAgDwAAIBCAACQOFqEAIA4AACQOFqEAIA4AACQOFqEAIA4AACQOFqEAIA4AACQQloAkERaAJBGWoQAgDgAAJBCWgCQRFoAkEZahACAQgAAgEQAAIBGAACQQloAkERaAJBGWoQAgEIAAIBEAACARgAAkCpahACAQgAAgEQAAIBGAIQAgCoAiAD/LwA=\" type=\"audio/midi\" />\n",
       "                    Your browser does not support the audio element.\n",
       "                </audio>\n",
       "              "
      ],
      "text/plain": [
       "<IPython.lib.display.Audio object>"
      ]
     },
     "execution_count": 3,
     "metadata": {},
     "output_type": "execute_result"
    }
   ],
   "source": [
    "import IPython.display as ipd\n",
    "ipd.Audio(output_file_test)"
   ]
  },
  {
   "cell_type": "code",
   "execution_count": 4,
   "metadata": {},
   "outputs": [
    {
     "ename": "ImportError",
     "evalue": "No module named 'pretty_midi'",
     "output_type": "error",
     "traceback": [
      "\u001b[0;31m---------------------------------------------------------------------------\u001b[0m",
      "\u001b[0;31mImportError\u001b[0m                               Traceback (most recent call last)",
      "\u001b[0;32m<ipython-input-4-0ac0b492f723>\u001b[0m in \u001b[0;36m<module>\u001b[0;34m()\u001b[0m\n\u001b[0;32m----> 1\u001b[0;31m \u001b[0;32mimport\u001b[0m \u001b[0mpretty_midi\u001b[0m\u001b[0;34m\u001b[0m\u001b[0m\n\u001b[0m\u001b[1;32m      2\u001b[0m \u001b[0mpm\u001b[0m \u001b[0;34m=\u001b[0m \u001b[0mpretty_midi\u001b[0m\u001b[0;34m.\u001b[0m\u001b[0mPrettyMIDI\u001b[0m\u001b[0;34m(\u001b[0m\u001b[0moutput_file_test\u001b[0m\u001b[0;34m)\u001b[0m\u001b[0;34m\u001b[0m\u001b[0m\n\u001b[1;32m      3\u001b[0m \u001b[0;34m\u001b[0m\u001b[0m\n\u001b[1;32m      4\u001b[0m \u001b[0;32mdef\u001b[0m \u001b[0mplot_piano_roll\u001b[0m\u001b[0;34m(\u001b[0m\u001b[0mpm\u001b[0m\u001b[0;34m,\u001b[0m \u001b[0mstart_pitch\u001b[0m\u001b[0;34m,\u001b[0m \u001b[0mend_pitch\u001b[0m\u001b[0;34m,\u001b[0m \u001b[0mfs\u001b[0m\u001b[0;34m=\u001b[0m\u001b[0;36m100\u001b[0m\u001b[0;34m)\u001b[0m\u001b[0;34m:\u001b[0m\u001b[0;34m\u001b[0m\u001b[0m\n\u001b[1;32m      5\u001b[0m     \u001b[0;31m# Use librosa's specshow function for displaying the piano roll\u001b[0m\u001b[0;34m\u001b[0m\u001b[0;34m\u001b[0m\u001b[0m\n",
      "\u001b[0;31mImportError\u001b[0m: No module named 'pretty_midi'"
     ]
    }
   ],
   "source": [
    "import pretty_midi\n",
    "\n",
    "pm = pretty_midi.PrettyMIDI(output_file_test)\n",
    "\n",
    "def plot_piano_roll(pm, start_pitch, end_pitch, fs=100):\n",
    "    # Use librosa's specshow function for displaying the piano roll\n",
    "    librosa.display.specshow(pm.get_piano_roll(fs)[start_pitch:end_pitch],\n",
    "                             hop_length=1, sr=fs, x_axis='time', y_axis='cqt_note',\n",
    "                             fmin=pretty_midi.note_number_to_hz(start_pitch))\n",
    "\n",
    "plt.figure(figsize=(12, 4))\n",
    "plot_piano_roll(pm, 56, 70)\n",
    "# Note the blurry section between 1.5s and 2.3s - that's the pitch bending up!"
   ]
  },
  {
   "cell_type": "code",
   "execution_count": null,
   "metadata": {},
   "outputs": [],
   "source": [
    "fs = 16000\n",
    "rate = 16000\n",
    "IPython.display.Audio(pm.synthesize(fs=fs),rate=rate)"
   ]
  },
  {
   "cell_type": "code",
   "execution_count": null,
   "metadata": {},
   "outputs": [],
   "source": []
  },
  {
   "cell_type": "code",
   "execution_count": null,
   "metadata": {},
   "outputs": [],
   "source": []
  }
 ],
 "metadata": {
  "kernelspec": {
   "display_name": "Python 2",
   "language": "python",
   "name": "python2"
  },
  "language_info": {
   "codemirror_mode": {
    "name": "ipython",
    "version": 2
   },
   "file_extension": ".py",
   "mimetype": "text/x-python",
   "name": "python",
   "nbconvert_exporter": "python",
   "pygments_lexer": "ipython2",
   "version": "2.7.14"
  }
 },
 "nbformat": 4,
 "nbformat_minor": 2
}
