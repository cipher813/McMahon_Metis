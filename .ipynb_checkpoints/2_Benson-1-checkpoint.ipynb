{
 "cells": [
  {
   "cell_type": "code",
   "execution_count": 5,
   "metadata": {
    "collapsed": true
   },
   "outputs": [],
   "source": [
    "import requests\n",
    "from bs4 import BeautifulSoup\n",
    "import dateutil.parser\n",
    "from pprint import pprint\n",
    "import pandas as pd\n",
    "import numpy as np\n",
    "import matplotlib.pyplot as plt\n",
    "import sys\n"
   ]
  },
  {
   "cell_type": "code",
   "execution_count": 23,
   "metadata": {},
   "outputs": [
    {
     "data": {
      "text/plain": [
       "'/Users/brianmcmahon/anaconda3/envs/tensorflow1.4/bin/python'"
      ]
     },
     "execution_count": 23,
     "metadata": {},
     "output_type": "execute_result"
    }
   ],
   "source": [
    "sys.executable"
   ]
  },
  {
   "cell_type": "code",
   "execution_count": 115,
   "metadata": {
    "collapsed": true
   },
   "outputs": [],
   "source": [
    "def get_movie_value(soup, field_name):\n",
    "    '''Grab a value from boxofficemojo HTML\n",
    "    \n",
    "    Takes a string attribute of a movie on the page and\n",
    "    returns the string in the next sibling object\n",
    "    (the value for that attribute)\n",
    "    or None if nothing is found.\n",
    "    '''\n",
    "    obj = soup.find(text=re.compile(field_name))\n",
    "    if not obj: \n",
    "        return None\n",
    "    # this works for most of the values\n",
    "    next_sibling = obj.findNextSibling()\n",
    "    if next_sibling:\n",
    "        return next_sibling.text \n",
    "    else:\n",
    "        return None\n",
    "\n",
    "def to_date(datestring):\n",
    "    date = dateutil.parser.parse(datestring)\n",
    "    return date\n",
    "\n",
    "def money_to_int(moneystring):\n",
    "    moneystring = moneystring.replace('$', '').replace(',', '')\n",
    "    return int(moneystring)\n",
    "\n",
    "def runtime_to_minutes(runtimestring):\n",
    "    runtime = runtimestring.split()\n",
    "    try:\n",
    "        minutes = int(runtime[0])*60 + int(runtime[2])\n",
    "        return minutes\n",
    "    except:\n",
    "        return None\n",
    "\n",
    "def to_currency(int):\n",
    "    return \"${:,.1f}\".format(int//1000000)\n",
    "\n"
   ]
  },
  {
   "cell_type": "code",
   "execution_count": 116,
   "metadata": {},
   "outputs": [
    {
     "data": {
      "text/plain": [
       "'$1.0'"
      ]
     },
     "execution_count": 116,
     "metadata": {},
     "output_type": "execute_result"
    }
   ],
   "source": [
    "to_currency(1000000)"
   ]
  },
  {
   "cell_type": "code",
   "execution_count": null,
   "metadata": {
    "collapsed": true
   },
   "outputs": [],
   "source": []
  },
  {
   "cell_type": "code",
   "execution_count": null,
   "metadata": {
    "collapsed": true
   },
   "outputs": [],
   "source": []
  },
  {
   "cell_type": "code",
   "execution_count": null,
   "metadata": {
    "collapsed": true
   },
   "outputs": [],
   "source": []
  },
  {
   "cell_type": "code",
   "execution_count": null,
   "metadata": {
    "collapsed": true
   },
   "outputs": [],
   "source": []
  },
  {
   "cell_type": "code",
   "execution_count": 7,
   "metadata": {},
   "outputs": [],
   "source": [
    "url = 'http://www.boxofficemojo.com/alltime/adjusted.htm'\n",
    "\n",
    "response=requests.get(url)\n",
    "page=response.text\n",
    "\n",
    "soup=BeautifulSoup(page,\"lxml\")"
   ]
  },
  {
   "cell_type": "code",
   "execution_count": 140,
   "metadata": {},
   "outputs": [
    {
     "name": "stdout",
     "output_type": "stream",
     "text": [
      "[('/movies/?id=jurassicpark.htm', ['Jurassic Park', 'Uni.', '$843,843,500', '$402,453,882', '1993^']), ('/movies/?id=et.htm', ['E.T.: The Extra-Terrestrial', 'Uni.', '$1,302,222,800', '$435,110,554', '1982^']), ('/movies/?id=pixar2015.htm', ['Finding Dory', 'BV', '$515,531,300', '$486,295,561', '2016']), ('/movies/?id=ghostbusters.htm', ['Ghostbusters', 'Col.', '$653,374,800', '$242,212,467', '1984^']), ('/movies/?id=batman3.htm', ['The Dark Knight Rises', 'WB', '$528,601,000', '$448,139,099', '2012']), ('/movies/?id=sleepingbeauty.htm', ['Sleeping Beauty', 'Dis.', '$667,166,200', '$51,600,000', '1959^']), ('/movies/?id=americangraffiti.htm', ['American Graffiti', 'Uni.', '$603,257,100', '$115,000,000', '1973']), ('/movies/?id=cinderella1950.htm', ['Cinderella (1950)', 'Dis.', '$553,567,100', '$93,141,149', '1950^']), ('/movies/?id=beautyandthebeast2017.htm', ['Beauty and the Beast (2017)', 'BV', '$521,407,600', '$504,014,165', '2017']), ('/movies/?id=piratesofthecaribbean2.htm', [\"Pirates of the Caribbean: Dead Man's Chest\", 'BV', '$593,288,400', '$423,315,812', '2006']), ('/movies/?id=spiderman.htm', ['Spider-Man', 'Sony', '$637,870,000', '$403,706,375', '2002']), ('/movies/?id=rocky.htm', ['Rocky', 'UA', '$505,267,000', '$117,235,147', '1976']), ('/movies/?id=tootsie.htm', ['Tootsie', 'Col.', '$522,378,200', '$177,200,000', '1982']), ('/movies/?id=lionking.htm', ['The Lion King', 'BV', '$818,364,200', '$422,783,777', '1994^']), ('/movies/?id=grease.htm', ['Grease', 'Par.', '$706,577,200', '$188,755,690', '1978^']), ('/movies/?id=indianajonesandthetempleofdoom.htm', ['Indiana Jones and the Temple of Doom', 'Par.', '$491,431,300', '$179,870,271', '1984']), ('/movies/?id=fantasia.htm', ['Fantasia', 'Dis.', '$762,339,100', '$76,408,097', '1941^']), ('/movies/?id=avengers11.htm', [\"Marvel's The Avengers\", 'BV', '$705,769,500', '$623,357,910', '2012']), ('/movies/?id=batman.htm', ['Batman', 'WB', '$577,923,400', '$251,188,924', '1989']), ('/movies/?id=goldfinger.htm', ['Goldfinger', 'UA', '$608,634,000', '$51,081,062', '1964']), ('/movies/?id=bridgeontheriverkwai.htm', ['The Bridge on the River Kwai', 'Col.', '$499,392,000', '$27,200,000', '1957']), ('/movies/?id=exorcist.htm', ['The Exorcist', 'WB', '$1,015,300,400', '$232,906,145', '1973^']), ('/movies/?id=aladdin.htm', ['Aladdin', 'BV', '$481,420,700', '$217,350,219', '1992']), ('/movies/?id=smokeyandthebandit.htm', ['Smokey and the Bandit', 'Uni.', '$521,726,300', '$126,737,428', '1977']), ('/movies/?id=lawrenceofarabia.htm', ['Lawrence of Arabia', 'Col.', '$508,421,000', '$44,824,144', '1962^']), ('/movies/?id=gonewiththewind.htm', ['Gone with the Wind', 'MGM', '$1,854,769,700', '$198,676,459', '1939^']), ('/movies/?id=bestyearsofourlives.htm', ['The Best Years of Our Lives', 'RKO', '$504,900,000', '$23,650,000', '1946']), ('/movies/?id=starwars7.htm', ['Star Wars: The Force Awakens', 'BV', '$992,496,600', '$936,662,225', '2015']), ('/movies/?id=harrypotter.htm', [\"Harry Potter and the Sorcerer's Stone\", 'WB', '$513,281,200', '$317,575,550', '2001']), ('/movies/?id=pinocchio.htm', ['Pinocchio', 'Dis.', '$618,762,600', '$84,254,167', '1940^']), ('/movies/?id=myfairlady.htm', ['My Fair Lady', 'WB', '$550,800,000', '$72,000,000', '1964']), ('/movies/?id=shrek2.htm', ['Shrek 2', 'DW', '$652,247,500', '$441,226,247', '2004']), ('/movies/?id=starwars.htm', ['Star Wars: Episode I - The Phantom Menace', 'Fox', '$829,064,800', '$474,544,677', '1999^']), ('/movies/?id=backtothefuture.htm', ['Back to the Future', 'Uni.', '$542,085,000', '$210,609,762', '1985']), ('/movies/?id=mash.htm', ['M.A.S.H.', 'Fox', '$492,821,000', '$81,600,000', '1970']), ('/movies/?id=transformers2.htm', ['Transformers: Revenge of the Fallen', 'P/DW', '$494,810,500', '$402,111,870', '2009']), ('/movies/?id=80days56.htm', ['Around the World in 80 Days', 'UA', '$593,169,200', '$42,000,000', '1956']), ('/movies/?id=titanic.htm', ['Titanic', 'Par.', '$1,244,347,300', '$659,363,944', '1997^']), ('/movies/?id=forrestgump.htm', ['Forrest Gump', 'Par.', '$721,682,300', '$330,252,182', '1994^']), ('/movies/?id=starwars2.htm', ['Star Wars: Episode II - Attack of the Clones', 'Fox', '$490,840,600', '$310,676,740', '2002^']), ('/movies/?id=twister.htm', ['Twister', 'WB', '$502,037,000', '$241,721,524', '1996']), ('/movies/?id=closeencountersofthethirdkind.htm', ['Close Encounters of the Third Kind', 'Col.', '$513,370,800', '$135,189,114', '1977^']), ('/movies/?id=raidersofthelostark.htm', ['Raiders of the Lost Ark', 'Par.', '$812,675,900', '$248,159,971', '1981^']), ('/movies/?id=starwars4.htm', ['Star Wars', 'Fox', '$1,635,137,900', '$460,998,007', '1977^']), ('/movies/?id=sting.htm', ['The Sting', 'Uni.', '$818,331,400', '$156,000,000', '1973']), ('/movies/?id=robe.htm', ['The Robe', 'Fox', '$600,872,700', '$36,000,000', '1953']), ('/movies/?id=westsidestory.htm', ['West Side Story', 'MGM', '$513,807,200', '$43,656,822', '1961']), ('/movies/?id=bambi.htm', ['Bambi', 'RKO', '$584,880,300', '$102,247,150', '1942^']), ('/movies/?id=rockyhorrorpictureshow.htm', ['The Rocky Horror Picture Show', 'Fox', '$505,537,300', '$112,892,319', '1975']), ('/movies/?id=soundofmusic.htm', ['The Sound of Music', 'Fox', '$1,307,373,200', '$158,671,368', '1965']), ('/movies/?id=butchcassidyandthesundancekid.htm', ['Butch Cassidy and the Sundance Kid', 'Fox', '$647,721,100', '$102,308,889', '1969']), ('/movies/?id=doctorzhivago.htm', ['Doctor Zhivago', 'MGM', '$1,139,563,500', '$111,721,910', '1965']), ('/movies/?id=sixthsense.htm', ['The Sixth Sense', 'BV', '$528,576,400', '$293,506,292', '1999']), ('/movies/?id=findingnemo.htm', ['Finding Nemo', 'BV', '$565,364,200', '$380,843,261', '2003^']), ('/movies/?id=fellowshipofthering.htm', ['The Lord of the Rings: The Fellowship of the Ring', 'NL', '$503,057,400', '$315,544,750', '2001^']), ('/movies/?id=marypoppins.htm', ['Mary Poppins', 'Dis.', '$717,709,100', '$102,272,727', '1964^']), ('/movies/?id=bellsofstmarys.htm', [\"The Bells of St. Mary's\", 'RKO', '$576,000,000', '$21,333,333', '1945']), ('/movies/?id=junglebook.htm', ['The Jungle Book', 'Dis.', '$676,381,600', '$141,843,612', '1967^']), ('/movies/?id=cleopatra.htm', ['Cleopatra (1963)', 'Fox', '$616,744,200', '$57,777,778', '1963']), ('/movies/?id=animalhouse.htm', [\"National Lampoon's Animal House\", 'Uni.', '$549,792,700', '$141,600,000', '1978^']), ('/movies/?id=101dalmations.htm', ['101 Dalmatians', 'Dis.', '$917,240,400', '$144,880,014', '1961^']), ('/movies/?id=spiderman2.htm', ['Spider-Man 2', 'Sony', '$552,257,300', '$373,585,825', '2004']), ('/movies/?id=airport.htm', ['Airport', 'Uni.', '$606,901,600', '$100,489,151', '1970']), ('/movies/?id=returnoftheking.htm', ['The Lord of the Rings: The Return of the King', 'NL', '$565,852,400', '$377,845,905', '2003^']), ('/movies/?id=homealone.htm', ['Home Alone', 'Fox', '$621,799,900', '$285,761,243', '1990']), ('/movies/?id=lovestory.htm', ['Love Story', 'Par.', '$642,583,000', '$106,397,186', '1970']), ('/movies/?id=avengers2.htm', ['Avengers: Age of Ultron', 'BV', '$491,377,100', '$459,005,868', '2015']), ('/movies/?id=benhur.htm', ['Ben-Hur', 'MGM', '$899,640,000', '$74,000,000', '1959']), ('/movies/?id=starwars6.htm', ['Return of the Jedi', 'Fox', '$863,465,400', '$309,306,177', '1983^']), ('/movies/?id=poseidonadventure.htm', ['The Poseidon Adventure', 'Fox', '$504,000,000', '$84,563,118', '1972']), ('/movies/?id=darkknight.htm', ['The Dark Knight', 'WB', '$683,575,000', '$534,858,444', '2008^']), ('/movies/?id=independenceday.htm', ['Independence Day', 'Fox', '$635,888,300', '$306,169,268', '1996^']), ('/movies/?id=blazingsaddles.htm', ['Blazing Saddles', 'WB', '$580,539,700', '$119,601,481', '1974^']), ('/movies/?id=passionofthechrist.htm', ['The Passion of the Christ', 'NM', '$548,090,400', '$370,782,930', '2004^']), ('/movies/?id=starwars2016.htm', ['Rogue One: A Star Wars Story', 'BV', '$554,854,100', '$532,177,324', '2016']), ('/movies/?id=starwars8.htm', ['Star Wars: The Last Jedi', 'BV', '$604,284,500', '$604,284,476', '2017']), ('/movies/?id=oneflewoverthecuckoosnest.htm', [\"One Flew Over the Cuckoo's Nest\", 'UA', '$492,831,600', '$108,981,275', '1975']), ('/movies/?id=godfather.htm', ['The Godfather', 'Par.', '$724,509,200', '$134,966,411', '1972^']), ('/movies/?id=toystory3.htm', ['Toy Story 3', 'BV', '$479,213,200', '$415,004,880', '2010']), ('/movies/?id=toweringinferno.htm', ['The Towering Inferno', 'Fox', '$563,428,600', '$116,000,000', '1974']), ('/movies/?id=ghost.htm', ['Ghost', 'Par.', '$472,450,700', '$217,631,306', '1990']), ('/movies/?id=swissfamilyrobinson.htm', ['Swiss Family Robinson', 'Dis.', '$493,957,400', '$40,356,000', '1960']), ('/movies/?id=twotowers.htm', ['The Lord of the Rings: The Two Towers', 'NL', '$529,918,100', '$342,551,365', '2002^']), ('/movies/?id=superman.htm', ['Superman', 'WB', '$526,547,600', '$134,218,018', '1978']), ('/movies/?id=ladyandthetramp.htm', ['Lady and the Tramp', 'Dis.', '$511,646,200', '$93,602,326', '1955^']), ('/movies/?id=jaws.htm', ['Jaws', 'Uni.', '$1,175,763,500', '$260,000,000', '1975']), ('/movies/?id=tencommandments.htm', ['The Ten Commandments', 'Par.', '$1,202,580,000', '$65,500,000', '1956']), ('/movies/?id=greatestshowonearth.htm', ['The Greatest Show on Earth', 'Par.', '$550,800,000', '$36,000,000', '1952']), ('/movies/?id=avatar.htm', ['Avatar', 'Fox', '$893,301,900', '$760,507,625', '2009^']), ('/movies/?id=snowwhite.htm', ['Snow White and the Seven Dwarfs', 'Dis.', '$1,000,620,000', '$184,925,486', '1937^']), ('/movies/?id=mrsdoubtfire.htm', ['Mrs. Doubtfire', 'Fox', '$483,642,600', '$219,195,243', '1993']), ('/movies/?id=starwars5.htm', ['The Empire Strikes Back', 'Fox', '$901,298,200', '$290,475,067', '1980^']), ('/movies/?id=itsamadmadmadmadworld.htm', [\"It's a Mad, Mad, Mad, Mad World\", 'MGM', '$494,576,300', '$46,332,858', '1963']), ('/movies/?id=beverlyhillscop.htm', ['Beverly Hills Cop', 'Par.', '$616,437,200', '$234,760,478', '1984']), ('/movies/?id=starwars3.htm', ['Star Wars: Episode III - Revenge of the Sith', 'Fox', '$544,599,700', '$380,270,577', '2005^']), ('/movies/?id=thunderball.htm', ['Thunderball', 'UA', '$686,664,000', '$63,595,658', '1965']), ('/movies/?id=jurassicpark4.htm', ['Jurassic World', 'Uni.', '$725,671,700', '$652,270,625', '2015']), ('/movies/?id=meninblack.htm', ['Men in Black', 'Sony', '$501,381,100', '$250,690,539', '1997']), ('/movies/?id=graduate.htm', ['The Graduate', 'AVCO', '$785,595,300', '$104,945,305', '1967^'])]\n"
     ]
    }
   ],
   "source": [
    "tables=soup.find_all(\"table\")\n",
    "\n",
    "rows=[row for row in tables[3].find_all('tr')]\n",
    "\n",
    "# Just want to look at 1st 20 rows for now\n",
    "rows=rows[1:100]\n",
    "\n",
    "movies={}\n",
    "for row in rows:\n",
    "    items=row.find_all('td')\n",
    "    title=items[1].find('a')['href']\n",
    "    movies[title]=[i.text for i in items[1:]]\n",
    "\n",
    "    \n",
    "top_movies = list(movies.items())\n",
    "print(top_movies)"
   ]
  },
  {
   "cell_type": "code",
   "execution_count": 141,
   "metadata": {},
   "outputs": [
    {
     "data": {
      "text/plain": [
       "99"
      ]
     },
     "execution_count": 141,
     "metadata": {},
     "output_type": "execute_result"
    }
   ],
   "source": [
    "len(top_movies)"
   ]
  },
  {
   "cell_type": "code",
   "execution_count": 142,
   "metadata": {},
   "outputs": [
    {
     "name": "stdout",
     "output_type": "stream",
     "text": [
      "{'My Fair Lady': [550800000, 72000000, 'WB', 1964], 'Spider-Man 2': [552257300, 373585825, 'Sony', 2004], 'Transformers: Revenge of the Fallen': [494810500, 402111870, 'P/DW', 2009], 'Love Story': [642583000, 106397186, 'Par.', 1970], 'Star Wars: Episode III - Revenge of the Sith': [544599700, 380270577, 'Fox', 2005], 'Batman': [577923400, 251188924, 'WB', 1989], 'Butch Cassidy and the Sundance Kid': [647721100, 102308889, 'Fox', 1969], 'Shrek 2': [652247500, 441226247, 'DW', 2004], 'Ghostbusters': [653374800, 242212467, 'Col.', 1984], 'Star Wars: Episode I - The Phantom Menace': [829064800, 474544677, 'Fox', 1999], 'Blazing Saddles': [580539700, 119601481, 'WB', 1974], 'Smokey and the Bandit': [521726300, 126737428, 'Uni.', 1977], 'Raiders of the Lost Ark': [812675900, 248159971, 'Par.', 1981], 'The Jungle Book': [676381600, 141843612, 'Dis.', 1967], \"Pirates of the Caribbean: Dead Man's Chest\": [593288400, 423315812, 'BV', 2006], \"One Flew Over the Cuckoo's Nest\": [492831600, 108981275, 'UA', 1975], 'Star Wars: The Last Jedi': [604284500, 604284476, 'BV', 2017], 'E.T.: The Extra-Terrestrial': [1302222800, 435110554, 'Uni.', 1982], 'Thunderball': [686664000, 63595658, 'UA', 1965], 'Airport': [606901600, 100489151, 'Uni.', 1970], 'Indiana Jones and the Temple of Doom': [491431300, 179870271, 'Par.', 1984], 'Jurassic World': [725671700, 652270625, 'Uni.', 2015], 'Spider-Man': [637870000, 403706375, 'Sony', 2002], 'Aladdin': [481420700, 217350219, 'BV', 1992], 'M.A.S.H.': [492821000, 81600000, 'Fox', 1970], 'Star Wars': [1635137900, 460998007, 'Fox', 1977], 'Close Encounters of the Third Kind': [513370800, 135189114, 'Col.', 1977], 'The Empire Strikes Back': [901298200, 290475067, 'Fox', 1980], 'The Ten Commandments': [1202580000, 65500000, 'Par.', 1956], 'Finding Dory': [515531300, 486295561, 'BV', 2016], 'Mrs. Doubtfire': [483642600, 219195243, 'Fox', 1993], 'The Godfather': [724509200, 134966411, 'Par.', 1972], 'Finding Nemo': [565364200, 380843261, 'BV', 2003], 'Avatar': [893301900, 760507625, 'Fox', 2009], 'Jaws': [1175763500, 260000000, 'Uni.', 1975], 'Cinderella (1950)': [553567100, 93141149, 'Dis.', 1950], 'The Lord of the Rings: The Fellowship of the Ring': [503057400, 315544750, 'NL', 2001], 'The Bridge on the River Kwai': [499392000, 27200000, 'Col.', 1957], 'Tootsie': [522378200, 177200000, 'Col.', 1982], 'Snow White and the Seven Dwarfs': [1000620000, 184925486, 'Dis.', 1937], 'The Robe': [600872700, 36000000, 'Fox', 1953], 'The Lord of the Rings: The Return of the King': [565852400, 377845905, 'NL', 2003], 'The Best Years of Our Lives': [504900000, 23650000, 'RKO', 1946], 'Superman': [526547600, 134218018, 'WB', 1978], 'The Exorcist': [1015300400, 232906145, 'WB', 1973], 'The Lord of the Rings: The Two Towers': [529918100, 342551365, 'NL', 2002], 'Avengers: Age of Ultron': [491377100, 459005868, 'BV', 2015], 'Rogue One: A Star Wars Story': [554854100, 532177324, 'BV', 2016], 'The Dark Knight Rises': [528601000, 448139099, 'WB', 2012], 'Gone with the Wind': [1854769700, 198676459, 'MGM', 1939], 'The Sound of Music': [1307373200, 158671368, 'Fox', 1965], 'Beverly Hills Cop': [616437200, 234760478, 'Par.', 1984], 'Pinocchio': [618762600, 84254167, 'Dis.', 1940], 'The Dark Knight': [683575000, 534858444, 'WB', 2008], 'Goldfinger': [608634000, 51081062, 'UA', 1964], 'Beauty and the Beast (2017)': [521407600, 504014165, 'BV', 2017], 'American Graffiti': [603257100, 115000000, 'Uni.', 1973], 'The Graduate': [785595300, 104945305, 'AVCO', 1967], \"It's a Mad, Mad, Mad, Mad World\": [494576300, 46332858, 'MGM', 1963], 'Home Alone': [621799900, 285761243, 'Fox', 1990], 'Ben-Hur': [899640000, 74000000, 'MGM', 1959], 'Toy Story 3': [479213200, 415004880, 'BV', 2010], \"Harry Potter and the Sorcerer's Stone\": [513281200, 317575550, 'WB', 2001], 'The Sting': [818331400, 156000000, 'Uni.', 1973], 'Sleeping Beauty': [667166200, 51600000, 'Dis.', 1959], 'Star Wars: Episode II - Attack of the Clones': [490840600, 310676740, 'Fox', 2002], \"Marvel's The Avengers\": [705769500, 623357910, 'BV', 2012], 'Doctor Zhivago': [1139563500, 111721910, 'MGM', 1965], 'West Side Story': [513807200, 43656822, 'MGM', 1961], 'The Passion of the Christ': [548090400, 370782930, 'NM', 2004], 'Forrest Gump': [721682300, 330252182, 'Par.', 1994], 'The Rocky Horror Picture Show': [505537300, 112892319, 'Fox', 1975], 'The Poseidon Adventure': [504000000, 84563118, 'Fox', 1972], 'Twister': [502037000, 241721524, 'WB', 1996], 'The Towering Inferno': [563428600, 116000000, 'Fox', 1974], '101 Dalmatians': [917240400, 144880014, 'Dis.', 1961], 'The Greatest Show on Earth': [550800000, 36000000, 'Par.', 1952], 'Titanic': [1244347300, 659363944, 'Par.', 1997], \"The Bells of St. Mary's\": [576000000, 21333333, 'RKO', 1945], 'Fantasia': [762339100, 76408097, 'Dis.', 1941], 'Men in Black': [501381100, 250690539, 'Sony', 1997], 'Lady and the Tramp': [511646200, 93602326, 'Dis.', 1955], 'The Sixth Sense': [528576400, 293506292, 'BV', 1999], 'Lawrence of Arabia': [508421000, 44824144, 'Col.', 1962], 'Star Wars: The Force Awakens': [992496600, 936662225, 'BV', 2015], 'Jurassic Park': [843843500, 402453882, 'Uni.', 1993], 'Cleopatra (1963)': [616744200, 57777778, 'Fox', 1963], 'The Lion King': [818364200, 422783777, 'BV', 1994], 'Grease': [706577200, 188755690, 'Par.', 1978], 'Independence Day': [635888300, 306169268, 'Fox', 1996], 'Back to the Future': [542085000, 210609762, 'Uni.', 1985], 'Mary Poppins': [717709100, 102272727, 'Dis.', 1964], 'Rocky': [505267000, 117235147, 'UA', 1976], 'Swiss Family Robinson': [493957400, 40356000, 'Dis.', 1960], 'Around the World in 80 Days': [593169200, 42000000, 'UA', 1956], 'Bambi': [584880300, 102247150, 'RKO', 1942], 'Return of the Jedi': [863465400, 309306177, 'Fox', 1983], \"National Lampoon's Animal House\": [549792700, 141600000, 'Uni.', 1978], 'Ghost': [472450700, 217631306, 'Par.', 1990]}\n"
     ]
    }
   ],
   "source": [
    "top_dict = {}\n",
    "\n",
    "for row in top_movies:\n",
    "    title = row[1][0]\n",
    "    studio = row[1][1]\n",
    "    adj_gross_raw = row[1][2]\n",
    "    adj_gross = int(adj_gross_raw.replace('$','').replace(',',''))\n",
    "    un_gross_raw = row[1][3]\n",
    "    un_gross = int(un_gross_raw.replace('$','').replace(',',''))\n",
    "    year_raw = row[1][4]\n",
    "    year = int(year_raw.replace('^', ''))\n",
    "    top_dict[title] = [adj_gross,un_gross,studio,year]\n",
    "\n",
    "print(top_dict)"
   ]
  },
  {
   "cell_type": "code",
   "execution_count": 146,
   "metadata": {},
   "outputs": [
    {
     "data": {
      "text/html": [
       "<div>\n",
       "<style scoped>\n",
       "    .dataframe tbody tr th:only-of-type {\n",
       "        vertical-align: middle;\n",
       "    }\n",
       "\n",
       "    .dataframe tbody tr th {\n",
       "        vertical-align: top;\n",
       "    }\n",
       "\n",
       "    .dataframe thead th {\n",
       "        text-align: right;\n",
       "    }\n",
       "</style>\n",
       "<table border=\"1\" class=\"dataframe\">\n",
       "  <thead>\n",
       "    <tr style=\"text-align: right;\">\n",
       "      <th></th>\n",
       "      <th>Adjusted Gross</th>\n",
       "      <th>Unadjusted Gross</th>\n",
       "      <th>Studio</th>\n",
       "      <th>Year</th>\n",
       "    </tr>\n",
       "  </thead>\n",
       "  <tbody>\n",
       "    <tr>\n",
       "      <th>Gone with the Wind</th>\n",
       "      <td>$1,854.0</td>\n",
       "      <td>$198.0</td>\n",
       "      <td>MGM</td>\n",
       "      <td>1939</td>\n",
       "    </tr>\n",
       "    <tr>\n",
       "      <th>Star Wars</th>\n",
       "      <td>$1,635.0</td>\n",
       "      <td>$460.0</td>\n",
       "      <td>Fox</td>\n",
       "      <td>1977</td>\n",
       "    </tr>\n",
       "    <tr>\n",
       "      <th>The Sound of Music</th>\n",
       "      <td>$1,307.0</td>\n",
       "      <td>$158.0</td>\n",
       "      <td>Fox</td>\n",
       "      <td>1965</td>\n",
       "    </tr>\n",
       "    <tr>\n",
       "      <th>E.T.: The Extra-Terrestrial</th>\n",
       "      <td>$1,302.0</td>\n",
       "      <td>$435.0</td>\n",
       "      <td>Uni.</td>\n",
       "      <td>1982</td>\n",
       "    </tr>\n",
       "    <tr>\n",
       "      <th>Titanic</th>\n",
       "      <td>$1,244.0</td>\n",
       "      <td>$659.0</td>\n",
       "      <td>Par.</td>\n",
       "      <td>1997</td>\n",
       "    </tr>\n",
       "  </tbody>\n",
       "</table>\n",
       "</div>"
      ],
      "text/plain": [
       "                            Adjusted Gross Unadjusted Gross Studio  Year\n",
       "Gone with the Wind                $1,854.0           $198.0    MGM  1939\n",
       "Star Wars                         $1,635.0           $460.0    Fox  1977\n",
       "The Sound of Music                $1,307.0           $158.0    Fox  1965\n",
       "E.T.: The Extra-Terrestrial       $1,302.0           $435.0   Uni.  1982\n",
       "Titanic                           $1,244.0           $659.0   Par.  1997"
      ]
     },
     "execution_count": 146,
     "metadata": {},
     "output_type": "execute_result"
    }
   ],
   "source": [
    "import pandas as pd\n",
    "\n",
    "columns = ['Adjusted Gross','Unadjusted Gross','Studio','Year'] # $ in millions\n",
    "df = pd.DataFrame(top_dict,index=columns).T\n",
    "df = df.sort_values(['Adjusted Gross'],ascending=False)\n",
    "df['Adjusted Gross']=df['Adjusted Gross'].apply(to_currency)\n",
    "df['Unadjusted Gross']=df['Unadjusted Gross'].apply(to_currency)\n",
    "df.head()"
   ]
  },
  {
   "cell_type": "code",
   "execution_count": 144,
   "metadata": {},
   "outputs": [
    {
     "data": {
      "image/png": "[encoded data removed]",
      "text/plain": [
       "<matplotlib.figure.Figure at 0x10968f048>"
      ]
     },
     "metadata": {},
     "output_type": "display_data"
    }
   ],
   "source": [
    "import matplotlib.pyplot as plt\n",
    "\n",
    "y1 = pd.Series(df['Adjusted Gross'])\n",
    "y2 = pd.Series(df['Unadjusted Gross'])\n",
    "x = pd.Series(df['Year'])\n",
    "\n",
    "fig, ax = plt.subplots()\n",
    "ax.scatter(y1,y2, edgecolors=(0, 0, 0))\n",
    "ax.plot([y.min(), y.max()], [y.min(), y.max()], 'k--', lw=4)\n",
    "ax.set_xlabel('Measured')\n",
    "ax.set_ylabel('Predicted')\n",
    "plt.tight_layout()\n",
    "plt.show()"
   ]
  },
  {
   "cell_type": "code",
   "execution_count": 145,
   "metadata": {},
   "outputs": [
    {
     "ename": "NameError",
     "evalue": "name 'dateutil' is not defined",
     "output_type": "error",
     "traceback": [
      "\u001b[0;31m---------------------------------------------------------------------------\u001b[0m",
      "\u001b[0;31mNameError\u001b[0m                                 Traceback (most recent call last)",
      "\u001b[0;32m<ipython-input-145-39f0b9e01cee>\u001b[0m in \u001b[0;36m<module>\u001b[0;34m()\u001b[0m\n\u001b[1;32m      1\u001b[0m \u001b[0mraw_release_date\u001b[0m \u001b[0;34m=\u001b[0m \u001b[0mget_movie_value\u001b[0m\u001b[0;34m(\u001b[0m\u001b[0msoup\u001b[0m\u001b[0;34m,\u001b[0m\u001b[0;34m'Release Date'\u001b[0m\u001b[0;34m)\u001b[0m\u001b[0;34m\u001b[0m\u001b[0m\n\u001b[0;32m----> 2\u001b[0;31m \u001b[0mrelease_date\u001b[0m \u001b[0;34m=\u001b[0m \u001b[0mto_date\u001b[0m\u001b[0;34m(\u001b[0m\u001b[0mraw_release_date\u001b[0m\u001b[0;34m)\u001b[0m\u001b[0;34m\u001b[0m\u001b[0m\n\u001b[0m\u001b[1;32m      3\u001b[0m \u001b[0;34m\u001b[0m\u001b[0m\n\u001b[1;32m      4\u001b[0m \u001b[0mraw_domestic_total_gross\u001b[0m \u001b[0;34m=\u001b[0m \u001b[0mget_movie_value\u001b[0m\u001b[0;34m(\u001b[0m\u001b[0msoup\u001b[0m\u001b[0;34m,\u001b[0m\u001b[0;34m'Domestic Total'\u001b[0m\u001b[0;34m)\u001b[0m\u001b[0;34m\u001b[0m\u001b[0m\n\u001b[1;32m      5\u001b[0m \u001b[0mdomestic_total_gross\u001b[0m \u001b[0;34m=\u001b[0m \u001b[0mmoney_to_int\u001b[0m\u001b[0;34m(\u001b[0m\u001b[0mraw_domestic_total_gross\u001b[0m\u001b[0;34m)\u001b[0m\u001b[0;34m\u001b[0m\u001b[0m\n",
      "\u001b[0;32m<ipython-input-115-3b3beb878d11>\u001b[0m in \u001b[0;36mto_date\u001b[0;34m(datestring)\u001b[0m\n\u001b[1;32m     18\u001b[0m \u001b[0;34m\u001b[0m\u001b[0m\n\u001b[1;32m     19\u001b[0m \u001b[0;32mdef\u001b[0m \u001b[0mto_date\u001b[0m\u001b[0;34m(\u001b[0m\u001b[0mdatestring\u001b[0m\u001b[0;34m)\u001b[0m\u001b[0;34m:\u001b[0m\u001b[0;34m\u001b[0m\u001b[0m\n\u001b[0;32m---> 20\u001b[0;31m     \u001b[0mdate\u001b[0m \u001b[0;34m=\u001b[0m \u001b[0mdateutil\u001b[0m\u001b[0;34m.\u001b[0m\u001b[0mparser\u001b[0m\u001b[0;34m.\u001b[0m\u001b[0mparse\u001b[0m\u001b[0;34m(\u001b[0m\u001b[0mdatestring\u001b[0m\u001b[0;34m)\u001b[0m\u001b[0;34m\u001b[0m\u001b[0m\n\u001b[0m\u001b[1;32m     21\u001b[0m     \u001b[0;32mreturn\u001b[0m \u001b[0mdate\u001b[0m\u001b[0;34m\u001b[0m\u001b[0m\n\u001b[1;32m     22\u001b[0m \u001b[0;34m\u001b[0m\u001b[0m\n",
      "\u001b[0;31mNameError\u001b[0m: name 'dateutil' is not defined"
     ]
    }
   ],
   "source": [
    "raw_release_date = get_movie_value(soup,'Release Date')\n",
    "release_date = to_date(raw_release_date)\n",
    "\n",
    "raw_domestic_total_gross = get_movie_value(soup,'Domestic Total')\n",
    "domestic_total_gross = money_to_int(raw_domestic_total_gross)\n",
    "\n",
    "raw_runtime = get_movie_value(soup,'Runtime')\n",
    "runtime = runtime_to_minutes(raw_runtime)\n",
    "\n",
    "headers = ['movie title', 'domestic total gross',\n",
    "           'release date', 'runtime (mins)', 'rating']\n",
    "\n",
    "movie_data = []\n",
    "movie_dict = dict(zip(headers, [title,\n",
    "                                domestic_total_gross,\n",
    "                                release_date,\n",
    "                                runtime,\n",
    "                                rating]))\n",
    "movie_data.append(movie_dict)\n",
    "\n",
    "pprint(movie_data)"
   ]
  },
  {
   "cell_type": "code",
   "execution_count": null,
   "metadata": {
    "collapsed": true
   },
   "outputs": [],
   "source": []
  },
  {
   "cell_type": "code",
   "execution_count": null,
   "metadata": {
    "collapsed": true
   },
   "outputs": [],
   "source": []
  },
  {
   "cell_type": "code",
   "execution_count": null,
   "metadata": {
    "collapsed": true
   },
   "outputs": [],
   "source": []
  },
  {
   "cell_type": "code",
   "execution_count": null,
   "metadata": {
    "collapsed": true
   },
   "outputs": [],
   "source": []
  }
 ],
 "metadata": {
  "kernelspec": {
   "display_name": "Python 3",
   "language": "python",
   "name": "python3"
  },
  "language_info": {
   "codemirror_mode": {
    "name": "ipython",
    "version": 3
   },
   "file_extension": ".py",
   "mimetype": "text/x-python",
   "name": "python",
   "nbconvert_exporter": "python",
   "pygments_lexer": "ipython3",
   "version": "3.5.4"
  }
 },
 "nbformat": 4,
 "nbformat_minor": 2
}
