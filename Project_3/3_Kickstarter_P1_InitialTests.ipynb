{
 "cells": [
  {
   "cell_type": "markdown",
   "metadata": {},
   "source": [
    "# Kickstarter: Classification\n",
    "Tests Include:\n",
    "-KNN\n",
    "-Logistic Regression\n",
    "-Decision Trees\n",
    "-Random Forest\n",
    "-SVM\n",
    "-Gradient Boosting"
   ]
  },
  {
   "cell_type": "code",
   "execution_count": 1,
   "metadata": {},
   "outputs": [
    {
     "name": "stderr",
     "output_type": "stream",
     "text": [
      "/Users/brianmcmahon/anaconda3/envs/tensorflow1.4/lib/python3.5/site-packages/sklearn/cross_validation.py:41: DeprecationWarning: This module was deprecated in version 0.18 in favor of the model_selection module into which all the refactored classes and functions are moved. Also note that the interface of the new CV iterators are different from that of this module. This module will be removed in 0.20.\n",
      "  \"This module will be removed in 0.20.\", DeprecationWarning)\n",
      "/Users/brianmcmahon/anaconda3/envs/tensorflow1.4/lib/python3.5/site-packages/sklearn/learning_curve.py:22: DeprecationWarning: This module was deprecated in version 0.18 in favor of the model_selection module into which all the functions are moved. This module will be removed in 0.20\n",
      "  DeprecationWarning)\n"
     ]
    }
   ],
   "source": [
    "import pandas as pd\n",
    "import numpy as np\n",
    "import matplotlib.pyplot as plt\n",
    "import matplotlib.cm as cm\n",
    "\n",
    "import sqlalchemy\n",
    "from sqlalchemy import create_engine\n",
    "from flask_sqlalchemy import SQLAlchemy\n",
    "\n",
    "from sklearn import naive_bayes\n",
    "from sklearn.naive_bayes import GaussianNB, BernoulliNB,MultinomialNB\n",
    "from sklearn.neighbors import KNeighborsClassifier\n",
    "from sklearn.linear_model import LogisticRegression, LogisticRegressionCV\n",
    "from sklearn.svm import SVC, LinearSVC\n",
    "from sklearn.tree import DecisionTreeClassifier\n",
    "from sklearn.ensemble import RandomForestClassifier, RandomForestRegressor\n",
    "from sklearn.metrics import accuracy_score, classification_report,confusion_matrix\n",
    "from sklearn.metrics import precision_score, recall_score, f1_score, roc_curve, roc_auc_score\n",
    "from sklearn.metrics import average_precision_score, precision_recall_curve, auc\n",
    "from sklearn.learning_curve import learning_curve\n",
    "from sklearn.cross_validation import train_test_split, cross_val_predict\n",
    "from sklearn.model_selection import GridSearchCV, cross_val_score, KFold\n",
    "from sklearn.preprocessing import label_binarize, scale, StandardScaler\n",
    "from sklearn.multiclass import OneVsRestClassifier\n",
    "from sklearn.pipeline import make_pipeline\n",
    "\n",
    "from sklearn.datasets import make_classification\n",
    "from sklearn.linear_model import LogisticRegression\n",
    "from sklearn.ensemble import (RandomTreesEmbedding, RandomForestClassifier,\n",
    "                              GradientBoostingClassifier)\n",
    "from sklearn.preprocessing import OneHotEncoder\n",
    "\n",
    "import warnings\n",
    "import os\n",
    "%matplotlib inline\n",
    "\n",
    "warnings.filterwarnings(\"ignore\") #, category=DeprecationWarning)"
   ]
  },
  {
   "cell_type": "code",
   "execution_count": 2,
   "metadata": {
    "collapsed": true
   },
   "outputs": [],
   "source": [
    "# env variable at tensorflow1.4 per https://conda.io/docs/user-guide/tasks/manage-environments.html#saving-environment-variables\n",
    "# and https://vsupalov.com/flask-sqlalchemy-postgres/\n",
    "\n",
    "def get_env_variable(name):\n",
    "    try:\n",
    "        return os.environ[name]\n",
    "    except KeyError:\n",
    "        message = \"Expected environment variable '{}' not set.\".format(name)\n",
    "        raise Exception(message)\n",
    "\n",
    "# the values of those depend on your setup\n",
    "POSTGRES_URL = get_env_variable(\"POSTGRES_URL\")\n",
    "POSTGRES_USER = get_env_variable(\"POSTGRES_USER\")\n",
    "POSTGRES_PW = get_env_variable(\"POSTGRES_PW\")\n",
    "POSTGRES_DB = get_env_variable(\"POSTGRES_DB\")"
   ]
  },
  {
   "cell_type": "code",
   "execution_count": 3,
   "metadata": {
    "collapsed": true
   },
   "outputs": [],
   "source": [
    "DB_URL = 'postgresql+psycopg2://{user}:{pw}@{url}/{db}'.format(user=POSTGRES_USER,pw=POSTGRES_PW,url=POSTGRES_URL,db=POSTGRES_DB)"
   ]
  },
  {
   "cell_type": "code",
   "execution_count": 4,
   "metadata": {
    "collapsed": true
   },
   "outputs": [],
   "source": [
    "engine_var = DB_URL\n",
    "engine = create_engine(engine_var)"
   ]
  },
  {
   "cell_type": "code",
   "execution_count": 5,
   "metadata": {},
   "outputs": [
    {
     "name": "stdout",
     "output_type": "stream",
     "text": [
      "(19291, 67)\n"
     ]
    },
    {
     "data": {
      "text/html": [
       "<div>\n",
       "<style scoped>\n",
       "    .dataframe tbody tr th:only-of-type {\n",
       "        vertical-align: middle;\n",
       "    }\n",
       "\n",
       "    .dataframe tbody tr th {\n",
       "        vertical-align: top;\n",
       "    }\n",
       "\n",
       "    .dataframe thead th {\n",
       "        text-align: right;\n",
       "    }\n",
       "</style>\n",
       "<table border=\"1\" class=\"dataframe\">\n",
       "  <thead>\n",
       "    <tr style=\"text-align: right;\">\n",
       "      <th></th>\n",
       "      <th>state</th>\n",
       "      <th>main_category</th>\n",
       "      <th>main_category</th>\n",
       "      <th>currency</th>\n",
       "      <th>currency</th>\n",
       "      <th>deadline</th>\n",
       "      <th>launched</th>\n",
       "      <th>usd_goal_real</th>\n",
       "      <th>usd_pledged_real</th>\n",
       "    </tr>\n",
       "  </thead>\n",
       "  <tbody>\n",
       "    <tr>\n",
       "      <th>0</th>\n",
       "      <td>successful</td>\n",
       "      <td>Publishing</td>\n",
       "      <td>Publishing</td>\n",
       "      <td>USD</td>\n",
       "      <td>USD</td>\n",
       "      <td>2018-01-02</td>\n",
       "      <td>2017-12-06</td>\n",
       "      <td>2000.0</td>\n",
       "      <td>6083.00</td>\n",
       "    </tr>\n",
       "    <tr>\n",
       "      <th>1</th>\n",
       "      <td>successful</td>\n",
       "      <td>Music</td>\n",
       "      <td>Music</td>\n",
       "      <td>USD</td>\n",
       "      <td>USD</td>\n",
       "      <td>2018-01-02</td>\n",
       "      <td>2017-11-30</td>\n",
       "      <td>10000.0</td>\n",
       "      <td>11169.56</td>\n",
       "    </tr>\n",
       "    <tr>\n",
       "      <th>2</th>\n",
       "      <td>successful</td>\n",
       "      <td>Music</td>\n",
       "      <td>Music</td>\n",
       "      <td>EUR</td>\n",
       "      <td>EUR</td>\n",
       "      <td>2018-01-02</td>\n",
       "      <td>2017-11-28</td>\n",
       "      <td>30112.5</td>\n",
       "      <td>30615.02</td>\n",
       "    </tr>\n",
       "    <tr>\n",
       "      <th>3</th>\n",
       "      <td>successful</td>\n",
       "      <td>Music</td>\n",
       "      <td>Music</td>\n",
       "      <td>USD</td>\n",
       "      <td>USD</td>\n",
       "      <td>2018-01-02</td>\n",
       "      <td>2017-12-09</td>\n",
       "      <td>1000.0</td>\n",
       "      <td>1743.00</td>\n",
       "    </tr>\n",
       "    <tr>\n",
       "      <th>4</th>\n",
       "      <td>failed</td>\n",
       "      <td>Food</td>\n",
       "      <td>Food</td>\n",
       "      <td>USD</td>\n",
       "      <td>USD</td>\n",
       "      <td>2018-01-02</td>\n",
       "      <td>2017-11-03</td>\n",
       "      <td>200000.0</td>\n",
       "      <td>1.00</td>\n",
       "    </tr>\n",
       "  </tbody>\n",
       "</table>\n",
       "</div>"
      ],
      "text/plain": [
       "        state main_category main_category currency currency    deadline  \\\n",
       "0  successful    Publishing    Publishing      USD      USD  2018-01-02   \n",
       "1  successful         Music         Music      USD      USD  2018-01-02   \n",
       "2  successful         Music         Music      EUR      EUR  2018-01-02   \n",
       "3  successful         Music         Music      USD      USD  2018-01-02   \n",
       "4      failed          Food          Food      USD      USD  2018-01-02   \n",
       "\n",
       "     launched  usd_goal_real  usd_pledged_real  \n",
       "0  2017-12-06         2000.0           6083.00  \n",
       "1  2017-11-30        10000.0          11169.56  \n",
       "2  2017-11-28        30112.5          30615.02  \n",
       "3  2017-12-09         1000.0           1743.00  \n",
       "4  2017-11-03       200000.0              1.00  "
      ]
     },
     "execution_count": 5,
     "metadata": {},
     "output_type": "execute_result"
    }
   ],
   "source": [
    "# df = pd.read_pickle('data/kickstarter_data.pkl')\n",
    "df = pd.read_sql_query('''SELECT * FROM kickstarter_data''',engine)\n",
    "print(df.shape)\n",
    "pd.read_sql_query('''SELECT state, main_category, main_category, currency, currency, deadline, launched, usd_goal_real, usd_pledged_real FROM kickstarter_data LIMIT 5''',engine)"
   ]
  },
  {
   "cell_type": "code",
   "execution_count": 6,
   "metadata": {},
   "outputs": [
    {
     "data": {
      "text/plain": [
       "Index(['idx', 'state_successful', 'main_category_Comics',\n",
       "       'main_category_Crafts', 'main_category_Dance', 'main_category_Design',\n",
       "       'main_category_Fashion', 'main_category_Film & Video',\n",
       "       'main_category_Food', 'main_category_Games', 'main_category_Journalism',\n",
       "       'main_category_Music', 'main_category_Photography',\n",
       "       'main_category_Publishing', 'main_category_Technology',\n",
       "       'main_category_Theater', 'country_AU', 'country_BE', 'country_CA',\n",
       "       'country_CH', 'country_DE', 'country_DK', 'country_ES', 'country_FR',\n",
       "       'country_GB', 'country_HK', 'country_IE', 'country_IT', 'country_JP',\n",
       "       'country_LU', 'country_MX', 'country_NL', 'country_NO', 'country_NZ',\n",
       "       'country_SE', 'country_SG', 'country_US', 'currency_CAD',\n",
       "       'currency_CHF', 'currency_DKK', 'currency_EUR', 'currency_GBP',\n",
       "       'currency_HKD', 'currency_JPY', 'currency_MXN', 'currency_NOK',\n",
       "       'currency_NZD', 'currency_SEK', 'currency_SGD', 'currency_USD', 'ID',\n",
       "       'name', 'category', 'main_category', 'currency', 'deadline', 'goal',\n",
       "       'launched', 'pledged', 'state', 'backers', 'country', 'usd pledged',\n",
       "       'usd_pledged_real', 'usd_goal_real', 'campaign_length',\n",
       "       'pct_goal_achieved'],\n",
       "      dtype='object')"
      ]
     },
     "execution_count": 6,
     "metadata": {},
     "output_type": "execute_result"
    }
   ],
   "source": [
    "df.columns"
   ]
  },
  {
   "cell_type": "code",
   "execution_count": 7,
   "metadata": {},
   "outputs": [
    {
     "name": "stdout",
     "output_type": "stream",
     "text": [
      "(19291, 49)\n"
     ]
    },
    {
     "data": {
      "text/plain": [
       "Index(['main_category_Comics', 'main_category_Crafts', 'main_category_Dance',\n",
       "       'main_category_Design', 'main_category_Fashion',\n",
       "       'main_category_Film & Video', 'main_category_Food',\n",
       "       'main_category_Games', 'main_category_Journalism',\n",
       "       'main_category_Music', 'main_category_Photography',\n",
       "       'main_category_Publishing', 'main_category_Technology',\n",
       "       'main_category_Theater', 'country_AU', 'country_BE', 'country_CA',\n",
       "       'country_CH', 'country_DE', 'country_DK', 'country_ES', 'country_FR',\n",
       "       'country_GB', 'country_HK', 'country_IE', 'country_IT', 'country_JP',\n",
       "       'country_LU', 'country_MX', 'country_NL', 'country_NO', 'country_NZ',\n",
       "       'country_SE', 'country_SG', 'country_US', 'currency_CAD',\n",
       "       'currency_CHF', 'currency_DKK', 'currency_EUR', 'currency_GBP',\n",
       "       'currency_HKD', 'currency_JPY', 'currency_MXN', 'currency_NOK',\n",
       "       'currency_NZD', 'currency_SEK', 'currency_SGD', 'currency_USD',\n",
       "       'usd_goal_real'],\n",
       "      dtype='object')"
      ]
     },
     "execution_count": 7,
     "metadata": {},
     "output_type": "execute_result"
    }
   ],
   "source": [
    "# removing all variables that cannot be known before a campaign is launched, such as # backers and $ pledged\n",
    "X = df.drop(['idx','ID','name', 'category', 'main_category', 'currency','pledged', \n",
    "             'state','country', 'usd pledged','deadline','launched','state_successful',\n",
    "             'backers', 'usd_pledged_real','campaign_length','pct_goal_achieved','goal'], 1)\n",
    "# X = df[['currency_SGD']]\n",
    "y = df['state_successful']\n",
    "\n",
    "print(X.shape)\n",
    "X.columns"
   ]
  },
  {
   "cell_type": "markdown",
   "metadata": {},
   "source": [
    "## Assumptions"
   ]
  },
  {
   "cell_type": "code",
   "execution_count": 8,
   "metadata": {},
   "outputs": [
    {
     "name": "stdout",
     "output_type": "stream",
     "text": [
      "(13503, 49) (13503,)\n",
      "(5788, 49) (5788,)\n"
     ]
    }
   ],
   "source": [
    "X_train, X_test, y_train, y_test = train_test_split(X, y, test_size=0.3,random_state=42, stratify=y)\n",
    "\n",
    "k_range = list(range(1, 101))\n",
    "print(X_train.shape, y_train.shape)\n",
    "print(X_test.shape,y_test.shape)"
   ]
  },
  {
   "cell_type": "code",
   "execution_count": 9,
   "metadata": {},
   "outputs": [
    {
     "name": "stdout",
     "output_type": "stream",
     "text": [
      "[-7.02491707e-17  4.57803584e-17  1.05242203e-17  4.52541474e-17\n",
      "  3.52561381e-17  3.57823491e-17 -2.10484407e-18 -1.63125415e-17\n",
      "  3.57823491e-17  1.99960186e-17 -1.68387525e-17 -1.10504313e-17\n",
      "  1.84173856e-17  4.26230923e-17  2.99940279e-17  3.20988720e-17\n",
      "  3.63085601e-17 -3.15726610e-18  3.15726610e-18  1.47339085e-17\n",
      "  1.26290644e-17 -5.52521567e-18  1.02611148e-17 -1.68387525e-17\n",
      " -1.99960186e-17  5.26211017e-19  1.68387525e-17  9.47179830e-18\n",
      "  1.10504313e-17 -2.15746517e-17  2.59158926e-17  1.26290644e-17\n",
      " -1.26290644e-17 -1.15766424e-17 -1.14977107e-16  3.63085601e-17\n",
      " -3.15726610e-18  1.47339085e-17  3.42037161e-17  1.02611148e-17\n",
      " -1.68387525e-17  1.68387525e-17  1.10504313e-17  2.59158926e-17\n",
      "  1.26290644e-17 -1.26290644e-17 -1.15766424e-17 -1.14977107e-16\n",
      " -2.10484407e-18]\n",
      "[1. 1. 1. 1. 1. 1. 1. 1. 1. 1. 1. 1. 1. 1. 1. 1. 1. 1. 1. 1. 1. 1. 1. 1.\n",
      " 1. 1. 1. 1. 1. 1. 1. 1. 1. 1. 1. 1. 1. 1. 1. 1. 1. 1. 1. 1. 1. 1. 1. 1.\n",
      " 1.]\n"
     ]
    }
   ],
   "source": [
    "# https://elitedatascience.com/python-machine-learning-tutorial-scikit-learn\n",
    "scaler = StandardScaler().fit(X_train)\n",
    "X_train_s = scaler.transform(X_train)\n",
    "X_test_s = scaler.transform(X_test)\n",
    "print(X_train_s.mean(axis=0))\n",
    "print(X_train_s.std(axis=0))\n",
    "\n",
    "X_combined_s = np.vstack((X_train_s, X_test_s))\n",
    "y_combined = np.hstack((y_train, y_test))"
   ]
  },
  {
   "cell_type": "markdown",
   "metadata": {},
   "source": [
    "## Phase 1: Initial Check on All Models"
   ]
  },
  {
   "cell_type": "code",
   "execution_count": 10,
   "metadata": {},
   "outputs": [
    {
     "name": "stdout",
     "output_type": "stream",
     "text": [
      "GaussianNB(priors=None)\n",
      "\t==============================\n",
      "\tAccuracy: 0.46630960608154803\n",
      "\tAUC: 0.5262178729731992\n",
      "\n",
      "\n",
      "[[ 241 3036]\n",
      " [  53 2458]]\n",
      "             precision    recall  f1-score   support\n",
      "\n",
      "          0       0.82      0.07      0.13      3277\n",
      "          1       0.45      0.98      0.61      2511\n",
      "\n",
      "avg / total       0.66      0.47      0.34      5788\n",
      "\n",
      "BernoulliNB(alpha=1.0, binarize=0.0, class_prior=None, fit_prior=True)\n",
      "\t==============================\n",
      "\tAccuracy: 0.6072909467864548\n",
      "\tAUC: 0.5945418431710969\n",
      "\n",
      "\n",
      "[[2264 1013]\n",
      " [1260 1251]]\n",
      "             precision    recall  f1-score   support\n",
      "\n",
      "          0       0.64      0.69      0.67      3277\n",
      "          1       0.55      0.50      0.52      2511\n",
      "\n",
      "avg / total       0.60      0.61      0.60      5788\n",
      "\n",
      "MultinomialNB(alpha=1.0, class_prior=None, fit_prior=True)\n",
      "\t==============================\n",
      "\tAccuracy: 0.5295438838977194\n",
      "\tAUC: 0.5707045849042365\n",
      "\n",
      "\n",
      "[[ 851 2426]\n",
      " [ 297 2214]]\n",
      "             precision    recall  f1-score   support\n",
      "\n",
      "          0       0.74      0.26      0.38      3277\n",
      "          1       0.48      0.88      0.62      2511\n",
      "\n",
      "avg / total       0.63      0.53      0.49      5788\n",
      "\n",
      "DecisionTreeClassifier(class_weight=None, criterion='gini', max_depth=None,\n",
      "            max_features=None, max_leaf_nodes=None,\n",
      "            min_impurity_decrease=0.0, min_impurity_split=None,\n",
      "            min_samples_leaf=1, min_samples_split=2,\n",
      "            min_weight_fraction_leaf=0.0, presort=False, random_state=None,\n",
      "            splitter='best')\n",
      "\t==============================\n",
      "\tAccuracy: 0.5968901174844505\n",
      "\tAUC: 0.5799573606373032\n",
      "\n",
      "\n",
      "[[2326  951]\n",
      " [1377 1134]]\n",
      "             precision    recall  f1-score   support\n",
      "\n",
      "          0       0.63      0.71      0.67      3277\n",
      "          1       0.54      0.45      0.49      2511\n",
      "\n",
      "avg / total       0.59      0.60      0.59      5788\n",
      "\n",
      "RandomForestClassifier(bootstrap=True, class_weight=None, criterion='gini',\n",
      "            max_depth=None, max_features='auto', max_leaf_nodes=None,\n",
      "            min_impurity_decrease=0.0, min_impurity_split=None,\n",
      "            min_samples_leaf=1, min_samples_split=2,\n",
      "            min_weight_fraction_leaf=0.0, n_estimators=10, n_jobs=1,\n",
      "            oob_score=False, random_state=None, verbose=0,\n",
      "            warm_start=False)\n",
      "\t==============================\n",
      "\tAccuracy: 0.6061161022805804\n",
      "\tAUC: 0.5910281001007833\n",
      "\n",
      "\n",
      "[[2311  966]\n",
      " [1328 1183]]\n",
      "             precision    recall  f1-score   support\n",
      "\n",
      "          0       0.64      0.71      0.67      3277\n",
      "          1       0.55      0.47      0.51      2511\n",
      "\n",
      "avg / total       0.60      0.60      0.60      5788\n",
      "\n",
      "KNeighborsClassifier(algorithm='auto', leaf_size=30, metric='minkowski',\n",
      "           metric_params=None, n_jobs=1, n_neighbors=38, p=2,\n",
      "           weights='uniform')\n",
      "\t==============================\n",
      "\tAccuracy: 0.5993434692467173\n",
      "\tAUC: 0.5770039959667241\n",
      "\n",
      "\n",
      "[[2444  833]\n",
      " [1486 1025]]\n",
      "             precision    recall  f1-score   support\n",
      "\n",
      "          0       0.62      0.75      0.68      3277\n",
      "          1       0.55      0.41      0.47      2511\n",
      "\n",
      "avg / total       0.59      0.60      0.59      5788\n",
      "\n",
      "LogisticRegressionCV(Cs=10, class_weight=None, cv=None, dual=False,\n",
      "           fit_intercept=True, intercept_scaling=1.0, max_iter=100,\n",
      "           multi_class='ovr', n_jobs=1, penalty='l2', random_state=None,\n",
      "           refit=True, scoring=None, solver='lbfgs', tol=0.0001, verbose=0)\n",
      "\t==============================\n",
      "\tAccuracy: 0.6228403593642018\n",
      "\tAUC: 0.6087859132359577\n",
      "\n",
      "\n",
      "[[2343  934]\n",
      " [1249 1262]]\n",
      "             precision    recall  f1-score   support\n",
      "\n",
      "          0       0.65      0.71      0.68      3277\n",
      "          1       0.57      0.50      0.54      2511\n",
      "\n",
      "avg / total       0.62      0.62      0.62      5788\n",
      "\n",
      "SVC(C=1.0, cache_size=200, class_weight=None, coef0=0.0,\n",
      "  decision_function_shape='ovr', degree=3, gamma='auto', kernel='rbf',\n",
      "  max_iter=-1, probability=True, random_state=None, shrinking=True,\n",
      "  tol=0.001, verbose=False)\n",
      "\t==============================\n",
      "\tAccuracy: 0.5843123704215618\n",
      "\tAUC: 0.5573995020019938\n",
      "\n",
      "\n",
      "[[2493  784]\n",
      " [1622  889]]\n",
      "             precision    recall  f1-score   support\n",
      "\n",
      "          0       0.61      0.76      0.67      3277\n",
      "          1       0.53      0.35      0.42      2511\n",
      "\n",
      "avg / total       0.57      0.58      0.57      5788\n",
      "\n"
     ]
    }
   ],
   "source": [
    "# Define models to test\n",
    "model_list = [['GaussianNB', GaussianNB()], \n",
    "                ['BernoulliNB', BernoulliNB()], # F1 0.60\n",
    "                ['MultinomialNB', MultinomialNB()], \n",
    "                ['DecisionTree', DecisionTreeClassifier()], \n",
    "                ['RandomForest', RandomForestClassifier()], # F1 0.61\n",
    "                ['KNN', KNeighborsClassifier(38)], # best k from KNN model below; scale data\n",
    "#                 ['LogisticRegression', LogisticRegression()], \n",
    "                ['LogisticRegressionCV', LogisticRegressionCV()], # scale data; F1 0.62\n",
    "                ['SVM', SVC(probability=True)]] # scale data; F1 0.57\n",
    "\n",
    "model_list_s = [['KNN', KNeighborsClassifier(38)], # best k from KNN model below; scale data\n",
    "#                 ['LogisticRegression', LogisticRegression()], # scale data\n",
    "                ['LogisticRegressionCV', LogisticRegressionCV()], # scale data\n",
    "                ['SVM', SVC(probability=True)]] # scale data\n",
    "\n",
    "# Calculate metrics for each model\n",
    "roc = {}\n",
    "for model in model_list:\n",
    "    if model in model_list_s:\n",
    "        X_train = X_train_s\n",
    "        X_test = X_test_s\n",
    "    \n",
    "    model_name = model[0]\n",
    "    model = model[1]\n",
    "    \n",
    "    accuracy = []\n",
    "    precision = []\n",
    "    recall = []\n",
    "    f1 = []\n",
    "    auc = []\n",
    "    error_rate = []\n",
    "        \n",
    "    # Perform K-Fold CV and calculate metrics for each fold\n",
    "    kf = KFold(5, random_state=4444, shuffle=True) \n",
    "    for train_idx, test_idx in kf.split(X, y=y):\n",
    "        model.fit(X_train, y_train)\n",
    "        y_pred = model.predict(X_test)\n",
    "        accuracy.append(accuracy_score(y_test, y_pred))\n",
    "        precision.append(precision_score(y_test, y_pred))\n",
    "        recall.append(recall_score(y_test, y_pred))\n",
    "        f1.append(f1_score(y_test, y_pred))\n",
    "        auc.append(roc_auc_score(y_test, y_pred))\n",
    "        error_rate.append(np.mean(y_pred != y_test))\n",
    "        \n",
    "    # Calculate mean metric across K-folds\n",
    "    mean_accuracy = np.mean(accuracy)\n",
    "    mean_precision = np.mean(precision)\n",
    "    mean_recall = np.mean(recall)\n",
    "    mean_f1 = np.mean(f1)\n",
    "    mean_auc = np.mean(auc)\n",
    "    \n",
    "    # Capture TPR and FPR from last fold for plotting\n",
    "    y_score = model.predict_proba(X_test)[:,1]\n",
    "    roc[model_name] = roc_curve(y_test, y_score)\n",
    "    \n",
    "    # Print formatted results\n",
    "    print(model)\n",
    "    print('\\t==============================')\n",
    "    print('\\tAccuracy:', mean_accuracy)\n",
    "    print('\\tAUC:', mean_auc)\n",
    "    print('\\n')\n",
    "    print(confusion_matrix(y_test,y_pred))\n",
    "    print(classification_report(y_test,y_pred))  "
   ]
  },
  {
   "cell_type": "code",
   "execution_count": 11,
   "metadata": {},
   "outputs": [
    {
     "data": {
      "image/png": "[encoded data removed]",
      "text/plain": [
       "<matplotlib.figure.Figure at 0x10b90ba90>"
      ]
     },
     "metadata": {},
     "output_type": "display_data"
    }
   ],
   "source": [
    "# Plot the ROC curve from the last K-Fold split\n",
    "fig, ax = plt.subplots(figsize=(12, 8))\n",
    "colors = ['b', 'g', 'r', 'c', 'm', 'y','k','orange','darkorchid']\n",
    "\n",
    "# Plot 50-50 Line\n",
    "ax.plot([0,1],[0,1], ls='--', color='k', label='50-50')\n",
    "# Plot Classifier ROC Curves\n",
    "for key, c in zip(roc.keys(), colors):\n",
    "    ax.plot(roc[key][0], roc[key][1], color=c, label=key)\n",
    "    \n",
    "ax.set_xlabel('FPR')\n",
    "ax.set_ylabel('TPR')\n",
    "ax.set_title('Classifier Comparison')\n",
    "ax.legend(loc='best')\n",
    "plt.savefig('charts/roc.png')"
   ]
  },
  {
   "cell_type": "code",
   "execution_count": null,
   "metadata": {
    "collapsed": true
   },
   "outputs": [],
   "source": []
  },
  {
   "cell_type": "markdown",
   "metadata": {
    "collapsed": true
   },
   "source": [
    "## GridSearchCV"
   ]
  },
  {
   "cell_type": "code",
   "execution_count": null,
   "metadata": {},
   "outputs": [
    {
     "name": "stdout",
     "output_type": "stream",
     "text": [
      "Fitting 3 folds for each of 24 candidates, totalling 72 fits\n",
      "[CV] gamma=0.001, C=1, kernel=linear .................................\n",
      "[CV] gamma=0.001, C=1, kernel=linear .................................\n",
      "[CV] gamma=0.001, C=1, kernel=linear .................................\n",
      "[CV] gamma=0.001, C=1, kernel=poly ...................................\n",
      "[CV] .................... gamma=0.001, C=1, kernel=poly, total=  21.9s\n",
      "[CV] gamma=0.001, C=1, kernel=poly ...................................\n",
      "[CV] .................. gamma=0.001, C=1, kernel=linear, total=  36.6s\n",
      "[CV] gamma=0.001, C=1, kernel=poly ...................................\n",
      "[CV] .................. gamma=0.001, C=1, kernel=linear, total=  36.9s\n",
      "[CV] gamma=0.001, C=1, kernel=rbf ....................................\n",
      "[CV] .................. gamma=0.001, C=1, kernel=linear, total=  52.3s\n",
      "[CV] gamma=0.001, C=1, kernel=rbf ....................................\n",
      "[CV] .................... gamma=0.001, C=1, kernel=poly, total=  21.9s\n",
      "[CV] gamma=0.001, C=1, kernel=rbf ....................................\n",
      "[CV] .................... gamma=0.001, C=1, kernel=poly, total=  21.2s\n",
      "[CV] gamma=0.0001, C=1, kernel=linear ................................\n",
      "[CV] ..................... gamma=0.001, C=1, kernel=rbf, total=  22.0s\n",
      "[CV] gamma=0.0001, C=1, kernel=linear ................................\n",
      "[CV] ..................... gamma=0.001, C=1, kernel=rbf, total=  22.9s\n",
      "[CV] gamma=0.0001, C=1, kernel=linear ................................\n",
      "[CV] ..................... gamma=0.001, C=1, kernel=rbf, total=  23.3s\n",
      "[CV] gamma=0.0001, C=1, kernel=poly ..................................\n",
      "[CV] ................. gamma=0.0001, C=1, kernel=linear, total=  31.2s\n",
      "[CV] gamma=0.0001, C=1, kernel=poly ..................................\n",
      "[CV] ................... gamma=0.0001, C=1, kernel=poly, total=  17.0s\n",
      "[CV] gamma=0.0001, C=1, kernel=poly ..................................\n",
      "[CV] ................. gamma=0.0001, C=1, kernel=linear, total=  44.9s\n",
      "[CV] gamma=0.0001, C=1, kernel=rbf ...................................\n",
      "[CV] ................. gamma=0.0001, C=1, kernel=linear, total=  30.8s\n",
      "[CV] gamma=0.0001, C=1, kernel=rbf ...................................\n",
      "[CV] ................... gamma=0.0001, C=1, kernel=poly, total=  19.3s\n",
      "[CV] gamma=0.0001, C=1, kernel=rbf ...................................\n",
      "[CV] ................... gamma=0.0001, C=1, kernel=poly, total=  19.1s\n",
      "[CV] gamma=0.001, C=10, kernel=linear ................................\n",
      "[CV] .................... gamma=0.0001, C=1, kernel=rbf, total=  21.8s\n",
      "[CV] gamma=0.001, C=10, kernel=linear ................................\n",
      "[CV] .................... gamma=0.0001, C=1, kernel=rbf, total=  22.7s\n",
      "[CV] gamma=0.001, C=10, kernel=linear ................................\n",
      "[CV] .................... gamma=0.0001, C=1, kernel=rbf, total=  21.7s\n",
      "[CV] gamma=0.001, C=10, kernel=poly ..................................\n",
      "[CV] ................... gamma=0.001, C=10, kernel=poly, total=  17.1s\n",
      "[CV] gamma=0.001, C=10, kernel=poly ..................................\n",
      "[CV] ................... gamma=0.001, C=10, kernel=poly, total=  11.0s\n",
      "[CV] gamma=0.001, C=10, kernel=poly ..................................\n",
      "[CV] ................... gamma=0.001, C=10, kernel=poly, total=  10.7s\n",
      "[CV] gamma=0.001, C=10, kernel=rbf ...................................\n",
      "[CV] ................. gamma=0.001, C=10, kernel=linear, total= 1.2min\n",
      "[CV] gamma=0.001, C=10, kernel=rbf ...................................\n",
      "[CV] .................... gamma=0.001, C=10, kernel=rbf, total=  18.5s\n",
      "[CV] gamma=0.001, C=10, kernel=rbf ...................................\n",
      "[CV] .................... gamma=0.001, C=10, kernel=rbf, total=  16.6s\n",
      "[CV] gamma=0.0001, C=10, kernel=linear ...............................\n",
      "[CV] .................... gamma=0.001, C=10, kernel=rbf, total=  18.9s\n",
      "[CV] gamma=0.0001, C=10, kernel=linear ...............................\n"
     ]
    }
   ],
   "source": [
    "model_list = [[SVC(), LogisticRegression(), RandomForestClassifier()]]\n",
    "\n",
    "for model in model_list:\n",
    "    \n",
    "    model = model[0]\n",
    "    \n",
    "    param_grid = [{'C': [1, 10, 100, 1000], 'kernel': ['linear','poly','rbf'], 'gamma': [0.001, 0.0001]}]\n",
    "    grid = GridSearchCV(model,param_grid,refit=True,verbose=2, scoring='roc_auc', n_jobs=-1)\n",
    "    grid.fit(X_train_s,y_train)\n",
    "    grid_predictions = grid.predict(X_test_s)\n",
    "    print(grid.best)\n",
    "    print(confusion_matrix(y_test,grid_predictions))\n",
    "    print(classification_report(y_test,grid_predictions))"
   ]
  },
  {
   "cell_type": "code",
   "execution_count": null,
   "metadata": {
    "collapsed": true
   },
   "outputs": [],
   "source": [
    "grid.best"
   ]
  },
  {
   "cell_type": "code",
   "execution_count": 16,
   "metadata": {
    "collapsed": true
   },
   "outputs": [],
   "source": [
    "grid_predictions = grid.predict(X_test_s)"
   ]
  },
  {
   "cell_type": "code",
   "execution_count": 17,
   "metadata": {},
   "outputs": [
    {
     "name": "stdout",
     "output_type": "stream",
     "text": [
      "[[2080 1197]\n",
      " [1061 1450]]\n",
      "             precision    recall  f1-score   support\n",
      "\n",
      "          0       0.66      0.63      0.65      3277\n",
      "          1       0.55      0.58      0.56      2511\n",
      "\n",
      "avg / total       0.61      0.61      0.61      5788\n",
      "\n"
     ]
    }
   ],
   "source": [
    "print(confusion_matrix(y_test,grid_predictions))\n",
    "print(classification_report(y_test,grid_predictions))"
   ]
  },
  {
   "cell_type": "code",
   "execution_count": null,
   "metadata": {
    "collapsed": true
   },
   "outputs": [],
   "source": []
  },
  {
   "cell_type": "code",
   "execution_count": null,
   "metadata": {
    "collapsed": true
   },
   "outputs": [],
   "source": []
  },
  {
   "cell_type": "code",
   "execution_count": null,
   "metadata": {
    "collapsed": true
   },
   "outputs": [],
   "source": []
  },
  {
   "cell_type": "code",
   "execution_count": null,
   "metadata": {
    "collapsed": true
   },
   "outputs": [],
   "source": []
  }
 ],
 "metadata": {
  "kernelspec": {
   "display_name": "Python 3",
   "language": "python",
   "name": "python3"
  },
  "language_info": {
   "codemirror_mode": {
    "name": "ipython",
    "version": 3
   },
   "file_extension": ".py",
   "mimetype": "text/x-python",
   "name": "python",
   "nbconvert_exporter": "python",
   "pygments_lexer": "ipython3",
   "version": "3.5.4"
  }
 },
 "nbformat": 4,
 "nbformat_minor": 2
}
