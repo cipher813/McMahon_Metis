{
 "cells": [
  {
   "cell_type": "code",
   "execution_count": 1,
   "metadata": {
    "collapsed": true
   },
   "outputs": [],
   "source": [
    "import pandas as pd\n",
    "import sqlalchemy\n",
    "from sqlalchemy import create_engine\n",
    "from flask_sqlalchemy import SQLAlchemy\n",
    "import matplotlib.pyplot as plt\n",
    "import warnings\n",
    "import os\n",
    "%matplotlib inline\n",
    "\n",
    "warnings.filterwarnings(\"ignore\") #, category=DeprecationWarning)"
   ]
  },
  {
   "cell_type": "code",
   "execution_count": 2,
   "metadata": {
    "collapsed": true
   },
   "outputs": [],
   "source": [
    "# env variable at tensorflow1.4 per https://conda.io/docs/user-guide/tasks/manage-environments.html#saving-environment-variables\n",
    "# and https://vsupalov.com/flask-sqlalchemy-postgres/\n",
    "\n",
    "def get_env_variable(name):\n",
    "    try:\n",
    "        return os.environ[name]\n",
    "    except KeyError:\n",
    "        message = \"Expected environment variable '{}' not set.\".format(name)\n",
    "        raise Exception(message)\n",
    "\n",
    "# the values of those depend on your setup\n",
    "POSTGRES_URL = get_env_variable(\"POSTGRES_URL\")\n",
    "POSTGRES_USER = get_env_variable(\"POSTGRES_USER\")\n",
    "POSTGRES_PW = get_env_variable(\"POSTGRES_PW\")\n",
    "POSTGRES_DB = get_env_variable(\"POSTGRES_DB\")"
   ]
  },
  {
   "cell_type": "code",
   "execution_count": 3,
   "metadata": {
    "collapsed": true
   },
   "outputs": [],
   "source": [
    "DB_URL = 'postgresql+psycopg2://{user}:{pw}@{url}/{db}'.format(user=POSTGRES_USER,pw=POSTGRES_PW,url=POSTGRES_URL,db=POSTGRES_DB)\n",
    "\n",
    "# app.config['SQLALCHEMY_DATABASE_URI'] = DB_URL\n",
    "# app.config['SQLALCHEMY_TRACK_MODIFICATIONS'] = False # silence the deprecation warning\n",
    "\n",
    "# db = SQLAlchemy(app)"
   ]
  },
  {
   "cell_type": "code",
   "execution_count": 4,
   "metadata": {
    "collapsed": true
   },
   "outputs": [],
   "source": [
    "engine_var = DB_URL\n",
    "engine = create_engine(engine_var)"
   ]
  },
  {
   "cell_type": "code",
   "execution_count": 5,
   "metadata": {
    "collapsed": true
   },
   "outputs": [],
   "source": [
    "# TODO Fix SQL input/output; temp fix:\n",
    "df = pd.read_pickle('data/kickstarter_data.pkl')"
   ]
  },
  {
   "cell_type": "code",
   "execution_count": 6,
   "metadata": {},
   "outputs": [
    {
     "name": "stdout",
     "output_type": "stream",
     "text": [
      "(19291, 16)\n"
     ]
    },
    {
     "data": {
      "text/html": [
       "<div>\n",
       "<style scoped>\n",
       "    .dataframe tbody tr th:only-of-type {\n",
       "        vertical-align: middle;\n",
       "    }\n",
       "\n",
       "    .dataframe tbody tr th {\n",
       "        vertical-align: top;\n",
       "    }\n",
       "\n",
       "    .dataframe thead th {\n",
       "        text-align: right;\n",
       "    }\n",
       "</style>\n",
       "<table border=\"1\" class=\"dataframe\">\n",
       "  <thead>\n",
       "    <tr style=\"text-align: right;\">\n",
       "      <th></th>\n",
       "      <th>name</th>\n",
       "      <th>category</th>\n",
       "      <th>main_category</th>\n",
       "      <th>currency</th>\n",
       "      <th>deadline</th>\n",
       "      <th>goal</th>\n",
       "      <th>launched</th>\n",
       "      <th>pledged</th>\n",
       "      <th>state</th>\n",
       "      <th>backers</th>\n",
       "      <th>country</th>\n",
       "      <th>usd pledged</th>\n",
       "      <th>usd_pledged_real</th>\n",
       "      <th>usd_goal_real</th>\n",
       "      <th>campaign_length</th>\n",
       "      <th>pct_goal_achieved</th>\n",
       "    </tr>\n",
       "    <tr>\n",
       "      <th>ID</th>\n",
       "      <th></th>\n",
       "      <th></th>\n",
       "      <th></th>\n",
       "      <th></th>\n",
       "      <th></th>\n",
       "      <th></th>\n",
       "      <th></th>\n",
       "      <th></th>\n",
       "      <th></th>\n",
       "      <th></th>\n",
       "      <th></th>\n",
       "      <th></th>\n",
       "      <th></th>\n",
       "      <th></th>\n",
       "      <th></th>\n",
       "      <th></th>\n",
       "    </tr>\n",
       "  </thead>\n",
       "  <tbody>\n",
       "    <tr>\n",
       "      <th>1031685482</th>\n",
       "      <td>You Sparkle Inside: A Kids' Book + Commissions...</td>\n",
       "      <td>Children's Books</td>\n",
       "      <td>Publishing</td>\n",
       "      <td>USD</td>\n",
       "      <td>2018-01-02</td>\n",
       "      <td>2000.0</td>\n",
       "      <td>2017-12-06</td>\n",
       "      <td>6083.00</td>\n",
       "      <td>successful</td>\n",
       "      <td>133</td>\n",
       "      <td>US</td>\n",
       "      <td>1054.0</td>\n",
       "      <td>6083.00</td>\n",
       "      <td>2000.0</td>\n",
       "      <td>27 days</td>\n",
       "      <td>304.150000</td>\n",
       "    </tr>\n",
       "    <tr>\n",
       "      <th>1176736360</th>\n",
       "      <td>THE NEW BILLY WYLDER RECORD</td>\n",
       "      <td>Indie Rock</td>\n",
       "      <td>Music</td>\n",
       "      <td>USD</td>\n",
       "      <td>2018-01-02</td>\n",
       "      <td>10000.0</td>\n",
       "      <td>2017-11-30</td>\n",
       "      <td>11169.56</td>\n",
       "      <td>successful</td>\n",
       "      <td>177</td>\n",
       "      <td>US</td>\n",
       "      <td>650.0</td>\n",
       "      <td>11169.56</td>\n",
       "      <td>10000.0</td>\n",
       "      <td>33 days</td>\n",
       "      <td>111.695600</td>\n",
       "    </tr>\n",
       "    <tr>\n",
       "      <th>1894703097</th>\n",
       "      <td>Driftwood Holly ***The Venice Project***</td>\n",
       "      <td>Indie Rock</td>\n",
       "      <td>Music</td>\n",
       "      <td>EUR</td>\n",
       "      <td>2018-01-02</td>\n",
       "      <td>25000.0</td>\n",
       "      <td>2017-11-28</td>\n",
       "      <td>25417.20</td>\n",
       "      <td>successful</td>\n",
       "      <td>168</td>\n",
       "      <td>DE</td>\n",
       "      <td>0.0</td>\n",
       "      <td>30615.02</td>\n",
       "      <td>30112.5</td>\n",
       "      <td>35 days</td>\n",
       "      <td>101.668809</td>\n",
       "    </tr>\n",
       "    <tr>\n",
       "      <th>311863059</th>\n",
       "      <td>On a Limb's debut album</td>\n",
       "      <td>Jazz</td>\n",
       "      <td>Music</td>\n",
       "      <td>USD</td>\n",
       "      <td>2018-01-02</td>\n",
       "      <td>1000.0</td>\n",
       "      <td>2017-12-09</td>\n",
       "      <td>1743.00</td>\n",
       "      <td>successful</td>\n",
       "      <td>39</td>\n",
       "      <td>US</td>\n",
       "      <td>0.0</td>\n",
       "      <td>1743.00</td>\n",
       "      <td>1000.0</td>\n",
       "      <td>24 days</td>\n",
       "      <td>174.300000</td>\n",
       "    </tr>\n",
       "    <tr>\n",
       "      <th>2076121120</th>\n",
       "      <td>Briggs Barbecue Sauces</td>\n",
       "      <td>Small Batch</td>\n",
       "      <td>Food</td>\n",
       "      <td>USD</td>\n",
       "      <td>2018-01-02</td>\n",
       "      <td>200000.0</td>\n",
       "      <td>2017-11-03</td>\n",
       "      <td>1.00</td>\n",
       "      <td>failed</td>\n",
       "      <td>1</td>\n",
       "      <td>US</td>\n",
       "      <td>0.0</td>\n",
       "      <td>1.00</td>\n",
       "      <td>200000.0</td>\n",
       "      <td>60 days</td>\n",
       "      <td>0.000500</td>\n",
       "    </tr>\n",
       "  </tbody>\n",
       "</table>\n",
       "</div>"
      ],
      "text/plain": [
       "                                                         name  \\\n",
       "ID                                                              \n",
       "1031685482  You Sparkle Inside: A Kids' Book + Commissions...   \n",
       "1176736360                        THE NEW BILLY WYLDER RECORD   \n",
       "1894703097           Driftwood Holly ***The Venice Project***   \n",
       "311863059                             On a Limb's debut album   \n",
       "2076121120                             Briggs Barbecue Sauces   \n",
       "\n",
       "                    category main_category currency   deadline      goal  \\\n",
       "ID                                                                         \n",
       "1031685482  Children's Books    Publishing      USD 2018-01-02    2000.0   \n",
       "1176736360        Indie Rock         Music      USD 2018-01-02   10000.0   \n",
       "1894703097        Indie Rock         Music      EUR 2018-01-02   25000.0   \n",
       "311863059               Jazz         Music      USD 2018-01-02    1000.0   \n",
       "2076121120       Small Batch          Food      USD 2018-01-02  200000.0   \n",
       "\n",
       "             launched   pledged       state  backers country  usd pledged  \\\n",
       "ID                                                                          \n",
       "1031685482 2017-12-06   6083.00  successful      133      US       1054.0   \n",
       "1176736360 2017-11-30  11169.56  successful      177      US        650.0   \n",
       "1894703097 2017-11-28  25417.20  successful      168      DE          0.0   \n",
       "311863059  2017-12-09   1743.00  successful       39      US          0.0   \n",
       "2076121120 2017-11-03      1.00      failed        1      US          0.0   \n",
       "\n",
       "            usd_pledged_real  usd_goal_real campaign_length  pct_goal_achieved  \n",
       "ID                                                                              \n",
       "1031685482           6083.00         2000.0         27 days         304.150000  \n",
       "1176736360          11169.56        10000.0         33 days         111.695600  \n",
       "1894703097          30615.02        30112.5         35 days         101.668809  \n",
       "311863059            1743.00         1000.0         24 days         174.300000  \n",
       "2076121120              1.00       200000.0         60 days           0.000500  "
      ]
     },
     "execution_count": 6,
     "metadata": {},
     "output_type": "execute_result"
    }
   ],
   "source": [
    "print(df.shape)\n",
    "df.head()"
   ]
  },
  {
   "cell_type": "markdown",
   "metadata": {},
   "source": [
    "## KNN"
   ]
  },
  {
   "cell_type": "code",
   "execution_count": 7,
   "metadata": {},
   "outputs": [],
   "source": [
    "from sklearn.neighbors import KNeighborsClassifier\n",
    "from sklearn import metrics\n",
    "from sklearn.model_selection import train_test_split # for #2\n",
    "from sklearn.model_selection import cross_val_score # for #3\n",
    "\n",
    "\n",
    "X = pd.get_dummies(df[['main_category','country','currency','usd_goal_real']])\n",
    "y = pd.get_dummies(df['state'],drop_first=True)\n",
    "\n",
    "k_range = list(range(1, 101))\n",
    "# print(y)"
   ]
  },
  {
   "cell_type": "code",
   "execution_count": 8,
   "metadata": {},
   "outputs": [
    {
     "data": {
      "image/png": "[encoded data removed]",
      "text/plain": [
       "<matplotlib.figure.Figure at 0x109eeb588>"
      ]
     },
     "metadata": {},
     "output_type": "display_data"
    },
    {
     "name": "stdout",
     "output_type": "stream",
     "text": [
      "None\n"
     ]
    }
   ],
   "source": [
    "# 1. Entire Dataset\n",
    "k_p1 = []\n",
    "\n",
    "for k in k_range:\n",
    "    knn = KNeighborsClassifier(n_neighbors=k)\n",
    "    knn.fit(X, y.values.ravel())\n",
    "    y_pred = knn.predict(X)\n",
    "    acc = metrics.accuracy_score(y, y_pred)\n",
    "    k_p1.append(acc)\n",
    "\n",
    "fig, ax = plt.subplots(figsize=(20, 10))\n",
    "plt.plot(k_range, k_p1)\n",
    "plt.title('KNN Neighbors vs Accuracy - Entire Dataset',fontsize=16)\n",
    "plt.xlabel('K Neighbors', fontsize=12)\n",
    "plt.ylabel('Accuracy', fontsize=12)\n",
    "plt.savefig('charts/KNN1.png')\n",
    "print(plt.show()) "
   ]
  },
  {
   "cell_type": "code",
   "execution_count": null,
   "metadata": {
    "collapsed": true
   },
   "outputs": [],
   "source": [
    "\n",
    "\n",
    "\n",
    "\n"
   ]
  },
  {
   "cell_type": "code",
   "execution_count": 9,
   "metadata": {},
   "outputs": [
    {
     "data": {
      "image/png": "[encoded data removed]",
      "text/plain": [
       "<matplotlib.figure.Figure at 0x107eac6a0>"
      ]
     },
     "metadata": {},
     "output_type": "display_data"
    }
   ],
   "source": [
    "# 2. Train/Test Split\n",
    "\n",
    "X_train, X_test, y_train, y_test = train_test_split(X, y, test_size=0.4, random_state=42)\n",
    "k_acc = []\n",
    "\n",
    "for k in k_range:\n",
    "    knn = KNeighborsClassifier(n_neighbors=k)\n",
    "    knn.fit(X_train, y_train.values.ravel())\n",
    "    y_pred = knn.predict(X_test)\n",
    "    acc = metrics.accuracy_score(y_test, y_pred)\n",
    "    k_acc.append(acc)\n",
    "\n",
    "    \n",
    "fig, ax = plt.subplots(figsize=(20, 10))\n",
    "plt.plot(k_range, k_acc)\n",
    "plt.title('KNN Neighbors vs Accuracy - Train/Test Split',fontsize=16)\n",
    "plt.xlabel('K Neighbors', fontsize=12)\n",
    "plt.ylabel('Accuracy', fontsize=12)\n",
    "plt.savefig('charts/KNN2.png')\n",
    "print(plt.show()) "
   ]
  },
  {
   "cell_type": "code",
   "execution_count": null,
   "metadata": {
    "collapsed": true
   },
   "outputs": [],
   "source": []
  },
  {
   "cell_type": "code",
   "execution_count": 10,
   "metadata": {},
   "outputs": [
    {
     "name": "stdout",
     "output_type": "stream",
     "text": [
      "None\n"
     ]
    },
    {
     "data": {
      "image/png": "[encoded data removed]",
      "text/plain": [
       "<matplotlib.figure.Figure at 0x107f17fd0>"
      ]
     },
     "metadata": {},
     "output_type": "display_data"
    },
    {
     "name": "stdout",
     "output_type": "stream",
     "text": [
      "None\n"
     ]
    }
   ],
   "source": [
    "# 3. Cross Validation\n",
    "k_scores = []\n",
    "\n",
    "for k in k_range:\n",
    "    knn = KNeighborsClassifier(n_neighbors=k)\n",
    "    scores = cross_val_score(knn, X, y, cv=10, scoring='accuracy')\n",
    "    k_scores.append(scores.mean())\n",
    "        \n",
    "fig, ax = plt.subplots(figsize=(20, 10))\n",
    "plt.plot(k_range, k_scores)\n",
    "plt.title('KNN Neighbors vs Accuracy - CV Score',fontsize=16)\n",
    "plt.xlabel('K Neighbors', fontsize=12)\n",
    "plt.ylabel('Accuracy', fontsize=12)\n",
    "plt.savefig('charts/KNN3.png')\n",
    "print(plt.show()) "
   ]
  },
  {
   "cell_type": "code",
   "execution_count": 11,
   "metadata": {},
   "outputs": [
    {
     "name": "stdout",
     "output_type": "stream",
     "text": [
      "0.6012678705676212\n"
     ]
    }
   ],
   "source": [
    "# 10-fold cross-validation with the best KNN model\n",
    "knn = KNeighborsClassifier(n_neighbors=20)\n",
    "print(cross_val_score(knn, X, y, cv=10, scoring='accuracy').mean())"
   ]
  },
  {
   "cell_type": "code",
   "execution_count": 12,
   "metadata": {},
   "outputs": [
    {
     "name": "stdout",
     "output_type": "stream",
     "text": [
      "0.5662225928643035\n"
     ]
    }
   ],
   "source": [
    "# 10-fold cross-validation with logistic regression\n",
    "from sklearn.linear_model import LogisticRegression\n",
    "logreg = LogisticRegression()\n",
    "print(cross_val_score(logreg, X, y, cv=10, scoring='accuracy').mean())"
   ]
  },
  {
   "cell_type": "code",
   "execution_count": 13,
   "metadata": {},
   "outputs": [
    {
     "name": "stderr",
     "output_type": "stream",
     "text": [
      "/Users/brianmcmahon/anaconda3/envs/tensorflow1.4/lib/python3.5/site-packages/sklearn/model_selection/_search.py:761: DeprecationWarning: The grid_scores_ attribute was deprecated in version 0.18 in favor of the more elaborate cv_results_ attribute. The grid_scores_ attribute will not be available from 0.20\n",
      "  DeprecationWarning)\n"
     ]
    },
    {
     "data": {
      "text/plain": [
       "[mean: 0.55632, std: 0.00998, params: {'n_neighbors': 1},\n",
       " mean: 0.57996, std: 0.01179, params: {'n_neighbors': 2},\n",
       " mean: 0.57027, std: 0.01183, params: {'n_neighbors': 3},\n",
       " mean: 0.58597, std: 0.01036, params: {'n_neighbors': 4},\n",
       " mean: 0.58012, std: 0.01539, params: {'n_neighbors': 5},\n",
       " mean: 0.58836, std: 0.01460, params: {'n_neighbors': 6},\n",
       " mean: 0.58893, std: 0.01513, params: {'n_neighbors': 7},\n",
       " mean: 0.59629, std: 0.01640, params: {'n_neighbors': 8},\n",
       " mean: 0.59390, std: 0.01700, params: {'n_neighbors': 9},\n",
       " mean: 0.59603, std: 0.01562, params: {'n_neighbors': 10},\n",
       " mean: 0.59390, std: 0.01706, params: {'n_neighbors': 11},\n",
       " mean: 0.59950, std: 0.01423, params: {'n_neighbors': 12},\n",
       " mean: 0.59416, std: 0.01640, params: {'n_neighbors': 13},\n",
       " mean: 0.59893, std: 0.01426, params: {'n_neighbors': 14},\n",
       " mean: 0.59530, std: 0.01663, params: {'n_neighbors': 15},\n",
       " mean: 0.59976, std: 0.01404, params: {'n_neighbors': 16},\n",
       " mean: 0.59717, std: 0.01534, params: {'n_neighbors': 17},\n",
       " mean: 0.60313, std: 0.01356, params: {'n_neighbors': 18},\n",
       " mean: 0.60111, std: 0.01471, params: {'n_neighbors': 19},\n",
       " mean: 0.60126, std: 0.01605, params: {'n_neighbors': 20},\n",
       " mean: 0.59955, std: 0.01371, params: {'n_neighbors': 21},\n",
       " mean: 0.60132, std: 0.01192, params: {'n_neighbors': 22},\n",
       " mean: 0.60085, std: 0.01355, params: {'n_neighbors': 23},\n",
       " mean: 0.60225, std: 0.01097, params: {'n_neighbors': 24},\n",
       " mean: 0.60329, std: 0.01268, params: {'n_neighbors': 25},\n",
       " mean: 0.60355, std: 0.01365, params: {'n_neighbors': 26},\n",
       " mean: 0.60386, std: 0.01412, params: {'n_neighbors': 27},\n",
       " mean: 0.60282, std: 0.01064, params: {'n_neighbors': 28},\n",
       " mean: 0.60370, std: 0.00975, params: {'n_neighbors': 29},\n",
       " mean: 0.60225, std: 0.01033, params: {'n_neighbors': 30},\n",
       " mean: 0.60292, std: 0.00921, params: {'n_neighbors': 31},\n",
       " mean: 0.60500, std: 0.00990, params: {'n_neighbors': 32},\n",
       " mean: 0.60339, std: 0.01019, params: {'n_neighbors': 33},\n",
       " mean: 0.60738, std: 0.01139, params: {'n_neighbors': 34},\n",
       " mean: 0.60686, std: 0.01012, params: {'n_neighbors': 35},\n",
       " mean: 0.60671, std: 0.01002, params: {'n_neighbors': 36},\n",
       " mean: 0.60536, std: 0.01038, params: {'n_neighbors': 37},\n",
       " mean: 0.60717, std: 0.01080, params: {'n_neighbors': 38},\n",
       " mean: 0.60676, std: 0.01185, params: {'n_neighbors': 39},\n",
       " mean: 0.60728, std: 0.01297, params: {'n_neighbors': 40},\n",
       " mean: 0.60676, std: 0.01262, params: {'n_neighbors': 41},\n",
       " mean: 0.60764, std: 0.01438, params: {'n_neighbors': 42},\n",
       " mean: 0.60650, std: 0.01237, params: {'n_neighbors': 43},\n",
       " mean: 0.60806, std: 0.01268, params: {'n_neighbors': 44},\n",
       " mean: 0.60676, std: 0.01196, params: {'n_neighbors': 45},\n",
       " mean: 0.60723, std: 0.01127, params: {'n_neighbors': 46},\n",
       " mean: 0.60795, std: 0.01176, params: {'n_neighbors': 47},\n",
       " mean: 0.60951, std: 0.01275, params: {'n_neighbors': 48},\n",
       " mean: 0.60935, std: 0.01407, params: {'n_neighbors': 49},\n",
       " mean: 0.61028, std: 0.01310, params: {'n_neighbors': 50},\n",
       " mean: 0.61023, std: 0.01565, params: {'n_neighbors': 51},\n",
       " mean: 0.60909, std: 0.01405, params: {'n_neighbors': 52},\n",
       " mean: 0.60692, std: 0.01461, params: {'n_neighbors': 53},\n",
       " mean: 0.60666, std: 0.01325, params: {'n_neighbors': 54},\n",
       " mean: 0.60645, std: 0.01395, params: {'n_neighbors': 55},\n",
       " mean: 0.60728, std: 0.01302, params: {'n_neighbors': 56},\n",
       " mean: 0.60728, std: 0.01387, params: {'n_neighbors': 57},\n",
       " mean: 0.60982, std: 0.01376, params: {'n_neighbors': 58},\n",
       " mean: 0.60645, std: 0.01375, params: {'n_neighbors': 59},\n",
       " mean: 0.60754, std: 0.01378, params: {'n_neighbors': 60},\n",
       " mean: 0.60666, std: 0.01333, params: {'n_neighbors': 61},\n",
       " mean: 0.60780, std: 0.01126, params: {'n_neighbors': 62},\n",
       " mean: 0.60634, std: 0.01195, params: {'n_neighbors': 63},\n",
       " mean: 0.60629, std: 0.01264, params: {'n_neighbors': 64},\n",
       " mean: 0.60754, std: 0.01310, params: {'n_neighbors': 65},\n",
       " mean: 0.60458, std: 0.01186, params: {'n_neighbors': 66},\n",
       " mean: 0.60738, std: 0.01213, params: {'n_neighbors': 67},\n",
       " mean: 0.60448, std: 0.01269, params: {'n_neighbors': 68},\n",
       " mean: 0.60344, std: 0.01426, params: {'n_neighbors': 69},\n",
       " mean: 0.60323, std: 0.01060, params: {'n_neighbors': 70},\n",
       " mean: 0.60520, std: 0.01026, params: {'n_neighbors': 71},\n",
       " mean: 0.60692, std: 0.01216, params: {'n_neighbors': 72},\n",
       " mean: 0.60603, std: 0.00957, params: {'n_neighbors': 73},\n",
       " mean: 0.60645, std: 0.01160, params: {'n_neighbors': 74},\n",
       " mean: 0.60463, std: 0.01152, params: {'n_neighbors': 75},\n",
       " mean: 0.60391, std: 0.01084, params: {'n_neighbors': 76},\n",
       " mean: 0.60603, std: 0.01100, params: {'n_neighbors': 77},\n",
       " mean: 0.60577, std: 0.01152, params: {'n_neighbors': 78},\n",
       " mean: 0.60609, std: 0.01414, params: {'n_neighbors': 79},\n",
       " mean: 0.60375, std: 0.01261, params: {'n_neighbors': 80},\n",
       " mean: 0.60474, std: 0.01259, params: {'n_neighbors': 81},\n",
       " mean: 0.60417, std: 0.01283, params: {'n_neighbors': 82},\n",
       " mean: 0.60526, std: 0.01225, params: {'n_neighbors': 83},\n",
       " mean: 0.60495, std: 0.01092, params: {'n_neighbors': 84},\n",
       " mean: 0.60572, std: 0.01335, params: {'n_neighbors': 85},\n",
       " mean: 0.60463, std: 0.01178, params: {'n_neighbors': 86},\n",
       " mean: 0.60489, std: 0.01326, params: {'n_neighbors': 87},\n",
       " mean: 0.60417, std: 0.01300, params: {'n_neighbors': 88},\n",
       " mean: 0.60463, std: 0.01399, params: {'n_neighbors': 89},\n",
       " mean: 0.60334, std: 0.01214, params: {'n_neighbors': 90},\n",
       " mean: 0.60334, std: 0.01111, params: {'n_neighbors': 91},\n",
       " mean: 0.60401, std: 0.01096, params: {'n_neighbors': 92},\n",
       " mean: 0.60489, std: 0.01324, params: {'n_neighbors': 93},\n",
       " mean: 0.60458, std: 0.01121, params: {'n_neighbors': 94},\n",
       " mean: 0.60401, std: 0.01144, params: {'n_neighbors': 95},\n",
       " mean: 0.60246, std: 0.01094, params: {'n_neighbors': 96},\n",
       " mean: 0.60370, std: 0.01109, params: {'n_neighbors': 97},\n",
       " mean: 0.60287, std: 0.01199, params: {'n_neighbors': 98},\n",
       " mean: 0.60266, std: 0.01153, params: {'n_neighbors': 99},\n",
       " mean: 0.60256, std: 0.00892, params: {'n_neighbors': 100}]"
      ]
     },
     "execution_count": 13,
     "metadata": {},
     "output_type": "execute_result"
    }
   ],
   "source": [
    "# GridSearchCV\n",
    "from sklearn.model_selection import GridSearchCV\n",
    "\n",
    "param_grid = dict(n_neighbors=k_range)\n",
    "grid = GridSearchCV(knn, param_grid, cv=10, scoring='accuracy')\n",
    "grid.fit(X, y.values.ravel())\n",
    "grid.grid_scores_"
   ]
  },
  {
   "cell_type": "code",
   "execution_count": 14,
   "metadata": {},
   "outputs": [
    {
     "name": "stdout",
     "output_type": "stream",
     "text": [
      "{'n_neighbors': 1}\n",
      "[0.54300518 0.55440415 0.54611399 0.5624676  0.54536029 0.55106273\n",
      " 0.57231726 0.56972525 0.55342324 0.5653527 ]\n",
      "0.5563216007464621\n"
     ]
    },
    {
     "name": "stderr",
     "output_type": "stream",
     "text": [
      "/Users/brianmcmahon/anaconda3/envs/tensorflow1.4/lib/python3.5/site-packages/sklearn/model_selection/_search.py:761: DeprecationWarning: The grid_scores_ attribute was deprecated in version 0.18 in favor of the more elaborate cv_results_ attribute. The grid_scores_ attribute will not be available from 0.20\n",
      "  DeprecationWarning)\n",
      "/Users/brianmcmahon/anaconda3/envs/tensorflow1.4/lib/python3.5/site-packages/sklearn/model_selection/_search.py:761: DeprecationWarning: The grid_scores_ attribute was deprecated in version 0.18 in favor of the more elaborate cv_results_ attribute. The grid_scores_ attribute will not be available from 0.20\n",
      "  DeprecationWarning)\n",
      "/Users/brianmcmahon/anaconda3/envs/tensorflow1.4/lib/python3.5/site-packages/sklearn/model_selection/_search.py:761: DeprecationWarning: The grid_scores_ attribute was deprecated in version 0.18 in favor of the more elaborate cv_results_ attribute. The grid_scores_ attribute will not be available from 0.20\n",
      "  DeprecationWarning)\n"
     ]
    }
   ],
   "source": [
    "# examine the first tuple\n",
    "print(grid.grid_scores_[0].parameters)\n",
    "print(grid.grid_scores_[0].cv_validation_scores)\n",
    "print(grid.grid_scores_[0].mean_validation_score)"
   ]
  },
  {
   "cell_type": "code",
   "execution_count": 15,
   "metadata": {},
   "outputs": [
    {
     "name": "stdout",
     "output_type": "stream",
     "text": [
      "0.6102845886682909\n",
      "{'n_neighbors': 50}\n",
      "KNeighborsClassifier(algorithm='auto', leaf_size=30, metric='minkowski',\n",
      "           metric_params=None, n_jobs=1, n_neighbors=50, p=2,\n",
      "           weights='uniform')\n"
     ]
    }
   ],
   "source": [
    "# examine the best model\n",
    "print(grid.best_score_)\n",
    "print(grid.best_params_)\n",
    "print(grid.best_estimator_)"
   ]
  },
  {
   "cell_type": "code",
   "execution_count": 16,
   "metadata": {},
   "outputs": [
    {
     "name": "stderr",
     "output_type": "stream",
     "text": [
      "/Users/brianmcmahon/anaconda3/envs/tensorflow1.4/lib/python3.5/site-packages/sklearn/model_selection/_search.py:761: DeprecationWarning: The grid_scores_ attribute was deprecated in version 0.18 in favor of the more elaborate cv_results_ attribute. The grid_scores_ attribute will not be available from 0.20\n",
      "  DeprecationWarning)\n"
     ]
    },
    {
     "data": {
      "text/plain": [
       "[mean: 0.55632, std: 0.00998, params: {'weights': 'uniform', 'n_neighbors': 1},\n",
       " mean: 0.55632, std: 0.00998, params: {'weights': 'distance', 'n_neighbors': 1},\n",
       " mean: 0.57996, std: 0.01179, params: {'weights': 'uniform', 'n_neighbors': 2},\n",
       " mean: 0.57369, std: 0.01247, params: {'weights': 'distance', 'n_neighbors': 2},\n",
       " mean: 0.57027, std: 0.01183, params: {'weights': 'uniform', 'n_neighbors': 3},\n",
       " mean: 0.56705, std: 0.01304, params: {'weights': 'distance', 'n_neighbors': 3},\n",
       " mean: 0.58597, std: 0.01036, params: {'weights': 'uniform', 'n_neighbors': 4},\n",
       " mean: 0.57861, std: 0.01520, params: {'weights': 'distance', 'n_neighbors': 4},\n",
       " mean: 0.58012, std: 0.01539, params: {'weights': 'uniform', 'n_neighbors': 5},\n",
       " mean: 0.57566, std: 0.01628, params: {'weights': 'distance', 'n_neighbors': 5},\n",
       " mean: 0.58836, std: 0.01460, params: {'weights': 'uniform', 'n_neighbors': 6},\n",
       " mean: 0.58266, std: 0.01732, params: {'weights': 'distance', 'n_neighbors': 6},\n",
       " mean: 0.58893, std: 0.01513, params: {'weights': 'uniform', 'n_neighbors': 7},\n",
       " mean: 0.58323, std: 0.01546, params: {'weights': 'distance', 'n_neighbors': 7},\n",
       " mean: 0.59629, std: 0.01640, params: {'weights': 'uniform', 'n_neighbors': 8},\n",
       " mean: 0.58815, std: 0.01791, params: {'weights': 'distance', 'n_neighbors': 8},\n",
       " mean: 0.59390, std: 0.01700, params: {'weights': 'uniform', 'n_neighbors': 9},\n",
       " mean: 0.58732, std: 0.01688, params: {'weights': 'distance', 'n_neighbors': 9},\n",
       " mean: 0.59603, std: 0.01562, params: {'weights': 'uniform', 'n_neighbors': 10},\n",
       " mean: 0.58971, std: 0.01837, params: {'weights': 'distance', 'n_neighbors': 10},\n",
       " mean: 0.59390, std: 0.01706, params: {'weights': 'uniform', 'n_neighbors': 11},\n",
       " mean: 0.59028, std: 0.01843, params: {'weights': 'distance', 'n_neighbors': 11},\n",
       " mean: 0.59950, std: 0.01423, params: {'weights': 'uniform', 'n_neighbors': 12},\n",
       " mean: 0.59256, std: 0.01901, params: {'weights': 'distance', 'n_neighbors': 12},\n",
       " mean: 0.59416, std: 0.01640, params: {'weights': 'uniform', 'n_neighbors': 13},\n",
       " mean: 0.59048, std: 0.01926, params: {'weights': 'distance', 'n_neighbors': 13},\n",
       " mean: 0.59893, std: 0.01426, params: {'weights': 'uniform', 'n_neighbors': 14},\n",
       " mean: 0.59271, std: 0.01757, params: {'weights': 'distance', 'n_neighbors': 14},\n",
       " mean: 0.59530, std: 0.01663, params: {'weights': 'uniform', 'n_neighbors': 15},\n",
       " mean: 0.59225, std: 0.01769, params: {'weights': 'distance', 'n_neighbors': 15},\n",
       " mean: 0.59976, std: 0.01404, params: {'weights': 'uniform', 'n_neighbors': 16},\n",
       " mean: 0.59354, std: 0.01856, params: {'weights': 'distance', 'n_neighbors': 16},\n",
       " mean: 0.59717, std: 0.01534, params: {'weights': 'uniform', 'n_neighbors': 17},\n",
       " mean: 0.59307, std: 0.01918, params: {'weights': 'distance', 'n_neighbors': 17},\n",
       " mean: 0.60313, std: 0.01356, params: {'weights': 'uniform', 'n_neighbors': 18},\n",
       " mean: 0.59447, std: 0.01964, params: {'weights': 'distance', 'n_neighbors': 18},\n",
       " mean: 0.60111, std: 0.01471, params: {'weights': 'uniform', 'n_neighbors': 19},\n",
       " mean: 0.59484, std: 0.01820, params: {'weights': 'distance', 'n_neighbors': 19},\n",
       " mean: 0.60126, std: 0.01605, params: {'weights': 'uniform', 'n_neighbors': 20},\n",
       " mean: 0.59525, std: 0.01965, params: {'weights': 'distance', 'n_neighbors': 20},\n",
       " mean: 0.59955, std: 0.01371, params: {'weights': 'uniform', 'n_neighbors': 21},\n",
       " mean: 0.59339, std: 0.01851, params: {'weights': 'distance', 'n_neighbors': 21},\n",
       " mean: 0.60132, std: 0.01192, params: {'weights': 'uniform', 'n_neighbors': 22},\n",
       " mean: 0.59479, std: 0.01766, params: {'weights': 'distance', 'n_neighbors': 22},\n",
       " mean: 0.60085, std: 0.01355, params: {'weights': 'uniform', 'n_neighbors': 23},\n",
       " mean: 0.59530, std: 0.01651, params: {'weights': 'distance', 'n_neighbors': 23},\n",
       " mean: 0.60225, std: 0.01097, params: {'weights': 'uniform', 'n_neighbors': 24},\n",
       " mean: 0.59567, std: 0.01645, params: {'weights': 'distance', 'n_neighbors': 24},\n",
       " mean: 0.60329, std: 0.01268, params: {'weights': 'uniform', 'n_neighbors': 25},\n",
       " mean: 0.59577, std: 0.01675, params: {'weights': 'distance', 'n_neighbors': 25},\n",
       " mean: 0.60355, std: 0.01365, params: {'weights': 'uniform', 'n_neighbors': 26},\n",
       " mean: 0.59489, std: 0.01761, params: {'weights': 'distance', 'n_neighbors': 26},\n",
       " mean: 0.60386, std: 0.01412, params: {'weights': 'uniform', 'n_neighbors': 27},\n",
       " mean: 0.59613, std: 0.01663, params: {'weights': 'distance', 'n_neighbors': 27},\n",
       " mean: 0.60282, std: 0.01064, params: {'weights': 'uniform', 'n_neighbors': 28},\n",
       " mean: 0.59582, std: 0.01640, params: {'weights': 'distance', 'n_neighbors': 28},\n",
       " mean: 0.60370, std: 0.00975, params: {'weights': 'uniform', 'n_neighbors': 29},\n",
       " mean: 0.59733, std: 0.01737, params: {'weights': 'distance', 'n_neighbors': 29},\n",
       " mean: 0.60225, std: 0.01033, params: {'weights': 'uniform', 'n_neighbors': 30},\n",
       " mean: 0.59427, std: 0.01556, params: {'weights': 'distance', 'n_neighbors': 30},\n",
       " mean: 0.60292, std: 0.00921, params: {'weights': 'uniform', 'n_neighbors': 31},\n",
       " mean: 0.59665, std: 0.01583, params: {'weights': 'distance', 'n_neighbors': 31},\n",
       " mean: 0.60500, std: 0.00990, params: {'weights': 'uniform', 'n_neighbors': 32},\n",
       " mean: 0.59784, std: 0.01661, params: {'weights': 'distance', 'n_neighbors': 32},\n",
       " mean: 0.60339, std: 0.01019, params: {'weights': 'uniform', 'n_neighbors': 33},\n",
       " mean: 0.59665, std: 0.01570, params: {'weights': 'distance', 'n_neighbors': 33},\n",
       " mean: 0.60738, std: 0.01139, params: {'weights': 'uniform', 'n_neighbors': 34},\n",
       " mean: 0.59831, std: 0.01577, params: {'weights': 'distance', 'n_neighbors': 34},\n",
       " mean: 0.60686, std: 0.01012, params: {'weights': 'uniform', 'n_neighbors': 35},\n",
       " mean: 0.59800, std: 0.01507, params: {'weights': 'distance', 'n_neighbors': 35},\n",
       " mean: 0.60671, std: 0.01002, params: {'weights': 'uniform', 'n_neighbors': 36},\n",
       " mean: 0.59878, std: 0.01462, params: {'weights': 'distance', 'n_neighbors': 36},\n",
       " mean: 0.60536, std: 0.01038, params: {'weights': 'uniform', 'n_neighbors': 37},\n",
       " mean: 0.59857, std: 0.01478, params: {'weights': 'distance', 'n_neighbors': 37},\n",
       " mean: 0.60717, std: 0.01080, params: {'weights': 'uniform', 'n_neighbors': 38},\n",
       " mean: 0.59950, std: 0.01542, params: {'weights': 'distance', 'n_neighbors': 38},\n",
       " mean: 0.60676, std: 0.01185, params: {'weights': 'uniform', 'n_neighbors': 39},\n",
       " mean: 0.59914, std: 0.01533, params: {'weights': 'distance', 'n_neighbors': 39},\n",
       " mean: 0.60728, std: 0.01297, params: {'weights': 'uniform', 'n_neighbors': 40},\n",
       " mean: 0.59955, std: 0.01566, params: {'weights': 'distance', 'n_neighbors': 40},\n",
       " mean: 0.60676, std: 0.01262, params: {'weights': 'uniform', 'n_neighbors': 41},\n",
       " mean: 0.60012, std: 0.01614, params: {'weights': 'distance', 'n_neighbors': 41},\n",
       " mean: 0.60764, std: 0.01438, params: {'weights': 'uniform', 'n_neighbors': 42},\n",
       " mean: 0.60012, std: 0.01643, params: {'weights': 'distance', 'n_neighbors': 42},\n",
       " mean: 0.60650, std: 0.01237, params: {'weights': 'uniform', 'n_neighbors': 43},\n",
       " mean: 0.60033, std: 0.01730, params: {'weights': 'distance', 'n_neighbors': 43},\n",
       " mean: 0.60806, std: 0.01268, params: {'weights': 'uniform', 'n_neighbors': 44},\n",
       " mean: 0.59992, std: 0.01604, params: {'weights': 'distance', 'n_neighbors': 44},\n",
       " mean: 0.60676, std: 0.01196, params: {'weights': 'uniform', 'n_neighbors': 45},\n",
       " mean: 0.60075, std: 0.01618, params: {'weights': 'distance', 'n_neighbors': 45},\n",
       " mean: 0.60723, std: 0.01127, params: {'weights': 'uniform', 'n_neighbors': 46},\n",
       " mean: 0.60033, std: 0.01538, params: {'weights': 'distance', 'n_neighbors': 46},\n",
       " mean: 0.60795, std: 0.01176, params: {'weights': 'uniform', 'n_neighbors': 47},\n",
       " mean: 0.60137, std: 0.01592, params: {'weights': 'distance', 'n_neighbors': 47},\n",
       " mean: 0.60951, std: 0.01275, params: {'weights': 'uniform', 'n_neighbors': 48},\n",
       " mean: 0.60132, std: 0.01512, params: {'weights': 'distance', 'n_neighbors': 48},\n",
       " mean: 0.60935, std: 0.01407, params: {'weights': 'uniform', 'n_neighbors': 49},\n",
       " mean: 0.60178, std: 0.01514, params: {'weights': 'distance', 'n_neighbors': 49},\n",
       " mean: 0.61028, std: 0.01310, params: {'weights': 'uniform', 'n_neighbors': 50},\n",
       " mean: 0.60158, std: 0.01544, params: {'weights': 'distance', 'n_neighbors': 50},\n",
       " mean: 0.61023, std: 0.01565, params: {'weights': 'uniform', 'n_neighbors': 51},\n",
       " mean: 0.60194, std: 0.01570, params: {'weights': 'distance', 'n_neighbors': 51},\n",
       " mean: 0.60909, std: 0.01405, params: {'weights': 'uniform', 'n_neighbors': 52},\n",
       " mean: 0.60152, std: 0.01528, params: {'weights': 'distance', 'n_neighbors': 52},\n",
       " mean: 0.60692, std: 0.01461, params: {'weights': 'uniform', 'n_neighbors': 53},\n",
       " mean: 0.60126, std: 0.01632, params: {'weights': 'distance', 'n_neighbors': 53},\n",
       " mean: 0.60666, std: 0.01325, params: {'weights': 'uniform', 'n_neighbors': 54},\n",
       " mean: 0.60152, std: 0.01567, params: {'weights': 'distance', 'n_neighbors': 54},\n",
       " mean: 0.60645, std: 0.01395, params: {'weights': 'uniform', 'n_neighbors': 55},\n",
       " mean: 0.60121, std: 0.01667, params: {'weights': 'distance', 'n_neighbors': 55},\n",
       " mean: 0.60728, std: 0.01302, params: {'weights': 'uniform', 'n_neighbors': 56},\n",
       " mean: 0.60158, std: 0.01624, params: {'weights': 'distance', 'n_neighbors': 56},\n",
       " mean: 0.60728, std: 0.01387, params: {'weights': 'uniform', 'n_neighbors': 57},\n",
       " mean: 0.60235, std: 0.01605, params: {'weights': 'distance', 'n_neighbors': 57},\n",
       " mean: 0.60982, std: 0.01376, params: {'weights': 'uniform', 'n_neighbors': 58},\n",
       " mean: 0.60209, std: 0.01569, params: {'weights': 'distance', 'n_neighbors': 58},\n",
       " mean: 0.60645, std: 0.01375, params: {'weights': 'uniform', 'n_neighbors': 59},\n",
       " mean: 0.60152, std: 0.01630, params: {'weights': 'distance', 'n_neighbors': 59},\n",
       " mean: 0.60754, std: 0.01378, params: {'weights': 'uniform', 'n_neighbors': 60},\n",
       " mean: 0.60204, std: 0.01515, params: {'weights': 'distance', 'n_neighbors': 60},\n",
       " mean: 0.60666, std: 0.01333, params: {'weights': 'uniform', 'n_neighbors': 61},\n",
       " mean: 0.60147, std: 0.01570, params: {'weights': 'distance', 'n_neighbors': 61},\n",
       " mean: 0.60780, std: 0.01126, params: {'weights': 'uniform', 'n_neighbors': 62},\n",
       " mean: 0.60199, std: 0.01535, params: {'weights': 'distance', 'n_neighbors': 62},\n",
       " mean: 0.60634, std: 0.01195, params: {'weights': 'uniform', 'n_neighbors': 63},\n",
       " mean: 0.60298, std: 0.01644, params: {'weights': 'distance', 'n_neighbors': 63},\n",
       " mean: 0.60629, std: 0.01264, params: {'weights': 'uniform', 'n_neighbors': 64},\n",
       " mean: 0.60256, std: 0.01597, params: {'weights': 'distance', 'n_neighbors': 64},\n",
       " mean: 0.60754, std: 0.01310, params: {'weights': 'uniform', 'n_neighbors': 65},\n",
       " mean: 0.60199, std: 0.01600, params: {'weights': 'distance', 'n_neighbors': 65},\n",
       " mean: 0.60458, std: 0.01186, params: {'weights': 'uniform', 'n_neighbors': 66},\n",
       " mean: 0.60209, std: 0.01647, params: {'weights': 'distance', 'n_neighbors': 66},\n",
       " mean: 0.60738, std: 0.01213, params: {'weights': 'uniform', 'n_neighbors': 67},\n",
       " mean: 0.60298, std: 0.01611, params: {'weights': 'distance', 'n_neighbors': 67},\n",
       " mean: 0.60448, std: 0.01269, params: {'weights': 'uniform', 'n_neighbors': 68},\n",
       " mean: 0.60313, std: 0.01591, params: {'weights': 'distance', 'n_neighbors': 68},\n",
       " mean: 0.60344, std: 0.01426, params: {'weights': 'uniform', 'n_neighbors': 69},\n",
       " mean: 0.60365, std: 0.01619, params: {'weights': 'distance', 'n_neighbors': 69},\n",
       " mean: 0.60323, std: 0.01060, params: {'weights': 'uniform', 'n_neighbors': 70},\n",
       " mean: 0.60318, std: 0.01644, params: {'weights': 'distance', 'n_neighbors': 70},\n",
       " mean: 0.60520, std: 0.01026, params: {'weights': 'uniform', 'n_neighbors': 71},\n",
       " mean: 0.60386, std: 0.01626, params: {'weights': 'distance', 'n_neighbors': 71},\n",
       " mean: 0.60692, std: 0.01216, params: {'weights': 'uniform', 'n_neighbors': 72},\n",
       " mean: 0.60391, std: 0.01675, params: {'weights': 'distance', 'n_neighbors': 72},\n",
       " mean: 0.60603, std: 0.00957, params: {'weights': 'uniform', 'n_neighbors': 73},\n",
       " mean: 0.60453, std: 0.01628, params: {'weights': 'distance', 'n_neighbors': 73},\n",
       " mean: 0.60645, std: 0.01160, params: {'weights': 'uniform', 'n_neighbors': 74},\n",
       " mean: 0.60443, std: 0.01555, params: {'weights': 'distance', 'n_neighbors': 74},\n",
       " mean: 0.60463, std: 0.01152, params: {'weights': 'uniform', 'n_neighbors': 75},\n",
       " mean: 0.60463, std: 0.01667, params: {'weights': 'distance', 'n_neighbors': 75},\n",
       " mean: 0.60391, std: 0.01084, params: {'weights': 'uniform', 'n_neighbors': 76},\n",
       " mean: 0.60432, std: 0.01639, params: {'weights': 'distance', 'n_neighbors': 76},\n",
       " mean: 0.60603, std: 0.01100, params: {'weights': 'uniform', 'n_neighbors': 77},\n",
       " mean: 0.60443, std: 0.01659, params: {'weights': 'distance', 'n_neighbors': 77},\n",
       " mean: 0.60577, std: 0.01152, params: {'weights': 'uniform', 'n_neighbors': 78},\n",
       " mean: 0.60391, std: 0.01641, params: {'weights': 'distance', 'n_neighbors': 78},\n",
       " mean: 0.60609, std: 0.01414, params: {'weights': 'uniform', 'n_neighbors': 79},\n",
       " mean: 0.60427, std: 0.01721, params: {'weights': 'distance', 'n_neighbors': 79},\n",
       " mean: 0.60375, std: 0.01261, params: {'weights': 'uniform', 'n_neighbors': 80},\n",
       " mean: 0.60417, std: 0.01695, params: {'weights': 'distance', 'n_neighbors': 80},\n",
       " mean: 0.60474, std: 0.01259, params: {'weights': 'uniform', 'n_neighbors': 81},\n",
       " mean: 0.60380, std: 0.01728, params: {'weights': 'distance', 'n_neighbors': 81},\n",
       " mean: 0.60417, std: 0.01283, params: {'weights': 'uniform', 'n_neighbors': 82},\n",
       " mean: 0.60375, std: 0.01803, params: {'weights': 'distance', 'n_neighbors': 82},\n",
       " mean: 0.60526, std: 0.01225, params: {'weights': 'uniform', 'n_neighbors': 83},\n",
       " mean: 0.60349, std: 0.01798, params: {'weights': 'distance', 'n_neighbors': 83},\n",
       " mean: 0.60495, std: 0.01092, params: {'weights': 'uniform', 'n_neighbors': 84},\n",
       " mean: 0.60360, std: 0.01798, params: {'weights': 'distance', 'n_neighbors': 84},\n",
       " mean: 0.60572, std: 0.01335, params: {'weights': 'uniform', 'n_neighbors': 85},\n",
       " mean: 0.60360, std: 0.01848, params: {'weights': 'distance', 'n_neighbors': 85},\n",
       " mean: 0.60463, std: 0.01178, params: {'weights': 'uniform', 'n_neighbors': 86},\n",
       " mean: 0.60412, std: 0.01825, params: {'weights': 'distance', 'n_neighbors': 86},\n",
       " mean: 0.60489, std: 0.01326, params: {'weights': 'uniform', 'n_neighbors': 87},\n",
       " mean: 0.60401, std: 0.01858, params: {'weights': 'distance', 'n_neighbors': 87},\n",
       " mean: 0.60417, std: 0.01300, params: {'weights': 'uniform', 'n_neighbors': 88},\n",
       " mean: 0.60370, std: 0.01818, params: {'weights': 'distance', 'n_neighbors': 88},\n",
       " mean: 0.60463, std: 0.01399, params: {'weights': 'uniform', 'n_neighbors': 89},\n",
       " mean: 0.60375, std: 0.01883, params: {'weights': 'distance', 'n_neighbors': 89},\n",
       " mean: 0.60334, std: 0.01214, params: {'weights': 'uniform', 'n_neighbors': 90},\n",
       " mean: 0.60391, std: 0.01819, params: {'weights': 'distance', 'n_neighbors': 90},\n",
       " mean: 0.60334, std: 0.01111, params: {'weights': 'uniform', 'n_neighbors': 91},\n",
       " mean: 0.60344, std: 0.01819, params: {'weights': 'distance', 'n_neighbors': 91},\n",
       " mean: 0.60401, std: 0.01096, params: {'weights': 'uniform', 'n_neighbors': 92},\n",
       " mean: 0.60391, std: 0.01863, params: {'weights': 'distance', 'n_neighbors': 92},\n",
       " mean: 0.60489, std: 0.01324, params: {'weights': 'uniform', 'n_neighbors': 93},\n",
       " mean: 0.60360, std: 0.01831, params: {'weights': 'distance', 'n_neighbors': 93},\n",
       " mean: 0.60458, std: 0.01121, params: {'weights': 'uniform', 'n_neighbors': 94},\n",
       " mean: 0.60396, std: 0.01827, params: {'weights': 'distance', 'n_neighbors': 94},\n",
       " mean: 0.60401, std: 0.01144, params: {'weights': 'uniform', 'n_neighbors': 95},\n",
       " mean: 0.60349, std: 0.01854, params: {'weights': 'distance', 'n_neighbors': 95},\n",
       " mean: 0.60246, std: 0.01094, params: {'weights': 'uniform', 'n_neighbors': 96},\n",
       " mean: 0.60375, std: 0.01874, params: {'weights': 'distance', 'n_neighbors': 96},\n",
       " mean: 0.60370, std: 0.01109, params: {'weights': 'uniform', 'n_neighbors': 97},\n",
       " mean: 0.60396, std: 0.01865, params: {'weights': 'distance', 'n_neighbors': 97},\n",
       " mean: 0.60287, std: 0.01199, params: {'weights': 'uniform', 'n_neighbors': 98},\n",
       " mean: 0.60401, std: 0.01845, params: {'weights': 'distance', 'n_neighbors': 98},\n",
       " mean: 0.60266, std: 0.01153, params: {'weights': 'uniform', 'n_neighbors': 99},\n",
       " mean: 0.60355, std: 0.01861, params: {'weights': 'distance', 'n_neighbors': 99},\n",
       " mean: 0.60256, std: 0.00892, params: {'weights': 'uniform', 'n_neighbors': 100},\n",
       " mean: 0.60370, std: 0.01849, params: {'weights': 'distance', 'n_neighbors': 100}]"
      ]
     },
     "execution_count": 16,
     "metadata": {},
     "output_type": "execute_result"
    }
   ],
   "source": [
    "# Searching multiple parameters simultaneously\n",
    "weight_options = ['uniform', 'distance']\n",
    "param_grid = dict(n_neighbors=k_range, weights=weight_options)\n",
    "grid = GridSearchCV(knn, param_grid, cv=10, scoring='accuracy')\n",
    "grid.fit(X, y)\n",
    "grid.grid_scores_"
   ]
  },
  {
   "cell_type": "code",
   "execution_count": 17,
   "metadata": {},
   "outputs": [
    {
     "name": "stdout",
     "output_type": "stream",
     "text": [
      "0.6102845886682909\n",
      "{'weights': 'uniform', 'n_neighbors': 50}\n",
      "KNeighborsClassifier(algorithm='auto', leaf_size=30, metric='minkowski',\n",
      "           metric_params=None, n_jobs=1, n_neighbors=50, p=2,\n",
      "           weights='uniform')\n"
     ]
    }
   ],
   "source": [
    "# examine the best model\n",
    "print(grid.best_score_)\n",
    "print(grid.best_params_)\n",
    "print(grid.best_estimator_)"
   ]
  },
  {
   "cell_type": "code",
   "execution_count": 20,
   "metadata": {},
   "outputs": [],
   "source": [
    "# train your model using all data and the best known parameters\n",
    "# knn = KNeighborsClassifier(n_neighbors=13, weights='uniform')\n",
    "# knn.fit(X, y)\n",
    "\n",
    "# make a prediction on out-of-sample data\n",
    "# knn.predict([[3, 5, 4, 2]])"
   ]
  },
  {
   "cell_type": "code",
   "execution_count": 21,
   "metadata": {
    "collapsed": true
   },
   "outputs": [],
   "source": [
    "# shortcut: GridSearchCV automatically refits the best model using all of the data\n",
    "# grid.predict([[3, 5, 4, 2]])"
   ]
  },
  {
   "cell_type": "code",
   "execution_count": 22,
   "metadata": {
    "collapsed": true
   },
   "outputs": [],
   "source": [
    "from sklearn.model_selection import RandomizedSearchCV\n",
    "\n",
    "# specify \"parameter distributions\" rather than a \"parameter grid\"\n",
    "param_dist = dict(n_neighbors=k_range, weights=weight_options)"
   ]
  },
  {
   "cell_type": "code",
   "execution_count": 23,
   "metadata": {},
   "outputs": [
    {
     "name": "stderr",
     "output_type": "stream",
     "text": [
      "/Users/brianmcmahon/anaconda3/envs/tensorflow1.4/lib/python3.5/site-packages/sklearn/model_selection/_search.py:761: DeprecationWarning: The grid_scores_ attribute was deprecated in version 0.18 in favor of the more elaborate cv_results_ attribute. The grid_scores_ attribute will not be available from 0.20\n",
      "  DeprecationWarning)\n"
     ]
    },
    {
     "data": {
      "text/plain": [
       "[mean: 0.60132, std: 0.01512, params: {'weights': 'distance', 'n_neighbors': 48},\n",
       " mean: 0.58815, std: 0.01791, params: {'weights': 'distance', 'n_neighbors': 8},\n",
       " mean: 0.59976, std: 0.01404, params: {'weights': 'uniform', 'n_neighbors': 16},\n",
       " mean: 0.60375, std: 0.01261, params: {'weights': 'uniform', 'n_neighbors': 80},\n",
       " mean: 0.60754, std: 0.01310, params: {'weights': 'uniform', 'n_neighbors': 65},\n",
       " mean: 0.60209, std: 0.01569, params: {'weights': 'distance', 'n_neighbors': 58},\n",
       " mean: 0.59800, std: 0.01507, params: {'weights': 'distance', 'n_neighbors': 35},\n",
       " mean: 0.60463, std: 0.01178, params: {'weights': 'uniform', 'n_neighbors': 86},\n",
       " mean: 0.60417, std: 0.01300, params: {'weights': 'uniform', 'n_neighbors': 88},\n",
       " mean: 0.59530, std: 0.01651, params: {'weights': 'distance', 'n_neighbors': 23}]"
      ]
     },
     "execution_count": 23,
     "metadata": {},
     "output_type": "execute_result"
    }
   ],
   "source": [
    "# n_iter controls the number of searches\n",
    "rand = RandomizedSearchCV(knn, param_dist, cv=10, scoring='accuracy', n_iter=10, random_state=42)\n",
    "rand.fit(X, y)\n",
    "rand.grid_scores_"
   ]
  },
  {
   "cell_type": "code",
   "execution_count": 24,
   "metadata": {},
   "outputs": [
    {
     "name": "stdout",
     "output_type": "stream",
     "text": [
      "0.6075371935099269\n",
      "{'weights': 'uniform', 'n_neighbors': 65}\n"
     ]
    }
   ],
   "source": [
    "# examine the best model\n",
    "print(rand.best_score_)\n",
    "print(rand.best_params_)"
   ]
  },
  {
   "cell_type": "code",
   "execution_count": 25,
   "metadata": {},
   "outputs": [
    {
     "name": "stdout",
     "output_type": "stream",
     "text": [
      "[0.607, 0.607, 0.607, 0.607, 0.608, 0.606, 0.61, 0.604, 0.609, 0.606, 0.607, 0.606, 0.607, 0.607, 0.608, 0.61, 0.61, 0.607, 0.607, 0.606]\n"
     ]
    }
   ],
   "source": [
    "# run RandomizedSearchCV 20 times (with n_iter=10) and record the best score\n",
    "best_scores = []\n",
    "for _ in range(20):\n",
    "    rand = RandomizedSearchCV(knn, param_dist, cv=10, scoring='accuracy', n_iter=10)\n",
    "    rand.fit(X, y)\n",
    "    best_scores.append(round(rand.best_score_, 3))\n",
    "print(best_scores)"
   ]
  },
  {
   "cell_type": "code",
   "execution_count": null,
   "metadata": {
    "collapsed": true
   },
   "outputs": [],
   "source": []
  },
  {
   "cell_type": "code",
   "execution_count": null,
   "metadata": {
    "collapsed": true
   },
   "outputs": [],
   "source": []
  },
  {
   "cell_type": "code",
   "execution_count": null,
   "metadata": {
    "collapsed": true
   },
   "outputs": [],
   "source": []
  },
  {
   "cell_type": "code",
   "execution_count": null,
   "metadata": {
    "collapsed": true
   },
   "outputs": [],
   "source": []
  },
  {
   "cell_type": "code",
   "execution_count": null,
   "metadata": {
    "collapsed": true
   },
   "outputs": [],
   "source": []
  },
  {
   "cell_type": "code",
   "execution_count": null,
   "metadata": {
    "collapsed": true
   },
   "outputs": [],
   "source": []
  },
  {
   "cell_type": "code",
   "execution_count": null,
   "metadata": {
    "collapsed": true
   },
   "outputs": [],
   "source": []
  }
 ],
 "metadata": {
  "kernelspec": {
   "display_name": "Python 3",
   "language": "python",
   "name": "python3"
  },
  "language_info": {
   "codemirror_mode": {
    "name": "ipython",
    "version": 3
   },
   "file_extension": ".py",
   "mimetype": "text/x-python",
   "name": "python",
   "nbconvert_exporter": "python",
   "pygments_lexer": "ipython3",
   "version": "3.5.4"
  }
 },
 "nbformat": 4,
 "nbformat_minor": 2
}
