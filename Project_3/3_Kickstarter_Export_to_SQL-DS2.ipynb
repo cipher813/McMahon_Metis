{
 "cells": [
  {
   "cell_type": "markdown",
   "metadata": {},
   "source": [
    "# Project 3: Predicting the Success of a Kickstarter Campaign\n",
    "A supervised learning exercise featuring logistic regression, SVM, KNN, and [Others?]"
   ]
  },
  {
   "cell_type": "code",
   "execution_count": 1,
   "metadata": {
    "collapsed": true
   },
   "outputs": [],
   "source": [
    "import pandas as pd\n",
    "import sqlalchemy\n",
    "from sqlalchemy import create_engine\n",
    "from flask_sqlalchemy import SQLAlchemy\n",
    "import os\n",
    "import json"
   ]
  },
  {
   "cell_type": "code",
   "execution_count": 2,
   "metadata": {},
   "outputs": [
    {
     "data": {
      "text/plain": [
       "'/Users/brianmcmahon/anaconda3/envs/tensorflow1.4/bin/python'"
      ]
     },
     "execution_count": 2,
     "metadata": {},
     "output_type": "execute_result"
    }
   ],
   "source": [
    "import sys\n",
    "sys.executable"
   ]
  },
  {
   "cell_type": "code",
   "execution_count": 3,
   "metadata": {
    "collapsed": true
   },
   "outputs": [],
   "source": [
    "# env variable at tensorflow1.4 per https://conda.io/docs/user-guide/tasks/manage-environments.html#saving-environment-variables\n",
    "# and https://vsupalov.com/flask-sqlalchemy-postgres/\n",
    "\n",
    "def get_env_variable(name):\n",
    "    try:\n",
    "        return os.environ[name]\n",
    "    except KeyError:\n",
    "        message = \"Expected environment variable '{}' not set.\".format(name)\n",
    "        raise Exception(message)\n",
    "\n",
    "# the values of those depend on your setup\n",
    "POSTGRES_URL = get_env_variable(\"POSTGRES_URL\")\n",
    "POSTGRES_USER = get_env_variable(\"POSTGRES_USER\")\n",
    "POSTGRES_PW = get_env_variable(\"POSTGRES_PW\")\n",
    "POSTGRES_DB = get_env_variable(\"POSTGRES_DB\")\n",
    "\n",
    "def to_str(obj):\n",
    "    return str(obj).split(' ')[0]\n",
    "\n",
    "def count_list_items(list):\n",
    "    try:\n",
    "        return len(list)\n",
    "    except:\n",
    "        return 0"
   ]
  },
  {
   "cell_type": "code",
   "execution_count": 4,
   "metadata": {
    "collapsed": true
   },
   "outputs": [],
   "source": [
    "DB_URL = 'postgresql+psycopg2://{user}:{pw}@{url}/{db}'.format(user=POSTGRES_USER,pw=POSTGRES_PW,url=POSTGRES_URL,db=POSTGRES_DB)"
   ]
  },
  {
   "cell_type": "code",
   "execution_count": 5,
   "metadata": {
    "collapsed": true
   },
   "outputs": [],
   "source": [
    "engine_var = DB_URL\n",
    "engine = create_engine(engine_var)"
   ]
  },
  {
   "cell_type": "code",
   "execution_count": 52,
   "metadata": {},
   "outputs": [],
   "source": [
    "# data at WebRobots https://webrobots.io/kickstarter-datasets/\n",
    "csv_range = range(1, 49)\n",
    "\n",
    "df = pd.DataFrame()\n",
    "for csv in csv_range:\n",
    "    csv = str(csv).zfill(3)\n",
    "    path ='data/Kickstarter_2018-01-12T10_20_09_196Z/Kickstarter{}.csv'.format(csv)\n",
    "    frame = pd.read_csv(path)\n",
    "\n",
    "    frame[csv] = csv\n",
    "    df = df.append(frame, ignore_index=True)"
   ]
  },
  {
   "cell_type": "code",
   "execution_count": 53,
   "metadata": {},
   "outputs": [
    {
     "name": "stdout",
     "output_type": "stream",
     "text": [
      "(192716, 85)\n",
      "Index(['001', '002', '003', '004', '005', '006', '007', '008', '009', '010',\n",
      "       '011', '012', '013', '014', '015', '016', '017', '018', '019', '020',\n",
      "       '021', '022', '023', '024', '025', '026', '027', '028', '029', '030',\n",
      "       '031', '032', '033', '034', '035', '036', '037', '038', '039', '040',\n",
      "       '041', '042', '043', '044', '045', '046', '047', '048', 'backers_count',\n",
      "       'blurb', 'category', 'converted_pledged_amount', 'country',\n",
      "       'created_at', 'creator', 'currency', 'currency_symbol',\n",
      "       'currency_trailing_code', 'current_currency', 'deadline',\n",
      "       'disable_communication', 'friends', 'fx_rate', 'goal', 'id',\n",
      "       'is_backing', 'is_starrable', 'is_starred', 'launched_at', 'location',\n",
      "       'name', 'permissions', 'photo', 'pledged', 'profile', 'slug',\n",
      "       'source_url', 'spotlight', 'staff_pick', 'state', 'state_changed_at',\n",
      "       'static_usd_rate', 'urls', 'usd_pledged', 'usd_type'],\n",
      "      dtype='object')\n"
     ]
    }
   ],
   "source": [
    "\n",
    "# df48 = pd.read_csv('data/Kickstarter_2018-01-12T10_20_09_196Z/Kickstarter048.csv')\n",
    "# df47 = pd.read_csv('data/Kickstarter_2018-01-12T10_20_09_196Z/Kickstarter047.csv')\n",
    "# df46 = pd.read_csv('data/Kickstarter_2018-01-12T10_20_09_196Z/Kickstarter046.csv')\n",
    "# df45 = pd.read_csv('data/Kickstarter_2018-01-12T10_20_09_196Z/Kickstarter045.csv')\n",
    "# df44 = pd.read_csv('data/Kickstarter_2018-01-12T10_20_09_196Z/Kickstarter044.csv')\n",
    "# df43 = pd.read_csv('data/Kickstarter_2018-01-12T10_20_09_196Z/Kickstarter043.csv')\n",
    "# df42 = pd.read_csv('data/Kickstarter_2018-01-12T10_20_09_196Z/Kickstarter042.csv')\n",
    "# df41 = pd.read_csv('data/Kickstarter_2018-01-12T10_20_09_196Z/Kickstarter041.csv')\n",
    "# df40 = pd.read_csv('data/Kickstarter_2018-01-12T10_20_09_196Z/Kickstarter040.csv')\n",
    "# df39 = pd.read_csv('data/Kickstarter_2018-01-12T10_20_09_196Z/Kickstarter039.csv')\n",
    "# df38 = pd.read_csv('data/Kickstarter_2018-01-12T10_20_09_196Z/Kickstarter038.csv')\n",
    "\n",
    "\n",
    "# frames = [df38,df39,df40,df41,df42,df43,df44,df45,df46,df47,df48]\n",
    "\n",
    "# df = pd.concat(frames)\n",
    "\n",
    "print(df.shape)\n",
    "print(df.columns)\n",
    "# df.head()"
   ]
  },
  {
   "cell_type": "code",
   "execution_count": 54,
   "metadata": {},
   "outputs": [],
   "source": [
    "df = df[(df['state'] == 'successful') | (df['state'] == 'failed')]\n",
    "\n",
    "df['category_name'] = [json.loads(x)['name'] for x in df['category']]\n",
    "df['creator_name'] = [json.loads(x)['name'] for x in df['creator']]\n",
    "df['blurb_len2'] = df['blurb'].str.lower().str.split()\n",
    "df['blurb_length'] = df['blurb_len2'].apply(count_list_items)"
   ]
  },
  {
   "cell_type": "code",
   "execution_count": null,
   "metadata": {
    "collapsed": true
   },
   "outputs": [],
   "source": [
    "\n",
    "\n"
   ]
  },
  {
   "cell_type": "code",
   "execution_count": null,
   "metadata": {
    "collapsed": true
   },
   "outputs": [],
   "source": []
  },
  {
   "cell_type": "code",
   "execution_count": 55,
   "metadata": {},
   "outputs": [
    {
     "data": {
      "text/plain": [
       "(178076, 93)"
      ]
     },
     "execution_count": 55,
     "metadata": {},
     "output_type": "execute_result"
    }
   ],
   "source": [
    "df['created_at'] = pd.to_datetime(df['created_at'],unit='s')\n",
    "df['launched_at'] = pd.to_datetime(df['launched_at'],unit='s')\n",
    "df['deadline'] = pd.to_datetime(df['deadline'],unit='s')\n",
    "\n",
    "df['created'] = pd.to_datetime(df['created_at'])\n",
    "df['launched'] = pd.to_datetime(df['launched_at'])\n",
    "df['deadline'] = pd.to_datetime(df['deadline'])\n",
    "\n",
    "df['created'] = df.created.apply(lambda x: x.date())\n",
    "df['launched'] = df.launched.apply(lambda x: x.date())\n",
    "df['deadline'] = df.deadline.apply(lambda x: x.date())\n",
    "\n",
    "df.spotlight = df.spotlight.astype(int)\n",
    "df.staff_pick = df.staff_pick.astype(int)\n",
    "\n",
    "\n",
    "# print(df['launched'].iloc[0])\n",
    "\n",
    "# df['created'] = df['created'].apply(lambda x: x.strftime('%Y-%m-%d'))\n",
    "# df['launched'] = df['launched'].apply(lambda x: x.strftime('%Y-%m-%d'))\n",
    "# df['deadline'] = df['deadline'].apply(lambda x: x.strftime('%Y-%m-%d'))\n",
    "\n",
    "df['campaign_length'] = (df['deadline'] - df['launched']).apply(to_str)\n",
    "\n",
    "df['pct_goal_achieved'] = round((df['usd_pledged'] / df['goal'])*100,1)\n",
    "df.shape"
   ]
  },
  {
   "cell_type": "code",
   "execution_count": 56,
   "metadata": {},
   "outputs": [
    {
     "data": {
      "text/plain": [
       "(178076, 93)"
      ]
     },
     "execution_count": 56,
     "metadata": {},
     "output_type": "execute_result"
    }
   ],
   "source": [
    "\n",
    "df = df.sort_values(['deadline'], ascending=[False])\n",
    "df.shape"
   ]
  },
  {
   "cell_type": "code",
   "execution_count": 57,
   "metadata": {},
   "outputs": [
    {
     "name": "stdout",
     "output_type": "stream",
     "text": [
      "(178075, 18)\n",
      "Index(['id', 'name', 'state', 'category_name', 'backers_count',\n",
      "       'pct_goal_achieved', 'usd_pledged', 'goal', 'country', 'currency',\n",
      "       'campaign_length', 'deadline', 'launched', 'created', 'spotlight',\n",
      "       'staff_pick', 'creator_name', 'blurb_length'],\n",
      "      dtype='object')\n"
     ]
    },
    {
     "data": {
      "text/html": [
       "<div>\n",
       "<style scoped>\n",
       "    .dataframe tbody tr th:only-of-type {\n",
       "        vertical-align: middle;\n",
       "    }\n",
       "\n",
       "    .dataframe tbody tr th {\n",
       "        vertical-align: top;\n",
       "    }\n",
       "\n",
       "    .dataframe thead th {\n",
       "        text-align: right;\n",
       "    }\n",
       "</style>\n",
       "<table border=\"1\" class=\"dataframe\">\n",
       "  <thead>\n",
       "    <tr style=\"text-align: right;\">\n",
       "      <th></th>\n",
       "      <th>id</th>\n",
       "      <th>name</th>\n",
       "      <th>state</th>\n",
       "      <th>category_name</th>\n",
       "      <th>backers_count</th>\n",
       "      <th>pct_goal_achieved</th>\n",
       "      <th>usd_pledged</th>\n",
       "      <th>goal</th>\n",
       "      <th>country</th>\n",
       "      <th>currency</th>\n",
       "      <th>campaign_length</th>\n",
       "      <th>deadline</th>\n",
       "      <th>launched</th>\n",
       "      <th>created</th>\n",
       "      <th>spotlight</th>\n",
       "      <th>staff_pick</th>\n",
       "      <th>creator_name</th>\n",
       "      <th>blurb_length</th>\n",
       "    </tr>\n",
       "  </thead>\n",
       "  <tbody>\n",
       "    <tr>\n",
       "      <th>50474</th>\n",
       "      <td>1725323227</td>\n",
       "      <td>Inspire young girls</td>\n",
       "      <td>failed</td>\n",
       "      <td>Childrenswear</td>\n",
       "      <td>1</td>\n",
       "      <td>2.3</td>\n",
       "      <td>30.0</td>\n",
       "      <td>1300.0</td>\n",
       "      <td>US</td>\n",
       "      <td>USD</td>\n",
       "      <td>30</td>\n",
       "      <td>2018-01-12</td>\n",
       "      <td>2017-12-13</td>\n",
       "      <td>2017-12-08</td>\n",
       "      <td>0</td>\n",
       "      <td>0</td>\n",
       "      <td>Rayna</td>\n",
       "      <td>6</td>\n",
       "    </tr>\n",
       "    <tr>\n",
       "      <th>96852</th>\n",
       "      <td>2065169465</td>\n",
       "      <td>Cotton-Top Pastries</td>\n",
       "      <td>successful</td>\n",
       "      <td>Small Batch</td>\n",
       "      <td>99</td>\n",
       "      <td>131.4</td>\n",
       "      <td>9858.0</td>\n",
       "      <td>7500.0</td>\n",
       "      <td>US</td>\n",
       "      <td>USD</td>\n",
       "      <td>30</td>\n",
       "      <td>2018-01-12</td>\n",
       "      <td>2017-12-13</td>\n",
       "      <td>2017-12-12</td>\n",
       "      <td>1</td>\n",
       "      <td>1</td>\n",
       "      <td>Holly Weist</td>\n",
       "      <td>5</td>\n",
       "    </tr>\n",
       "    <tr>\n",
       "      <th>82814</th>\n",
       "      <td>1516902916</td>\n",
       "      <td>Dreaming Creek Brewery</td>\n",
       "      <td>failed</td>\n",
       "      <td>Drinks</td>\n",
       "      <td>64</td>\n",
       "      <td>30.7</td>\n",
       "      <td>6139.0</td>\n",
       "      <td>20000.0</td>\n",
       "      <td>US</td>\n",
       "      <td>USD</td>\n",
       "      <td>30</td>\n",
       "      <td>2018-01-12</td>\n",
       "      <td>2017-12-13</td>\n",
       "      <td>2017-08-11</td>\n",
       "      <td>0</td>\n",
       "      <td>0</td>\n",
       "      <td>Mike Bradley</td>\n",
       "      <td>19</td>\n",
       "    </tr>\n",
       "    <tr>\n",
       "      <th>97879</th>\n",
       "      <td>1396766240</td>\n",
       "      <td>Ripple Playing Cards - Printed by USPCC</td>\n",
       "      <td>failed</td>\n",
       "      <td>Playing Cards</td>\n",
       "      <td>131</td>\n",
       "      <td>33.9</td>\n",
       "      <td>3387.0</td>\n",
       "      <td>9999.0</td>\n",
       "      <td>US</td>\n",
       "      <td>USD</td>\n",
       "      <td>38</td>\n",
       "      <td>2018-01-12</td>\n",
       "      <td>2017-12-05</td>\n",
       "      <td>2017-10-08</td>\n",
       "      <td>0</td>\n",
       "      <td>0</td>\n",
       "      <td>B.Y. Eidelman</td>\n",
       "      <td>16</td>\n",
       "    </tr>\n",
       "    <tr>\n",
       "      <th>49869</th>\n",
       "      <td>1361347175</td>\n",
       "      <td>New Boutique Funding for the San Antonio Stock...</td>\n",
       "      <td>failed</td>\n",
       "      <td>Ready-to-wear</td>\n",
       "      <td>0</td>\n",
       "      <td>0.0</td>\n",
       "      <td>0.0</td>\n",
       "      <td>5000.0</td>\n",
       "      <td>US</td>\n",
       "      <td>USD</td>\n",
       "      <td>15</td>\n",
       "      <td>2018-01-12</td>\n",
       "      <td>2017-12-28</td>\n",
       "      <td>2017-12-22</td>\n",
       "      <td>0</td>\n",
       "      <td>0</td>\n",
       "      <td>Darrian Fosty</td>\n",
       "      <td>26</td>\n",
       "    </tr>\n",
       "  </tbody>\n",
       "</table>\n",
       "</div>"
      ],
      "text/plain": [
       "               id                                               name  \\\n",
       "50474  1725323227                                Inspire young girls   \n",
       "96852  2065169465                                Cotton-Top Pastries   \n",
       "82814  1516902916                             Dreaming Creek Brewery   \n",
       "97879  1396766240            Ripple Playing Cards - Printed by USPCC   \n",
       "49869  1361347175  New Boutique Funding for the San Antonio Stock...   \n",
       "\n",
       "            state  category_name  backers_count  pct_goal_achieved  \\\n",
       "50474      failed  Childrenswear              1                2.3   \n",
       "96852  successful    Small Batch             99              131.4   \n",
       "82814      failed         Drinks             64               30.7   \n",
       "97879      failed  Playing Cards            131               33.9   \n",
       "49869      failed  Ready-to-wear              0                0.0   \n",
       "\n",
       "       usd_pledged     goal country currency campaign_length    deadline  \\\n",
       "50474         30.0   1300.0      US      USD              30  2018-01-12   \n",
       "96852       9858.0   7500.0      US      USD              30  2018-01-12   \n",
       "82814       6139.0  20000.0      US      USD              30  2018-01-12   \n",
       "97879       3387.0   9999.0      US      USD              38  2018-01-12   \n",
       "49869          0.0   5000.0      US      USD              15  2018-01-12   \n",
       "\n",
       "         launched     created  spotlight  staff_pick   creator_name  \\\n",
       "50474  2017-12-13  2017-12-08          0           0          Rayna   \n",
       "96852  2017-12-13  2017-12-12          1           1    Holly Weist   \n",
       "82814  2017-12-13  2017-08-11          0           0   Mike Bradley   \n",
       "97879  2017-12-05  2017-10-08          0           0  B.Y. Eidelman   \n",
       "49869  2017-12-28  2017-12-22          0           0  Darrian Fosty   \n",
       "\n",
       "       blurb_length  \n",
       "50474             6  \n",
       "96852             5  \n",
       "82814            19  \n",
       "97879            16  \n",
       "49869            26  "
      ]
     },
     "execution_count": 57,
     "metadata": {},
     "output_type": "execute_result"
    }
   ],
   "source": [
    "df = df[['id','name','state','category_name','backers_count','pct_goal_achieved','usd_pledged','goal','country','currency','campaign_length',\n",
    "         'deadline','launched','created','spotlight','staff_pick','creator_name','blurb_length']]\n",
    "df = df.dropna()\n",
    "print(df.shape)\n",
    "print(df.columns)\n",
    "df.head()"
   ]
  },
  {
   "cell_type": "code",
   "execution_count": 58,
   "metadata": {},
   "outputs": [
    {
     "data": {
      "text/html": [
       "<div>\n",
       "<style scoped>\n",
       "    .dataframe tbody tr th:only-of-type {\n",
       "        vertical-align: middle;\n",
       "    }\n",
       "\n",
       "    .dataframe tbody tr th {\n",
       "        vertical-align: top;\n",
       "    }\n",
       "\n",
       "    .dataframe thead th {\n",
       "        text-align: right;\n",
       "    }\n",
       "</style>\n",
       "<table border=\"1\" class=\"dataframe\">\n",
       "  <thead>\n",
       "    <tr style=\"text-align: right;\">\n",
       "      <th></th>\n",
       "      <th>id</th>\n",
       "      <th>name</th>\n",
       "      <th>state</th>\n",
       "      <th>category_name</th>\n",
       "      <th>backers_count</th>\n",
       "      <th>pct_goal_achieved</th>\n",
       "      <th>usd_pledged</th>\n",
       "      <th>goal</th>\n",
       "      <th>country</th>\n",
       "      <th>currency</th>\n",
       "      <th>campaign_length</th>\n",
       "      <th>deadline</th>\n",
       "      <th>launched</th>\n",
       "      <th>created</th>\n",
       "      <th>spotlight</th>\n",
       "      <th>staff_pick</th>\n",
       "      <th>creator_name</th>\n",
       "      <th>blurb_length</th>\n",
       "    </tr>\n",
       "  </thead>\n",
       "  <tbody>\n",
       "    <tr>\n",
       "      <th>159484</th>\n",
       "      <td>266044220</td>\n",
       "      <td>Help me write my second novel.</td>\n",
       "      <td>successful</td>\n",
       "      <td>Fiction</td>\n",
       "      <td>18</td>\n",
       "      <td>112.6</td>\n",
       "      <td>563.0</td>\n",
       "      <td>500.0</td>\n",
       "      <td>US</td>\n",
       "      <td>USD</td>\n",
       "      <td>30</td>\n",
       "      <td>2009-05-29</td>\n",
       "      <td>2009-04-29</td>\n",
       "      <td>2009-04-29</td>\n",
       "      <td>1</td>\n",
       "      <td>1</td>\n",
       "      <td>Brendan Mackie</td>\n",
       "      <td>24</td>\n",
       "    </tr>\n",
       "    <tr>\n",
       "      <th>2373</th>\n",
       "      <td>199916122</td>\n",
       "      <td>Mr. Squiggles</td>\n",
       "      <td>failed</td>\n",
       "      <td>Illustration</td>\n",
       "      <td>0</td>\n",
       "      <td>0.0</td>\n",
       "      <td>0.0</td>\n",
       "      <td>30.0</td>\n",
       "      <td>US</td>\n",
       "      <td>USD</td>\n",
       "      <td>10</td>\n",
       "      <td>2009-05-22</td>\n",
       "      <td>2009-05-12</td>\n",
       "      <td>2009-05-12</td>\n",
       "      <td>0</td>\n",
       "      <td>0</td>\n",
       "      <td>C.K. Sample</td>\n",
       "      <td>22</td>\n",
       "    </tr>\n",
       "    <tr>\n",
       "      <th>109400</th>\n",
       "      <td>2089078683</td>\n",
       "      <td>New York Makes a Book!!</td>\n",
       "      <td>successful</td>\n",
       "      <td>Journalism</td>\n",
       "      <td>110</td>\n",
       "      <td>111.0</td>\n",
       "      <td>3329.0</td>\n",
       "      <td>3000.0</td>\n",
       "      <td>US</td>\n",
       "      <td>USD</td>\n",
       "      <td>18</td>\n",
       "      <td>2009-05-16</td>\n",
       "      <td>2009-04-28</td>\n",
       "      <td>2009-04-27</td>\n",
       "      <td>1</td>\n",
       "      <td>1</td>\n",
       "      <td>We Make a Book</td>\n",
       "      <td>22</td>\n",
       "    </tr>\n",
       "    <tr>\n",
       "      <th>6227</th>\n",
       "      <td>1703704063</td>\n",
       "      <td>drawing for dollars</td>\n",
       "      <td>successful</td>\n",
       "      <td>Illustration</td>\n",
       "      <td>3</td>\n",
       "      <td>175.0</td>\n",
       "      <td>35.0</td>\n",
       "      <td>20.0</td>\n",
       "      <td>US</td>\n",
       "      <td>USD</td>\n",
       "      <td>9</td>\n",
       "      <td>2009-05-03</td>\n",
       "      <td>2009-04-24</td>\n",
       "      <td>2009-04-24</td>\n",
       "      <td>1</td>\n",
       "      <td>1</td>\n",
       "      <td>darkpony</td>\n",
       "      <td>26</td>\n",
       "    </tr>\n",
       "    <tr>\n",
       "      <th>980</th>\n",
       "      <td>1703704063</td>\n",
       "      <td>drawing for dollars</td>\n",
       "      <td>successful</td>\n",
       "      <td>Illustration</td>\n",
       "      <td>3</td>\n",
       "      <td>175.0</td>\n",
       "      <td>35.0</td>\n",
       "      <td>20.0</td>\n",
       "      <td>US</td>\n",
       "      <td>USD</td>\n",
       "      <td>9</td>\n",
       "      <td>2009-05-03</td>\n",
       "      <td>2009-04-24</td>\n",
       "      <td>2009-04-24</td>\n",
       "      <td>1</td>\n",
       "      <td>1</td>\n",
       "      <td>darkpony</td>\n",
       "      <td>26</td>\n",
       "    </tr>\n",
       "  </tbody>\n",
       "</table>\n",
       "</div>"
      ],
      "text/plain": [
       "                id                            name       state category_name  \\\n",
       "159484   266044220  Help me write my second novel.  successful       Fiction   \n",
       "2373     199916122                   Mr. Squiggles      failed  Illustration   \n",
       "109400  2089078683         New York Makes a Book!!  successful    Journalism   \n",
       "6227    1703704063             drawing for dollars  successful  Illustration   \n",
       "980     1703704063             drawing for dollars  successful  Illustration   \n",
       "\n",
       "        backers_count  pct_goal_achieved  usd_pledged    goal country  \\\n",
       "159484             18              112.6        563.0   500.0      US   \n",
       "2373                0                0.0          0.0    30.0      US   \n",
       "109400            110              111.0       3329.0  3000.0      US   \n",
       "6227                3              175.0         35.0    20.0      US   \n",
       "980                 3              175.0         35.0    20.0      US   \n",
       "\n",
       "       currency campaign_length    deadline    launched     created  \\\n",
       "159484      USD              30  2009-05-29  2009-04-29  2009-04-29   \n",
       "2373        USD              10  2009-05-22  2009-05-12  2009-05-12   \n",
       "109400      USD              18  2009-05-16  2009-04-28  2009-04-27   \n",
       "6227        USD               9  2009-05-03  2009-04-24  2009-04-24   \n",
       "980         USD               9  2009-05-03  2009-04-24  2009-04-24   \n",
       "\n",
       "        spotlight  staff_pick    creator_name  blurb_length  \n",
       "159484          1           1  Brendan Mackie            24  \n",
       "2373            0           0     C.K. Sample            22  \n",
       "109400          1           1  We Make a Book            22  \n",
       "6227            1           1        darkpony            26  \n",
       "980             1           1        darkpony            26  "
      ]
     },
     "execution_count": 58,
     "metadata": {},
     "output_type": "execute_result"
    }
   ],
   "source": [
    "df.tail()"
   ]
  },
  {
   "cell_type": "code",
   "execution_count": 59,
   "metadata": {},
   "outputs": [
    {
     "data": {
      "text/plain": [
       "(178075, 18)"
      ]
     },
     "execution_count": 59,
     "metadata": {},
     "output_type": "execute_result"
    }
   ],
   "source": [
    "df.shape"
   ]
  },
  {
   "cell_type": "code",
   "execution_count": 60,
   "metadata": {},
   "outputs": [
    {
     "data": {
      "text/plain": [
       "(163426, 18)"
      ]
     },
     "execution_count": 60,
     "metadata": {},
     "output_type": "execute_result"
    }
   ],
   "source": [
    "df = df.drop_duplicates()\n",
    "df.shape"
   ]
  },
  {
   "cell_type": "code",
   "execution_count": 61,
   "metadata": {},
   "outputs": [],
   "source": [
    "# df['deadline'] = pd.to_datetime(df['deadline'])\n",
    "# df['launched'] = pd.to_datetime(df['launched']) \n",
    "# df['launched'] = df['launched'].apply(lambda x: x.strftime('%Y-%m-%d'))\n",
    "# df['launched'] = pd.to_datetime(df['launched']) \n",
    "# df = df.sort_values(['deadline'], ascending=[False])\n",
    "# df['campaign_length'] = (df['deadline'] - df['launched']).apply(to_str)\n",
    "# # df = df.set_index('ID')\n",
    "# print(df.shape)\n",
    "# df.head()"
   ]
  },
  {
   "cell_type": "code",
   "execution_count": null,
   "metadata": {
    "collapsed": true
   },
   "outputs": [],
   "source": []
  },
  {
   "cell_type": "code",
   "execution_count": 62,
   "metadata": {
    "collapsed": true
   },
   "outputs": [],
   "source": [
    "# # remove canceled, undefined, live and suspended\n",
    "# df = df[(df['state'] == 'successful') | (df['state'] == 'failed')]\n",
    "# df = pd.DataFrame(df)\n",
    "# start_date = pd.to_datetime('2012-01-01') \n",
    "# df = df[df['launched'] >= start_date] # filter from start date to current\n",
    "# print(df.shape)\n",
    "# df.tail()   "
   ]
  },
  {
   "cell_type": "code",
   "execution_count": 63,
   "metadata": {
    "collapsed": true
   },
   "outputs": [],
   "source": [
    "# # df['ID'] = df['ID'].apply(to_str)\n",
    "# df['deadline'] = df['deadline'].apply(to_str)\n",
    "# df['launched'] = df['launched'].apply(to_str)\n",
    "# df['idx'] = df['ID']\n",
    "# df = df.set_index('idx')"
   ]
  },
  {
   "cell_type": "code",
   "execution_count": 64,
   "metadata": {
    "collapsed": true
   },
   "outputs": [],
   "source": [
    "# Prep for categorical analysis\n",
    "# df.main_category = pd.Categorical(df.main_category) \n",
    "# df['main_category_code'] = df.main_category.cat.codes\n",
    "\n",
    "# df.country = pd.Categorical(df.country) \n",
    "# df['country_code'] = df.country.cat.codes\n",
    "\n",
    "# df.currency = pd.Categorical(df.currency) \n",
    "# df['currency_code'] = df.currency.cat.codes\n",
    "\n",
    "# df.state = pd.Categorical(df.state) \n",
    "# df['state_code'] = df.state.cat.codes\n",
    "\n",
    "# df.head(100)"
   ]
  },
  {
   "cell_type": "code",
   "execution_count": 65,
   "metadata": {
    "collapsed": true
   },
   "outputs": [],
   "source": [
    "# df['main_category'] = pd.get_dummies('main_category')\n",
    "# df.columns"
   ]
  },
  {
   "cell_type": "code",
   "execution_count": 66,
   "metadata": {
    "collapsed": true
   },
   "outputs": [],
   "source": [
    "# df_dummies = pd.get_dummies(df[['state','main_category','country','currency']],drop_first=True)\n",
    "# # df['state'] = pd.get_dummies(df['state'])\n",
    "# # df['main_category'] = pd.get_dummies(df['main_category'])\n",
    "# # df['country'] = pd.get_dummies(df['country'])\n",
    "# # df['currency'] = pd.get_dummies(df['currency'])\n",
    "# df['ID'].head()"
   ]
  },
  {
   "cell_type": "code",
   "execution_count": 67,
   "metadata": {
    "collapsed": true
   },
   "outputs": [],
   "source": [
    "# df = df_dummies.merge(df,how='inner',left_index=True, right_index=True)\n",
    "\n",
    "# df.columns"
   ]
  },
  {
   "cell_type": "code",
   "execution_count": null,
   "metadata": {
    "collapsed": true
   },
   "outputs": [],
   "source": []
  },
  {
   "cell_type": "code",
   "execution_count": null,
   "metadata": {
    "collapsed": true
   },
   "outputs": [],
   "source": []
  },
  {
   "cell_type": "code",
   "execution_count": 68,
   "metadata": {
    "collapsed": true
   },
   "outputs": [],
   "source": [
    "# df.info()"
   ]
  },
  {
   "cell_type": "code",
   "execution_count": null,
   "metadata": {
    "collapsed": true
   },
   "outputs": [],
   "source": [
    "# df.head()"
   ]
  },
  {
   "cell_type": "code",
   "execution_count": null,
   "metadata": {},
   "outputs": [],
   "source": [
    "df.to_pickle('data/kickstarter_data_ds2.pkl')\n",
    "try:\n",
    "    df.to_sql(\"kickstarter_data_ds2\", engine, chunksize=20000, if_exists='replace')\n",
    "except Exception as e:\n",
    "    print(e)\n",
    "    pass\n",
    "\n",
    "# Temporary fix:\n",
    "\n",
    "# df.to_csv('data/kickstarter_data.csv')"
   ]
  },
  {
   "cell_type": "markdown",
   "metadata": {},
   "source": [
    "## State of Success [this should now be covered in EDA]"
   ]
  },
  {
   "cell_type": "code",
   "execution_count": null,
   "metadata": {
    "collapsed": true
   },
   "outputs": [],
   "source": [
    "# df_state = df.groupby([\"state\"]).count().sort_values(['name'], ascending=[False])\n",
    "# df_state = pd.DataFrame(df_state, columns={'name'})\n",
    "# print(df_state.shape)\n",
    "# df_state"
   ]
  },
  {
   "cell_type": "code",
   "execution_count": null,
   "metadata": {
    "collapsed": true
   },
   "outputs": [],
   "source": [
    "# df_state = df.groupby([\"state\"]).sum().sort_values(['usd pledged'], ascending=[False])\n",
    "# df_state = pd.DataFrame(df_state, columns={'usd pledged', 'usd_pledged_real','usd_goal_real'})\n",
    "# print(df_state.shape)\n",
    "# df_state"
   ]
  },
  {
   "cell_type": "code",
   "execution_count": null,
   "metadata": {
    "collapsed": true
   },
   "outputs": [],
   "source": []
  },
  {
   "cell_type": "code",
   "execution_count": null,
   "metadata": {
    "collapsed": true
   },
   "outputs": [],
   "source": [
    "# df_country = df.groupby([\"country\"]).count().sort_values(['name'], ascending=[False])\n",
    "# df_country = pd.DataFrame(df_country, columns={'name'})\n",
    "# print(df_country.shape)\n",
    "# df_country"
   ]
  },
  {
   "cell_type": "code",
   "execution_count": null,
   "metadata": {
    "collapsed": true
   },
   "outputs": [],
   "source": [
    "# df_country = df.groupby([\"country\"]).sum().sort_values(['usd pledged'], ascending=[False])\n",
    "# df_country = pd.DataFrame(df_country, columns={'usd pledged', 'usd_pledged_real','usd_goal_real'})\n",
    "# print(df_country.shape)\n",
    "# df_country"
   ]
  },
  {
   "cell_type": "code",
   "execution_count": null,
   "metadata": {
    "collapsed": true
   },
   "outputs": [],
   "source": [
    "# df_currency = df.groupby([\"currency\"]).count().sort_values(['name'], ascending=[False])\n",
    "# df_currency = pd.DataFrame(df_currency, columns={'name'})\n",
    "# print(df_currency.shape)\n",
    "# df_currency"
   ]
  },
  {
   "cell_type": "code",
   "execution_count": null,
   "metadata": {
    "collapsed": true
   },
   "outputs": [],
   "source": [
    "# df_currency = df.groupby([\"currency\"]).sum().sort_values(['usd pledged'], ascending=[False])\n",
    "# df_currency = pd.DataFrame(df_currency, columns={'usd pledged', 'usd_pledged_real','usd_goal_real'})\n",
    "# print(df_currency.shape)\n",
    "# df_currency"
   ]
  },
  {
   "cell_type": "code",
   "execution_count": null,
   "metadata": {
    "collapsed": true
   },
   "outputs": [],
   "source": [
    "# df_main_category = df.groupby([\"main_category\"]).count().sort_values(['name'], ascending=[False])\n",
    "# df_main_category = pd.DataFrame(df_main_category, columns={'name'})\n",
    "# print(df_main_category.shape)\n",
    "# df_main_category"
   ]
  },
  {
   "cell_type": "code",
   "execution_count": null,
   "metadata": {
    "collapsed": true
   },
   "outputs": [],
   "source": [
    "# df_main_category = df.groupby([\"main_category\"]).sum().sort_values(['usd pledged'], ascending=[False])\n",
    "# df_main_category = pd.DataFrame(df_main_category, columns={'usd pledged', 'usd_pledged_real','usd_goal_real'})\n",
    "# print(df_main_category.shape)\n",
    "# df_main_category"
   ]
  },
  {
   "cell_type": "code",
   "execution_count": null,
   "metadata": {
    "collapsed": true
   },
   "outputs": [],
   "source": [
    "# df_category = df.groupby([\"category\"]).count().sort_values(['name'], ascending=[False])\n",
    "# print(df_category.shape)\n",
    "# df_category"
   ]
  },
  {
   "cell_type": "code",
   "execution_count": null,
   "metadata": {
    "collapsed": true
   },
   "outputs": [],
   "source": [
    "# df_category = df.groupby([\"category\"]).sum().sort_values(['usd pledged'], ascending=[False])\n",
    "# df_category = pd.DataFrame(df_category, columns={'usd pledged', 'usd_pledged_real','usd_goal_real'})\n",
    "# print(df_category.shape)\n",
    "# df_category"
   ]
  },
  {
   "cell_type": "code",
   "execution_count": null,
   "metadata": {
    "collapsed": true
   },
   "outputs": [],
   "source": [
    "# df2 = pd.read_csv('data/Kickstarter_2018-01-12T10_20_09_196Z/Kickstarter048.csv')\n",
    "# df2.head()"
   ]
  },
  {
   "cell_type": "code",
   "execution_count": null,
   "metadata": {
    "collapsed": true
   },
   "outputs": [],
   "source": []
  }
 ],
 "metadata": {
  "kernelspec": {
   "display_name": "Python 3",
   "language": "python",
   "name": "python3"
  },
  "language_info": {
   "codemirror_mode": {
    "name": "ipython",
    "version": 3
   },
   "file_extension": ".py",
   "mimetype": "text/x-python",
   "name": "python",
   "nbconvert_exporter": "python",
   "pygments_lexer": "ipython3",
   "version": "3.5.4"
  }
 },
 "nbformat": 4,
 "nbformat_minor": 2
}
