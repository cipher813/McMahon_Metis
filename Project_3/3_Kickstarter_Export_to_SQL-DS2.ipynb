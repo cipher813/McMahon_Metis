{
 "cells": [
  {
   "cell_type": "markdown",
   "metadata": {},
   "source": [
    "# Project 3: Predicting the Success of a Kickstarter Campaign\n",
    "A supervised learning exercise featuring logistic regression, SVM, KNN, and [Others?]"
   ]
  },
  {
   "cell_type": "code",
   "execution_count": 1,
   "metadata": {
    "collapsed": true
   },
   "outputs": [],
   "source": [
    "import pandas as pd\n",
    "import sqlalchemy\n",
    "from sqlalchemy import create_engine\n",
    "from flask_sqlalchemy import SQLAlchemy\n",
    "import os\n",
    "import json"
   ]
  },
  {
   "cell_type": "code",
   "execution_count": 2,
   "metadata": {},
   "outputs": [
    {
     "data": {
      "text/plain": [
       "'/Users/brianmcmahon/anaconda3/envs/tensorflow1.4/bin/python'"
      ]
     },
     "execution_count": 2,
     "metadata": {},
     "output_type": "execute_result"
    }
   ],
   "source": [
    "import sys\n",
    "sys.executable"
   ]
  },
  {
   "cell_type": "code",
   "execution_count": 3,
   "metadata": {
    "collapsed": true
   },
   "outputs": [],
   "source": [
    "# env variable at tensorflow1.4 per https://conda.io/docs/user-guide/tasks/manage-environments.html#saving-environment-variables\n",
    "# and https://vsupalov.com/flask-sqlalchemy-postgres/\n",
    "\n",
    "def get_env_variable(name):\n",
    "    try:\n",
    "        return os.environ[name]\n",
    "    except KeyError:\n",
    "        message = \"Expected environment variable '{}' not set.\".format(name)\n",
    "        raise Exception(message)\n",
    "\n",
    "# the values of those depend on your setup\n",
    "POSTGRES_URL = get_env_variable(\"POSTGRES_URL\")\n",
    "POSTGRES_USER = get_env_variable(\"POSTGRES_USER\")\n",
    "POSTGRES_PW = get_env_variable(\"POSTGRES_PW\")\n",
    "POSTGRES_DB = get_env_variable(\"POSTGRES_DB\")\n",
    "\n",
    "def to_str(obj):\n",
    "    return str(obj).split(' ')[0]\n",
    "\n",
    "def count_list_items(list):\n",
    "    try:\n",
    "        return len(list)\n",
    "    except:\n",
    "        return 0"
   ]
  },
  {
   "cell_type": "code",
   "execution_count": 4,
   "metadata": {
    "collapsed": true
   },
   "outputs": [],
   "source": [
    "DB_URL = 'postgresql+psycopg2://{user}:{pw}@{url}/{db}'.format(user=POSTGRES_USER,pw=POSTGRES_PW,url=POSTGRES_URL,db=POSTGRES_DB)"
   ]
  },
  {
   "cell_type": "code",
   "execution_count": 5,
   "metadata": {
    "collapsed": true
   },
   "outputs": [],
   "source": [
    "engine_var = DB_URL\n",
    "engine = create_engine(engine_var)"
   ]
  },
  {
   "cell_type": "code",
   "execution_count": 6,
   "metadata": {
    "collapsed": true
   },
   "outputs": [],
   "source": [
    "# data at WebRobots https://webrobots.io/kickstarter-datasets/\n",
    "csv_range = range(1, 49)\n",
    "\n",
    "df = pd.DataFrame()\n",
    "for csv in csv_range:\n",
    "    csv = str(csv).zfill(3)\n",
    "    path ='data/Kickstarter_2018-01-12T10_20_09_196Z/Kickstarter{}.csv'.format(csv)\n",
    "    frame = pd.read_csv(path)\n",
    "\n",
    "    frame[csv] = csv\n",
    "    df = df.append(frame, ignore_index=True)"
   ]
  },
  {
   "cell_type": "code",
   "execution_count": 7,
   "metadata": {},
   "outputs": [
    {
     "name": "stdout",
     "output_type": "stream",
     "text": [
      "(192716, 85)\n",
      "Index(['001', '002', '003', '004', '005', '006', '007', '008', '009', '010',\n",
      "       '011', '012', '013', '014', '015', '016', '017', '018', '019', '020',\n",
      "       '021', '022', '023', '024', '025', '026', '027', '028', '029', '030',\n",
      "       '031', '032', '033', '034', '035', '036', '037', '038', '039', '040',\n",
      "       '041', '042', '043', '044', '045', '046', '047', '048', 'backers_count',\n",
      "       'blurb', 'category', 'converted_pledged_amount', 'country',\n",
      "       'created_at', 'creator', 'currency', 'currency_symbol',\n",
      "       'currency_trailing_code', 'current_currency', 'deadline',\n",
      "       'disable_communication', 'friends', 'fx_rate', 'goal', 'id',\n",
      "       'is_backing', 'is_starrable', 'is_starred', 'launched_at', 'location',\n",
      "       'name', 'permissions', 'photo', 'pledged', 'profile', 'slug',\n",
      "       'source_url', 'spotlight', 'staff_pick', 'state', 'state_changed_at',\n",
      "       'static_usd_rate', 'urls', 'usd_pledged', 'usd_type'],\n",
      "      dtype='object')\n"
     ]
    },
    {
     "data": {
      "text/html": [
       "<div>\n",
       "<style scoped>\n",
       "    .dataframe tbody tr th:only-of-type {\n",
       "        vertical-align: middle;\n",
       "    }\n",
       "\n",
       "    .dataframe tbody tr th {\n",
       "        vertical-align: top;\n",
       "    }\n",
       "\n",
       "    .dataframe thead th {\n",
       "        text-align: right;\n",
       "    }\n",
       "</style>\n",
       "<table border=\"1\" class=\"dataframe\">\n",
       "  <thead>\n",
       "    <tr style=\"text-align: right;\">\n",
       "      <th></th>\n",
       "      <th>001</th>\n",
       "      <th>002</th>\n",
       "      <th>003</th>\n",
       "      <th>004</th>\n",
       "      <th>005</th>\n",
       "      <th>006</th>\n",
       "      <th>007</th>\n",
       "      <th>008</th>\n",
       "      <th>009</th>\n",
       "      <th>010</th>\n",
       "      <th>...</th>\n",
       "      <th>slug</th>\n",
       "      <th>source_url</th>\n",
       "      <th>spotlight</th>\n",
       "      <th>staff_pick</th>\n",
       "      <th>state</th>\n",
       "      <th>state_changed_at</th>\n",
       "      <th>static_usd_rate</th>\n",
       "      <th>urls</th>\n",
       "      <th>usd_pledged</th>\n",
       "      <th>usd_type</th>\n",
       "    </tr>\n",
       "  </thead>\n",
       "  <tbody>\n",
       "    <tr>\n",
       "      <th>0</th>\n",
       "      <td>001</td>\n",
       "      <td>NaN</td>\n",
       "      <td>NaN</td>\n",
       "      <td>NaN</td>\n",
       "      <td>NaN</td>\n",
       "      <td>NaN</td>\n",
       "      <td>NaN</td>\n",
       "      <td>NaN</td>\n",
       "      <td>NaN</td>\n",
       "      <td>NaN</td>\n",
       "      <td>...</td>\n",
       "      <td>stardust-limited-edition-print-launch</td>\n",
       "      <td>https://www.kickstarter.com/discover/categorie...</td>\n",
       "      <td>True</td>\n",
       "      <td>False</td>\n",
       "      <td>successful</td>\n",
       "      <td>1435485613</td>\n",
       "      <td>1.529099</td>\n",
       "      <td>{\"web\":{\"project\":\"https://www.kickstarter.com...</td>\n",
       "      <td>2061.225115</td>\n",
       "      <td>domestic</td>\n",
       "    </tr>\n",
       "    <tr>\n",
       "      <th>1</th>\n",
       "      <td>001</td>\n",
       "      <td>NaN</td>\n",
       "      <td>NaN</td>\n",
       "      <td>NaN</td>\n",
       "      <td>NaN</td>\n",
       "      <td>NaN</td>\n",
       "      <td>NaN</td>\n",
       "      <td>NaN</td>\n",
       "      <td>NaN</td>\n",
       "      <td>NaN</td>\n",
       "      <td>...</td>\n",
       "      <td>duality-deck-artist-oracle-cards-and-book</td>\n",
       "      <td>https://www.kickstarter.com/discover/categorie...</td>\n",
       "      <td>True</td>\n",
       "      <td>False</td>\n",
       "      <td>successful</td>\n",
       "      <td>1435784557</td>\n",
       "      <td>1.096800</td>\n",
       "      <td>{\"web\":{\"project\":\"https://www.kickstarter.com...</td>\n",
       "      <td>5442.323089</td>\n",
       "      <td>domestic</td>\n",
       "    </tr>\n",
       "    <tr>\n",
       "      <th>2</th>\n",
       "      <td>001</td>\n",
       "      <td>NaN</td>\n",
       "      <td>NaN</td>\n",
       "      <td>NaN</td>\n",
       "      <td>NaN</td>\n",
       "      <td>NaN</td>\n",
       "      <td>NaN</td>\n",
       "      <td>NaN</td>\n",
       "      <td>NaN</td>\n",
       "      <td>NaN</td>\n",
       "      <td>...</td>\n",
       "      <td>rainbow-fantasy-fairy-art-postcard-pixiepocalypse</td>\n",
       "      <td>https://www.kickstarter.com/discover/categorie...</td>\n",
       "      <td>True</td>\n",
       "      <td>False</td>\n",
       "      <td>successful</td>\n",
       "      <td>1435795239</td>\n",
       "      <td>1.000000</td>\n",
       "      <td>{\"web\":{\"project\":\"https://www.kickstarter.com...</td>\n",
       "      <td>5798.000000</td>\n",
       "      <td>domestic</td>\n",
       "    </tr>\n",
       "    <tr>\n",
       "      <th>3</th>\n",
       "      <td>001</td>\n",
       "      <td>NaN</td>\n",
       "      <td>NaN</td>\n",
       "      <td>NaN</td>\n",
       "      <td>NaN</td>\n",
       "      <td>NaN</td>\n",
       "      <td>NaN</td>\n",
       "      <td>NaN</td>\n",
       "      <td>NaN</td>\n",
       "      <td>NaN</td>\n",
       "      <td>...</td>\n",
       "      <td>day-of-the-dead-thor-calavera-vinyl-stickers</td>\n",
       "      <td>https://www.kickstarter.com/discover/categorie...</td>\n",
       "      <td>True</td>\n",
       "      <td>False</td>\n",
       "      <td>successful</td>\n",
       "      <td>1434418124</td>\n",
       "      <td>1.000000</td>\n",
       "      <td>{\"web\":{\"project\":\"https://www.kickstarter.com...</td>\n",
       "      <td>817.000000</td>\n",
       "      <td>domestic</td>\n",
       "    </tr>\n",
       "    <tr>\n",
       "      <th>4</th>\n",
       "      <td>001</td>\n",
       "      <td>NaN</td>\n",
       "      <td>NaN</td>\n",
       "      <td>NaN</td>\n",
       "      <td>NaN</td>\n",
       "      <td>NaN</td>\n",
       "      <td>NaN</td>\n",
       "      <td>NaN</td>\n",
       "      <td>NaN</td>\n",
       "      <td>NaN</td>\n",
       "      <td>...</td>\n",
       "      <td>monster-book-project</td>\n",
       "      <td>https://www.kickstarter.com/discover/categorie...</td>\n",
       "      <td>True</td>\n",
       "      <td>False</td>\n",
       "      <td>successful</td>\n",
       "      <td>1435686362</td>\n",
       "      <td>1.000000</td>\n",
       "      <td>{\"web\":{\"project\":\"https://www.kickstarter.com...</td>\n",
       "      <td>2560.000000</td>\n",
       "      <td>domestic</td>\n",
       "    </tr>\n",
       "  </tbody>\n",
       "</table>\n",
       "<p>5 rows × 85 columns</p>\n",
       "</div>"
      ],
      "text/plain": [
       "   001  002  003  004  005  006  007  008  009  010    ...     \\\n",
       "0  001  NaN  NaN  NaN  NaN  NaN  NaN  NaN  NaN  NaN    ...      \n",
       "1  001  NaN  NaN  NaN  NaN  NaN  NaN  NaN  NaN  NaN    ...      \n",
       "2  001  NaN  NaN  NaN  NaN  NaN  NaN  NaN  NaN  NaN    ...      \n",
       "3  001  NaN  NaN  NaN  NaN  NaN  NaN  NaN  NaN  NaN    ...      \n",
       "4  001  NaN  NaN  NaN  NaN  NaN  NaN  NaN  NaN  NaN    ...      \n",
       "\n",
       "                                                slug  \\\n",
       "0              stardust-limited-edition-print-launch   \n",
       "1          duality-deck-artist-oracle-cards-and-book   \n",
       "2  rainbow-fantasy-fairy-art-postcard-pixiepocalypse   \n",
       "3       day-of-the-dead-thor-calavera-vinyl-stickers   \n",
       "4                               monster-book-project   \n",
       "\n",
       "                                          source_url spotlight staff_pick  \\\n",
       "0  https://www.kickstarter.com/discover/categorie...      True      False   \n",
       "1  https://www.kickstarter.com/discover/categorie...      True      False   \n",
       "2  https://www.kickstarter.com/discover/categorie...      True      False   \n",
       "3  https://www.kickstarter.com/discover/categorie...      True      False   \n",
       "4  https://www.kickstarter.com/discover/categorie...      True      False   \n",
       "\n",
       "        state state_changed_at static_usd_rate  \\\n",
       "0  successful       1435485613        1.529099   \n",
       "1  successful       1435784557        1.096800   \n",
       "2  successful       1435795239        1.000000   \n",
       "3  successful       1434418124        1.000000   \n",
       "4  successful       1435686362        1.000000   \n",
       "\n",
       "                                                urls  usd_pledged  usd_type  \n",
       "0  {\"web\":{\"project\":\"https://www.kickstarter.com...  2061.225115  domestic  \n",
       "1  {\"web\":{\"project\":\"https://www.kickstarter.com...  5442.323089  domestic  \n",
       "2  {\"web\":{\"project\":\"https://www.kickstarter.com...  5798.000000  domestic  \n",
       "3  {\"web\":{\"project\":\"https://www.kickstarter.com...   817.000000  domestic  \n",
       "4  {\"web\":{\"project\":\"https://www.kickstarter.com...  2560.000000  domestic  \n",
       "\n",
       "[5 rows x 85 columns]"
      ]
     },
     "execution_count": 7,
     "metadata": {},
     "output_type": "execute_result"
    }
   ],
   "source": [
    "print(df.shape)\n",
    "print(df.columns)\n",
    "df.head()"
   ]
  },
  {
   "cell_type": "code",
   "execution_count": 8,
   "metadata": {},
   "outputs": [
    {
     "data": {
      "text/plain": [
       "'{\"urls\":{\"web\":{\"discover\":\"http://www.kickstarter.com/discover/categories/crafts/woodworking\"}},\"color\":16744876,\"parent_id\":26,\"name\":\"Woodworking\",\"id\":356,\"position\":14,\"slug\":\"crafts/woodworking\"}'"
      ]
     },
     "execution_count": 8,
     "metadata": {},
     "output_type": "execute_result"
    }
   ],
   "source": [
    "df['category'].iloc[30000]"
   ]
  },
  {
   "cell_type": "code",
   "execution_count": 9,
   "metadata": {
    "collapsed": true
   },
   "outputs": [],
   "source": [
    "df = df[(df['state'] == 'successful') | (df['state'] == 'failed')]"
   ]
  },
  {
   "cell_type": "code",
   "execution_count": 10,
   "metadata": {},
   "outputs": [
    {
     "data": {
      "text/plain": [
       "array(['art', 'comics', 'crafts', 'dance', 'design', 'fashion',\n",
       "       'film_and_video', 'food', 'games', 'journalism', 'music',\n",
       "       'photography', 'publishing', 'technology', 'theater'], dtype=object)"
      ]
     },
     "execution_count": 10,
     "metadata": {},
     "output_type": "execute_result"
    }
   ],
   "source": [
    "# import re\n",
    "\n",
    "df['category_main'] = [json.loads(x)['urls']['web']['discover'][:].split('/')[5] for x in df['category']]\n",
    "df['category_main'] = df['category_main'].replace({'film%20&%20video': 'film_and_video'})\n",
    "# rx = re.compile()\n",
    "df['category_main'].unique()"
   ]
  },
  {
   "cell_type": "code",
   "execution_count": 11,
   "metadata": {
    "collapsed": true
   },
   "outputs": [],
   "source": [
    "df['category_name'] = [json.loads(x)['name'] for x in df['category']]\n",
    "df['creator_name'] = [json.loads(x)['name'] for x in df['creator']]\n",
    "df['blurb_len2'] = df['blurb'].str.lower().str.split()\n",
    "df['blurb_length'] = df['blurb_len2'].apply(count_list_items)"
   ]
  },
  {
   "cell_type": "code",
   "execution_count": null,
   "metadata": {
    "collapsed": true
   },
   "outputs": [],
   "source": [
    "\n",
    "\n"
   ]
  },
  {
   "cell_type": "code",
   "execution_count": null,
   "metadata": {
    "collapsed": true
   },
   "outputs": [],
   "source": []
  },
  {
   "cell_type": "code",
   "execution_count": 12,
   "metadata": {},
   "outputs": [
    {
     "data": {
      "text/plain": [
       "(178076, 94)"
      ]
     },
     "execution_count": 12,
     "metadata": {},
     "output_type": "execute_result"
    }
   ],
   "source": [
    "df['created_at'] = pd.to_datetime(df['created_at'],unit='s')\n",
    "df['launched_at'] = pd.to_datetime(df['launched_at'],unit='s')\n",
    "df['deadline'] = pd.to_datetime(df['deadline'],unit='s')\n",
    "\n",
    "df['created'] = pd.to_datetime(df['created_at'])\n",
    "df['launched'] = pd.to_datetime(df['launched_at'])\n",
    "df['deadline'] = pd.to_datetime(df['deadline'])\n",
    "\n",
    "df['created'] = df.created.apply(lambda x: x.date())\n",
    "df['launched'] = df.launched.apply(lambda x: x.date())\n",
    "df['deadline'] = df.deadline.apply(lambda x: x.date())\n",
    "\n",
    "df.spotlight = df.spotlight.astype(int)\n",
    "df.staff_pick = df.staff_pick.astype(int)\n",
    "\n",
    "\n",
    "# print(df['launched'].iloc[0])\n",
    "\n",
    "# df['created'] = df['created'].apply(lambda x: x.strftime('%Y-%m-%d'))\n",
    "# df['launched'] = df['launched'].apply(lambda x: x.strftime('%Y-%m-%d'))\n",
    "# df['deadline'] = df['deadline'].apply(lambda x: x.strftime('%Y-%m-%d'))\n",
    "\n",
    "df['campaign_length'] = (df['deadline'] - df['launched']).apply(to_str)\n",
    "\n",
    "df['pct_goal_achieved'] = round((df['usd_pledged'] / df['goal']),1)\n",
    "df.shape"
   ]
  },
  {
   "cell_type": "code",
   "execution_count": 13,
   "metadata": {},
   "outputs": [
    {
     "data": {
      "text/plain": [
       "(178076, 94)"
      ]
     },
     "execution_count": 13,
     "metadata": {},
     "output_type": "execute_result"
    }
   ],
   "source": [
    "\n",
    "df = df.sort_values(['deadline'], ascending=[False])\n",
    "df.shape"
   ]
  },
  {
   "cell_type": "code",
   "execution_count": 14,
   "metadata": {},
   "outputs": [
    {
     "name": "stdout",
     "output_type": "stream",
     "text": [
      "(178075, 19)\n",
      "Index(['id', 'name', 'state', 'category_main', 'category_name',\n",
      "       'backers_count', 'pct_goal_achieved', 'usd_pledged', 'goal', 'country',\n",
      "       'currency', 'campaign_length', 'deadline', 'launched', 'created',\n",
      "       'spotlight', 'staff_pick', 'creator_name', 'blurb_length'],\n",
      "      dtype='object')\n"
     ]
    },
    {
     "data": {
      "text/html": [
       "<div>\n",
       "<style scoped>\n",
       "    .dataframe tbody tr th:only-of-type {\n",
       "        vertical-align: middle;\n",
       "    }\n",
       "\n",
       "    .dataframe tbody tr th {\n",
       "        vertical-align: top;\n",
       "    }\n",
       "\n",
       "    .dataframe thead th {\n",
       "        text-align: right;\n",
       "    }\n",
       "</style>\n",
       "<table border=\"1\" class=\"dataframe\">\n",
       "  <thead>\n",
       "    <tr style=\"text-align: right;\">\n",
       "      <th></th>\n",
       "      <th>id</th>\n",
       "      <th>name</th>\n",
       "      <th>state</th>\n",
       "      <th>category_main</th>\n",
       "      <th>category_name</th>\n",
       "      <th>backers_count</th>\n",
       "      <th>pct_goal_achieved</th>\n",
       "      <th>usd_pledged</th>\n",
       "      <th>goal</th>\n",
       "      <th>country</th>\n",
       "      <th>currency</th>\n",
       "      <th>campaign_length</th>\n",
       "      <th>deadline</th>\n",
       "      <th>launched</th>\n",
       "      <th>created</th>\n",
       "      <th>spotlight</th>\n",
       "      <th>staff_pick</th>\n",
       "      <th>creator_name</th>\n",
       "      <th>blurb_length</th>\n",
       "    </tr>\n",
       "  </thead>\n",
       "  <tbody>\n",
       "    <tr>\n",
       "      <th>50474</th>\n",
       "      <td>1725323227</td>\n",
       "      <td>Inspire young girls</td>\n",
       "      <td>failed</td>\n",
       "      <td>fashion</td>\n",
       "      <td>Childrenswear</td>\n",
       "      <td>1</td>\n",
       "      <td>0.0</td>\n",
       "      <td>30.0</td>\n",
       "      <td>1300.0</td>\n",
       "      <td>US</td>\n",
       "      <td>USD</td>\n",
       "      <td>30</td>\n",
       "      <td>2018-01-12</td>\n",
       "      <td>2017-12-13</td>\n",
       "      <td>2017-12-08</td>\n",
       "      <td>0</td>\n",
       "      <td>0</td>\n",
       "      <td>Rayna</td>\n",
       "      <td>6</td>\n",
       "    </tr>\n",
       "    <tr>\n",
       "      <th>96852</th>\n",
       "      <td>2065169465</td>\n",
       "      <td>Cotton-Top Pastries</td>\n",
       "      <td>successful</td>\n",
       "      <td>food</td>\n",
       "      <td>Small Batch</td>\n",
       "      <td>99</td>\n",
       "      <td>1.3</td>\n",
       "      <td>9858.0</td>\n",
       "      <td>7500.0</td>\n",
       "      <td>US</td>\n",
       "      <td>USD</td>\n",
       "      <td>30</td>\n",
       "      <td>2018-01-12</td>\n",
       "      <td>2017-12-13</td>\n",
       "      <td>2017-12-12</td>\n",
       "      <td>1</td>\n",
       "      <td>1</td>\n",
       "      <td>Holly Weist</td>\n",
       "      <td>5</td>\n",
       "    </tr>\n",
       "    <tr>\n",
       "      <th>82814</th>\n",
       "      <td>1516902916</td>\n",
       "      <td>Dreaming Creek Brewery</td>\n",
       "      <td>failed</td>\n",
       "      <td>food</td>\n",
       "      <td>Drinks</td>\n",
       "      <td>64</td>\n",
       "      <td>0.3</td>\n",
       "      <td>6139.0</td>\n",
       "      <td>20000.0</td>\n",
       "      <td>US</td>\n",
       "      <td>USD</td>\n",
       "      <td>30</td>\n",
       "      <td>2018-01-12</td>\n",
       "      <td>2017-12-13</td>\n",
       "      <td>2017-08-11</td>\n",
       "      <td>0</td>\n",
       "      <td>0</td>\n",
       "      <td>Mike Bradley</td>\n",
       "      <td>19</td>\n",
       "    </tr>\n",
       "    <tr>\n",
       "      <th>97879</th>\n",
       "      <td>1396766240</td>\n",
       "      <td>Ripple Playing Cards - Printed by USPCC</td>\n",
       "      <td>failed</td>\n",
       "      <td>games</td>\n",
       "      <td>Playing Cards</td>\n",
       "      <td>131</td>\n",
       "      <td>0.3</td>\n",
       "      <td>3387.0</td>\n",
       "      <td>9999.0</td>\n",
       "      <td>US</td>\n",
       "      <td>USD</td>\n",
       "      <td>38</td>\n",
       "      <td>2018-01-12</td>\n",
       "      <td>2017-12-05</td>\n",
       "      <td>2017-10-08</td>\n",
       "      <td>0</td>\n",
       "      <td>0</td>\n",
       "      <td>B.Y. Eidelman</td>\n",
       "      <td>16</td>\n",
       "    </tr>\n",
       "    <tr>\n",
       "      <th>49869</th>\n",
       "      <td>1361347175</td>\n",
       "      <td>New Boutique Funding for the San Antonio Stock...</td>\n",
       "      <td>failed</td>\n",
       "      <td>fashion</td>\n",
       "      <td>Ready-to-wear</td>\n",
       "      <td>0</td>\n",
       "      <td>0.0</td>\n",
       "      <td>0.0</td>\n",
       "      <td>5000.0</td>\n",
       "      <td>US</td>\n",
       "      <td>USD</td>\n",
       "      <td>15</td>\n",
       "      <td>2018-01-12</td>\n",
       "      <td>2017-12-28</td>\n",
       "      <td>2017-12-22</td>\n",
       "      <td>0</td>\n",
       "      <td>0</td>\n",
       "      <td>Darrian Fosty</td>\n",
       "      <td>26</td>\n",
       "    </tr>\n",
       "  </tbody>\n",
       "</table>\n",
       "</div>"
      ],
      "text/plain": [
       "               id                                               name  \\\n",
       "50474  1725323227                                Inspire young girls   \n",
       "96852  2065169465                                Cotton-Top Pastries   \n",
       "82814  1516902916                             Dreaming Creek Brewery   \n",
       "97879  1396766240            Ripple Playing Cards - Printed by USPCC   \n",
       "49869  1361347175  New Boutique Funding for the San Antonio Stock...   \n",
       "\n",
       "            state category_main  category_name  backers_count  \\\n",
       "50474      failed       fashion  Childrenswear              1   \n",
       "96852  successful          food    Small Batch             99   \n",
       "82814      failed          food         Drinks             64   \n",
       "97879      failed         games  Playing Cards            131   \n",
       "49869      failed       fashion  Ready-to-wear              0   \n",
       "\n",
       "       pct_goal_achieved  usd_pledged     goal country currency  \\\n",
       "50474                0.0         30.0   1300.0      US      USD   \n",
       "96852                1.3       9858.0   7500.0      US      USD   \n",
       "82814                0.3       6139.0  20000.0      US      USD   \n",
       "97879                0.3       3387.0   9999.0      US      USD   \n",
       "49869                0.0          0.0   5000.0      US      USD   \n",
       "\n",
       "      campaign_length    deadline    launched     created  spotlight  \\\n",
       "50474              30  2018-01-12  2017-12-13  2017-12-08          0   \n",
       "96852              30  2018-01-12  2017-12-13  2017-12-12          1   \n",
       "82814              30  2018-01-12  2017-12-13  2017-08-11          0   \n",
       "97879              38  2018-01-12  2017-12-05  2017-10-08          0   \n",
       "49869              15  2018-01-12  2017-12-28  2017-12-22          0   \n",
       "\n",
       "       staff_pick   creator_name  blurb_length  \n",
       "50474           0          Rayna             6  \n",
       "96852           1    Holly Weist             5  \n",
       "82814           0   Mike Bradley            19  \n",
       "97879           0  B.Y. Eidelman            16  \n",
       "49869           0  Darrian Fosty            26  "
      ]
     },
     "execution_count": 14,
     "metadata": {},
     "output_type": "execute_result"
    }
   ],
   "source": [
    "df = df[['id','name','state','category_main','category_name','backers_count','pct_goal_achieved','usd_pledged','goal','country','currency','campaign_length',\n",
    "         'deadline','launched','created','spotlight','staff_pick','creator_name','blurb_length']]\n",
    "df = df.dropna()\n",
    "print(df.shape)\n",
    "print(df.columns)\n",
    "df.head()"
   ]
  },
  {
   "cell_type": "code",
   "execution_count": 15,
   "metadata": {},
   "outputs": [
    {
     "data": {
      "text/html": [
       "<div>\n",
       "<style scoped>\n",
       "    .dataframe tbody tr th:only-of-type {\n",
       "        vertical-align: middle;\n",
       "    }\n",
       "\n",
       "    .dataframe tbody tr th {\n",
       "        vertical-align: top;\n",
       "    }\n",
       "\n",
       "    .dataframe thead th {\n",
       "        text-align: right;\n",
       "    }\n",
       "</style>\n",
       "<table border=\"1\" class=\"dataframe\">\n",
       "  <thead>\n",
       "    <tr style=\"text-align: right;\">\n",
       "      <th></th>\n",
       "      <th>id</th>\n",
       "      <th>name</th>\n",
       "      <th>state</th>\n",
       "      <th>category_main</th>\n",
       "      <th>category_name</th>\n",
       "      <th>backers_count</th>\n",
       "      <th>pct_goal_achieved</th>\n",
       "      <th>usd_pledged</th>\n",
       "      <th>goal</th>\n",
       "      <th>country</th>\n",
       "      <th>currency</th>\n",
       "      <th>campaign_length</th>\n",
       "      <th>deadline</th>\n",
       "      <th>launched</th>\n",
       "      <th>created</th>\n",
       "      <th>spotlight</th>\n",
       "      <th>staff_pick</th>\n",
       "      <th>creator_name</th>\n",
       "      <th>blurb_length</th>\n",
       "    </tr>\n",
       "  </thead>\n",
       "  <tbody>\n",
       "    <tr>\n",
       "      <th>159484</th>\n",
       "      <td>266044220</td>\n",
       "      <td>Help me write my second novel.</td>\n",
       "      <td>successful</td>\n",
       "      <td>publishing</td>\n",
       "      <td>Fiction</td>\n",
       "      <td>18</td>\n",
       "      <td>1.1</td>\n",
       "      <td>563.0</td>\n",
       "      <td>500.0</td>\n",
       "      <td>US</td>\n",
       "      <td>USD</td>\n",
       "      <td>30</td>\n",
       "      <td>2009-05-29</td>\n",
       "      <td>2009-04-29</td>\n",
       "      <td>2009-04-29</td>\n",
       "      <td>1</td>\n",
       "      <td>1</td>\n",
       "      <td>Brendan Mackie</td>\n",
       "      <td>24</td>\n",
       "    </tr>\n",
       "    <tr>\n",
       "      <th>2373</th>\n",
       "      <td>199916122</td>\n",
       "      <td>Mr. Squiggles</td>\n",
       "      <td>failed</td>\n",
       "      <td>art</td>\n",
       "      <td>Illustration</td>\n",
       "      <td>0</td>\n",
       "      <td>0.0</td>\n",
       "      <td>0.0</td>\n",
       "      <td>30.0</td>\n",
       "      <td>US</td>\n",
       "      <td>USD</td>\n",
       "      <td>10</td>\n",
       "      <td>2009-05-22</td>\n",
       "      <td>2009-05-12</td>\n",
       "      <td>2009-05-12</td>\n",
       "      <td>0</td>\n",
       "      <td>0</td>\n",
       "      <td>C.K. Sample</td>\n",
       "      <td>22</td>\n",
       "    </tr>\n",
       "    <tr>\n",
       "      <th>109400</th>\n",
       "      <td>2089078683</td>\n",
       "      <td>New York Makes a Book!!</td>\n",
       "      <td>successful</td>\n",
       "      <td>journalism</td>\n",
       "      <td>Journalism</td>\n",
       "      <td>110</td>\n",
       "      <td>1.1</td>\n",
       "      <td>3329.0</td>\n",
       "      <td>3000.0</td>\n",
       "      <td>US</td>\n",
       "      <td>USD</td>\n",
       "      <td>18</td>\n",
       "      <td>2009-05-16</td>\n",
       "      <td>2009-04-28</td>\n",
       "      <td>2009-04-27</td>\n",
       "      <td>1</td>\n",
       "      <td>1</td>\n",
       "      <td>We Make a Book</td>\n",
       "      <td>22</td>\n",
       "    </tr>\n",
       "    <tr>\n",
       "      <th>6227</th>\n",
       "      <td>1703704063</td>\n",
       "      <td>drawing for dollars</td>\n",
       "      <td>successful</td>\n",
       "      <td>art</td>\n",
       "      <td>Illustration</td>\n",
       "      <td>3</td>\n",
       "      <td>1.8</td>\n",
       "      <td>35.0</td>\n",
       "      <td>20.0</td>\n",
       "      <td>US</td>\n",
       "      <td>USD</td>\n",
       "      <td>9</td>\n",
       "      <td>2009-05-03</td>\n",
       "      <td>2009-04-24</td>\n",
       "      <td>2009-04-24</td>\n",
       "      <td>1</td>\n",
       "      <td>1</td>\n",
       "      <td>darkpony</td>\n",
       "      <td>26</td>\n",
       "    </tr>\n",
       "    <tr>\n",
       "      <th>980</th>\n",
       "      <td>1703704063</td>\n",
       "      <td>drawing for dollars</td>\n",
       "      <td>successful</td>\n",
       "      <td>art</td>\n",
       "      <td>Illustration</td>\n",
       "      <td>3</td>\n",
       "      <td>1.8</td>\n",
       "      <td>35.0</td>\n",
       "      <td>20.0</td>\n",
       "      <td>US</td>\n",
       "      <td>USD</td>\n",
       "      <td>9</td>\n",
       "      <td>2009-05-03</td>\n",
       "      <td>2009-04-24</td>\n",
       "      <td>2009-04-24</td>\n",
       "      <td>1</td>\n",
       "      <td>1</td>\n",
       "      <td>darkpony</td>\n",
       "      <td>26</td>\n",
       "    </tr>\n",
       "  </tbody>\n",
       "</table>\n",
       "</div>"
      ],
      "text/plain": [
       "                id                            name       state category_main  \\\n",
       "159484   266044220  Help me write my second novel.  successful    publishing   \n",
       "2373     199916122                   Mr. Squiggles      failed           art   \n",
       "109400  2089078683         New York Makes a Book!!  successful    journalism   \n",
       "6227    1703704063             drawing for dollars  successful           art   \n",
       "980     1703704063             drawing for dollars  successful           art   \n",
       "\n",
       "       category_name  backers_count  pct_goal_achieved  usd_pledged    goal  \\\n",
       "159484       Fiction             18                1.1        563.0   500.0   \n",
       "2373    Illustration              0                0.0          0.0    30.0   \n",
       "109400    Journalism            110                1.1       3329.0  3000.0   \n",
       "6227    Illustration              3                1.8         35.0    20.0   \n",
       "980     Illustration              3                1.8         35.0    20.0   \n",
       "\n",
       "       country currency campaign_length    deadline    launched     created  \\\n",
       "159484      US      USD              30  2009-05-29  2009-04-29  2009-04-29   \n",
       "2373        US      USD              10  2009-05-22  2009-05-12  2009-05-12   \n",
       "109400      US      USD              18  2009-05-16  2009-04-28  2009-04-27   \n",
       "6227        US      USD               9  2009-05-03  2009-04-24  2009-04-24   \n",
       "980         US      USD               9  2009-05-03  2009-04-24  2009-04-24   \n",
       "\n",
       "        spotlight  staff_pick    creator_name  blurb_length  \n",
       "159484          1           1  Brendan Mackie            24  \n",
       "2373            0           0     C.K. Sample            22  \n",
       "109400          1           1  We Make a Book            22  \n",
       "6227            1           1        darkpony            26  \n",
       "980             1           1        darkpony            26  "
      ]
     },
     "execution_count": 15,
     "metadata": {},
     "output_type": "execute_result"
    }
   ],
   "source": [
    "df.tail()"
   ]
  },
  {
   "cell_type": "code",
   "execution_count": 16,
   "metadata": {},
   "outputs": [
    {
     "data": {
      "text/plain": [
       "25660"
      ]
     },
     "execution_count": 16,
     "metadata": {},
     "output_type": "execute_result"
    }
   ],
   "source": [
    "df.staff_pick.sum()"
   ]
  },
  {
   "cell_type": "code",
   "execution_count": 17,
   "metadata": {
    "collapsed": true
   },
   "outputs": [],
   "source": [
    "# df.state.sum()"
   ]
  },
  {
   "cell_type": "code",
   "execution_count": 18,
   "metadata": {},
   "outputs": [
    {
     "data": {
      "text/plain": [
       "(178075, 19)"
      ]
     },
     "execution_count": 18,
     "metadata": {},
     "output_type": "execute_result"
    }
   ],
   "source": [
    "df.shape"
   ]
  },
  {
   "cell_type": "code",
   "execution_count": 19,
   "metadata": {},
   "outputs": [
    {
     "data": {
      "text/plain": [
       "(163426, 19)"
      ]
     },
     "execution_count": 19,
     "metadata": {},
     "output_type": "execute_result"
    }
   ],
   "source": [
    "df = df.drop_duplicates()\n",
    "df.shape"
   ]
  },
  {
   "cell_type": "code",
   "execution_count": 20,
   "metadata": {},
   "outputs": [
    {
     "data": {
      "text/plain": [
       "Index(['id', 'name', 'state', 'category_main', 'category_name',\n",
       "       'backers_count', 'pct_goal_achieved', 'usd_pledged', 'goal', 'country',\n",
       "       'currency', 'campaign_length', 'deadline', 'launched', 'created',\n",
       "       'spotlight', 'staff_pick', 'creator_name', 'blurb_length'],\n",
       "      dtype='object')"
      ]
     },
     "execution_count": 20,
     "metadata": {},
     "output_type": "execute_result"
    }
   ],
   "source": [
    "df.columns"
   ]
  },
  {
   "cell_type": "code",
   "execution_count": 21,
   "metadata": {
    "collapsed": true
   },
   "outputs": [],
   "source": [
    "num_cols = ['backers_count',\n",
    "            'pct_goal_achieved',\n",
    "            'usd_pledged',\n",
    "            'goal',\n",
    "            'campaign_length',\n",
    "            'blurb_length']\n",
    "df[num_cols] = df[num_cols].apply(pd.to_numeric, errors='coerce')"
   ]
  },
  {
   "cell_type": "code",
   "execution_count": 30,
   "metadata": {},
   "outputs": [
    {
     "data": {
      "text/html": [
       "<div>\n",
       "<style scoped>\n",
       "    .dataframe tbody tr th:only-of-type {\n",
       "        vertical-align: middle;\n",
       "    }\n",
       "\n",
       "    .dataframe tbody tr th {\n",
       "        vertical-align: top;\n",
       "    }\n",
       "\n",
       "    .dataframe thead th {\n",
       "        text-align: right;\n",
       "    }\n",
       "</style>\n",
       "<table border=\"1\" class=\"dataframe\">\n",
       "  <thead>\n",
       "    <tr style=\"text-align: right;\">\n",
       "      <th></th>\n",
       "      <th>id</th>\n",
       "      <th>name</th>\n",
       "      <th>state</th>\n",
       "      <th>category_main</th>\n",
       "      <th>category_name</th>\n",
       "      <th>backers_count</th>\n",
       "      <th>pct_goal_achieved</th>\n",
       "      <th>usd_pledged</th>\n",
       "      <th>goal</th>\n",
       "      <th>country</th>\n",
       "      <th>currency</th>\n",
       "      <th>campaign_length</th>\n",
       "      <th>deadline</th>\n",
       "      <th>launched</th>\n",
       "      <th>created</th>\n",
       "      <th>spotlight</th>\n",
       "      <th>staff_pick</th>\n",
       "      <th>creator_name</th>\n",
       "      <th>blurb_length</th>\n",
       "    </tr>\n",
       "  </thead>\n",
       "  <tbody>\n",
       "    <tr>\n",
       "      <th>50474</th>\n",
       "      <td>1725323227</td>\n",
       "      <td>Inspire young girls</td>\n",
       "      <td>failed</td>\n",
       "      <td>fashion</td>\n",
       "      <td>Childrenswear</td>\n",
       "      <td>1</td>\n",
       "      <td>0.0</td>\n",
       "      <td>30.0</td>\n",
       "      <td>1300.0</td>\n",
       "      <td>US</td>\n",
       "      <td>USD</td>\n",
       "      <td>30</td>\n",
       "      <td>2018-01-12</td>\n",
       "      <td>2017-12-13</td>\n",
       "      <td>2017-12-08</td>\n",
       "      <td>0</td>\n",
       "      <td>0</td>\n",
       "      <td>Rayna</td>\n",
       "      <td>6</td>\n",
       "    </tr>\n",
       "    <tr>\n",
       "      <th>96852</th>\n",
       "      <td>2065169465</td>\n",
       "      <td>Cotton-Top Pastries</td>\n",
       "      <td>successful</td>\n",
       "      <td>food</td>\n",
       "      <td>Small Batch</td>\n",
       "      <td>99</td>\n",
       "      <td>1.3</td>\n",
       "      <td>9858.0</td>\n",
       "      <td>7500.0</td>\n",
       "      <td>US</td>\n",
       "      <td>USD</td>\n",
       "      <td>30</td>\n",
       "      <td>2018-01-12</td>\n",
       "      <td>2017-12-13</td>\n",
       "      <td>2017-12-12</td>\n",
       "      <td>1</td>\n",
       "      <td>1</td>\n",
       "      <td>Holly Weist</td>\n",
       "      <td>5</td>\n",
       "    </tr>\n",
       "    <tr>\n",
       "      <th>82814</th>\n",
       "      <td>1516902916</td>\n",
       "      <td>Dreaming Creek Brewery</td>\n",
       "      <td>failed</td>\n",
       "      <td>food</td>\n",
       "      <td>Drinks</td>\n",
       "      <td>64</td>\n",
       "      <td>0.3</td>\n",
       "      <td>6139.0</td>\n",
       "      <td>20000.0</td>\n",
       "      <td>US</td>\n",
       "      <td>USD</td>\n",
       "      <td>30</td>\n",
       "      <td>2018-01-12</td>\n",
       "      <td>2017-12-13</td>\n",
       "      <td>2017-08-11</td>\n",
       "      <td>0</td>\n",
       "      <td>0</td>\n",
       "      <td>Mike Bradley</td>\n",
       "      <td>19</td>\n",
       "    </tr>\n",
       "    <tr>\n",
       "      <th>97879</th>\n",
       "      <td>1396766240</td>\n",
       "      <td>Ripple Playing Cards - Printed by USPCC</td>\n",
       "      <td>failed</td>\n",
       "      <td>games</td>\n",
       "      <td>Playing Cards</td>\n",
       "      <td>131</td>\n",
       "      <td>0.3</td>\n",
       "      <td>3387.0</td>\n",
       "      <td>9999.0</td>\n",
       "      <td>US</td>\n",
       "      <td>USD</td>\n",
       "      <td>38</td>\n",
       "      <td>2018-01-12</td>\n",
       "      <td>2017-12-05</td>\n",
       "      <td>2017-10-08</td>\n",
       "      <td>0</td>\n",
       "      <td>0</td>\n",
       "      <td>B.Y. Eidelman</td>\n",
       "      <td>16</td>\n",
       "    </tr>\n",
       "    <tr>\n",
       "      <th>49869</th>\n",
       "      <td>1361347175</td>\n",
       "      <td>New Boutique Funding for the San Antonio Stock...</td>\n",
       "      <td>failed</td>\n",
       "      <td>fashion</td>\n",
       "      <td>Ready-to-wear</td>\n",
       "      <td>0</td>\n",
       "      <td>0.0</td>\n",
       "      <td>0.0</td>\n",
       "      <td>5000.0</td>\n",
       "      <td>US</td>\n",
       "      <td>USD</td>\n",
       "      <td>15</td>\n",
       "      <td>2018-01-12</td>\n",
       "      <td>2017-12-28</td>\n",
       "      <td>2017-12-22</td>\n",
       "      <td>0</td>\n",
       "      <td>0</td>\n",
       "      <td>Darrian Fosty</td>\n",
       "      <td>26</td>\n",
       "    </tr>\n",
       "  </tbody>\n",
       "</table>\n",
       "</div>"
      ],
      "text/plain": [
       "               id                                               name  \\\n",
       "50474  1725323227                                Inspire young girls   \n",
       "96852  2065169465                                Cotton-Top Pastries   \n",
       "82814  1516902916                             Dreaming Creek Brewery   \n",
       "97879  1396766240            Ripple Playing Cards - Printed by USPCC   \n",
       "49869  1361347175  New Boutique Funding for the San Antonio Stock...   \n",
       "\n",
       "            state category_main  category_name  backers_count  \\\n",
       "50474      failed       fashion  Childrenswear              1   \n",
       "96852  successful          food    Small Batch             99   \n",
       "82814      failed          food         Drinks             64   \n",
       "97879      failed         games  Playing Cards            131   \n",
       "49869      failed       fashion  Ready-to-wear              0   \n",
       "\n",
       "       pct_goal_achieved  usd_pledged     goal country currency  \\\n",
       "50474                0.0         30.0   1300.0      US      USD   \n",
       "96852                1.3       9858.0   7500.0      US      USD   \n",
       "82814                0.3       6139.0  20000.0      US      USD   \n",
       "97879                0.3       3387.0   9999.0      US      USD   \n",
       "49869                0.0          0.0   5000.0      US      USD   \n",
       "\n",
       "       campaign_length    deadline    launched     created  spotlight  \\\n",
       "50474               30  2018-01-12  2017-12-13  2017-12-08          0   \n",
       "96852               30  2018-01-12  2017-12-13  2017-12-12          1   \n",
       "82814               30  2018-01-12  2017-12-13  2017-08-11          0   \n",
       "97879               38  2018-01-12  2017-12-05  2017-10-08          0   \n",
       "49869               15  2018-01-12  2017-12-28  2017-12-22          0   \n",
       "\n",
       "       staff_pick   creator_name  blurb_length  \n",
       "50474           0          Rayna             6  \n",
       "96852           1    Holly Weist             5  \n",
       "82814           0   Mike Bradley            19  \n",
       "97879           0  B.Y. Eidelman            16  \n",
       "49869           0  Darrian Fosty            26  "
      ]
     },
     "execution_count": 30,
     "metadata": {},
     "output_type": "execute_result"
    }
   ],
   "source": [
    "df.head()"
   ]
  },
  {
   "cell_type": "code",
   "execution_count": 31,
   "metadata": {},
   "outputs": [],
   "source": [
    "df.to_pickle('data/kickstarter_data_ds2.pkl')\n",
    "try:\n",
    "    df.to_sql(\"kickstarter_data_ds2\", engine, chunksize=20000, if_exists='replace')\n",
    "except Exception as e:\n",
    "    print(e)\n",
    "    pass\n",
    "\n",
    "# Temporary fix:\n",
    "\n",
    "# df.to_csv('data/kickstarter_data.csv')"
   ]
  },
  {
   "cell_type": "markdown",
   "metadata": {},
   "source": [
    "## State of Success [this should now be covered in EDA]"
   ]
  },
  {
   "cell_type": "code",
   "execution_count": 32,
   "metadata": {
    "collapsed": true
   },
   "outputs": [],
   "source": [
    "# df_state = df.groupby([\"state\"]).count().sort_values(['name'], ascending=[False])\n",
    "# df_state = pd.DataFrame(df_state, columns={'name'})\n",
    "# print(df_state.shape)\n",
    "# df_state"
   ]
  },
  {
   "cell_type": "code",
   "execution_count": 33,
   "metadata": {
    "collapsed": true
   },
   "outputs": [],
   "source": [
    "# df_state = df.groupby([\"state\"]).sum().sort_values(['usd pledged'], ascending=[False])\n",
    "# df_state = pd.DataFrame(df_state, columns={'usd pledged', 'usd_pledged_real','usd_goal_real'})\n",
    "# print(df_state.shape)\n",
    "# df_state"
   ]
  },
  {
   "cell_type": "code",
   "execution_count": null,
   "metadata": {
    "collapsed": true
   },
   "outputs": [],
   "source": []
  },
  {
   "cell_type": "code",
   "execution_count": 34,
   "metadata": {
    "collapsed": true
   },
   "outputs": [],
   "source": [
    "# df_country = df.groupby([\"country\"]).count().sort_values(['name'], ascending=[False])\n",
    "# df_country = pd.DataFrame(df_country, columns={'name'})\n",
    "# print(df_country.shape)\n",
    "# df_country"
   ]
  },
  {
   "cell_type": "code",
   "execution_count": 35,
   "metadata": {
    "collapsed": true
   },
   "outputs": [],
   "source": [
    "# df_country = df.groupby([\"country\"]).sum().sort_values(['usd pledged'], ascending=[False])\n",
    "# df_country = pd.DataFrame(df_country, columns={'usd pledged', 'usd_pledged_real','usd_goal_real'})\n",
    "# print(df_country.shape)\n",
    "# df_country"
   ]
  },
  {
   "cell_type": "code",
   "execution_count": 36,
   "metadata": {
    "collapsed": true
   },
   "outputs": [],
   "source": [
    "# df_currency = df.groupby([\"currency\"]).count().sort_values(['name'], ascending=[False])\n",
    "# df_currency = pd.DataFrame(df_currency, columns={'name'})\n",
    "# print(df_currency.shape)\n",
    "# df_currency"
   ]
  },
  {
   "cell_type": "code",
   "execution_count": 37,
   "metadata": {
    "collapsed": true
   },
   "outputs": [],
   "source": [
    "# df_currency = df.groupby([\"currency\"]).sum().sort_values(['usd pledged'], ascending=[False])\n",
    "# df_currency = pd.DataFrame(df_currency, columns={'usd pledged', 'usd_pledged_real','usd_goal_real'})\n",
    "# print(df_currency.shape)\n",
    "# df_currency"
   ]
  },
  {
   "cell_type": "code",
   "execution_count": 38,
   "metadata": {
    "collapsed": true
   },
   "outputs": [],
   "source": [
    "# df_main_category = df.groupby([\"main_category\"]).count().sort_values(['name'], ascending=[False])\n",
    "# df_main_category = pd.DataFrame(df_main_category, columns={'name'})\n",
    "# print(df_main_category.shape)\n",
    "# df_main_category"
   ]
  },
  {
   "cell_type": "code",
   "execution_count": 39,
   "metadata": {
    "collapsed": true
   },
   "outputs": [],
   "source": [
    "# df_main_category = df.groupby([\"main_category\"]).sum().sort_values(['usd pledged'], ascending=[False])\n",
    "# df_main_category = pd.DataFrame(df_main_category, columns={'usd pledged', 'usd_pledged_real','usd_goal_real'})\n",
    "# print(df_main_category.shape)\n",
    "# df_main_category"
   ]
  },
  {
   "cell_type": "code",
   "execution_count": 40,
   "metadata": {
    "collapsed": true
   },
   "outputs": [],
   "source": [
    "# df_category = df.groupby([\"category\"]).count().sort_values(['name'], ascending=[False])\n",
    "# print(df_category.shape)\n",
    "# df_category"
   ]
  },
  {
   "cell_type": "code",
   "execution_count": 41,
   "metadata": {
    "collapsed": true
   },
   "outputs": [],
   "source": [
    "# df_category = df.groupby([\"category\"]).sum().sort_values(['usd pledged'], ascending=[False])\n",
    "# df_category = pd.DataFrame(df_category, columns={'usd pledged', 'usd_pledged_real','usd_goal_real'})\n",
    "# print(df_category.shape)\n",
    "# df_category"
   ]
  },
  {
   "cell_type": "code",
   "execution_count": 42,
   "metadata": {
    "collapsed": true
   },
   "outputs": [],
   "source": [
    "# df2 = pd.read_csv('data/Kickstarter_2018-01-12T10_20_09_196Z/Kickstarter048.csv')\n",
    "# df2.head()"
   ]
  },
  {
   "cell_type": "code",
   "execution_count": null,
   "metadata": {
    "collapsed": true
   },
   "outputs": [],
   "source": []
  }
 ],
 "metadata": {
  "kernelspec": {
   "display_name": "Python 3",
   "language": "python",
   "name": "python3"
  },
  "language_info": {
   "codemirror_mode": {
    "name": "ipython",
    "version": 3
   },
   "file_extension": ".py",
   "mimetype": "text/x-python",
   "name": "python",
   "nbconvert_exporter": "python",
   "pygments_lexer": "ipython3",
   "version": "3.5.4"
  }
 },
 "nbformat": 4,
 "nbformat_minor": 2
}
