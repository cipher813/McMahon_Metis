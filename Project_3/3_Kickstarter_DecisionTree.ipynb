{
 "cells": [
  {
   "cell_type": "code",
   "execution_count": 1,
   "metadata": {},
   "outputs": [
    {
     "name": "stderr",
     "output_type": "stream",
     "text": [
      "/Users/brianmcmahon/anaconda3/envs/tensorflow1.4/lib/python3.5/site-packages/sklearn/cross_validation.py:41: DeprecationWarning: This module was deprecated in version 0.18 in favor of the model_selection module into which all the refactored classes and functions are moved. Also note that the interface of the new CV iterators are different from that of this module. This module will be removed in 0.20.\n",
      "  \"This module will be removed in 0.20.\", DeprecationWarning)\n"
     ]
    }
   ],
   "source": [
    "import pandas as pd\n",
    "import numpy as np\n",
    "import sqlalchemy\n",
    "from sqlalchemy import create_engine\n",
    "from flask_sqlalchemy import SQLAlchemy\n",
    "\n",
    "from sklearn.tree import DecisionTreeClassifier\n",
    "from sklearn.svm import LinearSVC\n",
    "from sklearn.svm import SVC\n",
    "from sklearn.ensemble import RandomForestClassifier\n",
    "from sklearn.linear_model import LogisticRegression\n",
    "from sklearn.cross_validation import train_test_split\n",
    "\n",
    "import matplotlib.pyplot as plt\n",
    "import matplotlib.cm as cm\n",
    "import warnings\n",
    "import os\n",
    "%matplotlib inline\n",
    "\n",
    "warnings.filterwarnings(\"ignore\") #, category=DeprecationWarning)"
   ]
  },
  {
   "cell_type": "code",
   "execution_count": 2,
   "metadata": {
    "collapsed": true
   },
   "outputs": [],
   "source": [
    "# env variable at tensorflow1.4 per https://conda.io/docs/user-guide/tasks/manage-environments.html#saving-environment-variables\n",
    "# and https://vsupalov.com/flask-sqlalchemy-postgres/\n",
    "\n",
    "def get_env_variable(name):\n",
    "    try:\n",
    "        return os.environ[name]\n",
    "    except KeyError:\n",
    "        message = \"Expected environment variable '{}' not set.\".format(name)\n",
    "        raise Exception(message)\n",
    "\n",
    "# the values of those depend on your setup\n",
    "POSTGRES_URL = get_env_variable(\"POSTGRES_URL\")\n",
    "POSTGRES_USER = get_env_variable(\"POSTGRES_USER\")\n",
    "POSTGRES_PW = get_env_variable(\"POSTGRES_PW\")\n",
    "POSTGRES_DB = get_env_variable(\"POSTGRES_DB\")"
   ]
  },
  {
   "cell_type": "code",
   "execution_count": 3,
   "metadata": {
    "collapsed": true
   },
   "outputs": [],
   "source": [
    "DB_URL = 'postgresql+psycopg2://{user}:{pw}@{url}/{db}'.format(user=POSTGRES_USER,pw=POSTGRES_PW,url=POSTGRES_URL,db=POSTGRES_DB)\n",
    "\n",
    "# app.config['SQLALCHEMY_DATABASE_URI'] = DB_URL\n",
    "# app.config['SQLALCHEMY_TRACK_MODIFICATIONS'] = False # silence the deprecation warning\n",
    "\n",
    "# db = SQLAlchemy(app)"
   ]
  },
  {
   "cell_type": "code",
   "execution_count": 4,
   "metadata": {
    "collapsed": true
   },
   "outputs": [],
   "source": [
    "engine_var = DB_URL\n",
    "engine = create_engine(engine_var)"
   ]
  },
  {
   "cell_type": "code",
   "execution_count": 5,
   "metadata": {
    "collapsed": true
   },
   "outputs": [],
   "source": [
    "# TODO Fix SQL input/output; temp fix:\n",
    "df = pd.read_pickle('data/kickstarter_data.pkl')"
   ]
  },
  {
   "cell_type": "code",
   "execution_count": 6,
   "metadata": {},
   "outputs": [
    {
     "name": "stdout",
     "output_type": "stream",
     "text": [
      "(19291, 20)\n"
     ]
    },
    {
     "data": {
      "text/html": [
       "<div>\n",
       "<style scoped>\n",
       "    .dataframe tbody tr th:only-of-type {\n",
       "        vertical-align: middle;\n",
       "    }\n",
       "\n",
       "    .dataframe tbody tr th {\n",
       "        vertical-align: top;\n",
       "    }\n",
       "\n",
       "    .dataframe thead th {\n",
       "        text-align: right;\n",
       "    }\n",
       "</style>\n",
       "<table border=\"1\" class=\"dataframe\">\n",
       "  <thead>\n",
       "    <tr style=\"text-align: right;\">\n",
       "      <th></th>\n",
       "      <th>name</th>\n",
       "      <th>category</th>\n",
       "      <th>main_category</th>\n",
       "      <th>currency</th>\n",
       "      <th>deadline</th>\n",
       "      <th>goal</th>\n",
       "      <th>launched</th>\n",
       "      <th>pledged</th>\n",
       "      <th>state</th>\n",
       "      <th>backers</th>\n",
       "      <th>country</th>\n",
       "      <th>usd pledged</th>\n",
       "      <th>usd_pledged_real</th>\n",
       "      <th>usd_goal_real</th>\n",
       "      <th>campaign_length</th>\n",
       "      <th>pct_goal_achieved</th>\n",
       "      <th>main_category_code</th>\n",
       "      <th>country_code</th>\n",
       "      <th>currency_code</th>\n",
       "      <th>state_code</th>\n",
       "    </tr>\n",
       "    <tr>\n",
       "      <th>ID</th>\n",
       "      <th></th>\n",
       "      <th></th>\n",
       "      <th></th>\n",
       "      <th></th>\n",
       "      <th></th>\n",
       "      <th></th>\n",
       "      <th></th>\n",
       "      <th></th>\n",
       "      <th></th>\n",
       "      <th></th>\n",
       "      <th></th>\n",
       "      <th></th>\n",
       "      <th></th>\n",
       "      <th></th>\n",
       "      <th></th>\n",
       "      <th></th>\n",
       "      <th></th>\n",
       "      <th></th>\n",
       "      <th></th>\n",
       "      <th></th>\n",
       "    </tr>\n",
       "  </thead>\n",
       "  <tbody>\n",
       "    <tr>\n",
       "      <th>1031685482</th>\n",
       "      <td>You Sparkle Inside: A Kids' Book + Commissions...</td>\n",
       "      <td>Children's Books</td>\n",
       "      <td>Publishing</td>\n",
       "      <td>USD</td>\n",
       "      <td>2018-01-02</td>\n",
       "      <td>2000.0</td>\n",
       "      <td>2017-12-06</td>\n",
       "      <td>6083.00</td>\n",
       "      <td>successful</td>\n",
       "      <td>133</td>\n",
       "      <td>US</td>\n",
       "      <td>1054.0</td>\n",
       "      <td>6083.00</td>\n",
       "      <td>2000.0</td>\n",
       "      <td>27 days</td>\n",
       "      <td>304.150000</td>\n",
       "      <td>12</td>\n",
       "      <td>21</td>\n",
       "      <td>13</td>\n",
       "      <td>1</td>\n",
       "    </tr>\n",
       "    <tr>\n",
       "      <th>1176736360</th>\n",
       "      <td>THE NEW BILLY WYLDER RECORD</td>\n",
       "      <td>Indie Rock</td>\n",
       "      <td>Music</td>\n",
       "      <td>USD</td>\n",
       "      <td>2018-01-02</td>\n",
       "      <td>10000.0</td>\n",
       "      <td>2017-11-30</td>\n",
       "      <td>11169.56</td>\n",
       "      <td>successful</td>\n",
       "      <td>177</td>\n",
       "      <td>US</td>\n",
       "      <td>650.0</td>\n",
       "      <td>11169.56</td>\n",
       "      <td>10000.0</td>\n",
       "      <td>33 days</td>\n",
       "      <td>111.695600</td>\n",
       "      <td>10</td>\n",
       "      <td>21</td>\n",
       "      <td>13</td>\n",
       "      <td>1</td>\n",
       "    </tr>\n",
       "    <tr>\n",
       "      <th>1894703097</th>\n",
       "      <td>Driftwood Holly ***The Venice Project***</td>\n",
       "      <td>Indie Rock</td>\n",
       "      <td>Music</td>\n",
       "      <td>EUR</td>\n",
       "      <td>2018-01-02</td>\n",
       "      <td>25000.0</td>\n",
       "      <td>2017-11-28</td>\n",
       "      <td>25417.20</td>\n",
       "      <td>successful</td>\n",
       "      <td>168</td>\n",
       "      <td>DE</td>\n",
       "      <td>0.0</td>\n",
       "      <td>30615.02</td>\n",
       "      <td>30112.5</td>\n",
       "      <td>35 days</td>\n",
       "      <td>101.668809</td>\n",
       "      <td>10</td>\n",
       "      <td>5</td>\n",
       "      <td>4</td>\n",
       "      <td>1</td>\n",
       "    </tr>\n",
       "    <tr>\n",
       "      <th>311863059</th>\n",
       "      <td>On a Limb's debut album</td>\n",
       "      <td>Jazz</td>\n",
       "      <td>Music</td>\n",
       "      <td>USD</td>\n",
       "      <td>2018-01-02</td>\n",
       "      <td>1000.0</td>\n",
       "      <td>2017-12-09</td>\n",
       "      <td>1743.00</td>\n",
       "      <td>successful</td>\n",
       "      <td>39</td>\n",
       "      <td>US</td>\n",
       "      <td>0.0</td>\n",
       "      <td>1743.00</td>\n",
       "      <td>1000.0</td>\n",
       "      <td>24 days</td>\n",
       "      <td>174.300000</td>\n",
       "      <td>10</td>\n",
       "      <td>21</td>\n",
       "      <td>13</td>\n",
       "      <td>1</td>\n",
       "    </tr>\n",
       "    <tr>\n",
       "      <th>2076121120</th>\n",
       "      <td>Briggs Barbecue Sauces</td>\n",
       "      <td>Small Batch</td>\n",
       "      <td>Food</td>\n",
       "      <td>USD</td>\n",
       "      <td>2018-01-02</td>\n",
       "      <td>200000.0</td>\n",
       "      <td>2017-11-03</td>\n",
       "      <td>1.00</td>\n",
       "      <td>failed</td>\n",
       "      <td>1</td>\n",
       "      <td>US</td>\n",
       "      <td>0.0</td>\n",
       "      <td>1.00</td>\n",
       "      <td>200000.0</td>\n",
       "      <td>60 days</td>\n",
       "      <td>0.000500</td>\n",
       "      <td>7</td>\n",
       "      <td>21</td>\n",
       "      <td>13</td>\n",
       "      <td>0</td>\n",
       "    </tr>\n",
       "  </tbody>\n",
       "</table>\n",
       "</div>"
      ],
      "text/plain": [
       "                                                         name  \\\n",
       "ID                                                              \n",
       "1031685482  You Sparkle Inside: A Kids' Book + Commissions...   \n",
       "1176736360                        THE NEW BILLY WYLDER RECORD   \n",
       "1894703097           Driftwood Holly ***The Venice Project***   \n",
       "311863059                             On a Limb's debut album   \n",
       "2076121120                             Briggs Barbecue Sauces   \n",
       "\n",
       "                    category main_category currency   deadline      goal  \\\n",
       "ID                                                                         \n",
       "1031685482  Children's Books    Publishing      USD 2018-01-02    2000.0   \n",
       "1176736360        Indie Rock         Music      USD 2018-01-02   10000.0   \n",
       "1894703097        Indie Rock         Music      EUR 2018-01-02   25000.0   \n",
       "311863059               Jazz         Music      USD 2018-01-02    1000.0   \n",
       "2076121120       Small Batch          Food      USD 2018-01-02  200000.0   \n",
       "\n",
       "             launched   pledged       state  backers country  usd pledged  \\\n",
       "ID                                                                          \n",
       "1031685482 2017-12-06   6083.00  successful      133      US       1054.0   \n",
       "1176736360 2017-11-30  11169.56  successful      177      US        650.0   \n",
       "1894703097 2017-11-28  25417.20  successful      168      DE          0.0   \n",
       "311863059  2017-12-09   1743.00  successful       39      US          0.0   \n",
       "2076121120 2017-11-03      1.00      failed        1      US          0.0   \n",
       "\n",
       "            usd_pledged_real  usd_goal_real campaign_length  \\\n",
       "ID                                                            \n",
       "1031685482           6083.00         2000.0         27 days   \n",
       "1176736360          11169.56        10000.0         33 days   \n",
       "1894703097          30615.02        30112.5         35 days   \n",
       "311863059            1743.00         1000.0         24 days   \n",
       "2076121120              1.00       200000.0         60 days   \n",
       "\n",
       "            pct_goal_achieved  main_category_code  country_code  \\\n",
       "ID                                                                \n",
       "1031685482         304.150000                  12            21   \n",
       "1176736360         111.695600                  10            21   \n",
       "1894703097         101.668809                  10             5   \n",
       "311863059          174.300000                  10            21   \n",
       "2076121120           0.000500                   7            21   \n",
       "\n",
       "            currency_code  state_code  \n",
       "ID                                     \n",
       "1031685482             13           1  \n",
       "1176736360             13           1  \n",
       "1894703097              4           1  \n",
       "311863059              13           1  \n",
       "2076121120             13           0  "
      ]
     },
     "execution_count": 6,
     "metadata": {},
     "output_type": "execute_result"
    }
   ],
   "source": [
    "print(df.shape)\n",
    "df.head()"
   ]
  },
  {
   "cell_type": "code",
   "execution_count": null,
   "metadata": {
    "collapsed": true
   },
   "outputs": [],
   "source": []
  },
  {
   "cell_type": "code",
   "execution_count": 7,
   "metadata": {},
   "outputs": [
    {
     "name": "stdout",
     "output_type": "stream",
     "text": [
      "(19291, 4)\n",
      "(19291,)\n"
     ]
    }
   ],
   "source": [
    "X = df[['main_category_code','country_code','currency_code','usd_goal_real']]\n",
    "y = df['state_code']\n",
    "\n",
    "# X_train, X_test, y_train, y_test = train_test_split(X, y, test_size=0.5,random_state=42)\n",
    "\n",
    "k_range = list(range(1, 101))\n",
    "print(X.shape)\n",
    "print(y.shape)"
   ]
  },
  {
   "cell_type": "markdown",
   "metadata": {},
   "source": [
    "## Decision Trees"
   ]
  },
  {
   "cell_type": "code",
   "execution_count": 8,
   "metadata": {},
   "outputs": [
    {
     "ename": "NameError",
     "evalue": "name 'y_test' is not defined",
     "output_type": "error",
     "traceback": [
      "\u001b[0;31m---------------------------------------------------------------------------\u001b[0m",
      "\u001b[0;31mNameError\u001b[0m                                 Traceback (most recent call last)",
      "\u001b[0;32m<ipython-input-8-dd98e02be214>\u001b[0m in \u001b[0;36m<module>\u001b[0;34m()\u001b[0m\n\u001b[1;32m      1\u001b[0m \u001b[0;31m# HOW do I tie this analysis into my project?  I don't understand how to incorporate y1\u001b[0m\u001b[0;34m\u001b[0m\u001b[0;34m\u001b[0m\u001b[0m\n\u001b[0;32m----> 2\u001b[0;31m \u001b[0my1\u001b[0m \u001b[0;34m=\u001b[0m \u001b[0my_test\u001b[0m \u001b[0;31m# I have a hard time interpreting random data into project scenario\u001b[0m\u001b[0;34m\u001b[0m\u001b[0m\n\u001b[0m\u001b[1;32m      3\u001b[0m \u001b[0;34m\u001b[0m\u001b[0m\n\u001b[1;32m      4\u001b[0m \u001b[0;32mimport\u001b[0m \u001b[0mmatplotlib\u001b[0m\u001b[0;34m.\u001b[0m\u001b[0mcm\u001b[0m \u001b[0;32mas\u001b[0m \u001b[0mcm\u001b[0m\u001b[0;34m\u001b[0m\u001b[0m\n\u001b[1;32m      5\u001b[0m \u001b[0;34m\u001b[0m\u001b[0m\n",
      "\u001b[0;31mNameError\u001b[0m: name 'y_test' is not defined"
     ]
    }
   ],
   "source": [
    "# HOW do I tie this analysis into my project?  I don't understand how to incorporate y1\n",
    "y1 = y_test # I have a hard time interpreting random data into project scenario\n",
    "\n",
    "import matplotlib.cm as cm\n",
    "\n",
    "\n",
    "def visualize(X, y):\n",
    "    c = cm.rainbow(np.linspace(0, 1, 2))\n",
    "    plt.scatter([i[0] for i in X], [i[1] for i in X], color=[c[i] for i in y], alpha=.5)\n",
    "    plt.plot([0, 1], [0, 1], 'k--')\n",
    "    plt.grid(True)\n",
    "    \n",
    "\n",
    "visualize(X, y1)"
   ]
  },
  {
   "cell_type": "code",
   "execution_count": null,
   "metadata": {},
   "outputs": [],
   "source": [
    "def quick_test(model, X, y):\n",
    "    xtrain, xtest, ytrain, ytest = train_test_split(X, y, test_size=0.3)\n",
    "    model.fit(xtrain, ytrain)\n",
    "    return model.score(xtest, ytest)\n",
    "\n",
    "def quick_test_afew_times(model, X, y, n=10):\n",
    "    return np.mean([quick_test(model, X, y) for j in range(n)])\n",
    "\n",
    "linearsvc = LinearSVC()\n",
    "# Do the test 10 times with a LinearSVC and get the average score\n",
    "quick_test_afew_times(linearsvc, X, y)"
   ]
  },
  {
   "cell_type": "code",
   "execution_count": null,
   "metadata": {
    "collapsed": true
   },
   "outputs": [],
   "source": [
    "decisiontree = DecisionTreeClassifier(max_depth=2)\n",
    "quick_test_afew_times(decisiontree, X, y1)"
   ]
  },
  {
   "cell_type": "code",
   "execution_count": null,
   "metadata": {
    "collapsed": true
   },
   "outputs": [],
   "source": [
    "randomforest = RandomForestClassifier()\n",
    "quick_test_afew_times(randomforest, X, y1)"
   ]
  },
  {
   "cell_type": "code",
   "execution_count": null,
   "metadata": {
    "collapsed": true
   },
   "outputs": [],
   "source": [
    "y2 = [1 if (0.5-i[0])*(0.5-i[1])>0 else 0 for i in X]\n",
    "visualize(X, y2)"
   ]
  },
  {
   "cell_type": "code",
   "execution_count": null,
   "metadata": {
    "collapsed": true
   },
   "outputs": [],
   "source": [
    "decisiontree = DecisionTreeClassifier()\n",
    "quick_test_afew_times(decisiontree, X, y2)"
   ]
  },
  {
   "cell_type": "code",
   "execution_count": null,
   "metadata": {
    "collapsed": true
   },
   "outputs": [],
   "source": [
    "linearsvc = LinearSVC()\n",
    "quick_test_afew_times(linearsvc, X, y2)"
   ]
  },
  {
   "cell_type": "code",
   "execution_count": null,
   "metadata": {
    "collapsed": true
   },
   "outputs": [],
   "source": [
    "svc = SVC()\n",
    "quick_test_afew_times(svc, X, y2)"
   ]
  },
  {
   "cell_type": "code",
   "execution_count": null,
   "metadata": {
    "collapsed": true
   },
   "outputs": [],
   "source": [
    "s2 = SVC()\n",
    "X2 = (0.5-X) * 2\n",
    "quick_test_afew_times(s2, X2, y2)"
   ]
  },
  {
   "cell_type": "code",
   "execution_count": null,
   "metadata": {
    "collapsed": true
   },
   "outputs": [],
   "source": []
  },
  {
   "cell_type": "code",
   "execution_count": null,
   "metadata": {
    "collapsed": true
   },
   "outputs": [],
   "source": []
  },
  {
   "cell_type": "code",
   "execution_count": null,
   "metadata": {
    "collapsed": true
   },
   "outputs": [],
   "source": []
  }
 ],
 "metadata": {
  "kernelspec": {
   "display_name": "Python 3",
   "language": "python",
   "name": "python3"
  },
  "language_info": {
   "codemirror_mode": {
    "name": "ipython",
    "version": 3
   },
   "file_extension": ".py",
   "mimetype": "text/x-python",
   "name": "python",
   "nbconvert_exporter": "python",
   "pygments_lexer": "ipython3",
   "version": "3.5.4"
  }
 },
 "nbformat": 4,
 "nbformat_minor": 2
}
