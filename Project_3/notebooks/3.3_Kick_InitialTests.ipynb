{
 "cells": [
  {
   "cell_type": "markdown",
   "metadata": {},
   "source": [
    "# Predicting the Success of a Kickstarter Campaign\n",
    "Part 1. Initial screening of an assortment of ML models."
   ]
  },
  {
   "cell_type": "code",
   "execution_count": 1,
   "metadata": {},
   "outputs": [
    {
     "name": "stderr",
     "output_type": "stream",
     "text": [
      "/Users/brianmcmahon/anaconda3/envs/tensorflow1.4/lib/python3.5/site-packages/sklearn/cross_validation.py:41: DeprecationWarning: This module was deprecated in version 0.18 in favor of the model_selection module into which all the refactored classes and functions are moved. Also note that the interface of the new CV iterators are different from that of this module. This module will be removed in 0.20.\n",
      "  \"This module will be removed in 0.20.\", DeprecationWarning)\n"
     ]
    }
   ],
   "source": [
    "import pandas as pd\n",
    "import numpy as np\n",
    "import matplotlib.pyplot as plt\n",
    "import matplotlib.cm as cm\n",
    "%matplotlib inline\n",
    "import seaborn as sns\n",
    "\n",
    "from sqlalchemy import create_engine\n",
    "\n",
    "from sklearn.naive_bayes import GaussianNB, BernoulliNB,MultinomialNB\n",
    "from sklearn.neighbors import KNeighborsClassifier\n",
    "from sklearn.linear_model import LogisticRegression \n",
    "from sklearn.svm import SVC \n",
    "from sklearn.tree import DecisionTreeClassifier\n",
    "from sklearn.ensemble import RandomForestClassifier, GradientBoostingClassifier, AdaBoostClassifier\n",
    "from sklearn.metrics import (accuracy_score, classification_report,confusion_matrix, precision_score, \n",
    "                             recall_score, f1_score, roc_curve, roc_auc_score, average_precision_score, \n",
    "                             precision_recall_curve, auc)\n",
    "\n",
    "from sklearn.cross_validation import train_test_split \n",
    "from sklearn.model_selection import KFold  \n",
    "from sklearn.preprocessing import StandardScaler \n",
    "\n",
    "from xgboost import XGBClassifier\n",
    "\n",
    "import datetime\n",
    "import warnings\n",
    "import os\n",
    "\n",
    "warnings.filterwarnings(\"ignore\")"
   ]
  },
  {
   "cell_type": "code",
   "execution_count": 2,
   "metadata": {
    "collapsed": true
   },
   "outputs": [],
   "source": [
    "# env variable at tensorflow1.4 per https://conda.io/docs/user-guide/tasks/manage-environments.html#saving-environment-variables\n",
    "# and https://vsupalov.com/flask-sqlalchemy-postgres/\n",
    "\n",
    "def get_env_variable(name):\n",
    "    try:\n",
    "        return os.environ[name]\n",
    "    except KeyError:\n",
    "        message = \"Expected environment variable '{}' not set.\".format(name)\n",
    "        raise Exception(message)\n",
    "\n",
    "POSTGRES_URL = get_env_variable(\"POSTGRES_URL\")\n",
    "POSTGRES_USER = get_env_variable(\"POSTGRES_USER\")\n",
    "POSTGRES_PW = get_env_variable(\"POSTGRES_PW\")\n",
    "POSTGRES_DB = get_env_variable(\"POSTGRES_DB\")"
   ]
  },
  {
   "cell_type": "code",
   "execution_count": 3,
   "metadata": {
    "collapsed": true
   },
   "outputs": [],
   "source": [
    "DB_URL = 'postgresql+psycopg2://{user}:{pw}@{url}/{db}'.format(user=POSTGRES_USER,pw=POSTGRES_PW,url=POSTGRES_URL,db=POSTGRES_DB)"
   ]
  },
  {
   "cell_type": "code",
   "execution_count": 4,
   "metadata": {
    "collapsed": true
   },
   "outputs": [],
   "source": [
    "engine_var = DB_URL\n",
    "engine = create_engine(engine_var)"
   ]
  },
  {
   "cell_type": "code",
   "execution_count": 5,
   "metadata": {},
   "outputs": [
    {
     "name": "stdout",
     "output_type": "stream",
     "text": [
      "(163425, 19)\n"
     ]
    },
    {
     "data": {
      "text/html": [
       "<div>\n",
       "<style scoped>\n",
       "    .dataframe tbody tr th:only-of-type {\n",
       "        vertical-align: middle;\n",
       "    }\n",
       "\n",
       "    .dataframe tbody tr th {\n",
       "        vertical-align: top;\n",
       "    }\n",
       "\n",
       "    .dataframe thead th {\n",
       "        text-align: right;\n",
       "    }\n",
       "</style>\n",
       "<table border=\"1\" class=\"dataframe\">\n",
       "  <thead>\n",
       "    <tr style=\"text-align: right;\">\n",
       "      <th></th>\n",
       "      <th>state</th>\n",
       "      <th>category_main</th>\n",
       "      <th>category_name</th>\n",
       "      <th>backers_count</th>\n",
       "      <th>pct_goal_achieved</th>\n",
       "      <th>usd_pledged</th>\n",
       "      <th>usd_goal</th>\n",
       "      <th>country</th>\n",
       "      <th>currency</th>\n",
       "      <th>campaign_length</th>\n",
       "      <th>staff_pick</th>\n",
       "      <th>blurb_length</th>\n",
       "      <th>launched</th>\n",
       "    </tr>\n",
       "  </thead>\n",
       "  <tbody>\n",
       "    <tr>\n",
       "      <th>0</th>\n",
       "      <td>1</td>\n",
       "      <td>fashion</td>\n",
       "      <td>Fashion</td>\n",
       "      <td>30</td>\n",
       "      <td>1.0</td>\n",
       "      <td>1555.0</td>\n",
       "      <td>1500.0</td>\n",
       "      <td>US</td>\n",
       "      <td>USD</td>\n",
       "      <td>31</td>\n",
       "      <td>0</td>\n",
       "      <td>25</td>\n",
       "      <td>2011-12-01</td>\n",
       "    </tr>\n",
       "    <tr>\n",
       "      <th>1</th>\n",
       "      <td>0</td>\n",
       "      <td>art</td>\n",
       "      <td>Painting</td>\n",
       "      <td>1</td>\n",
       "      <td>0.0</td>\n",
       "      <td>120.0</td>\n",
       "      <td>3456.0</td>\n",
       "      <td>US</td>\n",
       "      <td>USD</td>\n",
       "      <td>46</td>\n",
       "      <td>0</td>\n",
       "      <td>24</td>\n",
       "      <td>2011-11-16</td>\n",
       "    </tr>\n",
       "    <tr>\n",
       "      <th>2</th>\n",
       "      <td>1</td>\n",
       "      <td>film_and_video</td>\n",
       "      <td>Shorts</td>\n",
       "      <td>43</td>\n",
       "      <td>1.5</td>\n",
       "      <td>1831.0</td>\n",
       "      <td>1200.0</td>\n",
       "      <td>US</td>\n",
       "      <td>USD</td>\n",
       "      <td>25</td>\n",
       "      <td>0</td>\n",
       "      <td>18</td>\n",
       "      <td>2011-12-07</td>\n",
       "    </tr>\n",
       "    <tr>\n",
       "      <th>3</th>\n",
       "      <td>1</td>\n",
       "      <td>film_and_video</td>\n",
       "      <td>Shorts</td>\n",
       "      <td>6</td>\n",
       "      <td>1.0</td>\n",
       "      <td>1010.0</td>\n",
       "      <td>1000.0</td>\n",
       "      <td>US</td>\n",
       "      <td>USD</td>\n",
       "      <td>30</td>\n",
       "      <td>0</td>\n",
       "      <td>25</td>\n",
       "      <td>2011-12-02</td>\n",
       "    </tr>\n",
       "    <tr>\n",
       "      <th>4</th>\n",
       "      <td>1</td>\n",
       "      <td>film_and_video</td>\n",
       "      <td>Shorts</td>\n",
       "      <td>20</td>\n",
       "      <td>1.1</td>\n",
       "      <td>1580.0</td>\n",
       "      <td>1500.0</td>\n",
       "      <td>US</td>\n",
       "      <td>USD</td>\n",
       "      <td>27</td>\n",
       "      <td>0</td>\n",
       "      <td>24</td>\n",
       "      <td>2011-12-05</td>\n",
       "    </tr>\n",
       "  </tbody>\n",
       "</table>\n",
       "</div>"
      ],
      "text/plain": [
       "   state   category_main category_name  backers_count  pct_goal_achieved  \\\n",
       "0      1         fashion       Fashion             30                1.0   \n",
       "1      0             art      Painting              1                0.0   \n",
       "2      1  film_and_video        Shorts             43                1.5   \n",
       "3      1  film_and_video        Shorts              6                1.0   \n",
       "4      1  film_and_video        Shorts             20                1.1   \n",
       "\n",
       "   usd_pledged  usd_goal country currency  campaign_length  staff_pick  \\\n",
       "0       1555.0    1500.0      US      USD               31           0   \n",
       "1        120.0    3456.0      US      USD               46           0   \n",
       "2       1831.0    1200.0      US      USD               25           0   \n",
       "3       1010.0    1000.0      US      USD               30           0   \n",
       "4       1580.0    1500.0      US      USD               27           0   \n",
       "\n",
       "   blurb_length    launched  \n",
       "0            25  2011-12-01  \n",
       "1            24  2011-11-16  \n",
       "2            18  2011-12-07  \n",
       "3            25  2011-12-02  \n",
       "4            24  2011-12-05  "
      ]
     },
     "execution_count": 5,
     "metadata": {},
     "output_type": "execute_result"
    }
   ],
   "source": [
    "# df = pd.read_pickle('data/kickstarter_data_ds2.pkl')\n",
    "df = pd.read_sql_query('''SELECT * FROM kickstarter_data_ds2''',engine)\n",
    "df['idx'] = df['id']\n",
    "df = df.set_index('idx')\n",
    "df = df.drop(['index'],1)\n",
    "print(df.shape)\n",
    "pd.read_sql_query('''SELECT state, category_main, category_name, backers_count, pct_goal_achieved, usd_pledged, usd_goal, country, currency, campaign_length, staff_pick, blurb_length, launched FROM kickstarter_data_ds2 LIMIT 5''',engine)"
   ]
  },
  {
   "cell_type": "code",
   "execution_count": 6,
   "metadata": {},
   "outputs": [
    {
     "data": {
      "text/plain": [
       "(38401, 10)"
      ]
     },
     "execution_count": 6,
     "metadata": {},
     "output_type": "execute_result"
    }
   ],
   "source": [
    "start_date = datetime.datetime.strptime('2016-01-01', \"%Y-%m-%d\").date()\n",
    "\n",
    "df = df[df['launched'] >= start_date] # filter from start date to current\n",
    "df = df[['state','category_main','category_name','backers_count','usd_goal','country','currency','campaign_length',\n",
    "        'staff_pick','blurb_length']]\n",
    "df = df.dropna()\n",
    "\n",
    "df.shape"
   ]
  },
  {
   "cell_type": "code",
   "execution_count": 7,
   "metadata": {},
   "outputs": [
    {
     "data": {
      "text/plain": [
       "Index(['state', 'category_main', 'category_name', 'backers_count', 'usd_goal',\n",
       "       'country', 'currency', 'campaign_length', 'staff_pick', 'blurb_length'],\n",
       "      dtype='object')"
      ]
     },
     "execution_count": 7,
     "metadata": {},
     "output_type": "execute_result"
    }
   ],
   "source": [
    "df.columns"
   ]
  },
  {
   "cell_type": "code",
   "execution_count": 8,
   "metadata": {},
   "outputs": [
    {
     "name": "stdout",
     "output_type": "stream",
     "text": [
      "(38401, 197)\n",
      "Index(['category_main_comics', 'category_main_crafts', 'category_main_dance',\n",
      "       'category_main_design', 'category_main_fashion',\n",
      "       'category_main_film_and_video', 'category_main_food',\n",
      "       'category_main_games', 'category_main_journalism',\n",
      "       'category_main_music',\n",
      "       ...\n",
      "       'state', 'category_main', 'category_name', 'backers_count', 'usd_goal',\n",
      "       'country', 'currency', 'campaign_length', 'staff_pick', 'blurb_length'],\n",
      "      dtype='object', length=197)\n",
      "<class 'pandas.core.frame.DataFrame'>\n",
      "Int64Index: 38401 entries, 1396766240 to 1094069811\n",
      "Columns: 197 entries, category_main_comics to blurb_length\n",
      "dtypes: float64(1), int64(5), object(4), uint8(187)\n",
      "memory usage: 11.3+ MB\n"
     ]
    }
   ],
   "source": [
    "df_dummies = pd.get_dummies(df[['category_main','category_name', 'country','currency']],drop_first=True)\n",
    "df = df_dummies.merge(df,how='inner',left_index=True, right_index=True)\n",
    "print(df.shape)\n",
    "print(df.columns)\n",
    "df.info()"
   ]
  },
  {
   "cell_type": "code",
   "execution_count": 9,
   "metadata": {},
   "outputs": [
    {
     "name": "stdout",
     "output_type": "stream",
     "text": [
      "(38401, 191)\n"
     ]
    }
   ],
   "source": [
    "# removing all variables that cannot be known before a campaign is launched, such as # backers and $ pledged\n",
    "df = df.dropna()\n",
    "X = df.drop(['state','category_main','category_name', 'backers_count', 'country', 'currency'], 1)\n",
    "y = df['state']\n",
    "\n",
    "print(X.shape)"
   ]
  },
  {
   "cell_type": "markdown",
   "metadata": {},
   "source": [
    "## Assumptions"
   ]
  },
  {
   "cell_type": "code",
   "execution_count": 10,
   "metadata": {},
   "outputs": [
    {
     "name": "stdout",
     "output_type": "stream",
     "text": [
      "(26880, 191) (26880,)\n",
      "(11521, 191) (11521,)\n"
     ]
    }
   ],
   "source": [
    "X_train, X_test, y_train, y_test = train_test_split(X, y, test_size=0.3,random_state=42, stratify=y)\n",
    "\n",
    "k_range = list(range(1, 101))\n",
    "print(X_train.shape, y_train.shape)\n",
    "print(X_test.shape,y_test.shape)"
   ]
  },
  {
   "cell_type": "code",
   "execution_count": null,
   "metadata": {
    "collapsed": true
   },
   "outputs": [],
   "source": [
    "# https://elitedatascience.com/python-machine-learning-tutorial-scikit-learn\n",
    "scaler = StandardScaler().fit(X_train)\n",
    "X_train_s = scaler.transform(X_train)\n",
    "X_test_s = scaler.transform(X_test)"
   ]
  },
  {
   "cell_type": "markdown",
   "metadata": {},
   "source": [
    "## Phase 1: Initial Check on All Models"
   ]
  },
  {
   "cell_type": "code",
   "execution_count": null,
   "metadata": {},
   "outputs": [
    {
     "name": "stdout",
     "output_type": "stream",
     "text": [
      "GaussianNB(priors=None)\n",
      "\t==============================\n",
      "\tAccuracy: 0.578856002083\n",
      "\tAUC: 0.535151254992\n",
      "\n",
      "\n",
      "[[ 443 4758]\n",
      " [  94 6226]]\n",
      "             precision    recall  f1-score   support\n",
      "\n",
      "          0       0.82      0.09      0.15      5201\n",
      "          1       0.57      0.99      0.72      6320\n",
      "\n",
      "avg / total       0.68      0.58      0.46     11521\n",
      "\n",
      "BernoulliNB(alpha=0.5, binarize=0.0, class_prior=None, fit_prior=True)\n",
      "\t==============================\n",
      "\tAccuracy: 0.727541012065\n",
      "\tAUC: 0.729856934767\n",
      "\n",
      "\n",
      "[[3920 1281]\n",
      " [1858 4462]]\n",
      "             precision    recall  f1-score   support\n",
      "\n",
      "          0       0.68      0.75      0.71      5201\n",
      "          1       0.78      0.71      0.74      6320\n",
      "\n",
      "avg / total       0.73      0.73      0.73     11521\n",
      "\n",
      "MultinomialNB(alpha=0, class_prior=None, fit_prior=True)\n",
      "\t==============================\n",
      "\tAccuracy: 0.613835604548\n",
      "\tAUC: 0.582132178817\n",
      "\n",
      "\n",
      "[[1330 3871]\n",
      " [ 578 5742]]\n",
      "             precision    recall  f1-score   support\n",
      "\n",
      "          0       0.70      0.26      0.37      5201\n",
      "          1       0.60      0.91      0.72      6320\n",
      "\n",
      "avg / total       0.64      0.61      0.56     11521\n",
      "\n",
      "DecisionTreeClassifier(class_weight=None, criterion='gini', max_depth=2,\n",
      "            max_features=None, max_leaf_nodes=None,\n",
      "            min_impurity_decrease=0.0, min_impurity_split=None,\n",
      "            min_samples_leaf=1, min_samples_split=2,\n",
      "            min_weight_fraction_leaf=0.0, presort=False, random_state=None,\n",
      "            splitter='best')\n",
      "\t==============================\n",
      "\tAccuracy: 0.678934120302\n",
      "\tAUC: 0.674591333458\n",
      "\n",
      "\n",
      "[[3276 1925]\n",
      " [1774 4546]]\n",
      "             precision    recall  f1-score   support\n",
      "\n",
      "          0       0.65      0.63      0.64      5201\n",
      "          1       0.70      0.72      0.71      6320\n",
      "\n",
      "avg / total       0.68      0.68      0.68     11521\n",
      "\n",
      "KNeighborsClassifier(algorithm='auto', leaf_size=30, metric='minkowski',\n",
      "           metric_params=None, n_jobs=1, n_neighbors=27, p=2,\n",
      "           weights='uniform')\n",
      "\t==============================\n",
      "\tAccuracy: 0.63640309001\n",
      "\tAUC: 0.623740292154\n",
      "\n",
      "\n",
      "[[2566 2635]\n",
      " [1554 4766]]\n",
      "             precision    recall  f1-score   support\n",
      "\n",
      "          0       0.62      0.49      0.55      5201\n",
      "          1       0.64      0.75      0.69      6320\n",
      "\n",
      "avg / total       0.63      0.64      0.63     11521\n",
      "\n",
      "RandomForestClassifier(bootstrap=True, class_weight=None, criterion='gini',\n",
      "            max_depth=None, max_features='auto', max_leaf_nodes=None,\n",
      "            min_impurity_decrease=0.0, min_impurity_split=None,\n",
      "            min_samples_leaf=1, min_samples_split=2,\n",
      "            min_weight_fraction_leaf=0.0, n_estimators=1000, n_jobs=1,\n",
      "            oob_score=False, random_state=None, verbose=0,\n",
      "            warm_start=False)\n",
      "\t==============================\n",
      "\tAccuracy: 0.753563058762\n",
      "\tAUC: 0.751675697103\n",
      "\n",
      "\n",
      "[[3820 1381]\n",
      " [1451 4869]]\n",
      "             precision    recall  f1-score   support\n",
      "\n",
      "          0       0.72      0.73      0.73      5201\n",
      "          1       0.78      0.77      0.77      6320\n",
      "\n",
      "avg / total       0.75      0.75      0.75     11521\n",
      "\n",
      "GradientBoostingClassifier(criterion='friedman_mse', init=None,\n",
      "              learning_rate=0.1, loss='deviance', max_depth=3,\n",
      "              max_features=None, max_leaf_nodes=None,\n",
      "              min_impurity_decrease=0.0, min_impurity_split=None,\n",
      "              min_samples_leaf=1, min_samples_split=2,\n",
      "              min_weight_fraction_leaf=0.0, n_estimators=500,\n",
      "              presort='auto', random_state=None, subsample=1.0, verbose=0,\n",
      "              warm_start=False)\n",
      "\t==============================\n",
      "\tAccuracy: 0.773283569135\n",
      "\tAUC: 0.773670843484\n",
      "\n",
      "\n",
      "[[4045 1156]\n",
      " [1455 4865]]\n",
      "             precision    recall  f1-score   support\n",
      "\n",
      "          0       0.74      0.78      0.76      5201\n",
      "          1       0.81      0.77      0.79      6320\n",
      "\n",
      "avg / total       0.78      0.77      0.77     11521\n",
      "\n",
      "AdaBoostClassifier(algorithm='SAMME.R',\n",
      "          base_estimator=DecisionTreeClassifier(class_weight=None, criterion='gini', max_depth=2,\n",
      "            max_features=None, max_leaf_nodes=None,\n",
      "            min_impurity_decrease=0.0, min_impurity_split=None,\n",
      "            min_samples_leaf=1, min_samples_split=2,\n",
      "            min_weight_fraction_leaf=0.0, presort=False, random_state=None,\n",
      "            splitter='best'),\n",
      "          learning_rate=1.0, n_estimators=2, random_state=None)\n",
      "\t==============================\n",
      "\tAccuracy: 0.68908948876\n",
      "\tAUC: 0.683847662572\n",
      "\n",
      "\n",
      "[[3276 1925]\n",
      " [1657 4663]]\n",
      "             precision    recall  f1-score   support\n",
      "\n",
      "          0       0.66      0.63      0.65      5201\n",
      "          1       0.71      0.74      0.72      6320\n",
      "\n",
      "avg / total       0.69      0.69      0.69     11521\n",
      "\n",
      "XGBClassifier(base_score=0.5, colsample_bylevel=1, colsample_bytree=0.7,\n",
      "       gamma=0, learning_rate=0.05, max_delta_step=0, max_depth=6,\n",
      "       min_child_weight=11, missing=-999, n_estimators=500, nthread=4,\n",
      "       objective='reg:linear', reg_alpha=0, reg_lambda=1,\n",
      "       scale_pos_weight=1, seed=0, silent=1, subsample=0.8)\n",
      "\t==============================\n",
      "\tAccuracy: 0.77458553945\n",
      "\tAUC: 0.775102661002\n",
      "\n",
      "\n",
      "[[4059 1142]\n",
      " [1455 4865]]\n",
      "             precision    recall  f1-score   support\n",
      "\n",
      "          0       0.74      0.78      0.76      5201\n",
      "          1       0.81      0.77      0.79      6320\n",
      "\n",
      "avg / total       0.78      0.77      0.78     11521\n",
      "\n",
      "LogisticRegression(C=1000, class_weight=None, dual=False, fit_intercept=True,\n",
      "          intercept_scaling=1, max_iter=100, multi_class='ovr', n_jobs=1,\n",
      "          penalty='l1', random_state=None, solver='liblinear', tol=0.0001,\n",
      "          verbose=0, warm_start=False)\n",
      "\t==============================\n",
      "\tAccuracy: 0.752226369239\n",
      "\tAUC: 0.75268374631\n",
      "\n",
      "\n",
      "[[3946 1255]\n",
      " [1601 4719]]\n",
      "             precision    recall  f1-score   support\n",
      "\n",
      "          0       0.71      0.76      0.73      5201\n",
      "          1       0.79      0.75      0.77      6320\n",
      "\n",
      "avg / total       0.75      0.75      0.75     11521\n",
      "\n"
     ]
    }
   ],
   "source": [
    "# Define models to test\n",
    "model_list = [['GaussianNB', GaussianNB()], \n",
    "                ['BernoulliNB', BernoulliNB(alpha=0.5)], \n",
    "                ['MultinomialNB', MultinomialNB(alpha=0)],\n",
    "                ['DecisionTree', DecisionTreeClassifier(criterion = 'gini', max_depth=2, splitter='best')], \n",
    "                ['KNN', KNeighborsClassifier(27)], # best k from KNN model below; scale data\n",
    "                ['RandomForest', RandomForestClassifier(max_features='auto',n_estimators=1000)], \n",
    "                ['GradientBoost', GradientBoostingClassifier(n_estimators=500)],\n",
    "                ['AdaBoost', AdaBoostClassifier(algorithm='SAMME.R',\n",
    "                      base_estimator=DecisionTreeClassifier(criterion = 'gini', max_depth=2, splitter='best'),\n",
    "                      n_estimators=2)],\n",
    "                ['XGBoost', XGBClassifier(base_score=0.5, colsample_bylevel=1, colsample_bytree=0.7,\n",
    "                       gamma=0, learning_rate=0.05, max_delta_step=0, max_depth=6,\n",
    "                       min_child_weight=11, missing=-999, n_estimators=500, nthread=4,\n",
    "                       objective='reg:linear', reg_alpha=0, reg_lambda=1,\n",
    "                       scale_pos_weight=1, seed=0, silent=1, subsample=0.8)],\n",
    "                ['LogisticRegression', LogisticRegression(C=1000, penalty='l1')],          \n",
    "                ['SVM', SVC(C=10,gamma=0.001,probability=True)]] # scale data; F1 0.57\n",
    "\n",
    "model_list_s = [['KNN', KNeighborsClassifier(27)], # best k from KNN model below; scale data\n",
    "                ['LogisticRegression', LogisticRegression(C=1000, penalty='l1')], # scale data\n",
    "                ['SVM', SVC(C=10,gamma=0.001,probability=True)]] # scale data\n",
    "\n",
    "# Calculate metrics for each model\n",
    "roc = {}\n",
    "results_dict = {}\n",
    "for model in model_list:\n",
    "    if model in model_list_s:\n",
    "        X_train = X_train_s\n",
    "        X_test = X_test_s\n",
    "    \n",
    "    model_name = model[0]\n",
    "    model = model[1]\n",
    "    \n",
    "    accuracy = []\n",
    "    precision_1 = []\n",
    "    precision_0 = []\n",
    "    recall_1 = []\n",
    "    recall_0 = []\n",
    "    f1_1 = []\n",
    "    f1_0 = []\n",
    "    auc = []\n",
    "        \n",
    "    # Perform K-Fold CV and calculate metrics for each fold\n",
    "    kf = KFold(5, random_state=42, shuffle=True) \n",
    "    for train_idx, test_idx in kf.split(X, y=y):\n",
    "        model.fit(X_train, y_train)\n",
    "        y_pred = model.predict(X_test)\n",
    "        accuracy.append(accuracy_score(y_test, y_pred))\n",
    "        precision_1.append(precision_score(y_test, y_pred ,pos_label=1))\n",
    "        precision_0.append(precision_score(y_test, y_pred ,pos_label=0))\n",
    "        recall_1.append(recall_score(y_test, y_pred, pos_label=1))\n",
    "        recall_0.append(recall_score(y_test, y_pred, pos_label=0))\n",
    "        f1_1.append(f1_score(y_test, y_pred, pos_label=1))\n",
    "        f1_0.append(f1_score(y_test, y_pred, pos_label=0))\n",
    "        auc.append(roc_auc_score(y_test, y_pred))\n",
    "        \n",
    "    # Calculate mean metric across K-folds\n",
    "    mean_accuracy = np.mean(accuracy)\n",
    "    mean_precision_1 = np.mean(precision_1)\n",
    "    mean_precision_0 = np.mean(precision_0)\n",
    "    mean_recall_1 = np.mean(recall_1)\n",
    "    mean_recall_0 = np.mean(recall_0)\n",
    "    mean_f1_1 = np.mean(f1_1)\n",
    "    mean_f1_0 = np.mean(f1_0)\n",
    "    mean_auc = np.mean(auc)\n",
    "    \n",
    "    # Capture TPR and FPR from last fold for plotting\n",
    "    y_score = model.predict_proba(X_test)[:,1]\n",
    "    roc[model_name] = roc_curve(y_test, y_score), mean_auc\n",
    "    results_dict[model_name] = {\"accuracy\": mean_accuracy, \"precision_s\": mean_precision_1, \"precision_f\": mean_precision_0, \"recall_s\": mean_recall_1, \"recall_f\": mean_recall_0, \"f1_s\": mean_f1_1, \"f1_f\": mean_f1_0, \"auc\": mean_auc}\n",
    "    \n",
    "    # Print formatted results\n",
    "    print(model)\n",
    "    print('\\t==============================')\n",
    "    print('\\tAccuracy:', mean_accuracy)\n",
    "    print('\\tAUC:', mean_auc)\n",
    "    print('\\n')\n",
    "    print(confusion_matrix(y_test,y_pred))\n",
    "    print(classification_report(y_test,y_pred))  "
   ]
  },
  {
   "cell_type": "code",
   "execution_count": null,
   "metadata": {},
   "outputs": [],
   "source": [
    "# Plot the ROC curve from the last K-Fold split\n",
    "fig, ax = plt.subplots(figsize=(10, 10))\n",
    "\n",
    "# Plot 50-50 Line\n",
    "ax.plot([0,1],[0,1], ls='--', color='k', label='50-50')\n",
    "\n",
    "# Plot Classifier ROC Curves\n",
    "for key, value in roc.items():\n",
    "    label = '{}, AUC: {}%'.format(key, round(100*value[1],1))\n",
    "    ax.plot(roc[key][0][0], roc[key][0][1], label=label)\n",
    "    \n",
    "ax.set_xlabel('FPR')\n",
    "ax.set_ylabel('TPR')\n",
    "ax.set_title('ROC Curve - All Models',fontweight='bold',fontsize=15)\n",
    "ax.legend(loc='best')\n",
    "plt.savefig('charts/roc_ds2_p1.png')"
   ]
  },
  {
   "cell_type": "code",
   "execution_count": null,
   "metadata": {},
   "outputs": [],
   "source": [
    "rd = pd.DataFrame(results_dict).T\n",
    "rd = rd.apply(lambda x: round(100*x,1).astype(str) + \"%\")\n",
    "rd = rd.sort_values(['auc'],ascending=[False])\n",
    "rd"
   ]
  },
  {
   "cell_type": "code",
   "execution_count": null,
   "metadata": {
    "collapsed": true
   },
   "outputs": [],
   "source": []
  },
  {
   "cell_type": "code",
   "execution_count": null,
   "metadata": {
    "collapsed": true
   },
   "outputs": [],
   "source": []
  },
  {
   "cell_type": "code",
   "execution_count": null,
   "metadata": {
    "collapsed": true
   },
   "outputs": [],
   "source": []
  },
  {
   "cell_type": "code",
   "execution_count": null,
   "metadata": {
    "collapsed": true
   },
   "outputs": [],
   "source": []
  }
 ],
 "metadata": {
  "kernelspec": {
   "display_name": "Python 3",
   "language": "python",
   "name": "python3"
  },
  "language_info": {
   "codemirror_mode": {
    "name": "ipython",
    "version": 3
   },
   "file_extension": ".py",
   "mimetype": "text/x-python",
   "name": "python",
   "nbconvert_exporter": "python",
   "pygments_lexer": "ipython3",
   "version": "3.5.4"
  }
 },
 "nbformat": 4,
 "nbformat_minor": 2
}
