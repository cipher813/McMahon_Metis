{
 "cells": [
  {
   "cell_type": "markdown",
   "metadata": {},
   "source": [
    "# Kickstarter: Classification\n",
    "Tests Include:\n",
    "-KNN\n",
    "-Logistic Regression\n",
    "-Decision Trees\n",
    "-Random Forest\n",
    "-SVM\n",
    "-Gradient Boosting"
   ]
  },
  {
   "cell_type": "code",
   "execution_count": 1,
   "metadata": {},
   "outputs": [
    {
     "name": "stderr",
     "output_type": "stream",
     "text": [
      "/Users/brianmcmahon/anaconda3/envs/tensorflow1.4/lib/python3.5/site-packages/sklearn/cross_validation.py:41: DeprecationWarning: This module was deprecated in version 0.18 in favor of the model_selection module into which all the refactored classes and functions are moved. Also note that the interface of the new CV iterators are different from that of this module. This module will be removed in 0.20.\n",
      "  \"This module will be removed in 0.20.\", DeprecationWarning)\n",
      "/Users/brianmcmahon/anaconda3/envs/tensorflow1.4/lib/python3.5/site-packages/sklearn/learning_curve.py:22: DeprecationWarning: This module was deprecated in version 0.18 in favor of the model_selection module into which all the functions are moved. This module will be removed in 0.20\n",
      "  DeprecationWarning)\n"
     ]
    }
   ],
   "source": [
    "import pandas as pd\n",
    "import numpy as np\n",
    "import matplotlib.pyplot as plt\n",
    "import matplotlib.cm as cm\n",
    "import seaborn as sns\n",
    "%matplotlib inline\n",
    "\n",
    "import sqlalchemy\n",
    "from sqlalchemy import create_engine\n",
    "from flask_sqlalchemy import SQLAlchemy\n",
    "\n",
    "from sklearn import naive_bayes\n",
    "from sklearn.naive_bayes import GaussianNB, BernoulliNB,MultinomialNB\n",
    "from sklearn.neighbors import KNeighborsClassifier\n",
    "from sklearn.linear_model import LogisticRegression, LogisticRegressionCV\n",
    "from sklearn.svm import SVC, LinearSVC\n",
    "from sklearn.tree import DecisionTreeClassifier\n",
    "from sklearn.ensemble import RandomForestClassifier, RandomForestRegressor, RandomTreesEmbedding\n",
    "from sklearn.ensemble import GradientBoostingClassifier, AdaBoostClassifier\n",
    "from sklearn.metrics import accuracy_score, classification_report,confusion_matrix\n",
    "from sklearn.metrics import precision_score, recall_score, f1_score, roc_curve, roc_auc_score\n",
    "from sklearn.metrics import average_precision_score, precision_recall_curve, auc\n",
    "from sklearn.learning_curve import learning_curve\n",
    "from sklearn.cross_validation import train_test_split, cross_val_predict\n",
    "from sklearn.model_selection import GridSearchCV, cross_val_score, KFold\n",
    "from sklearn.preprocessing import label_binarize, scale, StandardScaler\n",
    "from sklearn.multiclass import OneVsRestClassifier\n",
    "from sklearn.pipeline import make_pipeline\n",
    "\n",
    "from sklearn.datasets import make_classification\n",
    "from sklearn.linear_model import LogisticRegression\n",
    "from sklearn.preprocessing import OneHotEncoder\n",
    "\n",
    "from xgboost import XGBClassifier\n",
    "\n",
    "import datetime\n",
    "import warnings\n",
    "import os\n",
    "\n",
    "warnings.filterwarnings(\"ignore\") #, category=DeprecationWarning)"
   ]
  },
  {
   "cell_type": "code",
   "execution_count": 2,
   "metadata": {
    "collapsed": true
   },
   "outputs": [],
   "source": [
    "# env variable at tensorflow1.4 per https://conda.io/docs/user-guide/tasks/manage-environments.html#saving-environment-variables\n",
    "# and https://vsupalov.com/flask-sqlalchemy-postgres/\n",
    "\n",
    "def get_env_variable(name):\n",
    "    try:\n",
    "        return os.environ[name]\n",
    "    except KeyError:\n",
    "        message = \"Expected environment variable '{}' not set.\".format(name)\n",
    "        raise Exception(message)\n",
    "\n",
    "# the values of those depend on your setup\n",
    "POSTGRES_URL = get_env_variable(\"POSTGRES_URL\")\n",
    "POSTGRES_USER = get_env_variable(\"POSTGRES_USER\")\n",
    "POSTGRES_PW = get_env_variable(\"POSTGRES_PW\")\n",
    "POSTGRES_DB = get_env_variable(\"POSTGRES_DB\")"
   ]
  },
  {
   "cell_type": "code",
   "execution_count": 3,
   "metadata": {
    "collapsed": true
   },
   "outputs": [],
   "source": [
    "DB_URL = 'postgresql+psycopg2://{user}:{pw}@{url}/{db}'.format(user=POSTGRES_USER,pw=POSTGRES_PW,url=POSTGRES_URL,db=POSTGRES_DB)"
   ]
  },
  {
   "cell_type": "code",
   "execution_count": 4,
   "metadata": {
    "collapsed": true
   },
   "outputs": [],
   "source": [
    "engine_var = DB_URL\n",
    "engine = create_engine(engine_var)"
   ]
  },
  {
   "cell_type": "code",
   "execution_count": 5,
   "metadata": {},
   "outputs": [
    {
     "name": "stdout",
     "output_type": "stream",
     "text": [
      "(163425, 18)\n",
      "Index(['id', 'name', 'state', 'category_main', 'category_name',\n",
      "       'backers_count', 'pct_goal_achieved', 'usd_pledged', 'usd_goal',\n",
      "       'country', 'currency', 'campaign_length', 'deadline', 'launched',\n",
      "       'created', 'staff_pick', 'creator_name', 'blurb_length'],\n",
      "      dtype='object')\n"
     ]
    },
    {
     "data": {
      "text/html": [
       "<div>\n",
       "<style scoped>\n",
       "    .dataframe tbody tr th:only-of-type {\n",
       "        vertical-align: middle;\n",
       "    }\n",
       "\n",
       "    .dataframe tbody tr th {\n",
       "        vertical-align: top;\n",
       "    }\n",
       "\n",
       "    .dataframe thead th {\n",
       "        text-align: right;\n",
       "    }\n",
       "</style>\n",
       "<table border=\"1\" class=\"dataframe\">\n",
       "  <thead>\n",
       "    <tr style=\"text-align: right;\">\n",
       "      <th></th>\n",
       "      <th>id</th>\n",
       "      <th>name</th>\n",
       "      <th>state</th>\n",
       "      <th>category_main</th>\n",
       "      <th>category_name</th>\n",
       "      <th>backers_count</th>\n",
       "      <th>pct_goal_achieved</th>\n",
       "      <th>usd_pledged</th>\n",
       "      <th>usd_goal</th>\n",
       "      <th>country</th>\n",
       "      <th>currency</th>\n",
       "      <th>campaign_length</th>\n",
       "      <th>deadline</th>\n",
       "      <th>launched</th>\n",
       "      <th>created</th>\n",
       "      <th>staff_pick</th>\n",
       "      <th>creator_name</th>\n",
       "      <th>blurb_length</th>\n",
       "    </tr>\n",
       "    <tr>\n",
       "      <th>idx</th>\n",
       "      <th></th>\n",
       "      <th></th>\n",
       "      <th></th>\n",
       "      <th></th>\n",
       "      <th></th>\n",
       "      <th></th>\n",
       "      <th></th>\n",
       "      <th></th>\n",
       "      <th></th>\n",
       "      <th></th>\n",
       "      <th></th>\n",
       "      <th></th>\n",
       "      <th></th>\n",
       "      <th></th>\n",
       "      <th></th>\n",
       "      <th></th>\n",
       "      <th></th>\n",
       "      <th></th>\n",
       "    </tr>\n",
       "  </thead>\n",
       "  <tbody>\n",
       "    <tr>\n",
       "      <th>1396766240</th>\n",
       "      <td>1396766240</td>\n",
       "      <td>Ripple Playing Cards - Printed by USPCC</td>\n",
       "      <td>failed</td>\n",
       "      <td>games</td>\n",
       "      <td>Playing Cards</td>\n",
       "      <td>131</td>\n",
       "      <td>0.3</td>\n",
       "      <td>3387.000000</td>\n",
       "      <td>9999.000000</td>\n",
       "      <td>US</td>\n",
       "      <td>USD</td>\n",
       "      <td>38</td>\n",
       "      <td>2018-01-12</td>\n",
       "      <td>2017-12-05</td>\n",
       "      <td>2017-10-08</td>\n",
       "      <td>0</td>\n",
       "      <td>B.Y. Eidelman</td>\n",
       "      <td>16</td>\n",
       "    </tr>\n",
       "    <tr>\n",
       "      <th>2065169465</th>\n",
       "      <td>2065169465</td>\n",
       "      <td>Cotton-Top Pastries</td>\n",
       "      <td>successful</td>\n",
       "      <td>food</td>\n",
       "      <td>Small Batch</td>\n",
       "      <td>99</td>\n",
       "      <td>1.3</td>\n",
       "      <td>9858.000000</td>\n",
       "      <td>7500.000000</td>\n",
       "      <td>US</td>\n",
       "      <td>USD</td>\n",
       "      <td>30</td>\n",
       "      <td>2018-01-12</td>\n",
       "      <td>2017-12-13</td>\n",
       "      <td>2017-12-12</td>\n",
       "      <td>1</td>\n",
       "      <td>Holly Weist</td>\n",
       "      <td>5</td>\n",
       "    </tr>\n",
       "    <tr>\n",
       "      <th>1647325451</th>\n",
       "      <td>1647325451</td>\n",
       "      <td>Code Switch</td>\n",
       "      <td>successful</td>\n",
       "      <td>film_and_video</td>\n",
       "      <td>Horror</td>\n",
       "      <td>34</td>\n",
       "      <td>1.5</td>\n",
       "      <td>4611.000000</td>\n",
       "      <td>3000.000000</td>\n",
       "      <td>US</td>\n",
       "      <td>USD</td>\n",
       "      <td>32</td>\n",
       "      <td>2018-01-12</td>\n",
       "      <td>2017-12-11</td>\n",
       "      <td>2017-11-10</td>\n",
       "      <td>0</td>\n",
       "      <td>Alba Roland</td>\n",
       "      <td>23</td>\n",
       "    </tr>\n",
       "    <tr>\n",
       "      <th>727157486</th>\n",
       "      <td>727157486</td>\n",
       "      <td>Rain Dog Farm</td>\n",
       "      <td>failed</td>\n",
       "      <td>food</td>\n",
       "      <td>Farms</td>\n",
       "      <td>49</td>\n",
       "      <td>0.3</td>\n",
       "      <td>4741.000000</td>\n",
       "      <td>18000.000000</td>\n",
       "      <td>US</td>\n",
       "      <td>USD</td>\n",
       "      <td>38</td>\n",
       "      <td>2018-01-12</td>\n",
       "      <td>2017-12-05</td>\n",
       "      <td>2017-11-28</td>\n",
       "      <td>1</td>\n",
       "      <td>Charlie Wainger</td>\n",
       "      <td>9</td>\n",
       "    </tr>\n",
       "    <tr>\n",
       "      <th>1756145145</th>\n",
       "      <td>1756145145</td>\n",
       "      <td>WANGTA: a novel</td>\n",
       "      <td>successful</td>\n",
       "      <td>publishing</td>\n",
       "      <td>Fiction</td>\n",
       "      <td>13</td>\n",
       "      <td>1.0</td>\n",
       "      <td>427.185132</td>\n",
       "      <td>427.185132</td>\n",
       "      <td>CA</td>\n",
       "      <td>CAD</td>\n",
       "      <td>21</td>\n",
       "      <td>2018-01-12</td>\n",
       "      <td>2017-12-22</td>\n",
       "      <td>2017-12-18</td>\n",
       "      <td>0</td>\n",
       "      <td>D. H. de Bruin</td>\n",
       "      <td>22</td>\n",
       "    </tr>\n",
       "  </tbody>\n",
       "</table>\n",
       "</div>"
      ],
      "text/plain": [
       "                    id                                     name       state  \\\n",
       "idx                                                                           \n",
       "1396766240  1396766240  Ripple Playing Cards - Printed by USPCC      failed   \n",
       "2065169465  2065169465                      Cotton-Top Pastries  successful   \n",
       "1647325451  1647325451                              Code Switch  successful   \n",
       "727157486    727157486                            Rain Dog Farm      failed   \n",
       "1756145145  1756145145                          WANGTA: a novel  successful   \n",
       "\n",
       "             category_main  category_name  backers_count  pct_goal_achieved  \\\n",
       "idx                                                                           \n",
       "1396766240           games  Playing Cards            131                0.3   \n",
       "2065169465            food    Small Batch             99                1.3   \n",
       "1647325451  film_and_video         Horror             34                1.5   \n",
       "727157486             food          Farms             49                0.3   \n",
       "1756145145      publishing        Fiction             13                1.0   \n",
       "\n",
       "            usd_pledged      usd_goal country currency  campaign_length  \\\n",
       "idx                                                                       \n",
       "1396766240  3387.000000   9999.000000      US      USD               38   \n",
       "2065169465  9858.000000   7500.000000      US      USD               30   \n",
       "1647325451  4611.000000   3000.000000      US      USD               32   \n",
       "727157486   4741.000000  18000.000000      US      USD               38   \n",
       "1756145145   427.185132    427.185132      CA      CAD               21   \n",
       "\n",
       "              deadline    launched     created  staff_pick     creator_name  \\\n",
       "idx                                                                           \n",
       "1396766240  2018-01-12  2017-12-05  2017-10-08           0    B.Y. Eidelman   \n",
       "2065169465  2018-01-12  2017-12-13  2017-12-12           1      Holly Weist   \n",
       "1647325451  2018-01-12  2017-12-11  2017-11-10           0      Alba Roland   \n",
       "727157486   2018-01-12  2017-12-05  2017-11-28           1  Charlie Wainger   \n",
       "1756145145  2018-01-12  2017-12-22  2017-12-18           0   D. H. de Bruin   \n",
       "\n",
       "            blurb_length  \n",
       "idx                       \n",
       "1396766240            16  \n",
       "2065169465             5  \n",
       "1647325451            23  \n",
       "727157486              9  \n",
       "1756145145            22  "
      ]
     },
     "execution_count": 5,
     "metadata": {},
     "output_type": "execute_result"
    }
   ],
   "source": [
    "df = pd.read_pickle('data/kickstarter_data_ds2.pkl')\n",
    "df['idx'] = df['id']\n",
    "df = df.set_index('idx')\n",
    "# df['state'] = df['state'].replace({'failed': 0, 'successful': 1})\n",
    "# df = pd.read_sql_query('''SELECT * FROM kickstarter_data_ds2''',engine)\n",
    "print(df.shape)\n",
    "# pd.read_sql_query('''SELECT state, main_category, main_category, currency, currency, deadline, launched, usd_goal_real, usd_pledged_real FROM kickstarter_data_ds2 LIMIT 5''',engine)\n",
    "print(df.columns)\n",
    "df.head()"
   ]
  },
  {
   "cell_type": "code",
   "execution_count": 6,
   "metadata": {},
   "outputs": [
    {
     "data": {
      "text/plain": [
       "(38401, 10)"
      ]
     },
     "execution_count": 6,
     "metadata": {},
     "output_type": "execute_result"
    }
   ],
   "source": [
    "start_date = datetime.datetime.strptime('2016-01-01', \"%Y-%m-%d\").date()\n",
    "\n",
    "df = df[df['launched'] >= start_date] # filter from start date to current\n",
    "df = df[['state','category_main','category_name','backers_count','usd_goal','country','currency','campaign_length',\n",
    "        'staff_pick','blurb_length']]\n",
    "df = df.dropna()\n",
    "\n",
    "df.shape"
   ]
  },
  {
   "cell_type": "code",
   "execution_count": 7,
   "metadata": {},
   "outputs": [
    {
     "data": {
      "text/plain": [
       "Index(['state', 'category_main', 'category_name', 'backers_count', 'usd_goal',\n",
       "       'country', 'currency', 'campaign_length', 'staff_pick', 'blurb_length'],\n",
       "      dtype='object')"
      ]
     },
     "execution_count": 7,
     "metadata": {},
     "output_type": "execute_result"
    }
   ],
   "source": [
    "df.columns"
   ]
  },
  {
   "cell_type": "code",
   "execution_count": 8,
   "metadata": {},
   "outputs": [
    {
     "name": "stdout",
     "output_type": "stream",
     "text": [
      "(38401, 198)\n",
      "Index(['state_successful', 'category_main_comics', 'category_main_crafts',\n",
      "       'category_main_dance', 'category_main_design', 'category_main_fashion',\n",
      "       'category_main_film_and_video', 'category_main_food',\n",
      "       'category_main_games', 'category_main_journalism',\n",
      "       ...\n",
      "       'state', 'category_main', 'category_name', 'backers_count', 'usd_goal',\n",
      "       'country', 'currency', 'campaign_length', 'staff_pick', 'blurb_length'],\n",
      "      dtype='object', length=198)\n",
      "<class 'pandas.core.frame.DataFrame'>\n",
      "Int64Index: 38401 entries, 1396766240 to 1094069811\n",
      "Columns: 198 entries, state_successful to blurb_length\n",
      "dtypes: float64(1), int64(4), object(5), uint8(188)\n",
      "memory usage: 11.4+ MB\n"
     ]
    }
   ],
   "source": [
    "df_dummies = pd.get_dummies(df[['state','category_main','category_name', 'country','currency']],drop_first=True)\n",
    "df = df_dummies.merge(df,how='inner',left_index=True, right_index=True)\n",
    "print(df.shape)\n",
    "print(df.columns)\n",
    "df.info()"
   ]
  },
  {
   "cell_type": "code",
   "execution_count": 9,
   "metadata": {},
   "outputs": [
    {
     "name": "stdout",
     "output_type": "stream",
     "text": [
      "(38401, 191)\n",
      "Index(['category_main_comics', 'category_main_crafts', 'category_main_dance',\n",
      "       'category_main_design', 'category_main_fashion',\n",
      "       'category_main_film_and_video', 'category_main_food',\n",
      "       'category_main_games', 'category_main_journalism',\n",
      "       'category_main_music',\n",
      "       ...\n",
      "       'currency_MXN', 'currency_NOK', 'currency_NZD', 'currency_SEK',\n",
      "       'currency_SGD', 'currency_USD', 'usd_goal', 'campaign_length',\n",
      "       'staff_pick', 'blurb_length'],\n",
      "      dtype='object', length=191)\n"
     ]
    },
    {
     "data": {
      "text/plain": [
       "(38401, 191)"
      ]
     },
     "execution_count": 9,
     "metadata": {},
     "output_type": "execute_result"
    }
   ],
   "source": [
    "# removing all variables that cannot be known before a campaign is launched, such as # backers and $ pledged\n",
    "df = df.dropna()\n",
    "df = df.drop(['state','category_main','category_name', 'backers_count', 'country', 'currency'], 1)\n",
    "df.to_csv('data/kickstarter_data_ds2_app.csv')\n",
    "X = df.drop(['state_successful'], 1)\n",
    "y = df['state_successful']\n",
    "\n",
    "print(X.shape)\n",
    "print(X.columns)\n",
    "# X.head()\n",
    "X.shape"
   ]
  },
  {
   "cell_type": "code",
   "execution_count": null,
   "metadata": {
    "collapsed": true
   },
   "outputs": [],
   "source": []
  },
  {
   "cell_type": "code",
   "execution_count": null,
   "metadata": {
    "collapsed": true
   },
   "outputs": [],
   "source": []
  }
 ],
 "metadata": {
  "kernelspec": {
   "display_name": "Python 3",
   "language": "python",
   "name": "python3"
  },
  "language_info": {
   "codemirror_mode": {
    "name": "ipython",
    "version": 3
   },
   "file_extension": ".py",
   "mimetype": "text/x-python",
   "name": "python",
   "nbconvert_exporter": "python",
   "pygments_lexer": "ipython3",
   "version": "3.5.4"
  }
 },
 "nbformat": 4,
 "nbformat_minor": 2
}
