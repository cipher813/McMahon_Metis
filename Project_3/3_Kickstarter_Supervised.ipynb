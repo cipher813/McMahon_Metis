{
 "cells": [
  {
   "cell_type": "code",
   "execution_count": 1,
   "metadata": {
    "collapsed": true
   },
   "outputs": [],
   "source": [
    "import pandas as pd\n",
    "import sqlalchemy\n",
    "from sqlalchemy import create_engine\n",
    "from flask_sqlalchemy import SQLAlchemy\n",
    "import os"
   ]
  },
  {
   "cell_type": "code",
   "execution_count": 2,
   "metadata": {
    "collapsed": true
   },
   "outputs": [],
   "source": [
    "# env variable at tensorflow1.4 per https://conda.io/docs/user-guide/tasks/manage-environments.html#saving-environment-variables\n",
    "# and https://vsupalov.com/flask-sqlalchemy-postgres/\n",
    "\n",
    "def get_env_variable(name):\n",
    "    try:\n",
    "        return os.environ[name]\n",
    "    except KeyError:\n",
    "        message = \"Expected environment variable '{}' not set.\".format(name)\n",
    "        raise Exception(message)\n",
    "\n",
    "# the values of those depend on your setup\n",
    "POSTGRES_URL = get_env_variable(\"POSTGRES_URL\")\n",
    "POSTGRES_USER = get_env_variable(\"POSTGRES_USER\")\n",
    "POSTGRES_PW = get_env_variable(\"POSTGRES_PW\")\n",
    "POSTGRES_DB = get_env_variable(\"POSTGRES_DB\")"
   ]
  },
  {
   "cell_type": "code",
   "execution_count": 3,
   "metadata": {
    "collapsed": true
   },
   "outputs": [],
   "source": [
    "DB_URL = 'postgresql+psycopg2://{user}:{pw}@{url}/{db}'.format(user=POSTGRES_USER,pw=POSTGRES_PW,url=POSTGRES_URL,db=POSTGRES_DB)\n",
    "\n",
    "# app.config['SQLALCHEMY_DATABASE_URI'] = DB_URL\n",
    "# app.config['SQLALCHEMY_TRACK_MODIFICATIONS'] = False # silence the deprecation warning\n",
    "\n",
    "# db = SQLAlchemy(app)"
   ]
  },
  {
   "cell_type": "code",
   "execution_count": 4,
   "metadata": {
    "collapsed": true
   },
   "outputs": [],
   "source": [
    "engine_var = DB_URL\n",
    "engine = create_engine(engine_var)"
   ]
  },
  {
   "cell_type": "code",
   "execution_count": 5,
   "metadata": {
    "collapsed": true
   },
   "outputs": [],
   "source": [
    "# TODO Fix SQL input/output; temp fix:\n",
    "df = pd.read_pickle('data/kickstarter_data.pkl')"
   ]
  },
  {
   "cell_type": "code",
   "execution_count": 6,
   "metadata": {},
   "outputs": [
    {
     "name": "stdout",
     "output_type": "stream",
     "text": [
      "(19291, 16)\n"
     ]
    },
    {
     "data": {
      "text/html": [
       "<div>\n",
       "<style scoped>\n",
       "    .dataframe tbody tr th:only-of-type {\n",
       "        vertical-align: middle;\n",
       "    }\n",
       "\n",
       "    .dataframe tbody tr th {\n",
       "        vertical-align: top;\n",
       "    }\n",
       "\n",
       "    .dataframe thead th {\n",
       "        text-align: right;\n",
       "    }\n",
       "</style>\n",
       "<table border=\"1\" class=\"dataframe\">\n",
       "  <thead>\n",
       "    <tr style=\"text-align: right;\">\n",
       "      <th></th>\n",
       "      <th>name</th>\n",
       "      <th>category</th>\n",
       "      <th>main_category</th>\n",
       "      <th>currency</th>\n",
       "      <th>deadline</th>\n",
       "      <th>goal</th>\n",
       "      <th>launched</th>\n",
       "      <th>pledged</th>\n",
       "      <th>state</th>\n",
       "      <th>backers</th>\n",
       "      <th>country</th>\n",
       "      <th>usd pledged</th>\n",
       "      <th>usd_pledged_real</th>\n",
       "      <th>usd_goal_real</th>\n",
       "      <th>campaign_length</th>\n",
       "      <th>pct_goal_achieved</th>\n",
       "    </tr>\n",
       "    <tr>\n",
       "      <th>ID</th>\n",
       "      <th></th>\n",
       "      <th></th>\n",
       "      <th></th>\n",
       "      <th></th>\n",
       "      <th></th>\n",
       "      <th></th>\n",
       "      <th></th>\n",
       "      <th></th>\n",
       "      <th></th>\n",
       "      <th></th>\n",
       "      <th></th>\n",
       "      <th></th>\n",
       "      <th></th>\n",
       "      <th></th>\n",
       "      <th></th>\n",
       "      <th></th>\n",
       "    </tr>\n",
       "  </thead>\n",
       "  <tbody>\n",
       "    <tr>\n",
       "      <th>1031685482</th>\n",
       "      <td>You Sparkle Inside: A Kids' Book + Commissions...</td>\n",
       "      <td>Children's Books</td>\n",
       "      <td>Publishing</td>\n",
       "      <td>USD</td>\n",
       "      <td>2018-01-02</td>\n",
       "      <td>2000.0</td>\n",
       "      <td>2017-12-06</td>\n",
       "      <td>6083.00</td>\n",
       "      <td>successful</td>\n",
       "      <td>133</td>\n",
       "      <td>US</td>\n",
       "      <td>1054.0</td>\n",
       "      <td>6083.00</td>\n",
       "      <td>2000.0</td>\n",
       "      <td>27 days</td>\n",
       "      <td>304.150000</td>\n",
       "    </tr>\n",
       "    <tr>\n",
       "      <th>1176736360</th>\n",
       "      <td>THE NEW BILLY WYLDER RECORD</td>\n",
       "      <td>Indie Rock</td>\n",
       "      <td>Music</td>\n",
       "      <td>USD</td>\n",
       "      <td>2018-01-02</td>\n",
       "      <td>10000.0</td>\n",
       "      <td>2017-11-30</td>\n",
       "      <td>11169.56</td>\n",
       "      <td>successful</td>\n",
       "      <td>177</td>\n",
       "      <td>US</td>\n",
       "      <td>650.0</td>\n",
       "      <td>11169.56</td>\n",
       "      <td>10000.0</td>\n",
       "      <td>33 days</td>\n",
       "      <td>111.695600</td>\n",
       "    </tr>\n",
       "    <tr>\n",
       "      <th>1894703097</th>\n",
       "      <td>Driftwood Holly ***The Venice Project***</td>\n",
       "      <td>Indie Rock</td>\n",
       "      <td>Music</td>\n",
       "      <td>EUR</td>\n",
       "      <td>2018-01-02</td>\n",
       "      <td>25000.0</td>\n",
       "      <td>2017-11-28</td>\n",
       "      <td>25417.20</td>\n",
       "      <td>successful</td>\n",
       "      <td>168</td>\n",
       "      <td>DE</td>\n",
       "      <td>0.0</td>\n",
       "      <td>30615.02</td>\n",
       "      <td>30112.5</td>\n",
       "      <td>35 days</td>\n",
       "      <td>101.668809</td>\n",
       "    </tr>\n",
       "    <tr>\n",
       "      <th>311863059</th>\n",
       "      <td>On a Limb's debut album</td>\n",
       "      <td>Jazz</td>\n",
       "      <td>Music</td>\n",
       "      <td>USD</td>\n",
       "      <td>2018-01-02</td>\n",
       "      <td>1000.0</td>\n",
       "      <td>2017-12-09</td>\n",
       "      <td>1743.00</td>\n",
       "      <td>successful</td>\n",
       "      <td>39</td>\n",
       "      <td>US</td>\n",
       "      <td>0.0</td>\n",
       "      <td>1743.00</td>\n",
       "      <td>1000.0</td>\n",
       "      <td>24 days</td>\n",
       "      <td>174.300000</td>\n",
       "    </tr>\n",
       "    <tr>\n",
       "      <th>2076121120</th>\n",
       "      <td>Briggs Barbecue Sauces</td>\n",
       "      <td>Small Batch</td>\n",
       "      <td>Food</td>\n",
       "      <td>USD</td>\n",
       "      <td>2018-01-02</td>\n",
       "      <td>200000.0</td>\n",
       "      <td>2017-11-03</td>\n",
       "      <td>1.00</td>\n",
       "      <td>failed</td>\n",
       "      <td>1</td>\n",
       "      <td>US</td>\n",
       "      <td>0.0</td>\n",
       "      <td>1.00</td>\n",
       "      <td>200000.0</td>\n",
       "      <td>60 days</td>\n",
       "      <td>0.000500</td>\n",
       "    </tr>\n",
       "  </tbody>\n",
       "</table>\n",
       "</div>"
      ],
      "text/plain": [
       "                                                         name  \\\n",
       "ID                                                              \n",
       "1031685482  You Sparkle Inside: A Kids' Book + Commissions...   \n",
       "1176736360                        THE NEW BILLY WYLDER RECORD   \n",
       "1894703097           Driftwood Holly ***The Venice Project***   \n",
       "311863059                             On a Limb's debut album   \n",
       "2076121120                             Briggs Barbecue Sauces   \n",
       "\n",
       "                    category main_category currency   deadline      goal  \\\n",
       "ID                                                                         \n",
       "1031685482  Children's Books    Publishing      USD 2018-01-02    2000.0   \n",
       "1176736360        Indie Rock         Music      USD 2018-01-02   10000.0   \n",
       "1894703097        Indie Rock         Music      EUR 2018-01-02   25000.0   \n",
       "311863059               Jazz         Music      USD 2018-01-02    1000.0   \n",
       "2076121120       Small Batch          Food      USD 2018-01-02  200000.0   \n",
       "\n",
       "             launched   pledged       state  backers country  usd pledged  \\\n",
       "ID                                                                          \n",
       "1031685482 2017-12-06   6083.00  successful      133      US       1054.0   \n",
       "1176736360 2017-11-30  11169.56  successful      177      US        650.0   \n",
       "1894703097 2017-11-28  25417.20  successful      168      DE          0.0   \n",
       "311863059  2017-12-09   1743.00  successful       39      US          0.0   \n",
       "2076121120 2017-11-03      1.00      failed        1      US          0.0   \n",
       "\n",
       "            usd_pledged_real  usd_goal_real campaign_length  pct_goal_achieved  \n",
       "ID                                                                              \n",
       "1031685482           6083.00         2000.0         27 days         304.150000  \n",
       "1176736360          11169.56        10000.0         33 days         111.695600  \n",
       "1894703097          30615.02        30112.5         35 days         101.668809  \n",
       "311863059            1743.00         1000.0         24 days         174.300000  \n",
       "2076121120              1.00       200000.0         60 days           0.000500  "
      ]
     },
     "execution_count": 6,
     "metadata": {},
     "output_type": "execute_result"
    }
   ],
   "source": [
    "print(df.shape)\n",
    "df.head()"
   ]
  },
  {
   "cell_type": "markdown",
   "metadata": {},
   "source": [
    "## KNN"
   ]
  },
  {
   "cell_type": "code",
   "execution_count": 16,
   "metadata": {},
   "outputs": [],
   "source": [
    "from sklearn.neighbors import KNeighborsClassifier\n",
    "from sklearn import metrics\n",
    "from sklearn.model_selection import train_test_split\n",
    "\n",
    "X = pd.get_dummies(df[['main_category','country','currency','usd_goal_real']])\n",
    "# X['launched'] = df['launched'].apply(lambda x: int(x))\n",
    "y = pd.get_dummies(df['state'])\n",
    "\n",
    "X_train, X_test, y_train, y_test = train_test_split(X, y, test_size=0.4, random_state=42)"
   ]
  },
  {
   "cell_type": "code",
   "execution_count": 17,
   "metadata": {},
   "outputs": [
    {
     "name": "stdout",
     "output_type": "stream",
     "text": [
      "KNN:1 Accuracy:0.5528054943630945\n",
      "KNN:2 Accuracy:0.3191654788130102\n",
      "KNN:3 Accuracy:0.5709472592976546\n",
      "KNN:4 Accuracy:0.43553194246468835\n",
      "KNN:5 Accuracy:0.5839056628223402\n",
      "KNN:6 Accuracy:0.4775171698846702\n",
      "KNN:7 Accuracy:0.5933652973953609\n",
      "KNN:8 Accuracy:0.49151224569133084\n",
      "KNN:9 Accuracy:0.5902552805494363\n",
      "KNN:10 Accuracy:0.5020085525463263\n"
     ]
    }
   ],
   "source": [
    "for i in range(1,11):\n",
    "    knn = KNeighborsClassifier(n_neighbors=i)\n",
    "    knn.fit(X_train, y_train)\n",
    "    y_pred = knn.predict(X_test)\n",
    "\n",
    "    print('KNN:{} Accuracy:{}'.format(i,metrics.accuracy_score(y_test, y_pred)))"
   ]
  },
  {
   "cell_type": "code",
   "execution_count": null,
   "metadata": {
    "collapsed": true
   },
   "outputs": [],
   "source": []
  },
  {
   "cell_type": "code",
   "execution_count": null,
   "metadata": {
    "collapsed": true
   },
   "outputs": [],
   "source": []
  },
  {
   "cell_type": "code",
   "execution_count": null,
   "metadata": {
    "collapsed": true
   },
   "outputs": [],
   "source": []
  },
  {
   "cell_type": "code",
   "execution_count": null,
   "metadata": {
    "collapsed": true
   },
   "outputs": [],
   "source": []
  },
  {
   "cell_type": "code",
   "execution_count": null,
   "metadata": {
    "collapsed": true
   },
   "outputs": [],
   "source": []
  },
  {
   "cell_type": "code",
   "execution_count": null,
   "metadata": {
    "collapsed": true
   },
   "outputs": [],
   "source": []
  },
  {
   "cell_type": "markdown",
   "metadata": {},
   "source": [
    "## Logistic Regression"
   ]
  },
  {
   "cell_type": "code",
   "execution_count": null,
   "metadata": {
    "collapsed": true
   },
   "outputs": [],
   "source": []
  },
  {
   "cell_type": "code",
   "execution_count": null,
   "metadata": {
    "collapsed": true
   },
   "outputs": [],
   "source": []
  },
  {
   "cell_type": "code",
   "execution_count": null,
   "metadata": {
    "collapsed": true
   },
   "outputs": [],
   "source": []
  },
  {
   "cell_type": "code",
   "execution_count": null,
   "metadata": {
    "collapsed": true
   },
   "outputs": [],
   "source": []
  },
  {
   "cell_type": "code",
   "execution_count": null,
   "metadata": {
    "collapsed": true
   },
   "outputs": [],
   "source": []
  },
  {
   "cell_type": "code",
   "execution_count": null,
   "metadata": {
    "collapsed": true
   },
   "outputs": [],
   "source": []
  },
  {
   "cell_type": "markdown",
   "metadata": {},
   "source": [
    "## SVM"
   ]
  },
  {
   "cell_type": "code",
   "execution_count": null,
   "metadata": {
    "collapsed": true
   },
   "outputs": [],
   "source": []
  },
  {
   "cell_type": "code",
   "execution_count": null,
   "metadata": {
    "collapsed": true
   },
   "outputs": [],
   "source": []
  },
  {
   "cell_type": "code",
   "execution_count": null,
   "metadata": {
    "collapsed": true
   },
   "outputs": [],
   "source": []
  },
  {
   "cell_type": "code",
   "execution_count": null,
   "metadata": {
    "collapsed": true
   },
   "outputs": [],
   "source": []
  },
  {
   "cell_type": "markdown",
   "metadata": {},
   "source": [
    "## Decision Trees"
   ]
  },
  {
   "cell_type": "code",
   "execution_count": null,
   "metadata": {
    "collapsed": true
   },
   "outputs": [],
   "source": []
  },
  {
   "cell_type": "code",
   "execution_count": null,
   "metadata": {
    "collapsed": true
   },
   "outputs": [],
   "source": []
  },
  {
   "cell_type": "code",
   "execution_count": null,
   "metadata": {
    "collapsed": true
   },
   "outputs": [],
   "source": []
  },
  {
   "cell_type": "code",
   "execution_count": null,
   "metadata": {
    "collapsed": true
   },
   "outputs": [],
   "source": []
  },
  {
   "cell_type": "code",
   "execution_count": null,
   "metadata": {
    "collapsed": true
   },
   "outputs": [],
   "source": []
  },
  {
   "cell_type": "markdown",
   "metadata": {},
   "source": [
    "## Random Forests"
   ]
  },
  {
   "cell_type": "code",
   "execution_count": null,
   "metadata": {
    "collapsed": true
   },
   "outputs": [],
   "source": []
  },
  {
   "cell_type": "code",
   "execution_count": null,
   "metadata": {
    "collapsed": true
   },
   "outputs": [],
   "source": []
  },
  {
   "cell_type": "code",
   "execution_count": null,
   "metadata": {
    "collapsed": true
   },
   "outputs": [],
   "source": []
  },
  {
   "cell_type": "code",
   "execution_count": null,
   "metadata": {
    "collapsed": true
   },
   "outputs": [],
   "source": []
  },
  {
   "cell_type": "code",
   "execution_count": null,
   "metadata": {
    "collapsed": true
   },
   "outputs": [],
   "source": []
  },
  {
   "cell_type": "code",
   "execution_count": null,
   "metadata": {
    "collapsed": true
   },
   "outputs": [],
   "source": []
  }
 ],
 "metadata": {
  "kernelspec": {
   "display_name": "Python 3",
   "language": "python",
   "name": "python3"
  },
  "language_info": {
   "codemirror_mode": {
    "name": "ipython",
    "version": 3
   },
   "file_extension": ".py",
   "mimetype": "text/x-python",
   "name": "python",
   "nbconvert_exporter": "python",
   "pygments_lexer": "ipython3",
   "version": "3.5.4"
  }
 },
 "nbformat": 4,
 "nbformat_minor": 2
}
