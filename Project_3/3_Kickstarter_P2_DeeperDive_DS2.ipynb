{
 "cells": [
  {
   "cell_type": "markdown",
   "metadata": {},
   "source": [
    "# Kickstarter: Classification\n",
    "Tests Include:\n",
    "-KNN\n",
    "-Logistic Regression\n",
    "-Decision Trees\n",
    "-Random Forest\n",
    "-SVM\n",
    "-Gradient Boosting"
   ]
  },
  {
   "cell_type": "code",
   "execution_count": 1,
   "metadata": {},
   "outputs": [
    {
     "name": "stderr",
     "output_type": "stream",
     "text": [
      "/Users/brianmcmahon/anaconda3/envs/tensorflow1.4/lib/python3.5/site-packages/sklearn/cross_validation.py:41: DeprecationWarning: This module was deprecated in version 0.18 in favor of the model_selection module into which all the refactored classes and functions are moved. Also note that the interface of the new CV iterators are different from that of this module. This module will be removed in 0.20.\n",
      "  \"This module will be removed in 0.20.\", DeprecationWarning)\n",
      "/Users/brianmcmahon/anaconda3/envs/tensorflow1.4/lib/python3.5/site-packages/sklearn/learning_curve.py:22: DeprecationWarning: This module was deprecated in version 0.18 in favor of the model_selection module into which all the functions are moved. This module will be removed in 0.20\n",
      "  DeprecationWarning)\n"
     ]
    }
   ],
   "source": [
    "import pandas as pd\n",
    "import numpy as np\n",
    "import matplotlib.pyplot as plt\n",
    "import matplotlib.cm as cm\n",
    "import seaborn as sns\n",
    "%matplotlib inline\n",
    "\n",
    "import sqlalchemy\n",
    "from sqlalchemy import create_engine\n",
    "from flask_sqlalchemy import SQLAlchemy\n",
    "\n",
    "from sklearn import naive_bayes\n",
    "from sklearn.naive_bayes import GaussianNB, BernoulliNB,MultinomialNB\n",
    "from sklearn.neighbors import KNeighborsClassifier\n",
    "from sklearn.linear_model import LogisticRegression, LogisticRegressionCV\n",
    "from sklearn.svm import SVC, LinearSVC\n",
    "from sklearn.tree import DecisionTreeClassifier\n",
    "from sklearn.ensemble import RandomForestClassifier, RandomForestRegressor, RandomTreesEmbedding\n",
    "from sklearn.ensemble import GradientBoostingClassifier, AdaBoostClassifier\n",
    "from sklearn.metrics import accuracy_score, classification_report,confusion_matrix\n",
    "from sklearn.metrics import precision_score, recall_score, f1_score, roc_curve, roc_auc_score\n",
    "from sklearn.metrics import average_precision_score, precision_recall_curve, auc\n",
    "from sklearn.learning_curve import learning_curve\n",
    "from sklearn.cross_validation import train_test_split, cross_val_predict\n",
    "from sklearn.model_selection import GridSearchCV, cross_val_score, KFold\n",
    "from sklearn.preprocessing import label_binarize, scale, StandardScaler\n",
    "from sklearn.multiclass import OneVsRestClassifier\n",
    "from sklearn.pipeline import make_pipeline\n",
    "\n",
    "from sklearn.datasets import make_classification\n",
    "from sklearn.linear_model import LogisticRegression\n",
    "from sklearn.preprocessing import OneHotEncoder\n",
    "\n",
    "from xgboost import XGBClassifier\n",
    "\n",
    "import datetime\n",
    "import warnings\n",
    "import os\n",
    "\n",
    "warnings.filterwarnings(\"ignore\") #, category=DeprecationWarning)"
   ]
  },
  {
   "cell_type": "code",
   "execution_count": 2,
   "metadata": {
    "collapsed": true
   },
   "outputs": [],
   "source": [
    "# env variable at tensorflow1.4 per https://conda.io/docs/user-guide/tasks/manage-environments.html#saving-environment-variables\n",
    "# and https://vsupalov.com/flask-sqlalchemy-postgres/\n",
    "\n",
    "def get_env_variable(name):\n",
    "    try:\n",
    "        return os.environ[name]\n",
    "    except KeyError:\n",
    "        message = \"Expected environment variable '{}' not set.\".format(name)\n",
    "        raise Exception(message)\n",
    "\n",
    "# the values of those depend on your setup\n",
    "POSTGRES_URL = get_env_variable(\"POSTGRES_URL\")\n",
    "POSTGRES_USER = get_env_variable(\"POSTGRES_USER\")\n",
    "POSTGRES_PW = get_env_variable(\"POSTGRES_PW\")\n",
    "POSTGRES_DB = get_env_variable(\"POSTGRES_DB\")"
   ]
  },
  {
   "cell_type": "code",
   "execution_count": 3,
   "metadata": {
    "collapsed": true
   },
   "outputs": [],
   "source": [
    "DB_URL = 'postgresql+psycopg2://{user}:{pw}@{url}/{db}'.format(user=POSTGRES_USER,pw=POSTGRES_PW,url=POSTGRES_URL,db=POSTGRES_DB)"
   ]
  },
  {
   "cell_type": "code",
   "execution_count": 4,
   "metadata": {
    "collapsed": true
   },
   "outputs": [],
   "source": [
    "engine_var = DB_URL\n",
    "engine = create_engine(engine_var)"
   ]
  },
  {
   "cell_type": "code",
   "execution_count": 5,
   "metadata": {},
   "outputs": [
    {
     "name": "stdout",
     "output_type": "stream",
     "text": [
      "(163425, 18)\n",
      "Index(['id', 'name', 'state', 'category_main', 'category_name',\n",
      "       'backers_count', 'pct_goal_achieved', 'usd_pledged', 'usd_goal',\n",
      "       'country', 'currency', 'campaign_length', 'deadline', 'launched',\n",
      "       'created', 'staff_pick', 'creator_name', 'blurb_length'],\n",
      "      dtype='object')\n"
     ]
    },
    {
     "data": {
      "text/html": [
       "<div>\n",
       "<style scoped>\n",
       "    .dataframe tbody tr th:only-of-type {\n",
       "        vertical-align: middle;\n",
       "    }\n",
       "\n",
       "    .dataframe tbody tr th {\n",
       "        vertical-align: top;\n",
       "    }\n",
       "\n",
       "    .dataframe thead th {\n",
       "        text-align: right;\n",
       "    }\n",
       "</style>\n",
       "<table border=\"1\" class=\"dataframe\">\n",
       "  <thead>\n",
       "    <tr style=\"text-align: right;\">\n",
       "      <th></th>\n",
       "      <th>id</th>\n",
       "      <th>name</th>\n",
       "      <th>state</th>\n",
       "      <th>category_main</th>\n",
       "      <th>category_name</th>\n",
       "      <th>backers_count</th>\n",
       "      <th>pct_goal_achieved</th>\n",
       "      <th>usd_pledged</th>\n",
       "      <th>usd_goal</th>\n",
       "      <th>country</th>\n",
       "      <th>currency</th>\n",
       "      <th>campaign_length</th>\n",
       "      <th>deadline</th>\n",
       "      <th>launched</th>\n",
       "      <th>created</th>\n",
       "      <th>staff_pick</th>\n",
       "      <th>creator_name</th>\n",
       "      <th>blurb_length</th>\n",
       "    </tr>\n",
       "    <tr>\n",
       "      <th>idx</th>\n",
       "      <th></th>\n",
       "      <th></th>\n",
       "      <th></th>\n",
       "      <th></th>\n",
       "      <th></th>\n",
       "      <th></th>\n",
       "      <th></th>\n",
       "      <th></th>\n",
       "      <th></th>\n",
       "      <th></th>\n",
       "      <th></th>\n",
       "      <th></th>\n",
       "      <th></th>\n",
       "      <th></th>\n",
       "      <th></th>\n",
       "      <th></th>\n",
       "      <th></th>\n",
       "      <th></th>\n",
       "    </tr>\n",
       "  </thead>\n",
       "  <tbody>\n",
       "    <tr>\n",
       "      <th>1396766240</th>\n",
       "      <td>1396766240</td>\n",
       "      <td>Ripple Playing Cards - Printed by USPCC</td>\n",
       "      <td>failed</td>\n",
       "      <td>games</td>\n",
       "      <td>Playing Cards</td>\n",
       "      <td>131</td>\n",
       "      <td>0.3</td>\n",
       "      <td>3387.000000</td>\n",
       "      <td>9999.000000</td>\n",
       "      <td>US</td>\n",
       "      <td>USD</td>\n",
       "      <td>38</td>\n",
       "      <td>2018-01-12</td>\n",
       "      <td>2017-12-05</td>\n",
       "      <td>2017-10-08</td>\n",
       "      <td>0</td>\n",
       "      <td>B.Y. Eidelman</td>\n",
       "      <td>16</td>\n",
       "    </tr>\n",
       "    <tr>\n",
       "      <th>2065169465</th>\n",
       "      <td>2065169465</td>\n",
       "      <td>Cotton-Top Pastries</td>\n",
       "      <td>successful</td>\n",
       "      <td>food</td>\n",
       "      <td>Small Batch</td>\n",
       "      <td>99</td>\n",
       "      <td>1.3</td>\n",
       "      <td>9858.000000</td>\n",
       "      <td>7500.000000</td>\n",
       "      <td>US</td>\n",
       "      <td>USD</td>\n",
       "      <td>30</td>\n",
       "      <td>2018-01-12</td>\n",
       "      <td>2017-12-13</td>\n",
       "      <td>2017-12-12</td>\n",
       "      <td>1</td>\n",
       "      <td>Holly Weist</td>\n",
       "      <td>5</td>\n",
       "    </tr>\n",
       "    <tr>\n",
       "      <th>1647325451</th>\n",
       "      <td>1647325451</td>\n",
       "      <td>Code Switch</td>\n",
       "      <td>successful</td>\n",
       "      <td>film_and_video</td>\n",
       "      <td>Horror</td>\n",
       "      <td>34</td>\n",
       "      <td>1.5</td>\n",
       "      <td>4611.000000</td>\n",
       "      <td>3000.000000</td>\n",
       "      <td>US</td>\n",
       "      <td>USD</td>\n",
       "      <td>32</td>\n",
       "      <td>2018-01-12</td>\n",
       "      <td>2017-12-11</td>\n",
       "      <td>2017-11-10</td>\n",
       "      <td>0</td>\n",
       "      <td>Alba Roland</td>\n",
       "      <td>23</td>\n",
       "    </tr>\n",
       "    <tr>\n",
       "      <th>727157486</th>\n",
       "      <td>727157486</td>\n",
       "      <td>Rain Dog Farm</td>\n",
       "      <td>failed</td>\n",
       "      <td>food</td>\n",
       "      <td>Farms</td>\n",
       "      <td>49</td>\n",
       "      <td>0.3</td>\n",
       "      <td>4741.000000</td>\n",
       "      <td>18000.000000</td>\n",
       "      <td>US</td>\n",
       "      <td>USD</td>\n",
       "      <td>38</td>\n",
       "      <td>2018-01-12</td>\n",
       "      <td>2017-12-05</td>\n",
       "      <td>2017-11-28</td>\n",
       "      <td>1</td>\n",
       "      <td>Charlie Wainger</td>\n",
       "      <td>9</td>\n",
       "    </tr>\n",
       "    <tr>\n",
       "      <th>1756145145</th>\n",
       "      <td>1756145145</td>\n",
       "      <td>WANGTA: a novel</td>\n",
       "      <td>successful</td>\n",
       "      <td>publishing</td>\n",
       "      <td>Fiction</td>\n",
       "      <td>13</td>\n",
       "      <td>1.0</td>\n",
       "      <td>427.185132</td>\n",
       "      <td>427.185132</td>\n",
       "      <td>CA</td>\n",
       "      <td>CAD</td>\n",
       "      <td>21</td>\n",
       "      <td>2018-01-12</td>\n",
       "      <td>2017-12-22</td>\n",
       "      <td>2017-12-18</td>\n",
       "      <td>0</td>\n",
       "      <td>D. H. de Bruin</td>\n",
       "      <td>22</td>\n",
       "    </tr>\n",
       "  </tbody>\n",
       "</table>\n",
       "</div>"
      ],
      "text/plain": [
       "                    id                                     name       state  \\\n",
       "idx                                                                           \n",
       "1396766240  1396766240  Ripple Playing Cards - Printed by USPCC      failed   \n",
       "2065169465  2065169465                      Cotton-Top Pastries  successful   \n",
       "1647325451  1647325451                              Code Switch  successful   \n",
       "727157486    727157486                            Rain Dog Farm      failed   \n",
       "1756145145  1756145145                          WANGTA: a novel  successful   \n",
       "\n",
       "             category_main  category_name  backers_count  pct_goal_achieved  \\\n",
       "idx                                                                           \n",
       "1396766240           games  Playing Cards            131                0.3   \n",
       "2065169465            food    Small Batch             99                1.3   \n",
       "1647325451  film_and_video         Horror             34                1.5   \n",
       "727157486             food          Farms             49                0.3   \n",
       "1756145145      publishing        Fiction             13                1.0   \n",
       "\n",
       "            usd_pledged      usd_goal country currency  campaign_length  \\\n",
       "idx                                                                       \n",
       "1396766240  3387.000000   9999.000000      US      USD               38   \n",
       "2065169465  9858.000000   7500.000000      US      USD               30   \n",
       "1647325451  4611.000000   3000.000000      US      USD               32   \n",
       "727157486   4741.000000  18000.000000      US      USD               38   \n",
       "1756145145   427.185132    427.185132      CA      CAD               21   \n",
       "\n",
       "              deadline    launched     created  staff_pick     creator_name  \\\n",
       "idx                                                                           \n",
       "1396766240  2018-01-12  2017-12-05  2017-10-08           0    B.Y. Eidelman   \n",
       "2065169465  2018-01-12  2017-12-13  2017-12-12           1      Holly Weist   \n",
       "1647325451  2018-01-12  2017-12-11  2017-11-10           0      Alba Roland   \n",
       "727157486   2018-01-12  2017-12-05  2017-11-28           1  Charlie Wainger   \n",
       "1756145145  2018-01-12  2017-12-22  2017-12-18           0   D. H. de Bruin   \n",
       "\n",
       "            blurb_length  \n",
       "idx                       \n",
       "1396766240            16  \n",
       "2065169465             5  \n",
       "1647325451            23  \n",
       "727157486              9  \n",
       "1756145145            22  "
      ]
     },
     "execution_count": 5,
     "metadata": {},
     "output_type": "execute_result"
    }
   ],
   "source": [
    "df = pd.read_pickle('data/kickstarter_data_ds2.pkl')\n",
    "df['idx'] = df['id']\n",
    "df = df.set_index('idx')\n",
    "# df['state'] = df['state'].replace({'failed': 0, 'successful': 1})\n",
    "# df = pd.read_sql_query('''SELECT * FROM kickstarter_data_ds2''',engine)\n",
    "print(df.shape)\n",
    "# pd.read_sql_query('''SELECT state, main_category, main_category, currency, currency, deadline, launched, usd_goal_real, usd_pledged_real FROM kickstarter_data_ds2 LIMIT 5''',engine)\n",
    "print(df.columns)\n",
    "df.head()"
   ]
  },
  {
   "cell_type": "code",
   "execution_count": 6,
   "metadata": {},
   "outputs": [
    {
     "data": {
      "text/plain": [
       "(38401, 10)"
      ]
     },
     "execution_count": 6,
     "metadata": {},
     "output_type": "execute_result"
    }
   ],
   "source": [
    "start_date = datetime.datetime.strptime('2016-01-01', \"%Y-%m-%d\").date()\n",
    "\n",
    "df = df[df['launched'] >= start_date] # filter from start date to current\n",
    "df = df[['state','category_main','category_name','backers_count','usd_goal','country','currency','campaign_length',\n",
    "        'staff_pick','blurb_length']]\n",
    "df = df.dropna()\n",
    "\n",
    "df.shape"
   ]
  },
  {
   "cell_type": "code",
   "execution_count": 7,
   "metadata": {},
   "outputs": [
    {
     "data": {
      "text/plain": [
       "Index(['state', 'category_main', 'category_name', 'backers_count', 'usd_goal',\n",
       "       'country', 'currency', 'campaign_length', 'staff_pick', 'blurb_length'],\n",
       "      dtype='object')"
      ]
     },
     "execution_count": 7,
     "metadata": {},
     "output_type": "execute_result"
    }
   ],
   "source": [
    "df.columns"
   ]
  },
  {
   "cell_type": "code",
   "execution_count": 8,
   "metadata": {},
   "outputs": [
    {
     "name": "stdout",
     "output_type": "stream",
     "text": [
      "(38401, 198)\n",
      "Index(['state_successful', 'category_main_comics', 'category_main_crafts',\n",
      "       'category_main_dance', 'category_main_design', 'category_main_fashion',\n",
      "       'category_main_film_and_video', 'category_main_food',\n",
      "       'category_main_games', 'category_main_journalism',\n",
      "       ...\n",
      "       'state', 'category_main', 'category_name', 'backers_count', 'usd_goal',\n",
      "       'country', 'currency', 'campaign_length', 'staff_pick', 'blurb_length'],\n",
      "      dtype='object', length=198)\n",
      "<class 'pandas.core.frame.DataFrame'>\n",
      "Int64Index: 38401 entries, 1396766240 to 1094069811\n",
      "Columns: 198 entries, state_successful to blurb_length\n",
      "dtypes: float64(1), int64(4), object(5), uint8(188)\n",
      "memory usage: 11.4+ MB\n"
     ]
    }
   ],
   "source": [
    "df_dummies = pd.get_dummies(df[['state','category_main','category_name', 'country','currency']],drop_first=True)\n",
    "df = df_dummies.merge(df,how='inner',left_index=True, right_index=True)\n",
    "print(df.shape)\n",
    "print(df.columns)\n",
    "df.info()"
   ]
  },
  {
   "cell_type": "code",
   "execution_count": 9,
   "metadata": {},
   "outputs": [
    {
     "name": "stdout",
     "output_type": "stream",
     "text": [
      "(38401, 191)\n",
      "Index(['category_main_comics', 'category_main_crafts', 'category_main_dance',\n",
      "       'category_main_design', 'category_main_fashion',\n",
      "       'category_main_film_and_video', 'category_main_food',\n",
      "       'category_main_games', 'category_main_journalism',\n",
      "       'category_main_music',\n",
      "       ...\n",
      "       'currency_MXN', 'currency_NOK', 'currency_NZD', 'currency_SEK',\n",
      "       'currency_SGD', 'currency_USD', 'usd_goal', 'campaign_length',\n",
      "       'staff_pick', 'blurb_length'],\n",
      "      dtype='object', length=191)\n"
     ]
    },
    {
     "data": {
      "text/plain": [
       "(38401, 191)"
      ]
     },
     "execution_count": 9,
     "metadata": {},
     "output_type": "execute_result"
    }
   ],
   "source": [
    "# removing all variables that cannot be known before a campaign is launched, such as # backers and $ pledged\n",
    "df = df.dropna()\n",
    "df = df.drop(['state','category_main','category_name', 'backers_count', 'country', 'currency'], 1)\n",
    "df.to_csv('data/kickstarter_data_ds2_app.csv')\n",
    "X = df.drop(['state_successful'], 1)\n",
    "y = df['state_successful']\n",
    "\n",
    "print(X.shape)\n",
    "print(X.columns)\n",
    "# X.head()\n",
    "X.shape"
   ]
  },
  {
   "cell_type": "markdown",
   "metadata": {},
   "source": [
    "## Assumptions"
   ]
  },
  {
   "cell_type": "code",
   "execution_count": 10,
   "metadata": {},
   "outputs": [],
   "source": [
    "results_dict = {}\n",
    "\n",
    "def plot_results(classifier,X,y, test_size=0.3, standardize='y'): # add standardize as input\n",
    "    X_train, X_test, y_train, y_test = train_test_split(X, y, stratify=y, test_size=test_size, random_state=42)\n",
    "    if standardize == 'y':\n",
    "        scaler = StandardScaler().fit(X_train)\n",
    "        X_train_s = scaler.transform(X_train)\n",
    "        X_test_s = scaler.transform(X_test)\n",
    "    model = classifier.fit(X_train, y_train)\n",
    "        \n",
    "    # calculate and print accuracy score\n",
    "    train_acc=model.score(X_train, y_train)\n",
    "    test_acc=model.score(X_test,y_test)\n",
    "    \n",
    "    # calculate ROC\n",
    "    y_score=model.predict_proba(X_test)[:,1]\n",
    "    fpr, tpr,_ = roc_curve(y_test, y_score)\n",
    "    roc_auc = auc(fpr, tpr)\n",
    "    \n",
    "    # calculate confusion matrix\n",
    "    y_true = y_test\n",
    "    y_pred = model.predict(X_test)\n",
    "    conf = confusion_matrix(y_true, y_pred, labels=[1,0])\n",
    "    print(conf)\n",
    "\n",
    "    # Plots\n",
    "    fig,ax = plt.subplots(1,2,figsize=(10,5))\n",
    "    # Confusion Matrix\n",
    "    ax = plt.subplot(121)\n",
    "\n",
    "    plt.imshow(conf, interpolation='nearest',cmap=plt.cm.YlGn)\n",
    "\n",
    "    plt.title(\"Confusion Matrix\",fontweight='bold',fontsize=15)\n",
    "    plt.text(0,0,conf[0][0],fontsize=18,fontweight='bold',color='orange',ha='center')\n",
    "    plt.text(1,0,conf[0][1],fontsize=18,fontweight='bold',color='orange',ha='center')\n",
    "    plt.text(0,1,conf[1][0],fontsize=18,fontweight='bold',color='orange',ha='center')\n",
    "    plt.text(1,1,conf[1][1],fontsize=18,fontweight='bold',color='orange',ha='center')\n",
    "    ax.set_xlabel(\"Predicted\", fontweight='bold',color='k',fontsize=12)\n",
    "    ax.set_xticks([0,1])\n",
    "    ax.set_xticklabels(['Success','Fail'],fontsize=12)\n",
    "    ax.set_ylabel(\"Actual\",fontweight='bold',color='k',fontsize=12)\n",
    "    ax.set_yticks([0,1])\n",
    "    ax.set_yticklabels(['Success','Fail'],rotation=90, fontsize=12)\n",
    "    plt.tight_layout()\n",
    "\n",
    "    # ROC Curve\n",
    "    ax = plt.subplot(122)\n",
    "    plt.title(\"ROC Curve\",fontweight='bold',fontsize=15)\n",
    "    plt.plot([0,1],[0,1],'k:')\n",
    "    plt.plot(fpr,tpr,color='g',label='AUC: {}%'.format(round(100*roc_auc_score(y_test,y_pred),2)))\n",
    "    plt.xlabel('FPR',fontweight='bold',fontsize=12)\n",
    "    plt.ylabel('TPR',fontweight='bold',fontsize=12)\n",
    "    plt.axis('scaled')\n",
    "    plt.tight_layout()\n",
    "    plt.legend(loc='lower right')\n",
    "#     results_dict[classifier] = [train_acc,test_acc, roc_auc, classification_report(y_test, model.predict(X_test))]\n",
    "    \n",
    "    print(\"Training Data Accuracy: %0.2f\" %(train_acc))\n",
    "    print(\"Test Data Accuracy:     %0.2f\" %(test_acc))\n",
    "#     print(\"AUC:     %0.2f\" %(roc_auc_score(y_test,y_pred)))\n",
    "    print(classification_report(y_test, model.predict(X_test)))"
   ]
  },
  {
   "cell_type": "code",
   "execution_count": 11,
   "metadata": {},
   "outputs": [
    {
     "name": "stdout",
     "output_type": "stream",
     "text": [
      "[[4632 1688]\n",
      " [1158 4043]]\n",
      "Training Data Accuracy: 0.75\n",
      "Test Data Accuracy:     0.75\n",
      "             precision    recall  f1-score   support\n",
      "\n",
      "          0       0.71      0.78      0.74      5201\n",
      "          1       0.80      0.73      0.76      6320\n",
      "\n",
      "avg / total       0.76      0.75      0.75     11521\n",
      "\n"
     ]
    },
    {
     "data": {
      "image/png": "[encoded data removed]",
      "text/plain": [
       "<matplotlib.figure.Figure at 0x1094eb5c0>"
      ]
     },
     "metadata": {},
     "output_type": "display_data"
    }
   ],
   "source": [
    "model = LogisticRegression(C=0.1, penalty='l1')\n",
    "plot_results(model,X,y,test_size=0.3)"
   ]
  },
  {
   "cell_type": "code",
   "execution_count": 12,
   "metadata": {},
   "outputs": [],
   "source": [
    "# df = pd.DataFrame(results_dict)\n",
    "# df"
   ]
  },
  {
   "cell_type": "code",
   "execution_count": 13,
   "metadata": {},
   "outputs": [
    {
     "name": "stdout",
     "output_type": "stream",
     "text": [
      "[[4888 1432]\n",
      " [1140 4061]]\n",
      "Training Data Accuracy: 0.79\n",
      "Test Data Accuracy:     0.78\n",
      "             precision    recall  f1-score   support\n",
      "\n",
      "          0       0.74      0.78      0.76      5201\n",
      "          1       0.81      0.77      0.79      6320\n",
      "\n",
      "avg / total       0.78      0.78      0.78     11521\n",
      "\n"
     ]
    },
    {
     "data": {
      "image/png": "[encoded data removed]",
      "text/plain": [
       "<matplotlib.figure.Figure at 0x1a110051d0>"
      ]
     },
     "metadata": {},
     "output_type": "display_data"
    }
   ],
   "source": [
    "model = GradientBoostingClassifier(n_estimators=500)\n",
    "plot_results(model,X,y,test_size=0.3)"
   ]
  },
  {
   "cell_type": "code",
   "execution_count": 14,
   "metadata": {},
   "outputs": [
    {
     "name": "stdout",
     "output_type": "stream",
     "text": [
      "[[4909 1411]\n",
      " [1139 4062]]\n",
      "Training Data Accuracy: 0.80\n",
      "Test Data Accuracy:     0.78\n",
      "             precision    recall  f1-score   support\n",
      "\n",
      "          0       0.74      0.78      0.76      5201\n",
      "          1       0.81      0.78      0.79      6320\n",
      "\n",
      "avg / total       0.78      0.78      0.78     11521\n",
      "\n"
     ]
    },
    {
     "data": {
      "image/png": "[encoded data removed]",
      "text/plain": [
       "<matplotlib.figure.Figure at 0x1a11019400>"
      ]
     },
     "metadata": {},
     "output_type": "display_data"
    }
   ],
   "source": [
    "model = XGBClassifier(base_score=0.5, colsample_bylevel=1, colsample_bytree=0.7,\n",
    "                       gamma=0, learning_rate=0.05, max_delta_step=0, max_depth=6,\n",
    "                       min_child_weight=11, missing=-999, n_estimators=500, nthread=4,\n",
    "                       objective='reg:linear', reg_alpha=0, reg_lambda=1,\n",
    "                       scale_pos_weight=1, seed=0, silent=1, subsample=0.8)\n",
    "plot_results(model,X,y,test_size=0.3)"
   ]
  },
  {
   "cell_type": "code",
   "execution_count": null,
   "metadata": {
    "collapsed": true
   },
   "outputs": [],
   "source": []
  },
  {
   "cell_type": "code",
   "execution_count": 15,
   "metadata": {},
   "outputs": [
    {
     "name": "stdout",
     "output_type": "stream",
     "text": [
      "(26880, 191) (26880,)\n",
      "(11521, 191) (11521,)\n"
     ]
    }
   ],
   "source": [
    "X_train, X_test, y_train, y_test = train_test_split(X, y, test_size=0.3,random_state=42, stratify=y)\n",
    "\n",
    "k_range = list(range(1, 101))\n",
    "print(X_train.shape, y_train.shape)\n",
    "print(X_test.shape,y_test.shape)"
   ]
  },
  {
   "cell_type": "code",
   "execution_count": 16,
   "metadata": {
    "collapsed": true
   },
   "outputs": [],
   "source": [
    "# https://elitedatascience.com/python-machine-learning-tutorial-scikit-learn\n",
    "# scaler = StandardScaler().fit(X_train)\n",
    "# X_train_s = scaler.transform(X_train)\n",
    "# X_test_s = scaler.transform(X_test)\n",
    "# print(X_train_s.mean(axis=0))\n",
    "# print(X_train_s.std(axis=0))\n",
    "\n",
    "# X_combined_s = np.vstack((X_train_s, X_test_s))\n",
    "# y_combined = np.hstack((y_train, y_test))"
   ]
  },
  {
   "cell_type": "markdown",
   "metadata": {},
   "source": [
    "## Phase 2: Deeper Dive: Logistic Regression, Naive Bayes, Random Forests?"
   ]
  },
  {
   "cell_type": "code",
   "execution_count": 18,
   "metadata": {},
   "outputs": [
    {
     "name": "stdout",
     "output_type": "stream",
     "text": [
      "GradientBoostingClassifier(criterion='friedman_mse', init=None,\n",
      "              learning_rate=0.1, loss='deviance', max_depth=3,\n",
      "              max_features=None, max_leaf_nodes=None,\n",
      "              min_impurity_decrease=0.0, min_impurity_split=None,\n",
      "              min_samples_leaf=1, min_samples_split=2,\n",
      "              min_weight_fraction_leaf=0.0, n_estimators=500,\n",
      "              presort='auto', random_state=None, subsample=1.0, verbose=0,\n",
      "              warm_start=False)\n",
      "\t==============================\n",
      "\tAccuracy: 0.776738130371\n",
      "\tAUC: 0.777095324901\n",
      "\n",
      "\n",
      "             precision    recall  f1-score   support\n",
      "\n",
      "          0       0.74      0.78      0.76      5201\n",
      "          1       0.81      0.77      0.79      6320\n",
      "\n",
      "avg / total       0.78      0.78      0.78     11521\n",
      "\n",
      "[[4061 1140]\n",
      " [1432 4888]]\n",
      "XGBClassifier(base_score=0.5, colsample_bylevel=1, colsample_bytree=0.7,\n",
      "       gamma=0, learning_rate=0.05, max_delta_step=0, max_depth=6,\n",
      "       min_child_weight=11, missing=-999, n_estimators=500, nthread=4,\n",
      "       objective='reg:linear', reg_alpha=0, reg_lambda=1,\n",
      "       scale_pos_weight=1, seed=0, silent=1, subsample=0.8)\n",
      "\t==============================\n",
      "\tAccuracy: 0.778665046437\n",
      "\tAUC: 0.778872079736\n",
      "\n",
      "\n",
      "             precision    recall  f1-score   support\n",
      "\n",
      "          0       0.74      0.78      0.76      5201\n",
      "          1       0.81      0.78      0.79      6320\n",
      "\n",
      "avg / total       0.78      0.78      0.78     11521\n",
      "\n",
      "[[4062 1139]\n",
      " [1411 4909]]\n",
      "LogisticRegression(C=0.1, class_weight=None, dual=False, fit_intercept=True,\n",
      "          intercept_scaling=1, max_iter=100, multi_class='ovr', n_jobs=1,\n",
      "          penalty='l1', random_state=None, solver='liblinear', tol=0.0001,\n",
      "          verbose=0, warm_start=False)\n",
      "\t==============================\n",
      "\tAccuracy: 0.753771374013\n",
      "\tAUC: 0.755613690405\n",
      "\n",
      "\n",
      "             precision    recall  f1-score   support\n",
      "\n",
      "          0       0.71      0.77      0.74      5201\n",
      "          1       0.79      0.74      0.77      6320\n",
      "\n",
      "avg / total       0.76      0.75      0.75     11521\n",
      "\n",
      "[[3988 1213]\n",
      " [1619 4701]]\n"
     ]
    }
   ],
   "source": [
    "# Define models to test\n",
    "model_list = [ # ['BernoulliNB', BernoulliNB(alpha=2.0)], # F1 0.60\n",
    "#                 ['MultinomialNB', MultinomialNB(alpha=0.5, class_prior=None, fit_prior=True)], \n",
    "#                 ['DecisionTree', DecisionTreeClassifier()], \n",
    "#                 ['RandomForest', RandomForestClassifier(max_features='sqrt',n_estimators=1000)], # F1 0.61\n",
    "                ['GradientBoost', GradientBoostingClassifier(n_estimators=500)],\n",
    "                ['XGBoost', XGBClassifier(base_score=0.5, colsample_bylevel=1, colsample_bytree=0.7,\n",
    "                       gamma=0, learning_rate=0.05, max_delta_step=0, max_depth=6,\n",
    "                       min_child_weight=11, missing=-999, n_estimators=500, nthread=4,\n",
    "                       objective='reg:linear', reg_alpha=0, reg_lambda=1,\n",
    "                       scale_pos_weight=1, seed=0, silent=1, subsample=0.8)],\n",
    "#                 ['AdaBoost', AdaBoostClassifier(base_estimator=DecisionTreeClassifier())],\n",
    "#                 ['KNN', KNeighborsClassifier(38)], # best k from KNN model below; scale data\n",
    "                ['LogisticRegression', LogisticRegression(C=0.1, penalty='l1')]]\n",
    "#                 ['LogisticRegressionCV', LogisticRegressionCV()]] # scale data; F1 0.62\n",
    "#                 ['SVM', SVC(probability=True)]] # scale data; F1 0.57\n",
    "\n",
    "# model_list_s = [['LogisticRegression', LogisticRegression()]] # scale data\n",
    "#                 ['LogisticRegressionCV', LogisticRegressionCV()]] # scale data\n",
    "#                 ['SVM', SVC(probability=True)]] # scale data\n",
    "\n",
    "# Calculate metrics for each model\n",
    "roc = {}\n",
    "for model in model_list:\n",
    "#     if model in model_list_s:\n",
    "#         X_train = X_train_s\n",
    "#         X_test = X_test_s\n",
    "    \n",
    "    model_name = model[0]\n",
    "    model = model[1]\n",
    "    \n",
    "    accuracy = []\n",
    "    precision_1 = []\n",
    "    precision_0 = []\n",
    "    recall_1 = []\n",
    "    recall_0 = []\n",
    "    f1_1 = []\n",
    "    f1_0 = []\n",
    "    auc = []\n",
    "        \n",
    "    # Perform K-Fold CV and calculate metrics for each fold\n",
    "    kf = KFold(5, random_state=42, shuffle=True) \n",
    "    for train_idx, test_idx in kf.split(X, y=y):\n",
    "        model.fit(X_train, y_train)\n",
    "        y_pred = model.predict(X_test)\n",
    "        accuracy.append(accuracy_score(y_test, y_pred))\n",
    "        precision_1.append(precision_score(y_test, y_pred ,pos_label=1))\n",
    "        precision_0.append(precision_score(y_test, y_pred ,pos_label=0))\n",
    "        recall_1.append(recall_score(y_test, y_pred, pos_label=1))\n",
    "        recall_0.append(recall_score(y_test, y_pred, pos_label=0))\n",
    "        f1_1.append(f1_score(y_test, y_pred, pos_label=1))\n",
    "        f1_0.append(f1_score(y_test, y_pred, pos_label=0))\n",
    "        auc.append(roc_auc_score(y_test, y_pred))\n",
    "        \n",
    "    # Calculate mean metric across K-folds\n",
    "    mean_accuracy = np.mean(accuracy)\n",
    "    mean_precision_1 = np.mean(precision_1)\n",
    "    mean_precision_0 = np.mean(precision_0)\n",
    "    mean_recall_1 = np.mean(recall_1)\n",
    "    mean_recall_0 = np.mean(recall_0)\n",
    "    mean_f1_1 = np.mean(f1_1)\n",
    "    mean_f1_0 = np.mean(f1_0)\n",
    "    mean_auc = np.mean(auc)\n",
    "    \n",
    "    # Capture TPR and FPR from last fold for plotting\n",
    "    y_score = model.predict_proba(X_test)[:,1]\n",
    "    roc[model_name] = roc_curve(y_test, y_score), mean_auc\n",
    "    results_dict[model_name] = {\"accuracy\": mean_accuracy, \"precision_s\": mean_precision_1, \"precision_f\": mean_precision_0, \"recall_s\": mean_recall_1, \"recall_f\": mean_recall_0, \"f1_s\": mean_f1_1, \"f1_f\": mean_f1_0, \"auc\": mean_auc}\n",
    "\n",
    "    \n",
    "    # Print formatted results\n",
    "    print(model)\n",
    "    print('\\t==============================')\n",
    "    print('\\tAccuracy:', mean_accuracy)\n",
    "    print('\\tAUC:', mean_auc)\n",
    "    print('\\n')\n",
    "    print(classification_report(y_test,y_pred)) \n",
    "    print(confusion_matrix(y_test,y_pred))"
   ]
  },
  {
   "cell_type": "code",
   "execution_count": null,
   "metadata": {},
   "outputs": [],
   "source": [
    "# # Plot the ROC curve from the last K-Fold split\n",
    "# fig, ax = plt.subplots(figsize=(10, 10))\n",
    "# colors = ['b', 'g', 'r', 'c', 'm', 'y','k','orange','darkorchid','bisque']\n",
    "\n",
    "# # Plot 50-50 Line\n",
    "# ax.plot([0,1],[0,1], ls='--', color='k', label='50-50')\n",
    "# # Plot Classifier ROC Curves\n",
    "# for key, c in zip(roc.keys(), colors):\n",
    "#     ax.plot(roc[key][0], roc[key][1], color=c, label=key)\n",
    "    \n",
    "# ax.set_xlabel('FPR')\n",
    "# ax.set_ylabel('TPR')\n",
    "# ax.set_title('ROC Curve - Select Models')\n",
    "# ax.legend(loc='best')\n",
    "# plt.savefig('charts/roc_ds2_p2.png')"
   ]
  },
  {
   "cell_type": "code",
   "execution_count": 19,
   "metadata": {},
   "outputs": [
    {
     "data": {
      "image/png": "[encoded data removed]",
      "text/plain": [
       "<matplotlib.figure.Figure at 0x1a0ebbed68>"
      ]
     },
     "metadata": {},
     "output_type": "display_data"
    }
   ],
   "source": [
    "fig, ax = plt.subplots(figsize=(10, 10))\n",
    "# colors = ['b', 'g', 'r', 'c', 'm', 'y','k','orange','darkorchid','bisque']\n",
    "\n",
    "# Plot 50-50 Line\n",
    "ax.plot([0,1],[0,1], ls='--', color='k', label='50-50')\n",
    "# Plot Classifier ROC Curves\n",
    "for key, value in roc.items():\n",
    "#     print(value[1])\n",
    "    label = '{}, AUC: {}%'.format(key, round(100*value[1],2))\n",
    "    ax.plot(roc[key][0][0], roc[key][0][1], label=label)\n",
    "    \n",
    "ax.set_xlabel('FPR')\n",
    "ax.set_ylabel('TPR')\n",
    "ax.set_title('ROC Curve - Select Models')\n",
    "ax.legend(loc='lower right')\n",
    "plt.savefig('charts/roc_ds2_p2.png')"
   ]
  },
  {
   "cell_type": "code",
   "execution_count": 20,
   "metadata": {},
   "outputs": [
    {
     "data": {
      "text/html": [
       "<div>\n",
       "<style scoped>\n",
       "    .dataframe tbody tr th:only-of-type {\n",
       "        vertical-align: middle;\n",
       "    }\n",
       "\n",
       "    .dataframe tbody tr th {\n",
       "        vertical-align: top;\n",
       "    }\n",
       "\n",
       "    .dataframe thead th {\n",
       "        text-align: right;\n",
       "    }\n",
       "</style>\n",
       "<table border=\"1\" class=\"dataframe\">\n",
       "  <thead>\n",
       "    <tr style=\"text-align: right;\">\n",
       "      <th></th>\n",
       "      <th>accuracy</th>\n",
       "      <th>auc</th>\n",
       "      <th>f1_f</th>\n",
       "      <th>f1_s</th>\n",
       "      <th>precision_f</th>\n",
       "      <th>precision_s</th>\n",
       "      <th>recall_f</th>\n",
       "      <th>recall_s</th>\n",
       "    </tr>\n",
       "  </thead>\n",
       "  <tbody>\n",
       "    <tr>\n",
       "      <th>XGBoost</th>\n",
       "      <td>0.778665</td>\n",
       "      <td>0.778872</td>\n",
       "      <td>0.761102</td>\n",
       "      <td>0.793823</td>\n",
       "      <td>0.742189</td>\n",
       "      <td>0.811673</td>\n",
       "      <td>0.781004</td>\n",
       "      <td>0.776741</td>\n",
       "    </tr>\n",
       "    <tr>\n",
       "      <th>GradientBoost</th>\n",
       "      <td>0.776738</td>\n",
       "      <td>0.777095</td>\n",
       "      <td>0.759468</td>\n",
       "      <td>0.791694</td>\n",
       "      <td>0.739295</td>\n",
       "      <td>0.810856</td>\n",
       "      <td>0.780773</td>\n",
       "      <td>0.773418</td>\n",
       "    </tr>\n",
       "    <tr>\n",
       "      <th>LogisticRegression</th>\n",
       "      <td>0.753771</td>\n",
       "      <td>0.755614</td>\n",
       "      <td>0.739594</td>\n",
       "      <td>0.766473</td>\n",
       "      <td>0.707666</td>\n",
       "      <td>0.798859</td>\n",
       "      <td>0.774582</td>\n",
       "      <td>0.736646</td>\n",
       "    </tr>\n",
       "  </tbody>\n",
       "</table>\n",
       "</div>"
      ],
      "text/plain": [
       "                    accuracy       auc      f1_f      f1_s  precision_f  \\\n",
       "XGBoost             0.778665  0.778872  0.761102  0.793823     0.742189   \n",
       "GradientBoost       0.776738  0.777095  0.759468  0.791694     0.739295   \n",
       "LogisticRegression  0.753771  0.755614  0.739594  0.766473     0.707666   \n",
       "\n",
       "                    precision_s  recall_f  recall_s  \n",
       "XGBoost                0.811673  0.781004  0.776741  \n",
       "GradientBoost          0.810856  0.780773  0.773418  \n",
       "LogisticRegression     0.798859  0.774582  0.736646  "
      ]
     },
     "execution_count": 20,
     "metadata": {},
     "output_type": "execute_result"
    }
   ],
   "source": [
    "rd = pd.DataFrame(results_dict).T\n",
    "# rd['f1_success'] = rd['f1']\n",
    "rd = rd.sort_values(['auc'],ascending=[False])\n",
    "rd"
   ]
  },
  {
   "cell_type": "code",
   "execution_count": null,
   "metadata": {
    "collapsed": true
   },
   "outputs": [],
   "source": []
  },
  {
   "cell_type": "code",
   "execution_count": null,
   "metadata": {
    "collapsed": true
   },
   "outputs": [],
   "source": []
  }
 ],
 "metadata": {
  "kernelspec": {
   "display_name": "Python 3",
   "language": "python",
   "name": "python3"
  },
  "language_info": {
   "codemirror_mode": {
    "name": "ipython",
    "version": 3
   },
   "file_extension": ".py",
   "mimetype": "text/x-python",
   "name": "python",
   "nbconvert_exporter": "python",
   "pygments_lexer": "ipython3",
   "version": "3.5.4"
  }
 },
 "nbformat": 4,
 "nbformat_minor": 2
}
