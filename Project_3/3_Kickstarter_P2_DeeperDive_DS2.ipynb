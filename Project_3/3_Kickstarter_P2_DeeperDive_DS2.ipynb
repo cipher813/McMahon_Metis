{
 "cells": [
  {
   "cell_type": "markdown",
   "metadata": {},
   "source": [
    "# Kickstarter: Classification\n",
    "Tests Include:\n",
    "-KNN\n",
    "-Logistic Regression\n",
    "-Decision Trees\n",
    "-Random Forest\n",
    "-SVM\n",
    "-Gradient Boosting"
   ]
  },
  {
   "cell_type": "code",
   "execution_count": 1,
   "metadata": {},
   "outputs": [
    {
     "name": "stderr",
     "output_type": "stream",
     "text": [
      "/Users/brianmcmahon/anaconda3/envs/tensorflow1.4/lib/python3.5/site-packages/sklearn/cross_validation.py:41: DeprecationWarning: This module was deprecated in version 0.18 in favor of the model_selection module into which all the refactored classes and functions are moved. Also note that the interface of the new CV iterators are different from that of this module. This module will be removed in 0.20.\n",
      "  \"This module will be removed in 0.20.\", DeprecationWarning)\n",
      "/Users/brianmcmahon/anaconda3/envs/tensorflow1.4/lib/python3.5/site-packages/sklearn/learning_curve.py:22: DeprecationWarning: This module was deprecated in version 0.18 in favor of the model_selection module into which all the functions are moved. This module will be removed in 0.20\n",
      "  DeprecationWarning)\n"
     ]
    }
   ],
   "source": [
    "import pandas as pd\n",
    "import numpy as np\n",
    "import matplotlib.pyplot as plt\n",
    "import matplotlib.cm as cm\n",
    "import seaborn as sns\n",
    "%matplotlib inline\n",
    "\n",
    "import sqlalchemy\n",
    "from sqlalchemy import create_engine\n",
    "from flask_sqlalchemy import SQLAlchemy\n",
    "\n",
    "from sklearn import naive_bayes\n",
    "from sklearn.naive_bayes import GaussianNB, BernoulliNB,MultinomialNB\n",
    "from sklearn.neighbors import KNeighborsClassifier\n",
    "from sklearn.linear_model import LogisticRegression, LogisticRegressionCV\n",
    "from sklearn.svm import SVC, LinearSVC\n",
    "from sklearn.tree import DecisionTreeClassifier\n",
    "from sklearn.ensemble import RandomForestClassifier, RandomForestRegressor, RandomTreesEmbedding\n",
    "from sklearn.ensemble import GradientBoostingClassifier, AdaBoostClassifier\n",
    "from sklearn.metrics import accuracy_score, classification_report,confusion_matrix\n",
    "from sklearn.metrics import precision_score, recall_score, f1_score, roc_curve, roc_auc_score\n",
    "from sklearn.metrics import average_precision_score, precision_recall_curve, auc\n",
    "from sklearn.learning_curve import learning_curve\n",
    "from sklearn.cross_validation import train_test_split, cross_val_predict\n",
    "from sklearn.model_selection import GridSearchCV, cross_val_score, KFold\n",
    "from sklearn.preprocessing import label_binarize, scale, StandardScaler\n",
    "from sklearn.multiclass import OneVsRestClassifier\n",
    "from sklearn.pipeline import make_pipeline\n",
    "\n",
    "from sklearn.datasets import make_classification\n",
    "from sklearn.linear_model import LogisticRegression\n",
    "from sklearn.preprocessing import OneHotEncoder\n",
    "\n",
    "from xgboost import XGBClassifier\n",
    "\n",
    "import datetime\n",
    "import warnings\n",
    "import os\n",
    "\n",
    "warnings.filterwarnings(\"ignore\") #, category=DeprecationWarning)"
   ]
  },
  {
   "cell_type": "code",
   "execution_count": 2,
   "metadata": {
    "collapsed": true
   },
   "outputs": [],
   "source": [
    "# env variable at tensorflow1.4 per https://conda.io/docs/user-guide/tasks/manage-environments.html#saving-environment-variables\n",
    "# and https://vsupalov.com/flask-sqlalchemy-postgres/\n",
    "\n",
    "def get_env_variable(name):\n",
    "    try:\n",
    "        return os.environ[name]\n",
    "    except KeyError:\n",
    "        message = \"Expected environment variable '{}' not set.\".format(name)\n",
    "        raise Exception(message)\n",
    "\n",
    "# the values of those depend on your setup\n",
    "POSTGRES_URL = get_env_variable(\"POSTGRES_URL\")\n",
    "POSTGRES_USER = get_env_variable(\"POSTGRES_USER\")\n",
    "POSTGRES_PW = get_env_variable(\"POSTGRES_PW\")\n",
    "POSTGRES_DB = get_env_variable(\"POSTGRES_DB\")"
   ]
  },
  {
   "cell_type": "code",
   "execution_count": 3,
   "metadata": {
    "collapsed": true
   },
   "outputs": [],
   "source": [
    "DB_URL = 'postgresql+psycopg2://{user}:{pw}@{url}/{db}'.format(user=POSTGRES_USER,pw=POSTGRES_PW,url=POSTGRES_URL,db=POSTGRES_DB)"
   ]
  },
  {
   "cell_type": "code",
   "execution_count": 4,
   "metadata": {
    "collapsed": true
   },
   "outputs": [],
   "source": [
    "engine_var = DB_URL\n",
    "engine = create_engine(engine_var)"
   ]
  },
  {
   "cell_type": "code",
   "execution_count": 5,
   "metadata": {},
   "outputs": [
    {
     "name": "stdout",
     "output_type": "stream",
     "text": [
      "(147803, 19)\n"
     ]
    },
    {
     "data": {
      "text/html": [
       "<div>\n",
       "<style scoped>\n",
       "    .dataframe tbody tr th:only-of-type {\n",
       "        vertical-align: middle;\n",
       "    }\n",
       "\n",
       "    .dataframe tbody tr th {\n",
       "        vertical-align: top;\n",
       "    }\n",
       "\n",
       "    .dataframe thead th {\n",
       "        text-align: right;\n",
       "    }\n",
       "</style>\n",
       "<table border=\"1\" class=\"dataframe\">\n",
       "  <thead>\n",
       "    <tr style=\"text-align: right;\">\n",
       "      <th></th>\n",
       "      <th>id</th>\n",
       "      <th>name</th>\n",
       "      <th>state</th>\n",
       "      <th>category_main</th>\n",
       "      <th>category_name</th>\n",
       "      <th>backers_count</th>\n",
       "      <th>pct_goal_achieved</th>\n",
       "      <th>usd_pledged</th>\n",
       "      <th>usd_goal</th>\n",
       "      <th>country</th>\n",
       "      <th>currency</th>\n",
       "      <th>campaign_length</th>\n",
       "      <th>deadline</th>\n",
       "      <th>launched</th>\n",
       "      <th>created</th>\n",
       "      <th>spotlight</th>\n",
       "      <th>staff_pick</th>\n",
       "      <th>creator_name</th>\n",
       "      <th>blurb_length</th>\n",
       "    </tr>\n",
       "    <tr>\n",
       "      <th>idx</th>\n",
       "      <th></th>\n",
       "      <th></th>\n",
       "      <th></th>\n",
       "      <th></th>\n",
       "      <th></th>\n",
       "      <th></th>\n",
       "      <th></th>\n",
       "      <th></th>\n",
       "      <th></th>\n",
       "      <th></th>\n",
       "      <th></th>\n",
       "      <th></th>\n",
       "      <th></th>\n",
       "      <th></th>\n",
       "      <th></th>\n",
       "      <th></th>\n",
       "      <th></th>\n",
       "      <th></th>\n",
       "      <th></th>\n",
       "    </tr>\n",
       "  </thead>\n",
       "  <tbody>\n",
       "    <tr>\n",
       "      <th>1725323227</th>\n",
       "      <td>1725323227</td>\n",
       "      <td>Inspire young girls</td>\n",
       "      <td>failed</td>\n",
       "      <td>fashion</td>\n",
       "      <td>Childrenswear</td>\n",
       "      <td>1</td>\n",
       "      <td>0.0</td>\n",
       "      <td>30.0</td>\n",
       "      <td>1300.0</td>\n",
       "      <td>US</td>\n",
       "      <td>USD</td>\n",
       "      <td>30</td>\n",
       "      <td>2018-01-12</td>\n",
       "      <td>2017-12-13</td>\n",
       "      <td>2017-12-08</td>\n",
       "      <td>0</td>\n",
       "      <td>0</td>\n",
       "      <td>Rayna</td>\n",
       "      <td>6</td>\n",
       "    </tr>\n",
       "    <tr>\n",
       "      <th>2065169465</th>\n",
       "      <td>2065169465</td>\n",
       "      <td>Cotton-Top Pastries</td>\n",
       "      <td>successful</td>\n",
       "      <td>food</td>\n",
       "      <td>Small Batch</td>\n",
       "      <td>99</td>\n",
       "      <td>1.3</td>\n",
       "      <td>9858.0</td>\n",
       "      <td>7500.0</td>\n",
       "      <td>US</td>\n",
       "      <td>USD</td>\n",
       "      <td>30</td>\n",
       "      <td>2018-01-12</td>\n",
       "      <td>2017-12-13</td>\n",
       "      <td>2017-12-12</td>\n",
       "      <td>1</td>\n",
       "      <td>1</td>\n",
       "      <td>Holly Weist</td>\n",
       "      <td>5</td>\n",
       "    </tr>\n",
       "    <tr>\n",
       "      <th>1516902916</th>\n",
       "      <td>1516902916</td>\n",
       "      <td>Dreaming Creek Brewery</td>\n",
       "      <td>failed</td>\n",
       "      <td>food</td>\n",
       "      <td>Drinks</td>\n",
       "      <td>64</td>\n",
       "      <td>0.3</td>\n",
       "      <td>6139.0</td>\n",
       "      <td>20000.0</td>\n",
       "      <td>US</td>\n",
       "      <td>USD</td>\n",
       "      <td>30</td>\n",
       "      <td>2018-01-12</td>\n",
       "      <td>2017-12-13</td>\n",
       "      <td>2017-08-11</td>\n",
       "      <td>0</td>\n",
       "      <td>0</td>\n",
       "      <td>Mike Bradley</td>\n",
       "      <td>19</td>\n",
       "    </tr>\n",
       "    <tr>\n",
       "      <th>1396766240</th>\n",
       "      <td>1396766240</td>\n",
       "      <td>Ripple Playing Cards - Printed by USPCC</td>\n",
       "      <td>failed</td>\n",
       "      <td>games</td>\n",
       "      <td>Playing Cards</td>\n",
       "      <td>131</td>\n",
       "      <td>0.3</td>\n",
       "      <td>3387.0</td>\n",
       "      <td>9999.0</td>\n",
       "      <td>US</td>\n",
       "      <td>USD</td>\n",
       "      <td>38</td>\n",
       "      <td>2018-01-12</td>\n",
       "      <td>2017-12-05</td>\n",
       "      <td>2017-10-08</td>\n",
       "      <td>0</td>\n",
       "      <td>0</td>\n",
       "      <td>B.Y. Eidelman</td>\n",
       "      <td>16</td>\n",
       "    </tr>\n",
       "    <tr>\n",
       "      <th>549309727</th>\n",
       "      <td>549309727</td>\n",
       "      <td>Higher Grounds Coffee Company Mobile Coffee Tr...</td>\n",
       "      <td>successful</td>\n",
       "      <td>food</td>\n",
       "      <td>Food Trucks</td>\n",
       "      <td>61</td>\n",
       "      <td>1.0</td>\n",
       "      <td>10060.0</td>\n",
       "      <td>10000.0</td>\n",
       "      <td>US</td>\n",
       "      <td>USD</td>\n",
       "      <td>36</td>\n",
       "      <td>2018-01-12</td>\n",
       "      <td>2017-12-07</td>\n",
       "      <td>2017-08-16</td>\n",
       "      <td>1</td>\n",
       "      <td>0</td>\n",
       "      <td>Katreena Powell</td>\n",
       "      <td>21</td>\n",
       "    </tr>\n",
       "  </tbody>\n",
       "</table>\n",
       "</div>"
      ],
      "text/plain": [
       "                    id                                               name  \\\n",
       "idx                                                                         \n",
       "1725323227  1725323227                                Inspire young girls   \n",
       "2065169465  2065169465                                Cotton-Top Pastries   \n",
       "1516902916  1516902916                             Dreaming Creek Brewery   \n",
       "1396766240  1396766240            Ripple Playing Cards - Printed by USPCC   \n",
       "549309727    549309727  Higher Grounds Coffee Company Mobile Coffee Tr...   \n",
       "\n",
       "                 state category_main  category_name  backers_count  \\\n",
       "idx                                                                  \n",
       "1725323227      failed       fashion  Childrenswear              1   \n",
       "2065169465  successful          food    Small Batch             99   \n",
       "1516902916      failed          food         Drinks             64   \n",
       "1396766240      failed         games  Playing Cards            131   \n",
       "549309727   successful          food    Food Trucks             61   \n",
       "\n",
       "            pct_goal_achieved  usd_pledged  usd_goal country currency  \\\n",
       "idx                                                                     \n",
       "1725323227                0.0         30.0    1300.0      US      USD   \n",
       "2065169465                1.3       9858.0    7500.0      US      USD   \n",
       "1516902916                0.3       6139.0   20000.0      US      USD   \n",
       "1396766240                0.3       3387.0    9999.0      US      USD   \n",
       "549309727                 1.0      10060.0   10000.0      US      USD   \n",
       "\n",
       "            campaign_length    deadline    launched     created  spotlight  \\\n",
       "idx                                                                          \n",
       "1725323227               30  2018-01-12  2017-12-13  2017-12-08          0   \n",
       "2065169465               30  2018-01-12  2017-12-13  2017-12-12          1   \n",
       "1516902916               30  2018-01-12  2017-12-13  2017-08-11          0   \n",
       "1396766240               38  2018-01-12  2017-12-05  2017-10-08          0   \n",
       "549309727                36  2018-01-12  2017-12-07  2017-08-16          1   \n",
       "\n",
       "            staff_pick     creator_name  blurb_length  \n",
       "idx                                                    \n",
       "1725323227           0            Rayna             6  \n",
       "2065169465           1      Holly Weist             5  \n",
       "1516902916           0     Mike Bradley            19  \n",
       "1396766240           0    B.Y. Eidelman            16  \n",
       "549309727            0  Katreena Powell            21  "
      ]
     },
     "execution_count": 5,
     "metadata": {},
     "output_type": "execute_result"
    }
   ],
   "source": [
    "df = pd.read_pickle('data/kickstarter_data_ds2.pkl')\n",
    "df['idx'] = df['id']\n",
    "df = df.set_index('idx')\n",
    "# df['state'] = df['state'].replace({'failed': 0, 'successful': 1})\n",
    "# df = pd.read_sql_query('''SELECT * FROM kickstarter_data_ds2''',engine)\n",
    "print(df.shape)\n",
    "# pd.read_sql_query('''SELECT state, main_category, main_category, currency, currency, deadline, launched, usd_goal_real, usd_pledged_real FROM kickstarter_data_ds2 LIMIT 5''',engine)\n",
    "df.head()"
   ]
  },
  {
   "cell_type": "code",
   "execution_count": 6,
   "metadata": {},
   "outputs": [
    {
     "data": {
      "text/plain": [
       "(147803, 19)"
      ]
     },
     "execution_count": 6,
     "metadata": {},
     "output_type": "execute_result"
    }
   ],
   "source": [
    "# start_date = datetime.datetime.strptime('2016-01-01', \"%Y-%m-%d\").date()\n",
    "\n",
    "# df = df[df['launched'] >= start_date] # filter from start date to current\n",
    "df.shape"
   ]
  },
  {
   "cell_type": "code",
   "execution_count": 7,
   "metadata": {},
   "outputs": [
    {
     "data": {
      "text/plain": [
       "Index(['id', 'name', 'state', 'category_main', 'category_name',\n",
       "       'backers_count', 'pct_goal_achieved', 'usd_pledged', 'usd_goal',\n",
       "       'country', 'currency', 'campaign_length', 'deadline', 'launched',\n",
       "       'created', 'spotlight', 'staff_pick', 'creator_name', 'blurb_length'],\n",
       "      dtype='object')"
      ]
     },
     "execution_count": 7,
     "metadata": {},
     "output_type": "execute_result"
    }
   ],
   "source": [
    "df.columns"
   ]
  },
  {
   "cell_type": "code",
   "execution_count": 8,
   "metadata": {},
   "outputs": [
    {
     "name": "stdout",
     "output_type": "stream",
     "text": [
      "(147807, 212)\n",
      "Index(['state_successful', 'category_name_Academic',\n",
      "       'category_name_Accessories', 'category_name_Action',\n",
      "       'category_name_Animals', 'category_name_Animation',\n",
      "       'category_name_Anthologies', 'category_name_Apparel',\n",
      "       'category_name_Apps', 'category_name_Architecture',\n",
      "       ...\n",
      "       'country', 'currency', 'campaign_length', 'deadline', 'launched',\n",
      "       'created', 'spotlight', 'staff_pick', 'creator_name', 'blurb_length'],\n",
      "      dtype='object', length=212)\n",
      "<class 'pandas.core.frame.DataFrame'>\n",
      "Int64Index: 147807 entries, 18520 to 2147476221\n",
      "Columns: 212 entries, state_successful to blurb_length\n",
      "dtypes: float64(3), int64(6), object(10), uint8(193)\n",
      "memory usage: 49.8+ MB\n"
     ]
    }
   ],
   "source": [
    "df_dummies = pd.get_dummies(df[['state','category_name', 'country','currency']],drop_first=True)\n",
    "df = df_dummies.merge(df,how='inner',left_index=True, right_index=True)\n",
    "print(df.shape)\n",
    "print(df.columns)\n",
    "df.info()"
   ]
  },
  {
   "cell_type": "code",
   "execution_count": 9,
   "metadata": {},
   "outputs": [
    {
     "name": "stdout",
     "output_type": "stream",
     "text": [
      "(147807, 196)\n"
     ]
    },
    {
     "data": {
      "text/plain": [
       "Index(['category_name_Academic', 'category_name_Accessories',\n",
       "       'category_name_Action', 'category_name_Animals',\n",
       "       'category_name_Animation', 'category_name_Anthologies',\n",
       "       'category_name_Apparel', 'category_name_Apps',\n",
       "       'category_name_Architecture', 'category_name_Art',\n",
       "       ...\n",
       "       'currency_MXN', 'currency_NOK', 'currency_NZD', 'currency_SEK',\n",
       "       'currency_SGD', 'currency_USD', 'usd_goal', 'campaign_length',\n",
       "       'staff_pick', 'blurb_length'],\n",
       "      dtype='object', length=196)"
      ]
     },
     "execution_count": 9,
     "metadata": {},
     "output_type": "execute_result"
    }
   ],
   "source": [
    "# removing all variables that cannot be known before a campaign is launched, such as # backers and $ pledged\n",
    "X = df.drop(['state_successful','id', 'name', 'state', 'category_main','category_name', 'backers_count','pct_goal_achieved', 'usd_pledged', 'country', 'currency',\n",
    "       'deadline', 'launched', 'created','creator_name','spotlight'], 1)\n",
    "y = df['state_successful']\n",
    "\n",
    "print(X.shape)\n",
    "X.columns\n",
    "# X.head()"
   ]
  },
  {
   "cell_type": "markdown",
   "metadata": {},
   "source": [
    "## Assumptions"
   ]
  },
  {
   "cell_type": "code",
   "execution_count": 10,
   "metadata": {},
   "outputs": [],
   "source": [
    "results_dict = {}\n",
    "\n",
    "def plot_results(classifier,X,y, test_size=0.3, standardize='y'): # add standardize as input\n",
    "    X_train, X_test, y_train, y_test = train_test_split(X, y, stratify=y, test_size=test_size, random_state=42)\n",
    "    if standardize == 'y':\n",
    "        scaler = StandardScaler().fit(X_train)\n",
    "        X_train_s = scaler.transform(X_train)\n",
    "        X_test_s = scaler.transform(X_test)\n",
    "    model = classifier.fit(X_train, y_train)\n",
    "        \n",
    "    # calculate and print accuracy score\n",
    "    train_acc=model.score(X_train, y_train)\n",
    "    test_acc=model.score(X_test,y_test)\n",
    "    \n",
    "    # calculate ROC\n",
    "    y_score=model.predict_proba(X_test)[:,1]\n",
    "    fpr, tpr,_ = roc_curve(y_test, y_score)\n",
    "    roc_auc = auc(fpr, tpr)\n",
    "    \n",
    "    # calculate confusion matrix\n",
    "    y_true = y_test\n",
    "    y_pred = model.predict(X_test)\n",
    "    conf = confusion_matrix(y_true, y_pred, labels=[1,0])\n",
    "#     print(conf)\n",
    "\n",
    "    # Plots\n",
    "    fig,ax = plt.subplots(1,2,figsize=(10,5))\n",
    "    # Confusion Matrix\n",
    "    ax = plt.subplot(121)\n",
    "\n",
    "    plt.imshow(conf, interpolation='nearest',cmap=plt.cm.YlGn)\n",
    "\n",
    "    plt.title(\"Confusion Matrix\",fontweight='bold',fontsize=15)\n",
    "    plt.text(0,0,conf[0][0],fontsize=18,fontweight='bold',color='orange',ha='center')\n",
    "    plt.text(1,0,conf[0][1],fontsize=18,fontweight='bold',color='orange',ha='center')\n",
    "    plt.text(0,1,conf[1][0],fontsize=18,fontweight='bold',color='orange',ha='center')\n",
    "    plt.text(1,1,conf[1][1],fontsize=18,fontweight='bold',color='orange',ha='center')\n",
    "    ax.set_xlabel(\"Predicted\", fontweight='bold',color='k',fontsize=12)\n",
    "    ax.set_xticks([0,1])\n",
    "    ax.set_xticklabels(['Success','Fail'],fontsize=12)\n",
    "    ax.set_ylabel(\"Actual\",fontweight='bold',color='k',fontsize=12)\n",
    "    ax.set_yticks([0,1])\n",
    "    ax.set_yticklabels(['Success','Fail'],rotation=90, fontsize=12)\n",
    "    plt.tight_layout()\n",
    "\n",
    "    # ROC Curve\n",
    "    ax = plt.subplot(122)\n",
    "    plt.title(\"ROC Curve\",fontweight='bold',fontsize=15)\n",
    "    plt.plot([0,1],[0,1],'k:')\n",
    "    plt.plot(fpr,tpr)\n",
    "    plt.xlabel('FPR',fontweight='bold',fontsize=12)\n",
    "    plt.ylabel('TPR',fontweight='bold',fontsize=12)\n",
    "    plt.axis('scaled')\n",
    "    plt.tight_layout()\n",
    "    \n",
    "#     results_dict[classifier] = [train_acc,test_acc, roc_auc, classification_report(y_test, model.predict(X_test))]\n",
    "    \n",
    "    print(\"Training Data Accuracy: %0.2f\" %(train_acc))\n",
    "    print(\"Test Data Accuracy:     %0.2f\" %(test_acc))\n",
    "    print(\"AUC:     %0.2f\" %(roc_auc_score(y_test,y_pred)))\n",
    "    print(classification_report(y_test, model.predict(X_test)))"
   ]
  },
  {
   "cell_type": "code",
   "execution_count": 11,
   "metadata": {},
   "outputs": [
    {
     "name": "stdout",
     "output_type": "stream",
     "text": [
      "Training Data Accuracy: 0.78\n",
      "Test Data Accuracy:     0.78\n",
      "AUC:     0.78\n",
      "             precision    recall  f1-score   support\n",
      "\n",
      "          0       0.70      0.77      0.73     16832\n",
      "          1       0.85      0.79      0.82     27511\n",
      "\n",
      "avg / total       0.79      0.78      0.79     44343\n",
      "\n"
     ]
    },
    {
     "data": {
      "image/png": "[encoded data removed]",
      "text/plain": [
       "<matplotlib.figure.Figure at 0x10b3ec550>"
      ]
     },
     "metadata": {},
     "output_type": "display_data"
    }
   ],
   "source": [
    "model = LogisticRegression(C=0.1, penalty='l1')\n",
    "plot_results(model,X,y,test_size=0.3)"
   ]
  },
  {
   "cell_type": "code",
   "execution_count": 12,
   "metadata": {},
   "outputs": [],
   "source": [
    "# df = pd.DataFrame(results_dict)\n",
    "# df"
   ]
  },
  {
   "cell_type": "code",
   "execution_count": 13,
   "metadata": {},
   "outputs": [
    {
     "name": "stdout",
     "output_type": "stream",
     "text": [
      "Training Data Accuracy: 0.80\n",
      "Test Data Accuracy:     0.79\n",
      "AUC:     0.78\n",
      "             precision    recall  f1-score   support\n",
      "\n",
      "          0       0.73      0.72      0.73     16832\n",
      "          1       0.83      0.84      0.84     27511\n",
      "\n",
      "avg / total       0.79      0.79      0.79     44343\n",
      "\n"
     ]
    },
    {
     "data": {
      "image/png": "[encoded data removed]",
      "text/plain": [
       "<matplotlib.figure.Figure at 0x1a132c2668>"
      ]
     },
     "metadata": {},
     "output_type": "display_data"
    }
   ],
   "source": [
    "model = GradientBoostingClassifier(n_estimators=500)\n",
    "plot_results(model,X,y,test_size=0.3)"
   ]
  },
  {
   "cell_type": "code",
   "execution_count": 14,
   "metadata": {},
   "outputs": [
    {
     "name": "stdout",
     "output_type": "stream",
     "text": [
      "Training Data Accuracy: 0.81\n",
      "Test Data Accuracy:     0.79\n",
      "AUC:     0.78\n",
      "             precision    recall  f1-score   support\n",
      "\n",
      "          0       0.73      0.72      0.73     16832\n",
      "          1       0.83      0.84      0.84     27511\n",
      "\n",
      "avg / total       0.79      0.79      0.79     44343\n",
      "\n"
     ]
    },
    {
     "data": {
      "image/png": "[encoded data removed]",
      "text/plain": [
       "<matplotlib.figure.Figure at 0x1a132c2550>"
      ]
     },
     "metadata": {},
     "output_type": "display_data"
    }
   ],
   "source": [
    "model = XGBClassifier(base_score=0.5, colsample_bylevel=1, colsample_bytree=0.7,\n",
    "                       gamma=0, learning_rate=0.05, max_delta_step=0, max_depth=6,\n",
    "                       min_child_weight=11, missing=-999, n_estimators=500, nthread=4,\n",
    "                       objective='reg:linear', reg_alpha=0, reg_lambda=1,\n",
    "                       scale_pos_weight=1, seed=0, silent=1, subsample=0.8)\n",
    "plot_results(model,X,y,test_size=0.3)"
   ]
  },
  {
   "cell_type": "code",
   "execution_count": null,
   "metadata": {
    "collapsed": true
   },
   "outputs": [],
   "source": []
  },
  {
   "cell_type": "code",
   "execution_count": 15,
   "metadata": {},
   "outputs": [
    {
     "name": "stdout",
     "output_type": "stream",
     "text": [
      "(103464, 196) (103464,)\n",
      "(44343, 196) (44343,)\n"
     ]
    }
   ],
   "source": [
    "X_train, X_test, y_train, y_test = train_test_split(X, y, test_size=0.3,random_state=42, stratify=y)\n",
    "\n",
    "k_range = list(range(1, 101))\n",
    "print(X_train.shape, y_train.shape)\n",
    "print(X_test.shape,y_test.shape)"
   ]
  },
  {
   "cell_type": "code",
   "execution_count": null,
   "metadata": {
    "collapsed": true
   },
   "outputs": [],
   "source": [
    "# https://elitedatascience.com/python-machine-learning-tutorial-scikit-learn\n",
    "scaler = StandardScaler().fit(X_train)\n",
    "X_train_s = scaler.transform(X_train)\n",
    "X_test_s = scaler.transform(X_test)\n",
    "# print(X_train_s.mean(axis=0))\n",
    "# print(X_train_s.std(axis=0))\n",
    "\n",
    "# X_combined_s = np.vstack((X_train_s, X_test_s))\n",
    "# y_combined = np.hstack((y_train, y_test))"
   ]
  },
  {
   "cell_type": "markdown",
   "metadata": {},
   "source": [
    "## Phase 2: Deeper Dive: Logistic Regression, Naive Bayes, Random Forests?"
   ]
  },
  {
   "cell_type": "code",
   "execution_count": null,
   "metadata": {},
   "outputs": [
    {
     "name": "stdout",
     "output_type": "stream",
     "text": [
      "GradientBoostingClassifier(criterion='friedman_mse', init=None,\n",
      "              learning_rate=0.1, loss='deviance', max_depth=3,\n",
      "              max_features=None, max_leaf_nodes=None,\n",
      "              min_impurity_decrease=0.0, min_impurity_split=None,\n",
      "              min_samples_leaf=1, min_samples_split=2,\n",
      "              min_weight_fraction_leaf=0.0, n_estimators=500,\n",
      "              presort='auto', random_state=None, subsample=1.0, verbose=0,\n",
      "              warm_start=False)\n",
      "\t==============================\n",
      "\tAccuracy: 0.794330559502\n",
      "\tAUC: 0.780111131101\n",
      "\n",
      "\n",
      "             precision    recall  f1-score   support\n",
      "\n",
      "          0       0.73      0.72      0.73     16832\n",
      "          1       0.83      0.84      0.84     27511\n",
      "\n",
      "avg / total       0.79      0.79      0.79     44343\n",
      "\n",
      "[[12137  4695]\n",
      " [ 4425 23086]]\n"
     ]
    }
   ],
   "source": [
    "# Define models to test\n",
    "model_list = [ # ['BernoulliNB', BernoulliNB(alpha=2.0)], # F1 0.60\n",
    "#                 ['MultinomialNB', MultinomialNB(alpha=0.5, class_prior=None, fit_prior=True)], \n",
    "#                 ['DecisionTree', DecisionTreeClassifier()], \n",
    "#                 ['RandomForest', RandomForestClassifier(max_features='sqrt',n_estimators=1000)], # F1 0.61\n",
    "                ['GradientBoost', GradientBoostingClassifier(n_estimators=500)],\n",
    "                ['XGBoost', XGBClassifier(base_score=0.5, colsample_bylevel=1, colsample_bytree=0.7,\n",
    "                       gamma=0, learning_rate=0.05, max_delta_step=0, max_depth=6,\n",
    "                       min_child_weight=11, missing=-999, n_estimators=500, nthread=4,\n",
    "                       objective='reg:linear', reg_alpha=0, reg_lambda=1,\n",
    "                       scale_pos_weight=1, seed=0, silent=1, subsample=0.8)],\n",
    "#                 ['AdaBoost', AdaBoostClassifier(base_estimator=DecisionTreeClassifier())],\n",
    "#                 ['KNN', KNeighborsClassifier(38)], # best k from KNN model below; scale data\n",
    "                ['LogisticRegression', LogisticRegression(C=0.1, penalty='l1')]]\n",
    "#                 ['LogisticRegressionCV', LogisticRegressionCV()]] # scale data; F1 0.62\n",
    "#                 ['SVM', SVC(probability=True)]] # scale data; F1 0.57\n",
    "\n",
    "model_list_s = [['LogisticRegression', LogisticRegression()]] # scale data\n",
    "#                 ['LogisticRegressionCV', LogisticRegressionCV()]] # scale data\n",
    "#                 ['SVM', SVC(probability=True)]] # scale data\n",
    "\n",
    "# Calculate metrics for each model\n",
    "roc = {}\n",
    "for model in model_list:\n",
    "#     if model in model_list_s:\n",
    "#         X_train = X_train_s\n",
    "#         X_test = X_test_s\n",
    "    \n",
    "    model_name = model[0]\n",
    "    model = model[1]\n",
    "    \n",
    "    accuracy = []\n",
    "    precision = []\n",
    "    recall = []\n",
    "    f1 = []\n",
    "    auc = []\n",
    "    error_rate = []\n",
    "        \n",
    "    # Perform K-Fold CV and calculate metrics for each fold\n",
    "    kf = KFold(5, random_state=42, shuffle=True) \n",
    "    for train_idx, test_idx in kf.split(X, y=y):\n",
    "        model.fit(X_train, y_train)\n",
    "        y_pred = model.predict(X_test)\n",
    "        accuracy.append(accuracy_score(y_test, y_pred))\n",
    "        precision.append(precision_score(y_test, y_pred))\n",
    "        recall.append(recall_score(y_test, y_pred))\n",
    "        f1.append(f1_score(y_test, y_pred))\n",
    "        auc.append(roc_auc_score(y_test, y_pred))\n",
    "        error_rate.append(np.mean(y_pred != y_test))\n",
    "        \n",
    "    # Calculate mean metric across K-folds\n",
    "    mean_accuracy = np.mean(accuracy)\n",
    "    mean_precision = np.mean(precision)\n",
    "    mean_recall = np.mean(recall)\n",
    "    mean_f1 = np.mean(f1)\n",
    "    mean_auc = np.mean(auc)\n",
    "    \n",
    "    # Capture TPR and FPR from last fold for plotting\n",
    "    y_score = model.predict_proba(X_test)[:,1]\n",
    "    roc[model_name] = roc_curve(y_test, y_score)\n",
    "    \n",
    "    # Print formatted results\n",
    "    print(model)\n",
    "    print('\\t==============================')\n",
    "    print('\\tAccuracy:', mean_accuracy)\n",
    "    print('\\tAUC:', mean_auc)\n",
    "    print('\\n')\n",
    "    print(classification_report(y_test,y_pred)) \n",
    "    print(confusion_matrix(y_test,y_pred))\n",
    "\n",
    "    \n",
    "    "
   ]
  },
  {
   "cell_type": "code",
   "execution_count": null,
   "metadata": {},
   "outputs": [],
   "source": [
    "# Plot the ROC curve from the last K-Fold split\n",
    "fig, ax = plt.subplots(figsize=(10, 10))\n",
    "colors = ['b', 'g', 'r', 'c', 'm', 'y','k','orange','darkorchid','bisque']\n",
    "\n",
    "# Plot 50-50 Line\n",
    "ax.plot([0,1],[0,1], ls='--', color='k', label='50-50')\n",
    "# Plot Classifier ROC Curves\n",
    "for key, c in zip(roc.keys(), colors):\n",
    "    ax.plot(roc[key][0], roc[key][1], color=c, label=key)\n",
    "    \n",
    "ax.set_xlabel('FPR')\n",
    "ax.set_ylabel('TPR')\n",
    "ax.set_title('ROC Curve - Select Models')\n",
    "ax.legend(loc='best')\n",
    "plt.savefig('charts/roc_ds2_p2.png')"
   ]
  },
  {
   "cell_type": "code",
   "execution_count": null,
   "metadata": {
    "collapsed": true
   },
   "outputs": [],
   "source": []
  },
  {
   "cell_type": "code",
   "execution_count": null,
   "metadata": {
    "collapsed": true
   },
   "outputs": [],
   "source": []
  },
  {
   "cell_type": "code",
   "execution_count": null,
   "metadata": {
    "collapsed": true
   },
   "outputs": [],
   "source": []
  }
 ],
 "metadata": {
  "kernelspec": {
   "display_name": "Python 3",
   "language": "python",
   "name": "python3"
  },
  "language_info": {
   "codemirror_mode": {
    "name": "ipython",
    "version": 3
   },
   "file_extension": ".py",
   "mimetype": "text/x-python",
   "name": "python",
   "nbconvert_exporter": "python",
   "pygments_lexer": "ipython3",
   "version": "3.5.4"
  }
 },
 "nbformat": 4,
 "nbformat_minor": 2
}
