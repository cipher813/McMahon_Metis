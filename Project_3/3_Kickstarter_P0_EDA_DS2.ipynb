{
 "cells": [
  {
   "cell_type": "markdown",
   "metadata": {},
   "source": [
    "# Kickstarter: Classification\n",
    "Tests Include:\n",
    "-KNN\n",
    "-Logistic Regression\n",
    "-Decision Trees\n",
    "-Random Forest\n",
    "-SVM\n",
    "-Gradient Boosting"
   ]
  },
  {
   "cell_type": "code",
   "execution_count": 1,
   "metadata": {},
   "outputs": [
    {
     "name": "stderr",
     "output_type": "stream",
     "text": [
      "/Users/brianmcmahon/anaconda3/envs/tensorflow1.4/lib/python3.5/site-packages/sklearn/cross_validation.py:41: DeprecationWarning: This module was deprecated in version 0.18 in favor of the model_selection module into which all the refactored classes and functions are moved. Also note that the interface of the new CV iterators are different from that of this module. This module will be removed in 0.20.\n",
      "  \"This module will be removed in 0.20.\", DeprecationWarning)\n",
      "/Users/brianmcmahon/anaconda3/envs/tensorflow1.4/lib/python3.5/site-packages/sklearn/learning_curve.py:22: DeprecationWarning: This module was deprecated in version 0.18 in favor of the model_selection module into which all the functions are moved. This module will be removed in 0.20\n",
      "  DeprecationWarning)\n"
     ]
    }
   ],
   "source": [
    "import pandas as pd\n",
    "import numpy as np\n",
    "import matplotlib.pyplot as plt\n",
    "import matplotlib.cm as cm\n",
    "import seaborn as sns\n",
    "%matplotlib inline\n",
    "\n",
    "import sqlalchemy\n",
    "from sqlalchemy import create_engine\n",
    "from flask_sqlalchemy import SQLAlchemy\n",
    "\n",
    "from sklearn import naive_bayes\n",
    "from sklearn.naive_bayes import GaussianNB, BernoulliNB,MultinomialNB\n",
    "from sklearn.neighbors import KNeighborsClassifier\n",
    "from sklearn.linear_model import LogisticRegression, LogisticRegressionCV\n",
    "from sklearn.svm import SVC, LinearSVC\n",
    "from sklearn.tree import DecisionTreeClassifier\n",
    "from sklearn.ensemble import RandomForestClassifier, RandomForestRegressor\n",
    "from sklearn.metrics import accuracy_score, classification_report,confusion_matrix\n",
    "from sklearn.metrics import precision_score, recall_score, f1_score, roc_curve, roc_auc_score\n",
    "from sklearn.metrics import average_precision_score, precision_recall_curve, auc\n",
    "from sklearn.learning_curve import learning_curve\n",
    "from sklearn.cross_validation import train_test_split, cross_val_predict\n",
    "from sklearn.model_selection import GridSearchCV, cross_val_score, KFold\n",
    "from sklearn.preprocessing import label_binarize, scale, StandardScaler\n",
    "from sklearn.multiclass import OneVsRestClassifier\n",
    "from sklearn.pipeline import make_pipeline\n",
    "\n",
    "from sklearn.datasets import make_classification\n",
    "from sklearn.linear_model import LogisticRegression\n",
    "from sklearn.ensemble import (RandomTreesEmbedding, RandomForestClassifier,\n",
    "                              GradientBoostingClassifier)\n",
    "from sklearn.preprocessing import OneHotEncoder\n",
    "\n",
    "import datetime\n",
    "import warnings\n",
    "import os\n",
    "\n",
    "warnings.filterwarnings(\"ignore\") #, category=DeprecationWarning)"
   ]
  },
  {
   "cell_type": "code",
   "execution_count": 2,
   "metadata": {
    "collapsed": true
   },
   "outputs": [],
   "source": [
    "# env variable at tensorflow1.4 per https://conda.io/docs/user-guide/tasks/manage-environments.html#saving-environment-variables\n",
    "# and https://vsupalov.com/flask-sqlalchemy-postgres/\n",
    "\n",
    "def get_env_variable(name):\n",
    "    try:\n",
    "        return os.environ[name]\n",
    "    except KeyError:\n",
    "        message = \"Expected environment variable '{}' not set.\".format(name)\n",
    "        raise Exception(message)\n",
    "\n",
    "# the values of those depend on your setup\n",
    "POSTGRES_URL = get_env_variable(\"POSTGRES_URL\")\n",
    "POSTGRES_USER = get_env_variable(\"POSTGRES_USER\")\n",
    "POSTGRES_PW = get_env_variable(\"POSTGRES_PW\")\n",
    "POSTGRES_DB = get_env_variable(\"POSTGRES_DB\")"
   ]
  },
  {
   "cell_type": "code",
   "execution_count": 3,
   "metadata": {
    "collapsed": true
   },
   "outputs": [],
   "source": [
    "DB_URL = 'postgresql+psycopg2://{user}:{pw}@{url}/{db}'.format(user=POSTGRES_USER,pw=POSTGRES_PW,url=POSTGRES_URL,db=POSTGRES_DB)"
   ]
  },
  {
   "cell_type": "code",
   "execution_count": 4,
   "metadata": {
    "collapsed": true
   },
   "outputs": [],
   "source": [
    "engine_var = DB_URL\n",
    "engine = create_engine(engine_var)"
   ]
  },
  {
   "cell_type": "code",
   "execution_count": 5,
   "metadata": {},
   "outputs": [
    {
     "name": "stdout",
     "output_type": "stream",
     "text": [
      "(163426, 19)\n"
     ]
    },
    {
     "data": {
      "text/html": [
       "<div>\n",
       "<style scoped>\n",
       "    .dataframe tbody tr th:only-of-type {\n",
       "        vertical-align: middle;\n",
       "    }\n",
       "\n",
       "    .dataframe tbody tr th {\n",
       "        vertical-align: top;\n",
       "    }\n",
       "\n",
       "    .dataframe thead th {\n",
       "        text-align: right;\n",
       "    }\n",
       "</style>\n",
       "<table border=\"1\" class=\"dataframe\">\n",
       "  <thead>\n",
       "    <tr style=\"text-align: right;\">\n",
       "      <th></th>\n",
       "      <th>id</th>\n",
       "      <th>name</th>\n",
       "      <th>state</th>\n",
       "      <th>category_main</th>\n",
       "      <th>category_name</th>\n",
       "      <th>backers_count</th>\n",
       "      <th>pct_goal_achieved</th>\n",
       "      <th>usd_pledged</th>\n",
       "      <th>goal</th>\n",
       "      <th>country</th>\n",
       "      <th>currency</th>\n",
       "      <th>campaign_length</th>\n",
       "      <th>deadline</th>\n",
       "      <th>launched</th>\n",
       "      <th>created</th>\n",
       "      <th>spotlight</th>\n",
       "      <th>staff_pick</th>\n",
       "      <th>creator_name</th>\n",
       "      <th>blurb_length</th>\n",
       "    </tr>\n",
       "    <tr>\n",
       "      <th>idx</th>\n",
       "      <th></th>\n",
       "      <th></th>\n",
       "      <th></th>\n",
       "      <th></th>\n",
       "      <th></th>\n",
       "      <th></th>\n",
       "      <th></th>\n",
       "      <th></th>\n",
       "      <th></th>\n",
       "      <th></th>\n",
       "      <th></th>\n",
       "      <th></th>\n",
       "      <th></th>\n",
       "      <th></th>\n",
       "      <th></th>\n",
       "      <th></th>\n",
       "      <th></th>\n",
       "      <th></th>\n",
       "      <th></th>\n",
       "    </tr>\n",
       "  </thead>\n",
       "  <tbody>\n",
       "    <tr>\n",
       "      <th>1725323227</th>\n",
       "      <td>1725323227</td>\n",
       "      <td>Inspire young girls</td>\n",
       "      <td>0</td>\n",
       "      <td>fashion</td>\n",
       "      <td>Childrenswear</td>\n",
       "      <td>1</td>\n",
       "      <td>0.0</td>\n",
       "      <td>30.0</td>\n",
       "      <td>1300.0</td>\n",
       "      <td>US</td>\n",
       "      <td>USD</td>\n",
       "      <td>30</td>\n",
       "      <td>2018-01-12</td>\n",
       "      <td>2017-12-13</td>\n",
       "      <td>2017-12-08</td>\n",
       "      <td>0</td>\n",
       "      <td>0</td>\n",
       "      <td>Rayna</td>\n",
       "      <td>6</td>\n",
       "    </tr>\n",
       "    <tr>\n",
       "      <th>2065169465</th>\n",
       "      <td>2065169465</td>\n",
       "      <td>Cotton-Top Pastries</td>\n",
       "      <td>1</td>\n",
       "      <td>food</td>\n",
       "      <td>Small Batch</td>\n",
       "      <td>99</td>\n",
       "      <td>1.3</td>\n",
       "      <td>9858.0</td>\n",
       "      <td>7500.0</td>\n",
       "      <td>US</td>\n",
       "      <td>USD</td>\n",
       "      <td>30</td>\n",
       "      <td>2018-01-12</td>\n",
       "      <td>2017-12-13</td>\n",
       "      <td>2017-12-12</td>\n",
       "      <td>1</td>\n",
       "      <td>1</td>\n",
       "      <td>Holly Weist</td>\n",
       "      <td>5</td>\n",
       "    </tr>\n",
       "    <tr>\n",
       "      <th>1516902916</th>\n",
       "      <td>1516902916</td>\n",
       "      <td>Dreaming Creek Brewery</td>\n",
       "      <td>0</td>\n",
       "      <td>food</td>\n",
       "      <td>Drinks</td>\n",
       "      <td>64</td>\n",
       "      <td>0.3</td>\n",
       "      <td>6139.0</td>\n",
       "      <td>20000.0</td>\n",
       "      <td>US</td>\n",
       "      <td>USD</td>\n",
       "      <td>30</td>\n",
       "      <td>2018-01-12</td>\n",
       "      <td>2017-12-13</td>\n",
       "      <td>2017-08-11</td>\n",
       "      <td>0</td>\n",
       "      <td>0</td>\n",
       "      <td>Mike Bradley</td>\n",
       "      <td>19</td>\n",
       "    </tr>\n",
       "    <tr>\n",
       "      <th>1396766240</th>\n",
       "      <td>1396766240</td>\n",
       "      <td>Ripple Playing Cards - Printed by USPCC</td>\n",
       "      <td>0</td>\n",
       "      <td>games</td>\n",
       "      <td>Playing Cards</td>\n",
       "      <td>131</td>\n",
       "      <td>0.3</td>\n",
       "      <td>3387.0</td>\n",
       "      <td>9999.0</td>\n",
       "      <td>US</td>\n",
       "      <td>USD</td>\n",
       "      <td>38</td>\n",
       "      <td>2018-01-12</td>\n",
       "      <td>2017-12-05</td>\n",
       "      <td>2017-10-08</td>\n",
       "      <td>0</td>\n",
       "      <td>0</td>\n",
       "      <td>B.Y. Eidelman</td>\n",
       "      <td>16</td>\n",
       "    </tr>\n",
       "    <tr>\n",
       "      <th>1361347175</th>\n",
       "      <td>1361347175</td>\n",
       "      <td>New Boutique Funding for the San Antonio Stock...</td>\n",
       "      <td>0</td>\n",
       "      <td>fashion</td>\n",
       "      <td>Ready-to-wear</td>\n",
       "      <td>0</td>\n",
       "      <td>0.0</td>\n",
       "      <td>0.0</td>\n",
       "      <td>5000.0</td>\n",
       "      <td>US</td>\n",
       "      <td>USD</td>\n",
       "      <td>15</td>\n",
       "      <td>2018-01-12</td>\n",
       "      <td>2017-12-28</td>\n",
       "      <td>2017-12-22</td>\n",
       "      <td>0</td>\n",
       "      <td>0</td>\n",
       "      <td>Darrian Fosty</td>\n",
       "      <td>26</td>\n",
       "    </tr>\n",
       "  </tbody>\n",
       "</table>\n",
       "</div>"
      ],
      "text/plain": [
       "                    id                                               name  \\\n",
       "idx                                                                         \n",
       "1725323227  1725323227                                Inspire young girls   \n",
       "2065169465  2065169465                                Cotton-Top Pastries   \n",
       "1516902916  1516902916                             Dreaming Creek Brewery   \n",
       "1396766240  1396766240            Ripple Playing Cards - Printed by USPCC   \n",
       "1361347175  1361347175  New Boutique Funding for the San Antonio Stock...   \n",
       "\n",
       "            state category_main  category_name  backers_count  \\\n",
       "idx                                                             \n",
       "1725323227      0       fashion  Childrenswear              1   \n",
       "2065169465      1          food    Small Batch             99   \n",
       "1516902916      0          food         Drinks             64   \n",
       "1396766240      0         games  Playing Cards            131   \n",
       "1361347175      0       fashion  Ready-to-wear              0   \n",
       "\n",
       "            pct_goal_achieved  usd_pledged     goal country currency  \\\n",
       "idx                                                                    \n",
       "1725323227                0.0         30.0   1300.0      US      USD   \n",
       "2065169465                1.3       9858.0   7500.0      US      USD   \n",
       "1516902916                0.3       6139.0  20000.0      US      USD   \n",
       "1396766240                0.3       3387.0   9999.0      US      USD   \n",
       "1361347175                0.0          0.0   5000.0      US      USD   \n",
       "\n",
       "            campaign_length    deadline    launched     created  spotlight  \\\n",
       "idx                                                                          \n",
       "1725323227               30  2018-01-12  2017-12-13  2017-12-08          0   \n",
       "2065169465               30  2018-01-12  2017-12-13  2017-12-12          1   \n",
       "1516902916               30  2018-01-12  2017-12-13  2017-08-11          0   \n",
       "1396766240               38  2018-01-12  2017-12-05  2017-10-08          0   \n",
       "1361347175               15  2018-01-12  2017-12-28  2017-12-22          0   \n",
       "\n",
       "            staff_pick   creator_name  blurb_length  \n",
       "idx                                                  \n",
       "1725323227           0          Rayna             6  \n",
       "2065169465           1    Holly Weist             5  \n",
       "1516902916           0   Mike Bradley            19  \n",
       "1396766240           0  B.Y. Eidelman            16  \n",
       "1361347175           0  Darrian Fosty            26  "
      ]
     },
     "execution_count": 5,
     "metadata": {},
     "output_type": "execute_result"
    }
   ],
   "source": [
    "df = pd.read_pickle('data/kickstarter_data_ds2.pkl')\n",
    "df['idx'] = df['id']\n",
    "df = df.set_index('idx')\n",
    "# df = pd.read_sql_query('''SELECT * FROM kickstarter_data_ds2''',engine)\n",
    "df['state'] = df['state'].replace({'failed': 0, 'successful': 1})\n",
    "print(df.shape)\n",
    "# pd.read_sql_query('''SELECT state, main_category, main_category, currency, currency, deadline, launched, usd_goal_real, usd_pledged_real FROM kickstarter_data_ds2 LIMIT 5''',engine)\n",
    "df.head()"
   ]
  },
  {
   "cell_type": "code",
   "execution_count": 6,
   "metadata": {},
   "outputs": [
    {
     "data": {
      "text/html": [
       "<div>\n",
       "<style scoped>\n",
       "    .dataframe tbody tr th:only-of-type {\n",
       "        vertical-align: middle;\n",
       "    }\n",
       "\n",
       "    .dataframe tbody tr th {\n",
       "        vertical-align: top;\n",
       "    }\n",
       "\n",
       "    .dataframe thead th {\n",
       "        text-align: right;\n",
       "    }\n",
       "</style>\n",
       "<table border=\"1\" class=\"dataframe\">\n",
       "  <thead>\n",
       "    <tr style=\"text-align: right;\">\n",
       "      <th></th>\n",
       "      <th>id</th>\n",
       "      <th>state</th>\n",
       "      <th>backers_count</th>\n",
       "      <th>pct_goal_achieved</th>\n",
       "      <th>usd_pledged</th>\n",
       "      <th>goal</th>\n",
       "      <th>campaign_length</th>\n",
       "      <th>spotlight</th>\n",
       "      <th>staff_pick</th>\n",
       "      <th>blurb_length</th>\n",
       "    </tr>\n",
       "  </thead>\n",
       "  <tbody>\n",
       "    <tr>\n",
       "      <th>campaign_length</th>\n",
       "      <td>0.005132</td>\n",
       "      <td>-0.089713</td>\n",
       "      <td>0.005262</td>\n",
       "      <td>-0.005518</td>\n",
       "      <td>0.015577</td>\n",
       "      <td>0.024512</td>\n",
       "      <td>1.000000</td>\n",
       "      <td>-0.089713</td>\n",
       "      <td>-0.009769</td>\n",
       "      <td>0.037886</td>\n",
       "    </tr>\n",
       "    <tr>\n",
       "      <th>blurb_length</th>\n",
       "      <td>0.000127</td>\n",
       "      <td>0.001067</td>\n",
       "      <td>-0.014007</td>\n",
       "      <td>-0.002317</td>\n",
       "      <td>-0.012107</td>\n",
       "      <td>-0.006230</td>\n",
       "      <td>0.037886</td>\n",
       "      <td>0.001067</td>\n",
       "      <td>-0.021289</td>\n",
       "      <td>1.000000</td>\n",
       "    </tr>\n",
       "    <tr>\n",
       "      <th>id</th>\n",
       "      <td>1.000000</td>\n",
       "      <td>-0.003152</td>\n",
       "      <td>-0.001976</td>\n",
       "      <td>-0.001247</td>\n",
       "      <td>-0.000432</td>\n",
       "      <td>0.002321</td>\n",
       "      <td>0.005132</td>\n",
       "      <td>-0.003152</td>\n",
       "      <td>0.001571</td>\n",
       "      <td>0.000127</td>\n",
       "    </tr>\n",
       "    <tr>\n",
       "      <th>goal</th>\n",
       "      <td>0.002321</td>\n",
       "      <td>-0.033583</td>\n",
       "      <td>0.008978</td>\n",
       "      <td>-0.000705</td>\n",
       "      <td>0.010378</td>\n",
       "      <td>1.000000</td>\n",
       "      <td>0.024512</td>\n",
       "      <td>-0.033583</td>\n",
       "      <td>-0.006790</td>\n",
       "      <td>-0.006230</td>\n",
       "    </tr>\n",
       "    <tr>\n",
       "      <th>staff_pick</th>\n",
       "      <td>0.001571</td>\n",
       "      <td>0.257919</td>\n",
       "      <td>0.152855</td>\n",
       "      <td>0.002356</td>\n",
       "      <td>0.143260</td>\n",
       "      <td>-0.006790</td>\n",
       "      <td>-0.009769</td>\n",
       "      <td>0.257919</td>\n",
       "      <td>1.000000</td>\n",
       "      <td>-0.021289</td>\n",
       "    </tr>\n",
       "    <tr>\n",
       "      <th>usd_pledged</th>\n",
       "      <td>-0.000432</td>\n",
       "      <td>0.107856</td>\n",
       "      <td>0.810093</td>\n",
       "      <td>0.008385</td>\n",
       "      <td>1.000000</td>\n",
       "      <td>0.010378</td>\n",
       "      <td>0.015577</td>\n",
       "      <td>0.107856</td>\n",
       "      <td>0.143260</td>\n",
       "      <td>-0.012107</td>\n",
       "    </tr>\n",
       "    <tr>\n",
       "      <th>backers_count</th>\n",
       "      <td>-0.001976</td>\n",
       "      <td>0.116075</td>\n",
       "      <td>1.000000</td>\n",
       "      <td>0.011663</td>\n",
       "      <td>0.810093</td>\n",
       "      <td>0.008978</td>\n",
       "      <td>0.005262</td>\n",
       "      <td>0.116075</td>\n",
       "      <td>0.152855</td>\n",
       "      <td>-0.014007</td>\n",
       "    </tr>\n",
       "    <tr>\n",
       "      <th>state</th>\n",
       "      <td>-0.003152</td>\n",
       "      <td>1.000000</td>\n",
       "      <td>0.116075</td>\n",
       "      <td>0.017137</td>\n",
       "      <td>0.107856</td>\n",
       "      <td>-0.033583</td>\n",
       "      <td>-0.089713</td>\n",
       "      <td>1.000000</td>\n",
       "      <td>0.257919</td>\n",
       "      <td>0.001067</td>\n",
       "    </tr>\n",
       "    <tr>\n",
       "      <th>spotlight</th>\n",
       "      <td>-0.003152</td>\n",
       "      <td>1.000000</td>\n",
       "      <td>0.116075</td>\n",
       "      <td>0.017137</td>\n",
       "      <td>0.107856</td>\n",
       "      <td>-0.033583</td>\n",
       "      <td>-0.089713</td>\n",
       "      <td>1.000000</td>\n",
       "      <td>0.257919</td>\n",
       "      <td>0.001067</td>\n",
       "    </tr>\n",
       "    <tr>\n",
       "      <th>pct_goal_achieved</th>\n",
       "      <td>-0.001247</td>\n",
       "      <td>0.017137</td>\n",
       "      <td>0.011663</td>\n",
       "      <td>1.000000</td>\n",
       "      <td>0.008385</td>\n",
       "      <td>-0.000705</td>\n",
       "      <td>-0.005518</td>\n",
       "      <td>0.017137</td>\n",
       "      <td>0.002356</td>\n",
       "      <td>-0.002317</td>\n",
       "    </tr>\n",
       "  </tbody>\n",
       "</table>\n",
       "</div>"
      ],
      "text/plain": [
       "                         id     state  backers_count  pct_goal_achieved  \\\n",
       "campaign_length    0.005132 -0.089713       0.005262          -0.005518   \n",
       "blurb_length       0.000127  0.001067      -0.014007          -0.002317   \n",
       "id                 1.000000 -0.003152      -0.001976          -0.001247   \n",
       "goal               0.002321 -0.033583       0.008978          -0.000705   \n",
       "staff_pick         0.001571  0.257919       0.152855           0.002356   \n",
       "usd_pledged       -0.000432  0.107856       0.810093           0.008385   \n",
       "backers_count     -0.001976  0.116075       1.000000           0.011663   \n",
       "state             -0.003152  1.000000       0.116075           0.017137   \n",
       "spotlight         -0.003152  1.000000       0.116075           0.017137   \n",
       "pct_goal_achieved -0.001247  0.017137       0.011663           1.000000   \n",
       "\n",
       "                   usd_pledged      goal  campaign_length  spotlight  \\\n",
       "campaign_length       0.015577  0.024512         1.000000  -0.089713   \n",
       "blurb_length         -0.012107 -0.006230         0.037886   0.001067   \n",
       "id                   -0.000432  0.002321         0.005132  -0.003152   \n",
       "goal                  0.010378  1.000000         0.024512  -0.033583   \n",
       "staff_pick            0.143260 -0.006790        -0.009769   0.257919   \n",
       "usd_pledged           1.000000  0.010378         0.015577   0.107856   \n",
       "backers_count         0.810093  0.008978         0.005262   0.116075   \n",
       "state                 0.107856 -0.033583        -0.089713   1.000000   \n",
       "spotlight             0.107856 -0.033583        -0.089713   1.000000   \n",
       "pct_goal_achieved     0.008385 -0.000705        -0.005518   0.017137   \n",
       "\n",
       "                   staff_pick  blurb_length  \n",
       "campaign_length     -0.009769      0.037886  \n",
       "blurb_length        -0.021289      1.000000  \n",
       "id                   0.001571      0.000127  \n",
       "goal                -0.006790     -0.006230  \n",
       "staff_pick           1.000000     -0.021289  \n",
       "usd_pledged          0.143260     -0.012107  \n",
       "backers_count        0.152855     -0.014007  \n",
       "state                0.257919      0.001067  \n",
       "spotlight            0.257919      0.001067  \n",
       "pct_goal_achieved    0.002356     -0.002317  "
      ]
     },
     "execution_count": 6,
     "metadata": {},
     "output_type": "execute_result"
    }
   ],
   "source": [
    "df.corr().sort_values('pct_goal_achieved')"
   ]
  },
  {
   "cell_type": "code",
   "execution_count": 7,
   "metadata": {},
   "outputs": [
    {
     "data": {
      "text/plain": [
       "(41894, 19)"
      ]
     },
     "execution_count": 7,
     "metadata": {},
     "output_type": "execute_result"
    }
   ],
   "source": [
    "start_date = datetime.datetime.strptime('2016-01-01', \"%Y-%m-%d\").date()\n",
    "\n",
    "df = df[df['launched'] >= start_date] # filter from start date to current\n",
    "df.shape"
   ]
  },
  {
   "cell_type": "code",
   "execution_count": 8,
   "metadata": {},
   "outputs": [
    {
     "name": "stdout",
     "output_type": "stream",
     "text": [
      "(21068, 19)\n"
     ]
    },
    {
     "data": {
      "text/html": [
       "<div>\n",
       "<style scoped>\n",
       "    .dataframe tbody tr th:only-of-type {\n",
       "        vertical-align: middle;\n",
       "    }\n",
       "\n",
       "    .dataframe tbody tr th {\n",
       "        vertical-align: top;\n",
       "    }\n",
       "\n",
       "    .dataframe thead th {\n",
       "        text-align: right;\n",
       "    }\n",
       "</style>\n",
       "<table border=\"1\" class=\"dataframe\">\n",
       "  <thead>\n",
       "    <tr style=\"text-align: right;\">\n",
       "      <th></th>\n",
       "      <th>id</th>\n",
       "      <th>name</th>\n",
       "      <th>state</th>\n",
       "      <th>category_main</th>\n",
       "      <th>category_name</th>\n",
       "      <th>backers_count</th>\n",
       "      <th>pct_goal_achieved</th>\n",
       "      <th>usd_pledged</th>\n",
       "      <th>goal</th>\n",
       "      <th>country</th>\n",
       "      <th>currency</th>\n",
       "      <th>campaign_length</th>\n",
       "      <th>deadline</th>\n",
       "      <th>launched</th>\n",
       "      <th>created</th>\n",
       "      <th>spotlight</th>\n",
       "      <th>staff_pick</th>\n",
       "      <th>creator_name</th>\n",
       "      <th>blurb_length</th>\n",
       "    </tr>\n",
       "    <tr>\n",
       "      <th>idx</th>\n",
       "      <th></th>\n",
       "      <th></th>\n",
       "      <th></th>\n",
       "      <th></th>\n",
       "      <th></th>\n",
       "      <th></th>\n",
       "      <th></th>\n",
       "      <th></th>\n",
       "      <th></th>\n",
       "      <th></th>\n",
       "      <th></th>\n",
       "      <th></th>\n",
       "      <th></th>\n",
       "      <th></th>\n",
       "      <th></th>\n",
       "      <th></th>\n",
       "      <th></th>\n",
       "      <th></th>\n",
       "      <th></th>\n",
       "    </tr>\n",
       "  </thead>\n",
       "  <tbody>\n",
       "    <tr>\n",
       "      <th>2065169465</th>\n",
       "      <td>2065169465</td>\n",
       "      <td>Cotton-Top Pastries</td>\n",
       "      <td>1</td>\n",
       "      <td>food</td>\n",
       "      <td>Small Batch</td>\n",
       "      <td>99</td>\n",
       "      <td>1.3</td>\n",
       "      <td>9858.000000</td>\n",
       "      <td>7500.0</td>\n",
       "      <td>US</td>\n",
       "      <td>USD</td>\n",
       "      <td>30</td>\n",
       "      <td>2018-01-12</td>\n",
       "      <td>2017-12-13</td>\n",
       "      <td>2017-12-12</td>\n",
       "      <td>1</td>\n",
       "      <td>1</td>\n",
       "      <td>Holly Weist</td>\n",
       "      <td>5</td>\n",
       "    </tr>\n",
       "    <tr>\n",
       "      <th>549309727</th>\n",
       "      <td>549309727</td>\n",
       "      <td>Higher Grounds Coffee Company Mobile Coffee Tr...</td>\n",
       "      <td>1</td>\n",
       "      <td>food</td>\n",
       "      <td>Food Trucks</td>\n",
       "      <td>61</td>\n",
       "      <td>1.0</td>\n",
       "      <td>10060.000000</td>\n",
       "      <td>10000.0</td>\n",
       "      <td>US</td>\n",
       "      <td>USD</td>\n",
       "      <td>36</td>\n",
       "      <td>2018-01-12</td>\n",
       "      <td>2017-12-07</td>\n",
       "      <td>2017-08-16</td>\n",
       "      <td>1</td>\n",
       "      <td>0</td>\n",
       "      <td>Katreena Powell</td>\n",
       "      <td>21</td>\n",
       "    </tr>\n",
       "    <tr>\n",
       "      <th>2090250769</th>\n",
       "      <td>2090250769</td>\n",
       "      <td>Tech Lab at Visual Philosophy</td>\n",
       "      <td>1</td>\n",
       "      <td>art</td>\n",
       "      <td>Mixed Media</td>\n",
       "      <td>42</td>\n",
       "      <td>1.0</td>\n",
       "      <td>10100.000000</td>\n",
       "      <td>10000.0</td>\n",
       "      <td>US</td>\n",
       "      <td>USD</td>\n",
       "      <td>30</td>\n",
       "      <td>2018-01-12</td>\n",
       "      <td>2017-12-13</td>\n",
       "      <td>2017-12-01</td>\n",
       "      <td>1</td>\n",
       "      <td>0</td>\n",
       "      <td>Yori and Dana Seeger</td>\n",
       "      <td>22</td>\n",
       "    </tr>\n",
       "    <tr>\n",
       "      <th>1339075969</th>\n",
       "      <td>1339075969</td>\n",
       "      <td>Run This Place - The Book</td>\n",
       "      <td>1</td>\n",
       "      <td>publishing</td>\n",
       "      <td>Nonfiction</td>\n",
       "      <td>483</td>\n",
       "      <td>1.0</td>\n",
       "      <td>20190.220000</td>\n",
       "      <td>20000.0</td>\n",
       "      <td>US</td>\n",
       "      <td>USD</td>\n",
       "      <td>30</td>\n",
       "      <td>2018-01-12</td>\n",
       "      <td>2017-12-13</td>\n",
       "      <td>2017-12-12</td>\n",
       "      <td>1</td>\n",
       "      <td>0</td>\n",
       "      <td>Dane Rauschenberg</td>\n",
       "      <td>18</td>\n",
       "    </tr>\n",
       "    <tr>\n",
       "      <th>1756145145</th>\n",
       "      <td>1756145145</td>\n",
       "      <td>WANGTA: a novel</td>\n",
       "      <td>1</td>\n",
       "      <td>publishing</td>\n",
       "      <td>Fiction</td>\n",
       "      <td>13</td>\n",
       "      <td>0.8</td>\n",
       "      <td>427.185132</td>\n",
       "      <td>550.0</td>\n",
       "      <td>CA</td>\n",
       "      <td>CAD</td>\n",
       "      <td>21</td>\n",
       "      <td>2018-01-12</td>\n",
       "      <td>2017-12-22</td>\n",
       "      <td>2017-12-18</td>\n",
       "      <td>1</td>\n",
       "      <td>0</td>\n",
       "      <td>D. H. de Bruin</td>\n",
       "      <td>22</td>\n",
       "    </tr>\n",
       "  </tbody>\n",
       "</table>\n",
       "</div>"
      ],
      "text/plain": [
       "                    id                                               name  \\\n",
       "idx                                                                         \n",
       "2065169465  2065169465                                Cotton-Top Pastries   \n",
       "549309727    549309727  Higher Grounds Coffee Company Mobile Coffee Tr...   \n",
       "2090250769  2090250769                      Tech Lab at Visual Philosophy   \n",
       "1339075969  1339075969                          Run This Place - The Book   \n",
       "1756145145  1756145145                                    WANGTA: a novel   \n",
       "\n",
       "            state category_main category_name  backers_count  \\\n",
       "idx                                                            \n",
       "2065169465      1          food   Small Batch             99   \n",
       "549309727       1          food   Food Trucks             61   \n",
       "2090250769      1           art   Mixed Media             42   \n",
       "1339075969      1    publishing    Nonfiction            483   \n",
       "1756145145      1    publishing       Fiction             13   \n",
       "\n",
       "            pct_goal_achieved   usd_pledged     goal country currency  \\\n",
       "idx                                                                     \n",
       "2065169465                1.3   9858.000000   7500.0      US      USD   \n",
       "549309727                 1.0  10060.000000  10000.0      US      USD   \n",
       "2090250769                1.0  10100.000000  10000.0      US      USD   \n",
       "1339075969                1.0  20190.220000  20000.0      US      USD   \n",
       "1756145145                0.8    427.185132    550.0      CA      CAD   \n",
       "\n",
       "            campaign_length    deadline    launched     created  spotlight  \\\n",
       "idx                                                                          \n",
       "2065169465               30  2018-01-12  2017-12-13  2017-12-12          1   \n",
       "549309727                36  2018-01-12  2017-12-07  2017-08-16          1   \n",
       "2090250769               30  2018-01-12  2017-12-13  2017-12-01          1   \n",
       "1339075969               30  2018-01-12  2017-12-13  2017-12-12          1   \n",
       "1756145145               21  2018-01-12  2017-12-22  2017-12-18          1   \n",
       "\n",
       "            staff_pick          creator_name  blurb_length  \n",
       "idx                                                         \n",
       "2065169465           1           Holly Weist             5  \n",
       "549309727            0       Katreena Powell            21  \n",
       "2090250769           0  Yori and Dana Seeger            22  \n",
       "1339075969           0     Dane Rauschenberg            18  \n",
       "1756145145           0        D. H. de Bruin            22  "
      ]
     },
     "execution_count": 8,
     "metadata": {},
     "output_type": "execute_result"
    }
   ],
   "source": [
    "df_success = df[df['state'] == 1]\n",
    "df_fail = df[df['state'] == 0]\n",
    "print(df_success.shape)\n",
    "df_success.head()"
   ]
  },
  {
   "cell_type": "code",
   "execution_count": 9,
   "metadata": {},
   "outputs": [
    {
     "name": "stdout",
     "output_type": "stream",
     "text": [
      "(20826, 19)\n"
     ]
    },
    {
     "data": {
      "text/html": [
       "<div>\n",
       "<style scoped>\n",
       "    .dataframe tbody tr th:only-of-type {\n",
       "        vertical-align: middle;\n",
       "    }\n",
       "\n",
       "    .dataframe tbody tr th {\n",
       "        vertical-align: top;\n",
       "    }\n",
       "\n",
       "    .dataframe thead th {\n",
       "        text-align: right;\n",
       "    }\n",
       "</style>\n",
       "<table border=\"1\" class=\"dataframe\">\n",
       "  <thead>\n",
       "    <tr style=\"text-align: right;\">\n",
       "      <th></th>\n",
       "      <th>id</th>\n",
       "      <th>name</th>\n",
       "      <th>state</th>\n",
       "      <th>category_main</th>\n",
       "      <th>category_name</th>\n",
       "      <th>backers_count</th>\n",
       "      <th>pct_goal_achieved</th>\n",
       "      <th>usd_pledged</th>\n",
       "      <th>goal</th>\n",
       "      <th>country</th>\n",
       "      <th>currency</th>\n",
       "      <th>campaign_length</th>\n",
       "      <th>deadline</th>\n",
       "      <th>launched</th>\n",
       "      <th>created</th>\n",
       "      <th>spotlight</th>\n",
       "      <th>staff_pick</th>\n",
       "      <th>creator_name</th>\n",
       "      <th>blurb_length</th>\n",
       "    </tr>\n",
       "    <tr>\n",
       "      <th>idx</th>\n",
       "      <th></th>\n",
       "      <th></th>\n",
       "      <th></th>\n",
       "      <th></th>\n",
       "      <th></th>\n",
       "      <th></th>\n",
       "      <th></th>\n",
       "      <th></th>\n",
       "      <th></th>\n",
       "      <th></th>\n",
       "      <th></th>\n",
       "      <th></th>\n",
       "      <th></th>\n",
       "      <th></th>\n",
       "      <th></th>\n",
       "      <th></th>\n",
       "      <th></th>\n",
       "      <th></th>\n",
       "      <th></th>\n",
       "    </tr>\n",
       "  </thead>\n",
       "  <tbody>\n",
       "    <tr>\n",
       "      <th>1725323227</th>\n",
       "      <td>1725323227</td>\n",
       "      <td>Inspire young girls</td>\n",
       "      <td>0</td>\n",
       "      <td>fashion</td>\n",
       "      <td>Childrenswear</td>\n",
       "      <td>1</td>\n",
       "      <td>0.0</td>\n",
       "      <td>30.0</td>\n",
       "      <td>1300.0</td>\n",
       "      <td>US</td>\n",
       "      <td>USD</td>\n",
       "      <td>30</td>\n",
       "      <td>2018-01-12</td>\n",
       "      <td>2017-12-13</td>\n",
       "      <td>2017-12-08</td>\n",
       "      <td>0</td>\n",
       "      <td>0</td>\n",
       "      <td>Rayna</td>\n",
       "      <td>6</td>\n",
       "    </tr>\n",
       "    <tr>\n",
       "      <th>1516902916</th>\n",
       "      <td>1516902916</td>\n",
       "      <td>Dreaming Creek Brewery</td>\n",
       "      <td>0</td>\n",
       "      <td>food</td>\n",
       "      <td>Drinks</td>\n",
       "      <td>64</td>\n",
       "      <td>0.3</td>\n",
       "      <td>6139.0</td>\n",
       "      <td>20000.0</td>\n",
       "      <td>US</td>\n",
       "      <td>USD</td>\n",
       "      <td>30</td>\n",
       "      <td>2018-01-12</td>\n",
       "      <td>2017-12-13</td>\n",
       "      <td>2017-08-11</td>\n",
       "      <td>0</td>\n",
       "      <td>0</td>\n",
       "      <td>Mike Bradley</td>\n",
       "      <td>19</td>\n",
       "    </tr>\n",
       "    <tr>\n",
       "      <th>1396766240</th>\n",
       "      <td>1396766240</td>\n",
       "      <td>Ripple Playing Cards - Printed by USPCC</td>\n",
       "      <td>0</td>\n",
       "      <td>games</td>\n",
       "      <td>Playing Cards</td>\n",
       "      <td>131</td>\n",
       "      <td>0.3</td>\n",
       "      <td>3387.0</td>\n",
       "      <td>9999.0</td>\n",
       "      <td>US</td>\n",
       "      <td>USD</td>\n",
       "      <td>38</td>\n",
       "      <td>2018-01-12</td>\n",
       "      <td>2017-12-05</td>\n",
       "      <td>2017-10-08</td>\n",
       "      <td>0</td>\n",
       "      <td>0</td>\n",
       "      <td>B.Y. Eidelman</td>\n",
       "      <td>16</td>\n",
       "    </tr>\n",
       "    <tr>\n",
       "      <th>1361347175</th>\n",
       "      <td>1361347175</td>\n",
       "      <td>New Boutique Funding for the San Antonio Stock...</td>\n",
       "      <td>0</td>\n",
       "      <td>fashion</td>\n",
       "      <td>Ready-to-wear</td>\n",
       "      <td>0</td>\n",
       "      <td>0.0</td>\n",
       "      <td>0.0</td>\n",
       "      <td>5000.0</td>\n",
       "      <td>US</td>\n",
       "      <td>USD</td>\n",
       "      <td>15</td>\n",
       "      <td>2018-01-12</td>\n",
       "      <td>2017-12-28</td>\n",
       "      <td>2017-12-22</td>\n",
       "      <td>0</td>\n",
       "      <td>0</td>\n",
       "      <td>Darrian Fosty</td>\n",
       "      <td>26</td>\n",
       "    </tr>\n",
       "    <tr>\n",
       "      <th>751080010</th>\n",
       "      <td>751080010</td>\n",
       "      <td>The Face of the Deep EP is almost ready for re...</td>\n",
       "      <td>0</td>\n",
       "      <td>music</td>\n",
       "      <td>Electronic Music</td>\n",
       "      <td>4</td>\n",
       "      <td>0.4</td>\n",
       "      <td>165.0</td>\n",
       "      <td>425.0</td>\n",
       "      <td>US</td>\n",
       "      <td>USD</td>\n",
       "      <td>30</td>\n",
       "      <td>2018-01-12</td>\n",
       "      <td>2017-12-13</td>\n",
       "      <td>2017-12-09</td>\n",
       "      <td>0</td>\n",
       "      <td>0</td>\n",
       "      <td>The Face of the Deep</td>\n",
       "      <td>22</td>\n",
       "    </tr>\n",
       "  </tbody>\n",
       "</table>\n",
       "</div>"
      ],
      "text/plain": [
       "                    id                                               name  \\\n",
       "idx                                                                         \n",
       "1725323227  1725323227                                Inspire young girls   \n",
       "1516902916  1516902916                             Dreaming Creek Brewery   \n",
       "1396766240  1396766240            Ripple Playing Cards - Printed by USPCC   \n",
       "1361347175  1361347175  New Boutique Funding for the San Antonio Stock...   \n",
       "751080010    751080010  The Face of the Deep EP is almost ready for re...   \n",
       "\n",
       "            state category_main     category_name  backers_count  \\\n",
       "idx                                                                \n",
       "1725323227      0       fashion     Childrenswear              1   \n",
       "1516902916      0          food            Drinks             64   \n",
       "1396766240      0         games     Playing Cards            131   \n",
       "1361347175      0       fashion     Ready-to-wear              0   \n",
       "751080010       0         music  Electronic Music              4   \n",
       "\n",
       "            pct_goal_achieved  usd_pledged     goal country currency  \\\n",
       "idx                                                                    \n",
       "1725323227                0.0         30.0   1300.0      US      USD   \n",
       "1516902916                0.3       6139.0  20000.0      US      USD   \n",
       "1396766240                0.3       3387.0   9999.0      US      USD   \n",
       "1361347175                0.0          0.0   5000.0      US      USD   \n",
       "751080010                 0.4        165.0    425.0      US      USD   \n",
       "\n",
       "            campaign_length    deadline    launched     created  spotlight  \\\n",
       "idx                                                                          \n",
       "1725323227               30  2018-01-12  2017-12-13  2017-12-08          0   \n",
       "1516902916               30  2018-01-12  2017-12-13  2017-08-11          0   \n",
       "1396766240               38  2018-01-12  2017-12-05  2017-10-08          0   \n",
       "1361347175               15  2018-01-12  2017-12-28  2017-12-22          0   \n",
       "751080010                30  2018-01-12  2017-12-13  2017-12-09          0   \n",
       "\n",
       "            staff_pick          creator_name  blurb_length  \n",
       "idx                                                         \n",
       "1725323227           0                 Rayna             6  \n",
       "1516902916           0          Mike Bradley            19  \n",
       "1396766240           0         B.Y. Eidelman            16  \n",
       "1361347175           0         Darrian Fosty            26  \n",
       "751080010            0  The Face of the Deep            22  "
      ]
     },
     "execution_count": 9,
     "metadata": {},
     "output_type": "execute_result"
    }
   ],
   "source": [
    "print(df_fail.shape)\n",
    "df_fail.head()"
   ]
  },
  {
   "cell_type": "code",
   "execution_count": 10,
   "metadata": {},
   "outputs": [
    {
     "data": {
      "text/plain": [
       "0.0813454335926246"
      ]
     },
     "execution_count": 10,
     "metadata": {},
     "output_type": "execute_result"
    }
   ],
   "source": [
    "df_success.pct_goal_achieved.mean()\n",
    "df_fail.pct_goal_achieved.mean()"
   ]
  },
  {
   "cell_type": "code",
   "execution_count": 11,
   "metadata": {},
   "outputs": [
    {
     "data": {
      "text/plain": [
       "Index(['id', 'name', 'state', 'category_main', 'category_name',\n",
       "       'backers_count', 'pct_goal_achieved', 'usd_pledged', 'goal', 'country',\n",
       "       'currency', 'campaign_length', 'deadline', 'launched', 'created',\n",
       "       'spotlight', 'staff_pick', 'creator_name', 'blurb_length'],\n",
       "      dtype='object')"
      ]
     },
     "execution_count": 11,
     "metadata": {},
     "output_type": "execute_result"
    }
   ],
   "source": [
    "df.columns"
   ]
  },
  {
   "cell_type": "code",
   "execution_count": 12,
   "metadata": {},
   "outputs": [
    {
     "data": {
      "text/plain": [
       "array(['Childrenswear', 'Small Batch', 'Drinks', 'Playing Cards',\n",
       "       'Ready-to-wear', 'Food Trucks', 'Electronic Music', 'Flight',\n",
       "       'Mixed Media', 'Farms', 'Nonfiction', 'Fiction', 'Comedy',\n",
       "       'Television', 'Hip-Hop', 'Web', 'Music Videos', 'Stationery',\n",
       "       'Performance Art', 'Graphic Novels', 'Horror', 'Restaurants',\n",
       "       'Cookbooks', '3D Printing', 'Jazz', 'Apps', 'Accessories',\n",
       "       'Illustration', 'Periodicals', 'Plays', \"Children's Books\",\n",
       "       'Sound', 'Dance', 'Zines', 'Fine Art', 'Translations', 'Jewelry',\n",
       "       'Radio & Podcasts', 'Anthologies', 'Video Art', 'Candles',\n",
       "       'Mobile Games', 'Graphic Design', 'Photobooks', 'Latin',\n",
       "       'Literary Spaces', 'DIY', 'Footwear', 'Apparel', 'Drama',\n",
       "       'Performances', 'Hardware', 'Webseries', 'Gaming Hardware',\n",
       "       'Nature', 'World Music', 'Blues', 'Audio', 'Workshops',\n",
       "       'Narrative Film', 'Movie Theaters', 'Couture', 'Architecture',\n",
       "       'Animation', 'Experimental', 'Spaces', 'Crafts', 'Art Books',\n",
       "       'Fabrication Tools', 'Academic', 'DIY Electronics', 'Ceramics',\n",
       "       'Pop', 'Pottery', 'Gadgets', 'Animals', 'Webcomics', 'Faith',\n",
       "       'Wearables', 'Festivals', 'Vegan', 'Public Art', 'Metal',\n",
       "       'Interactive Design', 'Romance', 'Video', 'Classical Music',\n",
       "       'Fantasy', 'Civic Design', 'Sculpture', 'Comic Books', 'Family',\n",
       "       'Calendars', 'Live Games', 'Events', 'Installations', 'Thrillers',\n",
       "       'Science Fiction', 'Software', 'Poetry', 'Textiles', 'Robots',\n",
       "       'Painting', 'People', 'Camera Equipment', 'Action', 'Print',\n",
       "       'Typography', 'Musical', 'Journalism', 'Space Exploration', 'R&B',\n",
       "       'Immersive', 'Conceptual Art', 'Woodworking', 'Pet Fashion',\n",
       "       'Young Adult', 'Photo', 'Weaving', 'Letterpress', 'Punk',\n",
       "       'Puzzles', 'Embroidery', 'Places', \"Farmer's Markets\",\n",
       "       'Literary Journals', 'Printing', 'Makerspaces', 'Knitting', 'Kids',\n",
       "       'Video Games', 'Glass', 'Community Gardens', 'Bacon', 'Crochet',\n",
       "       'Quilts', 'Residencies', 'Chiptune', 'Taxidermy', 'Country & Folk'],\n",
       "      dtype=object)"
      ]
     },
     "execution_count": 12,
     "metadata": {},
     "output_type": "execute_result"
    }
   ],
   "source": [
    "df['category_name'].unique()"
   ]
  },
  {
   "cell_type": "code",
   "execution_count": 13,
   "metadata": {},
   "outputs": [
    {
     "data": {
      "text/plain": [
       "<seaborn.axisgrid.JointGrid at 0x11057f588>"
      ]
     },
     "execution_count": 13,
     "metadata": {},
     "output_type": "execute_result"
    },
    {
     "data": {
      "image/png": "[encoded data removed]",
      "text/plain": [
       "<matplotlib.figure.Figure at 0x11057fa20>"
      ]
     },
     "metadata": {},
     "output_type": "display_data"
    }
   ],
   "source": [
    "sns.jointplot(x='blurb_length',y='backers_count', data=df)"
   ]
  },
  {
   "cell_type": "code",
   "execution_count": 14,
   "metadata": {},
   "outputs": [
    {
     "data": {
      "image/png": "[encoded data removed]",
      "text/plain": [
       "<matplotlib.figure.Figure at 0x112b7b2e8>"
      ]
     },
     "metadata": {},
     "output_type": "display_data"
    }
   ],
   "source": [
    "sns.jointplot(x='pct_goal_achieved',y='backers_count',data=df,color='red');"
   ]
  },
  {
   "cell_type": "code",
   "execution_count": 15,
   "metadata": {},
   "outputs": [
    {
     "data": {
      "text/plain": [
       "Index(['id', 'name', 'state', 'category_main', 'category_name',\n",
       "       'backers_count', 'pct_goal_achieved', 'usd_pledged', 'goal', 'country',\n",
       "       'currency', 'campaign_length', 'deadline', 'launched', 'created',\n",
       "       'spotlight', 'staff_pick', 'creator_name', 'blurb_length'],\n",
       "      dtype='object')"
      ]
     },
     "execution_count": 15,
     "metadata": {},
     "output_type": "execute_result"
    }
   ],
   "source": [
    "df.columns"
   ]
  },
  {
   "cell_type": "code",
   "execution_count": 16,
   "metadata": {},
   "outputs": [
    {
     "data": {
      "text/plain": [
       "<seaborn.axisgrid.JointGrid at 0x112bb7c88>"
      ]
     },
     "execution_count": 16,
     "metadata": {},
     "output_type": "execute_result"
    },
    {
     "data": {
      "image/png": "[encoded data removed]",
      "text/plain": [
       "<matplotlib.figure.Figure at 0x112bb7978>"
      ]
     },
     "metadata": {},
     "output_type": "display_data"
    }
   ],
   "source": [
    "sns.jointplot(x='backers_count',y='usd_pledged',data=df,color='green')"
   ]
  },
  {
   "cell_type": "code",
   "execution_count": 17,
   "metadata": {},
   "outputs": [],
   "source": [
    "\n",
    "\n",
    "# sns.set_style('whitegrid')\n",
    "# df['pct_goal_achieved'].hist(bins=3000)\n",
    "# plt.xlabel('pct_goal_achieved')\n",
    "# # sns.plt.ylim(0,)\n",
    "# plt.xlim(0,10)"
   ]
  },
  {
   "cell_type": "code",
   "execution_count": null,
   "metadata": {
    "collapsed": true
   },
   "outputs": [],
   "source": []
  },
  {
   "cell_type": "code",
   "execution_count": 18,
   "metadata": {},
   "outputs": [
    {
     "data": {
      "text/plain": [
       "5078"
      ]
     },
     "execution_count": 18,
     "metadata": {},
     "output_type": "execute_result"
    }
   ],
   "source": [
    "df.staff_pick.sum()"
   ]
  },
  {
   "cell_type": "code",
   "execution_count": 19,
   "metadata": {},
   "outputs": [
    {
     "name": "stdout",
     "output_type": "stream",
     "text": [
      "(2, 2)\n"
     ]
    },
    {
     "data": {
      "text/plain": [
       "Text(0,0.5,'Number of Campaigns')"
      ]
     },
     "execution_count": 19,
     "metadata": {},
     "output_type": "execute_result"
    },
    {
     "data": {
      "image/png": "[encoded data removed]",
      "text/plain": [
       "<matplotlib.figure.Figure at 0x110a76438>"
      ]
     },
     "metadata": {},
     "output_type": "display_data"
    }
   ],
   "source": [
    "df['not_staff_pick'] = df['staff_pick'].replace({0: 1, 1:0})\n",
    "df['state'] = df['state'].replace({0: \"Fail\", 1:\"Success\"})\n",
    "# df['total'] = df['staff_pick'] + df['not_staff_pick']\n",
    "df_staff_pick = df.groupby([\"state\"]).sum().sort_values(['staff_pick'], ascending=[False])\n",
    "df_staff_pick = pd.DataFrame(df_staff_pick, columns={'staff_pick','not_staff_pick'})\n",
    "print(df_staff_pick.shape)\n",
    "df_staff_pick.plot(kind='bar')\n",
    "# plt.plot(df_staff_pick, label='stuff')\n",
    "plt.xlabel('Campaign Outcome')\n",
    "plt.ylabel('Number of Campaigns')"
   ]
  },
  {
   "cell_type": "code",
   "execution_count": 20,
   "metadata": {},
   "outputs": [],
   "source": [
    "# ax = sns.barplot(x=\"state\", y='staff_pick', data=df)\n",
    "\n",
    "# plt.xlabel('state', fontsize=12)\n",
    "# plt.ylabel('staff_pick', fontsize=12)\n",
    "# plt.tight_layout()\n",
    "# # plt.savefig('charts/Top20.png')\n",
    "# plt.show()"
   ]
  },
  {
   "cell_type": "code",
   "execution_count": 21,
   "metadata": {},
   "outputs": [
    {
     "name": "stdout",
     "output_type": "stream",
     "text": [
      "(2, 1)\n"
     ]
    },
    {
     "data": {
      "text/html": [
       "<div>\n",
       "<style scoped>\n",
       "    .dataframe tbody tr th:only-of-type {\n",
       "        vertical-align: middle;\n",
       "    }\n",
       "\n",
       "    .dataframe tbody tr th {\n",
       "        vertical-align: top;\n",
       "    }\n",
       "\n",
       "    .dataframe thead th {\n",
       "        text-align: right;\n",
       "    }\n",
       "</style>\n",
       "<table border=\"1\" class=\"dataframe\">\n",
       "  <thead>\n",
       "    <tr style=\"text-align: right;\">\n",
       "      <th></th>\n",
       "      <th>name</th>\n",
       "    </tr>\n",
       "    <tr>\n",
       "      <th>state</th>\n",
       "      <th></th>\n",
       "    </tr>\n",
       "  </thead>\n",
       "  <tbody>\n",
       "    <tr>\n",
       "      <th>Success</th>\n",
       "      <td>21068</td>\n",
       "    </tr>\n",
       "    <tr>\n",
       "      <th>Fail</th>\n",
       "      <td>20826</td>\n",
       "    </tr>\n",
       "  </tbody>\n",
       "</table>\n",
       "</div>"
      ],
      "text/plain": [
       "          name\n",
       "state         \n",
       "Success  21068\n",
       "Fail     20826"
      ]
     },
     "execution_count": 21,
     "metadata": {},
     "output_type": "execute_result"
    }
   ],
   "source": [
    "df_state = df.groupby([\"state\"]).count().sort_values(['name'], ascending=[False])\n",
    "df_state = pd.DataFrame(df_state, columns={'name'})\n",
    "print(df_state.shape)\n",
    "df_state"
   ]
  },
  {
   "cell_type": "code",
   "execution_count": 22,
   "metadata": {},
   "outputs": [
    {
     "name": "stdout",
     "output_type": "stream",
     "text": [
      "(2, 2)\n"
     ]
    },
    {
     "data": {
      "text/plain": [
       "<matplotlib.axes._subplots.AxesSubplot at 0x110a7ec88>"
      ]
     },
     "execution_count": 22,
     "metadata": {},
     "output_type": "execute_result"
    },
    {
     "data": {
      "image/png": "[encoded data removed]",
      "text/plain": [
       "<matplotlib.figure.Figure at 0x1a18ac5e10>"
      ]
     },
     "metadata": {},
     "output_type": "display_data"
    }
   ],
   "source": [
    "df_state = df.groupby([\"state\"]).sum().sort_values(['usd_pledged'], ascending=[False])\n",
    "df_state = pd.DataFrame(df_state, columns={'usd_pledged','goal'})\n",
    "print(df_state.shape)\n",
    "df_state.plot(kind='bar')"
   ]
  },
  {
   "cell_type": "code",
   "execution_count": 23,
   "metadata": {},
   "outputs": [
    {
     "name": "stdout",
     "output_type": "stream",
     "text": [
      "(2, 1)\n"
     ]
    },
    {
     "data": {
      "text/plain": [
       "<matplotlib.axes._subplots.AxesSubplot at 0x110991940>"
      ]
     },
     "execution_count": 23,
     "metadata": {},
     "output_type": "execute_result"
    },
    {
     "data": {
      "image/png": "[encoded data removed]",
      "text/plain": [
       "<matplotlib.figure.Figure at 0x1109cc7b8>"
      ]
     },
     "metadata": {},
     "output_type": "display_data"
    }
   ],
   "source": [
    "df_state = df.groupby([\"state\"]).sum().sort_values(['backers_count'], ascending=[False])\n",
    "df_state = pd.DataFrame(df_state, columns={'backers_count'})\n",
    "print(df_state.shape)\n",
    "df_state.plot(kind='bar')"
   ]
  },
  {
   "cell_type": "code",
   "execution_count": 24,
   "metadata": {},
   "outputs": [
    {
     "name": "stdout",
     "output_type": "stream",
     "text": [
      "(44, 1)\n"
     ]
    },
    {
     "data": {
      "image/png": "[encoded data removed]",
      "text/plain": [
       "<matplotlib.figure.Figure at 0x112be5240>"
      ]
     },
     "metadata": {},
     "output_type": "display_data"
    }
   ],
   "source": [
    "df_country = df.groupby([\"country\",\"state\"]).count().sort_values(['name'], ascending=[False])\n",
    "df_country = pd.DataFrame(df_country, columns={'name'})\n",
    "print(df_country.shape)\n",
    "df_country.plot(kind='bar')\n",
    "plt.figsize=(20,10)"
   ]
  },
  {
   "cell_type": "code",
   "execution_count": 25,
   "metadata": {},
   "outputs": [
    {
     "name": "stdout",
     "output_type": "stream",
     "text": [
      "(44, 2)\n"
     ]
    },
    {
     "data": {
      "text/plain": [
       "<matplotlib.axes._subplots.AxesSubplot at 0x110bdda90>"
      ]
     },
     "execution_count": 25,
     "metadata": {},
     "output_type": "execute_result"
    },
    {
     "data": {
      "image/png": "[encoded data removed]",
      "text/plain": [
       "<matplotlib.figure.Figure at 0x110919748>"
      ]
     },
     "metadata": {},
     "output_type": "display_data"
    }
   ],
   "source": [
    "df_country = df.groupby([\"country\",\"state\"]).sum().sort_values(['usd_pledged'], ascending=[False])\n",
    "df_country = pd.DataFrame(df_country, columns={'usd_pledged','goal'})\n",
    "print(df_country.shape)\n",
    "df_country.plot(kind='bar')"
   ]
  },
  {
   "cell_type": "code",
   "execution_count": 26,
   "metadata": {},
   "outputs": [
    {
     "name": "stdout",
     "output_type": "stream",
     "text": [
      "(262, 1)\n"
     ]
    },
    {
     "data": {
      "text/plain": [
       "<matplotlib.axes._subplots.AxesSubplot at 0x112c27630>"
      ]
     },
     "execution_count": 26,
     "metadata": {},
     "output_type": "execute_result"
    },
    {
     "data": {
      "image/png": "[encoded data removed]",
      "text/plain": [
       "<matplotlib.figure.Figure at 0x112c32630>"
      ]
     },
     "metadata": {},
     "output_type": "display_data"
    }
   ],
   "source": [
    "df_main_category = df.groupby([\"category_name\",\"state\"]).count().sort_values(['name'], ascending=[False])\n",
    "df_main_category = pd.DataFrame(df_main_category, columns={'name'})\n",
    "print(df_main_category.shape)\n",
    "df_main_category.plot(kind='bar')"
   ]
  },
  {
   "cell_type": "code",
   "execution_count": 27,
   "metadata": {},
   "outputs": [
    {
     "name": "stdout",
     "output_type": "stream",
     "text": [
      "(262, 2)\n"
     ]
    },
    {
     "data": {
      "text/plain": [
       "<matplotlib.axes._subplots.AxesSubplot at 0x110941da0>"
      ]
     },
     "execution_count": 27,
     "metadata": {},
     "output_type": "execute_result"
    },
    {
     "data": {
      "image/png": "[encoded data removed]",
      "text/plain": [
       "<matplotlib.figure.Figure at 0x110781438>"
      ]
     },
     "metadata": {},
     "output_type": "display_data"
    }
   ],
   "source": [
    "df_main_category = df.groupby([\"category_name\",\"state\"]).sum().sort_values(['usd_pledged'], ascending=[False])\n",
    "df_main_category = pd.DataFrame(df_main_category, columns={'usd_pledged', 'goal'})\n",
    "print(df_main_category.shape)\n",
    "df_main_category.plot(kind='bar')"
   ]
  },
  {
   "cell_type": "code",
   "execution_count": 29,
   "metadata": {},
   "outputs": [
    {
     "ename": "ImportError",
     "evalue": "No module named 'graphviz'",
     "output_type": "error",
     "traceback": [
      "\u001b[0;31m---------------------------------------------------------------------------\u001b[0m",
      "\u001b[0;31mImportError\u001b[0m                               Traceback (most recent call last)",
      "\u001b[0;32m<ipython-input-29-82ee9bc53bdc>\u001b[0m in \u001b[0;36m<module>\u001b[0;34m()\u001b[0m\n\u001b[1;32m      3\u001b[0m \u001b[0;32mfrom\u001b[0m \u001b[0msklearn\u001b[0m\u001b[0;34m.\u001b[0m\u001b[0mtree\u001b[0m \u001b[0;32mimport\u001b[0m \u001b[0mDecisionTreeClassifier\u001b[0m\u001b[0;34m\u001b[0m\u001b[0m\n\u001b[1;32m      4\u001b[0m \u001b[0;32mfrom\u001b[0m \u001b[0msklearn\u001b[0m\u001b[0;34m.\u001b[0m\u001b[0mmetrics\u001b[0m \u001b[0;32mimport\u001b[0m \u001b[0maccuracy_score\u001b[0m\u001b[0;34m\u001b[0m\u001b[0m\n\u001b[0;32m----> 5\u001b[0;31m \u001b[0;32mfrom\u001b[0m \u001b[0mgraphviz\u001b[0m \u001b[0;32mimport\u001b[0m \u001b[0mSource\u001b[0m\u001b[0;34m\u001b[0m\u001b[0m\n\u001b[0m\u001b[1;32m      6\u001b[0m \u001b[0;32mfrom\u001b[0m \u001b[0msklearn\u001b[0m \u001b[0;32mimport\u001b[0m \u001b[0mtree\u001b[0m\u001b[0;34m\u001b[0m\u001b[0m\n",
      "\u001b[0;31mImportError\u001b[0m: No module named 'graphviz'"
     ]
    }
   ],
   "source": [
    "# https://github.com/sagarvadher/KickstarterSuccessRatePredicton/blob/master/Kickstarter.ipynb\n",
    "from sklearn.base import BaseEstimator\n",
    "from sklearn.tree import DecisionTreeClassifier\n",
    "from sklearn.metrics import accuracy_score\n",
    "from graphviz import Source\n",
    "from sklearn import tree"
   ]
  },
  {
   "cell_type": "code",
   "execution_count": null,
   "metadata": {
    "collapsed": true
   },
   "outputs": [],
   "source": [
    "my_decisiontree = DecisionTreeClassifier( random_state = 100,max_depth=2)\n",
    "my_decisiontree.fit(X_train, y_train)\n",
    "y_predict = my_decisiontree.predict(X_test)\n",
    "score = accuracy_score(y_test, y_predict)\n",
    "print(score)"
   ]
  },
  {
   "cell_type": "code",
   "execution_count": null,
   "metadata": {
    "collapsed": true
   },
   "outputs": [],
   "source": [
    "feature_names = list(feature_matrix)\n",
    "Source( tree.export_graphviz(my_decisiontree, out_file=None, feature_names=feature_names))"
   ]
  },
  {
   "cell_type": "code",
   "execution_count": null,
   "metadata": {
    "collapsed": true
   },
   "outputs": [],
   "source": [
    "from sklearn import linear_model\n",
    "clf = linear_model.SGDClassifier()\n",
    "clf.fit(X_train, y_train)\n",
    "\n",
    "y_predict = clf.predict(X_test)\n",
    "score = accuracy_score(y_test, y_predict)\n",
    "print(score)"
   ]
  },
  {
   "cell_type": "code",
   "execution_count": null,
   "metadata": {
    "collapsed": true
   },
   "outputs": [],
   "source": []
  },
  {
   "cell_type": "code",
   "execution_count": null,
   "metadata": {},
   "outputs": [],
   "source": []
  },
  {
   "cell_type": "code",
   "execution_count": null,
   "metadata": {},
   "outputs": [],
   "source": []
  },
  {
   "cell_type": "code",
   "execution_count": null,
   "metadata": {
    "collapsed": true
   },
   "outputs": [],
   "source": []
  },
  {
   "cell_type": "code",
   "execution_count": null,
   "metadata": {
    "collapsed": true
   },
   "outputs": [],
   "source": []
  },
  {
   "cell_type": "code",
   "execution_count": null,
   "metadata": {
    "collapsed": true
   },
   "outputs": [],
   "source": []
  },
  {
   "cell_type": "code",
   "execution_count": null,
   "metadata": {
    "collapsed": true
   },
   "outputs": [],
   "source": []
  },
  {
   "cell_type": "code",
   "execution_count": null,
   "metadata": {
    "collapsed": true
   },
   "outputs": [],
   "source": []
  }
 ],
 "metadata": {
  "kernelspec": {
   "display_name": "Python 3",
   "language": "python",
   "name": "python3"
  },
  "language_info": {
   "codemirror_mode": {
    "name": "ipython",
    "version": 3
   },
   "file_extension": ".py",
   "mimetype": "text/x-python",
   "name": "python",
   "nbconvert_exporter": "python",
   "pygments_lexer": "ipython3",
   "version": "3.5.4"
  }
 },
 "nbformat": 4,
 "nbformat_minor": 2
}
