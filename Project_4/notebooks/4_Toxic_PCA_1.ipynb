{
 "cells": [
  {
   "cell_type": "markdown",
   "metadata": {},
   "source": [
    "## Toxic: PCA"
   ]
  },
  {
   "cell_type": "code",
   "execution_count": 1,
   "metadata": {
    "collapsed": true
   },
   "outputs": [],
   "source": [
    "import pandas as pd\n",
    "import numpy as np\n",
    "import matplotlib.pyplot as plt\n",
    "import seaborn as sns\n",
    "\n",
    "from sklearn.feature_extraction.text import CountVectorizer\n",
    "from sklearn.base import TransformerMixin\n",
    "from sklearn.pipeline import Pipeline\n",
    "from sklearn.decomposition import PCA"
   ]
  },
  {
   "cell_type": "code",
   "execution_count": 2,
   "metadata": {},
   "outputs": [
    {
     "name": "stdout",
     "output_type": "stream",
     "text": [
      "(159571, 24)\n"
     ]
    },
    {
     "data": {
      "text/html": [
       "<div>\n",
       "<style scoped>\n",
       "    .dataframe tbody tr th:only-of-type {\n",
       "        vertical-align: middle;\n",
       "    }\n",
       "\n",
       "    .dataframe tbody tr th {\n",
       "        vertical-align: top;\n",
       "    }\n",
       "\n",
       "    .dataframe thead th {\n",
       "        text-align: right;\n",
       "    }\n",
       "</style>\n",
       "<table border=\"1\" class=\"dataframe\">\n",
       "  <thead>\n",
       "    <tr style=\"text-align: right;\">\n",
       "      <th></th>\n",
       "      <th>id</th>\n",
       "      <th>comment_text</th>\n",
       "      <th>toxic</th>\n",
       "      <th>severe_toxic</th>\n",
       "      <th>obscene</th>\n",
       "      <th>threat</th>\n",
       "      <th>insult</th>\n",
       "      <th>identity_hate</th>\n",
       "      <th>category</th>\n",
       "      <th>rating</th>\n",
       "      <th>...</th>\n",
       "      <th>sent_token</th>\n",
       "      <th>polarity_sentence</th>\n",
       "      <th>polarity_comment</th>\n",
       "      <th>polarity_comment_s</th>\n",
       "      <th>word_count</th>\n",
       "      <th>char_count</th>\n",
       "      <th>char_count_s</th>\n",
       "      <th>polarity_min</th>\n",
       "      <th>polarity_max</th>\n",
       "      <th>polarity_mean</th>\n",
       "    </tr>\n",
       "    <tr>\n",
       "      <th>idx</th>\n",
       "      <th></th>\n",
       "      <th></th>\n",
       "      <th></th>\n",
       "      <th></th>\n",
       "      <th></th>\n",
       "      <th></th>\n",
       "      <th></th>\n",
       "      <th></th>\n",
       "      <th></th>\n",
       "      <th></th>\n",
       "      <th></th>\n",
       "      <th></th>\n",
       "      <th></th>\n",
       "      <th></th>\n",
       "      <th></th>\n",
       "      <th></th>\n",
       "      <th></th>\n",
       "      <th></th>\n",
       "      <th></th>\n",
       "      <th></th>\n",
       "      <th></th>\n",
       "    </tr>\n",
       "  </thead>\n",
       "  <tbody>\n",
       "    <tr>\n",
       "      <th>3a4c7758fad18de3</th>\n",
       "      <td>3a4c7758fad18de3</td>\n",
       "      <td>, I hope your retarded kids get anal raped and...</td>\n",
       "      <td>1</td>\n",
       "      <td>1</td>\n",
       "      <td>1</td>\n",
       "      <td>1</td>\n",
       "      <td>1</td>\n",
       "      <td>1</td>\n",
       "      <td>ToSTObThInIH</td>\n",
       "      <td>6</td>\n",
       "      <td>...</td>\n",
       "      <td>[, I hope your retarded kids get anal raped an...</td>\n",
       "      <td>(-0.6, 1.0, -0.018750000000000003, [-0.4, -0.4...</td>\n",
       "      <td>0.00</td>\n",
       "      <td>0.00</td>\n",
       "      <td>94</td>\n",
       "      <td>494</td>\n",
       "      <td>494</td>\n",
       "      <td>-0.6000</td>\n",
       "      <td>1.0000</td>\n",
       "      <td>-0.018750</td>\n",
       "    </tr>\n",
       "    <tr>\n",
       "      <th>24d2b50726b67167</th>\n",
       "      <td>24d2b50726b67167</td>\n",
       "      <td>I am going to murder ZimZalaBim ST47 for being...</td>\n",
       "      <td>1</td>\n",
       "      <td>1</td>\n",
       "      <td>1</td>\n",
       "      <td>1</td>\n",
       "      <td>1</td>\n",
       "      <td>1</td>\n",
       "      <td>ToSTObThInIH</td>\n",
       "      <td>6</td>\n",
       "      <td>...</td>\n",
       "      <td>[I am going to murder ZimZalaBim ST47 for bein...</td>\n",
       "      <td>(-1.0, -1.0, -1.0, [-1.0])</td>\n",
       "      <td>0.00</td>\n",
       "      <td>0.00</td>\n",
       "      <td>12</td>\n",
       "      <td>68</td>\n",
       "      <td>68</td>\n",
       "      <td>-1.0000</td>\n",
       "      <td>-1.0000</td>\n",
       "      <td>-1.000000</td>\n",
       "    </tr>\n",
       "    <tr>\n",
       "      <th>c586b7a2fd575b13</th>\n",
       "      <td>c586b7a2fd575b13</td>\n",
       "      <td>Shut up you asswipe, we don't care. I'll decap...</td>\n",
       "      <td>1</td>\n",
       "      <td>1</td>\n",
       "      <td>1</td>\n",
       "      <td>1</td>\n",
       "      <td>1</td>\n",
       "      <td>1</td>\n",
       "      <td>ToSTObThInIH</td>\n",
       "      <td>6</td>\n",
       "      <td>...</td>\n",
       "      <td>[Shut up you asswipe, we don't care., I'll dec...</td>\n",
       "      <td>(-0.2, 0.0, -0.07555555555555557, [0.0, -0.177...</td>\n",
       "      <td>-0.25</td>\n",
       "      <td>-0.25</td>\n",
       "      <td>24</td>\n",
       "      <td>3890</td>\n",
       "      <td>1000</td>\n",
       "      <td>-0.2000</td>\n",
       "      <td>0.0000</td>\n",
       "      <td>-0.075556</td>\n",
       "    </tr>\n",
       "    <tr>\n",
       "      <th>77d84b1321c22d9a</th>\n",
       "      <td>77d84b1321c22d9a</td>\n",
       "      <td>LGBT \\n\\nyou little fuck , are you a fag , tha...</td>\n",
       "      <td>1</td>\n",
       "      <td>1</td>\n",
       "      <td>1</td>\n",
       "      <td>1</td>\n",
       "      <td>1</td>\n",
       "      <td>1</td>\n",
       "      <td>ToSTObThInIH</td>\n",
       "      <td>6</td>\n",
       "      <td>...</td>\n",
       "      <td>[LGBT \\n\\nyou little fuck , are you a fag , th...</td>\n",
       "      <td>(-0.17750000000000005, 0.0, -0.088750000000000...</td>\n",
       "      <td>0.00</td>\n",
       "      <td>0.00</td>\n",
       "      <td>56</td>\n",
       "      <td>280</td>\n",
       "      <td>280</td>\n",
       "      <td>-0.1775</td>\n",
       "      <td>0.0000</td>\n",
       "      <td>-0.088750</td>\n",
       "    </tr>\n",
       "    <tr>\n",
       "      <th>1368c10281978876</th>\n",
       "      <td>1368c10281978876</td>\n",
       "      <td>You're a stupid cunt \\n\\nFuck you dumb arse, y...</td>\n",
       "      <td>1</td>\n",
       "      <td>1</td>\n",
       "      <td>1</td>\n",
       "      <td>1</td>\n",
       "      <td>1</td>\n",
       "      <td>1</td>\n",
       "      <td>ToSTObThInIH</td>\n",
       "      <td>6</td>\n",
       "      <td>...</td>\n",
       "      <td>[You're a stupid cunt \\n\\nFuck you dumb arse, ...</td>\n",
       "      <td>(-0.41250000000000003, -0.41250000000000003, -...</td>\n",
       "      <td>0.00</td>\n",
       "      <td>0.00</td>\n",
       "      <td>59</td>\n",
       "      <td>278</td>\n",
       "      <td>278</td>\n",
       "      <td>-0.4125</td>\n",
       "      <td>-0.4125</td>\n",
       "      <td>-0.412500</td>\n",
       "    </tr>\n",
       "  </tbody>\n",
       "</table>\n",
       "<p>5 rows × 24 columns</p>\n",
       "</div>"
      ],
      "text/plain": [
       "                                id  \\\n",
       "idx                                  \n",
       "3a4c7758fad18de3  3a4c7758fad18de3   \n",
       "24d2b50726b67167  24d2b50726b67167   \n",
       "c586b7a2fd575b13  c586b7a2fd575b13   \n",
       "77d84b1321c22d9a  77d84b1321c22d9a   \n",
       "1368c10281978876  1368c10281978876   \n",
       "\n",
       "                                                       comment_text  toxic  \\\n",
       "idx                                                                          \n",
       "3a4c7758fad18de3  , I hope your retarded kids get anal raped and...      1   \n",
       "24d2b50726b67167  I am going to murder ZimZalaBim ST47 for being...      1   \n",
       "c586b7a2fd575b13  Shut up you asswipe, we don't care. I'll decap...      1   \n",
       "77d84b1321c22d9a  LGBT \\n\\nyou little fuck , are you a fag , tha...      1   \n",
       "1368c10281978876  You're a stupid cunt \\n\\nFuck you dumb arse, y...      1   \n",
       "\n",
       "                  severe_toxic  obscene  threat  insult  identity_hate  \\\n",
       "idx                                                                      \n",
       "3a4c7758fad18de3             1        1       1       1              1   \n",
       "24d2b50726b67167             1        1       1       1              1   \n",
       "c586b7a2fd575b13             1        1       1       1              1   \n",
       "77d84b1321c22d9a             1        1       1       1              1   \n",
       "1368c10281978876             1        1       1       1              1   \n",
       "\n",
       "                      category  rating      ...        \\\n",
       "idx                                         ...         \n",
       "3a4c7758fad18de3  ToSTObThInIH       6      ...         \n",
       "24d2b50726b67167  ToSTObThInIH       6      ...         \n",
       "c586b7a2fd575b13  ToSTObThInIH       6      ...         \n",
       "77d84b1321c22d9a  ToSTObThInIH       6      ...         \n",
       "1368c10281978876  ToSTObThInIH       6      ...         \n",
       "\n",
       "                                                         sent_token  \\\n",
       "idx                                                                   \n",
       "3a4c7758fad18de3  [, I hope your retarded kids get anal raped an...   \n",
       "24d2b50726b67167  [I am going to murder ZimZalaBim ST47 for bein...   \n",
       "c586b7a2fd575b13  [Shut up you asswipe, we don't care., I'll dec...   \n",
       "77d84b1321c22d9a  [LGBT \\n\\nyou little fuck , are you a fag , th...   \n",
       "1368c10281978876  [You're a stupid cunt \\n\\nFuck you dumb arse, ...   \n",
       "\n",
       "                                                  polarity_sentence  \\\n",
       "idx                                                                   \n",
       "3a4c7758fad18de3  (-0.6, 1.0, -0.018750000000000003, [-0.4, -0.4...   \n",
       "24d2b50726b67167                         (-1.0, -1.0, -1.0, [-1.0])   \n",
       "c586b7a2fd575b13  (-0.2, 0.0, -0.07555555555555557, [0.0, -0.177...   \n",
       "77d84b1321c22d9a  (-0.17750000000000005, 0.0, -0.088750000000000...   \n",
       "1368c10281978876  (-0.41250000000000003, -0.41250000000000003, -...   \n",
       "\n",
       "                 polarity_comment polarity_comment_s word_count char_count  \\\n",
       "idx                                                                          \n",
       "3a4c7758fad18de3             0.00               0.00         94        494   \n",
       "24d2b50726b67167             0.00               0.00         12         68   \n",
       "c586b7a2fd575b13            -0.25              -0.25         24       3890   \n",
       "77d84b1321c22d9a             0.00               0.00         56        280   \n",
       "1368c10281978876             0.00               0.00         59        278   \n",
       "\n",
       "                  char_count_s  polarity_min  polarity_max  polarity_mean  \n",
       "idx                                                                        \n",
       "3a4c7758fad18de3           494       -0.6000        1.0000      -0.018750  \n",
       "24d2b50726b67167            68       -1.0000       -1.0000      -1.000000  \n",
       "c586b7a2fd575b13          1000       -0.2000        0.0000      -0.075556  \n",
       "77d84b1321c22d9a           280       -0.1775        0.0000      -0.088750  \n",
       "1368c10281978876           278       -0.4125       -0.4125      -0.412500  \n",
       "\n",
       "[5 rows x 24 columns]"
      ]
     },
     "execution_count": 2,
     "metadata": {},
     "output_type": "execute_result"
    }
   ],
   "source": [
    "df = pd.read_pickle('../data/toxictrain.pkl')\n",
    "print(df.shape)\n",
    "df.head()"
   ]
  },
  {
   "cell_type": "markdown",
   "metadata": {},
   "source": [
    "### MiniBatchSparsePCA"
   ]
  },
  {
   "cell_type": "code",
   "execution_count": 68,
   "metadata": {
    "collapsed": true
   },
   "outputs": [],
   "source": [
    "# https://github.com/lambdaofgod/stackexchange/blob/master/stackoverflow/SPCA%20Word%20Clusters.ipynb\n",
    "import numpy as np\n",
    "from sklearn.decomposition import MiniBatchSparsePCA\n",
    "from sklearn.feature_extraction.text import TfidfVectorizer"
   ]
  },
  {
   "cell_type": "code",
   "execution_count": 73,
   "metadata": {},
   "outputs": [],
   "source": [
    "def token_topics(data, cat_list, n_components):\n",
    "    token_dict = {}\n",
    "    for item in cat_list:\n",
    "        data = df[df[item]==1]\n",
    "        \n",
    "        vectorizer = TfidfVectorizer(min_df=5, token_pattern='[a-zA-Z]+', stop_words='english')\n",
    "        X = vectorizer.fit_transform(data)\n",
    "        print('dictionary has ', len(vectorizer.vocabulary_), 'entries')\n",
    "        X_dense = X.toarray()\n",
    "\n",
    "        spca = MiniBatchSparsePCA(n_components=n_components, alpha=0.04,batch_size=30, n_iter=100, random_state=0)\n",
    "\n",
    "        %time X_train_reduced = spca.fit_transform(X_dense)\n",
    "\n",
    "        for i in range(n_components):\n",
    "            print('component', i, 'has', sum(spca.components_[i, :] != 0), 'nonzero entries')\n",
    "\n",
    "        component_idxs = [np.where(spca.components_[i, :])[0] for i in range(n_components)]\n",
    "        idx_to_words = dict((n, word) for (word, n) in vectorizer.vocabulary_.items())\n",
    "\n",
    "        for i in range(n_components):\n",
    "            aa = 'Tokens for', i, 'component:'\n",
    "            bb = 'idx_to_words[i] for i in component_idxs[i]'\n",
    "        token_dict[item] = {aa,bb}\n",
    "    return token_dict"
   ]
  },
  {
   "cell_type": "code",
   "execution_count": 74,
   "metadata": {},
   "outputs": [
    {
     "name": "stdout",
     "output_type": "stream",
     "text": [
      "dictionary has  2 entries\n",
      "CPU times: user 140 ms, sys: 11.8 ms, total: 151 ms\n",
      "Wall time: 410 ms\n",
      "component 0 has 2 nonzero entries\n",
      "dictionary has  2 entries\n",
      "CPU times: user 132 ms, sys: 5.44 ms, total: 137 ms\n",
      "Wall time: 441 ms\n",
      "component 0 has 2 nonzero entries\n",
      "dictionary has  2 entries\n",
      "CPU times: user 127 ms, sys: 7.96 ms, total: 135 ms\n",
      "Wall time: 373 ms\n",
      "component 0 has 2 nonzero entries\n",
      "dictionary has  2 entries\n",
      "CPU times: user 120 ms, sys: 4.84 ms, total: 124 ms\n",
      "Wall time: 339 ms\n",
      "component 0 has 2 nonzero entries\n",
      "dictionary has  2 entries\n",
      "CPU times: user 134 ms, sys: 3.45 ms, total: 138 ms\n",
      "Wall time: 414 ms\n",
      "component 0 has 2 nonzero entries\n",
      "dictionary has  2 entries\n",
      "CPU times: user 125 ms, sys: 4.47 ms, total: 129 ms\n",
      "Wall time: 366 ms\n",
      "component 0 has 2 nonzero entries\n",
      "dictionary has  2 entries\n",
      "CPU times: user 136 ms, sys: 5.89 ms, total: 142 ms\n",
      "Wall time: 504 ms\n",
      "component 0 has 2 nonzero entries\n"
     ]
    },
    {
     "data": {
      "text/plain": [
       "{'clean': {('Tokens for', 0, 'component:'),\n",
       "  'idx_to_words[i] for i in component_idxs[i]'},\n",
       " 'identity_hate': {('Tokens for', 0, 'component:'),\n",
       "  'idx_to_words[i] for i in component_idxs[i]'},\n",
       " 'insult': {('Tokens for', 0, 'component:'),\n",
       "  'idx_to_words[i] for i in component_idxs[i]'},\n",
       " 'obscene': {('Tokens for', 0, 'component:'),\n",
       "  'idx_to_words[i] for i in component_idxs[i]'},\n",
       " 'severe_toxic': {('Tokens for', 0, 'component:'),\n",
       "  'idx_to_words[i] for i in component_idxs[i]'},\n",
       " 'threat': {('Tokens for', 0, 'component:'),\n",
       "  'idx_to_words[i] for i in component_idxs[i]'},\n",
       " 'toxic': {('Tokens for', 0, 'component:'),\n",
       "  'idx_to_words[i] for i in component_idxs[i]'}}"
      ]
     },
     "execution_count": 74,
     "metadata": {},
     "output_type": "execute_result"
    }
   ],
   "source": [
    "df_pca = df[df['rating']>0]\n",
    "X = df_pca['comment_text']\n",
    "\n",
    "class_list = ['clean','toxic', 'severe_toxic', 'obscene', 'threat','insult', 'identity_hate']\n",
    "\n",
    "token_topics(df_pca, class_list, 1)"
   ]
  },
  {
   "cell_type": "code",
   "execution_count": 62,
   "metadata": {},
   "outputs": [
    {
     "name": "stdout",
     "output_type": "stream",
     "text": [
      "dictionary has  6673 entries\n"
     ]
    }
   ],
   "source": [
    "vectorizer = TfidfVectorizer(min_df=5, token_pattern='[a-zA-Z]+', stop_words='english')\n",
    "\n",
    "X_train = vectorizer.fit_transform(X)\n",
    "\n",
    "print('dictionary has ', len(vectorizer.vocabulary_), 'entries')\n",
    "\n",
    "X_train_dense = X_train.toarray()"
   ]
  },
  {
   "cell_type": "code",
   "execution_count": 63,
   "metadata": {},
   "outputs": [
    {
     "name": "stdout",
     "output_type": "stream",
     "text": [
      "CPU times: user 19.9 s, sys: 2.39 s, total: 22.3 s\n",
      "Wall time: 43.3 s\n"
     ]
    }
   ],
   "source": [
    "n_components = 6\n",
    "\n",
    "spca = MiniBatchSparsePCA(n_components=n_components, alpha=0.04,\n",
    "                          batch_size=30, n_iter=100, random_state=0)\n",
    "\n",
    "%time X_train_reduced = spca.fit_transform(X_train_dense)"
   ]
  },
  {
   "cell_type": "code",
   "execution_count": 64,
   "metadata": {},
   "outputs": [
    {
     "name": "stdout",
     "output_type": "stream",
     "text": [
      "component 0 has 524 nonzero entries\n",
      "component 1 has 48 nonzero entries\n",
      "component 2 has 298 nonzero entries\n",
      "component 3 has 165 nonzero entries\n",
      "component 4 has 96 nonzero entries\n",
      "component 5 has 1293 nonzero entries\n"
     ]
    }
   ],
   "source": [
    "for i in range(n_components):\n",
    "    print('component', i, 'has', sum(spca.components_[i, :] != 0), 'nonzero entries')"
   ]
  },
  {
   "cell_type": "code",
   "execution_count": 65,
   "metadata": {
    "collapsed": true
   },
   "outputs": [],
   "source": [
    "component_idxs = [np.where(spca.components_[i, :])[0] for i in range(n_components)]"
   ]
  },
  {
   "cell_type": "code",
   "execution_count": 66,
   "metadata": {
    "collapsed": true
   },
   "outputs": [],
   "source": [
    "idx_to_words = dict((n, word) for (word, n) in vectorizer.vocabulary_.items())"
   ]
  },
  {
   "cell_type": "code",
   "execution_count": 67,
   "metadata": {},
   "outputs": [
    {
     "name": "stdout",
     "output_type": "stream",
     "text": [
      "Tokens for 0 component:\n",
      "['able', 'absolute', 'absolutely', 'accept', 'accuse', 'act', 'actually', 'ad', 'add', 'adding', 'address', 'admin', 'administrators', 'admins', 'agree', 'ahead', 'album', 'allowed', 'angry', 'answer', 'anti', 'anybody', 'anymore', 'apparently', 'arabs', 'aren', 'argue', 'arguing', 'argument', 'article', 'articles', 'ask', 'asking', 'assume', 'attack', 'attitude', 'away', 'bad', 'band', 'banning', 'basis', 'believe', 'best', 'bet', 'better', 'bible', 'big', 'bigger', 'bit', 'blind', 'blocked', 'blood', 'book', 'born', 'bother', 'bothered', 'brain', 'british', 'bully', 'bullying', 'bunch', 'c', 'came', 'care', 'case', 'catch', 'caught', 'censor', 'censorship', 'certain', 'certainly', 'change', 'characters', 'chinese', 'christ', 'cite', 'city', 'claim', 'clear', 'clearly', 'close', 'com', 'come', 'common', 'community', 'completely', 'concerned', 'contact', 'content', 'continue', 'control', 'controversial', 'cool', 'correct', 'couldn', 'count', 'country', 'course', 'crap', 'crazy', 'created', 'criticism', 'd', 'damned', 'date', 'day', 'debate', 'decided', 'definitely', 'delete', 'difference', 'different', 'difficult', 'dirty', 'disagree', 'discussion', 'doesn', 'doing', 'dont', 'doubt', 'easy', 'editing', 'editor', 'editors', 'edits', 'eh', 'encyclopedia', 'end', 'english', 'entire', 'episode', 'erase', 'especially', 'evidence', 'evil', 'exactly', 'example', 'exist', 'expect', 'face', 'facebook', 'facts', 'faggots', 'failed', 'failure', 'fair', 'faith', 'far', 'fault', 'featured', 'feel', 'figure', 'file', 'fine', 'fit', 'fix', 'flying', 'follow', 'fools', 'forced', 'forget', 'form', 'frankly', 'free', 'freedom', 'fuck', 'fucked', 'fucking', 'game', 'games', 'genre', 'gets', 'girl', 'girls', 'given', 'gives', 'glad', 'going', 'good', 'google', 'gosh', 'got', 'grammar', 'great', 'group', 'guess', 'guys', 'ha', 'hadn', 'half', 'handle', 'hands', 'happen', 'happened', 'happens', 'hard', 'hasn', 'hate', 'having', 'hear', 'hello', 'help', 'hide', 'high', 'hmm', 'hold', 'home', 'honest', 'honestly', 'horrible', 'huh', 'hurt', 'hypocrite', 'idea', 'idiot', 'idiots', 'im', 'images', 'important', 'incorrect', 'information', 'insult', 'insulting', 'intelligent', 'internet', 'israel', 'issue', 'issues', 'james', 'jesus', 'jewish', 'jews', 'job', 'joke', 'just', 'kidding', 'kids', 'killed', 'kind', 'kindly', 'know', 'knowledge', 'language', 'later', 'lazy', 'leave', 'left', 'let', 'lie', 'like', 'line', 'link', 'links', 'list', 'lives', 'living', 'lol', 'long', 'longer', 'looks', 'lord', 'loser', 'lot', 'luck', 'm', 'make', 'making', 'man', 'massive', 'matter', 'maybe', 'meaning', 'means', 'meet', 'mention', 'mentioned', 'million', 'missed', 'money', 'movie', 'music', 'muslim', 'names', 'nazi', 'nazis', 'near', 'nearly', 'need', 'neo', 'new', 'news', 'non', 'nonsense', 'normal', 'notability', 'notable', 'noticed', 'obvious', 'obviously', 'offended', 'okay', 'old', 'order', 'p', 'paid', 'party', 'past', 'pedophile', 'penis', 'people', 'perfect', 'perfectly', 'period', 'person', 'personal', 'petty', 'photo', 'pictures', 'piss', 'pity', 'play', 'playing', 'point', 'pointless', 'police', 'policies', 'policy', 'politics', 'pompous', 'poor', 'possibly', 'post', 'powerful', 'present', 'president', 'pretend', 'pretentious', 'pretty', 'probably', 'problem', 'problems', 'process', 'project', 'proof', 'protect', 'proud', 'prove', 'proven', 'provide', 'ps', 'quit', 'quite', 'quote', 'race', 'readers', 'reading', 'real', 'realise', 'reality', 'realize', 'really', 'reason', 'reasons', 'referenced', 'related', 'relevant', 'reliable', 'research', 'respect', 'responding', 'reverting', 'rights', 'rock', 'rubbish', 'ruin', 'run', 'russian', 's', 'sad', 'said', 'saw', 'say', 'saying', 'says', 'scared', 'screw', 'search', 'seconds', 'section', 'seen', 'self', 'sense', 'sentence', 'series', 'seriously', 'shit', 'shouldn', 'silence', 'simple', 'site', 'situation', 'slightly', 'slow', 'small', 'smart', 'smell', 'somebody', 'soon', 'sort', 'source', 'sources', 'speak', 'speech', 'spell', 'spelling', 'spend', 'stand', 'standards', 'start', 'starting', 'stated', 'statement', 'status', 'stop', 'story', 'straight', 'strange', 'stuff', 'stupid', 'subject', 'sun', 'supposed', 'sure', 'surely', 'surprised', 'tab', 'tag', 'taking', 'talking', 'team', 'tell', 'test', 'thing', 'things', 'think', 'thinking', 'thinks', 'thought', 'threat', 'time', 'times', 'told', 'took', 'totally', 'touch', 'tough', 'tried', 'troll', 'trouble', 'true', 'trust', 'truth', 'try', 'trying', 'turned', 'tv', 'typical', 'u', 'um', 'understand', 'undo', 'unless', 'ur', 'use', 'used', 'useful', 'using', 'vagina', 'vandalism', 've', 'version', 'video', 'views', 'violate', 'violation', 'vote', 'w', 'want', 'wanted', 'war', 'warning', 'waste', 'wasting', 'way', 'web', 'weren', 'whats', 'white', 'wife', 'wikipedia', 'win', 'wish', 'woman', 'women', 'wonder', 'word', 'words', 'work', 'worked', 'working', 'works', 'world', 'worry', 'worth', 'wouldn', 'wow', 'wrestling', 'write', 'wrote', 'www', 'yeah', 'years', 'yes', 'zero']\n",
      "\n",
      "Tokens for 1 component:\n",
      "['article', 'ask', 'asshole', 'big', 'black', 'block', 'blocked', 'crap', 'don', 'dont', 'dumb', 'edit', 'editing', 'edits', 'face', 'fact', 'fag', 'fuck', 'fucking', 'good', 'idiot', 'im', 'leave', 'look', 'loser', 'love', 'make', 'mean', 'moron', 'nazi', 'pathetic', 'people', 'piece', 'really', 'retard', 'right', 's', 'sex', 'shit', 'stop', 't', 'tell', 'user', 'want', 'wikipedia', 'won', 'work', 'ya']\n",
      "\n",
      "Tokens for 2 component:\n",
      "['actually', 'ad', 'advice', 'agree', 'ahead', 'allow', 'america', 'american', 'anus', 'anyways', 'asian', 'ass', 'attention', 'away', 'b', 'ban', 'bastard', 'bastards', 'belongs', 'best', 'better', 'bias', 'bitch', 'blocking', 'bother', 'boy', 'boys', 'brain', 'bring', 'brown', 'burn', 'butt', 'c', 'came', 'censor', 'censorship', 'christian', 'ck', 'cking', 'clown', 'clue', 'cocksucking', 'come', 'completely', 'computer', 'consider', 'correctly', 'cunt', 'cunts', 'd', 'dad', 'dare', 'day', 'dead', 'death', 'deep', 'deletion', 'deserve', 'dick', 'didn', 'die', 'disgusting', 'doesn', 'dog', 'douchebag', 'dude', 'e', 'earth', 'eat', 'education', 'entire', 'episode', 'especially', 'event', 'everybody', 'evidence', 'evil', 'f', 'failed', 'family', 'fart', 'fascist', 'favor', 'fight', 'filthy', 'forget', 'freak', 'freaks', 'friend', 'fu', 'fucker', 'fuckin', 'fun', 'funny', 'garbage', 'gay', 'general', 'german', 'getting', 'girl', 'gives', 'god', 'goddamn', 'going', 'gone', 'gonna', 'government', 'great', 'guy', 'happens', 'harass', 'harassment', 'hate', 'haven', 'head', 'heard', 'hell', 'hey', 'high', 'history', 'hit', 'hole', 'holy', 'home', 'hope', 'horse', 'hot', 'house', 'human', 'hunt', 'ignore', 'inappropriate', 'indian', 'instead', 'internet', 'jack', 'jesus', 'jew', 'jimbo', 'job', 'just', 'k', 'kick', 'kid', 'kill', 'kind', 'king', 'know', 'knowledge', 'laid', 'lame', 'learn', 'let', 'liberal', 'life', 'like', 'lil', 'little', 'live', 'lives', 'living', 'll', 'look', 'looking', 'lose', 'losers', 'lost', 'm', 'makes', 'making', 'man', 'media', 'mental', 'mess', 'met', 'mexican', 'miserable', 'missed', 'mom', 'moronic', 'motherfucking', 'mouth', 'muslim', 'nasty', 'needs', 'nice', 'nigger', 'night', 'nuts', 'official', 'old', 'ones', 'open', 'past', 'pathetic', 'pay', 'penis', 'people', 'place', 'planet', 'porn', 'posting', 'posts', 'power', 'prick', 'proof', 'proves', 'ps', 'punk', 'pussy', 'queer', 'question', 'r', 'racist', 'rape', 'raped', 'read', 'ready', 'real', 'reality', 'reliable', 'respect', 'rest', 'retard', 'retarded', 'right', 'rot', 'rude', 'sack', 'sad', 'said', 'sake', 'school', 'scum', 'search', 'sense', 'sh', 'shot', 'shut', 'sit', 'smart', 'sorry', 'stand', 'state', 'street', 'stupid', 'suck', 'sucking', 'supporting', 'takes', 'talk', 'tea', 'telling', 'thing', 'think', 'thought', 'threaten', 'threatening', 'time', 'times', 'tired', 'toilet', 'tool', 'track', 'trash', 'trip', 'trouble', 'true', 'truly', 'truth', 'try', 'turd', 'tv', 'twat', 'unblock', 'use', 'useless', 'utc', 'vagina', 'vandalised', 'victim', 'virgin', 'wait', 'wanker', 'wanted', 'waste', 'watch', 'website', 'white', 'whore', 'wiki', 'wikipedian', 'world', 'wrong', 'y', 'yeah', 'year', 'york']\n",
      "\n",
      "Tokens for 3 component:\n",
      "['accuse', 'admit', 'ain', 'america', 'anon', 'asshole', 'asswipe', 'authority', 'awesome', 'b', 'ban', 'banned', 'bitches', 'black', 'block', 'bloody', 'boy', 'buddy', 'busy', 'c', 'care', 'cause', 'changed', 'ck', 'clean', 'clever', 'clue', 'cocksucker', 'college', 'coming', 'computer', 'concern', 'contribute', 'correctly', 'count', 'cow', 'crying', 'cunts', 'cuz', 'damn', 'deleted', 'didn', 'doesn', 'don', 'douche', 'douchebag', 'dumb', 'e', 'education', 'f', 'faced', 'fact', 'fatuorum', 'forgot', 'fuckwit', 'fun', 'g', 'goddamn', 'gonna', 'got', 'h', 'hahaha', 'half', 'hasn', 'hating', 'haven', 'heads', 'hey', 'holy', 'insulting', 'isn', 'j', 'jack', 'jealous', 'jerk', 'john', 'july', 'jump', 'king', 'kiss', 'l', 'later', 'learn', 'liars', 'lies', 'likes', 'listen', 'live', 'log', 'love', 'majority', 'mean', 'metal', 'middle', 'mind', 'miss', 'missed', 'moron', 'n', 'numbers', 'nut', 'oh', 'opinion', 'page', 'pages', 'peace', 'pissed', 'prick', 'profile', 'properly', 'provide', 'pussy', 'questions', 'religion', 'remember', 'respond', 'rid', 'right', 'robot', 'royal', 'rude', 'sack', 'sex', 'shitty', 'shouldn', 'sign', 'signed', 'sorry', 'sounds', 'spanish', 'special', 'st', 'stalk', 'step', 'stfu', 'strike', 't', 'talk', 'thank', 'threaten', 'threats', 'total', 'touch', 'troll', 'tv', 'tw', 'twat', 'understand', 'user', 'utc', 'vandalise', 'wait', 'wasn', 'watching', 'website', 'week', 'weeks', 'went', 'weren', 'white', 'won', 'wrong', 'ya', 'yall', 'year']\n",
      "\n",
      "Tokens for 4 component:\n",
      "['arrogant', 'asian', 'ass', 'asshole', 'bastard', 'bitch', 'blocked', 'blow', 'brainless', 'bring', 'burn', 'change', 'cock', 'cocksucking', 'comment', 'contribs', 'coward', 'crap', 'cunt', 'dad', 'dare', 'deleting', 'dick', 'die', 'dog', 'dogshit', 'eat', 'edit', 'faggot', 'fascist', 'fat', 'filth', 'fuck', 'fucker', 'fucking', 'garbage', 'good', 'head', 'heard', 'hell', 'hello', 'hermit', 'human', 'hunt', 'idiot', 'im', 'indian', 'invented', 'jew', 'kill', 'knob', 'london', 'lonely', 'loser', 'make', 'media', 'meters', 'mexican', 'miserable', 'mother', 'motherfucker', 'motherfucking', 'mush', 'naked', 'nasty', 'nigger', 'nuisance', 'p', 'page', 'piece', 'planet', 'queer', 'raped', 'read', 'really', 'rot', 'scum', 'sh', 'sheep', 'shit', 'shut', 'slime', 'suck', 'swedish', 'tell', 'trash', 'truly', 'u', 'ugly', 'ur', 'useless', 'want', 'way', 'whore', 'worthless', 'wp']\n",
      "\n",
      "Tokens for 5 component:\n",
      "['able', 'absolute', 'absolutely', 'abuse', 'abused', 'abusing', 'abusive', 'acceptable', 'access', 'according', 'account', 'accounts', 'accurate', 'accusations', 'accuse', 'accused', 'accusing', 'act', 'acting', 'action', 'actions', 'actual', 'actually', 'add', 'added', 'adding', 'addition', 'address', 'admin', 'administrator', 'administrators', 'admins', 'admit', 'advice', 'afraid', 'age', 'agenda', 'ago', 'agree', 'ahead', 'aids', 'allow', 'allowed', 'alright', 'america', 'american', 'americans', 'anal', 'angry', 'annoying', 'anonymous', 'answer', 'anti', 'anybody', 'anymore', 'apologize', 'apology', 'appear', 'appears', 'appreciate', 'appropriate', 'april', 'area', 'argue', 'arguing', 'argument', 'arguments', 'arrogant', 'arse', 'article', 'articles', 'ashamed', 'ask', 'asked', 'asking', 'ass', 'asshole', 'assholes', 'assume', 'attack', 'attacked', 'attacking', 'attacks', 'attempt', 'attempts', 'attention', 'attitude', 'august', 'author', 'authority', 'avoid', 'award', 'aware', 'away', 'b', 'baby', 'bad', 'bag', 'balls', 'ban', 'band', 'banned', 'banning', 'barnstar', 'base', 'based', 'basement', 'basic', 'basically', 'basis', 'bastard', 'battle', 'beat', 'behave', 'behavior', 'behaviour', 'believe', 'belong', 'best', 'bet', 'better', 'bias', 'biased', 'big', 'bigger', 'biggest', 'bio', 'bit', 'bitch', 'bitching', 'bite', 'black', 'blah', 'blank', 'blind', 'block', 'blocked', 'blocking', 'blocks', 'blood', 'bloody', 'blow', 'body', 'boobs', 'book', 'books', 'boring', 'born', 'boss', 'bot', 'bothered', 'bothering', 'boy', 'boys', 'brain', 'break', 'breaking', 'bring', 'british', 'bro', 'brought', 'brown', 'bs', 'btw', 'bull', 'bullshit', 'bully', 'bunch', 'bush', 'business', 'busy', 'butt', 'buy', 'bye', 'called', 'calling', 'calm', 'came', 'cancer', 'cares', 'case', 'cause', 'censor', 'censoring', 'censorship', 'certain', 'certainly', 'chance', 'change', 'changed', 'changes', 'changing', 'character', 'check', 'chicken', 'child', 'childish', 'children', 'choice', 'choose', 'chris', 'christ', 'christian', 'citation', 'citations', 'cited', 'city', 'civil', 'civility', 'cking', 'claim', 'claiming', 'claims', 'class', 'clear', 'clearly', 'clever', 'close', 'cock', 'cocksucker', 'com', 'come', 'comes', 'coming', 'comment', 'commenting', 'comments', 'common', 'communist', 'community', 'complain', 'complete', 'completely', 'computer', 'concern', 'concerned', 'concerning', 'confused', 'congratulations', 'consensus', 'consider', 'considered', 'considering', 'conspiracy', 'constantly', 'constructive', 'contact', 'content', 'continue', 'contribs', 'contribute', 'contributing', 'contribution', 'contributions', 'contributors', 'control', 'conversation', 'cool', 'copyright', 'correct', 'corrupt', 'cos', 'country', 'couple', 'course', 'cover', 'coward', 'crap', 'crazy', 'create', 'created', 'creating', 'crime', 'criminal', 'criticism', 'culture', 'cum', 'cunt', 'cunts', 'current', 'currently', 'cut', 'cuz', 'd', 'daily', 'damn', 'dare', 'dark', 'date', 'day', 'days', 'dead', 'deal', 'dealing', 'dear', 'death', 'debate', 'december', 'decide', 'decided', 'defend', 'defending', 'definition', 'delete', 'deleted', 'deleting', 'deletion', 'deserves', 'despite', 'destroy', 'dick', 'dickhead', 'dicks', 'did', 'didnt', 'die', 'died', 'diff', 'difference', 'different', 'dipshit', 'dirty', 'disagree', 'discuss', 'discussing', 'discussion', 'discussions', 'disgrace', 'disgusting', 'dishonest', 'dispute', 'disruption', 'disruptive', 'does', 'doesn', 'doesnt', 'dog', 'doing', 'don', 'dont', 'double', 'doubt', 'douche', 'douchebag', 'drop', 'dude', 'dumb', 'dumbass', 'e', 'earlier', 'earth', 'easily', 'easy', 'eat', 'edit', 'edited', 'editing', 'editor', 'editors', 'edits', 'education', 'effort', 'ego', 'eh', 'email', 'en', 'encyclopedia', 'encyclopedic', 'end', 'english', 'enjoy', 'entire', 'entirely', 'entries', 'entry', 'especially', 'event', 'everybody', 'everyday', 'evidence', 'evil', 'exactly', 'example', 'excuse', 'expect', 'expert', 'explain', 'explained', 'explanation', 'extremely', 'eye', 'eyes', 'f', 'face', 'fact', 'facts', 'factual', 'fag', 'faggot', 'faggots', 'fags', 'fail', 'failed', 'fair', 'faith', 'fake', 'false', 'family', 'famous', 'fan', 'far', 'fascist', 'fat', 'favor', 'feel', 'feelings', 'fellow', 'fight', 'fighting', 'file', 'film', 'final', 'finally', 'fine', 'fit', 'fix', 'fixing', 'flying', 'follow', 'following', 'fool', 'football', 'force', 'forever', 'form', 'forum', 'fraud', 'freak', 'freaking', 'free', 'freedom', 'friend', 'friends', 'fuck', 'fucked', 'fucker', 'fuckers', 'fuckin', 'fucking', 'fucks', 'fuckwit', 'fun', 'funny', 'future', 'g', 'game', 'games', 'garbage', 'gave', 'gay', 'general', 'george', 'gets', 'getting', 'giant', 'girl', 'girlfriend', 'given', 'gives', 'giving', 'god', 'goes', 'going', 'gone', 'gonna', 'good', 'goodbye', 'google', 'got', 'gotten', 'government', 'great', 'greek', 'group', 'grow', 'guess', 'guidelines', 'guy', 'guys', 'ha', 'haha', 'hahaha', 'half', 'hand', 'hands', 'happen', 'happened', 'happens', 'happy', 'harassing', 'harassment', 'hard', 'hate', 'hates', 'hatred', 'having', 'head', 'hear', 'heard', 'heart', 'heck', 'hell', 'hello', 'help', 'helpful', 'helping', 'hes', 'hey', 'hi', 'hide', 'hiding', 'high', 'highly', 'history', 'hit', 'hitler', 'ho', 'hole', 'home', 'homo', 'homosexual', 'homosexuality', 'honest', 'honestly', 'hope', 'hopefully', 'horrible', 'horse', 'hot', 'hour', 'hours', 'house', 'http', 'huge', 'huh', 'hungry', 'hurt', 'hypocrite', 'hypocritical', 'id', 'idea', 'idiocy', 'idiot', 'idiotic', 'idiots', 'ignorance', 'ignorant', 'ignore', 'ignoring', 'ill', 'im', 'image', 'images', 'imagine', 'immature', 'immediately', 'important', 'improve', 'include', 'included', 'including', 'individual', 'info', 'information', 'ing', 'innocent', 'insert', 'inside', 'instead', 'insult', 'insulted', 'insulting', 'insults', 'intelligence', 'interested', 'interesting', 'internet', 'involved', 'ip', 'ips', 'irrelevant', 'isn', 'isnt', 'issue', 'issues', 'jack', 'jackass', 'james', 'jerk', 'jerks', 'jew', 'jews', 'jimbo', 'job', 'john', 'joke', 'july', 'june', 'just', 'k', 'keeping', 'keeps', 'kept', 'kick', 'kid', 'kids', 'kill', 'killing', 'kind', 'kindly', 'knew', 'know', 'knowledge', 'known', 'knows', 'l', 'lack', 'laid', 'lame', 'land', 'language', 'large', 'later', 'laugh', 'law', 'lay', 'lazy', 'lead', 'learn', 'leave', 'leaving', 'left', 'legal', 'legit', 'legitimate', 'let', 'lets', 'letting', 'level', 'liar', 'liberal', 'lie', 'lies', 'life', 'like', 'likely', 'likes', 'line', 'link', 'links', 'list', 'listed', 'listen', 'little', 'live', 'lives', 'living', 'll', 'load', 'lock', 'log', 'logic', 'logical', 'lol', 'long', 'longer', 'look', 'looked', 'looking', 'looks', 'loose', 'loser', 'losers', 'lost', 'lots', 'love', 'lover', 'low', 'lying', 'm', 'mad', 'main', 'major', 'majority', 'make', 'makes', 'making', 'man', 'manner', 'mark', 'massive', 'mate', 'material', 'matter', 'matters', 'maybe', 'mean', 'meaning', 'means', 'meant', 'meet', 'member', 'members', 'men', 'mental', 'mentally', 'mention', 'mentioned', 'merely', 'mess', 'message', 'messages', 'messing', 'metal', 'middle', 'million', 'mind', 'minor', 'minutes', 'mistake', 'mistakes', 'mod', 'moderator', 'mom', 'moment', 'money', 'monkey', 'months', 'moron', 'moronic', 'morons', 'mother', 'motherfucker', 'mouth', 'movie', 'mr', 'multiple', 'mum', 'music', 'muslim', 'n', 'named', 'nasty', 'necessary', 'need', 'needed', 'needs', 'negative', 'nerd', 'nerds', 'net', 'neutral', 'new', 'news', 'nice', 'nigga', 'nigger', 'night', 'non', 'nonsense', 'nose', 'notable', 'note', 'notice', 'noticed', 'npov', 'number', 'numerous', 'o', 'obsessed', 'obvious', 'obviously', 'october', 'offended', 'offensive', 'official', 'oh', 'ok', 'okay', 'old', 'ones', 'online', 'open', 'opinion', 'opinions', 'order', 'org', 'original', 'outside', 'p', 'page', 'pages', 'pain', 'paragraph', 'paranoid', 'particular', 'past', 'pathetic', 'pay', 'peace', 'penis', 'people', 'peoples', 'perfect', 'perfectly', 'period', 'person', 'personal', 'personally', 'petty', 'pic', 'pick', 'picture', 'piece', 'pig', 'piss', 'pissed', 'place', 'plain', 'play', 'playing', 'plus', 'point', 'pointed', 'pointing', 'points', 'police', 'policies', 'policy', 'political', 'pompous', 'poo', 'poor', 'porn', 'position', 'positive', 'possible', 'possibly', 'post', 'posted', 'posting', 'posts', 'pov', 'power', 'powers', 'preceding', 'prefer', 'pretending', 'pretty', 'previous', 'prick', 'private', 'pro', 'probably', 'problem', 'problems', 'profile', 'project', 'proof', 'propaganda', 'proper', 'properly', 'protect', 'protected', 'prove', 'proven', 'proves', 'provide', 'provided', 'proxy', 'ps', 'public', 'pull', 'punk', 'puppet', 'purpose', 'push', 'pushing', 'pussy', 'putting', 'queer', 'question', 'questions', 'quick', 'quit', 'quite', 'quote', 'r', 'racism', 'racist', 'random', 'rape', 'rat', 'read', 'reading', 'real', 'reality', 'realize', 'really', 'reason', 'reasonable', 'reasons', 'recent', 'recently', 'record', 'red', 'redirect', 'reference', 'references', 'referring', 'refrain', 'refuse', 'regarding', 'regardless', 'related', 'relevant', 'reliable', 'religious', 'remarks', 'remember', 'removal', 'remove', 'removed', 'removing', 'repeat', 'repeatedly', 'reply', 'replying', 'report', 'reported', 'reporting', 'request', 'research', 'respect', 'respond', 'responding', 'response', 'rest', 'result', 'retard', 'retarded', 'retards', 'return', 'revert', 'reverted', 'reverting', 'reverts', 'review', 'ridiculous', 'righteous', 'rights', 'rot', 'rr', 'rubbish', 'rude', 'ruin', 'ruining', 'rule', 'rules', 'run', 'running', 's', 'sad', 'said', 'sake', 'sandbox', 'save', 'saw', 'say', 'saying', 'says', 'scared', 'school', 'screw', 'scum', 'scumbag', 'search', 'second', 'section', 'sections', 'seeing', 'seen', 'self', 'send', 'sending', 'sense', 'sensitive', 'sent', 'sentence', 'serbs', 'series', 'seriously', 'sex', 'sexual', 'sexy', 'shall', 'shame', 'shit', 'shithead', 'shitty', 'shoot', 'short', 'shove', 'showed', 'shown', 'shows', 'shut', 'sick', 'sign', 'signed', 'silence', 'silly', 'similar', 'simple', 'simply', 'single', 'sir', 'sister', 'sit', 'site', 'sitting', 'situation', 'skills', 'sleep', 'slow', 'small', 'social', 'sock', 'sockpuppet', 'sockpuppets', 'socks', 'somebody', 'son', 'song', 'soon', 'sorry', 'sort', 'sound', 'sounds', 'source', 'sourced', 'sources', 'south', 'space', 'spam', 'spamming', 'speak', 'speaking', 'special', 'speech', 'speedy', 'spelling', 'spend', 'spread', 'st', 'stalk', 'stalker', 'stalking', 'stand', 'standards', 'star', 'start', 'started', 'starting', 'state', 'stated', 'statement', 'states', 'stating', 'stay', 'stick', 'stop', 'stopped', 'story', 'straight', 'strike', 'strong', 'stuck', 'stuff', 'stupid', 'stupidity', 'style', 'subject', 'suck', 'sucker', 'sucking', 'sucks', 'sue', 'suggest', 'summaries', 'summary', 'support', 'supposed', 'sure', 'suspect', 'swear', 'sweet', 't', 'tag', 'taken', 'takes', 'taking', 'talk', 'talking', 'talkpage', 'tell', 'telling', 'template', 'templates', 'term', 'terrible', 'terrorist', 'text', 'th', 'thank', 'thanks', 'thats', 'thing', 'things', 'think', 'thinking', 'thinks', 'thought', 'thousands', 'threat', 'threaten', 'threatening', 'threats', 'throw', 'till', 'time', 'times', 'tired', 'title', 'today', 'told', 'took', 'topic', 'total', 'totally', 'touch', 'tough', 'trash', 'treat', 'tried', 'trip', 'troll', 'trolling', 'trolls', 'trouble', 'true', 'truly', 'truth', 'try', 'trying', 'turn', 'turned', 'tv', 'tw', 'twat', 'type', 'u', 'ugly', 'uk', 'unblock', 'unblocked', 'uncivil', 'unconstructive', 'understand', 'undo', 'undoing', 'united', 'university', 'unless', 'unlike', 'unsigned', 'upset', 'ur', 'use', 'used', 'useful', 'useless', 'user', 'username', 'userpage', 'users', 'using', 'usually', 'utc', 'utter', 'vagina', 'valid', 'value', 'vandal', 'vandalise', 'vandalising', 'vandalism', 'vandalize', 'vandalized', 'vandalizing', 'vandals', 've', 'version', 'video', 'view', 'views', 'violate', 'violating', 'violation', 'virgin', 'w', 'wait', 'wales', 'wanker', 'wanna', 'want', 'wanted', 'wants', 'war', 'warn', 'warned', 'warning', 'warnings', 'warring', 'wars', 'waste', 'wasting', 'watch', 'watching', 'way', 'ways', 'web', 'website', 'week', 'welcome', 'went', 'whats', 'whining', 'white', 'whore', 'wife', 'wiki', 'wikipedia', 'wikipedians', 'win', 'wing', 'wish', 'wit', 'woman', 'women', 'wonder', 'wont', 'word', 'words', 'work', 'worked', 'works', 'world', 'worse', 'worst', 'worth', 'worthless', 'wow', 'wp', 'write', 'writing', 'written', 'wrong', 'wrote', 'wtf', 'www', 'x', 'y', 'ya', 'yall', 'yea', 'yeah', 'year', 'years', 'yes', 'yo', 'young', 'youre']\n",
      "\n"
     ]
    }
   ],
   "source": [
    "for i in range(n_components):\n",
    "    print('Tokens for', i, 'component:')\n",
    "    print([idx_to_words[i] for i in component_idxs[i]])\n",
    "    print()"
   ]
  },
  {
   "cell_type": "code",
   "execution_count": null,
   "metadata": {
    "collapsed": true
   },
   "outputs": [],
   "source": []
  },
  {
   "cell_type": "code",
   "execution_count": null,
   "metadata": {
    "collapsed": true
   },
   "outputs": [],
   "source": []
  },
  {
   "cell_type": "code",
   "execution_count": null,
   "metadata": {
    "collapsed": true
   },
   "outputs": [],
   "source": []
  },
  {
   "cell_type": "code",
   "execution_count": null,
   "metadata": {
    "collapsed": true
   },
   "outputs": [],
   "source": []
  },
  {
   "cell_type": "code",
   "execution_count": null,
   "metadata": {
    "collapsed": true
   },
   "outputs": [],
   "source": []
  },
  {
   "cell_type": "code",
   "execution_count": null,
   "metadata": {
    "collapsed": true
   },
   "outputs": [],
   "source": []
  },
  {
   "cell_type": "code",
   "execution_count": null,
   "metadata": {
    "collapsed": true
   },
   "outputs": [],
   "source": []
  },
  {
   "cell_type": "code",
   "execution_count": null,
   "metadata": {
    "collapsed": true
   },
   "outputs": [],
   "source": []
  },
  {
   "cell_type": "code",
   "execution_count": null,
   "metadata": {
    "collapsed": true
   },
   "outputs": [],
   "source": []
  },
  {
   "cell_type": "code",
   "execution_count": null,
   "metadata": {
    "collapsed": true
   },
   "outputs": [],
   "source": []
  }
 ],
 "metadata": {
  "kernelspec": {
   "display_name": "Python 3",
   "language": "python",
   "name": "python3"
  },
  "language_info": {
   "codemirror_mode": {
    "name": "ipython",
    "version": 3
   },
   "file_extension": ".py",
   "mimetype": "text/x-python",
   "name": "python",
   "nbconvert_exporter": "python",
   "pygments_lexer": "ipython3",
   "version": "3.6.4"
  }
 },
 "nbformat": 4,
 "nbformat_minor": 2
}
