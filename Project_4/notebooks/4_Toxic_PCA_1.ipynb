{
 "cells": [
  {
   "cell_type": "markdown",
   "metadata": {},
   "source": [
    "## Toxic: PCA"
   ]
  },
  {
   "cell_type": "code",
   "execution_count": 1,
   "metadata": {
    "collapsed": true
   },
   "outputs": [],
   "source": [
    "import pandas as pd\n",
    "import numpy as np\n",
    "import matplotlib.pyplot as plt\n",
    "import seaborn as sns\n",
    "\n",
    "from sklearn.feature_extraction.text import CountVectorizer\n",
    "from sklearn.base import TransformerMixin\n",
    "from sklearn.pipeline import Pipeline\n",
    "from sklearn.decomposition import PCA"
   ]
  },
  {
   "cell_type": "code",
   "execution_count": 2,
   "metadata": {},
   "outputs": [
    {
     "name": "stdout",
     "output_type": "stream",
     "text": [
      "(159571, 24)\n"
     ]
    },
    {
     "data": {
      "text/html": [
       "<div>\n",
       "<style scoped>\n",
       "    .dataframe tbody tr th:only-of-type {\n",
       "        vertical-align: middle;\n",
       "    }\n",
       "\n",
       "    .dataframe tbody tr th {\n",
       "        vertical-align: top;\n",
       "    }\n",
       "\n",
       "    .dataframe thead th {\n",
       "        text-align: right;\n",
       "    }\n",
       "</style>\n",
       "<table border=\"1\" class=\"dataframe\">\n",
       "  <thead>\n",
       "    <tr style=\"text-align: right;\">\n",
       "      <th></th>\n",
       "      <th>id</th>\n",
       "      <th>comment_text</th>\n",
       "      <th>toxic</th>\n",
       "      <th>severe_toxic</th>\n",
       "      <th>obscene</th>\n",
       "      <th>threat</th>\n",
       "      <th>insult</th>\n",
       "      <th>identity_hate</th>\n",
       "      <th>category</th>\n",
       "      <th>rating</th>\n",
       "      <th>...</th>\n",
       "      <th>sent_token</th>\n",
       "      <th>polarity_sentence</th>\n",
       "      <th>polarity_comment</th>\n",
       "      <th>polarity_comment_s</th>\n",
       "      <th>word_count</th>\n",
       "      <th>char_count</th>\n",
       "      <th>char_count_s</th>\n",
       "      <th>polarity_min</th>\n",
       "      <th>polarity_max</th>\n",
       "      <th>polarity_mean</th>\n",
       "    </tr>\n",
       "    <tr>\n",
       "      <th>idx</th>\n",
       "      <th></th>\n",
       "      <th></th>\n",
       "      <th></th>\n",
       "      <th></th>\n",
       "      <th></th>\n",
       "      <th></th>\n",
       "      <th></th>\n",
       "      <th></th>\n",
       "      <th></th>\n",
       "      <th></th>\n",
       "      <th></th>\n",
       "      <th></th>\n",
       "      <th></th>\n",
       "      <th></th>\n",
       "      <th></th>\n",
       "      <th></th>\n",
       "      <th></th>\n",
       "      <th></th>\n",
       "      <th></th>\n",
       "      <th></th>\n",
       "      <th></th>\n",
       "    </tr>\n",
       "  </thead>\n",
       "  <tbody>\n",
       "    <tr>\n",
       "      <th>3a4c7758fad18de3</th>\n",
       "      <td>3a4c7758fad18de3</td>\n",
       "      <td>, I hope your retarded kids get anal raped and...</td>\n",
       "      <td>1</td>\n",
       "      <td>1</td>\n",
       "      <td>1</td>\n",
       "      <td>1</td>\n",
       "      <td>1</td>\n",
       "      <td>1</td>\n",
       "      <td>ToSTObThInIH</td>\n",
       "      <td>6</td>\n",
       "      <td>...</td>\n",
       "      <td>[, I hope your retarded kids get anal raped an...</td>\n",
       "      <td>(-0.6, 1.0, -0.01875, [-0.4, -0.4, 0.55, 0.15,...</td>\n",
       "      <td>0.00</td>\n",
       "      <td>0.00</td>\n",
       "      <td>94</td>\n",
       "      <td>494</td>\n",
       "      <td>494</td>\n",
       "      <td>-0.6000</td>\n",
       "      <td>1.0000</td>\n",
       "      <td>-0.018750</td>\n",
       "    </tr>\n",
       "    <tr>\n",
       "      <th>24d2b50726b67167</th>\n",
       "      <td>24d2b50726b67167</td>\n",
       "      <td>I am going to murder ZimZalaBim ST47 for being...</td>\n",
       "      <td>1</td>\n",
       "      <td>1</td>\n",
       "      <td>1</td>\n",
       "      <td>1</td>\n",
       "      <td>1</td>\n",
       "      <td>1</td>\n",
       "      <td>ToSTObThInIH</td>\n",
       "      <td>6</td>\n",
       "      <td>...</td>\n",
       "      <td>[I am going to murder ZimZalaBim ST47 for bein...</td>\n",
       "      <td>(-1.0, -1.0, -1.0, [-1.0])</td>\n",
       "      <td>0.00</td>\n",
       "      <td>0.00</td>\n",
       "      <td>12</td>\n",
       "      <td>68</td>\n",
       "      <td>68</td>\n",
       "      <td>-1.0000</td>\n",
       "      <td>-1.0000</td>\n",
       "      <td>-1.000000</td>\n",
       "    </tr>\n",
       "    <tr>\n",
       "      <th>c586b7a2fd575b13</th>\n",
       "      <td>c586b7a2fd575b13</td>\n",
       "      <td>Shut up you asswipe, we don't care. I'll decap...</td>\n",
       "      <td>1</td>\n",
       "      <td>1</td>\n",
       "      <td>1</td>\n",
       "      <td>1</td>\n",
       "      <td>1</td>\n",
       "      <td>1</td>\n",
       "      <td>ToSTObThInIH</td>\n",
       "      <td>6</td>\n",
       "      <td>...</td>\n",
       "      <td>[Shut up you asswipe, we don't care., I'll dec...</td>\n",
       "      <td>(-0.2, 0.0, -0.0755555555556, [0.0, -0.1777777...</td>\n",
       "      <td>-0.25</td>\n",
       "      <td>-0.25</td>\n",
       "      <td>24</td>\n",
       "      <td>3890</td>\n",
       "      <td>1000</td>\n",
       "      <td>-0.2000</td>\n",
       "      <td>0.0000</td>\n",
       "      <td>-0.075556</td>\n",
       "    </tr>\n",
       "    <tr>\n",
       "      <th>77d84b1321c22d9a</th>\n",
       "      <td>77d84b1321c22d9a</td>\n",
       "      <td>LGBT \\n\\nyou little fuck , are you a fag , tha...</td>\n",
       "      <td>1</td>\n",
       "      <td>1</td>\n",
       "      <td>1</td>\n",
       "      <td>1</td>\n",
       "      <td>1</td>\n",
       "      <td>1</td>\n",
       "      <td>ToSTObThInIH</td>\n",
       "      <td>6</td>\n",
       "      <td>...</td>\n",
       "      <td>[LGBT \\n\\nyou little fuck , are you a fag , th...</td>\n",
       "      <td>(-0.1775, 0.0, -0.08875, [-0.17750000000000005...</td>\n",
       "      <td>0.00</td>\n",
       "      <td>0.00</td>\n",
       "      <td>56</td>\n",
       "      <td>280</td>\n",
       "      <td>280</td>\n",
       "      <td>-0.1775</td>\n",
       "      <td>0.0000</td>\n",
       "      <td>-0.088750</td>\n",
       "    </tr>\n",
       "    <tr>\n",
       "      <th>1368c10281978876</th>\n",
       "      <td>1368c10281978876</td>\n",
       "      <td>You're a stupid cunt \\n\\nFuck you dumb arse, y...</td>\n",
       "      <td>1</td>\n",
       "      <td>1</td>\n",
       "      <td>1</td>\n",
       "      <td>1</td>\n",
       "      <td>1</td>\n",
       "      <td>1</td>\n",
       "      <td>ToSTObThInIH</td>\n",
       "      <td>6</td>\n",
       "      <td>...</td>\n",
       "      <td>[You're a stupid cunt \\n\\nFuck you dumb arse, ...</td>\n",
       "      <td>(-0.4125, -0.4125, -0.4125, [-0.41250000000000...</td>\n",
       "      <td>0.00</td>\n",
       "      <td>0.00</td>\n",
       "      <td>59</td>\n",
       "      <td>278</td>\n",
       "      <td>278</td>\n",
       "      <td>-0.4125</td>\n",
       "      <td>-0.4125</td>\n",
       "      <td>-0.412500</td>\n",
       "    </tr>\n",
       "  </tbody>\n",
       "</table>\n",
       "<p>5 rows × 24 columns</p>\n",
       "</div>"
      ],
      "text/plain": [
       "                                id  \\\n",
       "idx                                  \n",
       "3a4c7758fad18de3  3a4c7758fad18de3   \n",
       "24d2b50726b67167  24d2b50726b67167   \n",
       "c586b7a2fd575b13  c586b7a2fd575b13   \n",
       "77d84b1321c22d9a  77d84b1321c22d9a   \n",
       "1368c10281978876  1368c10281978876   \n",
       "\n",
       "                                                       comment_text  toxic  \\\n",
       "idx                                                                          \n",
       "3a4c7758fad18de3  , I hope your retarded kids get anal raped and...      1   \n",
       "24d2b50726b67167  I am going to murder ZimZalaBim ST47 for being...      1   \n",
       "c586b7a2fd575b13  Shut up you asswipe, we don't care. I'll decap...      1   \n",
       "77d84b1321c22d9a  LGBT \\n\\nyou little fuck , are you a fag , tha...      1   \n",
       "1368c10281978876  You're a stupid cunt \\n\\nFuck you dumb arse, y...      1   \n",
       "\n",
       "                  severe_toxic  obscene  threat  insult  identity_hate  \\\n",
       "idx                                                                      \n",
       "3a4c7758fad18de3             1        1       1       1              1   \n",
       "24d2b50726b67167             1        1       1       1              1   \n",
       "c586b7a2fd575b13             1        1       1       1              1   \n",
       "77d84b1321c22d9a             1        1       1       1              1   \n",
       "1368c10281978876             1        1       1       1              1   \n",
       "\n",
       "                      category  rating      ...        \\\n",
       "idx                                         ...         \n",
       "3a4c7758fad18de3  ToSTObThInIH       6      ...         \n",
       "24d2b50726b67167  ToSTObThInIH       6      ...         \n",
       "c586b7a2fd575b13  ToSTObThInIH       6      ...         \n",
       "77d84b1321c22d9a  ToSTObThInIH       6      ...         \n",
       "1368c10281978876  ToSTObThInIH       6      ...         \n",
       "\n",
       "                                                         sent_token  \\\n",
       "idx                                                                   \n",
       "3a4c7758fad18de3  [, I hope your retarded kids get anal raped an...   \n",
       "24d2b50726b67167  [I am going to murder ZimZalaBim ST47 for bein...   \n",
       "c586b7a2fd575b13  [Shut up you asswipe, we don't care., I'll dec...   \n",
       "77d84b1321c22d9a  [LGBT \\n\\nyou little fuck , are you a fag , th...   \n",
       "1368c10281978876  [You're a stupid cunt \\n\\nFuck you dumb arse, ...   \n",
       "\n",
       "                                                  polarity_sentence  \\\n",
       "idx                                                                   \n",
       "3a4c7758fad18de3  (-0.6, 1.0, -0.01875, [-0.4, -0.4, 0.55, 0.15,...   \n",
       "24d2b50726b67167                         (-1.0, -1.0, -1.0, [-1.0])   \n",
       "c586b7a2fd575b13  (-0.2, 0.0, -0.0755555555556, [0.0, -0.1777777...   \n",
       "77d84b1321c22d9a  (-0.1775, 0.0, -0.08875, [-0.17750000000000005...   \n",
       "1368c10281978876  (-0.4125, -0.4125, -0.4125, [-0.41250000000000...   \n",
       "\n",
       "                 polarity_comment polarity_comment_s word_count char_count  \\\n",
       "idx                                                                          \n",
       "3a4c7758fad18de3             0.00               0.00         94        494   \n",
       "24d2b50726b67167             0.00               0.00         12         68   \n",
       "c586b7a2fd575b13            -0.25              -0.25         24       3890   \n",
       "77d84b1321c22d9a             0.00               0.00         56        280   \n",
       "1368c10281978876             0.00               0.00         59        278   \n",
       "\n",
       "                  char_count_s  polarity_min  polarity_max  polarity_mean  \n",
       "idx                                                                        \n",
       "3a4c7758fad18de3           494       -0.6000        1.0000      -0.018750  \n",
       "24d2b50726b67167            68       -1.0000       -1.0000      -1.000000  \n",
       "c586b7a2fd575b13          1000       -0.2000        0.0000      -0.075556  \n",
       "77d84b1321c22d9a           280       -0.1775        0.0000      -0.088750  \n",
       "1368c10281978876           278       -0.4125       -0.4125      -0.412500  \n",
       "\n",
       "[5 rows x 24 columns]"
      ]
     },
     "execution_count": 2,
     "metadata": {},
     "output_type": "execute_result"
    }
   ],
   "source": [
    "df = pd.read_pickle('../data/toxictrain.pkl')\n",
    "print(df.shape)\n",
    "df.head()"
   ]
  },
  {
   "cell_type": "code",
   "execution_count": 3,
   "metadata": {
    "collapsed": true
   },
   "outputs": [],
   "source": [
    "class DenseTransformer(TransformerMixin):\n",
    "    \n",
    "    def transform(self,X,y=None,**fit_params):\n",
    "        return X.todense()\n",
    "    \n",
    "    def fit_transform(self,X,y=None,**fit_params):\n",
    "        self.fit(X,y,**fit_params)\n",
    "        return self.transform(X)\n",
    "    \n",
    "    def fit(self,X,y=None, **fit_params):\n",
    "        return self"
   ]
  },
  {
   "cell_type": "code",
   "execution_count": 4,
   "metadata": {
    "collapsed": true
   },
   "outputs": [],
   "source": [
    "# pipe = Pipeline([('vect', CountVectorizer(stop_words='english')),\n",
    "#                      ('to_dense', DenseTransformer()),\n",
    "#                      ('pca', PCA(n_components=2))])"
   ]
  },
  {
   "cell_type": "code",
   "execution_count": 5,
   "metadata": {
    "collapsed": true
   },
   "outputs": [],
   "source": [
    "from sklearn.decomposition import TruncatedSVD\n",
    "\n",
    "data = df.comment_text_s\n",
    "count_vectorizer = CountVectorizer(ngram_range=(1, 3),  stop_words='english', max_df=0.02, token_pattern=\"\\\\b[a-z][a-z]+\\\\b\")\n",
    "count_vectorizer.fit(data)\n",
    "counts = count_vectorizer.transform(data).transpose()"
   ]
  },
  {
   "cell_type": "code",
   "execution_count": 6,
   "metadata": {},
   "outputs": [],
   "source": [
    "clf = TruncatedSVD(n_components=15)\n",
    "Xpca = clf.fit_transform(counts)"
   ]
  },
  {
   "cell_type": "code",
   "execution_count": 7,
   "metadata": {},
   "outputs": [
    {
     "data": {
      "text/plain": [
       "array([[  3.08201612e-05,   2.91952123e-05,   2.02721325e-03, ...,\n",
       "          7.53976351e-04,   1.62072949e-02,   1.20294144e-03],\n",
       "       [  6.43776837e-07,   1.78410246e-06,   2.24947684e-05, ...,\n",
       "         -1.40996504e-05,   3.07983725e-03,   1.21587222e-04],\n",
       "       [  3.21885522e-07,   8.92033032e-07,   1.12473451e-05, ...,\n",
       "         -7.04982520e-06,   1.53991862e-03,   6.07936102e-05],\n",
       "       ..., \n",
       "       [  4.55799415e-07,  -2.25950412e-07,   9.61377600e-06, ...,\n",
       "          8.63837064e-06,   2.70659349e-05,   1.51782219e-05],\n",
       "       [  9.11598831e-08,  -4.51900824e-08,   1.92275520e-06, ...,\n",
       "          1.72767413e-06,   5.41318698e-06,   3.03564437e-06],\n",
       "       [  3.64639532e-07,  -1.80760330e-07,   7.69102080e-06, ...,\n",
       "          6.91069651e-06,   2.16527479e-05,   1.21425775e-05]])"
      ]
     },
     "execution_count": 7,
     "metadata": {},
     "output_type": "execute_result"
    }
   ],
   "source": [
    "Xpca"
   ]
  },
  {
   "cell_type": "code",
   "execution_count": 8,
   "metadata": {
    "collapsed": true
   },
   "outputs": [],
   "source": [
    "# pca = PCA(n_components=2)"
   ]
  },
  {
   "cell_type": "code",
   "execution_count": 9,
   "metadata": {},
   "outputs": [],
   "source": [
    "# pca.fit(denser)"
   ]
  },
  {
   "cell_type": "code",
   "execution_count": 10,
   "metadata": {
    "collapsed": true
   },
   "outputs": [],
   "source": [
    "# x_pca = pipe.fit_transform(data)"
   ]
  },
  {
   "cell_type": "code",
   "execution_count": 11,
   "metadata": {},
   "outputs": [
    {
     "data": {
      "text/plain": [
       "(5348950, 159571)"
      ]
     },
     "execution_count": 11,
     "metadata": {},
     "output_type": "execute_result"
    }
   ],
   "source": [
    "counts.shape"
   ]
  },
  {
   "cell_type": "code",
   "execution_count": 12,
   "metadata": {},
   "outputs": [
    {
     "data": {
      "text/plain": [
       "(5348950, 15)"
      ]
     },
     "execution_count": 12,
     "metadata": {},
     "output_type": "execute_result"
    }
   ],
   "source": [
    "Xpca.shape"
   ]
  },
  {
   "cell_type": "code",
   "execution_count": 13,
   "metadata": {},
   "outputs": [
    {
     "data": {
      "text/plain": [
       "Text(0,0.5,'Second Principal Component')"
      ]
     },
     "execution_count": 13,
     "metadata": {},
     "output_type": "execute_result"
    },
    {
     "data": {
      "image/png": "[encoded data removed]",
      "text/plain": [
       "<matplotlib.figure.Figure at 0x1a599b7f60>"
      ]
     },
     "metadata": {},
     "output_type": "display_data"
    }
   ],
   "source": [
    "plt.figure(figsize=(8,6))\n",
    "plt.scatter(Xpca[:,0],Xpca[:,1],cmap='plasma')\n",
    "plt.xlabel('First principal component')\n",
    "plt.ylabel('Second Principal Component')"
   ]
  },
  {
   "cell_type": "code",
   "execution_count": 16,
   "metadata": {},
   "outputs": [
    {
     "data": {
      "text/plain": [
       "array([[  1.82743982e-05,   3.35779401e-08,   8.11019969e-06, ...,\n",
       "          9.29239613e-08,   9.50013021e-09,   1.32548331e-07],\n",
       "       [  1.52280477e-06,   4.34677539e-09,   1.77059700e-06, ...,\n",
       "          1.06666046e-07,   5.34769834e-08,   3.23395764e-07],\n",
       "       [  4.82266210e-03,   7.22599223e-07,   1.74912953e-03, ...,\n",
       "          2.06665973e-06,   5.03865877e-07,   5.43170595e-06],\n",
       "       ..., \n",
       "       [ -2.31605867e-05,   9.31218565e-07,   5.34167475e-05, ...,\n",
       "          6.36508954e-06,   7.02471815e-07,   2.16307830e-05],\n",
       "       [  1.43817705e-03,   6.66751150e-07,   1.38486579e-05, ...,\n",
       "          5.21103138e-06,   1.07177539e-06,   9.13382942e-06],\n",
       "       [  5.40327336e-05,   3.91137302e-06,   4.34916945e-05, ...,\n",
       "          1.59660692e-05,   1.51544722e-06,   7.46371745e-05]])"
      ]
     },
     "execution_count": 16,
     "metadata": {},
     "output_type": "execute_result"
    }
   ],
   "source": [
    "clf.components_"
   ]
  },
  {
   "cell_type": "code",
   "execution_count": 18,
   "metadata": {},
   "outputs": [],
   "source": [
    "df_comp = pd.DataFrame(clf.components_)"
   ]
  },
  {
   "cell_type": "code",
   "execution_count": 19,
   "metadata": {},
   "outputs": [
    {
     "data": {
      "text/plain": [
       "<matplotlib.axes._subplots.AxesSubplot at 0x1a652b1128>"
      ]
     },
     "execution_count": 19,
     "metadata": {},
     "output_type": "execute_result"
    },
    {
     "data": {
      "image/png": "[encoded data removed]",
      "text/plain": [
       "<matplotlib.figure.Figure at 0x1a749ea8d0>"
      ]
     },
     "metadata": {},
     "output_type": "display_data"
    }
   ],
   "source": [
    "plt.figure(figsize=(12,6))\n",
    "sns.heatmap(df_comp,cmap='plasma',)"
   ]
  },
  {
   "cell_type": "code",
   "execution_count": null,
   "metadata": {
    "collapsed": true
   },
   "outputs": [],
   "source": []
  },
  {
   "cell_type": "code",
   "execution_count": null,
   "metadata": {
    "collapsed": true
   },
   "outputs": [],
   "source": []
  },
  {
   "cell_type": "code",
   "execution_count": null,
   "metadata": {
    "collapsed": true
   },
   "outputs": [],
   "source": []
  },
  {
   "cell_type": "code",
   "execution_count": null,
   "metadata": {
    "collapsed": true
   },
   "outputs": [],
   "source": []
  },
  {
   "cell_type": "code",
   "execution_count": null,
   "metadata": {
    "collapsed": true
   },
   "outputs": [],
   "source": []
  },
  {
   "cell_type": "code",
   "execution_count": null,
   "metadata": {
    "collapsed": true
   },
   "outputs": [],
   "source": []
  },
  {
   "cell_type": "code",
   "execution_count": null,
   "metadata": {
    "collapsed": true
   },
   "outputs": [],
   "source": [
    "# Authors: Robert McGibbon, Joel Nothman, Guillaume Lemaitre\n",
    "\n",
    "# from __future__ import print_function, division\n",
    "\n",
    "import numpy as np\n",
    "import matplotlib.pyplot as plt\n",
    "from sklearn.datasets import load_digits\n",
    "from sklearn.model_selection import GridSearchCV\n",
    "from sklearn.pipeline import Pipeline\n",
    "from sklearn.svm import LinearSVC\n",
    "from sklearn.decomposition import PCA, NMF\n",
    "from sklearn.feature_selection import SelectKBest, chi2\n",
    "\n",
    "print(__doc__)\n",
    "\n",
    "pipe = Pipeline([\n",
    "    ('vect', CountVectorizer(stop_words='english')),\n",
    "    ('to_dense', DenseTransformer()),\n",
    "    ('reduce_dim', PCA()),\n",
    "    ('classify', LinearSVC())\n",
    "])\n",
    "\n",
    "N_FEATURES_OPTIONS = [2, 4, 8]\n",
    "C_OPTIONS = [1, 10, 100, 1000]\n",
    "param_grid = [\n",
    "    {\n",
    "        'reduce_dim': [PCA(iterated_power=7), NMF()],\n",
    "        'reduce_dim__n_components': N_FEATURES_OPTIONS,\n",
    "        'classify__C': C_OPTIONS\n",
    "    },\n",
    "    {\n",
    "        'reduce_dim': [SelectKBest(chi2)],\n",
    "        'reduce_dim__k': N_FEATURES_OPTIONS,\n",
    "        'classify__C': C_OPTIONS\n",
    "    },\n",
    "]\n",
    "reducer_labels = ['PCA', 'NMF', 'KBest(chi2)']\n",
    "\n",
    "grid = GridSearchCV(pipe, cv=3, n_jobs=1, param_grid=param_grid)\n",
    "# digits = load_digits()\n",
    "grid.fit(df.comment_text_s, df.toxic)\n",
    "\n",
    "mean_scores = np.array(grid.cv_results_['mean_test_score'])\n",
    "# scores are in the order of param_grid iteration, which is alphabetical\n",
    "mean_scores = mean_scores.reshape(len(C_OPTIONS), -1, len(N_FEATURES_OPTIONS))\n",
    "# select score for best C\n",
    "mean_scores = mean_scores.max(axis=0)\n",
    "bar_offsets = (np.arange(len(N_FEATURES_OPTIONS)) *\n",
    "               (len(reducer_labels) + 1) + .5)\n",
    "\n",
    "plt.figure()\n",
    "COLORS = 'bgrcmyk'\n",
    "for i, (label, reducer_scores) in enumerate(zip(reducer_labels, mean_scores)):\n",
    "    plt.bar(bar_offsets + i, reducer_scores, label=label, color=COLORS[i])\n",
    "\n",
    "plt.title(\"Comparing feature reduction techniques\")\n",
    "plt.xlabel('Reduced number of features')\n",
    "plt.xticks(bar_offsets + len(reducer_labels) / 2, N_FEATURES_OPTIONS)\n",
    "plt.ylabel('Digit classification accuracy')\n",
    "plt.ylim((0, 1))\n",
    "plt.legend(loc='upper left')"
   ]
  },
  {
   "cell_type": "code",
   "execution_count": null,
   "metadata": {
    "collapsed": true
   },
   "outputs": [],
   "source": [
    "# http://scikit-learn.org/stable/auto_examples/plot_multilabel.html#sphx-glr-auto-examples-plot-multilabel-py\n",
    "# print(__doc__)\n",
    "\n",
    "# import numpy as np\n",
    "# import matplotlib.pyplot as plt\n",
    "\n",
    "# from sklearn.datasets import make_multilabel_classification\n",
    "# from sklearn.multiclass import OneVsRestClassifier\n",
    "# from sklearn.svm import SVC\n",
    "# from sklearn.preprocessing import LabelBinarizer\n",
    "# from sklearn.decomposition import PCA\n",
    "# from sklearn.cross_decomposition import CCA\n",
    "\n",
    "\n",
    "# def plot_hyperplane(clf, min_x, max_x, linestyle, label):\n",
    "#     # get the separating hyperplane\n",
    "#     w = clf.coef_[0]\n",
    "#     a = -w[0] / w[1]\n",
    "#     xx = np.linspace(min_x - 5, max_x + 5)  # make sure the line is long enough\n",
    "#     yy = a * xx - (clf.intercept_[0]) / w[1]\n",
    "#     plt.plot(xx, yy, linestyle, label=label)\n",
    "\n",
    "\n",
    "# def plot_subfigure(X, Y, subplot, title, transform):\n",
    "#     if transform == \"pca\":\n",
    "#         X = PCA(n_components=2).fit_transform(X)\n",
    "#     elif transform == \"cca\":\n",
    "#         X = CCA(n_components=2).fit(X, Y).transform(X)\n",
    "#     else:\n",
    "#         raise ValueError\n",
    "\n",
    "#     min_x = np.min(X[:, 0])\n",
    "#     max_x = np.max(X[:, 0])\n",
    "\n",
    "#     min_y = np.min(X[:, 1])\n",
    "#     max_y = np.max(X[:, 1])\n",
    "\n",
    "#     classif = OneVsRestClassifier(SVC(kernel='linear'))\n",
    "#     classif.fit(X, Y)\n",
    "\n",
    "#     plt.subplot(2, 2, subplot)\n",
    "#     plt.title(title)\n",
    "\n",
    "#     zero_class = np.where(Y[:, 0])\n",
    "#     one_class = np.where(Y[:, 1])\n",
    "#     plt.scatter(X[:, 0], X[:, 1], s=40, c='gray', edgecolors=(0, 0, 0))\n",
    "#     plt.scatter(X[zero_class, 0], X[zero_class, 1], s=160, edgecolors='b',\n",
    "#                 facecolors='none', linewidths=2, label='Class 1')\n",
    "#     plt.scatter(X[one_class, 0], X[one_class, 1], s=80, edgecolors='orange',\n",
    "#                 facecolors='none', linewidths=2, label='Class 2')\n",
    "\n",
    "#     plot_hyperplane(classif.estimators_[0], min_x, max_x, 'k--',\n",
    "#                     'Boundary\\nfor class 1')\n",
    "#     plot_hyperplane(classif.estimators_[1], min_x, max_x, 'k-.',\n",
    "#                     'Boundary\\nfor class 2')\n",
    "#     plt.xticks(())\n",
    "#     plt.yticks(())\n",
    "\n",
    "#     plt.xlim(min_x - .5 * max_x, max_x + .5 * max_x)\n",
    "#     plt.ylim(min_y - .5 * max_y, max_y + .5 * max_y)\n",
    "#     if subplot == 2:\n",
    "#         plt.xlabel('First principal component')\n",
    "#         plt.ylabel('Second principal component')\n",
    "#         plt.legend(loc=\"upper left\")\n",
    "\n",
    "\n",
    "# plt.figure(figsize=(8, 6))\n",
    "\n",
    "# X, Y = make_multilabel_classification(n_classes=2, n_labels=1,\n",
    "#                                       allow_unlabeled=True,\n",
    "#                                       random_state=1)\n",
    "\n",
    "# plot_subfigure(X, Y, 1, \"With unlabeled samples + CCA\", \"cca\")\n",
    "# plot_subfigure(X, Y, 2, \"With unlabeled samples + PCA\", \"pca\")\n",
    "\n",
    "# X, Y = make_multilabel_classification(n_classes=2, n_labels=1,\n",
    "#                                       allow_unlabeled=False,\n",
    "#                                       random_state=1)\n",
    "\n",
    "# plot_subfigure(X, Y, 3, \"Without unlabeled samples + CCA\", \"cca\")\n",
    "# plot_subfigure(X, Y, 4, \"Without unlabeled samples + PCA\", \"pca\")\n",
    "\n",
    "# plt.subplots_adjust(.04, .02, .97, .94, .09, .2)\n",
    "# plt.show()"
   ]
  },
  {
   "cell_type": "code",
   "execution_count": null,
   "metadata": {
    "collapsed": true
   },
   "outputs": [],
   "source": []
  },
  {
   "cell_type": "code",
   "execution_count": null,
   "metadata": {
    "collapsed": true
   },
   "outputs": [],
   "source": []
  },
  {
   "cell_type": "code",
   "execution_count": null,
   "metadata": {
    "collapsed": true
   },
   "outputs": [],
   "source": []
  },
  {
   "cell_type": "code",
   "execution_count": null,
   "metadata": {
    "collapsed": true
   },
   "outputs": [],
   "source": []
  },
  {
   "cell_type": "code",
   "execution_count": null,
   "metadata": {
    "collapsed": true
   },
   "outputs": [],
   "source": []
  },
  {
   "cell_type": "code",
   "execution_count": null,
   "metadata": {
    "collapsed": true
   },
   "outputs": [],
   "source": []
  },
  {
   "cell_type": "code",
   "execution_count": null,
   "metadata": {
    "collapsed": true
   },
   "outputs": [],
   "source": []
  },
  {
   "cell_type": "code",
   "execution_count": null,
   "metadata": {
    "collapsed": true
   },
   "outputs": [],
   "source": []
  }
 ],
 "metadata": {
  "kernelspec": {
   "display_name": "Python 3",
   "language": "python",
   "name": "python3"
  },
  "language_info": {
   "codemirror_mode": {
    "name": "ipython",
    "version": 3
   },
   "file_extension": ".py",
   "mimetype": "text/x-python",
   "name": "python",
   "nbconvert_exporter": "python",
   "pygments_lexer": "ipython3",
   "version": "3.6.4"
  }
 },
 "nbformat": 4,
 "nbformat_minor": 2
}
