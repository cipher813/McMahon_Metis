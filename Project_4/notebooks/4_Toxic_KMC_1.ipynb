{
 "cells": [
  {
   "cell_type": "markdown",
   "metadata": {},
   "source": [
    "## Toxic: KMC"
   ]
  },
  {
   "cell_type": "code",
   "execution_count": 1,
   "metadata": {
    "collapsed": true
   },
   "outputs": [],
   "source": [
    "import pandas as pd\n",
    "import numpy as np\n",
    "import matplotlib.pyplot as plt\n",
    "\n",
    "from sklearn.feature_extraction.text import CountVectorizer\n",
    "from sklearn.metrics import silhouette_score\n",
    "from sklearn.cluster import KMeans\n",
    "from sklearn.utils import shuffle"
   ]
  },
  {
   "cell_type": "code",
   "execution_count": 2,
   "metadata": {},
   "outputs": [
    {
     "name": "stdout",
     "output_type": "stream",
     "text": [
      "(159571, 24)\n"
     ]
    },
    {
     "data": {
      "text/html": [
       "<div>\n",
       "<style scoped>\n",
       "    .dataframe tbody tr th:only-of-type {\n",
       "        vertical-align: middle;\n",
       "    }\n",
       "\n",
       "    .dataframe tbody tr th {\n",
       "        vertical-align: top;\n",
       "    }\n",
       "\n",
       "    .dataframe thead th {\n",
       "        text-align: right;\n",
       "    }\n",
       "</style>\n",
       "<table border=\"1\" class=\"dataframe\">\n",
       "  <thead>\n",
       "    <tr style=\"text-align: right;\">\n",
       "      <th></th>\n",
       "      <th>id</th>\n",
       "      <th>comment_text</th>\n",
       "      <th>toxic</th>\n",
       "      <th>severe_toxic</th>\n",
       "      <th>obscene</th>\n",
       "      <th>threat</th>\n",
       "      <th>insult</th>\n",
       "      <th>identity_hate</th>\n",
       "      <th>category</th>\n",
       "      <th>rating</th>\n",
       "      <th>...</th>\n",
       "      <th>sent_token</th>\n",
       "      <th>polarity_sentence</th>\n",
       "      <th>polarity_comment</th>\n",
       "      <th>polarity_comment_s</th>\n",
       "      <th>word_count</th>\n",
       "      <th>char_count</th>\n",
       "      <th>char_count_s</th>\n",
       "      <th>polarity_min</th>\n",
       "      <th>polarity_max</th>\n",
       "      <th>polarity_mean</th>\n",
       "    </tr>\n",
       "    <tr>\n",
       "      <th>idx</th>\n",
       "      <th></th>\n",
       "      <th></th>\n",
       "      <th></th>\n",
       "      <th></th>\n",
       "      <th></th>\n",
       "      <th></th>\n",
       "      <th></th>\n",
       "      <th></th>\n",
       "      <th></th>\n",
       "      <th></th>\n",
       "      <th></th>\n",
       "      <th></th>\n",
       "      <th></th>\n",
       "      <th></th>\n",
       "      <th></th>\n",
       "      <th></th>\n",
       "      <th></th>\n",
       "      <th></th>\n",
       "      <th></th>\n",
       "      <th></th>\n",
       "      <th></th>\n",
       "    </tr>\n",
       "  </thead>\n",
       "  <tbody>\n",
       "    <tr>\n",
       "      <th>3a4c7758fad18de3</th>\n",
       "      <td>3a4c7758fad18de3</td>\n",
       "      <td>, I hope your retarded kids get anal raped and...</td>\n",
       "      <td>1</td>\n",
       "      <td>1</td>\n",
       "      <td>1</td>\n",
       "      <td>1</td>\n",
       "      <td>1</td>\n",
       "      <td>1</td>\n",
       "      <td>ToSTObThInIH</td>\n",
       "      <td>6</td>\n",
       "      <td>...</td>\n",
       "      <td>[, I hope your retarded kids get anal raped an...</td>\n",
       "      <td>(-0.6, 1.0, -0.018750000000000003, [-0.4, -0.4...</td>\n",
       "      <td>0.00</td>\n",
       "      <td>0.00</td>\n",
       "      <td>94</td>\n",
       "      <td>494</td>\n",
       "      <td>494</td>\n",
       "      <td>-0.6000</td>\n",
       "      <td>1.0000</td>\n",
       "      <td>-0.018750</td>\n",
       "    </tr>\n",
       "    <tr>\n",
       "      <th>24d2b50726b67167</th>\n",
       "      <td>24d2b50726b67167</td>\n",
       "      <td>I am going to murder ZimZalaBim ST47 for being...</td>\n",
       "      <td>1</td>\n",
       "      <td>1</td>\n",
       "      <td>1</td>\n",
       "      <td>1</td>\n",
       "      <td>1</td>\n",
       "      <td>1</td>\n",
       "      <td>ToSTObThInIH</td>\n",
       "      <td>6</td>\n",
       "      <td>...</td>\n",
       "      <td>[I am going to murder ZimZalaBim ST47 for bein...</td>\n",
       "      <td>(-1.0, -1.0, -1.0, [-1.0])</td>\n",
       "      <td>0.00</td>\n",
       "      <td>0.00</td>\n",
       "      <td>12</td>\n",
       "      <td>68</td>\n",
       "      <td>68</td>\n",
       "      <td>-1.0000</td>\n",
       "      <td>-1.0000</td>\n",
       "      <td>-1.000000</td>\n",
       "    </tr>\n",
       "    <tr>\n",
       "      <th>c586b7a2fd575b13</th>\n",
       "      <td>c586b7a2fd575b13</td>\n",
       "      <td>Shut up you asswipe, we don't care. I'll decap...</td>\n",
       "      <td>1</td>\n",
       "      <td>1</td>\n",
       "      <td>1</td>\n",
       "      <td>1</td>\n",
       "      <td>1</td>\n",
       "      <td>1</td>\n",
       "      <td>ToSTObThInIH</td>\n",
       "      <td>6</td>\n",
       "      <td>...</td>\n",
       "      <td>[Shut up you asswipe, we don't care., I'll dec...</td>\n",
       "      <td>(-0.2, 0.0, -0.07555555555555557, [0.0, -0.177...</td>\n",
       "      <td>-0.25</td>\n",
       "      <td>-0.25</td>\n",
       "      <td>24</td>\n",
       "      <td>3890</td>\n",
       "      <td>1000</td>\n",
       "      <td>-0.2000</td>\n",
       "      <td>0.0000</td>\n",
       "      <td>-0.075556</td>\n",
       "    </tr>\n",
       "    <tr>\n",
       "      <th>77d84b1321c22d9a</th>\n",
       "      <td>77d84b1321c22d9a</td>\n",
       "      <td>LGBT \\n\\nyou little fuck , are you a fag , tha...</td>\n",
       "      <td>1</td>\n",
       "      <td>1</td>\n",
       "      <td>1</td>\n",
       "      <td>1</td>\n",
       "      <td>1</td>\n",
       "      <td>1</td>\n",
       "      <td>ToSTObThInIH</td>\n",
       "      <td>6</td>\n",
       "      <td>...</td>\n",
       "      <td>[LGBT \\n\\nyou little fuck , are you a fag , th...</td>\n",
       "      <td>(-0.17750000000000005, 0.0, -0.088750000000000...</td>\n",
       "      <td>0.00</td>\n",
       "      <td>0.00</td>\n",
       "      <td>56</td>\n",
       "      <td>280</td>\n",
       "      <td>280</td>\n",
       "      <td>-0.1775</td>\n",
       "      <td>0.0000</td>\n",
       "      <td>-0.088750</td>\n",
       "    </tr>\n",
       "    <tr>\n",
       "      <th>1368c10281978876</th>\n",
       "      <td>1368c10281978876</td>\n",
       "      <td>You're a stupid cunt \\n\\nFuck you dumb arse, y...</td>\n",
       "      <td>1</td>\n",
       "      <td>1</td>\n",
       "      <td>1</td>\n",
       "      <td>1</td>\n",
       "      <td>1</td>\n",
       "      <td>1</td>\n",
       "      <td>ToSTObThInIH</td>\n",
       "      <td>6</td>\n",
       "      <td>...</td>\n",
       "      <td>[You're a stupid cunt \\n\\nFuck you dumb arse, ...</td>\n",
       "      <td>(-0.41250000000000003, -0.41250000000000003, -...</td>\n",
       "      <td>0.00</td>\n",
       "      <td>0.00</td>\n",
       "      <td>59</td>\n",
       "      <td>278</td>\n",
       "      <td>278</td>\n",
       "      <td>-0.4125</td>\n",
       "      <td>-0.4125</td>\n",
       "      <td>-0.412500</td>\n",
       "    </tr>\n",
       "  </tbody>\n",
       "</table>\n",
       "<p>5 rows × 24 columns</p>\n",
       "</div>"
      ],
      "text/plain": [
       "                                id  \\\n",
       "idx                                  \n",
       "3a4c7758fad18de3  3a4c7758fad18de3   \n",
       "24d2b50726b67167  24d2b50726b67167   \n",
       "c586b7a2fd575b13  c586b7a2fd575b13   \n",
       "77d84b1321c22d9a  77d84b1321c22d9a   \n",
       "1368c10281978876  1368c10281978876   \n",
       "\n",
       "                                                       comment_text  toxic  \\\n",
       "idx                                                                          \n",
       "3a4c7758fad18de3  , I hope your retarded kids get anal raped and...      1   \n",
       "24d2b50726b67167  I am going to murder ZimZalaBim ST47 for being...      1   \n",
       "c586b7a2fd575b13  Shut up you asswipe, we don't care. I'll decap...      1   \n",
       "77d84b1321c22d9a  LGBT \\n\\nyou little fuck , are you a fag , tha...      1   \n",
       "1368c10281978876  You're a stupid cunt \\n\\nFuck you dumb arse, y...      1   \n",
       "\n",
       "                  severe_toxic  obscene  threat  insult  identity_hate  \\\n",
       "idx                                                                      \n",
       "3a4c7758fad18de3             1        1       1       1              1   \n",
       "24d2b50726b67167             1        1       1       1              1   \n",
       "c586b7a2fd575b13             1        1       1       1              1   \n",
       "77d84b1321c22d9a             1        1       1       1              1   \n",
       "1368c10281978876             1        1       1       1              1   \n",
       "\n",
       "                      category  rating      ...        \\\n",
       "idx                                         ...         \n",
       "3a4c7758fad18de3  ToSTObThInIH       6      ...         \n",
       "24d2b50726b67167  ToSTObThInIH       6      ...         \n",
       "c586b7a2fd575b13  ToSTObThInIH       6      ...         \n",
       "77d84b1321c22d9a  ToSTObThInIH       6      ...         \n",
       "1368c10281978876  ToSTObThInIH       6      ...         \n",
       "\n",
       "                                                         sent_token  \\\n",
       "idx                                                                   \n",
       "3a4c7758fad18de3  [, I hope your retarded kids get anal raped an...   \n",
       "24d2b50726b67167  [I am going to murder ZimZalaBim ST47 for bein...   \n",
       "c586b7a2fd575b13  [Shut up you asswipe, we don't care., I'll dec...   \n",
       "77d84b1321c22d9a  [LGBT \\n\\nyou little fuck , are you a fag , th...   \n",
       "1368c10281978876  [You're a stupid cunt \\n\\nFuck you dumb arse, ...   \n",
       "\n",
       "                                                  polarity_sentence  \\\n",
       "idx                                                                   \n",
       "3a4c7758fad18de3  (-0.6, 1.0, -0.018750000000000003, [-0.4, -0.4...   \n",
       "24d2b50726b67167                         (-1.0, -1.0, -1.0, [-1.0])   \n",
       "c586b7a2fd575b13  (-0.2, 0.0, -0.07555555555555557, [0.0, -0.177...   \n",
       "77d84b1321c22d9a  (-0.17750000000000005, 0.0, -0.088750000000000...   \n",
       "1368c10281978876  (-0.41250000000000003, -0.41250000000000003, -...   \n",
       "\n",
       "                 polarity_comment polarity_comment_s word_count char_count  \\\n",
       "idx                                                                          \n",
       "3a4c7758fad18de3             0.00               0.00         94        494   \n",
       "24d2b50726b67167             0.00               0.00         12         68   \n",
       "c586b7a2fd575b13            -0.25              -0.25         24       3890   \n",
       "77d84b1321c22d9a             0.00               0.00         56        280   \n",
       "1368c10281978876             0.00               0.00         59        278   \n",
       "\n",
       "                  char_count_s  polarity_min  polarity_max  polarity_mean  \n",
       "idx                                                                        \n",
       "3a4c7758fad18de3           494       -0.6000        1.0000      -0.018750  \n",
       "24d2b50726b67167            68       -1.0000       -1.0000      -1.000000  \n",
       "c586b7a2fd575b13          1000       -0.2000        0.0000      -0.075556  \n",
       "77d84b1321c22d9a           280       -0.1775        0.0000      -0.088750  \n",
       "1368c10281978876           278       -0.4125       -0.4125      -0.412500  \n",
       "\n",
       "[5 rows x 24 columns]"
      ]
     },
     "execution_count": 2,
     "metadata": {},
     "output_type": "execute_result"
    }
   ],
   "source": [
    "df = pd.read_pickle('../data/toxictrain.pkl')\n",
    "print(df.shape)\n",
    "df.head()"
   ]
  },
  {
   "cell_type": "code",
   "execution_count": 3,
   "metadata": {
    "collapsed": true
   },
   "outputs": [],
   "source": [
    "def get_cluster_centers(X, labels, k_num):\n",
    "    CC_list = []\n",
    "    for k in range(k_num):\n",
    "        # get the mean coordinates of each cluster\n",
    "        CC_list.append(np.mean(X[labels == k], axis = 0))\n",
    "    return CC_list\n",
    "\n",
    "# for each cluster substract the mean from each data point to get the error\n",
    "# then get the magnitude of each error, square it, and sum it\n",
    "def get_SSE(X, labels):\n",
    "    k_num = len(np.unique(labels))\n",
    "    CC_list = get_cluster_centers(X, labels, k_num)\n",
    "    CSEs = []\n",
    "    for k in range(k_num):\n",
    "        # for each cluster of k we get the coordinates of how far off each point is to the cluster\n",
    "        error_cords = X[labels == k] - CC_list[k]\n",
    "        # square the coordinates and sum to get the magnitude squared\n",
    "        error_cords_sq = error_cords ** 2\n",
    "        error_mag_sq = np.sum(error_cords_sq, axis = 1)\n",
    "        # since we already have the magnitude of the error squared we can just take the sum for the cluster\n",
    "        CSE = np.sum(error_mag_sq)\n",
    "        CSEs.append(CSE)\n",
    "    # sum each cluster's sum of squared errors\n",
    "    return sum(CSEs)"
   ]
  },
  {
   "cell_type": "markdown",
   "metadata": {},
   "source": [
    "## Dataframe A: all rating > 0 included"
   ]
  },
  {
   "cell_type": "code",
   "execution_count": 7,
   "metadata": {
    "collapsed": true
   },
   "outputs": [],
   "source": [
    "df_A = shuffle(df)\n",
    "df_A = df[-40000:]"
   ]
  },
  {
   "cell_type": "code",
   "execution_count": null,
   "metadata": {},
   "outputs": [
    {
     "data": {
      "text/plain": [
       "(40000, 75040)"
      ]
     },
     "execution_count": 8,
     "metadata": {},
     "output_type": "execute_result"
    }
   ],
   "source": [
    "count_vect = CountVectorizer()\n",
    "X = count_vect.fit_transform(df_A.comment_text_s)\n",
    "X.shape"
   ]
  },
  {
   "cell_type": "code",
   "execution_count": null,
   "metadata": {},
   "outputs": [],
   "source": [
    "SSEs = []\n",
    "Sil_coefs = []\n",
    "for k in range(2,20):\n",
    "    km = KMeans(n_clusters=k, random_state=1)\n",
    "    km.fit(X)\n",
    "    labels = km.labels_\n",
    "    Sil_coefs.append(silhouette_score(X, labels, metric='euclidean'))\n",
    "    SSEs.append(km.inertia_) "
   ]
  },
  {
   "cell_type": "code",
   "execution_count": null,
   "metadata": {
    "collapsed": true
   },
   "outputs": [],
   "source": [
    "fig, (ax1, ax2) = plt.subplots(1,2, figsize=(15,5), sharex=True)\n",
    "k_clusters = range(2,20)\n",
    "ax1.plot(k_clusters, Sil_coefs)\n",
    "ax1.set_xlabel('number of clusters')\n",
    "ax1.set_ylabel('silhouette coefficient')\n",
    "\n",
    "# plot here on ax2\n",
    "ax2.plot(k_clusters, SSEs)\n",
    "ax2.set_xlabel('number of clusters')\n",
    "ax2.set_ylabel('SSE');"
   ]
  },
  {
   "cell_type": "code",
   "execution_count": null,
   "metadata": {
    "collapsed": true
   },
   "outputs": [],
   "source": [
    "km = KMeans(n_clusters=10)\n",
    "km.fit(X)"
   ]
  },
  {
   "cell_type": "code",
   "execution_count": null,
   "metadata": {
    "collapsed": true
   },
   "outputs": [],
   "source": [
    "mu_digits = km.cluster_centers_\n",
    "mu_digits.shape"
   ]
  },
  {
   "cell_type": "markdown",
   "metadata": {
    "collapsed": true
   },
   "source": [
    "## Dataframe B: All samples downsized and randomized equally"
   ]
  },
  {
   "cell_type": "code",
   "execution_count": 4,
   "metadata": {
    "collapsed": true
   },
   "outputs": [],
   "source": [
    "df_B = shuffle(df)\n",
    "df_B = df[-30000:]"
   ]
  },
  {
   "cell_type": "code",
   "execution_count": 5,
   "metadata": {},
   "outputs": [
    {
     "data": {
      "text/plain": [
       "(30000, 44471)"
      ]
     },
     "execution_count": 5,
     "metadata": {},
     "output_type": "execute_result"
    }
   ],
   "source": [
    "count_vect = CountVectorizer()\n",
    "X_B = count_vect.fit_transform(df_B.comment_text_s)\n",
    "X_B.shape"
   ]
  },
  {
   "cell_type": "code",
   "execution_count": 6,
   "metadata": {
    "collapsed": true
   },
   "outputs": [],
   "source": [
    "SSEs = []\n",
    "Sil_coefs = []\n",
    "for k in range(2,20):\n",
    "    km = KMeans(n_clusters=k, random_state=1)\n",
    "    km.fit(X_B)\n",
    "    labels = km.labels_\n",
    "    Sil_coefs.append(silhouette_score(X_B, labels, metric='euclidean'))\n",
    "    SSEs.append(km.inertia_) "
   ]
  },
  {
   "cell_type": "code",
   "execution_count": 8,
   "metadata": {},
   "outputs": [
    {
     "data": {
      "image/png": "[encoded data removed]",
      "text/plain": [
       "<matplotlib.figure.Figure at 0x1a5059d0f0>"
      ]
     },
     "metadata": {},
     "output_type": "display_data"
    }
   ],
   "source": [
    "fig, (ax1, ax2) = plt.subplots(1,2, figsize=(15,5), sharex=True)\n",
    "k_clusters = range(2,20)\n",
    "ax1.plot(k_clusters, Sil_coefs)\n",
    "ax1.set_xlabel('number of clusters')\n",
    "ax1.set_ylabel('silhouette coefficient')\n",
    "ax1.title(\"Silhouette\")\n",
    "\n",
    "# plot here on ax2\n",
    "ax2.plot(k_clusters, SSEs)\n",
    "ax2.set_xlabel('number of clusters')\n",
    "ax2.set_ylabel('SSE')\n",
    "ax2.title(\"SSE\")\n",
    "plt.savefig('../charts/KMCsilhouetteSSE_3.png')"
   ]
  },
  {
   "cell_type": "code",
   "execution_count": 9,
   "metadata": {},
   "outputs": [
    {
     "data": {
      "text/plain": [
       "KMeans(algorithm='auto', copy_x=True, init='k-means++', max_iter=300,\n",
       "    n_clusters=15, n_init=10, n_jobs=1, precompute_distances='auto',\n",
       "    random_state=None, tol=0.0001, verbose=0)"
      ]
     },
     "execution_count": 9,
     "metadata": {},
     "output_type": "execute_result"
    }
   ],
   "source": [
    "km = KMeans(n_clusters=15)\n",
    "km.fit(X_B)"
   ]
  },
  {
   "cell_type": "code",
   "execution_count": 10,
   "metadata": {},
   "outputs": [
    {
     "data": {
      "text/plain": [
       "(15, 44471)"
      ]
     },
     "execution_count": 10,
     "metadata": {},
     "output_type": "execute_result"
    }
   ],
   "source": [
    "mu_digits = km.cluster_centers_\n",
    "mu_digits.shape"
   ]
  },
  {
   "cell_type": "code",
   "execution_count": null,
   "metadata": {},
   "outputs": [
    {
     "name": "stdout",
     "output_type": "stream",
     "text": [
      "(40000, 75040)\n"
     ]
    }
   ],
   "source": [
    "df_B = shuffle(df)\n",
    "df_B = df[-40000:]\n",
    "count_vect = CountVectorizer()\n",
    "X_B = count_vect.fit_transform(df_B.comment_text_s)\n",
    "print(X_B.shape)\n",
    "SSEs = []\n",
    "Sil_coefs = []\n",
    "for k in range(2,20):\n",
    "    km = KMeans(n_clusters=k, random_state=1)\n",
    "    km.fit(X_B)\n",
    "    labels = km.labels_\n",
    "    Sil_coefs.append(silhouette_score(X_B, labels, metric='euclidean'))\n",
    "    SSEs.append(km.inertia_) \n",
    "fig, (ax1, ax2) = plt.subplots(1,2, figsize=(15,5), sharex=True)\n",
    "k_clusters = range(2,20)\n",
    "ax1.plot(k_clusters, Sil_coefs)\n",
    "ax1.set_xlabel('number of clusters')\n",
    "ax1.set_ylabel('silhouette coefficient')\n",
    "ax1.title(\"Silhouette\")\n",
    "\n",
    "# plot here on ax2\n",
    "ax2.plot(k_clusters, SSEs)\n",
    "ax2.set_xlabel('number of clusters')\n",
    "ax2.set_ylabel('SSE')\n",
    "ax2.title('SSE')\n",
    "plt.savefig('../charts/KMCsilhouetteSSE_2.png')"
   ]
  },
  {
   "cell_type": "code",
   "execution_count": null,
   "metadata": {
    "collapsed": true
   },
   "outputs": [],
   "source": [
    "km = KMeans(n_clusters=15)\n",
    "km.fit(X_B)"
   ]
  },
  {
   "cell_type": "code",
   "execution_count": null,
   "metadata": {
    "collapsed": true
   },
   "outputs": [],
   "source": [
    "mu_digits = km.cluster_centers_\n",
    "print(mu_digits)"
   ]
  },
  {
   "cell_type": "code",
   "execution_count": null,
   "metadata": {
    "collapsed": true
   },
   "outputs": [],
   "source": []
  }
 ],
 "metadata": {
  "kernelspec": {
   "display_name": "Python 3",
   "language": "python",
   "name": "python3"
  },
  "language_info": {
   "codemirror_mode": {
    "name": "ipython",
    "version": 3
   },
   "file_extension": ".py",
   "mimetype": "text/x-python",
   "name": "python",
   "nbconvert_exporter": "python",
   "pygments_lexer": "ipython3",
   "version": "3.6.4"
  }
 },
 "nbformat": 4,
 "nbformat_minor": 2
}
