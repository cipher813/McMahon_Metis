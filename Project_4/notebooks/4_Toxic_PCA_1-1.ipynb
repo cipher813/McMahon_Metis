{
 "cells": [
  {
   "cell_type": "markdown",
   "metadata": {},
   "source": [
    "## Toxic: PCA"
   ]
  },
  {
   "cell_type": "code",
   "execution_count": 1,
   "metadata": {
    "collapsed": true
   },
   "outputs": [],
   "source": [
    "import pandas as pd\n",
    "import numpy as np\n",
    "import matplotlib.pyplot as plt\n",
    "import seaborn as sns\n",
    "\n",
    "from sklearn.feature_extraction.text import CountVectorizer\n",
    "from sklearn.base import TransformerMixin\n",
    "from sklearn.pipeline import Pipeline\n",
    "from sklearn.decomposition import PCA"
   ]
  },
  {
   "cell_type": "code",
   "execution_count": 2,
   "metadata": {},
   "outputs": [
    {
     "name": "stdout",
     "output_type": "stream",
     "text": [
      "(159571, 24)\n"
     ]
    },
    {
     "data": {
      "text/html": [
       "<div>\n",
       "<style scoped>\n",
       "    .dataframe tbody tr th:only-of-type {\n",
       "        vertical-align: middle;\n",
       "    }\n",
       "\n",
       "    .dataframe tbody tr th {\n",
       "        vertical-align: top;\n",
       "    }\n",
       "\n",
       "    .dataframe thead th {\n",
       "        text-align: right;\n",
       "    }\n",
       "</style>\n",
       "<table border=\"1\" class=\"dataframe\">\n",
       "  <thead>\n",
       "    <tr style=\"text-align: right;\">\n",
       "      <th></th>\n",
       "      <th>id</th>\n",
       "      <th>comment_text</th>\n",
       "      <th>toxic</th>\n",
       "      <th>severe_toxic</th>\n",
       "      <th>obscene</th>\n",
       "      <th>threat</th>\n",
       "      <th>insult</th>\n",
       "      <th>identity_hate</th>\n",
       "      <th>category</th>\n",
       "      <th>rating</th>\n",
       "      <th>...</th>\n",
       "      <th>sent_token</th>\n",
       "      <th>polarity_sentence</th>\n",
       "      <th>polarity_comment</th>\n",
       "      <th>polarity_comment_s</th>\n",
       "      <th>word_count</th>\n",
       "      <th>char_count</th>\n",
       "      <th>char_count_s</th>\n",
       "      <th>polarity_min</th>\n",
       "      <th>polarity_max</th>\n",
       "      <th>polarity_mean</th>\n",
       "    </tr>\n",
       "    <tr>\n",
       "      <th>idx</th>\n",
       "      <th></th>\n",
       "      <th></th>\n",
       "      <th></th>\n",
       "      <th></th>\n",
       "      <th></th>\n",
       "      <th></th>\n",
       "      <th></th>\n",
       "      <th></th>\n",
       "      <th></th>\n",
       "      <th></th>\n",
       "      <th></th>\n",
       "      <th></th>\n",
       "      <th></th>\n",
       "      <th></th>\n",
       "      <th></th>\n",
       "      <th></th>\n",
       "      <th></th>\n",
       "      <th></th>\n",
       "      <th></th>\n",
       "      <th></th>\n",
       "      <th></th>\n",
       "    </tr>\n",
       "  </thead>\n",
       "  <tbody>\n",
       "    <tr>\n",
       "      <th>3a4c7758fad18de3</th>\n",
       "      <td>3a4c7758fad18de3</td>\n",
       "      <td>, I hope your retarded kids get anal raped and...</td>\n",
       "      <td>1</td>\n",
       "      <td>1</td>\n",
       "      <td>1</td>\n",
       "      <td>1</td>\n",
       "      <td>1</td>\n",
       "      <td>1</td>\n",
       "      <td>ToSTObThInIH</td>\n",
       "      <td>6</td>\n",
       "      <td>...</td>\n",
       "      <td>[, I hope your retarded kids get anal raped an...</td>\n",
       "      <td>(-0.6, 1.0, -0.018750000000000003, [-0.4, -0.4...</td>\n",
       "      <td>0.00</td>\n",
       "      <td>0.00</td>\n",
       "      <td>94</td>\n",
       "      <td>494</td>\n",
       "      <td>494</td>\n",
       "      <td>-0.6000</td>\n",
       "      <td>1.0000</td>\n",
       "      <td>-0.018750</td>\n",
       "    </tr>\n",
       "    <tr>\n",
       "      <th>24d2b50726b67167</th>\n",
       "      <td>24d2b50726b67167</td>\n",
       "      <td>I am going to murder ZimZalaBim ST47 for being...</td>\n",
       "      <td>1</td>\n",
       "      <td>1</td>\n",
       "      <td>1</td>\n",
       "      <td>1</td>\n",
       "      <td>1</td>\n",
       "      <td>1</td>\n",
       "      <td>ToSTObThInIH</td>\n",
       "      <td>6</td>\n",
       "      <td>...</td>\n",
       "      <td>[I am going to murder ZimZalaBim ST47 for bein...</td>\n",
       "      <td>(-1.0, -1.0, -1.0, [-1.0])</td>\n",
       "      <td>0.00</td>\n",
       "      <td>0.00</td>\n",
       "      <td>12</td>\n",
       "      <td>68</td>\n",
       "      <td>68</td>\n",
       "      <td>-1.0000</td>\n",
       "      <td>-1.0000</td>\n",
       "      <td>-1.000000</td>\n",
       "    </tr>\n",
       "    <tr>\n",
       "      <th>c586b7a2fd575b13</th>\n",
       "      <td>c586b7a2fd575b13</td>\n",
       "      <td>Shut up you asswipe, we don't care. I'll decap...</td>\n",
       "      <td>1</td>\n",
       "      <td>1</td>\n",
       "      <td>1</td>\n",
       "      <td>1</td>\n",
       "      <td>1</td>\n",
       "      <td>1</td>\n",
       "      <td>ToSTObThInIH</td>\n",
       "      <td>6</td>\n",
       "      <td>...</td>\n",
       "      <td>[Shut up you asswipe, we don't care., I'll dec...</td>\n",
       "      <td>(-0.2, 0.0, -0.07555555555555557, [0.0, -0.177...</td>\n",
       "      <td>-0.25</td>\n",
       "      <td>-0.25</td>\n",
       "      <td>24</td>\n",
       "      <td>3890</td>\n",
       "      <td>1000</td>\n",
       "      <td>-0.2000</td>\n",
       "      <td>0.0000</td>\n",
       "      <td>-0.075556</td>\n",
       "    </tr>\n",
       "    <tr>\n",
       "      <th>77d84b1321c22d9a</th>\n",
       "      <td>77d84b1321c22d9a</td>\n",
       "      <td>LGBT \\n\\nyou little fuck , are you a fag , tha...</td>\n",
       "      <td>1</td>\n",
       "      <td>1</td>\n",
       "      <td>1</td>\n",
       "      <td>1</td>\n",
       "      <td>1</td>\n",
       "      <td>1</td>\n",
       "      <td>ToSTObThInIH</td>\n",
       "      <td>6</td>\n",
       "      <td>...</td>\n",
       "      <td>[LGBT \\n\\nyou little fuck , are you a fag , th...</td>\n",
       "      <td>(-0.17750000000000005, 0.0, -0.088750000000000...</td>\n",
       "      <td>0.00</td>\n",
       "      <td>0.00</td>\n",
       "      <td>56</td>\n",
       "      <td>280</td>\n",
       "      <td>280</td>\n",
       "      <td>-0.1775</td>\n",
       "      <td>0.0000</td>\n",
       "      <td>-0.088750</td>\n",
       "    </tr>\n",
       "    <tr>\n",
       "      <th>1368c10281978876</th>\n",
       "      <td>1368c10281978876</td>\n",
       "      <td>You're a stupid cunt \\n\\nFuck you dumb arse, y...</td>\n",
       "      <td>1</td>\n",
       "      <td>1</td>\n",
       "      <td>1</td>\n",
       "      <td>1</td>\n",
       "      <td>1</td>\n",
       "      <td>1</td>\n",
       "      <td>ToSTObThInIH</td>\n",
       "      <td>6</td>\n",
       "      <td>...</td>\n",
       "      <td>[You're a stupid cunt \\n\\nFuck you dumb arse, ...</td>\n",
       "      <td>(-0.41250000000000003, -0.41250000000000003, -...</td>\n",
       "      <td>0.00</td>\n",
       "      <td>0.00</td>\n",
       "      <td>59</td>\n",
       "      <td>278</td>\n",
       "      <td>278</td>\n",
       "      <td>-0.4125</td>\n",
       "      <td>-0.4125</td>\n",
       "      <td>-0.412500</td>\n",
       "    </tr>\n",
       "  </tbody>\n",
       "</table>\n",
       "<p>5 rows × 24 columns</p>\n",
       "</div>"
      ],
      "text/plain": [
       "                                id  \\\n",
       "idx                                  \n",
       "3a4c7758fad18de3  3a4c7758fad18de3   \n",
       "24d2b50726b67167  24d2b50726b67167   \n",
       "c586b7a2fd575b13  c586b7a2fd575b13   \n",
       "77d84b1321c22d9a  77d84b1321c22d9a   \n",
       "1368c10281978876  1368c10281978876   \n",
       "\n",
       "                                                       comment_text  toxic  \\\n",
       "idx                                                                          \n",
       "3a4c7758fad18de3  , I hope your retarded kids get anal raped and...      1   \n",
       "24d2b50726b67167  I am going to murder ZimZalaBim ST47 for being...      1   \n",
       "c586b7a2fd575b13  Shut up you asswipe, we don't care. I'll decap...      1   \n",
       "77d84b1321c22d9a  LGBT \\n\\nyou little fuck , are you a fag , tha...      1   \n",
       "1368c10281978876  You're a stupid cunt \\n\\nFuck you dumb arse, y...      1   \n",
       "\n",
       "                  severe_toxic  obscene  threat  insult  identity_hate  \\\n",
       "idx                                                                      \n",
       "3a4c7758fad18de3             1        1       1       1              1   \n",
       "24d2b50726b67167             1        1       1       1              1   \n",
       "c586b7a2fd575b13             1        1       1       1              1   \n",
       "77d84b1321c22d9a             1        1       1       1              1   \n",
       "1368c10281978876             1        1       1       1              1   \n",
       "\n",
       "                      category  rating      ...        \\\n",
       "idx                                         ...         \n",
       "3a4c7758fad18de3  ToSTObThInIH       6      ...         \n",
       "24d2b50726b67167  ToSTObThInIH       6      ...         \n",
       "c586b7a2fd575b13  ToSTObThInIH       6      ...         \n",
       "77d84b1321c22d9a  ToSTObThInIH       6      ...         \n",
       "1368c10281978876  ToSTObThInIH       6      ...         \n",
       "\n",
       "                                                         sent_token  \\\n",
       "idx                                                                   \n",
       "3a4c7758fad18de3  [, I hope your retarded kids get anal raped an...   \n",
       "24d2b50726b67167  [I am going to murder ZimZalaBim ST47 for bein...   \n",
       "c586b7a2fd575b13  [Shut up you asswipe, we don't care., I'll dec...   \n",
       "77d84b1321c22d9a  [LGBT \\n\\nyou little fuck , are you a fag , th...   \n",
       "1368c10281978876  [You're a stupid cunt \\n\\nFuck you dumb arse, ...   \n",
       "\n",
       "                                                  polarity_sentence  \\\n",
       "idx                                                                   \n",
       "3a4c7758fad18de3  (-0.6, 1.0, -0.018750000000000003, [-0.4, -0.4...   \n",
       "24d2b50726b67167                         (-1.0, -1.0, -1.0, [-1.0])   \n",
       "c586b7a2fd575b13  (-0.2, 0.0, -0.07555555555555557, [0.0, -0.177...   \n",
       "77d84b1321c22d9a  (-0.17750000000000005, 0.0, -0.088750000000000...   \n",
       "1368c10281978876  (-0.41250000000000003, -0.41250000000000003, -...   \n",
       "\n",
       "                 polarity_comment polarity_comment_s word_count char_count  \\\n",
       "idx                                                                          \n",
       "3a4c7758fad18de3             0.00               0.00         94        494   \n",
       "24d2b50726b67167             0.00               0.00         12         68   \n",
       "c586b7a2fd575b13            -0.25              -0.25         24       3890   \n",
       "77d84b1321c22d9a             0.00               0.00         56        280   \n",
       "1368c10281978876             0.00               0.00         59        278   \n",
       "\n",
       "                  char_count_s  polarity_min  polarity_max  polarity_mean  \n",
       "idx                                                                        \n",
       "3a4c7758fad18de3           494       -0.6000        1.0000      -0.018750  \n",
       "24d2b50726b67167            68       -1.0000       -1.0000      -1.000000  \n",
       "c586b7a2fd575b13          1000       -0.2000        0.0000      -0.075556  \n",
       "77d84b1321c22d9a           280       -0.1775        0.0000      -0.088750  \n",
       "1368c10281978876           278       -0.4125       -0.4125      -0.412500  \n",
       "\n",
       "[5 rows x 24 columns]"
      ]
     },
     "execution_count": 2,
     "metadata": {},
     "output_type": "execute_result"
    }
   ],
   "source": [
    "df = pd.read_pickle('../data/toxictrain.pkl')\n",
    "print(df.shape)\n",
    "df.head()"
   ]
  },
  {
   "cell_type": "code",
   "execution_count": 3,
   "metadata": {
    "collapsed": true
   },
   "outputs": [],
   "source": [
    "class DenseTransformer(TransformerMixin):\n",
    "    \n",
    "    def transform(self,X,y=None,**fit_params):\n",
    "        return X.todense()\n",
    "    \n",
    "    def fit_transform(self,X,y=None,**fit_params):\n",
    "        self.fit(X,y,**fit_params)\n",
    "        return self.transform(X)\n",
    "    \n",
    "    def fit(self,X,y=None, **fit_params):\n",
    "        return self"
   ]
  },
  {
   "cell_type": "code",
   "execution_count": 4,
   "metadata": {
    "collapsed": true
   },
   "outputs": [],
   "source": [
    " pipe = Pipeline([('vect', CountVectorizer(stop_words='english')),\n",
    "                      ('to_dense', DenseTransformer()),\n",
    "                      ('pca', PCA(n_components=2))])"
   ]
  },
  {
   "cell_type": "code",
   "execution_count": 5,
   "metadata": {
    "collapsed": true
   },
   "outputs": [],
   "source": [
    "from sklearn.decomposition import TruncatedSVD\n",
    "\n",
    "data = df.comment_text_s\n",
    "count_vectorizer = CountVectorizer(ngram_range=(1, 3),  stop_words='english', max_df=0.02, token_pattern=\"\\\\b[a-z][a-z]+\\\\b\")\n",
    "count_vectorizer.fit(data)\n",
    "counts = count_vectorizer.transform(data).transpose()"
   ]
  },
  {
   "cell_type": "code",
   "execution_count": 6,
   "metadata": {
    "collapsed": true
   },
   "outputs": [],
   "source": [
    "clf = TruncatedSVD(n_components=15)\n",
    "Xpca = clf.fit_transform(counts)"
   ]
  },
  {
   "cell_type": "code",
   "execution_count": 7,
   "metadata": {},
   "outputs": [
    {
     "data": {
      "text/plain": [
       "array([[ 2.69288192e-05,  1.23409151e-05,  2.07828049e-03, ...,\n",
       "        -1.30510563e-03,  1.46589364e-02,  1.01222642e-03],\n",
       "       [-2.12416334e-08,  3.62431276e-07,  2.53448771e-05, ...,\n",
       "        -2.04678992e-04,  2.98010224e-03,  6.06409456e-06],\n",
       "       [-1.06164823e-08,  1.81207873e-07,  1.26724820e-05, ...,\n",
       "        -1.02339492e-04,  1.49005112e-03,  3.03204661e-06],\n",
       "       ...,\n",
       "       [ 7.78708532e-08,  1.66721663e-07,  9.84207170e-06, ...,\n",
       "         2.72160924e-05,  5.35335388e-05, -1.26279434e-05],\n",
       "       [ 1.55741706e-08,  3.33443327e-08,  1.96841434e-06, ...,\n",
       "         5.44321848e-06,  1.07067078e-05, -2.52558869e-06],\n",
       "       [ 6.22966826e-08,  1.33377331e-07,  7.87365736e-06, ...,\n",
       "         2.17728739e-05,  4.28268311e-05, -1.01023547e-05]])"
      ]
     },
     "execution_count": 7,
     "metadata": {},
     "output_type": "execute_result"
    }
   ],
   "source": [
    "Xpca"
   ]
  },
  {
   "cell_type": "code",
   "execution_count": 8,
   "metadata": {
    "collapsed": true
   },
   "outputs": [],
   "source": [
    "# pca = PCA(n_components=2)"
   ]
  },
  {
   "cell_type": "code",
   "execution_count": 9,
   "metadata": {
    "collapsed": true
   },
   "outputs": [],
   "source": [
    "# pca.fit(denser)"
   ]
  },
  {
   "cell_type": "code",
   "execution_count": 10,
   "metadata": {
    "collapsed": true
   },
   "outputs": [],
   "source": [
    "# x_pca = pipe.fit_transform(data)"
   ]
  },
  {
   "cell_type": "code",
   "execution_count": 11,
   "metadata": {},
   "outputs": [
    {
     "data": {
      "text/plain": [
       "(5348950, 159571)"
      ]
     },
     "execution_count": 11,
     "metadata": {},
     "output_type": "execute_result"
    }
   ],
   "source": [
    "counts.shape"
   ]
  },
  {
   "cell_type": "code",
   "execution_count": 12,
   "metadata": {},
   "outputs": [
    {
     "data": {
      "text/plain": [
       "(5348950, 15)"
      ]
     },
     "execution_count": 12,
     "metadata": {},
     "output_type": "execute_result"
    }
   ],
   "source": [
    "Xpca.shape"
   ]
  },
  {
   "cell_type": "code",
   "execution_count": 13,
   "metadata": {},
   "outputs": [
    {
     "data": {
      "text/plain": [
       "Text(0,0.5,'Second Principal Component')"
      ]
     },
     "execution_count": 13,
     "metadata": {},
     "output_type": "execute_result"
    },
    {
     "data": {
      "image/png": "[encoded data removed]",
      "text/plain": [
       "<matplotlib.figure.Figure at 0x1a4c470b00>"
      ]
     },
     "metadata": {},
     "output_type": "display_data"
    }
   ],
   "source": [
    "plt.figure(figsize=(8,6))\n",
    "plt.scatter(Xpca[:,0],Xpca[:,1],cmap='plasma')\n",
    "plt.xlabel('First principal component')\n",
    "plt.ylabel('Second Principal Component')"
   ]
  },
  {
   "cell_type": "code",
   "execution_count": 14,
   "metadata": {},
   "outputs": [
    {
     "data": {
      "text/plain": [
       "array([[ 1.85123433e-05,  3.05544757e-08,  8.11175406e-06, ...,\n",
       "         1.31998444e-07,  9.26179356e-09,  1.02659218e-07],\n",
       "       [ 1.37488790e-06,  5.27894259e-09,  1.42428887e-06, ...,\n",
       "         2.37932443e-08,  5.00837883e-08,  2.81988585e-07],\n",
       "       [ 4.82270395e-03,  7.18906850e-07,  1.75012048e-03, ...,\n",
       "         2.90649843e-06,  5.21089135e-07,  5.93131745e-06],\n",
       "       ...,\n",
       "       [-3.17099931e-04,  1.80365843e-06, -1.22443282e-04, ...,\n",
       "        -8.76526087e-07, -3.74532917e-07, -2.99426376e-07],\n",
       "       [ 1.30567555e-03,  1.72261360e-06, -1.13134834e-04, ...,\n",
       "        -1.89521226e-05,  2.81092521e-07,  1.66933572e-05],\n",
       "       [ 4.65783920e-05,  6.66130666e-06,  7.30153085e-05, ...,\n",
       "         5.57410204e-06,  1.72778468e-06,  9.56232132e-06]])"
      ]
     },
     "execution_count": 14,
     "metadata": {},
     "output_type": "execute_result"
    }
   ],
   "source": [
    "clf.components_"
   ]
  },
  {
   "cell_type": "code",
   "execution_count": 15,
   "metadata": {
    "collapsed": true
   },
   "outputs": [],
   "source": [
    "df_comp = pd.DataFrame(clf.components_)"
   ]
  },
  {
   "cell_type": "code",
   "execution_count": 16,
   "metadata": {},
   "outputs": [
    {
     "data": {
      "text/plain": [
       "<matplotlib.axes._subplots.AxesSubplot at 0x1a58195668>"
      ]
     },
     "execution_count": 16,
     "metadata": {},
     "output_type": "execute_result"
    },
    {
     "data": {
      "image/png": "[encoded data removed]",
      "text/plain": [
       "<matplotlib.figure.Figure at 0x1a4c470b70>"
      ]
     },
     "metadata": {},
     "output_type": "display_data"
    }
   ],
   "source": [
    "plt.figure(figsize=(12,6))\n",
    "sns.heatmap(df_comp,cmap='plasma',)"
   ]
  },
  {
   "cell_type": "markdown",
   "metadata": {},
   "source": [
    "### MiniBatchSparsePCA"
   ]
  },
  {
   "cell_type": "code",
   "execution_count": 18,
   "metadata": {
    "collapsed": true
   },
   "outputs": [],
   "source": [
    "import numpy as np\n",
    "from sklearn.decomposition import MiniBatchSparsePCA\n",
    "# from sklearn.datasets import fetch_20newsgroups"
   ]
  },
  {
   "cell_type": "code",
   "execution_count": 19,
   "metadata": {
    "collapsed": true
   },
   "outputs": [],
   "source": [
    "# dataset_train = fetch_20newsgroups(subset='train')\n",
    "# dataset_test = fetch_20newsgroups(subset='test')"
   ]
  },
  {
   "cell_type": "code",
   "execution_count": 20,
   "metadata": {
    "collapsed": true
   },
   "outputs": [],
   "source": [
    "# y_train = dataset_train['target']\n",
    "# y_test = dataset_test['target']"
   ]
  },
  {
   "cell_type": "code",
   "execution_count": 55,
   "metadata": {},
   "outputs": [
    {
     "name": "stdout",
     "output_type": "stream",
     "text": [
      "dictionary has  6673 entries\n"
     ]
    }
   ],
   "source": [
    "# https://github.com/lambdaofgod/stackexchange/blob/master/stackoverflow/SPCA%20Word%20Clusters.ipynb\n",
    "from sklearn.feature_extraction.text import TfidfVectorizer\n",
    "from sklearn.cross_validation import train_test_split \n",
    "\n",
    "df_pca = df[df['rating']>0]\n",
    "X = df_pca['comment_text']\n",
    "# y = df['toxic']\n",
    "# X_train, X_test, y_train, y_test = train_test_split(X, y, test_size=0.3,random_state=42, stratify=y)\n",
    "\n",
    "vectorizer = TfidfVectorizer(min_df=5, token_pattern='[a-zA-Z]+', stop_words='english')\n",
    "\n",
    "X_train = vectorizer.fit_transform(X)\n",
    "# X_test = vectorizer.transform(X_test)\n",
    "\n",
    "print('dictionary has ', len(vectorizer.vocabulary_), 'entries')\n",
    "\n",
    "X_train_dense = X_train.toarray()"
   ]
  },
  {
   "cell_type": "code",
   "execution_count": 56,
   "metadata": {},
   "outputs": [
    {
     "name": "stdout",
     "output_type": "stream",
     "text": [
      "CPU times: user 17.7 s, sys: 2.41 s, total: 20.1 s\n",
      "Wall time: 36.5 s\n"
     ]
    }
   ],
   "source": [
    "n_components = 6\n",
    "\n",
    "spca = MiniBatchSparsePCA(n_components=n_components, alpha=0.04,\n",
    "                          batch_size=3, n_iter=100, random_state=0)\n",
    "\n",
    "%time X_train_reduced = spca.fit_transform(X_train_dense)"
   ]
  },
  {
   "cell_type": "code",
   "execution_count": 57,
   "metadata": {},
   "outputs": [
    {
     "name": "stdout",
     "output_type": "stream",
     "text": [
      "component 0 has 11 nonzero entries\n",
      "component 1 has 35 nonzero entries\n",
      "component 2 has 56 nonzero entries\n",
      "component 3 has 146 nonzero entries\n",
      "component 4 has 4 nonzero entries\n",
      "component 5 has 248 nonzero entries\n"
     ]
    }
   ],
   "source": [
    "for i in range(n_components):\n",
    "    print('component', i, 'has', sum(spca.components_[i, :] != 0), 'nonzero entries')"
   ]
  },
  {
   "cell_type": "code",
   "execution_count": 58,
   "metadata": {
    "collapsed": true
   },
   "outputs": [],
   "source": [
    "component_idxs = [np.where(spca.components_[i, :])[0] for i in range(n_components)]"
   ]
  },
  {
   "cell_type": "code",
   "execution_count": 59,
   "metadata": {
    "collapsed": true
   },
   "outputs": [],
   "source": [
    "idx_to_words = dict((n, word) for (word, n) in vectorizer.vocabulary_.items())"
   ]
  },
  {
   "cell_type": "code",
   "execution_count": 60,
   "metadata": {},
   "outputs": [
    {
     "name": "stdout",
     "output_type": "stream",
     "text": [
      "Tokens for 0 component:\n",
      "['bag', 'boy', 'contribution', 'donkey', 'filthy', 'kuru', 'mom', 'n', 'ps', 'queer', 'ryan']\n",
      "\n",
      "Tokens for 1 component:\n",
      "['add', 'ask', 'assholes', 'bout', 'boy', 'buddy', 'clue', 'contribution', 'cunt', 'dog', 'donkey', 'dude', 'fuck', 'gay', 'hard', 'heard', 'ill', 'jew', 'job', 'kill', 'kuru', 'live', 'loser', 'mom', 'n', 'nerd', 'penis', 'remember', 'ryan', 'shithead', 'thanks', 'ufc', 'useless', 'wanker', 'whats']\n",
      "\n",
      "Tokens for 2 component:\n",
      "['aids', 'anal', 'animal', 'ass', 'ballz', 'benefits', 'big', 'check', 'cock', 'cocksucker', 'cocksucking', 'cretin', 'dan', 'despicable', 'dickhead', 'dong', 'douche', 'douchebag', 'film', 'filthy', 'freaking', 'friends', 'frodesiak', 'fucken', 'fucking', 'hey', 'hurry', 'ill', 'jews', 'loves', 'makes', 'nazis', 'ned', 'notable', 'pan', 'past', 'penis', 'pig', 'pigs', 'prick', 'raped', 'retard', 'sack', 'saying', 'shithole', 'stay', 'strongly', 'suck', 'sucker', 'sucking', 'sucks', 'suffering', 'swine', 'undoing', 'wat', 'watching']\n",
      "\n",
      "Tokens for 3 component:\n",
      "['added', 'ahead', 'arse', 'ass', 'asshole', 'bag', 'ban', 'banning', 'bastard', 'beautiful', 'bet', 'better', 'big', 'bitch', 'black', 'block', 'blocked', 'blows', 'chicken', 'cock', 'correct', 'cum', 'd', 'dad', 'damn', 'death', 'dick', 'did', 'die', 'dirty', 'dont', 'dynamic', 'eat', 'face', 'fag', 'faggot', 'failed', 'fat', 'foot', 'fucked', 'fucker', 'fuckface', 'fuckin', 'fucking', 'german', 'giant', 'god', 'gonna', 'good', 'goodbye', 'guess', 'guy', 'gwernol', 'ha', 'having', 'head', 'hello', 'hey', 'hi', 'homo', 'homosexual', 'hope', 'huge', 'im', 'ip', 'jewish', 'jimbo', 'juicy', 'lick', 'life', 'like', 'likes', 'little', 'll', 'lol', 'lot', 'love', 'lover', 'lovers', 'loves', 'loving', 'm', 'man', 'mother', 'motherfucker', 'motherfucking', 'mothers', 'mouth', 'nice', 'nigger', 'night', 'number', 'nuts', 'oh', 'pathetic', 'people', 'pole', 'power', 'preceding', 'probably', 'protecting', 'punk', 'pussy', 'q', 'r', 'rape', 'realy', 's', 'seriously', 'shit', 'shitty', 'shut', 'site', 'slut', 'smoker', 'sock', 'son', 'steve', 'stop', 'stupid', 'suck', 'sucked', 'sucker', 'suckers', 'sucking', 'sucks', 'sweet', 'tell', 'thats', 'time', 'true', 'u', 'unsigned', 'ur', 'use', 'user', 'utc', 'vagina', 'vandalism', 'wanna', 'want', 'whore', 'wikipedia', 'wikipedians', 'yeah', 'york']\n",
      "\n",
      "Tokens for 4 component:\n",
      "['cock', 'dead', 'fcuk', 'fuckwit']\n",
      "\n",
      "Tokens for 5 component:\n",
      "['account', 'actually', 'added', 'admins', 'article', 'articles', 'asshole', 'assholes', 'attack', 'award', 'away', 'awesome', 'bad', 'balls', 'ban', 'banned', 'basically', 'beat', 'believe', 'bit', 'block', 'blocked', 'buddy', 'bullshit', 'business', 'busy', 'butt', 'c', 'called', 'care', 'cause', 'changes', 'chat', 'check', 'civil', 'come', 'coming', 'comment', 'comments', 'completely', 'consider', 'content', 'contribution', 'correct', 'couple', 'crap', 'crazy', 'create', 'cunt', 'd', 'damn', 'day', 'deal', 'delete', 'deleted', 'deleting', 'did', 'didn', 'dipshit', 'does', 'doesn', 'doing', 'don', 'dont', 'dude', 'dumb', 'dumbass', 'edit', 'edited', 'editing', 'edits', 'eh', 'encyclopedia', 'english', 'episodes', 'f', 'fact', 'faggot', 'false', 'family', 'feel', 'fool', 'friends', 'fuck', 'fun', 'funny', 'gay', 'getting', 'girl', 'going', 'gonna', 'good', 'got', 'guess', 'guy', 'guys', 'haha', 'hard', 'hate', 'head', 'heard', 'hell', 'history', 'hope', 'hours', 'idiot', 'im', 'image', 'info', 'information', 'instead', 'isn', 'jerk', 'job', 'just', 'k', 'kid', 'kill', 'know', 'language', 'leave', 'left', 'let', 'life', 'like', 'links', 'lips', 'll', 'long', 'look', 'loser', 'lot', 'm', 'mad', 'make', 'making', 'man', 'maybe', 'mean', 'means', 'message', 'messing', 'mind', 'moron', 'ms', 'nazi', 'need', 'new', 'nigger', 'offended', 'ok', 'old', 'page', 'pages', 'past', 'people', 'person', 'personal', 'piece', 'piss', 'post', 'posts', 'problem', 'prove', 'question', 'quit', 'racist', 'read', 'real', 'really', 'reason', 'relevant', 'remove', 'removed', 'retarded', 'revert', 'reverts', 'right', 's', 'said', 'say', 'saying', 'says', 'school', 'second', 'self', 'set', 'sex', 'sit', 'site', 'sorry', 'stay', 'stop', 'stuff', 'stupid', 'support', 'sure', 't', 'talk', 'talking', 'tell', 'telling', 'thanks', 'thing', 'things', 'think', 'thought', 'time', 'times', 'told', 'tried', 'troll', 'try', 'trying', 'turd', 'twat', 'ugly', 'understand', 'use', 'user', 'users', 'vandalism', 'vandalize', 've', 'want', 'war', 'warning', 'warnings', 'wasn', 'watching', 'way', 'week', 'went', 'whats', 'white', 'wiki', 'wikipedia', 'won', 'work', 'world', 'worst', 'wp', 'write', 'wrong', 'wtf', 'ya', 'year', 'years']\n",
      "\n"
     ]
    }
   ],
   "source": [
    "for i in range(n_components):\n",
    "    print('Tokens for', i, 'component:')\n",
    "    print([idx_to_words[i] for i in component_idxs[i]])\n",
    "    print()"
   ]
  },
  {
   "cell_type": "code",
   "execution_count": null,
   "metadata": {
    "collapsed": true
   },
   "outputs": [],
   "source": []
  },
  {
   "cell_type": "code",
   "execution_count": null,
   "metadata": {
    "collapsed": true
   },
   "outputs": [],
   "source": []
  },
  {
   "cell_type": "code",
   "execution_count": null,
   "metadata": {
    "collapsed": true
   },
   "outputs": [],
   "source": []
  },
  {
   "cell_type": "code",
   "execution_count": null,
   "metadata": {
    "collapsed": true
   },
   "outputs": [],
   "source": []
  },
  {
   "cell_type": "code",
   "execution_count": null,
   "metadata": {
    "collapsed": true
   },
   "outputs": [],
   "source": []
  },
  {
   "cell_type": "code",
   "execution_count": null,
   "metadata": {
    "collapsed": true
   },
   "outputs": [],
   "source": []
  },
  {
   "cell_type": "code",
   "execution_count": null,
   "metadata": {
    "collapsed": true
   },
   "outputs": [],
   "source": []
  },
  {
   "cell_type": "code",
   "execution_count": null,
   "metadata": {
    "collapsed": true
   },
   "outputs": [],
   "source": []
  },
  {
   "cell_type": "code",
   "execution_count": null,
   "metadata": {
    "collapsed": true
   },
   "outputs": [],
   "source": []
  },
  {
   "cell_type": "code",
   "execution_count": null,
   "metadata": {
    "collapsed": true
   },
   "outputs": [],
   "source": []
  }
 ],
 "metadata": {
  "kernelspec": {
   "display_name": "Python 3",
   "language": "python",
   "name": "python3"
  },
  "language_info": {
   "codemirror_mode": {
    "name": "ipython",
    "version": 3
   },
   "file_extension": ".py",
   "mimetype": "text/x-python",
   "name": "python",
   "nbconvert_exporter": "python",
   "pygments_lexer": "ipython3",
   "version": "3.6.4"
  }
 },
 "nbformat": 4,
 "nbformat_minor": 2
}
