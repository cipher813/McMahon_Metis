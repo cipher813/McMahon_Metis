{
 "cells": [
  {
   "cell_type": "code",
   "execution_count": 2,
   "metadata": {
    "collapsed": true
   },
   "outputs": [],
   "source": [
    "import pandas as pd\n",
    "import numpy as np\n",
    "import matplotlib.pyplot as plt\n",
    "import seaborn as sns\n",
    "%matplotlib inline\n",
    "\n",
    "from sklearn.utils import shuffle"
   ]
  },
  {
   "cell_type": "code",
   "execution_count": 3,
   "metadata": {},
   "outputs": [
    {
     "name": "stdout",
     "output_type": "stream",
     "text": [
      "(159571, 24)\n"
     ]
    }
   ],
   "source": [
    "df = pd.read_pickle('../data/toxictrain.pkl')\n",
    "print(df.shape)\n",
    "# df.head()"
   ]
  },
  {
   "cell_type": "code",
   "execution_count": 4,
   "metadata": {},
   "outputs": [
    {
     "data": {
      "text/plain": [
       "Index(['id', 'comment_text', 'toxic', 'severe_toxic', 'obscene', 'threat',\n",
       "       'insult', 'identity_hate', 'category', 'rating', 'clean',\n",
       "       'comment_text_s', 'comment_text_f', 'token_clean', 'sent_token',\n",
       "       'polarity_sentence', 'polarity_comment', 'polarity_comment_s',\n",
       "       'word_count', 'char_count', 'char_count_s', 'polarity_min',\n",
       "       'polarity_max', 'polarity_mean'],\n",
       "      dtype='object')"
      ]
     },
     "execution_count": 4,
     "metadata": {},
     "output_type": "execute_result"
    }
   ],
   "source": [
    "df.columns"
   ]
  },
  {
   "cell_type": "code",
   "execution_count": 5,
   "metadata": {},
   "outputs": [
    {
     "name": "stderr",
     "output_type": "stream",
     "text": [
      "/Users/brianmcmahon/anaconda3/envs/tensorflow1.4/lib/python3.6/site-packages/ipykernel_launcher.py:3: SettingWithCopyWarning: \n",
      "A value is trying to be set on a copy of a slice from a DataFrame.\n",
      "Try using .loc[row_indexer,col_indexer] = value instead\n",
      "\n",
      "See the caveats in the documentation: http://pandas.pydata.org/pandas-docs/stable/indexing.html#indexing-view-versus-copy\n",
      "  This is separate from the ipykernel package so we can avoid doing imports until\n"
     ]
    }
   ],
   "source": [
    "df_t = df[df['rating']>0]\n",
    "\n",
    "df_t['total'] = df_t['toxic']+df_t['severe_toxic'] + df_t['obscene'] + df_t['threat']+df_t['insult']+df_t['identity_hate']"
   ]
  },
  {
   "cell_type": "code",
   "execution_count": 6,
   "metadata": {
    "collapsed": true
   },
   "outputs": [],
   "source": [
    "# df_t.columns"
   ]
  },
  {
   "cell_type": "code",
   "execution_count": 7,
   "metadata": {
    "collapsed": true
   },
   "outputs": [],
   "source": [
    "df_A = df_t[['rating','toxic', 'severe_toxic', 'obscene', 'threat','insult', 'identity_hate','total']]\n",
    "df_A = df_A[df_A['rating']>0]\n",
    "df_A = df_A.groupby('rating').sum()\n",
    "\n",
    "df_A['%To'] = df_A['toxic'] / df_A['total']\n",
    "df_A['%ST'] = df_A['severe_toxic'] / df_A['total']\n",
    "df_A['%Ob'] = df_A['obscene'] / df_A['total']\n",
    "df_A['%Th'] = df_A['threat'] / df_A['total']\n",
    "df_A['%IH'] = df_A['identity_hate'] / df_A['total']\n",
    "df_A['%In'] = df_A['insult'] / df_A['total']"
   ]
  },
  {
   "cell_type": "code",
   "execution_count": null,
   "metadata": {
    "collapsed": true
   },
   "outputs": [],
   "source": []
  },
  {
   "cell_type": "code",
   "execution_count": 8,
   "metadata": {
    "collapsed": true
   },
   "outputs": [],
   "source": [
    "# df_A"
   ]
  },
  {
   "cell_type": "code",
   "execution_count": 9,
   "metadata": {},
   "outputs": [
    {
     "data": {
      "text/plain": [
       "35098"
      ]
     },
     "execution_count": 9,
     "metadata": {},
     "output_type": "execute_result"
    }
   ],
   "source": [
    "df_A.total.sum()"
   ]
  },
  {
   "cell_type": "code",
   "execution_count": 10,
   "metadata": {
    "collapsed": true
   },
   "outputs": [],
   "source": [
    "# df_A['%To'] = df_A['toxic'] / df_A['total']\n",
    "# df_A['%ST'] = df_A['severe_toxic'] / df_A['total']\n",
    "# df_A['%Ob'] = df_A['obscene'] / df_A['total']\n",
    "# df_A['%Th'] = df_A['threat'] / df_A['total']\n",
    "# df_A['%IH'] = df_A['identity_hate'] / df_A['total']\n",
    "# df_A['%In'] = df_A['insult'] / df_A['total']\n",
    "df_A['rating'] = df_A.index\n",
    "# df_A['rating2'] = df_A.index\n",
    "# df_A = df_A.set_index('rating2')\n",
    "# df_A"
   ]
  },
  {
   "cell_type": "code",
   "execution_count": 11,
   "metadata": {
    "collapsed": true
   },
   "outputs": [],
   "source": [
    "# df_A = df_A.append(df.sum(numeric_only=True), ignore_index=True)\n"
   ]
  },
  {
   "cell_type": "code",
   "execution_count": 12,
   "metadata": {
    "collapsed": true
   },
   "outputs": [],
   "source": [
    "# df_A"
   ]
  },
  {
   "cell_type": "code",
   "execution_count": 13,
   "metadata": {
    "collapsed": true
   },
   "outputs": [],
   "source": [
    "# df_A['IH%rating'] = df_A['identity_hate'].apply(lambda x: )\n",
    "# df_A['identity_hate'].hist(by=df_A['rating'])"
   ]
  },
  {
   "cell_type": "code",
   "execution_count": 14,
   "metadata": {
    "collapsed": true
   },
   "outputs": [],
   "source": [
    "# df_A.columns"
   ]
  },
  {
   "cell_type": "code",
   "execution_count": 40,
   "metadata": {},
   "outputs": [
    {
     "data": {
      "image/png": "[encoded data removed]",
      "text/plain": [
       "<matplotlib.figure.Figure at 0x1a37e375c0>"
      ]
     },
     "metadata": {},
     "output_type": "display_data"
    }
   ],
   "source": [
    "fig = plt.figure(figsize=(15,10))\n",
    "ax = fig.add_subplot(2,2,1)\n",
    "df_A1 = df[['toxic', 'severe_toxic', 'obscene', 'threat', 'insult', 'identity_hate']]\n",
    "df_A1.sum(axis=0,numeric_only=True).sort_values(ascending=False).plot(kind='bar')\n",
    "plt.title('Quantity by Class',fontweight='bold')\n",
    "\n",
    "ax = fig.add_subplot(2,2,2)\n",
    "df_A.total.plot(kind='bar')\n",
    "plt.title('Quantity by Rating',fontweight='bold')\n",
    "\n",
    "# ax = fig.add_subplot(2,2,3)\n",
    "# df_B = df_A[['%To', '%ST', '%Ob', '%Th', '%IH', '%In']]\n",
    "# df_B.plot(kind='bar', stacked=True)\n",
    "# plt.title('Mix by Rating, % Total',fontweight='bold')\n",
    "\n",
    "# ax = fig.add_subplot(2,2,4)\n",
    "# df_B = df_A[['%To', '%ST', '%Ob', '%Th', '%IH', '%In']]\n",
    "# df_B.plot(kind='bar', stacked=True)\n",
    "# plt.title('Mix by Rating, % Total',fontweight='bold')\n",
    "\n",
    "plt.tight_layout()\n",
    "plt.savefig(\"../charts/eda1.png\")"
   ]
  },
  {
   "cell_type": "code",
   "execution_count": 15,
   "metadata": {
    "collapsed": true
   },
   "outputs": [],
   "source": [
    "# df_A1 = df[['toxic', 'severe_toxic', 'obscene', 'threat', 'insult', 'identity_hate']]\n",
    "# df_A1.sum(axis=0,numeric_only=True).sort_values(ascending=False).plot(kind='bar')\n",
    "# plt.title('Quantity by Class',fontweight='bold')"
   ]
  },
  {
   "cell_type": "code",
   "execution_count": 16,
   "metadata": {
    "collapsed": true
   },
   "outputs": [],
   "source": [
    "# df_A.total.plot(kind='bar')\n",
    "# plt.title('Quantity by Rating',fontweight='bold')"
   ]
  },
  {
   "cell_type": "code",
   "execution_count": 26,
   "metadata": {},
   "outputs": [
    {
     "data": {
      "text/html": [
       "<div>\n",
       "<style scoped>\n",
       "    .dataframe tbody tr th:only-of-type {\n",
       "        vertical-align: middle;\n",
       "    }\n",
       "\n",
       "    .dataframe tbody tr th {\n",
       "        vertical-align: top;\n",
       "    }\n",
       "\n",
       "    .dataframe thead th {\n",
       "        text-align: right;\n",
       "    }\n",
       "</style>\n",
       "<table border=\"1\" class=\"dataframe\">\n",
       "  <thead>\n",
       "    <tr style=\"text-align: right;\">\n",
       "      <th>rating</th>\n",
       "      <th>1</th>\n",
       "      <th>2</th>\n",
       "      <th>3</th>\n",
       "      <th>4</th>\n",
       "      <th>5</th>\n",
       "      <th>6</th>\n",
       "      <th>total</th>\n",
       "    </tr>\n",
       "  </thead>\n",
       "  <tbody>\n",
       "    <tr>\n",
       "      <th>toxic</th>\n",
       "      <td>5666</td>\n",
       "      <td>3263</td>\n",
       "      <td>4189</td>\n",
       "      <td>1760</td>\n",
       "      <td>385</td>\n",
       "      <td>31</td>\n",
       "      <td>15294</td>\n",
       "    </tr>\n",
       "    <tr>\n",
       "      <th>severe_toxic</th>\n",
       "      <td>0</td>\n",
       "      <td>41</td>\n",
       "      <td>186</td>\n",
       "      <td>1008</td>\n",
       "      <td>329</td>\n",
       "      <td>31</td>\n",
       "      <td>1595</td>\n",
       "    </tr>\n",
       "    <tr>\n",
       "      <th>obscene</th>\n",
       "      <td>317</td>\n",
       "      <td>1944</td>\n",
       "      <td>4024</td>\n",
       "      <td>1748</td>\n",
       "      <td>385</td>\n",
       "      <td>31</td>\n",
       "      <td>8449</td>\n",
       "    </tr>\n",
       "    <tr>\n",
       "      <th>insult</th>\n",
       "      <td>301</td>\n",
       "      <td>1427</td>\n",
       "      <td>3984</td>\n",
       "      <td>1749</td>\n",
       "      <td>385</td>\n",
       "      <td>31</td>\n",
       "      <td>7877</td>\n",
       "    </tr>\n",
       "    <tr>\n",
       "      <th>threat</th>\n",
       "      <td>22</td>\n",
       "      <td>118</td>\n",
       "      <td>47</td>\n",
       "      <td>140</td>\n",
       "      <td>120</td>\n",
       "      <td>31</td>\n",
       "      <td>478</td>\n",
       "    </tr>\n",
       "    <tr>\n",
       "      <th>identity_hate</th>\n",
       "      <td>54</td>\n",
       "      <td>167</td>\n",
       "      <td>197</td>\n",
       "      <td>635</td>\n",
       "      <td>321</td>\n",
       "      <td>31</td>\n",
       "      <td>1405</td>\n",
       "    </tr>\n",
       "  </tbody>\n",
       "</table>\n",
       "</div>"
      ],
      "text/plain": [
       "rating            1     2     3     4    5   6  total\n",
       "toxic          5666  3263  4189  1760  385  31  15294\n",
       "severe_toxic      0    41   186  1008  329  31   1595\n",
       "obscene         317  1944  4024  1748  385  31   8449\n",
       "insult          301  1427  3984  1749  385  31   7877\n",
       "threat           22   118    47   140  120  31    478\n",
       "identity_hate    54   167   197   635  321  31   1405"
      ]
     },
     "execution_count": 26,
     "metadata": {},
     "output_type": "execute_result"
    }
   ],
   "source": [
    "df_A1 = df_A[['toxic','severe_toxic','obscene','insult','threat','identity_hate']].T\n",
    "df_A1['total'] = df_A1[1]+df_A1[2]+df_A1[3]+df_A1[4]+df_A1[5]+df_A1[6]\n",
    "df_A1"
   ]
  },
  {
   "cell_type": "code",
   "execution_count": 28,
   "metadata": {},
   "outputs": [
    {
     "data": {
      "text/html": [
       "<div>\n",
       "<style scoped>\n",
       "    .dataframe tbody tr th:only-of-type {\n",
       "        vertical-align: middle;\n",
       "    }\n",
       "\n",
       "    .dataframe tbody tr th {\n",
       "        vertical-align: top;\n",
       "    }\n",
       "\n",
       "    .dataframe thead th {\n",
       "        text-align: right;\n",
       "    }\n",
       "</style>\n",
       "<table border=\"1\" class=\"dataframe\">\n",
       "  <thead>\n",
       "    <tr style=\"text-align: right;\">\n",
       "      <th>rating</th>\n",
       "      <th>1</th>\n",
       "      <th>2</th>\n",
       "      <th>3</th>\n",
       "      <th>4</th>\n",
       "      <th>5</th>\n",
       "      <th>6</th>\n",
       "      <th>total</th>\n",
       "      <th>%1</th>\n",
       "      <th>%2</th>\n",
       "      <th>%3</th>\n",
       "      <th>%4</th>\n",
       "      <th>%5</th>\n",
       "      <th>%6</th>\n",
       "    </tr>\n",
       "  </thead>\n",
       "  <tbody>\n",
       "    <tr>\n",
       "      <th>toxic</th>\n",
       "      <td>5666</td>\n",
       "      <td>3263</td>\n",
       "      <td>4189</td>\n",
       "      <td>1760</td>\n",
       "      <td>385</td>\n",
       "      <td>31</td>\n",
       "      <td>15294</td>\n",
       "      <td>0.370472</td>\n",
       "      <td>0.213352</td>\n",
       "      <td>0.273898</td>\n",
       "      <td>0.115078</td>\n",
       "      <td>0.025173</td>\n",
       "      <td>0.002027</td>\n",
       "    </tr>\n",
       "    <tr>\n",
       "      <th>severe_toxic</th>\n",
       "      <td>0</td>\n",
       "      <td>41</td>\n",
       "      <td>186</td>\n",
       "      <td>1008</td>\n",
       "      <td>329</td>\n",
       "      <td>31</td>\n",
       "      <td>1595</td>\n",
       "      <td>0.000000</td>\n",
       "      <td>0.025705</td>\n",
       "      <td>0.116614</td>\n",
       "      <td>0.631975</td>\n",
       "      <td>0.206270</td>\n",
       "      <td>0.019436</td>\n",
       "    </tr>\n",
       "    <tr>\n",
       "      <th>obscene</th>\n",
       "      <td>317</td>\n",
       "      <td>1944</td>\n",
       "      <td>4024</td>\n",
       "      <td>1748</td>\n",
       "      <td>385</td>\n",
       "      <td>31</td>\n",
       "      <td>8449</td>\n",
       "      <td>0.037519</td>\n",
       "      <td>0.230086</td>\n",
       "      <td>0.476269</td>\n",
       "      <td>0.206888</td>\n",
       "      <td>0.045568</td>\n",
       "      <td>0.003669</td>\n",
       "    </tr>\n",
       "    <tr>\n",
       "      <th>insult</th>\n",
       "      <td>301</td>\n",
       "      <td>1427</td>\n",
       "      <td>3984</td>\n",
       "      <td>1749</td>\n",
       "      <td>385</td>\n",
       "      <td>31</td>\n",
       "      <td>7877</td>\n",
       "      <td>0.038213</td>\n",
       "      <td>0.181160</td>\n",
       "      <td>0.505776</td>\n",
       "      <td>0.222039</td>\n",
       "      <td>0.048876</td>\n",
       "      <td>0.003936</td>\n",
       "    </tr>\n",
       "    <tr>\n",
       "      <th>threat</th>\n",
       "      <td>22</td>\n",
       "      <td>118</td>\n",
       "      <td>47</td>\n",
       "      <td>140</td>\n",
       "      <td>120</td>\n",
       "      <td>31</td>\n",
       "      <td>478</td>\n",
       "      <td>0.046025</td>\n",
       "      <td>0.246862</td>\n",
       "      <td>0.098326</td>\n",
       "      <td>0.292887</td>\n",
       "      <td>0.251046</td>\n",
       "      <td>0.064854</td>\n",
       "    </tr>\n",
       "    <tr>\n",
       "      <th>identity_hate</th>\n",
       "      <td>54</td>\n",
       "      <td>167</td>\n",
       "      <td>197</td>\n",
       "      <td>635</td>\n",
       "      <td>321</td>\n",
       "      <td>31</td>\n",
       "      <td>1405</td>\n",
       "      <td>0.038434</td>\n",
       "      <td>0.118861</td>\n",
       "      <td>0.140214</td>\n",
       "      <td>0.451957</td>\n",
       "      <td>0.228470</td>\n",
       "      <td>0.022064</td>\n",
       "    </tr>\n",
       "  </tbody>\n",
       "</table>\n",
       "</div>"
      ],
      "text/plain": [
       "rating            1     2     3     4    5   6  total        %1        %2  \\\n",
       "toxic          5666  3263  4189  1760  385  31  15294  0.370472  0.213352   \n",
       "severe_toxic      0    41   186  1008  329  31   1595  0.000000  0.025705   \n",
       "obscene         317  1944  4024  1748  385  31   8449  0.037519  0.230086   \n",
       "insult          301  1427  3984  1749  385  31   7877  0.038213  0.181160   \n",
       "threat           22   118    47   140  120  31    478  0.046025  0.246862   \n",
       "identity_hate    54   167   197   635  321  31   1405  0.038434  0.118861   \n",
       "\n",
       "rating               %3        %4        %5        %6  \n",
       "toxic          0.273898  0.115078  0.025173  0.002027  \n",
       "severe_toxic   0.116614  0.631975  0.206270  0.019436  \n",
       "obscene        0.476269  0.206888  0.045568  0.003669  \n",
       "insult         0.505776  0.222039  0.048876  0.003936  \n",
       "threat         0.098326  0.292887  0.251046  0.064854  \n",
       "identity_hate  0.140214  0.451957  0.228470  0.022064  "
      ]
     },
     "execution_count": 28,
     "metadata": {},
     "output_type": "execute_result"
    }
   ],
   "source": [
    "df_A1['%1'] = df_A1[1] / df_A1['total']\n",
    "df_A1['%2'] = df_A1[2] / df_A1['total']\n",
    "df_A1['%3'] = df_A1[3] / df_A1['total']\n",
    "df_A1['%4'] = df_A1[4] / df_A1['total']\n",
    "df_A1['%5'] = df_A1[5] / df_A1['total']\n",
    "df_A1['%6'] = df_A1[6] / df_A1['total']\n",
    "df_A1"
   ]
  },
  {
   "cell_type": "code",
   "execution_count": 31,
   "metadata": {},
   "outputs": [
    {
     "data": {
      "text/plain": [
       "Text(0.5,1,'Rating Mix by Class, % Total')"
      ]
     },
     "execution_count": 31,
     "metadata": {},
     "output_type": "execute_result"
    },
    {
     "data": {
      "image/png": "[encoded data removed]",
      "text/plain": [
       "<matplotlib.figure.Figure at 0x1a378955f8>"
      ]
     },
     "metadata": {},
     "output_type": "display_data"
    }
   ],
   "source": [
    "df_A2 = df_A1[['%1', '%2', '%3', '%4', '%5', '%6']]\n",
    "df_A2.plot(kind='bar', stacked=True)\n",
    "plt.title('Rating Mix by Class, % Total',fontweight='bold')"
   ]
  },
  {
   "cell_type": "code",
   "execution_count": 35,
   "metadata": {},
   "outputs": [
    {
     "data": {
      "text/plain": [
       "Text(0.5,1,'Mix by Rating, Quantity')"
      ]
     },
     "execution_count": 35,
     "metadata": {},
     "output_type": "execute_result"
    },
    {
     "data": {
      "image/png": "[encoded data removed]",
      "text/plain": [
       "<matplotlib.figure.Figure at 0x1a37c625c0>"
      ]
     },
     "metadata": {},
     "output_type": "display_data"
    }
   ],
   "source": [
    "df_A3 = df_A1[[1,2,3,4,5,6]]\n",
    "df_A3.plot(kind='bar', stacked=True)\n",
    "plt.title('Mix by Rating, Quantity',fontweight='bold')"
   ]
  },
  {
   "cell_type": "code",
   "execution_count": 17,
   "metadata": {},
   "outputs": [
    {
     "data": {
      "text/plain": [
       "Text(0.5,1,'Mix by Rating, % Total')"
      ]
     },
     "execution_count": 17,
     "metadata": {},
     "output_type": "execute_result"
    },
    {
     "data": {
      "image/png": "[encoded data removed]",
      "text/plain": [
       "<matplotlib.figure.Figure at 0x10cc136a0>"
      ]
     },
     "metadata": {},
     "output_type": "display_data"
    }
   ],
   "source": [
    "df_B = df_A[['%To', '%ST', '%Ob', '%Th', '%IH', '%In']]\n",
    "df_B.plot(kind='bar', stacked=True)\n",
    "plt.title('Mix by Rating, % Total',fontweight='bold')\n",
    "# ax.set_ylabel(\"% Total\",fontweight='bold')"
   ]
  },
  {
   "cell_type": "code",
   "execution_count": 18,
   "metadata": {},
   "outputs": [
    {
     "data": {
      "text/plain": [
       "Text(0.5,1,'Mix by Rating, Quantity')"
      ]
     },
     "execution_count": 18,
     "metadata": {},
     "output_type": "execute_result"
    },
    {
     "data": {
      "image/png": "[encoded data removed]",
      "text/plain": [
       "<matplotlib.figure.Figure at 0x1a1122ad68>"
      ]
     },
     "metadata": {},
     "output_type": "display_data"
    }
   ],
   "source": [
    "df_C = df_A[['toxic', 'severe_toxic', 'obscene', 'threat', 'insult', 'identity_hate']]\n",
    "\n",
    "df_C.plot(kind='bar', stacked=True)\n",
    "plt.title('Mix by Rating, Quantity',fontweight='bold')\n",
    "# plt.set_ylabel(\"Quantity\",fontweight='bold')"
   ]
  },
  {
   "cell_type": "code",
   "execution_count": 19,
   "metadata": {
    "collapsed": true
   },
   "outputs": [],
   "source": [
    "# df_C.plot(kind='bar', stacked=False)"
   ]
  },
  {
   "cell_type": "code",
   "execution_count": 20,
   "metadata": {},
   "outputs": [
    {
     "data": {
      "text/plain": [
       "Text(0.5,1,'Obscene by Rating')"
      ]
     },
     "execution_count": 20,
     "metadata": {},
     "output_type": "execute_result"
    },
    {
     "data": {
      "image/png": "[encoded data removed]",
      "text/plain": [
       "<matplotlib.figure.Figure at 0x1a11213128>"
      ]
     },
     "metadata": {},
     "output_type": "display_data"
    }
   ],
   "source": [
    "fig,ax = plt.subplots(figsize=(15,10),nrows=3,ncols=2)\n",
    "ax = plt.subplot(221)\n",
    "df_A.identity_hate.groupby(df_A.rating).sum().plot(kind='pie')\n",
    "plt.axis('equal')\n",
    "plt.title('Identity Hate by Rating',fontweight='bold')\n",
    "\n",
    "ax = plt.subplot(222)\n",
    "df_A.severe_toxic.groupby(df_A.rating).sum().plot(kind='pie')\n",
    "plt.axis('equal')\n",
    "plt.title('Severe Toxic by Rating',fontweight='bold')\n",
    "\n",
    "ax = plt.subplot(223)\n",
    "df_A.threat.groupby(df_A.rating).sum().plot(kind='pie')\n",
    "plt.axis('equal')\n",
    "plt.title('Threat by Rating',fontweight='bold')\n",
    "\n",
    "ax = plt.subplot(224)\n",
    "df_A.obscene.groupby(df_A.rating).sum().plot(kind='pie')\n",
    "plt.axis('equal')\n",
    "plt.title('Obscene by Rating',fontweight='bold')\n",
    "\n",
    "# ax = plt.subplot(225)\n",
    "# df_A.identity_hate.groupby(df_A.rating).sum().plot(kind='pie')\n",
    "# plt.axis('equal')\n",
    "\n",
    "# ax = plt.subplot(226)\n",
    "# df_A.identity_hate.groupby(df_A.rating).sum().plot(kind='pie')\n",
    "# plt.axis('equal')"
   ]
  },
  {
   "cell_type": "code",
   "execution_count": 21,
   "metadata": {
    "collapsed": true
   },
   "outputs": [],
   "source": [
    "# df_A.identity_hate.groupby(df_A.rating).sum().plot(kind='pie', figsize=(10,6))\n",
    "# plt.axis('equal')\n",
    "# # plt.savefig('../charts/ratingpie.png')\n",
    "# plt.show()"
   ]
  },
  {
   "cell_type": "code",
   "execution_count": 22,
   "metadata": {},
   "outputs": [
    {
     "data": {
      "image/png": "[encoded data removed]",
      "text/plain": [
       "<matplotlib.figure.Figure at 0x1a15e212e8>"
      ]
     },
     "metadata": {},
     "output_type": "display_data"
    }
   ],
   "source": [
    "df_A.total.groupby(df_A.rating).sum().plot(kind='pie', figsize=(10,6))\n",
    "plt.axis('equal')\n",
    "plt.title('Total by Rating',fontweight='bold')\n",
    "plt.savefig('../charts/ratingpie.png')\n",
    "plt.show()"
   ]
  },
  {
   "cell_type": "code",
   "execution_count": 23,
   "metadata": {
    "collapsed": true
   },
   "outputs": [],
   "source": [
    "# sns.jointplot(x='rating',y='total', kind='reg',color='g',data=df_A,scatter_kws={'alpha':0.3})"
   ]
  },
  {
   "cell_type": "code",
   "execution_count": 24,
   "metadata": {
    "collapsed": true
   },
   "outputs": [],
   "source": [
    "df_D = df[['category','toxic', 'severe_toxic', 'obscene', 'threat','insult', 'identity_hate']]\n",
    "df_D = df_D.groupby('category').sum()\n",
    "df_D['total'] = df_D['toxic']+df_D['severe_toxic'] + df_D['obscene'] + df_D['threat']+df_D['insult']+df_D['identity_hate']\n",
    "df_D['category'] = df_D.index"
   ]
  },
  {
   "cell_type": "code",
   "execution_count": 25,
   "metadata": {},
   "outputs": [
    {
     "data": {
      "text/html": [
       "<div>\n",
       "<style scoped>\n",
       "    .dataframe tbody tr th:only-of-type {\n",
       "        vertical-align: middle;\n",
       "    }\n",
       "\n",
       "    .dataframe tbody tr th {\n",
       "        vertical-align: top;\n",
       "    }\n",
       "\n",
       "    .dataframe thead th {\n",
       "        text-align: right;\n",
       "    }\n",
       "</style>\n",
       "<table border=\"1\" class=\"dataframe\">\n",
       "  <thead>\n",
       "    <tr style=\"text-align: right;\">\n",
       "      <th></th>\n",
       "      <th>toxic</th>\n",
       "      <th>severe_toxic</th>\n",
       "      <th>obscene</th>\n",
       "      <th>threat</th>\n",
       "      <th>insult</th>\n",
       "      <th>identity_hate</th>\n",
       "      <th>total</th>\n",
       "      <th>category</th>\n",
       "    </tr>\n",
       "    <tr>\n",
       "      <th>category</th>\n",
       "      <th></th>\n",
       "      <th></th>\n",
       "      <th></th>\n",
       "      <th></th>\n",
       "      <th></th>\n",
       "      <th></th>\n",
       "      <th></th>\n",
       "      <th></th>\n",
       "    </tr>\n",
       "  </thead>\n",
       "  <tbody>\n",
       "    <tr>\n",
       "      <th>ToObIn</th>\n",
       "      <td>3800</td>\n",
       "      <td>0</td>\n",
       "      <td>3800</td>\n",
       "      <td>0</td>\n",
       "      <td>3800</td>\n",
       "      <td>0</td>\n",
       "      <td>11400</td>\n",
       "      <td>ToObIn</td>\n",
       "    </tr>\n",
       "    <tr>\n",
       "      <th>To</th>\n",
       "      <td>5666</td>\n",
       "      <td>0</td>\n",
       "      <td>0</td>\n",
       "      <td>0</td>\n",
       "      <td>0</td>\n",
       "      <td>0</td>\n",
       "      <td>5666</td>\n",
       "      <td>To</td>\n",
       "    </tr>\n",
       "    <tr>\n",
       "      <th>ToSTObIn</th>\n",
       "      <td>989</td>\n",
       "      <td>989</td>\n",
       "      <td>989</td>\n",
       "      <td>0</td>\n",
       "      <td>989</td>\n",
       "      <td>0</td>\n",
       "      <td>3956</td>\n",
       "      <td>ToSTObIn</td>\n",
       "    </tr>\n",
       "    <tr>\n",
       "      <th>ToOb</th>\n",
       "      <td>1758</td>\n",
       "      <td>0</td>\n",
       "      <td>1758</td>\n",
       "      <td>0</td>\n",
       "      <td>0</td>\n",
       "      <td>0</td>\n",
       "      <td>3516</td>\n",
       "      <td>ToOb</td>\n",
       "    </tr>\n",
       "    <tr>\n",
       "      <th>ToObInIH</th>\n",
       "      <td>618</td>\n",
       "      <td>0</td>\n",
       "      <td>618</td>\n",
       "      <td>0</td>\n",
       "      <td>618</td>\n",
       "      <td>618</td>\n",
       "      <td>2472</td>\n",
       "      <td>ToObInIH</td>\n",
       "    </tr>\n",
       "    <tr>\n",
       "      <th>ToIn</th>\n",
       "      <td>1215</td>\n",
       "      <td>0</td>\n",
       "      <td>0</td>\n",
       "      <td>0</td>\n",
       "      <td>1215</td>\n",
       "      <td>0</td>\n",
       "      <td>2430</td>\n",
       "      <td>ToIn</td>\n",
       "    </tr>\n",
       "    <tr>\n",
       "      <th>ToSTObInIH</th>\n",
       "      <td>265</td>\n",
       "      <td>265</td>\n",
       "      <td>265</td>\n",
       "      <td>0</td>\n",
       "      <td>265</td>\n",
       "      <td>265</td>\n",
       "      <td>1325</td>\n",
       "      <td>ToSTObInIH</td>\n",
       "    </tr>\n",
       "    <tr>\n",
       "      <th>ToObThIn</th>\n",
       "      <td>131</td>\n",
       "      <td>0</td>\n",
       "      <td>131</td>\n",
       "      <td>131</td>\n",
       "      <td>131</td>\n",
       "      <td>0</td>\n",
       "      <td>524</td>\n",
       "      <td>ToObThIn</td>\n",
       "    </tr>\n",
       "    <tr>\n",
       "      <th>ToSTOb</th>\n",
       "      <td>158</td>\n",
       "      <td>158</td>\n",
       "      <td>158</td>\n",
       "      <td>0</td>\n",
       "      <td>0</td>\n",
       "      <td>0</td>\n",
       "      <td>474</td>\n",
       "      <td>ToSTOb</td>\n",
       "    </tr>\n",
       "    <tr>\n",
       "      <th>ToInIH</th>\n",
       "      <td>134</td>\n",
       "      <td>0</td>\n",
       "      <td>0</td>\n",
       "      <td>0</td>\n",
       "      <td>134</td>\n",
       "      <td>134</td>\n",
       "      <td>402</td>\n",
       "      <td>ToInIH</td>\n",
       "    </tr>\n",
       "    <tr>\n",
       "      <th>ObIn</th>\n",
       "      <td>0</td>\n",
       "      <td>0</td>\n",
       "      <td>181</td>\n",
       "      <td>0</td>\n",
       "      <td>181</td>\n",
       "      <td>0</td>\n",
       "      <td>362</td>\n",
       "      <td>ObIn</td>\n",
       "    </tr>\n",
       "    <tr>\n",
       "      <th>ToSTObThIn</th>\n",
       "      <td>64</td>\n",
       "      <td>64</td>\n",
       "      <td>64</td>\n",
       "      <td>64</td>\n",
       "      <td>64</td>\n",
       "      <td>0</td>\n",
       "      <td>320</td>\n",
       "      <td>ToSTObThIn</td>\n",
       "    </tr>\n",
       "    <tr>\n",
       "      <th>Ob</th>\n",
       "      <td>0</td>\n",
       "      <td>0</td>\n",
       "      <td>317</td>\n",
       "      <td>0</td>\n",
       "      <td>0</td>\n",
       "      <td>0</td>\n",
       "      <td>317</td>\n",
       "      <td>Ob</td>\n",
       "    </tr>\n",
       "    <tr>\n",
       "      <th>In</th>\n",
       "      <td>0</td>\n",
       "      <td>0</td>\n",
       "      <td>0</td>\n",
       "      <td>0</td>\n",
       "      <td>301</td>\n",
       "      <td>0</td>\n",
       "      <td>301</td>\n",
       "      <td>In</td>\n",
       "    </tr>\n",
       "    <tr>\n",
       "      <th>ToObThInIH</th>\n",
       "      <td>56</td>\n",
       "      <td>0</td>\n",
       "      <td>56</td>\n",
       "      <td>56</td>\n",
       "      <td>56</td>\n",
       "      <td>56</td>\n",
       "      <td>280</td>\n",
       "      <td>ToObThInIH</td>\n",
       "    </tr>\n",
       "    <tr>\n",
       "      <th>ToIH</th>\n",
       "      <td>136</td>\n",
       "      <td>0</td>\n",
       "      <td>0</td>\n",
       "      <td>0</td>\n",
       "      <td>0</td>\n",
       "      <td>136</td>\n",
       "      <td>272</td>\n",
       "      <td>ToIH</td>\n",
       "    </tr>\n",
       "    <tr>\n",
       "      <th>ToTh</th>\n",
       "      <td>113</td>\n",
       "      <td>0</td>\n",
       "      <td>0</td>\n",
       "      <td>113</td>\n",
       "      <td>0</td>\n",
       "      <td>0</td>\n",
       "      <td>226</td>\n",
       "      <td>ToTh</td>\n",
       "    </tr>\n",
       "    <tr>\n",
       "      <th>ToSTObThInIH</th>\n",
       "      <td>31</td>\n",
       "      <td>31</td>\n",
       "      <td>31</td>\n",
       "      <td>31</td>\n",
       "      <td>31</td>\n",
       "      <td>31</td>\n",
       "      <td>186</td>\n",
       "      <td>ToSTObThInIH</td>\n",
       "    </tr>\n",
       "    <tr>\n",
       "      <th>ToObIH</th>\n",
       "      <td>35</td>\n",
       "      <td>0</td>\n",
       "      <td>35</td>\n",
       "      <td>0</td>\n",
       "      <td>0</td>\n",
       "      <td>35</td>\n",
       "      <td>105</td>\n",
       "      <td>ToObIH</td>\n",
       "    </tr>\n",
       "    <tr>\n",
       "      <th>ToST</th>\n",
       "      <td>41</td>\n",
       "      <td>41</td>\n",
       "      <td>0</td>\n",
       "      <td>0</td>\n",
       "      <td>0</td>\n",
       "      <td>0</td>\n",
       "      <td>82</td>\n",
       "      <td>ToST</td>\n",
       "    </tr>\n",
       "    <tr>\n",
       "      <th>InIH</th>\n",
       "      <td>0</td>\n",
       "      <td>0</td>\n",
       "      <td>0</td>\n",
       "      <td>0</td>\n",
       "      <td>28</td>\n",
       "      <td>28</td>\n",
       "      <td>56</td>\n",
       "      <td>InIH</td>\n",
       "    </tr>\n",
       "    <tr>\n",
       "      <th>IH</th>\n",
       "      <td>0</td>\n",
       "      <td>0</td>\n",
       "      <td>0</td>\n",
       "      <td>0</td>\n",
       "      <td>0</td>\n",
       "      <td>54</td>\n",
       "      <td>54</td>\n",
       "      <td>IH</td>\n",
       "    </tr>\n",
       "    <tr>\n",
       "      <th>ObInIH</th>\n",
       "      <td>0</td>\n",
       "      <td>0</td>\n",
       "      <td>18</td>\n",
       "      <td>0</td>\n",
       "      <td>18</td>\n",
       "      <td>18</td>\n",
       "      <td>54</td>\n",
       "      <td>ObInIH</td>\n",
       "    </tr>\n",
       "    <tr>\n",
       "      <th>ToThIn</th>\n",
       "      <td>16</td>\n",
       "      <td>0</td>\n",
       "      <td>0</td>\n",
       "      <td>16</td>\n",
       "      <td>16</td>\n",
       "      <td>0</td>\n",
       "      <td>48</td>\n",
       "      <td>ToThIn</td>\n",
       "    </tr>\n",
       "    <tr>\n",
       "      <th>ToSTIn</th>\n",
       "      <td>14</td>\n",
       "      <td>14</td>\n",
       "      <td>0</td>\n",
       "      <td>0</td>\n",
       "      <td>14</td>\n",
       "      <td>0</td>\n",
       "      <td>42</td>\n",
       "      <td>ToSTIn</td>\n",
       "    </tr>\n",
       "    <tr>\n",
       "      <th>ToObTh</th>\n",
       "      <td>11</td>\n",
       "      <td>0</td>\n",
       "      <td>11</td>\n",
       "      <td>11</td>\n",
       "      <td>0</td>\n",
       "      <td>0</td>\n",
       "      <td>33</td>\n",
       "      <td>ToObTh</td>\n",
       "    </tr>\n",
       "    <tr>\n",
       "      <th>ToSTTh</th>\n",
       "      <td>11</td>\n",
       "      <td>11</td>\n",
       "      <td>0</td>\n",
       "      <td>11</td>\n",
       "      <td>0</td>\n",
       "      <td>0</td>\n",
       "      <td>33</td>\n",
       "      <td>ToSTTh</td>\n",
       "    </tr>\n",
       "    <tr>\n",
       "      <th>ToSTInIH</th>\n",
       "      <td>7</td>\n",
       "      <td>7</td>\n",
       "      <td>0</td>\n",
       "      <td>0</td>\n",
       "      <td>7</td>\n",
       "      <td>7</td>\n",
       "      <td>28</td>\n",
       "      <td>ToSTInIH</td>\n",
       "    </tr>\n",
       "    <tr>\n",
       "      <th>ToSTObIH</th>\n",
       "      <td>6</td>\n",
       "      <td>6</td>\n",
       "      <td>6</td>\n",
       "      <td>0</td>\n",
       "      <td>0</td>\n",
       "      <td>6</td>\n",
       "      <td>24</td>\n",
       "      <td>ToSTObIH</td>\n",
       "    </tr>\n",
       "    <tr>\n",
       "      <th>Th</th>\n",
       "      <td>0</td>\n",
       "      <td>0</td>\n",
       "      <td>0</td>\n",
       "      <td>22</td>\n",
       "      <td>0</td>\n",
       "      <td>0</td>\n",
       "      <td>22</td>\n",
       "      <td>Th</td>\n",
       "    </tr>\n",
       "    <tr>\n",
       "      <th>ToThIH</th>\n",
       "      <td>7</td>\n",
       "      <td>0</td>\n",
       "      <td>0</td>\n",
       "      <td>7</td>\n",
       "      <td>0</td>\n",
       "      <td>7</td>\n",
       "      <td>21</td>\n",
       "      <td>ToThIH</td>\n",
       "    </tr>\n",
       "    <tr>\n",
       "      <th>ToSTObTh</th>\n",
       "      <td>4</td>\n",
       "      <td>4</td>\n",
       "      <td>4</td>\n",
       "      <td>4</td>\n",
       "      <td>0</td>\n",
       "      <td>0</td>\n",
       "      <td>16</td>\n",
       "      <td>ToSTObTh</td>\n",
       "    </tr>\n",
       "    <tr>\n",
       "      <th>ToThInIH</th>\n",
       "      <td>3</td>\n",
       "      <td>0</td>\n",
       "      <td>0</td>\n",
       "      <td>3</td>\n",
       "      <td>3</td>\n",
       "      <td>3</td>\n",
       "      <td>12</td>\n",
       "      <td>ToThInIH</td>\n",
       "    </tr>\n",
       "    <tr>\n",
       "      <th>ToSTIH</th>\n",
       "      <td>3</td>\n",
       "      <td>3</td>\n",
       "      <td>0</td>\n",
       "      <td>0</td>\n",
       "      <td>0</td>\n",
       "      <td>3</td>\n",
       "      <td>9</td>\n",
       "      <td>ToSTIH</td>\n",
       "    </tr>\n",
       "    <tr>\n",
       "      <th>ThIn</th>\n",
       "      <td>0</td>\n",
       "      <td>0</td>\n",
       "      <td>0</td>\n",
       "      <td>3</td>\n",
       "      <td>3</td>\n",
       "      <td>0</td>\n",
       "      <td>6</td>\n",
       "      <td>ThIn</td>\n",
       "    </tr>\n",
       "    <tr>\n",
       "      <th>ObThIn</th>\n",
       "      <td>0</td>\n",
       "      <td>0</td>\n",
       "      <td>2</td>\n",
       "      <td>2</td>\n",
       "      <td>2</td>\n",
       "      <td>0</td>\n",
       "      <td>6</td>\n",
       "      <td>ObThIn</td>\n",
       "    </tr>\n",
       "    <tr>\n",
       "      <th>ObIH</th>\n",
       "      <td>0</td>\n",
       "      <td>0</td>\n",
       "      <td>3</td>\n",
       "      <td>0</td>\n",
       "      <td>0</td>\n",
       "      <td>3</td>\n",
       "      <td>6</td>\n",
       "      <td>ObIH</td>\n",
       "    </tr>\n",
       "    <tr>\n",
       "      <th>ToSTThIH</th>\n",
       "      <td>1</td>\n",
       "      <td>1</td>\n",
       "      <td>0</td>\n",
       "      <td>1</td>\n",
       "      <td>0</td>\n",
       "      <td>1</td>\n",
       "      <td>4</td>\n",
       "      <td>ToSTThIH</td>\n",
       "    </tr>\n",
       "    <tr>\n",
       "      <th>ToSTThIn</th>\n",
       "      <td>1</td>\n",
       "      <td>1</td>\n",
       "      <td>0</td>\n",
       "      <td>1</td>\n",
       "      <td>1</td>\n",
       "      <td>0</td>\n",
       "      <td>4</td>\n",
       "      <td>ToSTThIn</td>\n",
       "    </tr>\n",
       "    <tr>\n",
       "      <th>ObTh</th>\n",
       "      <td>0</td>\n",
       "      <td>0</td>\n",
       "      <td>2</td>\n",
       "      <td>2</td>\n",
       "      <td>0</td>\n",
       "      <td>0</td>\n",
       "      <td>4</td>\n",
       "      <td>ObTh</td>\n",
       "    </tr>\n",
       "    <tr>\n",
       "      <th></th>\n",
       "      <td>0</td>\n",
       "      <td>0</td>\n",
       "      <td>0</td>\n",
       "      <td>0</td>\n",
       "      <td>0</td>\n",
       "      <td>0</td>\n",
       "      <td>0</td>\n",
       "      <td></td>\n",
       "    </tr>\n",
       "  </tbody>\n",
       "</table>\n",
       "</div>"
      ],
      "text/plain": [
       "              toxic  severe_toxic  obscene  threat  insult  identity_hate  \\\n",
       "category                                                                    \n",
       "ToObIn         3800             0     3800       0    3800              0   \n",
       "To             5666             0        0       0       0              0   \n",
       "ToSTObIn        989           989      989       0     989              0   \n",
       "ToOb           1758             0     1758       0       0              0   \n",
       "ToObInIH        618             0      618       0     618            618   \n",
       "ToIn           1215             0        0       0    1215              0   \n",
       "ToSTObInIH      265           265      265       0     265            265   \n",
       "ToObThIn        131             0      131     131     131              0   \n",
       "ToSTOb          158           158      158       0       0              0   \n",
       "ToInIH          134             0        0       0     134            134   \n",
       "ObIn              0             0      181       0     181              0   \n",
       "ToSTObThIn       64            64       64      64      64              0   \n",
       "Ob                0             0      317       0       0              0   \n",
       "In                0             0        0       0     301              0   \n",
       "ToObThInIH       56             0       56      56      56             56   \n",
       "ToIH            136             0        0       0       0            136   \n",
       "ToTh            113             0        0     113       0              0   \n",
       "ToSTObThInIH     31            31       31      31      31             31   \n",
       "ToObIH           35             0       35       0       0             35   \n",
       "ToST             41            41        0       0       0              0   \n",
       "InIH              0             0        0       0      28             28   \n",
       "IH                0             0        0       0       0             54   \n",
       "ObInIH            0             0       18       0      18             18   \n",
       "ToThIn           16             0        0      16      16              0   \n",
       "ToSTIn           14            14        0       0      14              0   \n",
       "ToObTh           11             0       11      11       0              0   \n",
       "ToSTTh           11            11        0      11       0              0   \n",
       "ToSTInIH          7             7        0       0       7              7   \n",
       "ToSTObIH          6             6        6       0       0              6   \n",
       "Th                0             0        0      22       0              0   \n",
       "ToThIH            7             0        0       7       0              7   \n",
       "ToSTObTh          4             4        4       4       0              0   \n",
       "ToThInIH          3             0        0       3       3              3   \n",
       "ToSTIH            3             3        0       0       0              3   \n",
       "ThIn              0             0        0       3       3              0   \n",
       "ObThIn            0             0        2       2       2              0   \n",
       "ObIH              0             0        3       0       0              3   \n",
       "ToSTThIH          1             1        0       1       0              1   \n",
       "ToSTThIn          1             1        0       1       1              0   \n",
       "ObTh              0             0        2       2       0              0   \n",
       "                  0             0        0       0       0              0   \n",
       "\n",
       "              total      category  \n",
       "category                           \n",
       "ToObIn        11400        ToObIn  \n",
       "To             5666            To  \n",
       "ToSTObIn       3956      ToSTObIn  \n",
       "ToOb           3516          ToOb  \n",
       "ToObInIH       2472      ToObInIH  \n",
       "ToIn           2430          ToIn  \n",
       "ToSTObInIH     1325    ToSTObInIH  \n",
       "ToObThIn        524      ToObThIn  \n",
       "ToSTOb          474        ToSTOb  \n",
       "ToInIH          402        ToInIH  \n",
       "ObIn            362          ObIn  \n",
       "ToSTObThIn      320    ToSTObThIn  \n",
       "Ob              317            Ob  \n",
       "In              301            In  \n",
       "ToObThInIH      280    ToObThInIH  \n",
       "ToIH            272          ToIH  \n",
       "ToTh            226          ToTh  \n",
       "ToSTObThInIH    186  ToSTObThInIH  \n",
       "ToObIH          105        ToObIH  \n",
       "ToST             82          ToST  \n",
       "InIH             56          InIH  \n",
       "IH               54            IH  \n",
       "ObInIH           54        ObInIH  \n",
       "ToThIn           48        ToThIn  \n",
       "ToSTIn           42        ToSTIn  \n",
       "ToObTh           33        ToObTh  \n",
       "ToSTTh           33        ToSTTh  \n",
       "ToSTInIH         28      ToSTInIH  \n",
       "ToSTObIH         24      ToSTObIH  \n",
       "Th               22            Th  \n",
       "ToThIH           21        ToThIH  \n",
       "ToSTObTh         16      ToSTObTh  \n",
       "ToThInIH         12      ToThInIH  \n",
       "ToSTIH            9        ToSTIH  \n",
       "ThIn              6          ThIn  \n",
       "ObThIn            6        ObThIn  \n",
       "ObIH              6          ObIH  \n",
       "ToSTThIH          4      ToSTThIH  \n",
       "ToSTThIn          4      ToSTThIn  \n",
       "ObTh              4          ObTh  \n",
       "                  0                "
      ]
     },
     "execution_count": 25,
     "metadata": {},
     "output_type": "execute_result"
    }
   ],
   "source": [
    "df_D = df_D.sort_values(['total'], ascending=[False])\n",
    "df_D"
   ]
  },
  {
   "cell_type": "code",
   "execution_count": null,
   "metadata": {
    "collapsed": true
   },
   "outputs": [],
   "source": []
  },
  {
   "cell_type": "code",
   "execution_count": 26,
   "metadata": {},
   "outputs": [
    {
     "data": {
      "image/png": "[encoded data removed]",
      "text/plain": [
       "<matplotlib.figure.Figure at 0x1a3aa36940>"
      ]
     },
     "metadata": {},
     "output_type": "display_data"
    }
   ],
   "source": [
    "cutoff = 8\n",
    "df_D0 = df_D['total']\n",
    "df_D1 = df_D0.iloc[:cutoff]\n",
    "df_D1.loc['Other'] = df_D0.iloc[cutoff:].sum()\n",
    "df_D1.plot(kind='pie', figsize=(10,6))\n",
    "plt.axis('equal')\n",
    "plt.title('Frequency of Rating Groups',fontweight='bold')\n",
    "plt.show()"
   ]
  },
  {
   "cell_type": "code",
   "execution_count": 27,
   "metadata": {},
   "outputs": [
    {
     "data": {
      "text/html": [
       "<div>\n",
       "<style scoped>\n",
       "    .dataframe tbody tr th:only-of-type {\n",
       "        vertical-align: middle;\n",
       "    }\n",
       "\n",
       "    .dataframe tbody tr th {\n",
       "        vertical-align: top;\n",
       "    }\n",
       "\n",
       "    .dataframe thead th {\n",
       "        text-align: right;\n",
       "    }\n",
       "</style>\n",
       "<table border=\"1\" class=\"dataframe\">\n",
       "  <thead>\n",
       "    <tr style=\"text-align: right;\">\n",
       "      <th></th>\n",
       "      <th>toxic</th>\n",
       "      <th>severe_toxic</th>\n",
       "      <th>obscene</th>\n",
       "      <th>threat</th>\n",
       "      <th>insult</th>\n",
       "      <th>identity_hate</th>\n",
       "    </tr>\n",
       "  </thead>\n",
       "  <tbody>\n",
       "    <tr>\n",
       "      <th>threat</th>\n",
       "      <td>0.157058</td>\n",
       "      <td>0.123601</td>\n",
       "      <td>0.141179</td>\n",
       "      <td>1.000000</td>\n",
       "      <td>0.150022</td>\n",
       "      <td>0.115128</td>\n",
       "    </tr>\n",
       "    <tr>\n",
       "      <th>identity_hate</th>\n",
       "      <td>0.266009</td>\n",
       "      <td>0.201600</td>\n",
       "      <td>0.286867</td>\n",
       "      <td>0.115128</td>\n",
       "      <td>0.337736</td>\n",
       "      <td>1.000000</td>\n",
       "    </tr>\n",
       "    <tr>\n",
       "      <th>severe_toxic</th>\n",
       "      <td>0.308619</td>\n",
       "      <td>1.000000</td>\n",
       "      <td>0.403014</td>\n",
       "      <td>0.123601</td>\n",
       "      <td>0.375807</td>\n",
       "      <td>0.201600</td>\n",
       "    </tr>\n",
       "    <tr>\n",
       "      <th>insult</th>\n",
       "      <td>0.647518</td>\n",
       "      <td>0.375807</td>\n",
       "      <td>0.741272</td>\n",
       "      <td>0.150022</td>\n",
       "      <td>1.000000</td>\n",
       "      <td>0.337736</td>\n",
       "    </tr>\n",
       "    <tr>\n",
       "      <th>obscene</th>\n",
       "      <td>0.676515</td>\n",
       "      <td>0.403014</td>\n",
       "      <td>1.000000</td>\n",
       "      <td>0.141179</td>\n",
       "      <td>0.741272</td>\n",
       "      <td>0.286867</td>\n",
       "    </tr>\n",
       "    <tr>\n",
       "      <th>toxic</th>\n",
       "      <td>1.000000</td>\n",
       "      <td>0.308619</td>\n",
       "      <td>0.676515</td>\n",
       "      <td>0.157058</td>\n",
       "      <td>0.647518</td>\n",
       "      <td>0.266009</td>\n",
       "    </tr>\n",
       "  </tbody>\n",
       "</table>\n",
       "</div>"
      ],
      "text/plain": [
       "                  toxic  severe_toxic   obscene    threat    insult  \\\n",
       "threat         0.157058      0.123601  0.141179  1.000000  0.150022   \n",
       "identity_hate  0.266009      0.201600  0.286867  0.115128  0.337736   \n",
       "severe_toxic   0.308619      1.000000  0.403014  0.123601  0.375807   \n",
       "insult         0.647518      0.375807  0.741272  0.150022  1.000000   \n",
       "obscene        0.676515      0.403014  1.000000  0.141179  0.741272   \n",
       "toxic          1.000000      0.308619  0.676515  0.157058  0.647518   \n",
       "\n",
       "               identity_hate  \n",
       "threat              0.115128  \n",
       "identity_hate       1.000000  \n",
       "severe_toxic        0.201600  \n",
       "insult              0.337736  \n",
       "obscene             0.286867  \n",
       "toxic               0.266009  "
      ]
     },
     "execution_count": 27,
     "metadata": {},
     "output_type": "execute_result"
    }
   ],
   "source": [
    "df_E = df[['toxic', 'severe_toxic', 'obscene', 'threat','insult', 'identity_hate']]\n",
    "df_E.corr().sort_values('toxic')"
   ]
  },
  {
   "cell_type": "code",
   "execution_count": 28,
   "metadata": {},
   "outputs": [
    {
     "data": {
      "text/plain": [
       "Text(0.5,1,'Correlation of Categories')"
      ]
     },
     "execution_count": 28,
     "metadata": {},
     "output_type": "execute_result"
    },
    {
     "data": {
      "image/png": "[encoded data removed]",
      "text/plain": [
       "<matplotlib.figure.Figure at 0x1a15eac2e8>"
      ]
     },
     "metadata": {},
     "output_type": "display_data"
    }
   ],
   "source": [
    "sns.heatmap(df_E.corr(), cmap = 'coolwarm')\n",
    "plt.title('Correlation of Categories',fontweight='bold')"
   ]
  },
  {
   "cell_type": "code",
   "execution_count": 29,
   "metadata": {
    "collapsed": true
   },
   "outputs": [],
   "source": [
    "# df11 = df[df['toxic']==1]\n",
    "# print(df11.shape)\n",
    "# df11.columns"
   ]
  },
  {
   "cell_type": "code",
   "execution_count": 30,
   "metadata": {
    "collapsed": true
   },
   "outputs": [],
   "source": [
    "# df11['rating'].mean()"
   ]
  },
  {
   "cell_type": "code",
   "execution_count": 31,
   "metadata": {},
   "outputs": [
    {
     "data": {
      "text/plain": [
       "Index(['id', 'comment_text', 'toxic', 'severe_toxic', 'obscene', 'threat',\n",
       "       'insult', 'identity_hate', 'category', 'rating', 'clean',\n",
       "       'comment_text_s', 'comment_text_f', 'token_clean', 'sent_token',\n",
       "       'polarity_sentence', 'polarity_comment', 'polarity_comment_s',\n",
       "       'word_count', 'char_count', 'char_count_s', 'polarity_min',\n",
       "       'polarity_max', 'polarity_mean'],\n",
       "      dtype='object')"
      ]
     },
     "execution_count": 31,
     "metadata": {},
     "output_type": "execute_result"
    }
   ],
   "source": [
    "df.columns"
   ]
  },
  {
   "cell_type": "code",
   "execution_count": 32,
   "metadata": {
    "collapsed": true
   },
   "outputs": [],
   "source": [
    "# categories = ['clean','toxic','severe_toxic','obscene','threat','insult','identity_hate']\n",
    "\n",
    "# def average_rating_by_cat(data,categories):\n",
    "#     averages_dict = {}\n",
    "#     for cat in categories:\n",
    "#         dt = data[data[cat]==1]\n",
    "#         averages_dict[cat] = {\"Rating\": dt['rating'].mean(),\"Min Polarity\": df['polarity_min'].mean, \n",
    "#                               \"Max Polarity\":df['polarity_max'].mean(), \n",
    "#                               \"Comment Polarity\":df['polarity_comment'].mean(), \n",
    "#                               \"Sentence Polarity\":np.mean(df.polarity_sentence[0][-1]),\n",
    "#                               \"Character Count\":df['char_count'].mean()}\n",
    "#     return averages_dict"
   ]
  },
  {
   "cell_type": "code",
   "execution_count": 33,
   "metadata": {
    "collapsed": true
   },
   "outputs": [],
   "source": [
    "# arbc = average_rating_by_cat(df,categories)\n",
    "# arbc['clean']['Comment Polarity']"
   ]
  },
  {
   "cell_type": "code",
   "execution_count": 34,
   "metadata": {
    "collapsed": true
   },
   "outputs": [],
   "source": [
    "# arbc['Rating']"
   ]
  },
  {
   "cell_type": "code",
   "execution_count": 35,
   "metadata": {
    "collapsed": true
   },
   "outputs": [],
   "source": [
    "# arbc = pd.DataFrame(arbc)\n",
    "# arbc"
   ]
  },
  {
   "cell_type": "code",
   "execution_count": 36,
   "metadata": {
    "collapsed": true
   },
   "outputs": [],
   "source": [
    "# arbc[0]"
   ]
  },
  {
   "cell_type": "code",
   "execution_count": 37,
   "metadata": {
    "collapsed": true
   },
   "outputs": [],
   "source": [
    "# arbc.sort_values().plot(kind='bar', stacked=True)"
   ]
  },
  {
   "cell_type": "code",
   "execution_count": 38,
   "metadata": {
    "collapsed": true
   },
   "outputs": [],
   "source": [
    "# plt.title(\"Average Rating by Category\",fontweight='bold')\n",
    "# plt.set_ylabel(\"Average Rating\",fontweight='bold')"
   ]
  },
  {
   "cell_type": "markdown",
   "metadata": {},
   "source": [
    "### Remove Toxic class"
   ]
  },
  {
   "cell_type": "code",
   "execution_count": 39,
   "metadata": {},
   "outputs": [
    {
     "name": "stderr",
     "output_type": "stream",
     "text": [
      "/Users/brianmcmahon/anaconda3/envs/tensorflow1.4/lib/python3.6/site-packages/ipykernel_launcher.py:2: SettingWithCopyWarning: \n",
      "A value is trying to be set on a copy of a slice from a DataFrame.\n",
      "Try using .loc[row_indexer,col_indexer] = value instead\n",
      "\n",
      "See the caveats in the documentation: http://pandas.pydata.org/pandas-docs/stable/indexing.html#indexing-view-versus-copy\n",
      "  \n"
     ]
    },
    {
     "data": {
      "text/html": [
       "<div>\n",
       "<style scoped>\n",
       "    .dataframe tbody tr th:only-of-type {\n",
       "        vertical-align: middle;\n",
       "    }\n",
       "\n",
       "    .dataframe tbody tr th {\n",
       "        vertical-align: top;\n",
       "    }\n",
       "\n",
       "    .dataframe thead th {\n",
       "        text-align: right;\n",
       "    }\n",
       "</style>\n",
       "<table border=\"1\" class=\"dataframe\">\n",
       "  <thead>\n",
       "    <tr style=\"text-align: right;\">\n",
       "      <th></th>\n",
       "      <th>severe_toxic</th>\n",
       "      <th>obscene</th>\n",
       "      <th>threat</th>\n",
       "      <th>insult</th>\n",
       "      <th>identity_hate</th>\n",
       "      <th>total</th>\n",
       "    </tr>\n",
       "    <tr>\n",
       "      <th>adj_rating</th>\n",
       "      <th></th>\n",
       "      <th></th>\n",
       "      <th></th>\n",
       "      <th></th>\n",
       "      <th></th>\n",
       "      <th></th>\n",
       "    </tr>\n",
       "  </thead>\n",
       "  <tbody>\n",
       "    <tr>\n",
       "      <th>1</th>\n",
       "      <td>41</td>\n",
       "      <td>2075</td>\n",
       "      <td>135</td>\n",
       "      <td>1516</td>\n",
       "      <td>190</td>\n",
       "      <td>3957</td>\n",
       "    </tr>\n",
       "    <tr>\n",
       "      <th>2</th>\n",
       "      <td>186</td>\n",
       "      <td>4190</td>\n",
       "      <td>50</td>\n",
       "      <td>4176</td>\n",
       "      <td>210</td>\n",
       "      <td>8812</td>\n",
       "    </tr>\n",
       "    <tr>\n",
       "      <th>3</th>\n",
       "      <td>1008</td>\n",
       "      <td>1768</td>\n",
       "      <td>142</td>\n",
       "      <td>1769</td>\n",
       "      <td>653</td>\n",
       "      <td>5340</td>\n",
       "    </tr>\n",
       "    <tr>\n",
       "      <th>4</th>\n",
       "      <td>329</td>\n",
       "      <td>385</td>\n",
       "      <td>120</td>\n",
       "      <td>385</td>\n",
       "      <td>321</td>\n",
       "      <td>1540</td>\n",
       "    </tr>\n",
       "    <tr>\n",
       "      <th>5</th>\n",
       "      <td>31</td>\n",
       "      <td>31</td>\n",
       "      <td>31</td>\n",
       "      <td>31</td>\n",
       "      <td>31</td>\n",
       "      <td>155</td>\n",
       "    </tr>\n",
       "  </tbody>\n",
       "</table>\n",
       "</div>"
      ],
      "text/plain": [
       "            severe_toxic  obscene  threat  insult  identity_hate  total\n",
       "adj_rating                                                             \n",
       "1                     41     2075     135    1516            190   3957\n",
       "2                    186     4190      50    4176            210   8812\n",
       "3                   1008     1768     142    1769            653   5340\n",
       "4                    329      385     120     385            321   1540\n",
       "5                     31       31      31      31             31    155"
      ]
     },
     "execution_count": 39,
     "metadata": {},
     "output_type": "execute_result"
    }
   ],
   "source": [
    "df_E0 = df[['category','severe_toxic', 'obscene', 'threat', 'insult', 'identity_hate']]\n",
    "df_E0['adj_rating'] = df_E0['severe_toxic'] + df_E0['obscene'] + df_E0['threat'] + df_E0['insult'] + df_E0['identity_hate']\n",
    "df_E0 = df_E0[df_E0['adj_rating']>0]\n",
    "df_E0['total'] = df_E0['severe_toxic'] + df_E0['obscene'] + df_E0['threat']+df_E0['insult']+df_E0['identity_hate']\n",
    "df_E = df_E0.groupby('adj_rating').sum()\n",
    "df_E"
   ]
  },
  {
   "cell_type": "code",
   "execution_count": null,
   "metadata": {
    "collapsed": true
   },
   "outputs": [],
   "source": []
  },
  {
   "cell_type": "code",
   "execution_count": 40,
   "metadata": {},
   "outputs": [
    {
     "data": {
      "text/html": [
       "<div>\n",
       "<style scoped>\n",
       "    .dataframe tbody tr th:only-of-type {\n",
       "        vertical-align: middle;\n",
       "    }\n",
       "\n",
       "    .dataframe tbody tr th {\n",
       "        vertical-align: top;\n",
       "    }\n",
       "\n",
       "    .dataframe thead th {\n",
       "        text-align: right;\n",
       "    }\n",
       "</style>\n",
       "<table border=\"1\" class=\"dataframe\">\n",
       "  <thead>\n",
       "    <tr style=\"text-align: right;\">\n",
       "      <th></th>\n",
       "      <th>severe_toxic</th>\n",
       "      <th>obscene</th>\n",
       "      <th>threat</th>\n",
       "      <th>insult</th>\n",
       "      <th>identity_hate</th>\n",
       "      <th>total</th>\n",
       "      <th>%ST</th>\n",
       "      <th>%Ob</th>\n",
       "      <th>%Th</th>\n",
       "      <th>%IH</th>\n",
       "      <th>%In</th>\n",
       "      <th>adj_rating</th>\n",
       "    </tr>\n",
       "    <tr>\n",
       "      <th>adj_rating</th>\n",
       "      <th></th>\n",
       "      <th></th>\n",
       "      <th></th>\n",
       "      <th></th>\n",
       "      <th></th>\n",
       "      <th></th>\n",
       "      <th></th>\n",
       "      <th></th>\n",
       "      <th></th>\n",
       "      <th></th>\n",
       "      <th></th>\n",
       "      <th></th>\n",
       "    </tr>\n",
       "  </thead>\n",
       "  <tbody>\n",
       "    <tr>\n",
       "      <th>1</th>\n",
       "      <td>41</td>\n",
       "      <td>2075</td>\n",
       "      <td>135</td>\n",
       "      <td>1516</td>\n",
       "      <td>190</td>\n",
       "      <td>3957</td>\n",
       "      <td>0.010361</td>\n",
       "      <td>0.524387</td>\n",
       "      <td>0.034117</td>\n",
       "      <td>0.048016</td>\n",
       "      <td>0.383119</td>\n",
       "      <td>1</td>\n",
       "    </tr>\n",
       "    <tr>\n",
       "      <th>2</th>\n",
       "      <td>186</td>\n",
       "      <td>4190</td>\n",
       "      <td>50</td>\n",
       "      <td>4176</td>\n",
       "      <td>210</td>\n",
       "      <td>8812</td>\n",
       "      <td>0.021108</td>\n",
       "      <td>0.475488</td>\n",
       "      <td>0.005674</td>\n",
       "      <td>0.023831</td>\n",
       "      <td>0.473899</td>\n",
       "      <td>2</td>\n",
       "    </tr>\n",
       "    <tr>\n",
       "      <th>3</th>\n",
       "      <td>1008</td>\n",
       "      <td>1768</td>\n",
       "      <td>142</td>\n",
       "      <td>1769</td>\n",
       "      <td>653</td>\n",
       "      <td>5340</td>\n",
       "      <td>0.188764</td>\n",
       "      <td>0.331086</td>\n",
       "      <td>0.026592</td>\n",
       "      <td>0.122285</td>\n",
       "      <td>0.331273</td>\n",
       "      <td>3</td>\n",
       "    </tr>\n",
       "    <tr>\n",
       "      <th>4</th>\n",
       "      <td>329</td>\n",
       "      <td>385</td>\n",
       "      <td>120</td>\n",
       "      <td>385</td>\n",
       "      <td>321</td>\n",
       "      <td>1540</td>\n",
       "      <td>0.213636</td>\n",
       "      <td>0.250000</td>\n",
       "      <td>0.077922</td>\n",
       "      <td>0.208442</td>\n",
       "      <td>0.250000</td>\n",
       "      <td>4</td>\n",
       "    </tr>\n",
       "    <tr>\n",
       "      <th>5</th>\n",
       "      <td>31</td>\n",
       "      <td>31</td>\n",
       "      <td>31</td>\n",
       "      <td>31</td>\n",
       "      <td>31</td>\n",
       "      <td>155</td>\n",
       "      <td>0.200000</td>\n",
       "      <td>0.200000</td>\n",
       "      <td>0.200000</td>\n",
       "      <td>0.200000</td>\n",
       "      <td>0.200000</td>\n",
       "      <td>5</td>\n",
       "    </tr>\n",
       "  </tbody>\n",
       "</table>\n",
       "</div>"
      ],
      "text/plain": [
       "            severe_toxic  obscene  threat  insult  identity_hate  total  \\\n",
       "adj_rating                                                                \n",
       "1                     41     2075     135    1516            190   3957   \n",
       "2                    186     4190      50    4176            210   8812   \n",
       "3                   1008     1768     142    1769            653   5340   \n",
       "4                    329      385     120     385            321   1540   \n",
       "5                     31       31      31      31             31    155   \n",
       "\n",
       "                 %ST       %Ob       %Th       %IH       %In  adj_rating  \n",
       "adj_rating                                                                \n",
       "1           0.010361  0.524387  0.034117  0.048016  0.383119           1  \n",
       "2           0.021108  0.475488  0.005674  0.023831  0.473899           2  \n",
       "3           0.188764  0.331086  0.026592  0.122285  0.331273           3  \n",
       "4           0.213636  0.250000  0.077922  0.208442  0.250000           4  \n",
       "5           0.200000  0.200000  0.200000  0.200000  0.200000           5  "
      ]
     },
     "execution_count": 40,
     "metadata": {},
     "output_type": "execute_result"
    }
   ],
   "source": [
    "df_E['%ST'] = df_E['severe_toxic'] / df_E['total']\n",
    "df_E['%Ob'] = df_E['obscene'] / df_E['total']\n",
    "df_E['%Th'] = df_E['threat'] / df_E['total']\n",
    "df_E['%IH'] = df_E['identity_hate'] / df_E['total']\n",
    "df_E['%In'] = df_E['insult'] / df_E['total']\n",
    "df_E['adj_rating'] = df_E.index\n",
    "\n",
    "df_E"
   ]
  },
  {
   "cell_type": "code",
   "execution_count": null,
   "metadata": {
    "collapsed": true
   },
   "outputs": [],
   "source": []
  },
  {
   "cell_type": "code",
   "execution_count": 41,
   "metadata": {},
   "outputs": [
    {
     "data": {
      "text/plain": [
       "<matplotlib.axes._subplots.AxesSubplot at 0x1a3c2df668>"
      ]
     },
     "execution_count": 41,
     "metadata": {},
     "output_type": "execute_result"
    },
    {
     "data": {
      "image/png": "[encoded data removed]",
      "text/plain": [
       "<matplotlib.figure.Figure at 0x1a3c2cbe48>"
      ]
     },
     "metadata": {},
     "output_type": "display_data"
    }
   ],
   "source": [
    "df_E.total.plot(kind='bar')"
   ]
  },
  {
   "cell_type": "code",
   "execution_count": 42,
   "metadata": {},
   "outputs": [
    {
     "data": {
      "text/plain": [
       "<matplotlib.axes._subplots.AxesSubplot at 0x1a3c2cb710>"
      ]
     },
     "execution_count": 42,
     "metadata": {},
     "output_type": "execute_result"
    },
    {
     "data": {
      "image/png": "[encoded data removed]",
      "text/plain": [
       "<matplotlib.figure.Figure at 0x1a3aa36048>"
      ]
     },
     "metadata": {},
     "output_type": "display_data"
    }
   ],
   "source": [
    "df_E1 = df_E[['%ST', '%Ob', '%Th', '%IH', '%In']]\n",
    "\n",
    "df_E1.plot(kind='bar', stacked=True)"
   ]
  },
  {
   "cell_type": "code",
   "execution_count": 43,
   "metadata": {},
   "outputs": [
    {
     "data": {
      "text/plain": [
       "<matplotlib.axes._subplots.AxesSubplot at 0x1a17973710>"
      ]
     },
     "execution_count": 43,
     "metadata": {},
     "output_type": "execute_result"
    },
    {
     "data": {
      "image/png": "[encoded data removed]",
      "text/plain": [
       "<matplotlib.figure.Figure at 0x1a3a6a5e80>"
      ]
     },
     "metadata": {},
     "output_type": "display_data"
    }
   ],
   "source": [
    "df_E2 = df_E[['severe_toxic', 'obscene', 'threat', 'insult', 'identity_hate']]\n",
    "\n",
    "df_E2.plot(kind='bar', stacked=True)"
   ]
  },
  {
   "cell_type": "code",
   "execution_count": 44,
   "metadata": {
    "collapsed": true
   },
   "outputs": [],
   "source": [
    "# df_E2.plot(kind='bar', stacked=False)"
   ]
  },
  {
   "cell_type": "code",
   "execution_count": 45,
   "metadata": {},
   "outputs": [
    {
     "data": {
      "text/plain": [
       "(-1.1103225137628192,\n",
       " 1.10049154827442,\n",
       " -1.1112311056254036,\n",
       " 1.1077613039803256)"
      ]
     },
     "execution_count": 45,
     "metadata": {},
     "output_type": "execute_result"
    },
    {
     "data": {
      "image/png": "[encoded data removed]",
      "text/plain": [
       "<matplotlib.figure.Figure at 0x1a3a6c8d30>"
      ]
     },
     "metadata": {},
     "output_type": "display_data"
    }
   ],
   "source": [
    "fig,ax = plt.subplots(figsize=(15,10),nrows=3,ncols=2)\n",
    "ax = plt.subplot(221)\n",
    "df_E.identity_hate.groupby(df_E.adj_rating).sum().plot(kind='pie')\n",
    "plt.axis('equal')\n",
    "\n",
    "ax = plt.subplot(222)\n",
    "df_E.threat.groupby(df_E.adj_rating).sum().plot(kind='pie')\n",
    "plt.axis('equal')\n",
    "\n",
    "ax = plt.subplot(223)\n",
    "df_E.severe_toxic.groupby(df_E.adj_rating).sum().plot(kind='pie')\n",
    "plt.axis('equal')\n",
    "\n",
    "ax = plt.subplot(224)\n",
    "df_E.obscene.groupby(df_E.adj_rating).sum().plot(kind='pie')\n",
    "plt.axis('equal')"
   ]
  },
  {
   "cell_type": "code",
   "execution_count": 46,
   "metadata": {},
   "outputs": [
    {
     "data": {
      "text/html": [
       "<div>\n",
       "<style scoped>\n",
       "    .dataframe tbody tr th:only-of-type {\n",
       "        vertical-align: middle;\n",
       "    }\n",
       "\n",
       "    .dataframe tbody tr th {\n",
       "        vertical-align: top;\n",
       "    }\n",
       "\n",
       "    .dataframe thead th {\n",
       "        text-align: right;\n",
       "    }\n",
       "</style>\n",
       "<table border=\"1\" class=\"dataframe\">\n",
       "  <thead>\n",
       "    <tr style=\"text-align: right;\">\n",
       "      <th></th>\n",
       "      <th>severe_toxic</th>\n",
       "      <th>obscene</th>\n",
       "      <th>threat</th>\n",
       "      <th>insult</th>\n",
       "      <th>identity_hate</th>\n",
       "    </tr>\n",
       "    <tr>\n",
       "      <th>adj_rating</th>\n",
       "      <th></th>\n",
       "      <th></th>\n",
       "      <th></th>\n",
       "      <th></th>\n",
       "      <th></th>\n",
       "    </tr>\n",
       "  </thead>\n",
       "  <tbody>\n",
       "    <tr>\n",
       "      <th>1</th>\n",
       "      <td>41</td>\n",
       "      <td>2075</td>\n",
       "      <td>135</td>\n",
       "      <td>1516</td>\n",
       "      <td>190</td>\n",
       "    </tr>\n",
       "    <tr>\n",
       "      <th>2</th>\n",
       "      <td>186</td>\n",
       "      <td>4190</td>\n",
       "      <td>50</td>\n",
       "      <td>4176</td>\n",
       "      <td>210</td>\n",
       "    </tr>\n",
       "    <tr>\n",
       "      <th>3</th>\n",
       "      <td>1008</td>\n",
       "      <td>1768</td>\n",
       "      <td>142</td>\n",
       "      <td>1769</td>\n",
       "      <td>653</td>\n",
       "    </tr>\n",
       "    <tr>\n",
       "      <th>4</th>\n",
       "      <td>329</td>\n",
       "      <td>385</td>\n",
       "      <td>120</td>\n",
       "      <td>385</td>\n",
       "      <td>321</td>\n",
       "    </tr>\n",
       "    <tr>\n",
       "      <th>5</th>\n",
       "      <td>31</td>\n",
       "      <td>31</td>\n",
       "      <td>31</td>\n",
       "      <td>31</td>\n",
       "      <td>31</td>\n",
       "    </tr>\n",
       "  </tbody>\n",
       "</table>\n",
       "</div>"
      ],
      "text/plain": [
       "            severe_toxic  obscene  threat  insult  identity_hate\n",
       "adj_rating                                                      \n",
       "1                     41     2075     135    1516            190\n",
       "2                    186     4190      50    4176            210\n",
       "3                   1008     1768     142    1769            653\n",
       "4                    329      385     120     385            321\n",
       "5                     31       31      31      31             31"
      ]
     },
     "execution_count": 46,
     "metadata": {},
     "output_type": "execute_result"
    }
   ],
   "source": [
    "df_E2"
   ]
  },
  {
   "cell_type": "code",
   "execution_count": null,
   "metadata": {
    "collapsed": true
   },
   "outputs": [],
   "source": []
  }
 ],
 "metadata": {
  "kernelspec": {
   "display_name": "Python 3",
   "language": "python",
   "name": "python3"
  },
  "language_info": {
   "codemirror_mode": {
    "name": "ipython",
    "version": 3
   },
   "file_extension": ".py",
   "mimetype": "text/x-python",
   "name": "python",
   "nbconvert_exporter": "python",
   "pygments_lexer": "ipython3",
   "version": "3.6.4"
  }
 },
 "nbformat": 4,
 "nbformat_minor": 2
}
