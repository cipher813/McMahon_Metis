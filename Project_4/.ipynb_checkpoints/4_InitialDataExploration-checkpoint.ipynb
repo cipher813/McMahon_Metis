{
 "cells": [
  {
   "cell_type": "code",
   "execution_count": 1,
   "metadata": {
    "collapsed": true
   },
   "outputs": [],
   "source": [
    "import os"
   ]
  },
  {
   "cell_type": "code",
   "execution_count": 2,
   "metadata": {},
   "outputs": [
    {
     "data": {
      "text/plain": [
       "'/Users/brianmcmahon/anaconda3/envs/tensorflow1.4/bin/python'"
      ]
     },
     "execution_count": 2,
     "metadata": {},
     "output_type": "execute_result"
    }
   ],
   "source": [
    "import sys\n",
    "sys.executable"
   ]
  },
  {
   "cell_type": "code",
   "execution_count": 3,
   "metadata": {
    "collapsed": true
   },
   "outputs": [],
   "source": [
    "def get_env_variable(name):\n",
    "    try:\n",
    "        return os.environ[name]\n",
    "    except KeyError:\n",
    "        message = \"Expected environment variable '{}' not set.\".format(name)\n",
    "        raise Exception(message)\n",
    "\n",
    "PYLAST_USERNAME=get_env_variable(\"PYLAST_USERNAME\")\n",
    "PYLAST_PASSWORD=get_env_variable(\"PYLAST_PASSWORD\")\n",
    "PYLAST_API_KEY=get_env_variable(\"PYLAST_API_KEY\")\n",
    "PYLAST_API_SECRET=get_env_variable(\"PYLAST_API_SECRET\")"
   ]
  },
  {
   "cell_type": "code",
   "execution_count": 4,
   "metadata": {},
   "outputs": [
    {
     "name": "stdout",
     "output_type": "stream",
     "text": [
      "e7a0f7d1de11d93f7c2a30e7f40e6634\n"
     ]
    }
   ],
   "source": [
    "print(PYLAST_API_KEY)"
   ]
  },
  {
   "cell_type": "code",
   "execution_count": 6,
   "metadata": {},
   "outputs": [
    {
     "ename": "WSError",
     "evalue": "Authentication Failed - You do not have permissions to access the service",
     "output_type": "error",
     "traceback": [
      "\u001b[0;31m---------------------------------------------------------------------------\u001b[0m",
      "\u001b[0;31mWSError\u001b[0m                                   Traceback (most recent call last)",
      "\u001b[0;32m<ipython-input-6-024d80fa3954>\u001b[0m in \u001b[0;36m<module>\u001b[0;34m()\u001b[0m\n\u001b[1;32m     13\u001b[0m \u001b[0;34m\u001b[0m\u001b[0m\n\u001b[1;32m     14\u001b[0m network = pylast.LastFMNetwork(api_key=API_KEY, api_secret=API_SECRET,\n\u001b[0;32m---> 15\u001b[0;31m                                username=username, password_hash=password_hash)\n\u001b[0m\u001b[1;32m     16\u001b[0m \u001b[0;34m\u001b[0m\u001b[0m\n\u001b[1;32m     17\u001b[0m \u001b[0;31m# Now you can use that object everywhere\u001b[0m\u001b[0;34m\u001b[0m\u001b[0;34m\u001b[0m\u001b[0m\n",
      "\u001b[0;32m~/anaconda3/envs/tensorflow1.4/lib/python3.5/site-packages/pylast/__init__.py\u001b[0m in \u001b[0;36m__init__\u001b[0;34m(self, api_key, api_secret, session_key, username, password_hash, token)\u001b[0m\n\u001b[1;32m    635\u001b[0m                 \u001b[0;34m\"tag\"\u001b[0m\u001b[0;34m:\u001b[0m \u001b[0;34m\"tag/%(name)s\"\u001b[0m\u001b[0;34m,\u001b[0m\u001b[0;34m\u001b[0m\u001b[0m\n\u001b[1;32m    636\u001b[0m                 \u001b[0;34m\"track\"\u001b[0m\u001b[0;34m:\u001b[0m \u001b[0;34m\"music/%(artist)s/_/%(title)s\"\u001b[0m\u001b[0;34m,\u001b[0m\u001b[0;34m\u001b[0m\u001b[0m\n\u001b[0;32m--> 637\u001b[0;31m                 \u001b[0;34m\"user\"\u001b[0m\u001b[0;34m:\u001b[0m \u001b[0;34m\"user/%(name)s\"\u001b[0m\u001b[0;34m,\u001b[0m\u001b[0;34m\u001b[0m\u001b[0m\n\u001b[0m\u001b[1;32m    638\u001b[0m             }\n\u001b[1;32m    639\u001b[0m         )\n",
      "\u001b[0;32m~/anaconda3/envs/tensorflow1.4/lib/python3.5/site-packages/pylast/__init__.py\u001b[0m in \u001b[0;36m__init__\u001b[0;34m(self, name, homepage, ws_server, api_key, api_secret, session_key, username, password_hash, domain_names, urls, token)\u001b[0m\n\u001b[1;32m    176\u001b[0m             \u001b[0msk_gen\u001b[0m \u001b[0;34m=\u001b[0m \u001b[0mSessionKeyGenerator\u001b[0m\u001b[0;34m(\u001b[0m\u001b[0mself\u001b[0m\u001b[0;34m)\u001b[0m\u001b[0;34m\u001b[0m\u001b[0m\n\u001b[1;32m    177\u001b[0m             self.session_key = sk_gen.get_session_key(\n\u001b[0;32m--> 178\u001b[0;31m                 self.username, self.password_hash)\n\u001b[0m\u001b[1;32m    179\u001b[0m \u001b[0;34m\u001b[0m\u001b[0m\n\u001b[1;32m    180\u001b[0m     \u001b[0;32mdef\u001b[0m \u001b[0m__str__\u001b[0m\u001b[0;34m(\u001b[0m\u001b[0mself\u001b[0m\u001b[0;34m)\u001b[0m\u001b[0;34m:\u001b[0m\u001b[0;34m\u001b[0m\u001b[0m\n",
      "\u001b[0;32m~/anaconda3/envs/tensorflow1.4/lib/python3.5/site-packages/pylast/__init__.py\u001b[0m in \u001b[0;36mget_session_key\u001b[0;34m(self, username, password_hash)\u001b[0m\n\u001b[1;32m    986\u001b[0m         \u001b[0mrequest\u001b[0m\u001b[0;34m.\u001b[0m\u001b[0msign_it\u001b[0m\u001b[0;34m(\u001b[0m\u001b[0;34m)\u001b[0m\u001b[0;34m\u001b[0m\u001b[0m\n\u001b[1;32m    987\u001b[0m \u001b[0;34m\u001b[0m\u001b[0m\n\u001b[0;32m--> 988\u001b[0;31m         \u001b[0mdoc\u001b[0m \u001b[0;34m=\u001b[0m \u001b[0mrequest\u001b[0m\u001b[0;34m.\u001b[0m\u001b[0mexecute\u001b[0m\u001b[0;34m(\u001b[0m\u001b[0;34m)\u001b[0m\u001b[0;34m\u001b[0m\u001b[0m\n\u001b[0m\u001b[1;32m    989\u001b[0m \u001b[0;34m\u001b[0m\u001b[0m\n\u001b[1;32m    990\u001b[0m         \u001b[0;32mreturn\u001b[0m \u001b[0m_extract\u001b[0m\u001b[0;34m(\u001b[0m\u001b[0mdoc\u001b[0m\u001b[0;34m,\u001b[0m \u001b[0;34m\"key\"\u001b[0m\u001b[0;34m)\u001b[0m\u001b[0;34m\u001b[0m\u001b[0m\n",
      "\u001b[0;32m~/anaconda3/envs/tensorflow1.4/lib/python3.5/site-packages/pylast/__init__.py\u001b[0m in \u001b[0;36mexecute\u001b[0;34m(self, cacheable)\u001b[0m\n\u001b[1;32m    866\u001b[0m             \u001b[0mresponse\u001b[0m \u001b[0;34m=\u001b[0m \u001b[0mself\u001b[0m\u001b[0;34m.\u001b[0m\u001b[0m_get_cached_response\u001b[0m\u001b[0;34m(\u001b[0m\u001b[0;34m)\u001b[0m\u001b[0;34m\u001b[0m\u001b[0m\n\u001b[1;32m    867\u001b[0m         \u001b[0;32melse\u001b[0m\u001b[0;34m:\u001b[0m\u001b[0;34m\u001b[0m\u001b[0m\n\u001b[0;32m--> 868\u001b[0;31m             \u001b[0mresponse\u001b[0m \u001b[0;34m=\u001b[0m \u001b[0mself\u001b[0m\u001b[0;34m.\u001b[0m\u001b[0m_download_response\u001b[0m\u001b[0;34m(\u001b[0m\u001b[0;34m)\u001b[0m\u001b[0;34m\u001b[0m\u001b[0m\n\u001b[0m\u001b[1;32m    869\u001b[0m \u001b[0;34m\u001b[0m\u001b[0m\n\u001b[1;32m    870\u001b[0m         return minidom.parseString(_string(response).replace(\n",
      "\u001b[0;32m~/anaconda3/envs/tensorflow1.4/lib/python3.5/site-packages/pylast/__init__.py\u001b[0m in \u001b[0;36m_download_response\u001b[0;34m(self)\u001b[0m\n\u001b[1;32m    856\u001b[0m             \u001b[0;32mraise\u001b[0m \u001b[0mMalformedResponseError\u001b[0m\u001b[0;34m(\u001b[0m\u001b[0mself\u001b[0m\u001b[0;34m.\u001b[0m\u001b[0mnetwork\u001b[0m\u001b[0;34m,\u001b[0m \u001b[0me\u001b[0m\u001b[0;34m)\u001b[0m\u001b[0;34m\u001b[0m\u001b[0m\n\u001b[1;32m    857\u001b[0m \u001b[0;34m\u001b[0m\u001b[0m\n\u001b[0;32m--> 858\u001b[0;31m         \u001b[0mself\u001b[0m\u001b[0;34m.\u001b[0m\u001b[0m_check_response_for_errors\u001b[0m\u001b[0;34m(\u001b[0m\u001b[0mresponse_text\u001b[0m\u001b[0;34m)\u001b[0m\u001b[0;34m\u001b[0m\u001b[0m\n\u001b[0m\u001b[1;32m    859\u001b[0m         \u001b[0mconn\u001b[0m\u001b[0;34m.\u001b[0m\u001b[0mclose\u001b[0m\u001b[0;34m(\u001b[0m\u001b[0;34m)\u001b[0m\u001b[0;34m\u001b[0m\u001b[0m\n\u001b[1;32m    860\u001b[0m         \u001b[0;32mreturn\u001b[0m \u001b[0mresponse_text\u001b[0m\u001b[0;34m\u001b[0m\u001b[0m\n",
      "\u001b[0;32m~/anaconda3/envs/tensorflow1.4/lib/python3.5/site-packages/pylast/__init__.py\u001b[0m in \u001b[0;36m_check_response_for_errors\u001b[0;34m(self, response)\u001b[0m\n\u001b[1;32m    886\u001b[0m             \u001b[0mstatus\u001b[0m \u001b[0;34m=\u001b[0m \u001b[0me\u001b[0m\u001b[0;34m.\u001b[0m\u001b[0mgetAttribute\u001b[0m\u001b[0;34m(\u001b[0m\u001b[0;34m'code'\u001b[0m\u001b[0;34m)\u001b[0m\u001b[0;34m\u001b[0m\u001b[0m\n\u001b[1;32m    887\u001b[0m             \u001b[0mdetails\u001b[0m \u001b[0;34m=\u001b[0m \u001b[0me\u001b[0m\u001b[0;34m.\u001b[0m\u001b[0mfirstChild\u001b[0m\u001b[0;34m.\u001b[0m\u001b[0mdata\u001b[0m\u001b[0;34m.\u001b[0m\u001b[0mstrip\u001b[0m\u001b[0;34m(\u001b[0m\u001b[0;34m)\u001b[0m\u001b[0;34m\u001b[0m\u001b[0m\n\u001b[0;32m--> 888\u001b[0;31m             \u001b[0;32mraise\u001b[0m \u001b[0mWSError\u001b[0m\u001b[0;34m(\u001b[0m\u001b[0mself\u001b[0m\u001b[0;34m.\u001b[0m\u001b[0mnetwork\u001b[0m\u001b[0;34m,\u001b[0m \u001b[0mstatus\u001b[0m\u001b[0;34m,\u001b[0m \u001b[0mdetails\u001b[0m\u001b[0;34m)\u001b[0m\u001b[0;34m\u001b[0m\u001b[0m\n\u001b[0m\u001b[1;32m    889\u001b[0m \u001b[0;34m\u001b[0m\u001b[0m\n\u001b[1;32m    890\u001b[0m \u001b[0;34m\u001b[0m\u001b[0m\n",
      "\u001b[0;31mWSError\u001b[0m: Authentication Failed - You do not have permissions to access the service"
     ]
    }
   ],
   "source": [
    "# https://github.com/pylast/pylast\n",
    "import pylast\n",
    "\n",
    "# You have to have your own unique two values for API_KEY and API_SECRET\n",
    "# Obtain yours from https://www.last.fm/api/account/create for Last.fm\n",
    "API_KEY = \"PYLAST_API_KEY\"\n",
    "API_SECRET = \"PYLAST_API_SECRET\"\n",
    "\n",
    "# In order to perform a write operation you need to authenticate yourself\n",
    "username = \"PYLAST_USERNAME\"\n",
    "password_hash = pylast.md5(\"PYLAST_PASSWORD\")\n",
    "# password_hash = pylast.md5('zNF0Sx9oaYIiQafSA89YR5CF#DsXoN')\n",
    "\n",
    "network = pylast.LastFMNetwork(api_key=API_KEY, api_secret=API_SECRET,\n",
    "                               username=username, password_hash=password_hash)\n",
    "\n",
    "# Now you can use that object everywhere\n",
    "artist = network.get_artist(\"System of a Down\")\n",
    "# artist.shout(\"<3\")\n",
    "\n",
    "\n",
    "track = network.get_track(\"Iron Maiden\", \"The Nomad\")\n",
    "track.love()\n",
    "track.add_tags((\"awesome\", \"favorite\"))\n",
    "\n",
    "# Type help(pylast.LastFMNetwork) or help(pylast) in a Python interpreter\n",
    "# to get more help about anything and see examples of how it works"
   ]
  },
  {
   "cell_type": "code",
   "execution_count": null,
   "metadata": {
    "collapsed": true
   },
   "outputs": [],
   "source": []
  }
 ],
 "metadata": {
  "kernelspec": {
   "display_name": "Python 3",
   "language": "python",
   "name": "python3"
  },
  "language_info": {
   "codemirror_mode": {
    "name": "ipython",
    "version": 3
   },
   "file_extension": ".py",
   "mimetype": "text/x-python",
   "name": "python",
   "nbconvert_exporter": "python",
   "pygments_lexer": "ipython3",
   "version": "3.5.4"
  }
 },
 "nbformat": 4,
 "nbformat_minor": 2
}
