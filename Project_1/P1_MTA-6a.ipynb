{
 "cells": [
  {
   "cell_type": "markdown",
   "metadata": {},
   "source": [
    "###Problem Statement\n",
    "#[insert]\n"
   ]
  },
  {
   "cell_type": "code",
   "execution_count": null,
   "metadata": {
    "collapsed": true
   },
   "outputs": [],
   "source": []
  },
  {
   "cell_type": "code",
   "execution_count": 1,
   "metadata": {
    "collapsed": true
   },
   "outputs": [],
   "source": [
    "import pandas as pd\n",
    "import numpy as np\n",
    "import seaborn as sns\n",
    "import matplotlib.pyplot as plt"
   ]
  },
  {
   "cell_type": "code",
   "execution_count": 2,
   "metadata": {},
   "outputs": [
    {
     "name": "stderr",
     "output_type": "stream",
     "text": [
      "/Users/brianmcmahon/anaconda3/envs/tensorflow1.4/lib/python3.5/site-packages/IPython/core/interactiveshell.py:2728: DtypeWarning: Columns (4) have mixed types. Specify dtype option on import or set low_memory=False.\n",
      "  interactivity=interactivity, compiler=compiler, result=result)\n"
     ]
    },
    {
     "data": {
      "text/plain": [
       "(9492670, 11)"
      ]
     },
     "execution_count": 2,
     "metadata": {},
     "output_type": "execute_result"
    }
   ],
   "source": [
    "# https://data.ny.gov/Transportation/Turnstile-Usage-Data-2016/ekwu-khcy\n",
    "# https://data.ny.gov/api/views/ekwu-khcy/rows.csv?accessType=DOWNLOAD\n",
    "data = pd.read_csv('Turnstile_Usage_Data__2016.csv')\n",
    "data.shape"
   ]
  },
  {
   "cell_type": "code",
   "execution_count": 3,
   "metadata": {},
   "outputs": [
    {
     "data": {
      "text/plain": [
       "(9492670, 11)"
      ]
     },
     "execution_count": 3,
     "metadata": {},
     "output_type": "execute_result"
    }
   ],
   "source": [
    "df = pd.DataFrame(data)\n",
    "df.shape"
   ]
  },
  {
   "cell_type": "code",
   "execution_count": 4,
   "metadata": {},
   "outputs": [
    {
     "data": {
      "text/plain": [
       "Index(['C/A', 'Unit', 'SCP', 'Station', 'Line Name', 'Division', 'Date',\n",
       "       'Time', 'Description', 'Entries',\n",
       "       'Exits                                                     '],\n",
       "      dtype='object')"
      ]
     },
     "execution_count": 4,
     "metadata": {},
     "output_type": "execute_result"
    }
   ],
   "source": [
    "df.columns"
   ]
  },
  {
   "cell_type": "code",
   "execution_count": 5,
   "metadata": {
    "collapsed": true
   },
   "outputs": [],
   "source": [
    "df=df.rename(columns = {'Exits                                                     ':'Exits'})"
   ]
  },
  {
   "cell_type": "code",
   "execution_count": 6,
   "metadata": {},
   "outputs": [
    {
     "data": {
      "text/plain": [
       "Index(['C/A', 'Unit', 'SCP', 'Station', 'Line Name', 'Division', 'Date',\n",
       "       'Time', 'Description', 'Entries', 'Exits'],\n",
       "      dtype='object')"
      ]
     },
     "execution_count": 6,
     "metadata": {},
     "output_type": "execute_result"
    }
   ],
   "source": [
    "df.columns"
   ]
  },
  {
   "cell_type": "code",
   "execution_count": 7,
   "metadata": {},
   "outputs": [
    {
     "data": {
      "text/html": [
       "<div>\n",
       "<style scoped>\n",
       "    .dataframe tbody tr th:only-of-type {\n",
       "        vertical-align: middle;\n",
       "    }\n",
       "\n",
       "    .dataframe tbody tr th {\n",
       "        vertical-align: top;\n",
       "    }\n",
       "\n",
       "    .dataframe thead th {\n",
       "        text-align: right;\n",
       "    }\n",
       "</style>\n",
       "<table border=\"1\" class=\"dataframe\">\n",
       "  <thead>\n",
       "    <tr style=\"text-align: right;\">\n",
       "      <th></th>\n",
       "      <th>C/A</th>\n",
       "      <th>Unit</th>\n",
       "      <th>SCP</th>\n",
       "      <th>Station</th>\n",
       "      <th>Line Name</th>\n",
       "      <th>Division</th>\n",
       "      <th>Date</th>\n",
       "      <th>Time</th>\n",
       "      <th>Description</th>\n",
       "      <th>Entries</th>\n",
       "      <th>Exits</th>\n",
       "    </tr>\n",
       "  </thead>\n",
       "  <tbody>\n",
       "    <tr>\n",
       "      <th>0</th>\n",
       "      <td>A002</td>\n",
       "      <td>R051</td>\n",
       "      <td>02-00-00</td>\n",
       "      <td>59 ST</td>\n",
       "      <td>NQR456</td>\n",
       "      <td>BMT</td>\n",
       "      <td>03/04/2016</td>\n",
       "      <td>23:00:00</td>\n",
       "      <td>REGULAR</td>\n",
       "      <td>5572864</td>\n",
       "      <td>1881239</td>\n",
       "    </tr>\n",
       "    <tr>\n",
       "      <th>1</th>\n",
       "      <td>A002</td>\n",
       "      <td>R051</td>\n",
       "      <td>02-00-00</td>\n",
       "      <td>59 ST</td>\n",
       "      <td>NQR456</td>\n",
       "      <td>BMT</td>\n",
       "      <td>03/04/2016</td>\n",
       "      <td>19:00:00</td>\n",
       "      <td>REGULAR</td>\n",
       "      <td>5572521</td>\n",
       "      <td>1881206</td>\n",
       "    </tr>\n",
       "    <tr>\n",
       "      <th>2</th>\n",
       "      <td>A002</td>\n",
       "      <td>R051</td>\n",
       "      <td>02-00-00</td>\n",
       "      <td>59 ST</td>\n",
       "      <td>NQR456</td>\n",
       "      <td>BMT</td>\n",
       "      <td>03/04/2016</td>\n",
       "      <td>15:00:00</td>\n",
       "      <td>REGULAR</td>\n",
       "      <td>5571587</td>\n",
       "      <td>1881113</td>\n",
       "    </tr>\n",
       "    <tr>\n",
       "      <th>3</th>\n",
       "      <td>A002</td>\n",
       "      <td>R051</td>\n",
       "      <td>02-00-00</td>\n",
       "      <td>59 ST</td>\n",
       "      <td>NQR456</td>\n",
       "      <td>BMT</td>\n",
       "      <td>03/04/2016</td>\n",
       "      <td>11:00:00</td>\n",
       "      <td>REGULAR</td>\n",
       "      <td>5571313</td>\n",
       "      <td>1881031</td>\n",
       "    </tr>\n",
       "    <tr>\n",
       "      <th>4</th>\n",
       "      <td>A002</td>\n",
       "      <td>R051</td>\n",
       "      <td>02-00-00</td>\n",
       "      <td>59 ST</td>\n",
       "      <td>NQR456</td>\n",
       "      <td>BMT</td>\n",
       "      <td>03/04/2016</td>\n",
       "      <td>08:10:05</td>\n",
       "      <td>REGULAR</td>\n",
       "      <td>5571173</td>\n",
       "      <td>1880736</td>\n",
       "    </tr>\n",
       "  </tbody>\n",
       "</table>\n",
       "</div>"
      ],
      "text/plain": [
       "    C/A  Unit       SCP Station Line Name Division        Date      Time  \\\n",
       "0  A002  R051  02-00-00   59 ST    NQR456      BMT  03/04/2016  23:00:00   \n",
       "1  A002  R051  02-00-00   59 ST    NQR456      BMT  03/04/2016  19:00:00   \n",
       "2  A002  R051  02-00-00   59 ST    NQR456      BMT  03/04/2016  15:00:00   \n",
       "3  A002  R051  02-00-00   59 ST    NQR456      BMT  03/04/2016  11:00:00   \n",
       "4  A002  R051  02-00-00   59 ST    NQR456      BMT  03/04/2016  08:10:05   \n",
       "\n",
       "  Description  Entries    Exits  \n",
       "0     REGULAR  5572864  1881239  \n",
       "1     REGULAR  5572521  1881206  \n",
       "2     REGULAR  5571587  1881113  \n",
       "3     REGULAR  5571313  1881031  \n",
       "4     REGULAR  5571173  1880736  "
      ]
     },
     "execution_count": 7,
     "metadata": {},
     "output_type": "execute_result"
    }
   ],
   "source": [
    "df.head()"
   ]
  },
  {
   "cell_type": "code",
   "execution_count": 8,
   "metadata": {},
   "outputs": [
    {
     "data": {
      "text/html": [
       "<div>\n",
       "<style scoped>\n",
       "    .dataframe tbody tr th:only-of-type {\n",
       "        vertical-align: middle;\n",
       "    }\n",
       "\n",
       "    .dataframe tbody tr th {\n",
       "        vertical-align: top;\n",
       "    }\n",
       "\n",
       "    .dataframe thead th {\n",
       "        text-align: right;\n",
       "    }\n",
       "</style>\n",
       "<table border=\"1\" class=\"dataframe\">\n",
       "  <thead>\n",
       "    <tr style=\"text-align: right;\">\n",
       "      <th></th>\n",
       "      <th>Entries</th>\n",
       "      <th>Exits</th>\n",
       "    </tr>\n",
       "  </thead>\n",
       "  <tbody>\n",
       "    <tr>\n",
       "      <th>count</th>\n",
       "      <td>9.492670e+06</td>\n",
       "      <td>9.492670e+06</td>\n",
       "    </tr>\n",
       "    <tr>\n",
       "      <th>mean</th>\n",
       "      <td>3.542553e+07</td>\n",
       "      <td>2.850508e+07</td>\n",
       "    </tr>\n",
       "    <tr>\n",
       "      <th>std</th>\n",
       "      <td>1.953005e+08</td>\n",
       "      <td>1.754109e+08</td>\n",
       "    </tr>\n",
       "    <tr>\n",
       "      <th>min</th>\n",
       "      <td>0.000000e+00</td>\n",
       "      <td>0.000000e+00</td>\n",
       "    </tr>\n",
       "    <tr>\n",
       "      <th>25%</th>\n",
       "      <td>5.723050e+05</td>\n",
       "      <td>2.936032e+05</td>\n",
       "    </tr>\n",
       "    <tr>\n",
       "      <th>50%</th>\n",
       "      <td>2.595306e+06</td>\n",
       "      <td>1.507240e+06</td>\n",
       "    </tr>\n",
       "    <tr>\n",
       "      <th>75%</th>\n",
       "      <td>6.546587e+06</td>\n",
       "      <td>4.656424e+06</td>\n",
       "    </tr>\n",
       "    <tr>\n",
       "      <th>max</th>\n",
       "      <td>2.147480e+09</td>\n",
       "      <td>2.097170e+09</td>\n",
       "    </tr>\n",
       "  </tbody>\n",
       "</table>\n",
       "</div>"
      ],
      "text/plain": [
       "            Entries         Exits\n",
       "count  9.492670e+06  9.492670e+06\n",
       "mean   3.542553e+07  2.850508e+07\n",
       "std    1.953005e+08  1.754109e+08\n",
       "min    0.000000e+00  0.000000e+00\n",
       "25%    5.723050e+05  2.936032e+05\n",
       "50%    2.595306e+06  1.507240e+06\n",
       "75%    6.546587e+06  4.656424e+06\n",
       "max    2.147480e+09  2.097170e+09"
      ]
     },
     "execution_count": 8,
     "metadata": {},
     "output_type": "execute_result"
    }
   ],
   "source": [
    "df.describe()"
   ]
  },
  {
   "cell_type": "code",
   "execution_count": 9,
   "metadata": {},
   "outputs": [
    {
     "name": "stdout",
     "output_type": "stream",
     "text": [
      "(492670, 8)\n",
      "<class 'pandas.core.frame.DataFrame'>\n"
     ]
    }
   ],
   "source": [
    "data = df.iloc[9000000:,3:]\n",
    "print(data.shape)\n",
    "print(type(data))"
   ]
  },
  {
   "cell_type": "code",
   "execution_count": 10,
   "metadata": {},
   "outputs": [
    {
     "data": {
      "text/html": [
       "<div>\n",
       "<style scoped>\n",
       "    .dataframe tbody tr th:only-of-type {\n",
       "        vertical-align: middle;\n",
       "    }\n",
       "\n",
       "    .dataframe tbody tr th {\n",
       "        vertical-align: top;\n",
       "    }\n",
       "\n",
       "    .dataframe thead th {\n",
       "        text-align: right;\n",
       "    }\n",
       "</style>\n",
       "<table border=\"1\" class=\"dataframe\">\n",
       "  <thead>\n",
       "    <tr style=\"text-align: right;\">\n",
       "      <th></th>\n",
       "      <th>Station</th>\n",
       "      <th>Line Name</th>\n",
       "      <th>Division</th>\n",
       "      <th>Date</th>\n",
       "      <th>Time</th>\n",
       "      <th>Description</th>\n",
       "      <th>Entries</th>\n",
       "      <th>Exits</th>\n",
       "      <th>Entry_Inc</th>\n",
       "      <th>Exits_Inc</th>\n",
       "      <th>Traffic_Tot</th>\n",
       "    </tr>\n",
       "  </thead>\n",
       "  <tbody>\n",
       "    <tr>\n",
       "      <th>9000000</th>\n",
       "      <td>75 AV</td>\n",
       "      <td>EF</td>\n",
       "      <td>IND</td>\n",
       "      <td>12/03/2016</td>\n",
       "      <td>03:00:00</td>\n",
       "      <td>REGULAR</td>\n",
       "      <td>714833</td>\n",
       "      <td>200563</td>\n",
       "      <td>NaN</td>\n",
       "      <td>NaN</td>\n",
       "      <td>NaN</td>\n",
       "    </tr>\n",
       "    <tr>\n",
       "      <th>9000001</th>\n",
       "      <td>75 AV</td>\n",
       "      <td>EF</td>\n",
       "      <td>IND</td>\n",
       "      <td>12/03/2016</td>\n",
       "      <td>07:00:00</td>\n",
       "      <td>REGULAR</td>\n",
       "      <td>714833</td>\n",
       "      <td>200565</td>\n",
       "      <td>0.0</td>\n",
       "      <td>2.0</td>\n",
       "      <td>2.0</td>\n",
       "    </tr>\n",
       "    <tr>\n",
       "      <th>9000002</th>\n",
       "      <td>75 AV</td>\n",
       "      <td>EF</td>\n",
       "      <td>IND</td>\n",
       "      <td>12/03/2016</td>\n",
       "      <td>11:00:00</td>\n",
       "      <td>REGULAR</td>\n",
       "      <td>714845</td>\n",
       "      <td>200566</td>\n",
       "      <td>12.0</td>\n",
       "      <td>1.0</td>\n",
       "      <td>13.0</td>\n",
       "    </tr>\n",
       "    <tr>\n",
       "      <th>9000003</th>\n",
       "      <td>75 AV</td>\n",
       "      <td>EF</td>\n",
       "      <td>IND</td>\n",
       "      <td>12/03/2016</td>\n",
       "      <td>15:00:00</td>\n",
       "      <td>REGULAR</td>\n",
       "      <td>714858</td>\n",
       "      <td>200570</td>\n",
       "      <td>13.0</td>\n",
       "      <td>4.0</td>\n",
       "      <td>17.0</td>\n",
       "    </tr>\n",
       "    <tr>\n",
       "      <th>9000004</th>\n",
       "      <td>75 AV</td>\n",
       "      <td>EF</td>\n",
       "      <td>IND</td>\n",
       "      <td>12/03/2016</td>\n",
       "      <td>19:00:00</td>\n",
       "      <td>REGULAR</td>\n",
       "      <td>714879</td>\n",
       "      <td>200579</td>\n",
       "      <td>21.0</td>\n",
       "      <td>9.0</td>\n",
       "      <td>30.0</td>\n",
       "    </tr>\n",
       "  </tbody>\n",
       "</table>\n",
       "</div>"
      ],
      "text/plain": [
       "        Station Line Name Division        Date      Time Description  Entries  \\\n",
       "9000000   75 AV        EF      IND  12/03/2016  03:00:00     REGULAR   714833   \n",
       "9000001   75 AV        EF      IND  12/03/2016  07:00:00     REGULAR   714833   \n",
       "9000002   75 AV        EF      IND  12/03/2016  11:00:00     REGULAR   714845   \n",
       "9000003   75 AV        EF      IND  12/03/2016  15:00:00     REGULAR   714858   \n",
       "9000004   75 AV        EF      IND  12/03/2016  19:00:00     REGULAR   714879   \n",
       "\n",
       "          Exits  Entry_Inc  Exits_Inc  Traffic_Tot  \n",
       "9000000  200563        NaN        NaN          NaN  \n",
       "9000001  200565        0.0        2.0          2.0  \n",
       "9000002  200566       12.0        1.0         13.0  \n",
       "9000003  200570       13.0        4.0         17.0  \n",
       "9000004  200579       21.0        9.0         30.0  "
      ]
     },
     "execution_count": 10,
     "metadata": {},
     "output_type": "execute_result"
    }
   ],
   "source": [
    "data['Entry_Inc'] = abs(data.Entries.diff())\n",
    "data['Exits_Inc'] = abs(data.Exits.diff())\n",
    "data['Traffic_Tot'] = np.add(data.Entry_Inc, data.Exits_Inc)\n",
    "data.head()"
   ]
  },
  {
   "cell_type": "code",
   "execution_count": 11,
   "metadata": {},
   "outputs": [
    {
     "data": {
      "text/html": [
       "<div>\n",
       "<style scoped>\n",
       "    .dataframe tbody tr th:only-of-type {\n",
       "        vertical-align: middle;\n",
       "    }\n",
       "\n",
       "    .dataframe tbody tr th {\n",
       "        vertical-align: top;\n",
       "    }\n",
       "\n",
       "    .dataframe thead th {\n",
       "        text-align: right;\n",
       "    }\n",
       "</style>\n",
       "<table border=\"1\" class=\"dataframe\">\n",
       "  <thead>\n",
       "    <tr style=\"text-align: right;\">\n",
       "      <th></th>\n",
       "      <th>Station</th>\n",
       "      <th>Line Name</th>\n",
       "      <th>Division</th>\n",
       "      <th>Date</th>\n",
       "      <th>Time</th>\n",
       "      <th>Description</th>\n",
       "      <th>Entries</th>\n",
       "      <th>Exits</th>\n",
       "      <th>Entry_Inc</th>\n",
       "      <th>Exits_Inc</th>\n",
       "      <th>Traffic_Tot</th>\n",
       "    </tr>\n",
       "  </thead>\n",
       "  <tbody>\n",
       "    <tr>\n",
       "      <th>9011579</th>\n",
       "      <td>23 ST</td>\n",
       "      <td>FM</td>\n",
       "      <td>IND</td>\n",
       "      <td>12/03/2016</td>\n",
       "      <td>03:00:00</td>\n",
       "      <td>REGULAR</td>\n",
       "      <td>236787155</td>\n",
       "      <td>455911437</td>\n",
       "      <td>235879734.0</td>\n",
       "      <td>455881110.0</td>\n",
       "      <td>691760844.0</td>\n",
       "    </tr>\n",
       "    <tr>\n",
       "      <th>9011580</th>\n",
       "      <td>23 ST</td>\n",
       "      <td>FM</td>\n",
       "      <td>IND</td>\n",
       "      <td>12/03/2016</td>\n",
       "      <td>07:00:00</td>\n",
       "      <td>REGULAR</td>\n",
       "      <td>236787169</td>\n",
       "      <td>455911474</td>\n",
       "      <td>14.0</td>\n",
       "      <td>37.0</td>\n",
       "      <td>51.0</td>\n",
       "    </tr>\n",
       "    <tr>\n",
       "      <th>9011581</th>\n",
       "      <td>23 ST</td>\n",
       "      <td>FM</td>\n",
       "      <td>IND</td>\n",
       "      <td>12/03/2016</td>\n",
       "      <td>11:00:00</td>\n",
       "      <td>REGULAR</td>\n",
       "      <td>236787224</td>\n",
       "      <td>455911787</td>\n",
       "      <td>55.0</td>\n",
       "      <td>313.0</td>\n",
       "      <td>368.0</td>\n",
       "    </tr>\n",
       "    <tr>\n",
       "      <th>9011582</th>\n",
       "      <td>23 ST</td>\n",
       "      <td>FM</td>\n",
       "      <td>IND</td>\n",
       "      <td>12/03/2016</td>\n",
       "      <td>15:00:00</td>\n",
       "      <td>REGULAR</td>\n",
       "      <td>236787488</td>\n",
       "      <td>455912182</td>\n",
       "      <td>264.0</td>\n",
       "      <td>395.0</td>\n",
       "      <td>659.0</td>\n",
       "    </tr>\n",
       "    <tr>\n",
       "      <th>9011583</th>\n",
       "      <td>23 ST</td>\n",
       "      <td>FM</td>\n",
       "      <td>IND</td>\n",
       "      <td>12/03/2016</td>\n",
       "      <td>19:00:00</td>\n",
       "      <td>REGULAR</td>\n",
       "      <td>236787614</td>\n",
       "      <td>455912398</td>\n",
       "      <td>126.0</td>\n",
       "      <td>216.0</td>\n",
       "      <td>342.0</td>\n",
       "    </tr>\n",
       "  </tbody>\n",
       "</table>\n",
       "</div>"
      ],
      "text/plain": [
       "        Station Line Name Division        Date      Time Description  \\\n",
       "9011579   23 ST        FM      IND  12/03/2016  03:00:00     REGULAR   \n",
       "9011580   23 ST        FM      IND  12/03/2016  07:00:00     REGULAR   \n",
       "9011581   23 ST        FM      IND  12/03/2016  11:00:00     REGULAR   \n",
       "9011582   23 ST        FM      IND  12/03/2016  15:00:00     REGULAR   \n",
       "9011583   23 ST        FM      IND  12/03/2016  19:00:00     REGULAR   \n",
       "\n",
       "           Entries      Exits    Entry_Inc    Exits_Inc  Traffic_Tot  \n",
       "9011579  236787155  455911437  235879734.0  455881110.0  691760844.0  \n",
       "9011580  236787169  455911474         14.0         37.0         51.0  \n",
       "9011581  236787224  455911787         55.0        313.0        368.0  \n",
       "9011582  236787488  455912182        264.0        395.0        659.0  \n",
       "9011583  236787614  455912398        126.0        216.0        342.0  "
      ]
     },
     "execution_count": 11,
     "metadata": {},
     "output_type": "execute_result"
    }
   ],
   "source": [
    "data_23ST = data[data['Station'] == '23 ST']\n",
    "data_23ST = data_23ST.dropna()\n",
    "data_23ST.head()\n"
   ]
  },
  {
   "cell_type": "code",
   "execution_count": 12,
   "metadata": {},
   "outputs": [
    {
     "name": "stderr",
     "output_type": "stream",
     "text": [
      "/Users/brianmcmahon/anaconda3/envs/tensorflow1.4/lib/python3.5/site-packages/seaborn/timeseries.py:183: UserWarning: The tsplot function is deprecated and will be removed or replaced (in a substantially altered version) in a future release.\n",
      "  warnings.warn(msg, UserWarning)\n"
     ]
    },
    {
     "data": {
      "image/png": "[encoded data removed]",
      "text/plain": [
       "<matplotlib.figure.Figure at 0x1a4d196320>"
      ]
     },
     "metadata": {},
     "output_type": "display_data"
    }
   ],
   "source": [
    "ax = sns.tsplot(data_23ST['Traffic_Tot'])"
   ]
  },
  {
   "cell_type": "code",
   "execution_count": 13,
   "metadata": {},
   "outputs": [],
   "source": [
    "outlier = 10000 # rough estimate of outlier cutoff (ie no station can handle more than this amount in a 4 hour period)\n",
    "data_23ST['Entry_Inc'] = data_23ST['Entry_Inc'][data_23ST['Entry_Inc']<outlier]\n",
    "data_23ST['Exits_Inc'] = data_23ST['Exits_Inc'][data_23ST['Exits_Inc']<outlier]"
   ]
  },
  {
   "cell_type": "code",
   "execution_count": 14,
   "metadata": {},
   "outputs": [
    {
     "name": "stderr",
     "output_type": "stream",
     "text": [
      "/Users/brianmcmahon/anaconda3/envs/tensorflow1.4/lib/python3.5/site-packages/seaborn/timeseries.py:183: UserWarning: The tsplot function is deprecated and will be removed or replaced (in a substantially altered version) in a future release.\n",
      "  warnings.warn(msg, UserWarning)\n"
     ]
    },
    {
     "data": {
      "image/png": "[encoded data removed]",
      "text/plain": [
       "<matplotlib.figure.Figure at 0x1a16a41668>"
      ]
     },
     "metadata": {},
     "output_type": "display_data"
    }
   ],
   "source": [
    "ax = sns.tsplot(data_23ST['Traffic_Tot'])"
   ]
  },
  {
   "cell_type": "code",
   "execution_count": 15,
   "metadata": {
    "collapsed": true
   },
   "outputs": [],
   "source": [
    "# sns.distplot(q4b['Traffic_Tot'],bins=50)\n",
    "# sns.plt.xlim(0, 100000)"
   ]
  },
  {
   "cell_type": "code",
   "execution_count": 16,
   "metadata": {},
   "outputs": [
    {
     "data": {
      "text/html": [
       "<div>\n",
       "<style scoped>\n",
       "    .dataframe tbody tr th:only-of-type {\n",
       "        vertical-align: middle;\n",
       "    }\n",
       "\n",
       "    .dataframe tbody tr th {\n",
       "        vertical-align: top;\n",
       "    }\n",
       "\n",
       "    .dataframe thead th {\n",
       "        text-align: right;\n",
       "    }\n",
       "</style>\n",
       "<table border=\"1\" class=\"dataframe\">\n",
       "  <thead>\n",
       "    <tr style=\"text-align: right;\">\n",
       "      <th></th>\n",
       "      <th>Entries</th>\n",
       "      <th>Exits</th>\n",
       "      <th>Entry_Inc</th>\n",
       "      <th>Exits_Inc</th>\n",
       "      <th>Traffic_Tot</th>\n",
       "    </tr>\n",
       "  </thead>\n",
       "  <tbody>\n",
       "    <tr>\n",
       "      <th>count</th>\n",
       "      <td>7.735000e+03</td>\n",
       "      <td>7.735000e+03</td>\n",
       "      <td>7555.000000</td>\n",
       "      <td>7553.000000</td>\n",
       "      <td>7.735000e+03</td>\n",
       "    </tr>\n",
       "    <tr>\n",
       "      <th>mean</th>\n",
       "      <td>1.049546e+08</td>\n",
       "      <td>9.859223e+07</td>\n",
       "      <td>217.818795</td>\n",
       "      <td>165.267576</td>\n",
       "      <td>9.368778e+06</td>\n",
       "    </tr>\n",
       "    <tr>\n",
       "      <th>std</th>\n",
       "      <td>3.648428e+08</td>\n",
       "      <td>3.365641e+08</td>\n",
       "      <td>313.961773</td>\n",
       "      <td>218.829715</td>\n",
       "      <td>1.515574e+08</td>\n",
       "    </tr>\n",
       "    <tr>\n",
       "      <th>min</th>\n",
       "      <td>1.000000e+00</td>\n",
       "      <td>0.000000e+00</td>\n",
       "      <td>0.000000</td>\n",
       "      <td>0.000000</td>\n",
       "      <td>0.000000e+00</td>\n",
       "    </tr>\n",
       "    <tr>\n",
       "      <th>25%</th>\n",
       "      <td>1.384358e+06</td>\n",
       "      <td>1.021896e+06</td>\n",
       "      <td>17.000000</td>\n",
       "      <td>16.000000</td>\n",
       "      <td>4.900000e+01</td>\n",
       "    </tr>\n",
       "    <tr>\n",
       "      <th>50%</th>\n",
       "      <td>4.465675e+06</td>\n",
       "      <td>2.587617e+06</td>\n",
       "      <td>95.000000</td>\n",
       "      <td>84.000000</td>\n",
       "      <td>2.210000e+02</td>\n",
       "    </tr>\n",
       "    <tr>\n",
       "      <th>75%</th>\n",
       "      <td>8.124084e+06</td>\n",
       "      <td>9.359794e+06</td>\n",
       "      <td>306.000000</td>\n",
       "      <td>236.000000</td>\n",
       "      <td>6.220000e+02</td>\n",
       "    </tr>\n",
       "    <tr>\n",
       "      <th>max</th>\n",
       "      <td>1.997295e+09</td>\n",
       "      <td>1.930733e+09</td>\n",
       "      <td>8454.000000</td>\n",
       "      <td>1801.000000</td>\n",
       "      <td>3.740889e+09</td>\n",
       "    </tr>\n",
       "  </tbody>\n",
       "</table>\n",
       "</div>"
      ],
      "text/plain": [
       "            Entries         Exits    Entry_Inc    Exits_Inc   Traffic_Tot\n",
       "count  7.735000e+03  7.735000e+03  7555.000000  7553.000000  7.735000e+03\n",
       "mean   1.049546e+08  9.859223e+07   217.818795   165.267576  9.368778e+06\n",
       "std    3.648428e+08  3.365641e+08   313.961773   218.829715  1.515574e+08\n",
       "min    1.000000e+00  0.000000e+00     0.000000     0.000000  0.000000e+00\n",
       "25%    1.384358e+06  1.021896e+06    17.000000    16.000000  4.900000e+01\n",
       "50%    4.465675e+06  2.587617e+06    95.000000    84.000000  2.210000e+02\n",
       "75%    8.124084e+06  9.359794e+06   306.000000   236.000000  6.220000e+02\n",
       "max    1.997295e+09  1.930733e+09  8454.000000  1801.000000  3.740889e+09"
      ]
     },
     "execution_count": 16,
     "metadata": {},
     "output_type": "execute_result"
    }
   ],
   "source": [
    "data.describe()"
   ]
  },
  {
   "cell_type": "code",
   "execution_count": 17,
   "metadata": {},
   "outputs": [
    {
     "data": {
      "text/html": [
       "<div>\n",
       "<style scoped>\n",
       "    .dataframe tbody tr th:only-of-type {\n",
       "        vertical-align: middle;\n",
       "    }\n",
       "\n",
       "    .dataframe tbody tr th {\n",
       "        vertical-align: top;\n",
       "    }\n",
       "\n",
       "    .dataframe thead th {\n",
       "        text-align: right;\n",
       "    }\n",
       "</style>\n",
       "<table border=\"1\" class=\"dataframe\">\n",
       "  <thead>\n",
       "    <tr style=\"text-align: right;\">\n",
       "      <th></th>\n",
       "      <th>Station</th>\n",
       "      <th>Line Name</th>\n",
       "      <th>Division</th>\n",
       "      <th>Date</th>\n",
       "      <th>Time</th>\n",
       "      <th>Description</th>\n",
       "      <th>Entries</th>\n",
       "      <th>Exits</th>\n",
       "      <th>Entry_Inc</th>\n",
       "      <th>Exits_Inc</th>\n",
       "      <th>Traffic_Tot</th>\n",
       "    </tr>\n",
       "  </thead>\n",
       "  <tbody>\n",
       "    <tr>\n",
       "      <th>9011579</th>\n",
       "      <td>23 ST</td>\n",
       "      <td>FM</td>\n",
       "      <td>IND</td>\n",
       "      <td>12/03/2016</td>\n",
       "      <td>03:00:00</td>\n",
       "      <td>REGULAR</td>\n",
       "      <td>236787155</td>\n",
       "      <td>455911437</td>\n",
       "      <td>NaN</td>\n",
       "      <td>NaN</td>\n",
       "      <td>691760844.0</td>\n",
       "    </tr>\n",
       "    <tr>\n",
       "      <th>9011580</th>\n",
       "      <td>23 ST</td>\n",
       "      <td>FM</td>\n",
       "      <td>IND</td>\n",
       "      <td>12/03/2016</td>\n",
       "      <td>07:00:00</td>\n",
       "      <td>REGULAR</td>\n",
       "      <td>236787169</td>\n",
       "      <td>455911474</td>\n",
       "      <td>14.0</td>\n",
       "      <td>37.0</td>\n",
       "      <td>51.0</td>\n",
       "    </tr>\n",
       "    <tr>\n",
       "      <th>9011581</th>\n",
       "      <td>23 ST</td>\n",
       "      <td>FM</td>\n",
       "      <td>IND</td>\n",
       "      <td>12/03/2016</td>\n",
       "      <td>11:00:00</td>\n",
       "      <td>REGULAR</td>\n",
       "      <td>236787224</td>\n",
       "      <td>455911787</td>\n",
       "      <td>55.0</td>\n",
       "      <td>313.0</td>\n",
       "      <td>368.0</td>\n",
       "    </tr>\n",
       "    <tr>\n",
       "      <th>9011582</th>\n",
       "      <td>23 ST</td>\n",
       "      <td>FM</td>\n",
       "      <td>IND</td>\n",
       "      <td>12/03/2016</td>\n",
       "      <td>15:00:00</td>\n",
       "      <td>REGULAR</td>\n",
       "      <td>236787488</td>\n",
       "      <td>455912182</td>\n",
       "      <td>264.0</td>\n",
       "      <td>395.0</td>\n",
       "      <td>659.0</td>\n",
       "    </tr>\n",
       "    <tr>\n",
       "      <th>9011583</th>\n",
       "      <td>23 ST</td>\n",
       "      <td>FM</td>\n",
       "      <td>IND</td>\n",
       "      <td>12/03/2016</td>\n",
       "      <td>19:00:00</td>\n",
       "      <td>REGULAR</td>\n",
       "      <td>236787614</td>\n",
       "      <td>455912398</td>\n",
       "      <td>126.0</td>\n",
       "      <td>216.0</td>\n",
       "      <td>342.0</td>\n",
       "    </tr>\n",
       "  </tbody>\n",
       "</table>\n",
       "</div>"
      ],
      "text/plain": [
       "        Station Line Name Division        Date      Time Description  \\\n",
       "9011579   23 ST        FM      IND  12/03/2016  03:00:00     REGULAR   \n",
       "9011580   23 ST        FM      IND  12/03/2016  07:00:00     REGULAR   \n",
       "9011581   23 ST        FM      IND  12/03/2016  11:00:00     REGULAR   \n",
       "9011582   23 ST        FM      IND  12/03/2016  15:00:00     REGULAR   \n",
       "9011583   23 ST        FM      IND  12/03/2016  19:00:00     REGULAR   \n",
       "\n",
       "           Entries      Exits  Entry_Inc  Exits_Inc  Traffic_Tot  \n",
       "9011579  236787155  455911437        NaN        NaN  691760844.0  \n",
       "9011580  236787169  455911474       14.0       37.0         51.0  \n",
       "9011581  236787224  455911787       55.0      313.0        368.0  \n",
       "9011582  236787488  455912182      264.0      395.0        659.0  \n",
       "9011583  236787614  455912398      126.0      216.0        342.0  "
      ]
     },
     "execution_count": 17,
     "metadata": {},
     "output_type": "execute_result"
    }
   ],
   "source": [
    "# aggregate by station then by day\n",
    "# add columns for incremental change by day\n",
    "# remove outliers\n",
    "# per station, two sep analyses: group by time, and group by date, weekday/weekend\n",
    "\n",
    "\n",
    "data.head()"
   ]
  },
  {
   "cell_type": "code",
   "execution_count": 18,
   "metadata": {
    "collapsed": true
   },
   "outputs": [],
   "source": [
    "# outlier = 10000 # rough estimate of outlier cutoff (ie no station can handle more than this amount in a 4 hour period)\n",
    "# q4['Entry_Inc'] = q4['Entry_Inc'][q4['Entry_Inc']<outlier]\n",
    "# q4['Exits_Inc'] = q4['Exits_Inc'][q4['Exits_Inc']<outlier]"
   ]
  },
  {
   "cell_type": "code",
   "execution_count": 19,
   "metadata": {},
   "outputs": [
    {
     "name": "stdout",
     "output_type": "stream",
     "text": [
      "count    7555.000000\n",
      "mean      217.818795\n",
      "std       313.961773\n",
      "min         0.000000\n",
      "25%        17.000000\n",
      "50%        95.000000\n",
      "75%       306.000000\n",
      "max      8454.000000\n",
      "Name: Entry_Inc, dtype: float64\n",
      "count    7553.000000\n",
      "mean      165.267576\n",
      "std       218.829715\n",
      "min         0.000000\n",
      "25%        16.000000\n",
      "50%        84.000000\n",
      "75%       236.000000\n",
      "max      1801.000000\n",
      "Name: Exits_Inc, dtype: float64\n"
     ]
    }
   ],
   "source": [
    "print(data['Entry_Inc'].describe())\n",
    "print(data['Exits_Inc'].describe())"
   ]
  },
  {
   "cell_type": "code",
   "execution_count": null,
   "metadata": {
    "collapsed": true
   },
   "outputs": [],
   "source": []
  },
  {
   "cell_type": "code",
   "execution_count": null,
   "metadata": {
    "collapsed": true
   },
   "outputs": [],
   "source": []
  },
  {
   "cell_type": "code",
   "execution_count": 20,
   "metadata": {},
   "outputs": [
    {
     "data": {
      "text/html": [
       "<div>\n",
       "<style scoped>\n",
       "    .dataframe tbody tr th:only-of-type {\n",
       "        vertical-align: middle;\n",
       "    }\n",
       "\n",
       "    .dataframe tbody tr th {\n",
       "        vertical-align: top;\n",
       "    }\n",
       "\n",
       "    .dataframe thead th {\n",
       "        text-align: right;\n",
       "    }\n",
       "</style>\n",
       "<table border=\"1\" class=\"dataframe\">\n",
       "  <thead>\n",
       "    <tr style=\"text-align: right;\">\n",
       "      <th></th>\n",
       "      <th></th>\n",
       "      <th></th>\n",
       "      <th>Entries</th>\n",
       "      <th>Exits</th>\n",
       "      <th>Entry_Inc</th>\n",
       "      <th>Exits_Inc</th>\n",
       "      <th>Traffic_Tot</th>\n",
       "    </tr>\n",
       "    <tr>\n",
       "      <th>Station</th>\n",
       "      <th>Date</th>\n",
       "      <th>Time</th>\n",
       "      <th></th>\n",
       "      <th></th>\n",
       "      <th></th>\n",
       "      <th></th>\n",
       "      <th></th>\n",
       "    </tr>\n",
       "  </thead>\n",
       "  <tbody>\n",
       "    <tr>\n",
       "      <th rowspan=\"5\" valign=\"top\">23 ST</th>\n",
       "      <th rowspan=\"5\" valign=\"top\">12/03/2016</th>\n",
       "      <th>00:00:00</th>\n",
       "      <td>3112889135</td>\n",
       "      <td>2715656450</td>\n",
       "      <td>1276.0</td>\n",
       "      <td>1448.0</td>\n",
       "      <td>1.223380e+10</td>\n",
       "    </tr>\n",
       "    <tr>\n",
       "      <th>03:00:00</th>\n",
       "      <td>3106627484</td>\n",
       "      <td>3258143258</td>\n",
       "      <td>8454.0</td>\n",
       "      <td>0.0</td>\n",
       "      <td>7.510839e+09</td>\n",
       "    </tr>\n",
       "    <tr>\n",
       "      <th>04:00:00</th>\n",
       "      <td>3112890256</td>\n",
       "      <td>2715656887</td>\n",
       "      <td>1251.0</td>\n",
       "      <td>527.0</td>\n",
       "      <td>1.778000e+03</td>\n",
       "    </tr>\n",
       "    <tr>\n",
       "      <th>07:00:00</th>\n",
       "      <td>3106627638</td>\n",
       "      <td>3258143487</td>\n",
       "      <td>202.0</td>\n",
       "      <td>229.0</td>\n",
       "      <td>4.310000e+02</td>\n",
       "    </tr>\n",
       "    <tr>\n",
       "      <th>08:00:00</th>\n",
       "      <td>3112890717</td>\n",
       "      <td>2715658018</td>\n",
       "      <td>503.0</td>\n",
       "      <td>1297.0</td>\n",
       "      <td>1.800000e+03</td>\n",
       "    </tr>\n",
       "  </tbody>\n",
       "</table>\n",
       "</div>"
      ],
      "text/plain": [
       "                                Entries       Exits  Entry_Inc  Exits_Inc  \\\n",
       "Station Date       Time                                                     \n",
       "23 ST   12/03/2016 00:00:00  3112889135  2715656450     1276.0     1448.0   \n",
       "                   03:00:00  3106627484  3258143258     8454.0        0.0   \n",
       "                   04:00:00  3112890256  2715656887     1251.0      527.0   \n",
       "                   07:00:00  3106627638  3258143487      202.0      229.0   \n",
       "                   08:00:00  3112890717  2715658018      503.0     1297.0   \n",
       "\n",
       "                              Traffic_Tot  \n",
       "Station Date       Time                    \n",
       "23 ST   12/03/2016 00:00:00  1.223380e+10  \n",
       "                   03:00:00  7.510839e+09  \n",
       "                   04:00:00  1.778000e+03  \n",
       "                   07:00:00  4.310000e+02  \n",
       "                   08:00:00  1.800000e+03  "
      ]
     },
     "execution_count": 20,
     "metadata": {},
     "output_type": "execute_result"
    }
   ],
   "source": [
    "data_stndatetime = data.groupby([ \"Station\", \"Date\",'Time']).sum()\n",
    "data_stndatetime.head()"
   ]
  },
  {
   "cell_type": "code",
   "execution_count": 21,
   "metadata": {},
   "outputs": [
    {
     "data": {
      "text/html": [
       "<div>\n",
       "<style scoped>\n",
       "    .dataframe tbody tr th:only-of-type {\n",
       "        vertical-align: middle;\n",
       "    }\n",
       "\n",
       "    .dataframe tbody tr th {\n",
       "        vertical-align: top;\n",
       "    }\n",
       "\n",
       "    .dataframe thead th {\n",
       "        text-align: right;\n",
       "    }\n",
       "</style>\n",
       "<table border=\"1\" class=\"dataframe\">\n",
       "  <thead>\n",
       "    <tr style=\"text-align: right;\">\n",
       "      <th></th>\n",
       "      <th>Entries</th>\n",
       "      <th>Exits</th>\n",
       "      <th>Entry_Inc</th>\n",
       "      <th>Exits_Inc</th>\n",
       "      <th>Traffic_Tot</th>\n",
       "    </tr>\n",
       "    <tr>\n",
       "      <th>Station</th>\n",
       "      <th></th>\n",
       "      <th></th>\n",
       "      <th></th>\n",
       "      <th></th>\n",
       "      <th></th>\n",
       "    </tr>\n",
       "  </thead>\n",
       "  <tbody>\n",
       "    <tr>\n",
       "      <th>23 ST</th>\n",
       "      <td>811823469426</td>\n",
       "      <td>762610906220</td>\n",
       "      <td>1645621.0</td>\n",
       "      <td>1248266.0</td>\n",
       "      <td>7.246750e+10</td>\n",
       "    </tr>\n",
       "  </tbody>\n",
       "</table>\n",
       "</div>"
      ],
      "text/plain": [
       "              Entries         Exits  Entry_Inc  Exits_Inc   Traffic_Tot\n",
       "Station                                                                \n",
       "23 ST    811823469426  762610906220  1645621.0  1248266.0  7.246750e+10"
      ]
     },
     "execution_count": 21,
     "metadata": {},
     "output_type": "execute_result"
    }
   ],
   "source": [
    "data_stn = data.groupby([ \"Station\"]).sum()\n",
    "data_stn.head()"
   ]
  },
  {
   "cell_type": "code",
   "execution_count": 22,
   "metadata": {},
   "outputs": [
    {
     "data": {
      "text/html": [
       "<div>\n",
       "<style scoped>\n",
       "    .dataframe tbody tr th:only-of-type {\n",
       "        vertical-align: middle;\n",
       "    }\n",
       "\n",
       "    .dataframe tbody tr th {\n",
       "        vertical-align: top;\n",
       "    }\n",
       "\n",
       "    .dataframe thead th {\n",
       "        text-align: right;\n",
       "    }\n",
       "</style>\n",
       "<table border=\"1\" class=\"dataframe\">\n",
       "  <thead>\n",
       "    <tr style=\"text-align: right;\">\n",
       "      <th></th>\n",
       "      <th>Entries</th>\n",
       "      <th>Exits</th>\n",
       "      <th>Entry_Inc</th>\n",
       "      <th>Exits_Inc</th>\n",
       "      <th>Traffic_Tot</th>\n",
       "    </tr>\n",
       "    <tr>\n",
       "      <th>Station</th>\n",
       "      <th></th>\n",
       "      <th></th>\n",
       "      <th></th>\n",
       "      <th></th>\n",
       "      <th></th>\n",
       "    </tr>\n",
       "  </thead>\n",
       "  <tbody>\n",
       "    <tr>\n",
       "      <th>23 ST</th>\n",
       "      <td>811823469426</td>\n",
       "      <td>762610906220</td>\n",
       "      <td>1645621.0</td>\n",
       "      <td>1248266.0</td>\n",
       "      <td>7.246750e+10</td>\n",
       "    </tr>\n",
       "  </tbody>\n",
       "</table>\n",
       "</div>"
      ],
      "text/plain": [
       "              Entries         Exits  Entry_Inc  Exits_Inc   Traffic_Tot\n",
       "Station                                                                \n",
       "23 ST    811823469426  762610906220  1645621.0  1248266.0  7.246750e+10"
      ]
     },
     "execution_count": 22,
     "metadata": {},
     "output_type": "execute_result"
    }
   ],
   "source": [
    "data_stn = pd.DataFrame(data_stn)\n",
    "data_stn.head()"
   ]
  },
  {
   "cell_type": "code",
   "execution_count": 23,
   "metadata": {},
   "outputs": [
    {
     "data": {
      "text/html": [
       "<div>\n",
       "<style scoped>\n",
       "    .dataframe tbody tr th:only-of-type {\n",
       "        vertical-align: middle;\n",
       "    }\n",
       "\n",
       "    .dataframe tbody tr th {\n",
       "        vertical-align: top;\n",
       "    }\n",
       "\n",
       "    .dataframe thead th {\n",
       "        text-align: right;\n",
       "    }\n",
       "</style>\n",
       "<table border=\"1\" class=\"dataframe\">\n",
       "  <thead>\n",
       "    <tr style=\"text-align: right;\">\n",
       "      <th></th>\n",
       "      <th>Entries</th>\n",
       "      <th>Exits</th>\n",
       "      <th>Entry_Inc</th>\n",
       "      <th>Exits_Inc</th>\n",
       "      <th>Traffic_Tot</th>\n",
       "      <th>Station_ID</th>\n",
       "    </tr>\n",
       "    <tr>\n",
       "      <th>Station</th>\n",
       "      <th></th>\n",
       "      <th></th>\n",
       "      <th></th>\n",
       "      <th></th>\n",
       "      <th></th>\n",
       "      <th></th>\n",
       "    </tr>\n",
       "  </thead>\n",
       "  <tbody>\n",
       "    <tr>\n",
       "      <th>23 ST</th>\n",
       "      <td>811823469426</td>\n",
       "      <td>762610906220</td>\n",
       "      <td>1645621.0</td>\n",
       "      <td>1248266.0</td>\n",
       "      <td>7.246750e+10</td>\n",
       "      <td>23 ST</td>\n",
       "    </tr>\n",
       "  </tbody>\n",
       "</table>\n",
       "</div>"
      ],
      "text/plain": [
       "              Entries         Exits  Entry_Inc  Exits_Inc   Traffic_Tot  \\\n",
       "Station                                                                   \n",
       "23 ST    811823469426  762610906220  1645621.0  1248266.0  7.246750e+10   \n",
       "\n",
       "        Station_ID  \n",
       "Station             \n",
       "23 ST        23 ST  "
      ]
     },
     "execution_count": 23,
     "metadata": {},
     "output_type": "execute_result"
    }
   ],
   "source": [
    "data_stn['Station_ID'] = data_stn.index\n",
    "data_stn.head()"
   ]
  },
  {
   "cell_type": "code",
   "execution_count": 24,
   "metadata": {},
   "outputs": [
    {
     "data": {
      "text/html": [
       "<div>\n",
       "<style scoped>\n",
       "    .dataframe tbody tr th:only-of-type {\n",
       "        vertical-align: middle;\n",
       "    }\n",
       "\n",
       "    .dataframe tbody tr th {\n",
       "        vertical-align: top;\n",
       "    }\n",
       "\n",
       "    .dataframe thead th {\n",
       "        text-align: right;\n",
       "    }\n",
       "</style>\n",
       "<table border=\"1\" class=\"dataframe\">\n",
       "  <thead>\n",
       "    <tr style=\"text-align: right;\">\n",
       "      <th></th>\n",
       "      <th>Entries</th>\n",
       "      <th>Exits</th>\n",
       "      <th>Entry_Inc</th>\n",
       "      <th>Exits_Inc</th>\n",
       "      <th>Traffic_Tot</th>\n",
       "      <th>Station_ID</th>\n",
       "    </tr>\n",
       "    <tr>\n",
       "      <th>Station</th>\n",
       "      <th></th>\n",
       "      <th></th>\n",
       "      <th></th>\n",
       "      <th></th>\n",
       "      <th></th>\n",
       "      <th></th>\n",
       "    </tr>\n",
       "  </thead>\n",
       "  <tbody>\n",
       "    <tr>\n",
       "      <th>23 ST</th>\n",
       "      <td>811823469426</td>\n",
       "      <td>762610906220</td>\n",
       "      <td>1645621.0</td>\n",
       "      <td>1248266.0</td>\n",
       "      <td>7.246750e+10</td>\n",
       "      <td>23 ST</td>\n",
       "    </tr>\n",
       "  </tbody>\n",
       "</table>\n",
       "</div>"
      ],
      "text/plain": [
       "              Entries         Exits  Entry_Inc  Exits_Inc   Traffic_Tot  \\\n",
       "Station                                                                   \n",
       "23 ST    811823469426  762610906220  1645621.0  1248266.0  7.246750e+10   \n",
       "\n",
       "        Station_ID  \n",
       "Station             \n",
       "23 ST        23 ST  "
      ]
     },
     "execution_count": 24,
     "metadata": {},
     "output_type": "execute_result"
    }
   ],
   "source": [
    "q4_stn = q4_stn.sort_values(['Traffic_Tot'], ascending=[False])\n",
    "q4_stn.head()"
   ]
  },
  {
   "cell_type": "code",
   "execution_count": 25,
   "metadata": {},
   "outputs": [
    {
     "data": {
      "text/html": [
       "<div>\n",
       "<style scoped>\n",
       "    .dataframe tbody tr th:only-of-type {\n",
       "        vertical-align: middle;\n",
       "    }\n",
       "\n",
       "    .dataframe tbody tr th {\n",
       "        vertical-align: top;\n",
       "    }\n",
       "\n",
       "    .dataframe thead th {\n",
       "        text-align: right;\n",
       "    }\n",
       "</style>\n",
       "<table border=\"1\" class=\"dataframe\">\n",
       "  <thead>\n",
       "    <tr style=\"text-align: right;\">\n",
       "      <th></th>\n",
       "      <th>Entries</th>\n",
       "      <th>Exits</th>\n",
       "      <th>Entry_Inc</th>\n",
       "      <th>Exits_Inc</th>\n",
       "      <th>Traffic_Tot</th>\n",
       "      <th>Station_ID</th>\n",
       "      <th>Idx</th>\n",
       "    </tr>\n",
       "    <tr>\n",
       "      <th>Station</th>\n",
       "      <th></th>\n",
       "      <th></th>\n",
       "      <th></th>\n",
       "      <th></th>\n",
       "      <th></th>\n",
       "      <th></th>\n",
       "      <th></th>\n",
       "    </tr>\n",
       "  </thead>\n",
       "  <tbody>\n",
       "    <tr>\n",
       "      <th>23 ST</th>\n",
       "      <td>811823469426</td>\n",
       "      <td>762610906220</td>\n",
       "      <td>1645621.0</td>\n",
       "      <td>1248266.0</td>\n",
       "      <td>7.246750e+10</td>\n",
       "      <td>23 ST</td>\n",
       "      <td>0</td>\n",
       "    </tr>\n",
       "  </tbody>\n",
       "</table>\n",
       "</div>"
      ],
      "text/plain": [
       "              Entries         Exits  Entry_Inc  Exits_Inc   Traffic_Tot  \\\n",
       "Station                                                                   \n",
       "23 ST    811823469426  762610906220  1645621.0  1248266.0  7.246750e+10   \n",
       "\n",
       "        Station_ID  Idx  \n",
       "Station                  \n",
       "23 ST        23 ST    0  "
      ]
     },
     "execution_count": 25,
     "metadata": {},
     "output_type": "execute_result"
    }
   ],
   "source": [
    "q4_stn['Idx'] = np.arange(q4_stn.shape[0])\n",
    "q4_stn.head()"
   ]
  },
  {
   "cell_type": "code",
   "execution_count": null,
   "metadata": {
    "collapsed": true
   },
   "outputs": [],
   "source": []
  },
  {
   "cell_type": "code",
   "execution_count": 26,
   "metadata": {},
   "outputs": [
    {
     "data": {
      "text/html": [
       "<div>\n",
       "<style scoped>\n",
       "    .dataframe tbody tr th:only-of-type {\n",
       "        vertical-align: middle;\n",
       "    }\n",
       "\n",
       "    .dataframe tbody tr th {\n",
       "        vertical-align: top;\n",
       "    }\n",
       "\n",
       "    .dataframe thead th {\n",
       "        text-align: right;\n",
       "    }\n",
       "</style>\n",
       "<table border=\"1\" class=\"dataframe\">\n",
       "  <thead>\n",
       "    <tr style=\"text-align: right;\">\n",
       "      <th></th>\n",
       "      <th>Entries</th>\n",
       "      <th>Exits</th>\n",
       "      <th>Entry_Inc</th>\n",
       "      <th>Exits_Inc</th>\n",
       "      <th>Traffic_Tot</th>\n",
       "      <th>Station_ID</th>\n",
       "    </tr>\n",
       "    <tr>\n",
       "      <th>Idx</th>\n",
       "      <th></th>\n",
       "      <th></th>\n",
       "      <th></th>\n",
       "      <th></th>\n",
       "      <th></th>\n",
       "      <th></th>\n",
       "    </tr>\n",
       "  </thead>\n",
       "  <tbody>\n",
       "    <tr>\n",
       "      <th>0</th>\n",
       "      <td>811823469426</td>\n",
       "      <td>762610906220</td>\n",
       "      <td>1645621.0</td>\n",
       "      <td>1248266.0</td>\n",
       "      <td>7.246750e+10</td>\n",
       "      <td>23 ST</td>\n",
       "    </tr>\n",
       "  </tbody>\n",
       "</table>\n",
       "</div>"
      ],
      "text/plain": [
       "          Entries         Exits  Entry_Inc  Exits_Inc   Traffic_Tot Station_ID\n",
       "Idx                                                                           \n",
       "0    811823469426  762610906220  1645621.0  1248266.0  7.246750e+10      23 ST"
      ]
     },
     "execution_count": 26,
     "metadata": {},
     "output_type": "execute_result"
    }
   ],
   "source": [
    "q4_stn = q4_stn.set_index('Idx')\n",
    "q4_stn.head()"
   ]
  },
  {
   "cell_type": "code",
   "execution_count": null,
   "metadata": {
    "collapsed": true
   },
   "outputs": [],
   "source": []
  },
  {
   "cell_type": "code",
   "execution_count": 27,
   "metadata": {
    "collapsed": true
   },
   "outputs": [],
   "source": [
    "# demographic data: NYC census\n",
    "# map of startups in NYC\n",
    "# calendar of tech events\n",
    "# unicorn \n",
    "\n",
    "import seaborn as sns\n",
    "sns.set_style(\"whitegrid\")\n"
   ]
  },
  {
   "cell_type": "code",
   "execution_count": 28,
   "metadata": {},
   "outputs": [
    {
     "data": {
      "text/html": [
       "<div>\n",
       "<style scoped>\n",
       "    .dataframe tbody tr th:only-of-type {\n",
       "        vertical-align: middle;\n",
       "    }\n",
       "\n",
       "    .dataframe tbody tr th {\n",
       "        vertical-align: top;\n",
       "    }\n",
       "\n",
       "    .dataframe thead th {\n",
       "        text-align: right;\n",
       "    }\n",
       "</style>\n",
       "<table border=\"1\" class=\"dataframe\">\n",
       "  <thead>\n",
       "    <tr style=\"text-align: right;\">\n",
       "      <th></th>\n",
       "      <th>Entries</th>\n",
       "      <th>Exits</th>\n",
       "      <th>Entry_Inc</th>\n",
       "      <th>Exits_Inc</th>\n",
       "      <th>Traffic_Tot</th>\n",
       "      <th>Station_ID</th>\n",
       "    </tr>\n",
       "    <tr>\n",
       "      <th>Idx</th>\n",
       "      <th></th>\n",
       "      <th></th>\n",
       "      <th></th>\n",
       "      <th></th>\n",
       "      <th></th>\n",
       "      <th></th>\n",
       "    </tr>\n",
       "  </thead>\n",
       "  <tbody>\n",
       "    <tr>\n",
       "      <th>0</th>\n",
       "      <td>811823469426</td>\n",
       "      <td>762610906220</td>\n",
       "      <td>1645621.0</td>\n",
       "      <td>1248266.0</td>\n",
       "      <td>7.246750e+10</td>\n",
       "      <td>23 ST</td>\n",
       "    </tr>\n",
       "  </tbody>\n",
       "</table>\n",
       "</div>"
      ],
      "text/plain": [
       "          Entries         Exits  Entry_Inc  Exits_Inc   Traffic_Tot Station_ID\n",
       "Idx                                                                           \n",
       "0    811823469426  762610906220  1645621.0  1248266.0  7.246750e+10      23 ST"
      ]
     },
     "execution_count": 28,
     "metadata": {},
     "output_type": "execute_result"
    }
   ],
   "source": [
    "q4_stn = q4_stn.iloc[:20,:] # limit to 10 most active stations\n",
    "q4_stn\n"
   ]
  },
  {
   "cell_type": "code",
   "execution_count": 29,
   "metadata": {},
   "outputs": [
    {
     "data": {
      "image/png": "[encoded data removed]",
      "text/plain": [
       "<matplotlib.figure.Figure at 0x11103ccf8>"
      ]
     },
     "metadata": {},
     "output_type": "display_data"
    }
   ],
   "source": [
    "ax = sns.barplot(x=\"Traffic_Tot\", y='Station_ID', data=q4_stn)\n"
   ]
  },
  {
   "cell_type": "code",
   "execution_count": null,
   "metadata": {
    "collapsed": true
   },
   "outputs": [],
   "source": []
  },
  {
   "cell_type": "code",
   "execution_count": 30,
   "metadata": {
    "collapsed": true
   },
   "outputs": [],
   "source": [
    "# PROBLEM STATEMENT\n",
    "# Optimize utilization of street teams by using data science by utilizing MTA \n",
    "# and [Demographic] data\n",
    "\n",
    "# PRESENTATION\n",
    "# Executive Summary / Scenario\n",
    "# MTA findings\n",
    "# Demographic findings\n",
    "# Combined MTA/Demo Analysis\n",
    "# Conclusion\n",
    "# Q&A\n",
    "\n",
    "# TODO:\n",
    "# Map which includes demographic data (ie income) and station activity (by size of dot)\n",
    "# Analyze top stations by time period (season, month, week, day, hour)\n",
    "# add lat/long\n",
    "# vet data better / graph "
   ]
  }
 ],
 "metadata": {
  "kernelspec": {
   "display_name": "Python 3",
   "language": "python",
   "name": "python3"
  },
  "language_info": {
   "codemirror_mode": {
    "name": "ipython",
    "version": 3
   },
   "file_extension": ".py",
   "mimetype": "text/x-python",
   "name": "python",
   "nbconvert_exporter": "python",
   "pygments_lexer": "ipython3",
   "version": "3.5.4"
  }
 },
 "nbformat": 4,
 "nbformat_minor": 2
}
