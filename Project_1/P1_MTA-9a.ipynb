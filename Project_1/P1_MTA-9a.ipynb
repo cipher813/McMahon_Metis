{
 "cells": [
  {
   "cell_type": "markdown",
   "metadata": {},
   "source": [
    "### Problem Statement\n",
    "[insert]\n"
   ]
  },
  {
   "cell_type": "markdown",
   "metadata": {
    "collapsed": true
   },
   "source": [
    "### Import Data"
   ]
  },
  {
   "cell_type": "code",
   "execution_count": 1,
   "metadata": {
    "collapsed": true
   },
   "outputs": [],
   "source": [
    "import pandas as pd\n",
    "import numpy as np\n",
    "import seaborn as sns\n",
    "import matplotlib.pyplot as plt"
   ]
  },
  {
   "cell_type": "code",
   "execution_count": 2,
   "metadata": {},
   "outputs": [
    {
     "data": {
      "text/html": [
       "<div>\n",
       "<style scoped>\n",
       "    .dataframe tbody tr th:only-of-type {\n",
       "        vertical-align: middle;\n",
       "    }\n",
       "\n",
       "    .dataframe tbody tr th {\n",
       "        vertical-align: top;\n",
       "    }\n",
       "\n",
       "    .dataframe thead th {\n",
       "        text-align: right;\n",
       "    }\n",
       "</style>\n",
       "<table border=\"1\" class=\"dataframe\">\n",
       "  <thead>\n",
       "    <tr style=\"text-align: right;\">\n",
       "      <th></th>\n",
       "      <th>C/A</th>\n",
       "      <th>Unit</th>\n",
       "      <th>SCP</th>\n",
       "      <th>Station</th>\n",
       "      <th>Line Name</th>\n",
       "      <th>Division</th>\n",
       "      <th>Date</th>\n",
       "      <th>Time</th>\n",
       "      <th>Description</th>\n",
       "      <th>Entries</th>\n",
       "      <th>Exits</th>\n",
       "    </tr>\n",
       "  </thead>\n",
       "  <tbody>\n",
       "    <tr>\n",
       "      <th>0</th>\n",
       "      <td>A002</td>\n",
       "      <td>R051</td>\n",
       "      <td>02-00-00</td>\n",
       "      <td>59 ST</td>\n",
       "      <td>NQR456</td>\n",
       "      <td>BMT</td>\n",
       "      <td>03/04/2016</td>\n",
       "      <td>23:00:00</td>\n",
       "      <td>REGULAR</td>\n",
       "      <td>5572864</td>\n",
       "      <td>1881239</td>\n",
       "    </tr>\n",
       "    <tr>\n",
       "      <th>1</th>\n",
       "      <td>A002</td>\n",
       "      <td>R051</td>\n",
       "      <td>02-00-00</td>\n",
       "      <td>59 ST</td>\n",
       "      <td>NQR456</td>\n",
       "      <td>BMT</td>\n",
       "      <td>03/04/2016</td>\n",
       "      <td>19:00:00</td>\n",
       "      <td>REGULAR</td>\n",
       "      <td>5572521</td>\n",
       "      <td>1881206</td>\n",
       "    </tr>\n",
       "    <tr>\n",
       "      <th>2</th>\n",
       "      <td>A002</td>\n",
       "      <td>R051</td>\n",
       "      <td>02-00-00</td>\n",
       "      <td>59 ST</td>\n",
       "      <td>NQR456</td>\n",
       "      <td>BMT</td>\n",
       "      <td>03/04/2016</td>\n",
       "      <td>15:00:00</td>\n",
       "      <td>REGULAR</td>\n",
       "      <td>5571587</td>\n",
       "      <td>1881113</td>\n",
       "    </tr>\n",
       "    <tr>\n",
       "      <th>3</th>\n",
       "      <td>A002</td>\n",
       "      <td>R051</td>\n",
       "      <td>02-00-00</td>\n",
       "      <td>59 ST</td>\n",
       "      <td>NQR456</td>\n",
       "      <td>BMT</td>\n",
       "      <td>03/04/2016</td>\n",
       "      <td>11:00:00</td>\n",
       "      <td>REGULAR</td>\n",
       "      <td>5571313</td>\n",
       "      <td>1881031</td>\n",
       "    </tr>\n",
       "    <tr>\n",
       "      <th>4</th>\n",
       "      <td>A002</td>\n",
       "      <td>R051</td>\n",
       "      <td>02-00-00</td>\n",
       "      <td>59 ST</td>\n",
       "      <td>NQR456</td>\n",
       "      <td>BMT</td>\n",
       "      <td>03/04/2016</td>\n",
       "      <td>08:10:05</td>\n",
       "      <td>REGULAR</td>\n",
       "      <td>5571173</td>\n",
       "      <td>1880736</td>\n",
       "    </tr>\n",
       "  </tbody>\n",
       "</table>\n",
       "</div>"
      ],
      "text/plain": [
       "    C/A  Unit       SCP Station Line Name Division        Date      Time  \\\n",
       "0  A002  R051  02-00-00   59 ST    NQR456      BMT  03/04/2016  23:00:00   \n",
       "1  A002  R051  02-00-00   59 ST    NQR456      BMT  03/04/2016  19:00:00   \n",
       "2  A002  R051  02-00-00   59 ST    NQR456      BMT  03/04/2016  15:00:00   \n",
       "3  A002  R051  02-00-00   59 ST    NQR456      BMT  03/04/2016  11:00:00   \n",
       "4  A002  R051  02-00-00   59 ST    NQR456      BMT  03/04/2016  08:10:05   \n",
       "\n",
       "  Description  Entries    Exits  \n",
       "0     REGULAR  5572864  1881239  \n",
       "1     REGULAR  5572521  1881206  \n",
       "2     REGULAR  5571587  1881113  \n",
       "3     REGULAR  5571313  1881031  \n",
       "4     REGULAR  5571173  1880736  "
      ]
     },
     "execution_count": 2,
     "metadata": {},
     "output_type": "execute_result"
    }
   ],
   "source": [
    "# https://data.ny.gov/Transportation/Turnstile-Usage-Data-2016/ekwu-khcy\n",
    "# https://data.ny.gov/api/views/ekwu-khcy/rows.csv?accessType=DOWNLOAD\n",
    "# parse_dates = pd.datetools.to_datetime\n",
    "data = pd.read_csv('Turnstile_Usage_Data__2016.csv',parse_dates=True, dtype={'C/A': str,'Unit':str,'SCP':str,'Station':str,'Line Name':str, 'Division':str,'Date': object, 'Time':object,'Description':str,'Entries':int,'Exits':int})\n",
    "data = pd.DataFrame(data) # change to pandas dataframe\n",
    "# parse spaces from columns; to use better approach when \n",
    "data=data.rename(columns = {'Exits                                                     ':'Exits'})\n",
    "# Do we need to convert Date column to datetime?\n",
    "# data['Date'] = data['Date'].to_datetime()\n",
    "# data['Date'] = data['Date'].dt.date\n",
    "data.head()"
   ]
  },
  {
   "cell_type": "code",
   "execution_count": 3,
   "metadata": {},
   "outputs": [],
   "source": [
    "# data['Date'] = data['Date'].astype('datetime64') # convert data column to date type\n",
    "# print(type(data['Date']))\n",
    "# remove first few columns, deemed irrelevant\n",
    "# data = data.iloc[:,:]\n",
    "# data.head()"
   ]
  },
  {
   "cell_type": "markdown",
   "metadata": {},
   "source": [
    "### Process Data"
   ]
  },
  {
   "cell_type": "code",
   "execution_count": 4,
   "metadata": {},
   "outputs": [
    {
     "data": {
      "text/html": [
       "<div>\n",
       "<style scoped>\n",
       "    .dataframe tbody tr th:only-of-type {\n",
       "        vertical-align: middle;\n",
       "    }\n",
       "\n",
       "    .dataframe tbody tr th {\n",
       "        vertical-align: top;\n",
       "    }\n",
       "\n",
       "    .dataframe thead th {\n",
       "        text-align: right;\n",
       "    }\n",
       "</style>\n",
       "<table border=\"1\" class=\"dataframe\">\n",
       "  <thead>\n",
       "    <tr style=\"text-align: right;\">\n",
       "      <th></th>\n",
       "      <th>Station</th>\n",
       "      <th>Date</th>\n",
       "      <th>Time</th>\n",
       "      <th>C/A</th>\n",
       "      <th>Unit</th>\n",
       "      <th>SCP</th>\n",
       "      <th>Line Name</th>\n",
       "      <th>Division</th>\n",
       "      <th>Description</th>\n",
       "      <th>Entries</th>\n",
       "      <th>Exits</th>\n",
       "    </tr>\n",
       "  </thead>\n",
       "  <tbody>\n",
       "    <tr>\n",
       "      <th>0</th>\n",
       "      <td>1 AV</td>\n",
       "      <td>01/02/2016</td>\n",
       "      <td>03:00:00</td>\n",
       "      <td>H008</td>\n",
       "      <td>R248</td>\n",
       "      <td>01-00-04</td>\n",
       "      <td>L</td>\n",
       "      <td>BMT</td>\n",
       "      <td>REGULAR</td>\n",
       "      <td>952275081</td>\n",
       "      <td>996872113</td>\n",
       "    </tr>\n",
       "    <tr>\n",
       "      <th>1</th>\n",
       "      <td>1 AV</td>\n",
       "      <td>01/02/2016</td>\n",
       "      <td>07:00:00</td>\n",
       "      <td>H008</td>\n",
       "      <td>R248</td>\n",
       "      <td>01-00-04</td>\n",
       "      <td>L</td>\n",
       "      <td>BMT</td>\n",
       "      <td>REGULAR</td>\n",
       "      <td>952275131</td>\n",
       "      <td>996872154</td>\n",
       "    </tr>\n",
       "    <tr>\n",
       "      <th>2</th>\n",
       "      <td>1 AV</td>\n",
       "      <td>01/02/2016</td>\n",
       "      <td>11:00:00</td>\n",
       "      <td>H008</td>\n",
       "      <td>R248</td>\n",
       "      <td>01-00-04</td>\n",
       "      <td>L</td>\n",
       "      <td>BMT</td>\n",
       "      <td>REGULAR</td>\n",
       "      <td>952275240</td>\n",
       "      <td>996872335</td>\n",
       "    </tr>\n",
       "    <tr>\n",
       "      <th>3</th>\n",
       "      <td>1 AV</td>\n",
       "      <td>01/02/2016</td>\n",
       "      <td>15:00:00</td>\n",
       "      <td>H008</td>\n",
       "      <td>R248</td>\n",
       "      <td>01-00-04</td>\n",
       "      <td>L</td>\n",
       "      <td>BMT</td>\n",
       "      <td>REGULAR</td>\n",
       "      <td>952275606</td>\n",
       "      <td>996872571</td>\n",
       "    </tr>\n",
       "    <tr>\n",
       "      <th>4</th>\n",
       "      <td>1 AV</td>\n",
       "      <td>01/02/2016</td>\n",
       "      <td>19:00:00</td>\n",
       "      <td>H008</td>\n",
       "      <td>R248</td>\n",
       "      <td>01-00-04</td>\n",
       "      <td>L</td>\n",
       "      <td>BMT</td>\n",
       "      <td>REGULAR</td>\n",
       "      <td>952276196</td>\n",
       "      <td>996873070</td>\n",
       "    </tr>\n",
       "  </tbody>\n",
       "</table>\n",
       "</div>"
      ],
      "text/plain": [
       "  Station        Date      Time   C/A  Unit       SCP Line Name Division  \\\n",
       "0    1 AV  01/02/2016  03:00:00  H008  R248  01-00-04         L      BMT   \n",
       "1    1 AV  01/02/2016  07:00:00  H008  R248  01-00-04         L      BMT   \n",
       "2    1 AV  01/02/2016  11:00:00  H008  R248  01-00-04         L      BMT   \n",
       "3    1 AV  01/02/2016  15:00:00  H008  R248  01-00-04         L      BMT   \n",
       "4    1 AV  01/02/2016  19:00:00  H008  R248  01-00-04         L      BMT   \n",
       "\n",
       "  Description    Entries      Exits  \n",
       "0     REGULAR  952275081  996872113  \n",
       "1     REGULAR  952275131  996872154  \n",
       "2     REGULAR  952275240  996872335  \n",
       "3     REGULAR  952275606  996872571  \n",
       "4     REGULAR  952276196  996873070  "
      ]
     },
     "execution_count": 4,
     "metadata": {},
     "output_type": "execute_result"
    }
   ],
   "source": [
    "data = data.groupby([\"Station\", \"Date\",'Time'],as_index=False).max() # sort by station, date\n",
    "data.head()"
   ]
  },
  {
   "cell_type": "code",
   "execution_count": 5,
   "metadata": {
    "collapsed": true
   },
   "outputs": [],
   "source": [
    "data = data.groupby(['Station','Date']).agg(lambda x: max(x) - min(x))"
   ]
  },
  {
   "cell_type": "code",
   "execution_count": 6,
   "metadata": {},
   "outputs": [
    {
     "data": {
      "text/html": [
       "<div>\n",
       "<style scoped>\n",
       "    .dataframe tbody tr th:only-of-type {\n",
       "        vertical-align: middle;\n",
       "    }\n",
       "\n",
       "    .dataframe tbody tr th {\n",
       "        vertical-align: top;\n",
       "    }\n",
       "\n",
       "    .dataframe thead th {\n",
       "        text-align: right;\n",
       "    }\n",
       "</style>\n",
       "<table border=\"1\" class=\"dataframe\">\n",
       "  <thead>\n",
       "    <tr style=\"text-align: right;\">\n",
       "      <th></th>\n",
       "      <th>Entries</th>\n",
       "      <th>Exits</th>\n",
       "    </tr>\n",
       "  </thead>\n",
       "  <tbody>\n",
       "    <tr>\n",
       "      <th>0</th>\n",
       "      <td>1752</td>\n",
       "      <td>1411</td>\n",
       "    </tr>\n",
       "    <tr>\n",
       "      <th>1</th>\n",
       "      <td>1533</td>\n",
       "      <td>923</td>\n",
       "    </tr>\n",
       "    <tr>\n",
       "      <th>2</th>\n",
       "      <td>2234</td>\n",
       "      <td>2251</td>\n",
       "    </tr>\n",
       "    <tr>\n",
       "      <th>3</th>\n",
       "      <td>2254</td>\n",
       "      <td>2335</td>\n",
       "    </tr>\n",
       "    <tr>\n",
       "      <th>4</th>\n",
       "      <td>2669</td>\n",
       "      <td>2262</td>\n",
       "    </tr>\n",
       "  </tbody>\n",
       "</table>\n",
       "</div>"
      ],
      "text/plain": [
       "   Entries  Exits\n",
       "0     1752   1411\n",
       "1     1533    923\n",
       "2     2234   2251\n",
       "3     2254   2335\n",
       "4     2669   2262"
      ]
     },
     "execution_count": 6,
     "metadata": {},
     "output_type": "execute_result"
    }
   ],
   "source": [
    "# Groupby Station, Day\n",
    "data = data.groupby([\"Station\", \"Date\"],as_index=False).max() # sort by station, date\n",
    "data = pd.DataFrame(data)\n",
    "data.head()"
   ]
  },
  {
   "cell_type": "code",
   "execution_count": 7,
   "metadata": {},
   "outputs": [
    {
     "data": {
      "text/html": [
       "<div>\n",
       "<style scoped>\n",
       "    .dataframe tbody tr th:only-of-type {\n",
       "        vertical-align: middle;\n",
       "    }\n",
       "\n",
       "    .dataframe tbody tr th {\n",
       "        vertical-align: top;\n",
       "    }\n",
       "\n",
       "    .dataframe thead th {\n",
       "        text-align: right;\n",
       "    }\n",
       "</style>\n",
       "<table border=\"1\" class=\"dataframe\">\n",
       "  <thead>\n",
       "    <tr style=\"text-align: right;\">\n",
       "      <th></th>\n",
       "      <th>Entries</th>\n",
       "      <th>Exits</th>\n",
       "      <th>Entry_Inc</th>\n",
       "      <th>Exits_Inc</th>\n",
       "      <th>Traffic_Tot</th>\n",
       "    </tr>\n",
       "  </thead>\n",
       "  <tbody>\n",
       "    <tr>\n",
       "      <th>0</th>\n",
       "      <td>1752</td>\n",
       "      <td>1411</td>\n",
       "      <td>NaN</td>\n",
       "      <td>NaN</td>\n",
       "      <td>NaN</td>\n",
       "    </tr>\n",
       "    <tr>\n",
       "      <th>1</th>\n",
       "      <td>1533</td>\n",
       "      <td>923</td>\n",
       "      <td>219.0</td>\n",
       "      <td>488.0</td>\n",
       "      <td>707.0</td>\n",
       "    </tr>\n",
       "    <tr>\n",
       "      <th>2</th>\n",
       "      <td>2234</td>\n",
       "      <td>2251</td>\n",
       "      <td>701.0</td>\n",
       "      <td>1328.0</td>\n",
       "      <td>2029.0</td>\n",
       "    </tr>\n",
       "    <tr>\n",
       "      <th>3</th>\n",
       "      <td>2254</td>\n",
       "      <td>2335</td>\n",
       "      <td>20.0</td>\n",
       "      <td>84.0</td>\n",
       "      <td>104.0</td>\n",
       "    </tr>\n",
       "    <tr>\n",
       "      <th>4</th>\n",
       "      <td>2669</td>\n",
       "      <td>2262</td>\n",
       "      <td>415.0</td>\n",
       "      <td>73.0</td>\n",
       "      <td>488.0</td>\n",
       "    </tr>\n",
       "  </tbody>\n",
       "</table>\n",
       "</div>"
      ],
      "text/plain": [
       "   Entries  Exits  Entry_Inc  Exits_Inc  Traffic_Tot\n",
       "0     1752   1411        NaN        NaN          NaN\n",
       "1     1533    923      219.0      488.0        707.0\n",
       "2     2234   2251      701.0     1328.0       2029.0\n",
       "3     2254   2335       20.0       84.0        104.0\n",
       "4     2669   2262      415.0       73.0        488.0"
      ]
     },
     "execution_count": 7,
     "metadata": {},
     "output_type": "execute_result"
    }
   ],
   "source": [
    "# Data presented as cumulative; add columns to track the increment\n",
    "# Add Traffic_Tot column as sum of Entry and Exit to represent activity\n",
    "data['Entry_Inc'] = abs(data.Entries.diff())\n",
    "# data['Entry_Inc2'] = data['Entry_Inc']\n",
    "\n",
    "data['Exits_Inc'] = abs(data.Exits.diff())\n",
    "data['Traffic_Tot'] = np.add(data.Entry_Inc, data.Exits_Inc)\n",
    "data.head()"
   ]
  },
  {
   "cell_type": "code",
   "execution_count": 8,
   "metadata": {},
   "outputs": [
    {
     "data": {
      "text/html": [
       "<div>\n",
       "<style scoped>\n",
       "    .dataframe tbody tr th:only-of-type {\n",
       "        vertical-align: middle;\n",
       "    }\n",
       "\n",
       "    .dataframe tbody tr th {\n",
       "        vertical-align: top;\n",
       "    }\n",
       "\n",
       "    .dataframe thead th {\n",
       "        text-align: right;\n",
       "    }\n",
       "</style>\n",
       "<table border=\"1\" class=\"dataframe\">\n",
       "  <thead>\n",
       "    <tr style=\"text-align: right;\">\n",
       "      <th></th>\n",
       "      <th>Entries</th>\n",
       "      <th>Exits</th>\n",
       "      <th>Entry_Inc</th>\n",
       "      <th>Exits_Inc</th>\n",
       "      <th>Traffic_Tot</th>\n",
       "    </tr>\n",
       "  </thead>\n",
       "  <tbody>\n",
       "    <tr>\n",
       "      <th>1</th>\n",
       "      <td>1533</td>\n",
       "      <td>923</td>\n",
       "      <td>219.0</td>\n",
       "      <td>488.0</td>\n",
       "      <td>707.0</td>\n",
       "    </tr>\n",
       "    <tr>\n",
       "      <th>2</th>\n",
       "      <td>2234</td>\n",
       "      <td>2251</td>\n",
       "      <td>701.0</td>\n",
       "      <td>1328.0</td>\n",
       "      <td>2029.0</td>\n",
       "    </tr>\n",
       "    <tr>\n",
       "      <th>3</th>\n",
       "      <td>2254</td>\n",
       "      <td>2335</td>\n",
       "      <td>20.0</td>\n",
       "      <td>84.0</td>\n",
       "      <td>104.0</td>\n",
       "    </tr>\n",
       "    <tr>\n",
       "      <th>4</th>\n",
       "      <td>2669</td>\n",
       "      <td>2262</td>\n",
       "      <td>415.0</td>\n",
       "      <td>73.0</td>\n",
       "      <td>488.0</td>\n",
       "    </tr>\n",
       "    <tr>\n",
       "      <th>5</th>\n",
       "      <td>2661</td>\n",
       "      <td>2082</td>\n",
       "      <td>8.0</td>\n",
       "      <td>180.0</td>\n",
       "      <td>188.0</td>\n",
       "    </tr>\n",
       "  </tbody>\n",
       "</table>\n",
       "</div>"
      ],
      "text/plain": [
       "   Entries  Exits  Entry_Inc  Exits_Inc  Traffic_Tot\n",
       "1     1533    923      219.0      488.0        707.0\n",
       "2     2234   2251      701.0     1328.0       2029.0\n",
       "3     2254   2335       20.0       84.0        104.0\n",
       "4     2669   2262      415.0       73.0        488.0\n",
       "5     2661   2082        8.0      180.0        188.0"
      ]
     },
     "execution_count": 8,
     "metadata": {},
     "output_type": "execute_result"
    }
   ],
   "source": [
    "# filter outliers above specified quantile\n",
    "quant_filt = 0.99\n",
    "q = data[\"Entry_Inc\"].quantile(quant_filt)\n",
    "data = data[data[\"Entry_Inc\"] < q]\n",
    "\n",
    "r = data[\"Exits_Inc\"].quantile(quant_filt)\n",
    "data = data[data[\"Exits_Inc\"] < r]\n",
    "\n",
    "s = data[\"Traffic_Tot\"].quantile(quant_filt)\n",
    "data = data[data[\"Traffic_Tot\"] < s]\n",
    "\n",
    "# data = data.dropna() # apparently no issues with NaN cells; running as best practice\n",
    "\n",
    "data.head()"
   ]
  },
  {
   "cell_type": "markdown",
   "metadata": {
    "collapsed": true
   },
   "source": [
    "### Sort Data\n",
    "Data is sorted by Station."
   ]
  },
  {
   "cell_type": "code",
   "execution_count": 9,
   "metadata": {
    "collapsed": true
   },
   "outputs": [],
   "source": [
    "# data_stndatetime = data.groupby([ \"Station\", \"Date\",'Time']).sum() # sort by station, date and time\n",
    "# data_stndatetime.head()"
   ]
  },
  {
   "cell_type": "code",
   "execution_count": 10,
   "metadata": {},
   "outputs": [
    {
     "ename": "KeyError",
     "evalue": "'Station'",
     "output_type": "error",
     "traceback": [
      "\u001b[0;31m---------------------------------------------------------------------------\u001b[0m",
      "\u001b[0;31mKeyError\u001b[0m                                  Traceback (most recent call last)",
      "\u001b[0;32m<ipython-input-10-d458cd9d2907>\u001b[0m in \u001b[0;36m<module>\u001b[0;34m()\u001b[0m\n\u001b[0;32m----> 1\u001b[0;31m \u001b[0mdata_stn\u001b[0m \u001b[0;34m=\u001b[0m \u001b[0mdata\u001b[0m\u001b[0;34m.\u001b[0m\u001b[0mgroupby\u001b[0m\u001b[0;34m(\u001b[0m\u001b[0;34m[\u001b[0m \u001b[0;34m\"Station\"\u001b[0m\u001b[0;34m]\u001b[0m\u001b[0;34m)\u001b[0m\u001b[0;34m.\u001b[0m\u001b[0msum\u001b[0m\u001b[0;34m(\u001b[0m\u001b[0;34m)\u001b[0m \u001b[0;31m# sort by station\u001b[0m\u001b[0;34m\u001b[0m\u001b[0m\n\u001b[0m\u001b[1;32m      2\u001b[0m \u001b[0;31m# data_stn = pd.DataFrame(data_stn) # convert to panda dataframe\u001b[0m\u001b[0;34m\u001b[0m\u001b[0;34m\u001b[0m\u001b[0m\n\u001b[1;32m      3\u001b[0m \u001b[0mdata_stn\u001b[0m\u001b[0;34m[\u001b[0m\u001b[0;34m'Station_ID'\u001b[0m\u001b[0;34m]\u001b[0m \u001b[0;34m=\u001b[0m \u001b[0mdata_stn\u001b[0m\u001b[0;34m.\u001b[0m\u001b[0mindex\u001b[0m \u001b[0;31m# Make Station_ID a non-index column\u001b[0m\u001b[0;34m\u001b[0m\u001b[0m\n\u001b[1;32m      4\u001b[0m \u001b[0mdata_stn\u001b[0m \u001b[0;34m=\u001b[0m \u001b[0mdata_stn\u001b[0m\u001b[0;34m.\u001b[0m\u001b[0msort_values\u001b[0m\u001b[0;34m(\u001b[0m\u001b[0;34m[\u001b[0m\u001b[0;34m'Traffic_Tot'\u001b[0m\u001b[0;34m]\u001b[0m\u001b[0;34m,\u001b[0m \u001b[0mascending\u001b[0m\u001b[0;34m=\u001b[0m\u001b[0;34m[\u001b[0m\u001b[0;32mFalse\u001b[0m\u001b[0;34m]\u001b[0m\u001b[0;34m)\u001b[0m \u001b[0;31m# Sort stations by traffic\u001b[0m\u001b[0;34m\u001b[0m\u001b[0m\n\u001b[1;32m      5\u001b[0m \u001b[0mdata_stn\u001b[0m\u001b[0;34m[\u001b[0m\u001b[0;34m'Idx'\u001b[0m\u001b[0;34m]\u001b[0m \u001b[0;34m=\u001b[0m \u001b[0mnp\u001b[0m\u001b[0;34m.\u001b[0m\u001b[0marange\u001b[0m\u001b[0;34m(\u001b[0m\u001b[0mdata_stn\u001b[0m\u001b[0;34m.\u001b[0m\u001b[0mshape\u001b[0m\u001b[0;34m[\u001b[0m\u001b[0;36m0\u001b[0m\u001b[0;34m]\u001b[0m\u001b[0;34m)\u001b[0m \u001b[0;31m# add enumerated column\u001b[0m\u001b[0;34m\u001b[0m\u001b[0m\n",
      "\u001b[0;32m~/anaconda3/envs/tensorflow1.4/lib/python3.5/site-packages/pandas/core/generic.py\u001b[0m in \u001b[0;36mgroupby\u001b[0;34m(self, by, axis, level, as_index, sort, group_keys, squeeze, **kwargs)\u001b[0m\n\u001b[1;32m   5160\u001b[0m         return groupby(self, by=by, axis=axis, level=level, as_index=as_index,\n\u001b[1;32m   5161\u001b[0m                        \u001b[0msort\u001b[0m\u001b[0;34m=\u001b[0m\u001b[0msort\u001b[0m\u001b[0;34m,\u001b[0m \u001b[0mgroup_keys\u001b[0m\u001b[0;34m=\u001b[0m\u001b[0mgroup_keys\u001b[0m\u001b[0;34m,\u001b[0m \u001b[0msqueeze\u001b[0m\u001b[0;34m=\u001b[0m\u001b[0msqueeze\u001b[0m\u001b[0;34m,\u001b[0m\u001b[0;34m\u001b[0m\u001b[0m\n\u001b[0;32m-> 5162\u001b[0;31m                        **kwargs)\n\u001b[0m\u001b[1;32m   5163\u001b[0m \u001b[0;34m\u001b[0m\u001b[0m\n\u001b[1;32m   5164\u001b[0m     def asfreq(self, freq, method=None, how=None, normalize=False,\n",
      "\u001b[0;32m~/anaconda3/envs/tensorflow1.4/lib/python3.5/site-packages/pandas/core/groupby.py\u001b[0m in \u001b[0;36mgroupby\u001b[0;34m(obj, by, **kwds)\u001b[0m\n\u001b[1;32m   1846\u001b[0m         \u001b[0;32mraise\u001b[0m \u001b[0mTypeError\u001b[0m\u001b[0;34m(\u001b[0m\u001b[0;34m'invalid type: %s'\u001b[0m \u001b[0;34m%\u001b[0m \u001b[0mtype\u001b[0m\u001b[0;34m(\u001b[0m\u001b[0mobj\u001b[0m\u001b[0;34m)\u001b[0m\u001b[0;34m)\u001b[0m\u001b[0;34m\u001b[0m\u001b[0m\n\u001b[1;32m   1847\u001b[0m \u001b[0;34m\u001b[0m\u001b[0m\n\u001b[0;32m-> 1848\u001b[0;31m     \u001b[0;32mreturn\u001b[0m \u001b[0mklass\u001b[0m\u001b[0;34m(\u001b[0m\u001b[0mobj\u001b[0m\u001b[0;34m,\u001b[0m \u001b[0mby\u001b[0m\u001b[0;34m,\u001b[0m \u001b[0;34m**\u001b[0m\u001b[0mkwds\u001b[0m\u001b[0;34m)\u001b[0m\u001b[0;34m\u001b[0m\u001b[0m\n\u001b[0m\u001b[1;32m   1849\u001b[0m \u001b[0;34m\u001b[0m\u001b[0m\n\u001b[1;32m   1850\u001b[0m \u001b[0;34m\u001b[0m\u001b[0m\n",
      "\u001b[0;32m~/anaconda3/envs/tensorflow1.4/lib/python3.5/site-packages/pandas/core/groupby.py\u001b[0m in \u001b[0;36m__init__\u001b[0;34m(self, obj, keys, axis, level, grouper, exclusions, selection, as_index, sort, group_keys, squeeze, **kwargs)\u001b[0m\n\u001b[1;32m    514\u001b[0m                                                     \u001b[0mlevel\u001b[0m\u001b[0;34m=\u001b[0m\u001b[0mlevel\u001b[0m\u001b[0;34m,\u001b[0m\u001b[0;34m\u001b[0m\u001b[0m\n\u001b[1;32m    515\u001b[0m                                                     \u001b[0msort\u001b[0m\u001b[0;34m=\u001b[0m\u001b[0msort\u001b[0m\u001b[0;34m,\u001b[0m\u001b[0;34m\u001b[0m\u001b[0m\n\u001b[0;32m--> 516\u001b[0;31m                                                     mutated=self.mutated)\n\u001b[0m\u001b[1;32m    517\u001b[0m \u001b[0;34m\u001b[0m\u001b[0m\n\u001b[1;32m    518\u001b[0m         \u001b[0mself\u001b[0m\u001b[0;34m.\u001b[0m\u001b[0mobj\u001b[0m \u001b[0;34m=\u001b[0m \u001b[0mobj\u001b[0m\u001b[0;34m\u001b[0m\u001b[0m\n",
      "\u001b[0;32m~/anaconda3/envs/tensorflow1.4/lib/python3.5/site-packages/pandas/core/groupby.py\u001b[0m in \u001b[0;36m_get_grouper\u001b[0;34m(obj, key, axis, level, sort, mutated, validate)\u001b[0m\n\u001b[1;32m   2932\u001b[0m                 \u001b[0min_axis\u001b[0m\u001b[0;34m,\u001b[0m \u001b[0mname\u001b[0m\u001b[0;34m,\u001b[0m \u001b[0mlevel\u001b[0m\u001b[0;34m,\u001b[0m \u001b[0mgpr\u001b[0m \u001b[0;34m=\u001b[0m \u001b[0;32mFalse\u001b[0m\u001b[0;34m,\u001b[0m \u001b[0;32mNone\u001b[0m\u001b[0;34m,\u001b[0m \u001b[0mgpr\u001b[0m\u001b[0;34m,\u001b[0m \u001b[0;32mNone\u001b[0m\u001b[0;34m\u001b[0m\u001b[0m\n\u001b[1;32m   2933\u001b[0m             \u001b[0;32melse\u001b[0m\u001b[0;34m:\u001b[0m\u001b[0;34m\u001b[0m\u001b[0m\n\u001b[0;32m-> 2934\u001b[0;31m                 \u001b[0;32mraise\u001b[0m \u001b[0mKeyError\u001b[0m\u001b[0;34m(\u001b[0m\u001b[0mgpr\u001b[0m\u001b[0;34m)\u001b[0m\u001b[0;34m\u001b[0m\u001b[0m\n\u001b[0m\u001b[1;32m   2935\u001b[0m         \u001b[0;32melif\u001b[0m \u001b[0misinstance\u001b[0m\u001b[0;34m(\u001b[0m\u001b[0mgpr\u001b[0m\u001b[0;34m,\u001b[0m \u001b[0mGrouper\u001b[0m\u001b[0;34m)\u001b[0m \u001b[0;32mand\u001b[0m \u001b[0mgpr\u001b[0m\u001b[0;34m.\u001b[0m\u001b[0mkey\u001b[0m \u001b[0;32mis\u001b[0m \u001b[0;32mnot\u001b[0m \u001b[0;32mNone\u001b[0m\u001b[0;34m:\u001b[0m\u001b[0;34m\u001b[0m\u001b[0m\n\u001b[1;32m   2936\u001b[0m             \u001b[0;31m# Add key to exclusions\u001b[0m\u001b[0;34m\u001b[0m\u001b[0;34m\u001b[0m\u001b[0m\n",
      "\u001b[0;31mKeyError\u001b[0m: 'Station'"
     ]
    }
   ],
   "source": [
    "data_stn = data.groupby([ \"Station\"]).sum() # sort by station\n",
    "# data_stn = pd.DataFrame(data_stn) # convert to panda dataframe\n",
    "data_stn['Station_ID'] = data_stn.index # Make Station_ID a non-index column\n",
    "data_stn = data_stn.sort_values(['Traffic_Tot'], ascending=[False]) # Sort stations by traffic\n",
    "data_stn['Idx'] = np.arange(data_stn.shape[0]) # add enumerated column\n",
    "data_stn = data_stn.set_index('Idx') # assign enumerated column as index column\n",
    "data_stn.head()"
   ]
  },
  {
   "cell_type": "markdown",
   "metadata": {
    "collapsed": true
   },
   "source": [
    "## Prep Data for Charting"
   ]
  },
  {
   "cell_type": "code",
   "execution_count": null,
   "metadata": {
    "collapsed": true
   },
   "outputs": [],
   "source": [
    "# demographic data: NYC census\n",
    "# map of startups in NYC\n",
    "# calendar of tech events\n",
    "# unicorn \n",
    "\n",
    "# import seaborn as sns\n",
    "sns.set_style(\"whitegrid\")\n"
   ]
  },
  {
   "cell_type": "code",
   "execution_count": null,
   "metadata": {},
   "outputs": [],
   "source": [
    "data_stn = data_stn.iloc[:20,:] # limit to 20 most active stations\n",
    "\n",
    "data_stn.head()\n"
   ]
  },
  {
   "cell_type": "code",
   "execution_count": null,
   "metadata": {},
   "outputs": [],
   "source": [
    "# verify results: check http://web.mta.info/nyct/facts/ffsubway.htm\n",
    "ax = sns.barplot(x=\"Traffic_Tot\", y='Station_ID', data=data_stn)\n",
    "# gut feeling is that 23rd St is not a top station.  If more time, would\n",
    "# further analyze 23rd Street for outliers.\n"
   ]
  },
  {
   "cell_type": "code",
   "execution_count": null,
   "metadata": {
    "collapsed": true
   },
   "outputs": [],
   "source": []
  },
  {
   "cell_type": "code",
   "execution_count": null,
   "metadata": {
    "collapsed": true
   },
   "outputs": [],
   "source": [
    "# PROBLEM STATEMENT\n",
    "# Optimize utilization of street teams by using data science by utilizing MTA \n",
    "# and [Demographic] data\n",
    "\n",
    "# PRESENTATION\n",
    "# Executive Summary / Scenario\n",
    "# MTA findings\n",
    "# Demographic findings\n",
    "# Combined MTA/Demo Analysis\n",
    "# Conclusion\n",
    "# Q&A\n",
    "\n",
    "# TODO:\n",
    "# Clean up JN\n",
    "# day/hour analyses\n",
    "# combine demographic data\n",
    "# Map which includes demographic data (ie income) and station activity (by size of dot)\n",
    "# Analyze top stations by time period (season, month, week, day, hour)\n",
    "# add lat/long\n",
    "# vet data better / graph \n",
    "\n",
    "# Tomorrow morning\n",
    "# Finished pres, practice"
   ]
  },
  {
   "cell_type": "markdown",
   "metadata": {},
   "source": [
    "### Top Station Activity: Penn Station 34th Street"
   ]
  },
  {
   "cell_type": "code",
   "execution_count": null,
   "metadata": {},
   "outputs": [],
   "source": [
    "data_Penn = data[data['Station'] == '34 ST-PENN STA']\n",
    "# data_Penn.head()\n",
    "np.max(data_Penn['Traffic_Tot'])\n"
   ]
  },
  {
   "cell_type": "code",
   "execution_count": null,
   "metadata": {},
   "outputs": [],
   "source": [
    "y = pd.Series(data_Penn['Traffic_Tot'])\n",
    "x = pd.Series(data_Penn['Date'])\n",
    "\n",
    "plt.plot(x,y)\n",
    "# axes = plt.gca()\n",
    "# axes.set_ylim([1000,2000])\n",
    "plt.show()"
   ]
  },
  {
   "cell_type": "markdown",
   "metadata": {},
   "source": [
    "### Top Station Activity: 23rd St"
   ]
  },
  {
   "cell_type": "code",
   "execution_count": null,
   "metadata": {},
   "outputs": [],
   "source": [
    "data_23ST = data[data['Station'] == '23 ST']\n",
    "# data_23ST.head()\n",
    "np.max(data_23ST['Traffic_Tot'])\n"
   ]
  },
  {
   "cell_type": "code",
   "execution_count": null,
   "metadata": {},
   "outputs": [],
   "source": [
    "y = pd.Series(data_23ST['Traffic_Tot'])\n",
    "x = pd.Series(data_23ST['Date'])\n",
    "\n",
    "plt.plot(x,y)\n",
    "# axes = plt.gca()\n",
    "# axes.set_ylim([1000,2000])\n",
    "plt.show()"
   ]
  },
  {
   "cell_type": "code",
   "execution_count": null,
   "metadata": {
    "collapsed": true
   },
   "outputs": [],
   "source": []
  },
  {
   "cell_type": "code",
   "execution_count": null,
   "metadata": {
    "collapsed": true
   },
   "outputs": [],
   "source": []
  },
  {
   "cell_type": "code",
   "execution_count": null,
   "metadata": {
    "collapsed": true
   },
   "outputs": [],
   "source": []
  },
  {
   "cell_type": "code",
   "execution_count": null,
   "metadata": {
    "collapsed": true
   },
   "outputs": [],
   "source": []
  },
  {
   "cell_type": "code",
   "execution_count": null,
   "metadata": {
    "collapsed": true
   },
   "outputs": [],
   "source": []
  },
  {
   "cell_type": "code",
   "execution_count": null,
   "metadata": {
    "collapsed": true
   },
   "outputs": [],
   "source": []
  },
  {
   "cell_type": "code",
   "execution_count": null,
   "metadata": {
    "collapsed": true
   },
   "outputs": [],
   "source": []
  },
  {
   "cell_type": "code",
   "execution_count": null,
   "metadata": {
    "collapsed": true
   },
   "outputs": [],
   "source": []
  },
  {
   "cell_type": "code",
   "execution_count": null,
   "metadata": {
    "collapsed": true
   },
   "outputs": [],
   "source": []
  },
  {
   "cell_type": "markdown",
   "metadata": {},
   "source": [
    "### Top Station Activity: 72nd St"
   ]
  },
  {
   "cell_type": "code",
   "execution_count": null,
   "metadata": {},
   "outputs": [],
   "source": [
    "data_72ST = data[data['Station'] == '72 ST']\n",
    "y = pd.Series(data_72ST['Traffic_Tot'])\n",
    "x = pd.Series(data_72ST['Date'])\n",
    "\n",
    "plt.plot(x,y)\n",
    "# axes = plt.gca()\n",
    "# axes.set_ylim([1000,2000])\n",
    "plt.show()"
   ]
  },
  {
   "cell_type": "code",
   "execution_count": null,
   "metadata": {},
   "outputs": [],
   "source": [
    "data = pd.DataFrame(data)\n",
    "data['Date'] = pd.to_datetime(data['Date'])\n",
    "type(data['Date'])"
   ]
  },
  {
   "cell_type": "code",
   "execution_count": null,
   "metadata": {
    "collapsed": true
   },
   "outputs": [],
   "source": []
  }
 ],
 "metadata": {
  "kernelspec": {
   "display_name": "Python 3",
   "language": "python",
   "name": "python3"
  },
  "language_info": {
   "codemirror_mode": {
    "name": "ipython",
    "version": 3
   },
   "file_extension": ".py",
   "mimetype": "text/x-python",
   "name": "python",
   "nbconvert_exporter": "python",
   "pygments_lexer": "ipython3",
   "version": "3.5.4"
  }
 },
 "nbformat": 4,
 "nbformat_minor": 2
}
