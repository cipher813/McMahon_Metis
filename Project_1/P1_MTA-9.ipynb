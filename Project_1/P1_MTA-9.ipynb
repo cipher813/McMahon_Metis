{
 "cells": [
  {
   "cell_type": "markdown",
   "metadata": {},
   "source": [
    "### Problem Statement\n",
    "[insert]\n"
   ]
  },
  {
   "cell_type": "markdown",
   "metadata": {
    "collapsed": true
   },
   "source": [
    "### Import Data"
   ]
  },
  {
   "cell_type": "code",
   "execution_count": 1,
   "metadata": {
    "collapsed": true
   },
   "outputs": [],
   "source": [
    "import pandas as pd\n",
    "import numpy as np\n",
    "import seaborn as sns\n",
    "import matplotlib.pyplot as plt"
   ]
  },
  {
   "cell_type": "code",
   "execution_count": 2,
   "metadata": {},
   "outputs": [
    {
     "name": "stderr",
     "output_type": "stream",
     "text": [
      "/Users/brianmcmahon/anaconda3/envs/tensorflow1.4/lib/python3.5/site-packages/IPython/core/interactiveshell.py:2728: DtypeWarning: Columns (4) have mixed types. Specify dtype option on import or set low_memory=False.\n",
      "  interactivity=interactivity, compiler=compiler, result=result)\n"
     ]
    }
   ],
   "source": [
    "# https://data.ny.gov/Transportation/Turnstile-Usage-Data-2016/ekwu-khcy\n",
    "# https://data.ny.gov/api/views/ekwu-khcy/rows.csv?accessType=DOWNLOAD\n",
    "data = pd.read_csv('Turnstile_Usage_Data__2016.csv')\n",
    "data = pd.DataFrame(data) # change to pandas dataframe\n",
    "# parse spaces from columns; to use better approach when \n",
    "data=data.rename(columns = {'Exits                                                     ':'Exits'})\n",
    "# Do we need to convert Date column to datetime?\n",
    "# data['Date'] = data['Date'].to_datetime()\n",
    "# data['Date'] = data['Date'].dt.date\n"
   ]
  },
  {
   "cell_type": "code",
   "execution_count": 3,
   "metadata": {},
   "outputs": [
    {
     "data": {
      "text/html": [
       "<div>\n",
       "<style scoped>\n",
       "    .dataframe tbody tr th:only-of-type {\n",
       "        vertical-align: middle;\n",
       "    }\n",
       "\n",
       "    .dataframe tbody tr th {\n",
       "        vertical-align: top;\n",
       "    }\n",
       "\n",
       "    .dataframe thead th {\n",
       "        text-align: right;\n",
       "    }\n",
       "</style>\n",
       "<table border=\"1\" class=\"dataframe\">\n",
       "  <thead>\n",
       "    <tr style=\"text-align: right;\">\n",
       "      <th></th>\n",
       "      <th>Station</th>\n",
       "      <th>Line Name</th>\n",
       "      <th>Division</th>\n",
       "      <th>Date</th>\n",
       "      <th>Time</th>\n",
       "      <th>Description</th>\n",
       "      <th>Entries</th>\n",
       "      <th>Exits</th>\n",
       "    </tr>\n",
       "  </thead>\n",
       "  <tbody>\n",
       "    <tr>\n",
       "      <th>0</th>\n",
       "      <td>59 ST</td>\n",
       "      <td>NQR456</td>\n",
       "      <td>BMT</td>\n",
       "      <td>03/04/2016</td>\n",
       "      <td>23:00:00</td>\n",
       "      <td>REGULAR</td>\n",
       "      <td>5572864</td>\n",
       "      <td>1881239</td>\n",
       "    </tr>\n",
       "    <tr>\n",
       "      <th>1</th>\n",
       "      <td>59 ST</td>\n",
       "      <td>NQR456</td>\n",
       "      <td>BMT</td>\n",
       "      <td>03/04/2016</td>\n",
       "      <td>19:00:00</td>\n",
       "      <td>REGULAR</td>\n",
       "      <td>5572521</td>\n",
       "      <td>1881206</td>\n",
       "    </tr>\n",
       "    <tr>\n",
       "      <th>2</th>\n",
       "      <td>59 ST</td>\n",
       "      <td>NQR456</td>\n",
       "      <td>BMT</td>\n",
       "      <td>03/04/2016</td>\n",
       "      <td>15:00:00</td>\n",
       "      <td>REGULAR</td>\n",
       "      <td>5571587</td>\n",
       "      <td>1881113</td>\n",
       "    </tr>\n",
       "    <tr>\n",
       "      <th>3</th>\n",
       "      <td>59 ST</td>\n",
       "      <td>NQR456</td>\n",
       "      <td>BMT</td>\n",
       "      <td>03/04/2016</td>\n",
       "      <td>11:00:00</td>\n",
       "      <td>REGULAR</td>\n",
       "      <td>5571313</td>\n",
       "      <td>1881031</td>\n",
       "    </tr>\n",
       "    <tr>\n",
       "      <th>4</th>\n",
       "      <td>59 ST</td>\n",
       "      <td>NQR456</td>\n",
       "      <td>BMT</td>\n",
       "      <td>03/04/2016</td>\n",
       "      <td>08:10:05</td>\n",
       "      <td>REGULAR</td>\n",
       "      <td>5571173</td>\n",
       "      <td>1880736</td>\n",
       "    </tr>\n",
       "  </tbody>\n",
       "</table>\n",
       "</div>"
      ],
      "text/plain": [
       "  Station Line Name Division        Date      Time Description  Entries  \\\n",
       "0   59 ST    NQR456      BMT  03/04/2016  23:00:00     REGULAR  5572864   \n",
       "1   59 ST    NQR456      BMT  03/04/2016  19:00:00     REGULAR  5572521   \n",
       "2   59 ST    NQR456      BMT  03/04/2016  15:00:00     REGULAR  5571587   \n",
       "3   59 ST    NQR456      BMT  03/04/2016  11:00:00     REGULAR  5571313   \n",
       "4   59 ST    NQR456      BMT  03/04/2016  08:10:05     REGULAR  5571173   \n",
       "\n",
       "     Exits  \n",
       "0  1881239  \n",
       "1  1881206  \n",
       "2  1881113  \n",
       "3  1881031  \n",
       "4  1880736  "
      ]
     },
     "execution_count": 3,
     "metadata": {},
     "output_type": "execute_result"
    }
   ],
   "source": [
    "# data['Date'] = data['Date'].astype('datetime64') # convert data column to date type\n",
    "# print(type(data['Date']))\n",
    "# remove first few columns, deemed irrelevant\n",
    "data = data.iloc[:,3:]\n",
    "data.head()"
   ]
  },
  {
   "cell_type": "markdown",
   "metadata": {},
   "source": [
    "### Process Data"
   ]
  },
  {
   "cell_type": "code",
   "execution_count": 4,
   "metadata": {},
   "outputs": [
    {
     "data": {
      "text/html": [
       "<div>\n",
       "<style scoped>\n",
       "    .dataframe tbody tr th:only-of-type {\n",
       "        vertical-align: middle;\n",
       "    }\n",
       "\n",
       "    .dataframe tbody tr th {\n",
       "        vertical-align: top;\n",
       "    }\n",
       "\n",
       "    .dataframe thead th {\n",
       "        text-align: right;\n",
       "    }\n",
       "</style>\n",
       "<table border=\"1\" class=\"dataframe\">\n",
       "  <thead>\n",
       "    <tr style=\"text-align: right;\">\n",
       "      <th></th>\n",
       "      <th>Station</th>\n",
       "      <th>Date</th>\n",
       "      <th>Description</th>\n",
       "      <th>Division</th>\n",
       "      <th>Entries</th>\n",
       "      <th>Exits</th>\n",
       "      <th>Time</th>\n",
       "    </tr>\n",
       "  </thead>\n",
       "  <tbody>\n",
       "    <tr>\n",
       "      <th>0</th>\n",
       "      <td>1 AV</td>\n",
       "      <td>01/02/2016</td>\n",
       "      <td>REGULAR</td>\n",
       "      <td>BMT</td>\n",
       "      <td>952276833</td>\n",
       "      <td>996873524</td>\n",
       "      <td>23:00:00</td>\n",
       "    </tr>\n",
       "    <tr>\n",
       "      <th>1</th>\n",
       "      <td>1 AV</td>\n",
       "      <td>01/03/2016</td>\n",
       "      <td>REGULAR</td>\n",
       "      <td>BMT</td>\n",
       "      <td>952278811</td>\n",
       "      <td>996874582</td>\n",
       "      <td>23:00:00</td>\n",
       "    </tr>\n",
       "    <tr>\n",
       "      <th>2</th>\n",
       "      <td>1 AV</td>\n",
       "      <td>01/04/2016</td>\n",
       "      <td>REGULAR</td>\n",
       "      <td>BMT</td>\n",
       "      <td>952281200</td>\n",
       "      <td>996876891</td>\n",
       "      <td>23:00:00</td>\n",
       "    </tr>\n",
       "    <tr>\n",
       "      <th>3</th>\n",
       "      <td>1 AV</td>\n",
       "      <td>01/05/2016</td>\n",
       "      <td>REGULAR</td>\n",
       "      <td>BMT</td>\n",
       "      <td>952283626</td>\n",
       "      <td>996879260</td>\n",
       "      <td>23:00:00</td>\n",
       "    </tr>\n",
       "    <tr>\n",
       "      <th>4</th>\n",
       "      <td>1 AV</td>\n",
       "      <td>01/06/2016</td>\n",
       "      <td>REGULAR</td>\n",
       "      <td>BMT</td>\n",
       "      <td>952286534</td>\n",
       "      <td>996881553</td>\n",
       "      <td>23:00:00</td>\n",
       "    </tr>\n",
       "  </tbody>\n",
       "</table>\n",
       "</div>"
      ],
      "text/plain": [
       "  Station        Date Description Division    Entries      Exits      Time\n",
       "0    1 AV  01/02/2016     REGULAR      BMT  952276833  996873524  23:00:00\n",
       "1    1 AV  01/03/2016     REGULAR      BMT  952278811  996874582  23:00:00\n",
       "2    1 AV  01/04/2016     REGULAR      BMT  952281200  996876891  23:00:00\n",
       "3    1 AV  01/05/2016     REGULAR      BMT  952283626  996879260  23:00:00\n",
       "4    1 AV  01/06/2016     REGULAR      BMT  952286534  996881553  23:00:00"
      ]
     },
     "execution_count": 4,
     "metadata": {},
     "output_type": "execute_result"
    }
   ],
   "source": [
    "# Groupby Station, Day\n",
    "data = data.groupby([\"Station\", \"Date\"],as_index=False).max() # sort by station, date\n",
    "data = pd.DataFrame(data)\n",
    "data.head()"
   ]
  },
  {
   "cell_type": "code",
   "execution_count": 5,
   "metadata": {},
   "outputs": [
    {
     "data": {
      "text/html": [
       "<div>\n",
       "<style scoped>\n",
       "    .dataframe tbody tr th:only-of-type {\n",
       "        vertical-align: middle;\n",
       "    }\n",
       "\n",
       "    .dataframe tbody tr th {\n",
       "        vertical-align: top;\n",
       "    }\n",
       "\n",
       "    .dataframe thead th {\n",
       "        text-align: right;\n",
       "    }\n",
       "</style>\n",
       "<table border=\"1\" class=\"dataframe\">\n",
       "  <thead>\n",
       "    <tr style=\"text-align: right;\">\n",
       "      <th></th>\n",
       "      <th>Station</th>\n",
       "      <th>Date</th>\n",
       "      <th>Description</th>\n",
       "      <th>Division</th>\n",
       "      <th>Entries</th>\n",
       "      <th>Exits</th>\n",
       "      <th>Time</th>\n",
       "      <th>Entry_Inc</th>\n",
       "      <th>Exits_Inc</th>\n",
       "      <th>Traffic_Tot</th>\n",
       "    </tr>\n",
       "  </thead>\n",
       "  <tbody>\n",
       "    <tr>\n",
       "      <th>0</th>\n",
       "      <td>1 AV</td>\n",
       "      <td>01/02/2016</td>\n",
       "      <td>REGULAR</td>\n",
       "      <td>BMT</td>\n",
       "      <td>952276833</td>\n",
       "      <td>996873524</td>\n",
       "      <td>23:00:00</td>\n",
       "      <td>NaN</td>\n",
       "      <td>NaN</td>\n",
       "      <td>NaN</td>\n",
       "    </tr>\n",
       "    <tr>\n",
       "      <th>1</th>\n",
       "      <td>1 AV</td>\n",
       "      <td>01/03/2016</td>\n",
       "      <td>REGULAR</td>\n",
       "      <td>BMT</td>\n",
       "      <td>952278811</td>\n",
       "      <td>996874582</td>\n",
       "      <td>23:00:00</td>\n",
       "      <td>1978.0</td>\n",
       "      <td>1058.0</td>\n",
       "      <td>3036.0</td>\n",
       "    </tr>\n",
       "    <tr>\n",
       "      <th>2</th>\n",
       "      <td>1 AV</td>\n",
       "      <td>01/04/2016</td>\n",
       "      <td>REGULAR</td>\n",
       "      <td>BMT</td>\n",
       "      <td>952281200</td>\n",
       "      <td>996876891</td>\n",
       "      <td>23:00:00</td>\n",
       "      <td>2389.0</td>\n",
       "      <td>2309.0</td>\n",
       "      <td>4698.0</td>\n",
       "    </tr>\n",
       "    <tr>\n",
       "      <th>3</th>\n",
       "      <td>1 AV</td>\n",
       "      <td>01/05/2016</td>\n",
       "      <td>REGULAR</td>\n",
       "      <td>BMT</td>\n",
       "      <td>952283626</td>\n",
       "      <td>996879260</td>\n",
       "      <td>23:00:00</td>\n",
       "      <td>2426.0</td>\n",
       "      <td>2369.0</td>\n",
       "      <td>4795.0</td>\n",
       "    </tr>\n",
       "    <tr>\n",
       "      <th>4</th>\n",
       "      <td>1 AV</td>\n",
       "      <td>01/06/2016</td>\n",
       "      <td>REGULAR</td>\n",
       "      <td>BMT</td>\n",
       "      <td>952286534</td>\n",
       "      <td>996881553</td>\n",
       "      <td>23:00:00</td>\n",
       "      <td>2908.0</td>\n",
       "      <td>2293.0</td>\n",
       "      <td>5201.0</td>\n",
       "    </tr>\n",
       "  </tbody>\n",
       "</table>\n",
       "</div>"
      ],
      "text/plain": [
       "  Station        Date Description Division    Entries      Exits      Time  \\\n",
       "0    1 AV  01/02/2016     REGULAR      BMT  952276833  996873524  23:00:00   \n",
       "1    1 AV  01/03/2016     REGULAR      BMT  952278811  996874582  23:00:00   \n",
       "2    1 AV  01/04/2016     REGULAR      BMT  952281200  996876891  23:00:00   \n",
       "3    1 AV  01/05/2016     REGULAR      BMT  952283626  996879260  23:00:00   \n",
       "4    1 AV  01/06/2016     REGULAR      BMT  952286534  996881553  23:00:00   \n",
       "\n",
       "   Entry_Inc  Exits_Inc  Traffic_Tot  \n",
       "0        NaN        NaN          NaN  \n",
       "1     1978.0     1058.0       3036.0  \n",
       "2     2389.0     2309.0       4698.0  \n",
       "3     2426.0     2369.0       4795.0  \n",
       "4     2908.0     2293.0       5201.0  "
      ]
     },
     "execution_count": 5,
     "metadata": {},
     "output_type": "execute_result"
    }
   ],
   "source": [
    "# Data presented as cumulative; add columns to track the increment\n",
    "# Add Traffic_Tot column as sum of Entry and Exit to represent activity\n",
    "data['Entry_Inc'] = abs(data.Entries.diff())\n",
    "# data['Entry_Inc2'] = data['Entry_Inc']\n",
    "\n",
    "data['Exits_Inc'] = abs(data.Exits.diff())\n",
    "data['Traffic_Tot'] = np.add(data.Entry_Inc, data.Exits_Inc)\n",
    "data.head()"
   ]
  },
  {
   "cell_type": "code",
   "execution_count": 6,
   "metadata": {},
   "outputs": [
    {
     "data": {
      "text/html": [
       "<div>\n",
       "<style scoped>\n",
       "    .dataframe tbody tr th:only-of-type {\n",
       "        vertical-align: middle;\n",
       "    }\n",
       "\n",
       "    .dataframe tbody tr th {\n",
       "        vertical-align: top;\n",
       "    }\n",
       "\n",
       "    .dataframe thead th {\n",
       "        text-align: right;\n",
       "    }\n",
       "</style>\n",
       "<table border=\"1\" class=\"dataframe\">\n",
       "  <thead>\n",
       "    <tr style=\"text-align: right;\">\n",
       "      <th></th>\n",
       "      <th>Station</th>\n",
       "      <th>Date</th>\n",
       "      <th>Description</th>\n",
       "      <th>Division</th>\n",
       "      <th>Entries</th>\n",
       "      <th>Exits</th>\n",
       "      <th>Time</th>\n",
       "      <th>Entry_Inc</th>\n",
       "      <th>Exits_Inc</th>\n",
       "      <th>Traffic_Tot</th>\n",
       "    </tr>\n",
       "  </thead>\n",
       "  <tbody>\n",
       "    <tr>\n",
       "      <th>1</th>\n",
       "      <td>1 AV</td>\n",
       "      <td>01/03/2016</td>\n",
       "      <td>REGULAR</td>\n",
       "      <td>BMT</td>\n",
       "      <td>952278811</td>\n",
       "      <td>996874582</td>\n",
       "      <td>23:00:00</td>\n",
       "      <td>1978.0</td>\n",
       "      <td>1058.0</td>\n",
       "      <td>3036.0</td>\n",
       "    </tr>\n",
       "    <tr>\n",
       "      <th>2</th>\n",
       "      <td>1 AV</td>\n",
       "      <td>01/04/2016</td>\n",
       "      <td>REGULAR</td>\n",
       "      <td>BMT</td>\n",
       "      <td>952281200</td>\n",
       "      <td>996876891</td>\n",
       "      <td>23:00:00</td>\n",
       "      <td>2389.0</td>\n",
       "      <td>2309.0</td>\n",
       "      <td>4698.0</td>\n",
       "    </tr>\n",
       "    <tr>\n",
       "      <th>3</th>\n",
       "      <td>1 AV</td>\n",
       "      <td>01/05/2016</td>\n",
       "      <td>REGULAR</td>\n",
       "      <td>BMT</td>\n",
       "      <td>952283626</td>\n",
       "      <td>996879260</td>\n",
       "      <td>23:00:00</td>\n",
       "      <td>2426.0</td>\n",
       "      <td>2369.0</td>\n",
       "      <td>4795.0</td>\n",
       "    </tr>\n",
       "    <tr>\n",
       "      <th>4</th>\n",
       "      <td>1 AV</td>\n",
       "      <td>01/06/2016</td>\n",
       "      <td>REGULAR</td>\n",
       "      <td>BMT</td>\n",
       "      <td>952286534</td>\n",
       "      <td>996881553</td>\n",
       "      <td>23:00:00</td>\n",
       "      <td>2908.0</td>\n",
       "      <td>2293.0</td>\n",
       "      <td>5201.0</td>\n",
       "    </tr>\n",
       "    <tr>\n",
       "      <th>5</th>\n",
       "      <td>1 AV</td>\n",
       "      <td>01/07/2016</td>\n",
       "      <td>REGULAR</td>\n",
       "      <td>BMT</td>\n",
       "      <td>952289459</td>\n",
       "      <td>996883685</td>\n",
       "      <td>23:00:00</td>\n",
       "      <td>2925.0</td>\n",
       "      <td>2132.0</td>\n",
       "      <td>5057.0</td>\n",
       "    </tr>\n",
       "  </tbody>\n",
       "</table>\n",
       "</div>"
      ],
      "text/plain": [
       "  Station        Date Description Division    Entries      Exits      Time  \\\n",
       "1    1 AV  01/03/2016     REGULAR      BMT  952278811  996874582  23:00:00   \n",
       "2    1 AV  01/04/2016     REGULAR      BMT  952281200  996876891  23:00:00   \n",
       "3    1 AV  01/05/2016     REGULAR      BMT  952283626  996879260  23:00:00   \n",
       "4    1 AV  01/06/2016     REGULAR      BMT  952286534  996881553  23:00:00   \n",
       "5    1 AV  01/07/2016     REGULAR      BMT  952289459  996883685  23:00:00   \n",
       "\n",
       "   Entry_Inc  Exits_Inc  Traffic_Tot  \n",
       "1     1978.0     1058.0       3036.0  \n",
       "2     2389.0     2309.0       4698.0  \n",
       "3     2426.0     2369.0       4795.0  \n",
       "4     2908.0     2293.0       5201.0  \n",
       "5     2925.0     2132.0       5057.0  "
      ]
     },
     "execution_count": 6,
     "metadata": {},
     "output_type": "execute_result"
    }
   ],
   "source": [
    "# filter outliers above specified quantile\n",
    "quant_filt = 0.99\n",
    "q = data[\"Entry_Inc\"].quantile(quant_filt)\n",
    "data = data[data[\"Entry_Inc\"] < q]\n",
    "\n",
    "r = data[\"Exits_Inc\"].quantile(quant_filt)\n",
    "data = data[data[\"Exits_Inc\"] < r]\n",
    "\n",
    "s = data[\"Traffic_Tot\"].quantile(quant_filt)\n",
    "data = data[data[\"Traffic_Tot\"] < s]\n",
    "\n",
    "# data = data.dropna() # apparently no issues with NaN cells; running as best practice\n",
    "\n",
    "data.head()"
   ]
  },
  {
   "cell_type": "markdown",
   "metadata": {
    "collapsed": true
   },
   "source": [
    "### Sort Data\n",
    "Data is sorted by Station."
   ]
  },
  {
   "cell_type": "code",
   "execution_count": 7,
   "metadata": {},
   "outputs": [],
   "source": [
    "# data_stndatetime = data.groupby([ \"Station\", \"Date\",'Time']).sum() # sort by station, date and time\n",
    "# data_stndatetime.head()"
   ]
  },
  {
   "cell_type": "code",
   "execution_count": 8,
   "metadata": {},
   "outputs": [
    {
     "data": {
      "text/html": [
       "<div>\n",
       "<style scoped>\n",
       "    .dataframe tbody tr th:only-of-type {\n",
       "        vertical-align: middle;\n",
       "    }\n",
       "\n",
       "    .dataframe tbody tr th {\n",
       "        vertical-align: top;\n",
       "    }\n",
       "\n",
       "    .dataframe thead th {\n",
       "        text-align: right;\n",
       "    }\n",
       "</style>\n",
       "<table border=\"1\" class=\"dataframe\">\n",
       "  <thead>\n",
       "    <tr style=\"text-align: right;\">\n",
       "      <th></th>\n",
       "      <th>Entries</th>\n",
       "      <th>Exits</th>\n",
       "      <th>Entry_Inc</th>\n",
       "      <th>Exits_Inc</th>\n",
       "      <th>Traffic_Tot</th>\n",
       "      <th>Station_ID</th>\n",
       "    </tr>\n",
       "    <tr>\n",
       "      <th>Idx</th>\n",
       "      <th></th>\n",
       "      <th></th>\n",
       "      <th></th>\n",
       "      <th></th>\n",
       "      <th></th>\n",
       "      <th></th>\n",
       "    </tr>\n",
       "  </thead>\n",
       "  <tbody>\n",
       "    <tr>\n",
       "      <th>0</th>\n",
       "      <td>5253497403</td>\n",
       "      <td>5851296832</td>\n",
       "      <td>1078229.0</td>\n",
       "      <td>855806.0</td>\n",
       "      <td>1934035.0</td>\n",
       "      <td>BROADWAY JCT</td>\n",
       "    </tr>\n",
       "    <tr>\n",
       "      <th>1</th>\n",
       "      <td>4936512760</td>\n",
       "      <td>2215709680</td>\n",
       "      <td>597726.0</td>\n",
       "      <td>1326612.0</td>\n",
       "      <td>1924338.0</td>\n",
       "      <td>ASTOR PL</td>\n",
       "    </tr>\n",
       "    <tr>\n",
       "      <th>2</th>\n",
       "      <td>6020755303</td>\n",
       "      <td>4746892524</td>\n",
       "      <td>1064578.0</td>\n",
       "      <td>815432.0</td>\n",
       "      <td>1880010.0</td>\n",
       "      <td>61 ST WOODSIDE</td>\n",
       "    </tr>\n",
       "    <tr>\n",
       "      <th>3</th>\n",
       "      <td>4118410940</td>\n",
       "      <td>6765530103</td>\n",
       "      <td>872305.0</td>\n",
       "      <td>987015.0</td>\n",
       "      <td>1859320.0</td>\n",
       "      <td>MYRTLE AV</td>\n",
       "    </tr>\n",
       "    <tr>\n",
       "      <th>4</th>\n",
       "      <td>515455449736</td>\n",
       "      <td>678082494750</td>\n",
       "      <td>1171455.0</td>\n",
       "      <td>664099.0</td>\n",
       "      <td>1835554.0</td>\n",
       "      <td>34 ST-HERALD SQ</td>\n",
       "    </tr>\n",
       "  </tbody>\n",
       "</table>\n",
       "</div>"
      ],
      "text/plain": [
       "          Entries         Exits  Entry_Inc  Exits_Inc  Traffic_Tot  \\\n",
       "Idx                                                                  \n",
       "0      5253497403    5851296832  1078229.0   855806.0    1934035.0   \n",
       "1      4936512760    2215709680   597726.0  1326612.0    1924338.0   \n",
       "2      6020755303    4746892524  1064578.0   815432.0    1880010.0   \n",
       "3      4118410940    6765530103   872305.0   987015.0    1859320.0   \n",
       "4    515455449736  678082494750  1171455.0   664099.0    1835554.0   \n",
       "\n",
       "          Station_ID  \n",
       "Idx                   \n",
       "0       BROADWAY JCT  \n",
       "1           ASTOR PL  \n",
       "2     61 ST WOODSIDE  \n",
       "3          MYRTLE AV  \n",
       "4    34 ST-HERALD SQ  "
      ]
     },
     "execution_count": 8,
     "metadata": {},
     "output_type": "execute_result"
    }
   ],
   "source": [
    "data_stn = data.groupby([ \"Station\"]).sum() # sort by station\n",
    "# data_stn = pd.DataFrame(data_stn) # convert to panda dataframe\n",
    "data_stn['Station_ID'] = data_stn.index # Make Station_ID a non-index column\n",
    "data_stn = data_stn.sort_values(['Traffic_Tot'], ascending=[False]) # Sort stations by traffic\n",
    "data_stn['Idx'] = np.arange(data_stn.shape[0]) # add enumerated column\n",
    "data_stn = data_stn.set_index('Idx') # assign enumerated column as index column\n",
    "data_stn.head()"
   ]
  },
  {
   "cell_type": "markdown",
   "metadata": {
    "collapsed": true
   },
   "source": [
    "## Prep Data for Charting"
   ]
  },
  {
   "cell_type": "code",
   "execution_count": 9,
   "metadata": {
    "collapsed": true
   },
   "outputs": [],
   "source": [
    "# demographic data: NYC census\n",
    "# map of startups in NYC\n",
    "# calendar of tech events\n",
    "# unicorn \n",
    "\n",
    "# import seaborn as sns\n",
    "sns.set_style(\"whitegrid\")\n"
   ]
  },
  {
   "cell_type": "code",
   "execution_count": 10,
   "metadata": {},
   "outputs": [
    {
     "data": {
      "text/html": [
       "<div>\n",
       "<style scoped>\n",
       "    .dataframe tbody tr th:only-of-type {\n",
       "        vertical-align: middle;\n",
       "    }\n",
       "\n",
       "    .dataframe tbody tr th {\n",
       "        vertical-align: top;\n",
       "    }\n",
       "\n",
       "    .dataframe thead th {\n",
       "        text-align: right;\n",
       "    }\n",
       "</style>\n",
       "<table border=\"1\" class=\"dataframe\">\n",
       "  <thead>\n",
       "    <tr style=\"text-align: right;\">\n",
       "      <th></th>\n",
       "      <th>Entries</th>\n",
       "      <th>Exits</th>\n",
       "      <th>Entry_Inc</th>\n",
       "      <th>Exits_Inc</th>\n",
       "      <th>Traffic_Tot</th>\n",
       "      <th>Station_ID</th>\n",
       "    </tr>\n",
       "    <tr>\n",
       "      <th>Idx</th>\n",
       "      <th></th>\n",
       "      <th></th>\n",
       "      <th></th>\n",
       "      <th></th>\n",
       "      <th></th>\n",
       "      <th></th>\n",
       "    </tr>\n",
       "  </thead>\n",
       "  <tbody>\n",
       "    <tr>\n",
       "      <th>0</th>\n",
       "      <td>5253497403</td>\n",
       "      <td>5851296832</td>\n",
       "      <td>1078229.0</td>\n",
       "      <td>855806.0</td>\n",
       "      <td>1934035.0</td>\n",
       "      <td>BROADWAY JCT</td>\n",
       "    </tr>\n",
       "    <tr>\n",
       "      <th>1</th>\n",
       "      <td>4936512760</td>\n",
       "      <td>2215709680</td>\n",
       "      <td>597726.0</td>\n",
       "      <td>1326612.0</td>\n",
       "      <td>1924338.0</td>\n",
       "      <td>ASTOR PL</td>\n",
       "    </tr>\n",
       "    <tr>\n",
       "      <th>2</th>\n",
       "      <td>6020755303</td>\n",
       "      <td>4746892524</td>\n",
       "      <td>1064578.0</td>\n",
       "      <td>815432.0</td>\n",
       "      <td>1880010.0</td>\n",
       "      <td>61 ST WOODSIDE</td>\n",
       "    </tr>\n",
       "    <tr>\n",
       "      <th>3</th>\n",
       "      <td>4118410940</td>\n",
       "      <td>6765530103</td>\n",
       "      <td>872305.0</td>\n",
       "      <td>987015.0</td>\n",
       "      <td>1859320.0</td>\n",
       "      <td>MYRTLE AV</td>\n",
       "    </tr>\n",
       "    <tr>\n",
       "      <th>4</th>\n",
       "      <td>515455449736</td>\n",
       "      <td>678082494750</td>\n",
       "      <td>1171455.0</td>\n",
       "      <td>664099.0</td>\n",
       "      <td>1835554.0</td>\n",
       "      <td>34 ST-HERALD SQ</td>\n",
       "    </tr>\n",
       "  </tbody>\n",
       "</table>\n",
       "</div>"
      ],
      "text/plain": [
       "          Entries         Exits  Entry_Inc  Exits_Inc  Traffic_Tot  \\\n",
       "Idx                                                                  \n",
       "0      5253497403    5851296832  1078229.0   855806.0    1934035.0   \n",
       "1      4936512760    2215709680   597726.0  1326612.0    1924338.0   \n",
       "2      6020755303    4746892524  1064578.0   815432.0    1880010.0   \n",
       "3      4118410940    6765530103   872305.0   987015.0    1859320.0   \n",
       "4    515455449736  678082494750  1171455.0   664099.0    1835554.0   \n",
       "\n",
       "          Station_ID  \n",
       "Idx                   \n",
       "0       BROADWAY JCT  \n",
       "1           ASTOR PL  \n",
       "2     61 ST WOODSIDE  \n",
       "3          MYRTLE AV  \n",
       "4    34 ST-HERALD SQ  "
      ]
     },
     "execution_count": 10,
     "metadata": {},
     "output_type": "execute_result"
    }
   ],
   "source": [
    "data_stn = data_stn.iloc[:20,:] # limit to 20 most active stations\n",
    "\n",
    "data_stn.head()\n"
   ]
  },
  {
   "cell_type": "code",
   "execution_count": 11,
   "metadata": {},
   "outputs": [
    {
     "data": {
      "image/png": "[encoded data removed]",
      "text/plain": [
       "<matplotlib.figure.Figure at 0x1a48f38208>"
      ]
     },
     "metadata": {},
     "output_type": "display_data"
    }
   ],
   "source": [
    "# verify results: check http://web.mta.info/nyct/facts/ffsubway.htm\n",
    "ax = sns.barplot(x=\"Traffic_Tot\", y='Station_ID', data=data_stn)\n",
    "# gut feeling is that 23rd St is not a top station.  If more time, would\n",
    "# further analyze 23rd Street for outliers.\n"
   ]
  },
  {
   "cell_type": "code",
   "execution_count": null,
   "metadata": {
    "collapsed": true
   },
   "outputs": [],
   "source": []
  },
  {
   "cell_type": "code",
   "execution_count": 12,
   "metadata": {
    "collapsed": true
   },
   "outputs": [],
   "source": [
    "# PROBLEM STATEMENT\n",
    "# Optimize utilization of street teams by using data science by utilizing MTA \n",
    "# and [Demographic] data\n",
    "\n",
    "# PRESENTATION\n",
    "# Executive Summary / Scenario\n",
    "# MTA findings\n",
    "# Demographic findings\n",
    "# Combined MTA/Demo Analysis\n",
    "# Conclusion\n",
    "# Q&A\n",
    "\n",
    "# TODO:\n",
    "# Clean up JN\n",
    "# day/hour analyses\n",
    "# combine demographic data\n",
    "# Map which includes demographic data (ie income) and station activity (by size of dot)\n",
    "# Analyze top stations by time period (season, month, week, day, hour)\n",
    "# add lat/long\n",
    "# vet data better / graph \n",
    "\n",
    "# Tomorrow morning\n",
    "# Finished pres, practice"
   ]
  },
  {
   "cell_type": "markdown",
   "metadata": {},
   "source": [
    "### Top Station Activity: Penn Station 34th Street"
   ]
  },
  {
   "cell_type": "code",
   "execution_count": 13,
   "metadata": {},
   "outputs": [
    {
     "data": {
      "text/plain": [
       "7013.0"
      ]
     },
     "execution_count": 13,
     "metadata": {},
     "output_type": "execute_result"
    }
   ],
   "source": [
    "data_Penn = data[data['Station'] == '34 ST-PENN STA']\n",
    "# data_Penn.head()\n",
    "np.max(data_Penn['Traffic_Tot'])\n"
   ]
  },
  {
   "cell_type": "code",
   "execution_count": 14,
   "metadata": {},
   "outputs": [
    {
     "data": {
      "image/png": "[encoded data removed]",
      "text/plain": [
       "<matplotlib.figure.Figure at 0x1a380d63c8>"
      ]
     },
     "metadata": {},
     "output_type": "display_data"
    }
   ],
   "source": [
    "y = pd.Series(data_Penn['Traffic_Tot'])\n",
    "x = pd.Series(data_Penn['Date'])\n",
    "\n",
    "plt.plot(x,y)\n",
    "# axes = plt.gca()\n",
    "# axes.set_ylim([1000,2000])\n",
    "plt.show()"
   ]
  },
  {
   "cell_type": "markdown",
   "metadata": {},
   "source": [
    "### Top Station Activity: 23rd St"
   ]
  },
  {
   "cell_type": "code",
   "execution_count": 15,
   "metadata": {},
   "outputs": [
    {
     "data": {
      "text/plain": [
       "5413.0"
      ]
     },
     "execution_count": 15,
     "metadata": {},
     "output_type": "execute_result"
    }
   ],
   "source": [
    "data_23ST = data[data['Station'] == '23 ST']\n",
    "# data_23ST.head()\n",
    "np.max(data_23ST['Traffic_Tot'])\n"
   ]
  },
  {
   "cell_type": "code",
   "execution_count": 16,
   "metadata": {},
   "outputs": [
    {
     "data": {
      "image/png": "[encoded data removed]",
      "text/plain": [
       "<matplotlib.figure.Figure at 0x1a2febd320>"
      ]
     },
     "metadata": {},
     "output_type": "display_data"
    }
   ],
   "source": [
    "y = pd.Series(data_23ST['Traffic_Tot'])\n",
    "x = pd.Series(data_23ST['Date'])\n",
    "\n",
    "plt.plot(x,y)\n",
    "# axes = plt.gca()\n",
    "# axes.set_ylim([1000,2000])\n",
    "plt.show()"
   ]
  },
  {
   "cell_type": "code",
   "execution_count": null,
   "metadata": {
    "collapsed": true
   },
   "outputs": [],
   "source": []
  },
  {
   "cell_type": "code",
   "execution_count": null,
   "metadata": {
    "collapsed": true
   },
   "outputs": [],
   "source": []
  },
  {
   "cell_type": "code",
   "execution_count": null,
   "metadata": {
    "collapsed": true
   },
   "outputs": [],
   "source": []
  },
  {
   "cell_type": "code",
   "execution_count": null,
   "metadata": {
    "collapsed": true
   },
   "outputs": [],
   "source": []
  },
  {
   "cell_type": "code",
   "execution_count": null,
   "metadata": {
    "collapsed": true
   },
   "outputs": [],
   "source": []
  },
  {
   "cell_type": "code",
   "execution_count": null,
   "metadata": {
    "collapsed": true
   },
   "outputs": [],
   "source": []
  },
  {
   "cell_type": "code",
   "execution_count": null,
   "metadata": {
    "collapsed": true
   },
   "outputs": [],
   "source": []
  },
  {
   "cell_type": "code",
   "execution_count": null,
   "metadata": {
    "collapsed": true
   },
   "outputs": [],
   "source": []
  },
  {
   "cell_type": "code",
   "execution_count": null,
   "metadata": {
    "collapsed": true
   },
   "outputs": [],
   "source": []
  },
  {
   "cell_type": "markdown",
   "metadata": {},
   "source": [
    "### Top Station Activity: 72nd St"
   ]
  },
  {
   "cell_type": "code",
   "execution_count": 17,
   "metadata": {},
   "outputs": [
    {
     "data": {
      "image/png": "[encoded data removed]",
      "text/plain": [
       "<matplotlib.figure.Figure at 0x11388ce10>"
      ]
     },
     "metadata": {},
     "output_type": "display_data"
    }
   ],
   "source": [
    "data_72ST = data[data['Station'] == '72 ST']\n",
    "y = pd.Series(data_72ST['Traffic_Tot'])\n",
    "x = pd.Series(data_72ST['Date'])\n",
    "\n",
    "plt.plot(x,y)\n",
    "# axes = plt.gca()\n",
    "# axes.set_ylim([1000,2000])\n",
    "plt.show()"
   ]
  },
  {
   "cell_type": "code",
   "execution_count": 18,
   "metadata": {},
   "outputs": [
    {
     "data": {
      "text/plain": [
       "pandas.core.series.Series"
      ]
     },
     "execution_count": 18,
     "metadata": {},
     "output_type": "execute_result"
    }
   ],
   "source": [
    "data = pd.DataFrame(data)\n",
    "data['Date'] = pd.to_datetime(data['Date'])\n",
    "type(data['Date'])"
   ]
  },
  {
   "cell_type": "code",
   "execution_count": null,
   "metadata": {
    "collapsed": true
   },
   "outputs": [],
   "source": []
  }
 ],
 "metadata": {
  "kernelspec": {
   "display_name": "Python 3",
   "language": "python",
   "name": "python3"
  },
  "language_info": {
   "codemirror_mode": {
    "name": "ipython",
    "version": 3
   },
   "file_extension": ".py",
   "mimetype": "text/x-python",
   "name": "python",
   "nbconvert_exporter": "python",
   "pygments_lexer": "ipython3",
   "version": "3.5.4"
  }
 },
 "nbformat": 4,
 "nbformat_minor": 2
}
