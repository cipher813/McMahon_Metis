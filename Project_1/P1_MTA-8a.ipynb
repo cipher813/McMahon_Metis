{
 "cells": [
  {
   "cell_type": "markdown",
   "metadata": {},
   "source": [
    "### Problem Statement\n",
    "[insert]\n"
   ]
  },
  {
   "cell_type": "markdown",
   "metadata": {
    "collapsed": true
   },
   "source": [
    "### Import Data"
   ]
  },
  {
   "cell_type": "code",
   "execution_count": 1,
   "metadata": {
    "collapsed": true
   },
   "outputs": [],
   "source": [
    "import pandas as pd\n",
    "import numpy as np\n",
    "import seaborn as sns\n",
    "import matplotlib.pyplot as plt"
   ]
  },
  {
   "cell_type": "code",
   "execution_count": 2,
   "metadata": {},
   "outputs": [
    {
     "name": "stderr",
     "output_type": "stream",
     "text": [
      "/Users/brianmcmahon/anaconda3/envs/tensorflow1.4/lib/python3.5/site-packages/IPython/core/interactiveshell.py:2728: DtypeWarning: Columns (4) have mixed types. Specify dtype option on import or set low_memory=False.\n",
      "  interactivity=interactivity, compiler=compiler, result=result)\n"
     ]
    }
   ],
   "source": [
    "# https://data.ny.gov/Transportation/Turnstile-Usage-Data-2016/ekwu-khcy\n",
    "# https://data.ny.gov/api/views/ekwu-khcy/rows.csv?accessType=DOWNLOAD\n",
    "data = pd.read_csv('Turnstile_Usage_Data__2016.csv')\n",
    "data = pd.DataFrame(data) # change to pandas dataframe\n",
    "# parse spaces from columns; to use better approach when \n",
    "data=data.rename(columns = {'Exits                                                     ':'Exits'})\n",
    "# Do we need to convert Date column to datetime?\n",
    "# data['Date'] = data['Date'].to_datetime()\n",
    "# data['Date'] = data['Date'].dt.date\n"
   ]
  },
  {
   "cell_type": "code",
   "execution_count": 3,
   "metadata": {},
   "outputs": [
    {
     "name": "stdout",
     "output_type": "stream",
     "text": [
      "<class 'pandas.core.series.Series'>\n"
     ]
    },
    {
     "data": {
      "text/html": [
       "<div>\n",
       "<style scoped>\n",
       "    .dataframe tbody tr th:only-of-type {\n",
       "        vertical-align: middle;\n",
       "    }\n",
       "\n",
       "    .dataframe tbody tr th {\n",
       "        vertical-align: top;\n",
       "    }\n",
       "\n",
       "    .dataframe thead th {\n",
       "        text-align: right;\n",
       "    }\n",
       "</style>\n",
       "<table border=\"1\" class=\"dataframe\">\n",
       "  <thead>\n",
       "    <tr style=\"text-align: right;\">\n",
       "      <th></th>\n",
       "      <th>Station</th>\n",
       "      <th>Line Name</th>\n",
       "      <th>Division</th>\n",
       "      <th>Date</th>\n",
       "      <th>Time</th>\n",
       "      <th>Description</th>\n",
       "      <th>Entries</th>\n",
       "      <th>Exits</th>\n",
       "    </tr>\n",
       "  </thead>\n",
       "  <tbody>\n",
       "    <tr>\n",
       "      <th>0</th>\n",
       "      <td>59 ST</td>\n",
       "      <td>NQR456</td>\n",
       "      <td>BMT</td>\n",
       "      <td>03/04/2016</td>\n",
       "      <td>23:00:00</td>\n",
       "      <td>REGULAR</td>\n",
       "      <td>5572864</td>\n",
       "      <td>1881239</td>\n",
       "    </tr>\n",
       "    <tr>\n",
       "      <th>1</th>\n",
       "      <td>59 ST</td>\n",
       "      <td>NQR456</td>\n",
       "      <td>BMT</td>\n",
       "      <td>03/04/2016</td>\n",
       "      <td>19:00:00</td>\n",
       "      <td>REGULAR</td>\n",
       "      <td>5572521</td>\n",
       "      <td>1881206</td>\n",
       "    </tr>\n",
       "    <tr>\n",
       "      <th>2</th>\n",
       "      <td>59 ST</td>\n",
       "      <td>NQR456</td>\n",
       "      <td>BMT</td>\n",
       "      <td>03/04/2016</td>\n",
       "      <td>15:00:00</td>\n",
       "      <td>REGULAR</td>\n",
       "      <td>5571587</td>\n",
       "      <td>1881113</td>\n",
       "    </tr>\n",
       "    <tr>\n",
       "      <th>3</th>\n",
       "      <td>59 ST</td>\n",
       "      <td>NQR456</td>\n",
       "      <td>BMT</td>\n",
       "      <td>03/04/2016</td>\n",
       "      <td>11:00:00</td>\n",
       "      <td>REGULAR</td>\n",
       "      <td>5571313</td>\n",
       "      <td>1881031</td>\n",
       "    </tr>\n",
       "    <tr>\n",
       "      <th>4</th>\n",
       "      <td>59 ST</td>\n",
       "      <td>NQR456</td>\n",
       "      <td>BMT</td>\n",
       "      <td>03/04/2016</td>\n",
       "      <td>08:10:05</td>\n",
       "      <td>REGULAR</td>\n",
       "      <td>5571173</td>\n",
       "      <td>1880736</td>\n",
       "    </tr>\n",
       "  </tbody>\n",
       "</table>\n",
       "</div>"
      ],
      "text/plain": [
       "  Station Line Name Division        Date      Time Description  Entries  \\\n",
       "0   59 ST    NQR456      BMT  03/04/2016  23:00:00     REGULAR  5572864   \n",
       "1   59 ST    NQR456      BMT  03/04/2016  19:00:00     REGULAR  5572521   \n",
       "2   59 ST    NQR456      BMT  03/04/2016  15:00:00     REGULAR  5571587   \n",
       "3   59 ST    NQR456      BMT  03/04/2016  11:00:00     REGULAR  5571313   \n",
       "4   59 ST    NQR456      BMT  03/04/2016  08:10:05     REGULAR  5571173   \n",
       "\n",
       "     Exits  \n",
       "0  1881239  \n",
       "1  1881206  \n",
       "2  1881113  \n",
       "3  1881031  \n",
       "4  1880736  "
      ]
     },
     "execution_count": 3,
     "metadata": {},
     "output_type": "execute_result"
    }
   ],
   "source": [
    "# data['Date'] = data['Date'].astype('datetime64') # convert data column to date type\n",
    "print(type(data['Date']))\n",
    "# remove first few columns, deemed irrelevant\n",
    "data = data.iloc[:,3:]\n",
    "data.head()"
   ]
  },
  {
   "cell_type": "markdown",
   "metadata": {},
   "source": [
    "### Process Data"
   ]
  },
  {
   "cell_type": "code",
   "execution_count": null,
   "metadata": {
    "collapsed": true
   },
   "outputs": [],
   "source": [
    "# Groupby Station, Day\n"
   ]
  },
  {
   "cell_type": "code",
   "execution_count": 4,
   "metadata": {},
   "outputs": [
    {
     "data": {
      "text/html": [
       "<div>\n",
       "<style scoped>\n",
       "    .dataframe tbody tr th:only-of-type {\n",
       "        vertical-align: middle;\n",
       "    }\n",
       "\n",
       "    .dataframe tbody tr th {\n",
       "        vertical-align: top;\n",
       "    }\n",
       "\n",
       "    .dataframe thead th {\n",
       "        text-align: right;\n",
       "    }\n",
       "</style>\n",
       "<table border=\"1\" class=\"dataframe\">\n",
       "  <thead>\n",
       "    <tr style=\"text-align: right;\">\n",
       "      <th></th>\n",
       "      <th>Station</th>\n",
       "      <th>Line Name</th>\n",
       "      <th>Division</th>\n",
       "      <th>Date</th>\n",
       "      <th>Time</th>\n",
       "      <th>Description</th>\n",
       "      <th>Entries</th>\n",
       "      <th>Exits</th>\n",
       "      <th>Entry_Inc</th>\n",
       "      <th>Exits_Inc</th>\n",
       "      <th>Traffic_Tot</th>\n",
       "    </tr>\n",
       "  </thead>\n",
       "  <tbody>\n",
       "    <tr>\n",
       "      <th>0</th>\n",
       "      <td>59 ST</td>\n",
       "      <td>NQR456</td>\n",
       "      <td>BMT</td>\n",
       "      <td>03/04/2016</td>\n",
       "      <td>23:00:00</td>\n",
       "      <td>REGULAR</td>\n",
       "      <td>5572864</td>\n",
       "      <td>1881239</td>\n",
       "      <td>NaN</td>\n",
       "      <td>NaN</td>\n",
       "      <td>NaN</td>\n",
       "    </tr>\n",
       "    <tr>\n",
       "      <th>1</th>\n",
       "      <td>59 ST</td>\n",
       "      <td>NQR456</td>\n",
       "      <td>BMT</td>\n",
       "      <td>03/04/2016</td>\n",
       "      <td>19:00:00</td>\n",
       "      <td>REGULAR</td>\n",
       "      <td>5572521</td>\n",
       "      <td>1881206</td>\n",
       "      <td>343.0</td>\n",
       "      <td>33.0</td>\n",
       "      <td>376.0</td>\n",
       "    </tr>\n",
       "    <tr>\n",
       "      <th>2</th>\n",
       "      <td>59 ST</td>\n",
       "      <td>NQR456</td>\n",
       "      <td>BMT</td>\n",
       "      <td>03/04/2016</td>\n",
       "      <td>15:00:00</td>\n",
       "      <td>REGULAR</td>\n",
       "      <td>5571587</td>\n",
       "      <td>1881113</td>\n",
       "      <td>934.0</td>\n",
       "      <td>93.0</td>\n",
       "      <td>1027.0</td>\n",
       "    </tr>\n",
       "    <tr>\n",
       "      <th>3</th>\n",
       "      <td>59 ST</td>\n",
       "      <td>NQR456</td>\n",
       "      <td>BMT</td>\n",
       "      <td>03/04/2016</td>\n",
       "      <td>11:00:00</td>\n",
       "      <td>REGULAR</td>\n",
       "      <td>5571313</td>\n",
       "      <td>1881031</td>\n",
       "      <td>274.0</td>\n",
       "      <td>82.0</td>\n",
       "      <td>356.0</td>\n",
       "    </tr>\n",
       "    <tr>\n",
       "      <th>4</th>\n",
       "      <td>59 ST</td>\n",
       "      <td>NQR456</td>\n",
       "      <td>BMT</td>\n",
       "      <td>03/04/2016</td>\n",
       "      <td>08:10:05</td>\n",
       "      <td>REGULAR</td>\n",
       "      <td>5571173</td>\n",
       "      <td>1880736</td>\n",
       "      <td>140.0</td>\n",
       "      <td>295.0</td>\n",
       "      <td>435.0</td>\n",
       "    </tr>\n",
       "  </tbody>\n",
       "</table>\n",
       "</div>"
      ],
      "text/plain": [
       "  Station Line Name Division        Date      Time Description  Entries  \\\n",
       "0   59 ST    NQR456      BMT  03/04/2016  23:00:00     REGULAR  5572864   \n",
       "1   59 ST    NQR456      BMT  03/04/2016  19:00:00     REGULAR  5572521   \n",
       "2   59 ST    NQR456      BMT  03/04/2016  15:00:00     REGULAR  5571587   \n",
       "3   59 ST    NQR456      BMT  03/04/2016  11:00:00     REGULAR  5571313   \n",
       "4   59 ST    NQR456      BMT  03/04/2016  08:10:05     REGULAR  5571173   \n",
       "\n",
       "     Exits  Entry_Inc  Exits_Inc  Traffic_Tot  \n",
       "0  1881239        NaN        NaN          NaN  \n",
       "1  1881206      343.0       33.0        376.0  \n",
       "2  1881113      934.0       93.0       1027.0  \n",
       "3  1881031      274.0       82.0        356.0  \n",
       "4  1880736      140.0      295.0        435.0  "
      ]
     },
     "execution_count": 4,
     "metadata": {},
     "output_type": "execute_result"
    }
   ],
   "source": [
    "# Data presented as cumulative; add columns to track the increment\n",
    "# Add Traffic_Tot column as sum of Entry and Exit to represent activity\n",
    "data['Entry_Inc'] = abs(data.Entries.diff())\n",
    "data['Exits_Inc'] = abs(data.Exits.diff())\n",
    "data['Traffic_Tot'] = np.add(data.Entry_Inc, data.Exits_Inc)\n",
    "data.head()"
   ]
  },
  {
   "cell_type": "code",
   "execution_count": 5,
   "metadata": {},
   "outputs": [
    {
     "data": {
      "text/html": [
       "<div>\n",
       "<style scoped>\n",
       "    .dataframe tbody tr th:only-of-type {\n",
       "        vertical-align: middle;\n",
       "    }\n",
       "\n",
       "    .dataframe tbody tr th {\n",
       "        vertical-align: top;\n",
       "    }\n",
       "\n",
       "    .dataframe thead th {\n",
       "        text-align: right;\n",
       "    }\n",
       "</style>\n",
       "<table border=\"1\" class=\"dataframe\">\n",
       "  <thead>\n",
       "    <tr style=\"text-align: right;\">\n",
       "      <th></th>\n",
       "      <th>Station</th>\n",
       "      <th>Line Name</th>\n",
       "      <th>Division</th>\n",
       "      <th>Date</th>\n",
       "      <th>Time</th>\n",
       "      <th>Description</th>\n",
       "      <th>Entries</th>\n",
       "      <th>Exits</th>\n",
       "      <th>Entry_Inc</th>\n",
       "      <th>Exits_Inc</th>\n",
       "      <th>Traffic_Tot</th>\n",
       "    </tr>\n",
       "  </thead>\n",
       "  <tbody>\n",
       "    <tr>\n",
       "      <th>1</th>\n",
       "      <td>59 ST</td>\n",
       "      <td>NQR456</td>\n",
       "      <td>BMT</td>\n",
       "      <td>03/04/2016</td>\n",
       "      <td>19:00:00</td>\n",
       "      <td>REGULAR</td>\n",
       "      <td>5572521</td>\n",
       "      <td>1881206</td>\n",
       "      <td>343.0</td>\n",
       "      <td>33.0</td>\n",
       "      <td>376.0</td>\n",
       "    </tr>\n",
       "    <tr>\n",
       "      <th>2</th>\n",
       "      <td>59 ST</td>\n",
       "      <td>NQR456</td>\n",
       "      <td>BMT</td>\n",
       "      <td>03/04/2016</td>\n",
       "      <td>15:00:00</td>\n",
       "      <td>REGULAR</td>\n",
       "      <td>5571587</td>\n",
       "      <td>1881113</td>\n",
       "      <td>934.0</td>\n",
       "      <td>93.0</td>\n",
       "      <td>1027.0</td>\n",
       "    </tr>\n",
       "    <tr>\n",
       "      <th>3</th>\n",
       "      <td>59 ST</td>\n",
       "      <td>NQR456</td>\n",
       "      <td>BMT</td>\n",
       "      <td>03/04/2016</td>\n",
       "      <td>11:00:00</td>\n",
       "      <td>REGULAR</td>\n",
       "      <td>5571313</td>\n",
       "      <td>1881031</td>\n",
       "      <td>274.0</td>\n",
       "      <td>82.0</td>\n",
       "      <td>356.0</td>\n",
       "    </tr>\n",
       "    <tr>\n",
       "      <th>4</th>\n",
       "      <td>59 ST</td>\n",
       "      <td>NQR456</td>\n",
       "      <td>BMT</td>\n",
       "      <td>03/04/2016</td>\n",
       "      <td>08:10:05</td>\n",
       "      <td>REGULAR</td>\n",
       "      <td>5571173</td>\n",
       "      <td>1880736</td>\n",
       "      <td>140.0</td>\n",
       "      <td>295.0</td>\n",
       "      <td>435.0</td>\n",
       "    </tr>\n",
       "    <tr>\n",
       "      <th>5</th>\n",
       "      <td>59 ST</td>\n",
       "      <td>NQR456</td>\n",
       "      <td>BMT</td>\n",
       "      <td>03/04/2016</td>\n",
       "      <td>07:00:00</td>\n",
       "      <td>REGULAR</td>\n",
       "      <td>5571136</td>\n",
       "      <td>1880657</td>\n",
       "      <td>37.0</td>\n",
       "      <td>79.0</td>\n",
       "      <td>116.0</td>\n",
       "    </tr>\n",
       "  </tbody>\n",
       "</table>\n",
       "</div>"
      ],
      "text/plain": [
       "  Station Line Name Division        Date      Time Description  Entries  \\\n",
       "1   59 ST    NQR456      BMT  03/04/2016  19:00:00     REGULAR  5572521   \n",
       "2   59 ST    NQR456      BMT  03/04/2016  15:00:00     REGULAR  5571587   \n",
       "3   59 ST    NQR456      BMT  03/04/2016  11:00:00     REGULAR  5571313   \n",
       "4   59 ST    NQR456      BMT  03/04/2016  08:10:05     REGULAR  5571173   \n",
       "5   59 ST    NQR456      BMT  03/04/2016  07:00:00     REGULAR  5571136   \n",
       "\n",
       "     Exits  Entry_Inc  Exits_Inc  Traffic_Tot  \n",
       "1  1881206      343.0       33.0        376.0  \n",
       "2  1881113      934.0       93.0       1027.0  \n",
       "3  1881031      274.0       82.0        356.0  \n",
       "4  1880736      140.0      295.0        435.0  \n",
       "5  1880657       37.0       79.0        116.0  "
      ]
     },
     "execution_count": 5,
     "metadata": {},
     "output_type": "execute_result"
    }
   ],
   "source": [
    "# filter outliers above specified quantile\n",
    "quant_filt = 0.99\n",
    "q = data[\"Entry_Inc\"].quantile(quant_filt)\n",
    "data = data[data[\"Entry_Inc\"] < q]\n",
    "\n",
    "r = data[\"Exits_Inc\"].quantile(quant_filt)\n",
    "data = data[data[\"Exits_Inc\"] < r]\n",
    "\n",
    "s = data[\"Traffic_Tot\"].quantile(quant_filt)\n",
    "data = data[data[\"Traffic_Tot\"] < s]\n",
    "\n",
    "data = data.dropna() # apparently no issues with NaN cells; running as best practice\n",
    "\n",
    "data.head()"
   ]
  },
  {
   "cell_type": "markdown",
   "metadata": {
    "collapsed": true
   },
   "source": [
    "### Sort Data\n",
    "Data is sorted by Station."
   ]
  },
  {
   "cell_type": "code",
   "execution_count": 6,
   "metadata": {},
   "outputs": [
    {
     "data": {
      "text/html": [
       "<div>\n",
       "<style scoped>\n",
       "    .dataframe tbody tr th:only-of-type {\n",
       "        vertical-align: middle;\n",
       "    }\n",
       "\n",
       "    .dataframe tbody tr th {\n",
       "        vertical-align: top;\n",
       "    }\n",
       "\n",
       "    .dataframe thead th {\n",
       "        text-align: right;\n",
       "    }\n",
       "</style>\n",
       "<table border=\"1\" class=\"dataframe\">\n",
       "  <thead>\n",
       "    <tr style=\"text-align: right;\">\n",
       "      <th></th>\n",
       "      <th></th>\n",
       "      <th></th>\n",
       "      <th>Entries</th>\n",
       "      <th>Exits</th>\n",
       "      <th>Entry_Inc</th>\n",
       "      <th>Exits_Inc</th>\n",
       "      <th>Traffic_Tot</th>\n",
       "    </tr>\n",
       "    <tr>\n",
       "      <th>Station</th>\n",
       "      <th>Date</th>\n",
       "      <th>Time</th>\n",
       "      <th></th>\n",
       "      <th></th>\n",
       "      <th></th>\n",
       "      <th></th>\n",
       "      <th></th>\n",
       "    </tr>\n",
       "  </thead>\n",
       "  <tbody>\n",
       "    <tr>\n",
       "      <th rowspan=\"5\" valign=\"top\">1 AV</th>\n",
       "      <th rowspan=\"5\" valign=\"top\">01/02/2016</th>\n",
       "      <th>03:00:00</th>\n",
       "      <td>1407788395</td>\n",
       "      <td>1469357462</td>\n",
       "      <td>319.0</td>\n",
       "      <td>525.0</td>\n",
       "      <td>844.0</td>\n",
       "    </tr>\n",
       "    <tr>\n",
       "      <th>07:00:00</th>\n",
       "      <td>1407788714</td>\n",
       "      <td>1469357987</td>\n",
       "      <td>1607.0</td>\n",
       "      <td>1841.0</td>\n",
       "      <td>3448.0</td>\n",
       "    </tr>\n",
       "    <tr>\n",
       "      <th>11:00:00</th>\n",
       "      <td>1407790321</td>\n",
       "      <td>1469359828</td>\n",
       "      <td>3904.0</td>\n",
       "      <td>3802.0</td>\n",
       "      <td>7706.0</td>\n",
       "    </tr>\n",
       "    <tr>\n",
       "      <th>15:00:00</th>\n",
       "      <td>1407794225</td>\n",
       "      <td>1469363630</td>\n",
       "      <td>4463.0</td>\n",
       "      <td>5779.0</td>\n",
       "      <td>10242.0</td>\n",
       "    </tr>\n",
       "    <tr>\n",
       "      <th>19:00:00</th>\n",
       "      <td>1407798688</td>\n",
       "      <td>1469369409</td>\n",
       "      <td>4132.0</td>\n",
       "      <td>4991.0</td>\n",
       "      <td>9123.0</td>\n",
       "    </tr>\n",
       "  </tbody>\n",
       "</table>\n",
       "</div>"
      ],
      "text/plain": [
       "                                Entries       Exits  Entry_Inc  Exits_Inc  \\\n",
       "Station Date       Time                                                     \n",
       "1 AV    01/02/2016 03:00:00  1407788395  1469357462      319.0      525.0   \n",
       "                   07:00:00  1407788714  1469357987     1607.0     1841.0   \n",
       "                   11:00:00  1407790321  1469359828     3904.0     3802.0   \n",
       "                   15:00:00  1407794225  1469363630     4463.0     5779.0   \n",
       "                   19:00:00  1407798688  1469369409     4132.0     4991.0   \n",
       "\n",
       "                             Traffic_Tot  \n",
       "Station Date       Time                   \n",
       "1 AV    01/02/2016 03:00:00        844.0  \n",
       "                   07:00:00       3448.0  \n",
       "                   11:00:00       7706.0  \n",
       "                   15:00:00      10242.0  \n",
       "                   19:00:00       9123.0  "
      ]
     },
     "execution_count": 6,
     "metadata": {},
     "output_type": "execute_result"
    }
   ],
   "source": [
    "data_stndatetime = data.groupby([ \"Station\", \"Date\",'Time']).sum() # sort by station, date and time\n",
    "data_stndatetime.head()"
   ]
  },
  {
   "cell_type": "code",
   "execution_count": 7,
   "metadata": {},
   "outputs": [
    {
     "data": {
      "text/html": [
       "<div>\n",
       "<style scoped>\n",
       "    .dataframe tbody tr th:only-of-type {\n",
       "        vertical-align: middle;\n",
       "    }\n",
       "\n",
       "    .dataframe tbody tr th {\n",
       "        vertical-align: top;\n",
       "    }\n",
       "\n",
       "    .dataframe thead th {\n",
       "        text-align: right;\n",
       "    }\n",
       "</style>\n",
       "<table border=\"1\" class=\"dataframe\">\n",
       "  <thead>\n",
       "    <tr style=\"text-align: right;\">\n",
       "      <th></th>\n",
       "      <th>Entries</th>\n",
       "      <th>Exits</th>\n",
       "      <th>Entry_Inc</th>\n",
       "      <th>Exits_Inc</th>\n",
       "      <th>Traffic_Tot</th>\n",
       "      <th>Station_ID</th>\n",
       "    </tr>\n",
       "    <tr>\n",
       "      <th>Idx</th>\n",
       "      <th></th>\n",
       "      <th></th>\n",
       "      <th></th>\n",
       "      <th></th>\n",
       "      <th></th>\n",
       "      <th></th>\n",
       "    </tr>\n",
       "  </thead>\n",
       "  <tbody>\n",
       "    <tr>\n",
       "      <th>0</th>\n",
       "      <td>6688304157199</td>\n",
       "      <td>3630511989854</td>\n",
       "      <td>43389327.0</td>\n",
       "      <td>35722750.0</td>\n",
       "      <td>79112077.0</td>\n",
       "      <td>34 ST-PENN STA</td>\n",
       "    </tr>\n",
       "    <tr>\n",
       "      <th>1</th>\n",
       "      <td>12665339112269</td>\n",
       "      <td>11696989712585</td>\n",
       "      <td>31416768.0</td>\n",
       "      <td>23977529.0</td>\n",
       "      <td>55394297.0</td>\n",
       "      <td>23 ST</td>\n",
       "    </tr>\n",
       "    <tr>\n",
       "      <th>2</th>\n",
       "      <td>5847951627430</td>\n",
       "      <td>6098512500597</td>\n",
       "      <td>27860423.0</td>\n",
       "      <td>24614007.0</td>\n",
       "      <td>52474430.0</td>\n",
       "      <td>34 ST-HERALD SQ</td>\n",
       "    </tr>\n",
       "    <tr>\n",
       "      <th>3</th>\n",
       "      <td>11539236191101</td>\n",
       "      <td>9178257398340</td>\n",
       "      <td>25838571.0</td>\n",
       "      <td>23245722.0</td>\n",
       "      <td>49084293.0</td>\n",
       "      <td>TIMES SQ-42 ST</td>\n",
       "    </tr>\n",
       "    <tr>\n",
       "      <th>4</th>\n",
       "      <td>7901555330882</td>\n",
       "      <td>2052315189136</td>\n",
       "      <td>25151182.0</td>\n",
       "      <td>22764739.0</td>\n",
       "      <td>47915921.0</td>\n",
       "      <td>GRD CNTRL-42 ST</td>\n",
       "    </tr>\n",
       "  </tbody>\n",
       "</table>\n",
       "</div>"
      ],
      "text/plain": [
       "            Entries           Exits   Entry_Inc   Exits_Inc  Traffic_Tot  \\\n",
       "Idx                                                                        \n",
       "0     6688304157199   3630511989854  43389327.0  35722750.0   79112077.0   \n",
       "1    12665339112269  11696989712585  31416768.0  23977529.0   55394297.0   \n",
       "2     5847951627430   6098512500597  27860423.0  24614007.0   52474430.0   \n",
       "3    11539236191101   9178257398340  25838571.0  23245722.0   49084293.0   \n",
       "4     7901555330882   2052315189136  25151182.0  22764739.0   47915921.0   \n",
       "\n",
       "          Station_ID  \n",
       "Idx                   \n",
       "0     34 ST-PENN STA  \n",
       "1              23 ST  \n",
       "2    34 ST-HERALD SQ  \n",
       "3     TIMES SQ-42 ST  \n",
       "4    GRD CNTRL-42 ST  "
      ]
     },
     "execution_count": 7,
     "metadata": {},
     "output_type": "execute_result"
    }
   ],
   "source": [
    "data_stn = data.groupby([ \"Station\"]).sum() # sort by station\n",
    "data_stn = pd.DataFrame(data_stn) # convert to panda dataframe\n",
    "data_stn['Station_ID'] = data_stn.index # Make Station_ID a non-index column\n",
    "data_stn = data_stn.sort_values(['Traffic_Tot'], ascending=[False]) # Sort stations by traffic\n",
    "data_stn['Idx'] = np.arange(data_stn.shape[0]) # add enumerated column\n",
    "data_stn = data_stn.set_index('Idx') # assign enumerated column as index column\n",
    "data_stn.head()"
   ]
  },
  {
   "cell_type": "markdown",
   "metadata": {
    "collapsed": true
   },
   "source": [
    "## Prep Data for Charting"
   ]
  },
  {
   "cell_type": "code",
   "execution_count": 8,
   "metadata": {
    "collapsed": true
   },
   "outputs": [],
   "source": [
    "# demographic data: NYC census\n",
    "# map of startups in NYC\n",
    "# calendar of tech events\n",
    "# unicorn \n",
    "\n",
    "import seaborn as sns\n",
    "sns.set_style(\"whitegrid\")\n"
   ]
  },
  {
   "cell_type": "code",
   "execution_count": 11,
   "metadata": {},
   "outputs": [
    {
     "data": {
      "text/html": [
       "<div>\n",
       "<style scoped>\n",
       "    .dataframe tbody tr th:only-of-type {\n",
       "        vertical-align: middle;\n",
       "    }\n",
       "\n",
       "    .dataframe tbody tr th {\n",
       "        vertical-align: top;\n",
       "    }\n",
       "\n",
       "    .dataframe thead th {\n",
       "        text-align: right;\n",
       "    }\n",
       "</style>\n",
       "<table border=\"1\" class=\"dataframe\">\n",
       "  <thead>\n",
       "    <tr style=\"text-align: right;\">\n",
       "      <th></th>\n",
       "      <th>Entries</th>\n",
       "      <th>Exits</th>\n",
       "      <th>Entry_Inc</th>\n",
       "      <th>Exits_Inc</th>\n",
       "      <th>Traffic_Tot</th>\n",
       "      <th>Station_ID</th>\n",
       "    </tr>\n",
       "    <tr>\n",
       "      <th>Idx</th>\n",
       "      <th></th>\n",
       "      <th></th>\n",
       "      <th></th>\n",
       "      <th></th>\n",
       "      <th></th>\n",
       "      <th></th>\n",
       "    </tr>\n",
       "  </thead>\n",
       "  <tbody>\n",
       "    <tr>\n",
       "      <th>0</th>\n",
       "      <td>6688304157199</td>\n",
       "      <td>3630511989854</td>\n",
       "      <td>43389327.0</td>\n",
       "      <td>35722750.0</td>\n",
       "      <td>79112077.0</td>\n",
       "      <td>34 ST-PENN STA</td>\n",
       "    </tr>\n",
       "    <tr>\n",
       "      <th>1</th>\n",
       "      <td>12665339112269</td>\n",
       "      <td>11696989712585</td>\n",
       "      <td>31416768.0</td>\n",
       "      <td>23977529.0</td>\n",
       "      <td>55394297.0</td>\n",
       "      <td>23 ST</td>\n",
       "    </tr>\n",
       "    <tr>\n",
       "      <th>2</th>\n",
       "      <td>5847951627430</td>\n",
       "      <td>6098512500597</td>\n",
       "      <td>27860423.0</td>\n",
       "      <td>24614007.0</td>\n",
       "      <td>52474430.0</td>\n",
       "      <td>34 ST-HERALD SQ</td>\n",
       "    </tr>\n",
       "    <tr>\n",
       "      <th>3</th>\n",
       "      <td>11539236191101</td>\n",
       "      <td>9178257398340</td>\n",
       "      <td>25838571.0</td>\n",
       "      <td>23245722.0</td>\n",
       "      <td>49084293.0</td>\n",
       "      <td>TIMES SQ-42 ST</td>\n",
       "    </tr>\n",
       "    <tr>\n",
       "      <th>4</th>\n",
       "      <td>7901555330882</td>\n",
       "      <td>2052315189136</td>\n",
       "      <td>25151182.0</td>\n",
       "      <td>22764739.0</td>\n",
       "      <td>47915921.0</td>\n",
       "      <td>GRD CNTRL-42 ST</td>\n",
       "    </tr>\n",
       "  </tbody>\n",
       "</table>\n",
       "</div>"
      ],
      "text/plain": [
       "            Entries           Exits   Entry_Inc   Exits_Inc  Traffic_Tot  \\\n",
       "Idx                                                                        \n",
       "0     6688304157199   3630511989854  43389327.0  35722750.0   79112077.0   \n",
       "1    12665339112269  11696989712585  31416768.0  23977529.0   55394297.0   \n",
       "2     5847951627430   6098512500597  27860423.0  24614007.0   52474430.0   \n",
       "3    11539236191101   9178257398340  25838571.0  23245722.0   49084293.0   \n",
       "4     7901555330882   2052315189136  25151182.0  22764739.0   47915921.0   \n",
       "\n",
       "          Station_ID  \n",
       "Idx                   \n",
       "0     34 ST-PENN STA  \n",
       "1              23 ST  \n",
       "2    34 ST-HERALD SQ  \n",
       "3     TIMES SQ-42 ST  \n",
       "4    GRD CNTRL-42 ST  "
      ]
     },
     "execution_count": 11,
     "metadata": {},
     "output_type": "execute_result"
    }
   ],
   "source": [
    "data_stn = data_stn.iloc[:20,:] # limit to 20 most active stations\n",
    "\n",
    "data_stn.head()\n"
   ]
  },
  {
   "cell_type": "code",
   "execution_count": 13,
   "metadata": {},
   "outputs": [
    {
     "data": {
      "image/png": "[encoded data removed]",
      "text/plain": [
       "<matplotlib.figure.Figure at 0x1a3f140518>"
      ]
     },
     "metadata": {},
     "output_type": "display_data"
    }
   ],
   "source": [
    "# verify results: check http://web.mta.info/nyct/facts/ffsubway.htm\n",
    "ax = sns.barplot(x=\"Traffic_Tot\", y='Station_ID', data=data_stn)\n",
    "# gut feeling is that 23rd St is not a top station.  If more time, would\n",
    "# further analyze 23rd Street for outliers.\n"
   ]
  },
  {
   "cell_type": "code",
   "execution_count": null,
   "metadata": {
    "collapsed": true
   },
   "outputs": [],
   "source": []
  },
  {
   "cell_type": "code",
   "execution_count": 14,
   "metadata": {
    "collapsed": true
   },
   "outputs": [],
   "source": [
    "# PROBLEM STATEMENT\n",
    "# Optimize utilization of street teams by using data science by utilizing MTA \n",
    "# and [Demographic] data\n",
    "\n",
    "# PRESENTATION\n",
    "# Executive Summary / Scenario\n",
    "# MTA findings\n",
    "# Demographic findings\n",
    "# Combined MTA/Demo Analysis\n",
    "# Conclusion\n",
    "# Q&A\n",
    "\n",
    "# TODO:\n",
    "# Clean up JN\n",
    "# day/hour analyses\n",
    "# combine demographic data\n",
    "# Map which includes demographic data (ie income) and station activity (by size of dot)\n",
    "# Analyze top stations by time period (season, month, week, day, hour)\n",
    "# add lat/long\n",
    "# vet data better / graph \n",
    "\n",
    "# Tomorrow morning\n",
    "# Finished pres, practice"
   ]
  },
  {
   "cell_type": "markdown",
   "metadata": {},
   "source": [
    "### Top Station Activity: Penn Station 34th Street"
   ]
  },
  {
   "cell_type": "code",
   "execution_count": 24,
   "metadata": {},
   "outputs": [
    {
     "data": {
      "text/plain": [
       "1816.0"
      ]
     },
     "execution_count": 24,
     "metadata": {},
     "output_type": "execute_result"
    }
   ],
   "source": [
    "data_Penn = data[data['Station'] == '34 ST-PENN STA']\n",
    "# data_Penn.head()\n",
    "np.max(data_Penn['Traffic_Tot'])\n"
   ]
  },
  {
   "cell_type": "code",
   "execution_count": 16,
   "metadata": {},
   "outputs": [
    {
     "data": {
      "image/png": "[encoded data removed]",
      "text/plain": [
       "<matplotlib.figure.Figure at 0x1a2074fbe0>"
      ]
     },
     "metadata": {},
     "output_type": "display_data"
    }
   ],
   "source": [
    "y = pd.Series(data_Penn['Traffic_Tot'])\n",
    "x = pd.Series(data_Penn['Date'])\n",
    "\n",
    "plt.plot(x,y)\n",
    "axes = plt.gca()\n",
    "axes.set_ylim([1000,2000])\n",
    "plt.show()"
   ]
  },
  {
   "cell_type": "markdown",
   "metadata": {},
   "source": [
    "### Top Station Activity: 23rd St"
   ]
  },
  {
   "cell_type": "code",
   "execution_count": 25,
   "metadata": {},
   "outputs": [
    {
     "data": {
      "text/plain": [
       "1816.0"
      ]
     },
     "execution_count": 25,
     "metadata": {},
     "output_type": "execute_result"
    }
   ],
   "source": [
    "data_23ST = data[data['Station'] == '23 ST']\n",
    "# data_23ST.head()\n",
    "np.max(data_23ST['Traffic_Tot'])\n"
   ]
  },
  {
   "cell_type": "code",
   "execution_count": 18,
   "metadata": {},
   "outputs": [
    {
     "data": {
      "image/png": "[encoded data removed]",
      "text/plain": [
       "<matplotlib.figure.Figure at 0x1a2074fa58>"
      ]
     },
     "metadata": {},
     "output_type": "display_data"
    }
   ],
   "source": [
    "y = pd.Series(data_23ST['Traffic_Tot'])\n",
    "x = pd.Series(data_23ST['Date'])\n",
    "\n",
    "plt.plot(x,y)\n",
    "axes = plt.gca()\n",
    "axes.set_ylim([1000,2000])\n",
    "plt.show()"
   ]
  },
  {
   "cell_type": "code",
   "execution_count": null,
   "metadata": {
    "collapsed": true
   },
   "outputs": [],
   "source": []
  },
  {
   "cell_type": "code",
   "execution_count": null,
   "metadata": {
    "collapsed": true
   },
   "outputs": [],
   "source": []
  },
  {
   "cell_type": "code",
   "execution_count": null,
   "metadata": {
    "collapsed": true
   },
   "outputs": [],
   "source": []
  },
  {
   "cell_type": "code",
   "execution_count": null,
   "metadata": {
    "collapsed": true
   },
   "outputs": [],
   "source": []
  },
  {
   "cell_type": "code",
   "execution_count": null,
   "metadata": {
    "collapsed": true
   },
   "outputs": [],
   "source": []
  },
  {
   "cell_type": "code",
   "execution_count": null,
   "metadata": {
    "collapsed": true
   },
   "outputs": [],
   "source": []
  },
  {
   "cell_type": "code",
   "execution_count": null,
   "metadata": {
    "collapsed": true
   },
   "outputs": [],
   "source": []
  },
  {
   "cell_type": "code",
   "execution_count": null,
   "metadata": {
    "collapsed": true
   },
   "outputs": [],
   "source": []
  },
  {
   "cell_type": "code",
   "execution_count": null,
   "metadata": {
    "collapsed": true
   },
   "outputs": [],
   "source": []
  },
  {
   "cell_type": "markdown",
   "metadata": {},
   "source": [
    "### Top Station Activity: 72nd St"
   ]
  },
  {
   "cell_type": "code",
   "execution_count": 19,
   "metadata": {},
   "outputs": [
    {
     "data": {
      "image/png": "[encoded data removed]",
      "text/plain": [
       "<matplotlib.figure.Figure at 0x10b864470>"
      ]
     },
     "metadata": {},
     "output_type": "display_data"
    }
   ],
   "source": [
    "data_72ST = data[data['Station'] == '72 ST']\n",
    "y = pd.Series(data_72ST['Traffic_Tot'])\n",
    "x = pd.Series(data_72ST['Date'])\n",
    "\n",
    "plt.plot(x,y)\n",
    "axes = plt.gca()\n",
    "axes.set_ylim([1000,2000])\n",
    "plt.show()"
   ]
  },
  {
   "cell_type": "code",
   "execution_count": 21,
   "metadata": {},
   "outputs": [
    {
     "ename": "KeyboardInterrupt",
     "evalue": "",
     "output_type": "error",
     "traceback": [
      "\u001b[0;31m---------------------------------------------------------------------------\u001b[0m",
      "\u001b[0;31mValueError\u001b[0m                                Traceback (most recent call last)",
      "\u001b[0;32mpandas/_libs/tslib.pyx\u001b[0m in \u001b[0;36mpandas._libs.tslib.array_to_datetime\u001b[0;34m()\u001b[0m\n",
      "\u001b[0;32mpandas/_libs/src/datetime.pxd\u001b[0m in \u001b[0;36mdatetime._string_to_dts\u001b[0;34m()\u001b[0m\n",
      "\u001b[0;31mValueError\u001b[0m: Error parsing datetime string \"01/27/2016\" at position 2",
      "\nDuring handling of the above exception, another exception occurred:\n",
      "\u001b[0;31mKeyboardInterrupt\u001b[0m                         Traceback (most recent call last)",
      "\u001b[0;32m<ipython-input-21-d2a77ec55c1f>\u001b[0m in \u001b[0;36m<module>\u001b[0;34m()\u001b[0m\n\u001b[1;32m      1\u001b[0m \u001b[0mdata\u001b[0m \u001b[0;34m=\u001b[0m \u001b[0mpd\u001b[0m\u001b[0;34m.\u001b[0m\u001b[0mDataFrame\u001b[0m\u001b[0;34m(\u001b[0m\u001b[0mdata\u001b[0m\u001b[0;34m)\u001b[0m\u001b[0;34m\u001b[0m\u001b[0m\n\u001b[0;32m----> 2\u001b[0;31m \u001b[0mdata\u001b[0m\u001b[0;34m[\u001b[0m\u001b[0;34m'Date'\u001b[0m\u001b[0;34m]\u001b[0m \u001b[0;34m=\u001b[0m \u001b[0mpd\u001b[0m\u001b[0;34m.\u001b[0m\u001b[0mto_datetime\u001b[0m\u001b[0;34m(\u001b[0m\u001b[0mdata\u001b[0m\u001b[0;34m[\u001b[0m\u001b[0;34m'Date'\u001b[0m\u001b[0;34m]\u001b[0m\u001b[0;34m)\u001b[0m\u001b[0;34m\u001b[0m\u001b[0m\n\u001b[0m\u001b[1;32m      3\u001b[0m \u001b[0mtype\u001b[0m\u001b[0;34m(\u001b[0m\u001b[0mdata\u001b[0m\u001b[0;34m[\u001b[0m\u001b[0;34m'Date'\u001b[0m\u001b[0;34m]\u001b[0m\u001b[0;34m)\u001b[0m\u001b[0;34m\u001b[0m\u001b[0m\n",
      "\u001b[0;32m~/anaconda3/envs/tensorflow1.4/lib/python3.5/site-packages/pandas/core/tools/datetimes.py\u001b[0m in \u001b[0;36mto_datetime\u001b[0;34m(arg, errors, dayfirst, yearfirst, utc, box, format, exact, unit, infer_datetime_format, origin)\u001b[0m\n\u001b[1;32m    371\u001b[0m     \u001b[0;32melif\u001b[0m \u001b[0misinstance\u001b[0m\u001b[0;34m(\u001b[0m\u001b[0marg\u001b[0m\u001b[0;34m,\u001b[0m \u001b[0mABCSeries\u001b[0m\u001b[0;34m)\u001b[0m\u001b[0;34m:\u001b[0m\u001b[0;34m\u001b[0m\u001b[0m\n\u001b[1;32m    372\u001b[0m         \u001b[0;32mfrom\u001b[0m \u001b[0mpandas\u001b[0m \u001b[0;32mimport\u001b[0m \u001b[0mSeries\u001b[0m\u001b[0;34m\u001b[0m\u001b[0m\n\u001b[0;32m--> 373\u001b[0;31m         \u001b[0mvalues\u001b[0m \u001b[0;34m=\u001b[0m \u001b[0m_convert_listlike\u001b[0m\u001b[0;34m(\u001b[0m\u001b[0marg\u001b[0m\u001b[0;34m.\u001b[0m\u001b[0m_values\u001b[0m\u001b[0;34m,\u001b[0m \u001b[0;32mTrue\u001b[0m\u001b[0;34m,\u001b[0m \u001b[0mformat\u001b[0m\u001b[0;34m)\u001b[0m\u001b[0;34m\u001b[0m\u001b[0m\n\u001b[0m\u001b[1;32m    374\u001b[0m         \u001b[0mresult\u001b[0m \u001b[0;34m=\u001b[0m \u001b[0mSeries\u001b[0m\u001b[0;34m(\u001b[0m\u001b[0mvalues\u001b[0m\u001b[0;34m,\u001b[0m \u001b[0mindex\u001b[0m\u001b[0;34m=\u001b[0m\u001b[0marg\u001b[0m\u001b[0;34m.\u001b[0m\u001b[0mindex\u001b[0m\u001b[0;34m,\u001b[0m \u001b[0mname\u001b[0m\u001b[0;34m=\u001b[0m\u001b[0marg\u001b[0m\u001b[0;34m.\u001b[0m\u001b[0mname\u001b[0m\u001b[0;34m)\u001b[0m\u001b[0;34m\u001b[0m\u001b[0m\n\u001b[1;32m    375\u001b[0m     \u001b[0;32melif\u001b[0m \u001b[0misinstance\u001b[0m\u001b[0;34m(\u001b[0m\u001b[0marg\u001b[0m\u001b[0;34m,\u001b[0m \u001b[0;34m(\u001b[0m\u001b[0mABCDataFrame\u001b[0m\u001b[0;34m,\u001b[0m \u001b[0mMutableMapping\u001b[0m\u001b[0;34m)\u001b[0m\u001b[0;34m)\u001b[0m\u001b[0;34m:\u001b[0m\u001b[0;34m\u001b[0m\u001b[0m\n",
      "\u001b[0;32m~/anaconda3/envs/tensorflow1.4/lib/python3.5/site-packages/pandas/core/tools/datetimes.py\u001b[0m in \u001b[0;36m_convert_listlike\u001b[0;34m(arg, box, format, name, tz)\u001b[0m\n\u001b[1;32m    292\u001b[0m                     \u001b[0mdayfirst\u001b[0m\u001b[0;34m=\u001b[0m\u001b[0mdayfirst\u001b[0m\u001b[0;34m,\u001b[0m\u001b[0;34m\u001b[0m\u001b[0m\n\u001b[1;32m    293\u001b[0m                     \u001b[0myearfirst\u001b[0m\u001b[0;34m=\u001b[0m\u001b[0myearfirst\u001b[0m\u001b[0;34m,\u001b[0m\u001b[0;34m\u001b[0m\u001b[0m\n\u001b[0;32m--> 294\u001b[0;31m                     \u001b[0mrequire_iso8601\u001b[0m\u001b[0;34m=\u001b[0m\u001b[0mrequire_iso8601\u001b[0m\u001b[0;34m\u001b[0m\u001b[0m\n\u001b[0m\u001b[1;32m    295\u001b[0m                 )\n\u001b[1;32m    296\u001b[0m \u001b[0;34m\u001b[0m\u001b[0m\n",
      "\u001b[0;32mpandas/_libs/tslib.pyx\u001b[0m in \u001b[0;36mpandas._libs.tslib.array_to_datetime\u001b[0;34m()\u001b[0m\n",
      "\u001b[0;32mpandas/_libs/tslib.pyx\u001b[0m in \u001b[0;36mpandas._libs.tslib.array_to_datetime\u001b[0;34m()\u001b[0m\n",
      "\u001b[0;32mpandas/_libs/tslibs/parsing.pyx\u001b[0m in \u001b[0;36mpandas._libs.tslibs.parsing.parse_datetime_string\u001b[0;34m()\u001b[0m\n",
      "\u001b[0;32mpandas/_libs/tslibs/parsing.pyx\u001b[0m in \u001b[0;36mpandas._libs.tslibs.parsing._parse_dateabbr_string\u001b[0;34m()\u001b[0m\n",
      "\u001b[0;32m~/anaconda3/envs/tensorflow1.4/lib/python3.5/_strptime.py\u001b[0m in \u001b[0;36m_strptime_datetime\u001b[0;34m(cls, data_string, format)\u001b[0m\n\u001b[1;32m    508\u001b[0m     \"\"\"Return a class cls instance based on the input string and the\n\u001b[1;32m    509\u001b[0m     format string.\"\"\"\n\u001b[0;32m--> 510\u001b[0;31m     \u001b[0mtt\u001b[0m\u001b[0;34m,\u001b[0m \u001b[0mfraction\u001b[0m \u001b[0;34m=\u001b[0m \u001b[0m_strptime\u001b[0m\u001b[0;34m(\u001b[0m\u001b[0mdata_string\u001b[0m\u001b[0;34m,\u001b[0m \u001b[0mformat\u001b[0m\u001b[0;34m)\u001b[0m\u001b[0;34m\u001b[0m\u001b[0m\n\u001b[0m\u001b[1;32m    511\u001b[0m     \u001b[0mtzname\u001b[0m\u001b[0;34m,\u001b[0m \u001b[0mgmtoff\u001b[0m \u001b[0;34m=\u001b[0m \u001b[0mtt\u001b[0m\u001b[0;34m[\u001b[0m\u001b[0;34m-\u001b[0m\u001b[0;36m2\u001b[0m\u001b[0;34m:\u001b[0m\u001b[0;34m]\u001b[0m\u001b[0;34m\u001b[0m\u001b[0m\n\u001b[1;32m    512\u001b[0m     \u001b[0margs\u001b[0m \u001b[0;34m=\u001b[0m \u001b[0mtt\u001b[0m\u001b[0;34m[\u001b[0m\u001b[0;34m:\u001b[0m\u001b[0;36m6\u001b[0m\u001b[0;34m]\u001b[0m \u001b[0;34m+\u001b[0m \u001b[0;34m(\u001b[0m\u001b[0mfraction\u001b[0m\u001b[0;34m,\u001b[0m\u001b[0;34m)\u001b[0m\u001b[0;34m\u001b[0m\u001b[0m\n",
      "\u001b[0;32m~/anaconda3/envs/tensorflow1.4/lib/python3.5/_strptime.py\u001b[0m in \u001b[0;36m_strptime\u001b[0;34m(data_string, format)\u001b[0m\n\u001b[1;32m    313\u001b[0m     \u001b[0;32mwith\u001b[0m \u001b[0m_cache_lock\u001b[0m\u001b[0;34m:\u001b[0m\u001b[0;34m\u001b[0m\u001b[0m\n\u001b[1;32m    314\u001b[0m         \u001b[0mlocale_time\u001b[0m \u001b[0;34m=\u001b[0m \u001b[0m_TimeRE_cache\u001b[0m\u001b[0;34m.\u001b[0m\u001b[0mlocale_time\u001b[0m\u001b[0;34m\u001b[0m\u001b[0m\n\u001b[0;32m--> 315\u001b[0;31m         if (_getlang() != locale_time.lang or\n\u001b[0m\u001b[1;32m    316\u001b[0m             \u001b[0mtime\u001b[0m\u001b[0;34m.\u001b[0m\u001b[0mtzname\u001b[0m \u001b[0;34m!=\u001b[0m \u001b[0mlocale_time\u001b[0m\u001b[0;34m.\u001b[0m\u001b[0mtzname\u001b[0m \u001b[0;32mor\u001b[0m\u001b[0;34m\u001b[0m\u001b[0m\n\u001b[1;32m    317\u001b[0m             time.daylight != locale_time.daylight):\n",
      "\u001b[0;32m~/anaconda3/envs/tensorflow1.4/lib/python3.5/_strptime.py\u001b[0m in \u001b[0;36m_getlang\u001b[0;34m()\u001b[0m\n\u001b[1;32m     29\u001b[0m \u001b[0;32mdef\u001b[0m \u001b[0m_getlang\u001b[0m\u001b[0;34m(\u001b[0m\u001b[0;34m)\u001b[0m\u001b[0;34m:\u001b[0m\u001b[0;34m\u001b[0m\u001b[0m\n\u001b[1;32m     30\u001b[0m     \u001b[0;31m# Figure out what the current language is set to.\u001b[0m\u001b[0;34m\u001b[0m\u001b[0;34m\u001b[0m\u001b[0m\n\u001b[0;32m---> 31\u001b[0;31m     \u001b[0;32mreturn\u001b[0m \u001b[0mlocale\u001b[0m\u001b[0;34m.\u001b[0m\u001b[0mgetlocale\u001b[0m\u001b[0;34m(\u001b[0m\u001b[0mlocale\u001b[0m\u001b[0;34m.\u001b[0m\u001b[0mLC_TIME\u001b[0m\u001b[0;34m)\u001b[0m\u001b[0;34m\u001b[0m\u001b[0m\n\u001b[0m\u001b[1;32m     32\u001b[0m \u001b[0;34m\u001b[0m\u001b[0m\n\u001b[1;32m     33\u001b[0m \u001b[0;32mclass\u001b[0m \u001b[0mLocaleTime\u001b[0m\u001b[0;34m(\u001b[0m\u001b[0mobject\u001b[0m\u001b[0;34m)\u001b[0m\u001b[0;34m:\u001b[0m\u001b[0;34m\u001b[0m\u001b[0m\n",
      "\u001b[0;32m~/anaconda3/envs/tensorflow1.4/lib/python3.5/locale.py\u001b[0m in \u001b[0;36mgetlocale\u001b[0;34m(category)\u001b[0m\n\u001b[1;32m    572\u001b[0m \u001b[0;34m\u001b[0m\u001b[0m\n\u001b[1;32m    573\u001b[0m     \"\"\"\n\u001b[0;32m--> 574\u001b[0;31m     \u001b[0mlocalename\u001b[0m \u001b[0;34m=\u001b[0m \u001b[0m_setlocale\u001b[0m\u001b[0;34m(\u001b[0m\u001b[0mcategory\u001b[0m\u001b[0;34m)\u001b[0m\u001b[0;34m\u001b[0m\u001b[0m\n\u001b[0m\u001b[1;32m    575\u001b[0m     \u001b[0;32mif\u001b[0m \u001b[0mcategory\u001b[0m \u001b[0;34m==\u001b[0m \u001b[0mLC_ALL\u001b[0m \u001b[0;32mand\u001b[0m \u001b[0;34m';'\u001b[0m \u001b[0;32min\u001b[0m \u001b[0mlocalename\u001b[0m\u001b[0;34m:\u001b[0m\u001b[0;34m\u001b[0m\u001b[0m\n\u001b[1;32m    576\u001b[0m         \u001b[0;32mraise\u001b[0m \u001b[0mTypeError\u001b[0m\u001b[0;34m(\u001b[0m\u001b[0;34m'category LC_ALL is not supported'\u001b[0m\u001b[0;34m)\u001b[0m\u001b[0;34m\u001b[0m\u001b[0m\n",
      "\u001b[0;31mKeyboardInterrupt\u001b[0m: "
     ]
    }
   ],
   "source": [
    "data = pd.DataFrame(data)\n",
    "data['Date'] = pd.to_datetime(data['Date'])\n",
    "type(data['Date'])"
   ]
  },
  {
   "cell_type": "code",
   "execution_count": null,
   "metadata": {
    "collapsed": true
   },
   "outputs": [],
   "source": []
  }
 ],
 "metadata": {
  "kernelspec": {
   "display_name": "Python 3",
   "language": "python",
   "name": "python3"
  },
  "language_info": {
   "codemirror_mode": {
    "name": "ipython",
    "version": 3
   },
   "file_extension": ".py",
   "mimetype": "text/x-python",
   "name": "python",
   "nbconvert_exporter": "python",
   "pygments_lexer": "ipython3",
   "version": "3.5.4"
  }
 },
 "nbformat": 4,
 "nbformat_minor": 2
}
