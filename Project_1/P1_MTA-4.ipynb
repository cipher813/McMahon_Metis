{
 "cells": [
  {
   "cell_type": "code",
   "execution_count": 1,
   "metadata": {
    "collapsed": true
   },
   "outputs": [],
   "source": [
    "import pandas as pd\n",
    "import numpy as np"
   ]
  },
  {
   "cell_type": "code",
   "execution_count": 2,
   "metadata": {},
   "outputs": [
    {
     "name": "stderr",
     "output_type": "stream",
     "text": [
      "/Users/brianmcmahon/anaconda3/envs/tensorflow1.4/lib/python3.5/site-packages/IPython/core/interactiveshell.py:2728: DtypeWarning: Columns (4) have mixed types. Specify dtype option on import or set low_memory=False.\n",
      "  interactivity=interactivity, compiler=compiler, result=result)\n"
     ]
    },
    {
     "data": {
      "text/plain": [
       "(9492670, 11)"
      ]
     },
     "execution_count": 2,
     "metadata": {},
     "output_type": "execute_result"
    }
   ],
   "source": [
    "# https://data.ny.gov/Transportation/Turnstile-Usage-Data-2016/ekwu-khcy\n",
    "# https://data.ny.gov/api/views/ekwu-khcy/rows.csv?accessType=DOWNLOAD\n",
    "data = pd.read_csv('Turnstile_Usage_Data__2016.csv')\n",
    "data.shape"
   ]
  },
  {
   "cell_type": "code",
   "execution_count": 3,
   "metadata": {},
   "outputs": [
    {
     "data": {
      "text/plain": [
       "(9492670, 11)"
      ]
     },
     "execution_count": 3,
     "metadata": {},
     "output_type": "execute_result"
    }
   ],
   "source": [
    "df = pd.DataFrame(data)\n",
    "df.shape"
   ]
  },
  {
   "cell_type": "code",
   "execution_count": 4,
   "metadata": {},
   "outputs": [
    {
     "data": {
      "text/plain": [
       "Index(['C/A', 'Unit', 'SCP', 'Station', 'Line Name', 'Division', 'Date',\n",
       "       'Time', 'Description', 'Entries',\n",
       "       'Exits                                                     '],\n",
       "      dtype='object')"
      ]
     },
     "execution_count": 4,
     "metadata": {},
     "output_type": "execute_result"
    }
   ],
   "source": [
    "df.columns"
   ]
  },
  {
   "cell_type": "code",
   "execution_count": 5,
   "metadata": {
    "collapsed": true
   },
   "outputs": [],
   "source": [
    "df=df.rename(columns = {'Exits                                                     ':'Exits'})"
   ]
  },
  {
   "cell_type": "code",
   "execution_count": 6,
   "metadata": {},
   "outputs": [
    {
     "data": {
      "text/plain": [
       "Index(['C/A', 'Unit', 'SCP', 'Station', 'Line Name', 'Division', 'Date',\n",
       "       'Time', 'Description', 'Entries', 'Exits'],\n",
       "      dtype='object')"
      ]
     },
     "execution_count": 6,
     "metadata": {},
     "output_type": "execute_result"
    }
   ],
   "source": [
    "df.columns"
   ]
  },
  {
   "cell_type": "code",
   "execution_count": 7,
   "metadata": {},
   "outputs": [
    {
     "data": {
      "text/html": [
       "<div>\n",
       "<style scoped>\n",
       "    .dataframe tbody tr th:only-of-type {\n",
       "        vertical-align: middle;\n",
       "    }\n",
       "\n",
       "    .dataframe tbody tr th {\n",
       "        vertical-align: top;\n",
       "    }\n",
       "\n",
       "    .dataframe thead th {\n",
       "        text-align: right;\n",
       "    }\n",
       "</style>\n",
       "<table border=\"1\" class=\"dataframe\">\n",
       "  <thead>\n",
       "    <tr style=\"text-align: right;\">\n",
       "      <th></th>\n",
       "      <th>C/A</th>\n",
       "      <th>Unit</th>\n",
       "      <th>SCP</th>\n",
       "      <th>Station</th>\n",
       "      <th>Line Name</th>\n",
       "      <th>Division</th>\n",
       "      <th>Date</th>\n",
       "      <th>Time</th>\n",
       "      <th>Description</th>\n",
       "      <th>Entries</th>\n",
       "      <th>Exits</th>\n",
       "    </tr>\n",
       "  </thead>\n",
       "  <tbody>\n",
       "    <tr>\n",
       "      <th>0</th>\n",
       "      <td>A002</td>\n",
       "      <td>R051</td>\n",
       "      <td>02-00-00</td>\n",
       "      <td>59 ST</td>\n",
       "      <td>NQR456</td>\n",
       "      <td>BMT</td>\n",
       "      <td>03/04/2016</td>\n",
       "      <td>23:00:00</td>\n",
       "      <td>REGULAR</td>\n",
       "      <td>5572864</td>\n",
       "      <td>1881239</td>\n",
       "    </tr>\n",
       "    <tr>\n",
       "      <th>1</th>\n",
       "      <td>A002</td>\n",
       "      <td>R051</td>\n",
       "      <td>02-00-00</td>\n",
       "      <td>59 ST</td>\n",
       "      <td>NQR456</td>\n",
       "      <td>BMT</td>\n",
       "      <td>03/04/2016</td>\n",
       "      <td>19:00:00</td>\n",
       "      <td>REGULAR</td>\n",
       "      <td>5572521</td>\n",
       "      <td>1881206</td>\n",
       "    </tr>\n",
       "    <tr>\n",
       "      <th>2</th>\n",
       "      <td>A002</td>\n",
       "      <td>R051</td>\n",
       "      <td>02-00-00</td>\n",
       "      <td>59 ST</td>\n",
       "      <td>NQR456</td>\n",
       "      <td>BMT</td>\n",
       "      <td>03/04/2016</td>\n",
       "      <td>15:00:00</td>\n",
       "      <td>REGULAR</td>\n",
       "      <td>5571587</td>\n",
       "      <td>1881113</td>\n",
       "    </tr>\n",
       "    <tr>\n",
       "      <th>3</th>\n",
       "      <td>A002</td>\n",
       "      <td>R051</td>\n",
       "      <td>02-00-00</td>\n",
       "      <td>59 ST</td>\n",
       "      <td>NQR456</td>\n",
       "      <td>BMT</td>\n",
       "      <td>03/04/2016</td>\n",
       "      <td>11:00:00</td>\n",
       "      <td>REGULAR</td>\n",
       "      <td>5571313</td>\n",
       "      <td>1881031</td>\n",
       "    </tr>\n",
       "    <tr>\n",
       "      <th>4</th>\n",
       "      <td>A002</td>\n",
       "      <td>R051</td>\n",
       "      <td>02-00-00</td>\n",
       "      <td>59 ST</td>\n",
       "      <td>NQR456</td>\n",
       "      <td>BMT</td>\n",
       "      <td>03/04/2016</td>\n",
       "      <td>08:10:05</td>\n",
       "      <td>REGULAR</td>\n",
       "      <td>5571173</td>\n",
       "      <td>1880736</td>\n",
       "    </tr>\n",
       "  </tbody>\n",
       "</table>\n",
       "</div>"
      ],
      "text/plain": [
       "    C/A  Unit       SCP Station Line Name Division        Date      Time  \\\n",
       "0  A002  R051  02-00-00   59 ST    NQR456      BMT  03/04/2016  23:00:00   \n",
       "1  A002  R051  02-00-00   59 ST    NQR456      BMT  03/04/2016  19:00:00   \n",
       "2  A002  R051  02-00-00   59 ST    NQR456      BMT  03/04/2016  15:00:00   \n",
       "3  A002  R051  02-00-00   59 ST    NQR456      BMT  03/04/2016  11:00:00   \n",
       "4  A002  R051  02-00-00   59 ST    NQR456      BMT  03/04/2016  08:10:05   \n",
       "\n",
       "  Description  Entries    Exits  \n",
       "0     REGULAR  5572864  1881239  \n",
       "1     REGULAR  5572521  1881206  \n",
       "2     REGULAR  5571587  1881113  \n",
       "3     REGULAR  5571313  1881031  \n",
       "4     REGULAR  5571173  1880736  "
      ]
     },
     "execution_count": 7,
     "metadata": {},
     "output_type": "execute_result"
    }
   ],
   "source": [
    "df.head()"
   ]
  },
  {
   "cell_type": "code",
   "execution_count": 8,
   "metadata": {},
   "outputs": [
    {
     "data": {
      "text/html": [
       "<div>\n",
       "<style scoped>\n",
       "    .dataframe tbody tr th:only-of-type {\n",
       "        vertical-align: middle;\n",
       "    }\n",
       "\n",
       "    .dataframe tbody tr th {\n",
       "        vertical-align: top;\n",
       "    }\n",
       "\n",
       "    .dataframe thead th {\n",
       "        text-align: right;\n",
       "    }\n",
       "</style>\n",
       "<table border=\"1\" class=\"dataframe\">\n",
       "  <thead>\n",
       "    <tr style=\"text-align: right;\">\n",
       "      <th></th>\n",
       "      <th>Entries</th>\n",
       "      <th>Exits</th>\n",
       "    </tr>\n",
       "  </thead>\n",
       "  <tbody>\n",
       "    <tr>\n",
       "      <th>count</th>\n",
       "      <td>9.492670e+06</td>\n",
       "      <td>9.492670e+06</td>\n",
       "    </tr>\n",
       "    <tr>\n",
       "      <th>mean</th>\n",
       "      <td>3.542553e+07</td>\n",
       "      <td>2.850508e+07</td>\n",
       "    </tr>\n",
       "    <tr>\n",
       "      <th>std</th>\n",
       "      <td>1.953005e+08</td>\n",
       "      <td>1.754109e+08</td>\n",
       "    </tr>\n",
       "    <tr>\n",
       "      <th>min</th>\n",
       "      <td>0.000000e+00</td>\n",
       "      <td>0.000000e+00</td>\n",
       "    </tr>\n",
       "    <tr>\n",
       "      <th>25%</th>\n",
       "      <td>5.723050e+05</td>\n",
       "      <td>2.936032e+05</td>\n",
       "    </tr>\n",
       "    <tr>\n",
       "      <th>50%</th>\n",
       "      <td>2.595306e+06</td>\n",
       "      <td>1.507240e+06</td>\n",
       "    </tr>\n",
       "    <tr>\n",
       "      <th>75%</th>\n",
       "      <td>6.546587e+06</td>\n",
       "      <td>4.656424e+06</td>\n",
       "    </tr>\n",
       "    <tr>\n",
       "      <th>max</th>\n",
       "      <td>2.147480e+09</td>\n",
       "      <td>2.097170e+09</td>\n",
       "    </tr>\n",
       "  </tbody>\n",
       "</table>\n",
       "</div>"
      ],
      "text/plain": [
       "            Entries         Exits\n",
       "count  9.492670e+06  9.492670e+06\n",
       "mean   3.542553e+07  2.850508e+07\n",
       "std    1.953005e+08  1.754109e+08\n",
       "min    0.000000e+00  0.000000e+00\n",
       "25%    5.723050e+05  2.936032e+05\n",
       "50%    2.595306e+06  1.507240e+06\n",
       "75%    6.546587e+06  4.656424e+06\n",
       "max    2.147480e+09  2.097170e+09"
      ]
     },
     "execution_count": 8,
     "metadata": {},
     "output_type": "execute_result"
    }
   ],
   "source": [
    "df.describe()"
   ]
  },
  {
   "cell_type": "code",
   "execution_count": 9,
   "metadata": {},
   "outputs": [
    {
     "name": "stdout",
     "output_type": "stream",
     "text": [
      "(492670, 8)\n",
      "<class 'pandas.core.frame.DataFrame'>\n"
     ]
    }
   ],
   "source": [
    "q4 = df.iloc[9000000:,3:]\n",
    "print(q4.shape)\n",
    "print(type(q4))"
   ]
  },
  {
   "cell_type": "code",
   "execution_count": 10,
   "metadata": {},
   "outputs": [
    {
     "data": {
      "text/html": [
       "<div>\n",
       "<style scoped>\n",
       "    .dataframe tbody tr th:only-of-type {\n",
       "        vertical-align: middle;\n",
       "    }\n",
       "\n",
       "    .dataframe tbody tr th {\n",
       "        vertical-align: top;\n",
       "    }\n",
       "\n",
       "    .dataframe thead th {\n",
       "        text-align: right;\n",
       "    }\n",
       "</style>\n",
       "<table border=\"1\" class=\"dataframe\">\n",
       "  <thead>\n",
       "    <tr style=\"text-align: right;\">\n",
       "      <th></th>\n",
       "      <th>Station</th>\n",
       "      <th>Line Name</th>\n",
       "      <th>Division</th>\n",
       "      <th>Date</th>\n",
       "      <th>Time</th>\n",
       "      <th>Description</th>\n",
       "      <th>Entries</th>\n",
       "      <th>Exits</th>\n",
       "      <th>Entry_Inc</th>\n",
       "      <th>Exits_Inc</th>\n",
       "    </tr>\n",
       "  </thead>\n",
       "  <tbody>\n",
       "    <tr>\n",
       "      <th>9000000</th>\n",
       "      <td>75 AV</td>\n",
       "      <td>EF</td>\n",
       "      <td>IND</td>\n",
       "      <td>12/03/2016</td>\n",
       "      <td>03:00:00</td>\n",
       "      <td>REGULAR</td>\n",
       "      <td>714833</td>\n",
       "      <td>200563</td>\n",
       "      <td>NaN</td>\n",
       "      <td>NaN</td>\n",
       "    </tr>\n",
       "    <tr>\n",
       "      <th>9000001</th>\n",
       "      <td>75 AV</td>\n",
       "      <td>EF</td>\n",
       "      <td>IND</td>\n",
       "      <td>12/03/2016</td>\n",
       "      <td>07:00:00</td>\n",
       "      <td>REGULAR</td>\n",
       "      <td>714833</td>\n",
       "      <td>200565</td>\n",
       "      <td>0.0</td>\n",
       "      <td>2.0</td>\n",
       "    </tr>\n",
       "    <tr>\n",
       "      <th>9000002</th>\n",
       "      <td>75 AV</td>\n",
       "      <td>EF</td>\n",
       "      <td>IND</td>\n",
       "      <td>12/03/2016</td>\n",
       "      <td>11:00:00</td>\n",
       "      <td>REGULAR</td>\n",
       "      <td>714845</td>\n",
       "      <td>200566</td>\n",
       "      <td>12.0</td>\n",
       "      <td>1.0</td>\n",
       "    </tr>\n",
       "    <tr>\n",
       "      <th>9000003</th>\n",
       "      <td>75 AV</td>\n",
       "      <td>EF</td>\n",
       "      <td>IND</td>\n",
       "      <td>12/03/2016</td>\n",
       "      <td>15:00:00</td>\n",
       "      <td>REGULAR</td>\n",
       "      <td>714858</td>\n",
       "      <td>200570</td>\n",
       "      <td>13.0</td>\n",
       "      <td>4.0</td>\n",
       "    </tr>\n",
       "    <tr>\n",
       "      <th>9000004</th>\n",
       "      <td>75 AV</td>\n",
       "      <td>EF</td>\n",
       "      <td>IND</td>\n",
       "      <td>12/03/2016</td>\n",
       "      <td>19:00:00</td>\n",
       "      <td>REGULAR</td>\n",
       "      <td>714879</td>\n",
       "      <td>200579</td>\n",
       "      <td>21.0</td>\n",
       "      <td>9.0</td>\n",
       "    </tr>\n",
       "  </tbody>\n",
       "</table>\n",
       "</div>"
      ],
      "text/plain": [
       "        Station Line Name Division        Date      Time Description  Entries  \\\n",
       "9000000   75 AV        EF      IND  12/03/2016  03:00:00     REGULAR   714833   \n",
       "9000001   75 AV        EF      IND  12/03/2016  07:00:00     REGULAR   714833   \n",
       "9000002   75 AV        EF      IND  12/03/2016  11:00:00     REGULAR   714845   \n",
       "9000003   75 AV        EF      IND  12/03/2016  15:00:00     REGULAR   714858   \n",
       "9000004   75 AV        EF      IND  12/03/2016  19:00:00     REGULAR   714879   \n",
       "\n",
       "          Exits  Entry_Inc  Exits_Inc  \n",
       "9000000  200563        NaN        NaN  \n",
       "9000001  200565        0.0        2.0  \n",
       "9000002  200566       12.0        1.0  \n",
       "9000003  200570       13.0        4.0  \n",
       "9000004  200579       21.0        9.0  "
      ]
     },
     "execution_count": 10,
     "metadata": {},
     "output_type": "execute_result"
    }
   ],
   "source": [
    "q4['Entry_Inc'] = abs(q4.Entries.diff())\n",
    "q4['Exits_Inc'] = abs(q4.Exits.diff())\n",
    "q4.head()"
   ]
  },
  {
   "cell_type": "code",
   "execution_count": 11,
   "metadata": {},
   "outputs": [
    {
     "data": {
      "text/html": [
       "<div>\n",
       "<style scoped>\n",
       "    .dataframe tbody tr th:only-of-type {\n",
       "        vertical-align: middle;\n",
       "    }\n",
       "\n",
       "    .dataframe tbody tr th {\n",
       "        vertical-align: top;\n",
       "    }\n",
       "\n",
       "    .dataframe thead th {\n",
       "        text-align: right;\n",
       "    }\n",
       "</style>\n",
       "<table border=\"1\" class=\"dataframe\">\n",
       "  <thead>\n",
       "    <tr style=\"text-align: right;\">\n",
       "      <th></th>\n",
       "      <th>Station</th>\n",
       "      <th>Line Name</th>\n",
       "      <th>Division</th>\n",
       "      <th>Date</th>\n",
       "      <th>Time</th>\n",
       "      <th>Description</th>\n",
       "      <th>Entries</th>\n",
       "      <th>Exits</th>\n",
       "      <th>Entry_Inc</th>\n",
       "      <th>Exits_Inc</th>\n",
       "    </tr>\n",
       "  </thead>\n",
       "  <tbody>\n",
       "    <tr>\n",
       "      <th>9000000</th>\n",
       "      <td>75 AV</td>\n",
       "      <td>EF</td>\n",
       "      <td>IND</td>\n",
       "      <td>12/03/2016</td>\n",
       "      <td>03:00:00</td>\n",
       "      <td>REGULAR</td>\n",
       "      <td>714833</td>\n",
       "      <td>200563</td>\n",
       "      <td>NaN</td>\n",
       "      <td>NaN</td>\n",
       "    </tr>\n",
       "    <tr>\n",
       "      <th>9000001</th>\n",
       "      <td>75 AV</td>\n",
       "      <td>EF</td>\n",
       "      <td>IND</td>\n",
       "      <td>12/03/2016</td>\n",
       "      <td>07:00:00</td>\n",
       "      <td>REGULAR</td>\n",
       "      <td>714833</td>\n",
       "      <td>200565</td>\n",
       "      <td>0.0</td>\n",
       "      <td>2.0</td>\n",
       "    </tr>\n",
       "    <tr>\n",
       "      <th>9000002</th>\n",
       "      <td>75 AV</td>\n",
       "      <td>EF</td>\n",
       "      <td>IND</td>\n",
       "      <td>12/03/2016</td>\n",
       "      <td>11:00:00</td>\n",
       "      <td>REGULAR</td>\n",
       "      <td>714845</td>\n",
       "      <td>200566</td>\n",
       "      <td>12.0</td>\n",
       "      <td>1.0</td>\n",
       "    </tr>\n",
       "    <tr>\n",
       "      <th>9000003</th>\n",
       "      <td>75 AV</td>\n",
       "      <td>EF</td>\n",
       "      <td>IND</td>\n",
       "      <td>12/03/2016</td>\n",
       "      <td>15:00:00</td>\n",
       "      <td>REGULAR</td>\n",
       "      <td>714858</td>\n",
       "      <td>200570</td>\n",
       "      <td>13.0</td>\n",
       "      <td>4.0</td>\n",
       "    </tr>\n",
       "    <tr>\n",
       "      <th>9000004</th>\n",
       "      <td>75 AV</td>\n",
       "      <td>EF</td>\n",
       "      <td>IND</td>\n",
       "      <td>12/03/2016</td>\n",
       "      <td>19:00:00</td>\n",
       "      <td>REGULAR</td>\n",
       "      <td>714879</td>\n",
       "      <td>200579</td>\n",
       "      <td>21.0</td>\n",
       "      <td>9.0</td>\n",
       "    </tr>\n",
       "  </tbody>\n",
       "</table>\n",
       "</div>"
      ],
      "text/plain": [
       "        Station Line Name Division        Date      Time Description  Entries  \\\n",
       "9000000   75 AV        EF      IND  12/03/2016  03:00:00     REGULAR   714833   \n",
       "9000001   75 AV        EF      IND  12/03/2016  07:00:00     REGULAR   714833   \n",
       "9000002   75 AV        EF      IND  12/03/2016  11:00:00     REGULAR   714845   \n",
       "9000003   75 AV        EF      IND  12/03/2016  15:00:00     REGULAR   714858   \n",
       "9000004   75 AV        EF      IND  12/03/2016  19:00:00     REGULAR   714879   \n",
       "\n",
       "          Exits  Entry_Inc  Exits_Inc  \n",
       "9000000  200563        NaN        NaN  \n",
       "9000001  200565        0.0        2.0  \n",
       "9000002  200566       12.0        1.0  \n",
       "9000003  200570       13.0        4.0  \n",
       "9000004  200579       21.0        9.0  "
      ]
     },
     "execution_count": 11,
     "metadata": {},
     "output_type": "execute_result"
    }
   ],
   "source": [
    "# aggregate by station then by day\n",
    "# add columns for incremental change by day\n",
    "# remove outliers\n",
    "# per station, two sep analyses: group by time, and group by date, weekday/weekend\n",
    "\n",
    "\n",
    "q4.head()"
   ]
  },
  {
   "cell_type": "code",
   "execution_count": 12,
   "metadata": {},
   "outputs": [
    {
     "data": {
      "text/html": [
       "<div>\n",
       "<style scoped>\n",
       "    .dataframe tbody tr th:only-of-type {\n",
       "        vertical-align: middle;\n",
       "    }\n",
       "\n",
       "    .dataframe tbody tr th {\n",
       "        vertical-align: top;\n",
       "    }\n",
       "\n",
       "    .dataframe thead th {\n",
       "        text-align: right;\n",
       "    }\n",
       "</style>\n",
       "<table border=\"1\" class=\"dataframe\">\n",
       "  <thead>\n",
       "    <tr style=\"text-align: right;\">\n",
       "      <th></th>\n",
       "      <th></th>\n",
       "      <th></th>\n",
       "      <th>Entries</th>\n",
       "      <th>Exits</th>\n",
       "      <th>Entry_Inc</th>\n",
       "      <th>Exits_Inc</th>\n",
       "    </tr>\n",
       "    <tr>\n",
       "      <th>Station</th>\n",
       "      <th>Date</th>\n",
       "      <th>Time</th>\n",
       "      <th></th>\n",
       "      <th></th>\n",
       "      <th></th>\n",
       "      <th></th>\n",
       "    </tr>\n",
       "  </thead>\n",
       "  <tbody>\n",
       "    <tr>\n",
       "      <th rowspan=\"5\" valign=\"top\">1 AV</th>\n",
       "      <th rowspan=\"5\" valign=\"top\">12/17/2016</th>\n",
       "      <th>03:00:00</th>\n",
       "      <td>1414570279</td>\n",
       "      <td>1467667617</td>\n",
       "      <td>2.643768e+09</td>\n",
       "      <td>2.760436e+09</td>\n",
       "    </tr>\n",
       "    <tr>\n",
       "      <th>07:00:00</th>\n",
       "      <td>1414570809</td>\n",
       "      <td>1467668254</td>\n",
       "      <td>5.300000e+02</td>\n",
       "      <td>6.370000e+02</td>\n",
       "    </tr>\n",
       "    <tr>\n",
       "      <th>11:00:00</th>\n",
       "      <td>1414572780</td>\n",
       "      <td>1467670839</td>\n",
       "      <td>1.971000e+03</td>\n",
       "      <td>2.585000e+03</td>\n",
       "    </tr>\n",
       "    <tr>\n",
       "      <th>15:00:00</th>\n",
       "      <td>1414576771</td>\n",
       "      <td>1467674733</td>\n",
       "      <td>3.991000e+03</td>\n",
       "      <td>3.894000e+03</td>\n",
       "    </tr>\n",
       "    <tr>\n",
       "      <th>19:00:00</th>\n",
       "      <td>1414581693</td>\n",
       "      <td>1467680117</td>\n",
       "      <td>4.922000e+03</td>\n",
       "      <td>5.384000e+03</td>\n",
       "    </tr>\n",
       "  </tbody>\n",
       "</table>\n",
       "</div>"
      ],
      "text/plain": [
       "                                Entries       Exits     Entry_Inc  \\\n",
       "Station Date       Time                                             \n",
       "1 AV    12/17/2016 03:00:00  1414570279  1467667617  2.643768e+09   \n",
       "                   07:00:00  1414570809  1467668254  5.300000e+02   \n",
       "                   11:00:00  1414572780  1467670839  1.971000e+03   \n",
       "                   15:00:00  1414576771  1467674733  3.991000e+03   \n",
       "                   19:00:00  1414581693  1467680117  4.922000e+03   \n",
       "\n",
       "                                Exits_Inc  \n",
       "Station Date       Time                    \n",
       "1 AV    12/17/2016 03:00:00  2.760436e+09  \n",
       "                   07:00:00  6.370000e+02  \n",
       "                   11:00:00  2.585000e+03  \n",
       "                   15:00:00  3.894000e+03  \n",
       "                   19:00:00  5.384000e+03  "
      ]
     },
     "execution_count": 12,
     "metadata": {},
     "output_type": "execute_result"
    }
   ],
   "source": [
    "q4_stndatetime = q4.groupby([ \"Station\", \"Date\",'Time']).sum()\n",
    "q4_stndatetime.head()"
   ]
  },
  {
   "cell_type": "code",
   "execution_count": 13,
   "metadata": {},
   "outputs": [
    {
     "data": {
      "text/html": [
       "<div>\n",
       "<style scoped>\n",
       "    .dataframe tbody tr th:only-of-type {\n",
       "        vertical-align: middle;\n",
       "    }\n",
       "\n",
       "    .dataframe tbody tr th {\n",
       "        vertical-align: top;\n",
       "    }\n",
       "\n",
       "    .dataframe thead th {\n",
       "        text-align: right;\n",
       "    }\n",
       "</style>\n",
       "<table border=\"1\" class=\"dataframe\">\n",
       "  <thead>\n",
       "    <tr style=\"text-align: right;\">\n",
       "      <th></th>\n",
       "      <th>Entries</th>\n",
       "      <th>Exits</th>\n",
       "      <th>Entry_Inc</th>\n",
       "      <th>Exits_Inc</th>\n",
       "    </tr>\n",
       "    <tr>\n",
       "      <th>Station</th>\n",
       "      <th></th>\n",
       "      <th></th>\n",
       "      <th></th>\n",
       "      <th></th>\n",
       "    </tr>\n",
       "  </thead>\n",
       "  <tbody>\n",
       "    <tr>\n",
       "      <th>1 AV</th>\n",
       "      <td>118834029691</td>\n",
       "      <td>123295093418</td>\n",
       "      <td>5.287802e+09</td>\n",
       "      <td>5.521180e+09</td>\n",
       "    </tr>\n",
       "    <tr>\n",
       "      <th>103 ST</th>\n",
       "      <td>18872875702</td>\n",
       "      <td>73397661235</td>\n",
       "      <td>3.531335e+08</td>\n",
       "      <td>3.167460e+09</td>\n",
       "    </tr>\n",
       "    <tr>\n",
       "      <th>103 ST-CORONA</th>\n",
       "      <td>8558848937</td>\n",
       "      <td>8054363526</td>\n",
       "      <td>1.950536e+08</td>\n",
       "      <td>1.967069e+08</td>\n",
       "    </tr>\n",
       "    <tr>\n",
       "      <th>104 ST</th>\n",
       "      <td>418434594248</td>\n",
       "      <td>426205991966</td>\n",
       "      <td>1.146288e+10</td>\n",
       "      <td>1.188450e+10</td>\n",
       "    </tr>\n",
       "    <tr>\n",
       "      <th>110 ST</th>\n",
       "      <td>3735570296</td>\n",
       "      <td>3764865417</td>\n",
       "      <td>5.675520e+07</td>\n",
       "      <td>1.105878e+08</td>\n",
       "    </tr>\n",
       "  </tbody>\n",
       "</table>\n",
       "</div>"
      ],
      "text/plain": [
       "                    Entries         Exits     Entry_Inc     Exits_Inc\n",
       "Station                                                              \n",
       "1 AV           118834029691  123295093418  5.287802e+09  5.521180e+09\n",
       "103 ST          18872875702   73397661235  3.531335e+08  3.167460e+09\n",
       "103 ST-CORONA    8558848937    8054363526  1.950536e+08  1.967069e+08\n",
       "104 ST         418434594248  426205991966  1.146288e+10  1.188450e+10\n",
       "110 ST           3735570296    3764865417  5.675520e+07  1.105878e+08"
      ]
     },
     "execution_count": 13,
     "metadata": {},
     "output_type": "execute_result"
    }
   ],
   "source": [
    "q4_stn = q4.groupby([ \"Station\"]).sum()\n",
    "q4_stn.head()"
   ]
  },
  {
   "cell_type": "code",
   "execution_count": 14,
   "metadata": {},
   "outputs": [
    {
     "data": {
      "text/html": [
       "<div>\n",
       "<style scoped>\n",
       "    .dataframe tbody tr th:only-of-type {\n",
       "        vertical-align: middle;\n",
       "    }\n",
       "\n",
       "    .dataframe tbody tr th {\n",
       "        vertical-align: top;\n",
       "    }\n",
       "\n",
       "    .dataframe thead th {\n",
       "        text-align: right;\n",
       "    }\n",
       "</style>\n",
       "<table border=\"1\" class=\"dataframe\">\n",
       "  <thead>\n",
       "    <tr style=\"text-align: right;\">\n",
       "      <th></th>\n",
       "      <th>Entries</th>\n",
       "      <th>Exits</th>\n",
       "      <th>Entry_Inc</th>\n",
       "      <th>Exits_Inc</th>\n",
       "    </tr>\n",
       "    <tr>\n",
       "      <th>Station</th>\n",
       "      <th></th>\n",
       "      <th></th>\n",
       "      <th></th>\n",
       "      <th></th>\n",
       "    </tr>\n",
       "  </thead>\n",
       "  <tbody>\n",
       "    <tr>\n",
       "      <th>1 AV</th>\n",
       "      <td>118834029691</td>\n",
       "      <td>123295093418</td>\n",
       "      <td>5.287802e+09</td>\n",
       "      <td>5.521180e+09</td>\n",
       "    </tr>\n",
       "    <tr>\n",
       "      <th>103 ST</th>\n",
       "      <td>18872875702</td>\n",
       "      <td>73397661235</td>\n",
       "      <td>3.531335e+08</td>\n",
       "      <td>3.167460e+09</td>\n",
       "    </tr>\n",
       "    <tr>\n",
       "      <th>103 ST-CORONA</th>\n",
       "      <td>8558848937</td>\n",
       "      <td>8054363526</td>\n",
       "      <td>1.950536e+08</td>\n",
       "      <td>1.967069e+08</td>\n",
       "    </tr>\n",
       "    <tr>\n",
       "      <th>104 ST</th>\n",
       "      <td>418434594248</td>\n",
       "      <td>426205991966</td>\n",
       "      <td>1.146288e+10</td>\n",
       "      <td>1.188450e+10</td>\n",
       "    </tr>\n",
       "    <tr>\n",
       "      <th>110 ST</th>\n",
       "      <td>3735570296</td>\n",
       "      <td>3764865417</td>\n",
       "      <td>5.675520e+07</td>\n",
       "      <td>1.105878e+08</td>\n",
       "    </tr>\n",
       "  </tbody>\n",
       "</table>\n",
       "</div>"
      ],
      "text/plain": [
       "                    Entries         Exits     Entry_Inc     Exits_Inc\n",
       "Station                                                              \n",
       "1 AV           118834029691  123295093418  5.287802e+09  5.521180e+09\n",
       "103 ST          18872875702   73397661235  3.531335e+08  3.167460e+09\n",
       "103 ST-CORONA    8558848937    8054363526  1.950536e+08  1.967069e+08\n",
       "104 ST         418434594248  426205991966  1.146288e+10  1.188450e+10\n",
       "110 ST           3735570296    3764865417  5.675520e+07  1.105878e+08"
      ]
     },
     "execution_count": 14,
     "metadata": {},
     "output_type": "execute_result"
    }
   ],
   "source": [
    "q4_stn = pd.DataFrame(q4_stn)\n",
    "q4_stn.head()"
   ]
  },
  {
   "cell_type": "code",
   "execution_count": 15,
   "metadata": {},
   "outputs": [
    {
     "data": {
      "text/html": [
       "<div>\n",
       "<style scoped>\n",
       "    .dataframe tbody tr th:only-of-type {\n",
       "        vertical-align: middle;\n",
       "    }\n",
       "\n",
       "    .dataframe tbody tr th {\n",
       "        vertical-align: top;\n",
       "    }\n",
       "\n",
       "    .dataframe thead th {\n",
       "        text-align: right;\n",
       "    }\n",
       "</style>\n",
       "<table border=\"1\" class=\"dataframe\">\n",
       "  <thead>\n",
       "    <tr style=\"text-align: right;\">\n",
       "      <th></th>\n",
       "      <th>Entries</th>\n",
       "      <th>Exits</th>\n",
       "      <th>Entry_Inc</th>\n",
       "      <th>Exits_Inc</th>\n",
       "      <th>Station_ID</th>\n",
       "    </tr>\n",
       "    <tr>\n",
       "      <th>Station</th>\n",
       "      <th></th>\n",
       "      <th></th>\n",
       "      <th></th>\n",
       "      <th></th>\n",
       "      <th></th>\n",
       "    </tr>\n",
       "  </thead>\n",
       "  <tbody>\n",
       "    <tr>\n",
       "      <th>1 AV</th>\n",
       "      <td>118834029691</td>\n",
       "      <td>123295093418</td>\n",
       "      <td>5.287802e+09</td>\n",
       "      <td>5.521180e+09</td>\n",
       "      <td>1 AV</td>\n",
       "    </tr>\n",
       "    <tr>\n",
       "      <th>103 ST</th>\n",
       "      <td>18872875702</td>\n",
       "      <td>73397661235</td>\n",
       "      <td>3.531335e+08</td>\n",
       "      <td>3.167460e+09</td>\n",
       "      <td>103 ST</td>\n",
       "    </tr>\n",
       "    <tr>\n",
       "      <th>103 ST-CORONA</th>\n",
       "      <td>8558848937</td>\n",
       "      <td>8054363526</td>\n",
       "      <td>1.950536e+08</td>\n",
       "      <td>1.967069e+08</td>\n",
       "      <td>103 ST-CORONA</td>\n",
       "    </tr>\n",
       "    <tr>\n",
       "      <th>104 ST</th>\n",
       "      <td>418434594248</td>\n",
       "      <td>426205991966</td>\n",
       "      <td>1.146288e+10</td>\n",
       "      <td>1.188450e+10</td>\n",
       "      <td>104 ST</td>\n",
       "    </tr>\n",
       "    <tr>\n",
       "      <th>110 ST</th>\n",
       "      <td>3735570296</td>\n",
       "      <td>3764865417</td>\n",
       "      <td>5.675520e+07</td>\n",
       "      <td>1.105878e+08</td>\n",
       "      <td>110 ST</td>\n",
       "    </tr>\n",
       "  </tbody>\n",
       "</table>\n",
       "</div>"
      ],
      "text/plain": [
       "                    Entries         Exits     Entry_Inc     Exits_Inc  \\\n",
       "Station                                                                 \n",
       "1 AV           118834029691  123295093418  5.287802e+09  5.521180e+09   \n",
       "103 ST          18872875702   73397661235  3.531335e+08  3.167460e+09   \n",
       "103 ST-CORONA    8558848937    8054363526  1.950536e+08  1.967069e+08   \n",
       "104 ST         418434594248  426205991966  1.146288e+10  1.188450e+10   \n",
       "110 ST           3735570296    3764865417  5.675520e+07  1.105878e+08   \n",
       "\n",
       "                  Station_ID  \n",
       "Station                       \n",
       "1 AV                    1 AV  \n",
       "103 ST                103 ST  \n",
       "103 ST-CORONA  103 ST-CORONA  \n",
       "104 ST                104 ST  \n",
       "110 ST                110 ST  "
      ]
     },
     "execution_count": 15,
     "metadata": {},
     "output_type": "execute_result"
    }
   ],
   "source": [
    "q4_stn['Station_ID'] = q4_stn.index\n",
    "q4_stn.head()"
   ]
  },
  {
   "cell_type": "code",
   "execution_count": 16,
   "metadata": {},
   "outputs": [
    {
     "data": {
      "text/html": [
       "<div>\n",
       "<style scoped>\n",
       "    .dataframe tbody tr th:only-of-type {\n",
       "        vertical-align: middle;\n",
       "    }\n",
       "\n",
       "    .dataframe tbody tr th {\n",
       "        vertical-align: top;\n",
       "    }\n",
       "\n",
       "    .dataframe thead th {\n",
       "        text-align: right;\n",
       "    }\n",
       "</style>\n",
       "<table border=\"1\" class=\"dataframe\">\n",
       "  <thead>\n",
       "    <tr style=\"text-align: right;\">\n",
       "      <th></th>\n",
       "      <th>Entries</th>\n",
       "      <th>Exits</th>\n",
       "      <th>Entry_Inc</th>\n",
       "      <th>Exits_Inc</th>\n",
       "      <th>Station_ID</th>\n",
       "      <th>Idx</th>\n",
       "    </tr>\n",
       "    <tr>\n",
       "      <th>Station</th>\n",
       "      <th></th>\n",
       "      <th></th>\n",
       "      <th></th>\n",
       "      <th></th>\n",
       "      <th></th>\n",
       "      <th></th>\n",
       "    </tr>\n",
       "  </thead>\n",
       "  <tbody>\n",
       "    <tr>\n",
       "      <th>1 AV</th>\n",
       "      <td>118834029691</td>\n",
       "      <td>123295093418</td>\n",
       "      <td>5.287802e+09</td>\n",
       "      <td>5.521180e+09</td>\n",
       "      <td>1 AV</td>\n",
       "      <td>0</td>\n",
       "    </tr>\n",
       "    <tr>\n",
       "      <th>103 ST</th>\n",
       "      <td>18872875702</td>\n",
       "      <td>73397661235</td>\n",
       "      <td>3.531335e+08</td>\n",
       "      <td>3.167460e+09</td>\n",
       "      <td>103 ST</td>\n",
       "      <td>1</td>\n",
       "    </tr>\n",
       "    <tr>\n",
       "      <th>103 ST-CORONA</th>\n",
       "      <td>8558848937</td>\n",
       "      <td>8054363526</td>\n",
       "      <td>1.950536e+08</td>\n",
       "      <td>1.967069e+08</td>\n",
       "      <td>103 ST-CORONA</td>\n",
       "      <td>2</td>\n",
       "    </tr>\n",
       "    <tr>\n",
       "      <th>104 ST</th>\n",
       "      <td>418434594248</td>\n",
       "      <td>426205991966</td>\n",
       "      <td>1.146288e+10</td>\n",
       "      <td>1.188450e+10</td>\n",
       "      <td>104 ST</td>\n",
       "      <td>3</td>\n",
       "    </tr>\n",
       "    <tr>\n",
       "      <th>110 ST</th>\n",
       "      <td>3735570296</td>\n",
       "      <td>3764865417</td>\n",
       "      <td>5.675520e+07</td>\n",
       "      <td>1.105878e+08</td>\n",
       "      <td>110 ST</td>\n",
       "      <td>4</td>\n",
       "    </tr>\n",
       "  </tbody>\n",
       "</table>\n",
       "</div>"
      ],
      "text/plain": [
       "                    Entries         Exits     Entry_Inc     Exits_Inc  \\\n",
       "Station                                                                 \n",
       "1 AV           118834029691  123295093418  5.287802e+09  5.521180e+09   \n",
       "103 ST          18872875702   73397661235  3.531335e+08  3.167460e+09   \n",
       "103 ST-CORONA    8558848937    8054363526  1.950536e+08  1.967069e+08   \n",
       "104 ST         418434594248  426205991966  1.146288e+10  1.188450e+10   \n",
       "110 ST           3735570296    3764865417  5.675520e+07  1.105878e+08   \n",
       "\n",
       "                  Station_ID  Idx  \n",
       "Station                            \n",
       "1 AV                    1 AV    0  \n",
       "103 ST                103 ST    1  \n",
       "103 ST-CORONA  103 ST-CORONA    2  \n",
       "104 ST                104 ST    3  \n",
       "110 ST                110 ST    4  "
      ]
     },
     "execution_count": 16,
     "metadata": {},
     "output_type": "execute_result"
    }
   ],
   "source": [
    "q4_stn['Idx'] = np.arange(q4_stn.shape[0])\n",
    "q4_stn.head()"
   ]
  },
  {
   "cell_type": "code",
   "execution_count": null,
   "metadata": {
    "collapsed": true
   },
   "outputs": [],
   "source": []
  },
  {
   "cell_type": "code",
   "execution_count": 17,
   "metadata": {},
   "outputs": [
    {
     "data": {
      "text/html": [
       "<div>\n",
       "<style scoped>\n",
       "    .dataframe tbody tr th:only-of-type {\n",
       "        vertical-align: middle;\n",
       "    }\n",
       "\n",
       "    .dataframe tbody tr th {\n",
       "        vertical-align: top;\n",
       "    }\n",
       "\n",
       "    .dataframe thead th {\n",
       "        text-align: right;\n",
       "    }\n",
       "</style>\n",
       "<table border=\"1\" class=\"dataframe\">\n",
       "  <thead>\n",
       "    <tr style=\"text-align: right;\">\n",
       "      <th></th>\n",
       "      <th>Entries</th>\n",
       "      <th>Exits</th>\n",
       "      <th>Entry_Inc</th>\n",
       "      <th>Exits_Inc</th>\n",
       "      <th>Station_ID</th>\n",
       "    </tr>\n",
       "    <tr>\n",
       "      <th>Idx</th>\n",
       "      <th></th>\n",
       "      <th></th>\n",
       "      <th></th>\n",
       "      <th></th>\n",
       "      <th></th>\n",
       "    </tr>\n",
       "  </thead>\n",
       "  <tbody>\n",
       "    <tr>\n",
       "      <th>0</th>\n",
       "      <td>118834029691</td>\n",
       "      <td>123295093418</td>\n",
       "      <td>5.287802e+09</td>\n",
       "      <td>5.521180e+09</td>\n",
       "      <td>1 AV</td>\n",
       "    </tr>\n",
       "    <tr>\n",
       "      <th>1</th>\n",
       "      <td>18872875702</td>\n",
       "      <td>73397661235</td>\n",
       "      <td>3.531335e+08</td>\n",
       "      <td>3.167460e+09</td>\n",
       "      <td>103 ST</td>\n",
       "    </tr>\n",
       "    <tr>\n",
       "      <th>2</th>\n",
       "      <td>8558848937</td>\n",
       "      <td>8054363526</td>\n",
       "      <td>1.950536e+08</td>\n",
       "      <td>1.967069e+08</td>\n",
       "      <td>103 ST-CORONA</td>\n",
       "    </tr>\n",
       "    <tr>\n",
       "      <th>3</th>\n",
       "      <td>418434594248</td>\n",
       "      <td>426205991966</td>\n",
       "      <td>1.146288e+10</td>\n",
       "      <td>1.188450e+10</td>\n",
       "      <td>104 ST</td>\n",
       "    </tr>\n",
       "    <tr>\n",
       "      <th>4</th>\n",
       "      <td>3735570296</td>\n",
       "      <td>3764865417</td>\n",
       "      <td>5.675520e+07</td>\n",
       "      <td>1.105878e+08</td>\n",
       "      <td>110 ST</td>\n",
       "    </tr>\n",
       "  </tbody>\n",
       "</table>\n",
       "</div>"
      ],
      "text/plain": [
       "          Entries         Exits     Entry_Inc     Exits_Inc     Station_ID\n",
       "Idx                                                                       \n",
       "0    118834029691  123295093418  5.287802e+09  5.521180e+09           1 AV\n",
       "1     18872875702   73397661235  3.531335e+08  3.167460e+09         103 ST\n",
       "2      8558848937    8054363526  1.950536e+08  1.967069e+08  103 ST-CORONA\n",
       "3    418434594248  426205991966  1.146288e+10  1.188450e+10         104 ST\n",
       "4      3735570296    3764865417  5.675520e+07  1.105878e+08         110 ST"
      ]
     },
     "execution_count": 17,
     "metadata": {},
     "output_type": "execute_result"
    }
   ],
   "source": [
    "q4_stn = q4_stn.set_index('Idx')\n",
    "q4_stn.head()"
   ]
  },
  {
   "cell_type": "code",
   "execution_count": null,
   "metadata": {
    "collapsed": true
   },
   "outputs": [],
   "source": []
  },
  {
   "cell_type": "code",
   "execution_count": 20,
   "metadata": {},
   "outputs": [],
   "source": [
    "# demographic data: NYC census\n",
    "# map of startups in NYC\n",
    "# calendar of tech events\n",
    "# unicorn \n",
    "\n",
    "import seaborn as sns\n",
    "sns.set_style(\"whitegrid\")\n"
   ]
  },
  {
   "cell_type": "code",
   "execution_count": 21,
   "metadata": {},
   "outputs": [
    {
     "data": {
      "image/png": "[encoded data removed]",
      "text/plain": [
       "<matplotlib.figure.Figure at 0x1150c39e8>"
      ]
     },
     "metadata": {},
     "output_type": "display_data"
    }
   ],
   "source": [
    "ax = sns.barplot(x=\"Entry_Inc\", y='Station_ID', data=q4_stn)\n"
   ]
  },
  {
   "cell_type": "code",
   "execution_count": null,
   "metadata": {
    "collapsed": true
   },
   "outputs": [],
   "source": []
  },
  {
   "cell_type": "code",
   "execution_count": null,
   "metadata": {
    "collapsed": true
   },
   "outputs": [],
   "source": []
  },
  {
   "cell_type": "code",
   "execution_count": null,
   "metadata": {
    "collapsed": true
   },
   "outputs": [],
   "source": []
  },
  {
   "cell_type": "code",
   "execution_count": null,
   "metadata": {
    "collapsed": true
   },
   "outputs": [],
   "source": []
  },
  {
   "cell_type": "code",
   "execution_count": null,
   "metadata": {},
   "outputs": [],
   "source": [
    "q4_bydate = q4.groupby('Date').sum()\n",
    "q4_bydate.head()"
   ]
  },
  {
   "cell_type": "code",
   "execution_count": null,
   "metadata": {
    "collapsed": true
   },
   "outputs": [],
   "source": []
  },
  {
   "cell_type": "code",
   "execution_count": null,
   "metadata": {
    "collapsed": true
   },
   "outputs": [],
   "source": []
  },
  {
   "cell_type": "code",
   "execution_count": null,
   "metadata": {
    "collapsed": true
   },
   "outputs": [],
   "source": []
  },
  {
   "cell_type": "code",
   "execution_count": null,
   "metadata": {},
   "outputs": [],
   "source": [
    "q4_aggentry = q4.groupby('Station')['Entries'].sum()\n",
    "q4_aggentry = pd.DataFrame(q4_aggentry)\n",
    "q4_aggentry.head()"
   ]
  },
  {
   "cell_type": "code",
   "execution_count": null,
   "metadata": {},
   "outputs": [],
   "source": [
    "q4_aggexit = q4.groupby('Station')['Exits'].sum()\n",
    "q4_aggexit = pd.DataFrame(q4_aggexit)\n",
    "q4_aggexit.head()"
   ]
  },
  {
   "cell_type": "code",
   "execution_count": null,
   "metadata": {},
   "outputs": [],
   "source": [
    "# Entries / Exits by station\n",
    "q4 = pd.concat((q4_aggentry, q4_aggexit))\n",
    "q4 = q4.groupby('Station').sum()\n",
    "q4 = pd.DataFrame(q4)\n",
    "q4.head()"
   ]
  },
  {
   "cell_type": "code",
   "execution_count": null,
   "metadata": {},
   "outputs": [],
   "source": []
  },
  {
   "cell_type": "code",
   "execution_count": null,
   "metadata": {
    "collapsed": true
   },
   "outputs": [],
   "source": []
  }
 ],
 "metadata": {
  "kernelspec": {
   "display_name": "Python 3",
   "language": "python",
   "name": "python3"
  },
  "language_info": {
   "codemirror_mode": {
    "name": "ipython",
    "version": 3
   },
   "file_extension": ".py",
   "mimetype": "text/x-python",
   "name": "python",
   "nbconvert_exporter": "python",
   "pygments_lexer": "ipython3",
   "version": "3.5.4"
  }
 },
 "nbformat": 4,
 "nbformat_minor": 2
}
